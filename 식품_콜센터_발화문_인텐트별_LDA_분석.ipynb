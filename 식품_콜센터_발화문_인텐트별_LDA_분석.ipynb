{
  "nbformat": 4,
  "nbformat_minor": 0,
  "metadata": {
    "colab": {
      "provenance": []
    },
    "kernelspec": {
      "name": "python3",
      "display_name": "Python 3"
    },
    "language_info": {
      "name": "python"
    }
  },
  "cells": [
    {
      "cell_type": "markdown",
      "source": [
        "# 세팅"
      ],
      "metadata": {
        "id": "pY7d34s8LIAX"
      }
    },
    {
      "cell_type": "code",
      "source": [
        "pip install konlpy"
      ],
      "metadata": {
        "colab": {
          "base_uri": "https://localhost:8080/"
        },
        "id": "xRfN9Sg-LKyX",
        "outputId": "60e63dea-4be3-46f9-c825-aac6dbddacc4"
      },
      "execution_count": null,
      "outputs": [
        {
          "output_type": "stream",
          "name": "stdout",
          "text": [
            "\u001b[33mWARNING: Retrying (Retry(total=4, connect=None, read=None, redirect=None, status=None)) after connection broken by 'ProtocolError('Connection aborted.', ConnectionResetError(104, 'Connection reset by peer'))': /simple/konlpy/\u001b[0m\u001b[33m\n",
            "\u001b[0mCollecting konlpy\n",
            "  Downloading konlpy-0.6.0-py2.py3-none-any.whl (19.4 MB)\n",
            "\u001b[2K     \u001b[90m━━━━━━━━━━━━━━━━━━━━━━━━━━━━━━━━━━━━━━━━\u001b[0m \u001b[32m19.4/19.4 MB\u001b[0m \u001b[31m86.8 MB/s\u001b[0m eta \u001b[36m0:00:00\u001b[0m\n",
            "\u001b[?25hCollecting JPype1>=0.7.0 (from konlpy)\n",
            "  Downloading JPype1-1.4.1-cp310-cp310-manylinux_2_12_x86_64.manylinux2010_x86_64.whl (465 kB)\n",
            "\u001b[2K     \u001b[90m━━━━━━━━━━━━━━━━━━━━━━━━━━━━━━━━━━━━━━\u001b[0m \u001b[32m465.3/465.3 kB\u001b[0m \u001b[31m50.0 MB/s\u001b[0m eta \u001b[36m0:00:00\u001b[0m\n",
            "\u001b[?25hRequirement already satisfied: lxml>=4.1.0 in /usr/local/lib/python3.10/dist-packages (from konlpy) (4.9.3)\n",
            "Requirement already satisfied: numpy>=1.6 in /usr/local/lib/python3.10/dist-packages (from konlpy) (1.23.5)\n",
            "Requirement already satisfied: packaging in /usr/local/lib/python3.10/dist-packages (from JPype1>=0.7.0->konlpy) (23.1)\n",
            "Installing collected packages: JPype1, konlpy\n",
            "Successfully installed JPype1-1.4.1 konlpy-0.6.0\n"
          ]
        }
      ]
    },
    {
      "cell_type": "code",
      "execution_count": null,
      "metadata": {
        "id": "fxpwTiutKXG5"
      },
      "outputs": [],
      "source": [
        "import pandas as pd\n",
        "import konlpy\n",
        "from konlpy.tag import Okt\n",
        "from collections import Counter\n",
        "from sklearn.feature_extraction.text import TfidfVectorizer\n",
        "from sklearn.decomposition import LatentDirichletAllocation"
      ]
    },
    {
      "cell_type": "code",
      "source": [
        "data = pd.read_excel('/content/식품_train.xlsx')\n",
        "data"
      ],
      "metadata": {
        "colab": {
          "base_uri": "https://localhost:8080/",
          "height": 719
        },
        "id": "HarpIRtRLjGr",
        "outputId": "d3daead8-6d1f-4745-f1ec-538f3dac5a6a"
      },
      "execution_count": null,
      "outputs": [
        {
          "output_type": "execute_result",
          "data": {
            "text/plain": [
              "           IDX 발화자                                                발화문 카테고리  \\\n",
              "0            1   c  컵밥 2만원 이상을 사면 무료 배송으로 아는데 여기가 죽도 추가로 몇 개 더 주문해...   식품   \n",
              "1            2   s    박스에 합포가 되지 않을 수도 있어 정확한 답변 드리지 못하는 점 양해 부탁드립니다.   식품   \n",
              "2            3   c  해마로 기준 6개 이상이고 볶음밥 기준으로는 50개 이상인데 해마로 케이준 1봉과 ...   식품   \n",
              "3            4   s  일단 두 제품이 같이 담기면 최소 수량 부과인 6개 이상은 시스템 상 자동부과가 됩니다.   식품   \n",
              "4            5   c  마트 원데이는 무료 배송이라고 되있는데 왜 결제를 하려고 하니까 배송비 3000원이...   식품   \n",
              "...        ...  ..                                                ...  ...   \n",
              "434307  434308   s  지금 주문주신다면 내일 출고되어 토요일에 받아보실 수 있으세요. 참고 하시어 이용에...   식품   \n",
              "434308  434309   c                      지금 주문했는데요 내일 꼭 받아야 합니다 가능한지요?   식품   \n",
              "434309  434310   s       주문건은 오늘 발송됩니다. 송장번호 조회는 저녁 6시30분 이후부터 가능하세요.   식품   \n",
              "434310  434311   c                             지금 사면 수요일에 배송받을 수 있나요?   식품   \n",
              "434311  434312   s          주문하시기 전에 공지사항 확인하시면 받으시는 날짜를 예측하실 수 있습니다.   식품   \n",
              "\n",
              "          QA번호 QA여부 감성 인텐트 (대)  인텐트 (중) 인텐트 (소)  ... 수량(수치)   크기   장소   조직  \\\n",
              "0        46175    q  m      배송       비용      질문  ...    NaN  NaN  NaN  NaN   \n",
              "1        46175    a  m      배송       비용      질문  ...    NaN  NaN  NaN  NaN   \n",
              "2        40543    q  m      배송       비용      질문  ...    6.0  NaN  NaN  NaN   \n",
              "3        40543    a  m      배송       비용      질문  ...    6.0  NaN  NaN  NaN   \n",
              "4        15426    q  m      배송       비용      질문  ...    NaN  NaN  NaN  NaN   \n",
              "...        ...  ... ..     ...      ...     ...  ...    ...  ...  ...  ...   \n",
              "434307   83035    a  m      배송       날짜      요청  ...    NaN  NaN  NaN  NaN   \n",
              "434308  109688    q  m      배송       날짜      요청  ...    NaN  NaN  NaN  NaN   \n",
              "434309  109688    a  m      배송       날짜      요청  ...    NaN  NaN  NaN  NaN   \n",
              "434310  135868    q  m      배송       날짜      요청  ...    NaN  NaN  NaN  NaN   \n",
              "434311  135868    a  m      배송       날짜      요청  ...    NaN  NaN  NaN  NaN   \n",
              "\n",
              "         사람  시간   날짜      상품명    상담번호 상담내순번  \n",
              "0       NaN NaN  NaN     컵밥|죽   46175     1  \n",
              "1       NaN NaN  NaN      NaN   46175     2  \n",
              "2       NaN NaN  NaN  해마로|볶음밥   40543     1  \n",
              "3       NaN NaN  NaN      NaN   40543     2  \n",
              "4       NaN NaN  NaN      NaN   15426     1  \n",
              "...     ...  ..  ...      ...     ...   ...  \n",
              "434307  NaN NaN  토요일      NaN   83035     2  \n",
              "434308  NaN NaN  NaN      NaN  109688     1  \n",
              "434309  NaN NaN  NaN      NaN  109688     2  \n",
              "434310  NaN NaN  수요일      NaN  135868     1  \n",
              "434311  NaN NaN  NaN      NaN  135868     2  \n",
              "\n",
              "[434312 rows x 23 columns]"
            ],
            "text/html": [
              "\n",
              "  <div id=\"df-8a257c82-4c22-45bb-95c1-75aadaa8a89f\" class=\"colab-df-container\">\n",
              "    <div>\n",
              "<style scoped>\n",
              "    .dataframe tbody tr th:only-of-type {\n",
              "        vertical-align: middle;\n",
              "    }\n",
              "\n",
              "    .dataframe tbody tr th {\n",
              "        vertical-align: top;\n",
              "    }\n",
              "\n",
              "    .dataframe thead th {\n",
              "        text-align: right;\n",
              "    }\n",
              "</style>\n",
              "<table border=\"1\" class=\"dataframe\">\n",
              "  <thead>\n",
              "    <tr style=\"text-align: right;\">\n",
              "      <th></th>\n",
              "      <th>IDX</th>\n",
              "      <th>발화자</th>\n",
              "      <th>발화문</th>\n",
              "      <th>카테고리</th>\n",
              "      <th>QA번호</th>\n",
              "      <th>QA여부</th>\n",
              "      <th>감성</th>\n",
              "      <th>인텐트 (대)</th>\n",
              "      <th>인텐트 (중)</th>\n",
              "      <th>인텐트 (소)</th>\n",
              "      <th>...</th>\n",
              "      <th>수량(수치)</th>\n",
              "      <th>크기</th>\n",
              "      <th>장소</th>\n",
              "      <th>조직</th>\n",
              "      <th>사람</th>\n",
              "      <th>시간</th>\n",
              "      <th>날짜</th>\n",
              "      <th>상품명</th>\n",
              "      <th>상담번호</th>\n",
              "      <th>상담내순번</th>\n",
              "    </tr>\n",
              "  </thead>\n",
              "  <tbody>\n",
              "    <tr>\n",
              "      <th>0</th>\n",
              "      <td>1</td>\n",
              "      <td>c</td>\n",
              "      <td>컵밥 2만원 이상을 사면 무료 배송으로 아는데 여기가 죽도 추가로 몇 개 더 주문해...</td>\n",
              "      <td>식품</td>\n",
              "      <td>46175</td>\n",
              "      <td>q</td>\n",
              "      <td>m</td>\n",
              "      <td>배송</td>\n",
              "      <td>비용</td>\n",
              "      <td>질문</td>\n",
              "      <td>...</td>\n",
              "      <td>NaN</td>\n",
              "      <td>NaN</td>\n",
              "      <td>NaN</td>\n",
              "      <td>NaN</td>\n",
              "      <td>NaN</td>\n",
              "      <td>NaN</td>\n",
              "      <td>NaN</td>\n",
              "      <td>컵밥|죽</td>\n",
              "      <td>46175</td>\n",
              "      <td>1</td>\n",
              "    </tr>\n",
              "    <tr>\n",
              "      <th>1</th>\n",
              "      <td>2</td>\n",
              "      <td>s</td>\n",
              "      <td>박스에 합포가 되지 않을 수도 있어 정확한 답변 드리지 못하는 점 양해 부탁드립니다.</td>\n",
              "      <td>식품</td>\n",
              "      <td>46175</td>\n",
              "      <td>a</td>\n",
              "      <td>m</td>\n",
              "      <td>배송</td>\n",
              "      <td>비용</td>\n",
              "      <td>질문</td>\n",
              "      <td>...</td>\n",
              "      <td>NaN</td>\n",
              "      <td>NaN</td>\n",
              "      <td>NaN</td>\n",
              "      <td>NaN</td>\n",
              "      <td>NaN</td>\n",
              "      <td>NaN</td>\n",
              "      <td>NaN</td>\n",
              "      <td>NaN</td>\n",
              "      <td>46175</td>\n",
              "      <td>2</td>\n",
              "    </tr>\n",
              "    <tr>\n",
              "      <th>2</th>\n",
              "      <td>3</td>\n",
              "      <td>c</td>\n",
              "      <td>해마로 기준 6개 이상이고 볶음밥 기준으로는 50개 이상인데 해마로 케이준 1봉과 ...</td>\n",
              "      <td>식품</td>\n",
              "      <td>40543</td>\n",
              "      <td>q</td>\n",
              "      <td>m</td>\n",
              "      <td>배송</td>\n",
              "      <td>비용</td>\n",
              "      <td>질문</td>\n",
              "      <td>...</td>\n",
              "      <td>6.0</td>\n",
              "      <td>NaN</td>\n",
              "      <td>NaN</td>\n",
              "      <td>NaN</td>\n",
              "      <td>NaN</td>\n",
              "      <td>NaN</td>\n",
              "      <td>NaN</td>\n",
              "      <td>해마로|볶음밥</td>\n",
              "      <td>40543</td>\n",
              "      <td>1</td>\n",
              "    </tr>\n",
              "    <tr>\n",
              "      <th>3</th>\n",
              "      <td>4</td>\n",
              "      <td>s</td>\n",
              "      <td>일단 두 제품이 같이 담기면 최소 수량 부과인 6개 이상은 시스템 상 자동부과가 됩니다.</td>\n",
              "      <td>식품</td>\n",
              "      <td>40543</td>\n",
              "      <td>a</td>\n",
              "      <td>m</td>\n",
              "      <td>배송</td>\n",
              "      <td>비용</td>\n",
              "      <td>질문</td>\n",
              "      <td>...</td>\n",
              "      <td>6.0</td>\n",
              "      <td>NaN</td>\n",
              "      <td>NaN</td>\n",
              "      <td>NaN</td>\n",
              "      <td>NaN</td>\n",
              "      <td>NaN</td>\n",
              "      <td>NaN</td>\n",
              "      <td>NaN</td>\n",
              "      <td>40543</td>\n",
              "      <td>2</td>\n",
              "    </tr>\n",
              "    <tr>\n",
              "      <th>4</th>\n",
              "      <td>5</td>\n",
              "      <td>c</td>\n",
              "      <td>마트 원데이는 무료 배송이라고 되있는데 왜 결제를 하려고 하니까 배송비 3000원이...</td>\n",
              "      <td>식품</td>\n",
              "      <td>15426</td>\n",
              "      <td>q</td>\n",
              "      <td>m</td>\n",
              "      <td>배송</td>\n",
              "      <td>비용</td>\n",
              "      <td>질문</td>\n",
              "      <td>...</td>\n",
              "      <td>NaN</td>\n",
              "      <td>NaN</td>\n",
              "      <td>NaN</td>\n",
              "      <td>NaN</td>\n",
              "      <td>NaN</td>\n",
              "      <td>NaN</td>\n",
              "      <td>NaN</td>\n",
              "      <td>NaN</td>\n",
              "      <td>15426</td>\n",
              "      <td>1</td>\n",
              "    </tr>\n",
              "    <tr>\n",
              "      <th>...</th>\n",
              "      <td>...</td>\n",
              "      <td>...</td>\n",
              "      <td>...</td>\n",
              "      <td>...</td>\n",
              "      <td>...</td>\n",
              "      <td>...</td>\n",
              "      <td>...</td>\n",
              "      <td>...</td>\n",
              "      <td>...</td>\n",
              "      <td>...</td>\n",
              "      <td>...</td>\n",
              "      <td>...</td>\n",
              "      <td>...</td>\n",
              "      <td>...</td>\n",
              "      <td>...</td>\n",
              "      <td>...</td>\n",
              "      <td>...</td>\n",
              "      <td>...</td>\n",
              "      <td>...</td>\n",
              "      <td>...</td>\n",
              "      <td>...</td>\n",
              "    </tr>\n",
              "    <tr>\n",
              "      <th>434307</th>\n",
              "      <td>434308</td>\n",
              "      <td>s</td>\n",
              "      <td>지금 주문주신다면 내일 출고되어 토요일에 받아보실 수 있으세요. 참고 하시어 이용에...</td>\n",
              "      <td>식품</td>\n",
              "      <td>83035</td>\n",
              "      <td>a</td>\n",
              "      <td>m</td>\n",
              "      <td>배송</td>\n",
              "      <td>날짜</td>\n",
              "      <td>요청</td>\n",
              "      <td>...</td>\n",
              "      <td>NaN</td>\n",
              "      <td>NaN</td>\n",
              "      <td>NaN</td>\n",
              "      <td>NaN</td>\n",
              "      <td>NaN</td>\n",
              "      <td>NaN</td>\n",
              "      <td>토요일</td>\n",
              "      <td>NaN</td>\n",
              "      <td>83035</td>\n",
              "      <td>2</td>\n",
              "    </tr>\n",
              "    <tr>\n",
              "      <th>434308</th>\n",
              "      <td>434309</td>\n",
              "      <td>c</td>\n",
              "      <td>지금 주문했는데요 내일 꼭 받아야 합니다 가능한지요?</td>\n",
              "      <td>식품</td>\n",
              "      <td>109688</td>\n",
              "      <td>q</td>\n",
              "      <td>m</td>\n",
              "      <td>배송</td>\n",
              "      <td>날짜</td>\n",
              "      <td>요청</td>\n",
              "      <td>...</td>\n",
              "      <td>NaN</td>\n",
              "      <td>NaN</td>\n",
              "      <td>NaN</td>\n",
              "      <td>NaN</td>\n",
              "      <td>NaN</td>\n",
              "      <td>NaN</td>\n",
              "      <td>NaN</td>\n",
              "      <td>NaN</td>\n",
              "      <td>109688</td>\n",
              "      <td>1</td>\n",
              "    </tr>\n",
              "    <tr>\n",
              "      <th>434309</th>\n",
              "      <td>434310</td>\n",
              "      <td>s</td>\n",
              "      <td>주문건은 오늘 발송됩니다. 송장번호 조회는 저녁 6시30분 이후부터 가능하세요.</td>\n",
              "      <td>식품</td>\n",
              "      <td>109688</td>\n",
              "      <td>a</td>\n",
              "      <td>m</td>\n",
              "      <td>배송</td>\n",
              "      <td>날짜</td>\n",
              "      <td>요청</td>\n",
              "      <td>...</td>\n",
              "      <td>NaN</td>\n",
              "      <td>NaN</td>\n",
              "      <td>NaN</td>\n",
              "      <td>NaN</td>\n",
              "      <td>NaN</td>\n",
              "      <td>NaN</td>\n",
              "      <td>NaN</td>\n",
              "      <td>NaN</td>\n",
              "      <td>109688</td>\n",
              "      <td>2</td>\n",
              "    </tr>\n",
              "    <tr>\n",
              "      <th>434310</th>\n",
              "      <td>434311</td>\n",
              "      <td>c</td>\n",
              "      <td>지금 사면 수요일에 배송받을 수 있나요?</td>\n",
              "      <td>식품</td>\n",
              "      <td>135868</td>\n",
              "      <td>q</td>\n",
              "      <td>m</td>\n",
              "      <td>배송</td>\n",
              "      <td>날짜</td>\n",
              "      <td>요청</td>\n",
              "      <td>...</td>\n",
              "      <td>NaN</td>\n",
              "      <td>NaN</td>\n",
              "      <td>NaN</td>\n",
              "      <td>NaN</td>\n",
              "      <td>NaN</td>\n",
              "      <td>NaN</td>\n",
              "      <td>수요일</td>\n",
              "      <td>NaN</td>\n",
              "      <td>135868</td>\n",
              "      <td>1</td>\n",
              "    </tr>\n",
              "    <tr>\n",
              "      <th>434311</th>\n",
              "      <td>434312</td>\n",
              "      <td>s</td>\n",
              "      <td>주문하시기 전에 공지사항 확인하시면 받으시는 날짜를 예측하실 수 있습니다.</td>\n",
              "      <td>식품</td>\n",
              "      <td>135868</td>\n",
              "      <td>a</td>\n",
              "      <td>m</td>\n",
              "      <td>배송</td>\n",
              "      <td>날짜</td>\n",
              "      <td>요청</td>\n",
              "      <td>...</td>\n",
              "      <td>NaN</td>\n",
              "      <td>NaN</td>\n",
              "      <td>NaN</td>\n",
              "      <td>NaN</td>\n",
              "      <td>NaN</td>\n",
              "      <td>NaN</td>\n",
              "      <td>NaN</td>\n",
              "      <td>NaN</td>\n",
              "      <td>135868</td>\n",
              "      <td>2</td>\n",
              "    </tr>\n",
              "  </tbody>\n",
              "</table>\n",
              "<p>434312 rows × 23 columns</p>\n",
              "</div>\n",
              "    <div class=\"colab-df-buttons\">\n",
              "\n",
              "  <div class=\"colab-df-container\">\n",
              "    <button class=\"colab-df-convert\" onclick=\"convertToInteractive('df-8a257c82-4c22-45bb-95c1-75aadaa8a89f')\"\n",
              "            title=\"Convert this dataframe to an interactive table.\"\n",
              "            style=\"display:none;\">\n",
              "\n",
              "  <svg xmlns=\"http://www.w3.org/2000/svg\" height=\"24px\" viewBox=\"0 -960 960 960\">\n",
              "    <path d=\"M120-120v-720h720v720H120Zm60-500h600v-160H180v160Zm220 220h160v-160H400v160Zm0 220h160v-160H400v160ZM180-400h160v-160H180v160Zm440 0h160v-160H620v160ZM180-180h160v-160H180v160Zm440 0h160v-160H620v160Z\"/>\n",
              "  </svg>\n",
              "    </button>\n",
              "\n",
              "  <style>\n",
              "    .colab-df-container {\n",
              "      display:flex;\n",
              "      gap: 12px;\n",
              "    }\n",
              "\n",
              "    .colab-df-convert {\n",
              "      background-color: #E8F0FE;\n",
              "      border: none;\n",
              "      border-radius: 50%;\n",
              "      cursor: pointer;\n",
              "      display: none;\n",
              "      fill: #1967D2;\n",
              "      height: 32px;\n",
              "      padding: 0 0 0 0;\n",
              "      width: 32px;\n",
              "    }\n",
              "\n",
              "    .colab-df-convert:hover {\n",
              "      background-color: #E2EBFA;\n",
              "      box-shadow: 0px 1px 2px rgba(60, 64, 67, 0.3), 0px 1px 3px 1px rgba(60, 64, 67, 0.15);\n",
              "      fill: #174EA6;\n",
              "    }\n",
              "\n",
              "    .colab-df-buttons div {\n",
              "      margin-bottom: 4px;\n",
              "    }\n",
              "\n",
              "    [theme=dark] .colab-df-convert {\n",
              "      background-color: #3B4455;\n",
              "      fill: #D2E3FC;\n",
              "    }\n",
              "\n",
              "    [theme=dark] .colab-df-convert:hover {\n",
              "      background-color: #434B5C;\n",
              "      box-shadow: 0px 1px 3px 1px rgba(0, 0, 0, 0.15);\n",
              "      filter: drop-shadow(0px 1px 2px rgba(0, 0, 0, 0.3));\n",
              "      fill: #FFFFFF;\n",
              "    }\n",
              "  </style>\n",
              "\n",
              "    <script>\n",
              "      const buttonEl =\n",
              "        document.querySelector('#df-8a257c82-4c22-45bb-95c1-75aadaa8a89f button.colab-df-convert');\n",
              "      buttonEl.style.display =\n",
              "        google.colab.kernel.accessAllowed ? 'block' : 'none';\n",
              "\n",
              "      async function convertToInteractive(key) {\n",
              "        const element = document.querySelector('#df-8a257c82-4c22-45bb-95c1-75aadaa8a89f');\n",
              "        const dataTable =\n",
              "          await google.colab.kernel.invokeFunction('convertToInteractive',\n",
              "                                                    [key], {});\n",
              "        if (!dataTable) return;\n",
              "\n",
              "        const docLinkHtml = 'Like what you see? Visit the ' +\n",
              "          '<a target=\"_blank\" href=https://colab.research.google.com/notebooks/data_table.ipynb>data table notebook</a>'\n",
              "          + ' to learn more about interactive tables.';\n",
              "        element.innerHTML = '';\n",
              "        dataTable['output_type'] = 'display_data';\n",
              "        await google.colab.output.renderOutput(dataTable, element);\n",
              "        const docLink = document.createElement('div');\n",
              "        docLink.innerHTML = docLinkHtml;\n",
              "        element.appendChild(docLink);\n",
              "      }\n",
              "    </script>\n",
              "  </div>\n",
              "\n",
              "\n",
              "<div id=\"df-5dd198a9-10a3-4f17-9802-938046f07d85\">\n",
              "  <button class=\"colab-df-quickchart\" onclick=\"quickchart('df-5dd198a9-10a3-4f17-9802-938046f07d85')\"\n",
              "            title=\"Suggest charts.\"\n",
              "            style=\"display:none;\">\n",
              "\n",
              "<svg xmlns=\"http://www.w3.org/2000/svg\" height=\"24px\"viewBox=\"0 0 24 24\"\n",
              "     width=\"24px\">\n",
              "    <g>\n",
              "        <path d=\"M19 3H5c-1.1 0-2 .9-2 2v14c0 1.1.9 2 2 2h14c1.1 0 2-.9 2-2V5c0-1.1-.9-2-2-2zM9 17H7v-7h2v7zm4 0h-2V7h2v10zm4 0h-2v-4h2v4z\"/>\n",
              "    </g>\n",
              "</svg>\n",
              "  </button>\n",
              "\n",
              "<style>\n",
              "  .colab-df-quickchart {\n",
              "      --bg-color: #E8F0FE;\n",
              "      --fill-color: #1967D2;\n",
              "      --hover-bg-color: #E2EBFA;\n",
              "      --hover-fill-color: #174EA6;\n",
              "      --disabled-fill-color: #AAA;\n",
              "      --disabled-bg-color: #DDD;\n",
              "  }\n",
              "\n",
              "  [theme=dark] .colab-df-quickchart {\n",
              "      --bg-color: #3B4455;\n",
              "      --fill-color: #D2E3FC;\n",
              "      --hover-bg-color: #434B5C;\n",
              "      --hover-fill-color: #FFFFFF;\n",
              "      --disabled-bg-color: #3B4455;\n",
              "      --disabled-fill-color: #666;\n",
              "  }\n",
              "\n",
              "  .colab-df-quickchart {\n",
              "    background-color: var(--bg-color);\n",
              "    border: none;\n",
              "    border-radius: 50%;\n",
              "    cursor: pointer;\n",
              "    display: none;\n",
              "    fill: var(--fill-color);\n",
              "    height: 32px;\n",
              "    padding: 0;\n",
              "    width: 32px;\n",
              "  }\n",
              "\n",
              "  .colab-df-quickchart:hover {\n",
              "    background-color: var(--hover-bg-color);\n",
              "    box-shadow: 0 1px 2px rgba(60, 64, 67, 0.3), 0 1px 3px 1px rgba(60, 64, 67, 0.15);\n",
              "    fill: var(--button-hover-fill-color);\n",
              "  }\n",
              "\n",
              "  .colab-df-quickchart-complete:disabled,\n",
              "  .colab-df-quickchart-complete:disabled:hover {\n",
              "    background-color: var(--disabled-bg-color);\n",
              "    fill: var(--disabled-fill-color);\n",
              "    box-shadow: none;\n",
              "  }\n",
              "\n",
              "  .colab-df-spinner {\n",
              "    border: 2px solid var(--fill-color);\n",
              "    border-color: transparent;\n",
              "    border-bottom-color: var(--fill-color);\n",
              "    animation:\n",
              "      spin 1s steps(1) infinite;\n",
              "  }\n",
              "\n",
              "  @keyframes spin {\n",
              "    0% {\n",
              "      border-color: transparent;\n",
              "      border-bottom-color: var(--fill-color);\n",
              "      border-left-color: var(--fill-color);\n",
              "    }\n",
              "    20% {\n",
              "      border-color: transparent;\n",
              "      border-left-color: var(--fill-color);\n",
              "      border-top-color: var(--fill-color);\n",
              "    }\n",
              "    30% {\n",
              "      border-color: transparent;\n",
              "      border-left-color: var(--fill-color);\n",
              "      border-top-color: var(--fill-color);\n",
              "      border-right-color: var(--fill-color);\n",
              "    }\n",
              "    40% {\n",
              "      border-color: transparent;\n",
              "      border-right-color: var(--fill-color);\n",
              "      border-top-color: var(--fill-color);\n",
              "    }\n",
              "    60% {\n",
              "      border-color: transparent;\n",
              "      border-right-color: var(--fill-color);\n",
              "    }\n",
              "    80% {\n",
              "      border-color: transparent;\n",
              "      border-right-color: var(--fill-color);\n",
              "      border-bottom-color: var(--fill-color);\n",
              "    }\n",
              "    90% {\n",
              "      border-color: transparent;\n",
              "      border-bottom-color: var(--fill-color);\n",
              "    }\n",
              "  }\n",
              "</style>\n",
              "\n",
              "  <script>\n",
              "    async function quickchart(key) {\n",
              "      const quickchartButtonEl =\n",
              "        document.querySelector('#' + key + ' button');\n",
              "      quickchartButtonEl.disabled = true;  // To prevent multiple clicks.\n",
              "      quickchartButtonEl.classList.add('colab-df-spinner');\n",
              "      try {\n",
              "        const charts = await google.colab.kernel.invokeFunction(\n",
              "            'suggestCharts', [key], {});\n",
              "      } catch (error) {\n",
              "        console.error('Error during call to suggestCharts:', error);\n",
              "      }\n",
              "      quickchartButtonEl.classList.remove('colab-df-spinner');\n",
              "      quickchartButtonEl.classList.add('colab-df-quickchart-complete');\n",
              "    }\n",
              "    (() => {\n",
              "      let quickchartButtonEl =\n",
              "        document.querySelector('#df-5dd198a9-10a3-4f17-9802-938046f07d85 button');\n",
              "      quickchartButtonEl.style.display =\n",
              "        google.colab.kernel.accessAllowed ? 'block' : 'none';\n",
              "    })();\n",
              "  </script>\n",
              "</div>\n",
              "    </div>\n",
              "  </div>\n"
            ]
          },
          "metadata": {},
          "execution_count": 4
        }
      ]
    },
    {
      "cell_type": "markdown",
      "source": [
        "# 제품 키워드 토픽 모델링"
      ],
      "metadata": {
        "id": "u0jPHHP4hfey"
      }
    },
    {
      "cell_type": "code",
      "source": [
        "df = data[(data['인텐트 (대)']=='제품')]\n",
        "text = df[['발화문']]\n",
        "text.head(5)"
      ],
      "metadata": {
        "colab": {
          "base_uri": "https://localhost:8080/",
          "height": 206
        },
        "id": "Nbl3r6xohZZJ",
        "outputId": "f961beba-9b24-44bf-a774-b56651f8f7f0"
      },
      "execution_count": null,
      "outputs": [
        {
          "output_type": "execute_result",
          "data": {
            "text/plain": [
              "                                                    발화문\n",
              "2988  혹시 일리네스 프레소 캡슐 클래시 코랑룽고 차이가요룽고는 물양 많이 뽑아도 클래시코...\n",
              "2989                      룽고 제품이 클래시코 제품보다 추출량이 더 많습니다.\n",
              "2990                          꿀밤고구마랑 그냥 밤고구마랑 뭐가 다른 가요?\n",
              "2991                  세척 꿀밤고구마 2018년 햇꿀고구마부터 출고될 예정입니다.\n",
              "2992                     숄더랙을 주문하고 싶은데 냉장과 냉동의 차이가 클까요?"
            ],
            "text/html": [
              "\n",
              "  <div id=\"df-22419ce0-3036-4df4-b087-e542f5c9c76c\" class=\"colab-df-container\">\n",
              "    <div>\n",
              "<style scoped>\n",
              "    .dataframe tbody tr th:only-of-type {\n",
              "        vertical-align: middle;\n",
              "    }\n",
              "\n",
              "    .dataframe tbody tr th {\n",
              "        vertical-align: top;\n",
              "    }\n",
              "\n",
              "    .dataframe thead th {\n",
              "        text-align: right;\n",
              "    }\n",
              "</style>\n",
              "<table border=\"1\" class=\"dataframe\">\n",
              "  <thead>\n",
              "    <tr style=\"text-align: right;\">\n",
              "      <th></th>\n",
              "      <th>발화문</th>\n",
              "    </tr>\n",
              "  </thead>\n",
              "  <tbody>\n",
              "    <tr>\n",
              "      <th>2988</th>\n",
              "      <td>혹시 일리네스 프레소 캡슐 클래시 코랑룽고 차이가요룽고는 물양 많이 뽑아도 클래시코...</td>\n",
              "    </tr>\n",
              "    <tr>\n",
              "      <th>2989</th>\n",
              "      <td>룽고 제품이 클래시코 제품보다 추출량이 더 많습니다.</td>\n",
              "    </tr>\n",
              "    <tr>\n",
              "      <th>2990</th>\n",
              "      <td>꿀밤고구마랑 그냥 밤고구마랑 뭐가 다른 가요?</td>\n",
              "    </tr>\n",
              "    <tr>\n",
              "      <th>2991</th>\n",
              "      <td>세척 꿀밤고구마 2018년 햇꿀고구마부터 출고될 예정입니다.</td>\n",
              "    </tr>\n",
              "    <tr>\n",
              "      <th>2992</th>\n",
              "      <td>숄더랙을 주문하고 싶은데 냉장과 냉동의 차이가 클까요?</td>\n",
              "    </tr>\n",
              "  </tbody>\n",
              "</table>\n",
              "</div>\n",
              "    <div class=\"colab-df-buttons\">\n",
              "\n",
              "  <div class=\"colab-df-container\">\n",
              "    <button class=\"colab-df-convert\" onclick=\"convertToInteractive('df-22419ce0-3036-4df4-b087-e542f5c9c76c')\"\n",
              "            title=\"Convert this dataframe to an interactive table.\"\n",
              "            style=\"display:none;\">\n",
              "\n",
              "  <svg xmlns=\"http://www.w3.org/2000/svg\" height=\"24px\" viewBox=\"0 -960 960 960\">\n",
              "    <path d=\"M120-120v-720h720v720H120Zm60-500h600v-160H180v160Zm220 220h160v-160H400v160Zm0 220h160v-160H400v160ZM180-400h160v-160H180v160Zm440 0h160v-160H620v160ZM180-180h160v-160H180v160Zm440 0h160v-160H620v160Z\"/>\n",
              "  </svg>\n",
              "    </button>\n",
              "\n",
              "  <style>\n",
              "    .colab-df-container {\n",
              "      display:flex;\n",
              "      gap: 12px;\n",
              "    }\n",
              "\n",
              "    .colab-df-convert {\n",
              "      background-color: #E8F0FE;\n",
              "      border: none;\n",
              "      border-radius: 50%;\n",
              "      cursor: pointer;\n",
              "      display: none;\n",
              "      fill: #1967D2;\n",
              "      height: 32px;\n",
              "      padding: 0 0 0 0;\n",
              "      width: 32px;\n",
              "    }\n",
              "\n",
              "    .colab-df-convert:hover {\n",
              "      background-color: #E2EBFA;\n",
              "      box-shadow: 0px 1px 2px rgba(60, 64, 67, 0.3), 0px 1px 3px 1px rgba(60, 64, 67, 0.15);\n",
              "      fill: #174EA6;\n",
              "    }\n",
              "\n",
              "    .colab-df-buttons div {\n",
              "      margin-bottom: 4px;\n",
              "    }\n",
              "\n",
              "    [theme=dark] .colab-df-convert {\n",
              "      background-color: #3B4455;\n",
              "      fill: #D2E3FC;\n",
              "    }\n",
              "\n",
              "    [theme=dark] .colab-df-convert:hover {\n",
              "      background-color: #434B5C;\n",
              "      box-shadow: 0px 1px 3px 1px rgba(0, 0, 0, 0.15);\n",
              "      filter: drop-shadow(0px 1px 2px rgba(0, 0, 0, 0.3));\n",
              "      fill: #FFFFFF;\n",
              "    }\n",
              "  </style>\n",
              "\n",
              "    <script>\n",
              "      const buttonEl =\n",
              "        document.querySelector('#df-22419ce0-3036-4df4-b087-e542f5c9c76c button.colab-df-convert');\n",
              "      buttonEl.style.display =\n",
              "        google.colab.kernel.accessAllowed ? 'block' : 'none';\n",
              "\n",
              "      async function convertToInteractive(key) {\n",
              "        const element = document.querySelector('#df-22419ce0-3036-4df4-b087-e542f5c9c76c');\n",
              "        const dataTable =\n",
              "          await google.colab.kernel.invokeFunction('convertToInteractive',\n",
              "                                                    [key], {});\n",
              "        if (!dataTable) return;\n",
              "\n",
              "        const docLinkHtml = 'Like what you see? Visit the ' +\n",
              "          '<a target=\"_blank\" href=https://colab.research.google.com/notebooks/data_table.ipynb>data table notebook</a>'\n",
              "          + ' to learn more about interactive tables.';\n",
              "        element.innerHTML = '';\n",
              "        dataTable['output_type'] = 'display_data';\n",
              "        await google.colab.output.renderOutput(dataTable, element);\n",
              "        const docLink = document.createElement('div');\n",
              "        docLink.innerHTML = docLinkHtml;\n",
              "        element.appendChild(docLink);\n",
              "      }\n",
              "    </script>\n",
              "  </div>\n",
              "\n",
              "\n",
              "<div id=\"df-133ee922-0a24-4cea-990f-2a9c3d00b366\">\n",
              "  <button class=\"colab-df-quickchart\" onclick=\"quickchart('df-133ee922-0a24-4cea-990f-2a9c3d00b366')\"\n",
              "            title=\"Suggest charts.\"\n",
              "            style=\"display:none;\">\n",
              "\n",
              "<svg xmlns=\"http://www.w3.org/2000/svg\" height=\"24px\"viewBox=\"0 0 24 24\"\n",
              "     width=\"24px\">\n",
              "    <g>\n",
              "        <path d=\"M19 3H5c-1.1 0-2 .9-2 2v14c0 1.1.9 2 2 2h14c1.1 0 2-.9 2-2V5c0-1.1-.9-2-2-2zM9 17H7v-7h2v7zm4 0h-2V7h2v10zm4 0h-2v-4h2v4z\"/>\n",
              "    </g>\n",
              "</svg>\n",
              "  </button>\n",
              "\n",
              "<style>\n",
              "  .colab-df-quickchart {\n",
              "      --bg-color: #E8F0FE;\n",
              "      --fill-color: #1967D2;\n",
              "      --hover-bg-color: #E2EBFA;\n",
              "      --hover-fill-color: #174EA6;\n",
              "      --disabled-fill-color: #AAA;\n",
              "      --disabled-bg-color: #DDD;\n",
              "  }\n",
              "\n",
              "  [theme=dark] .colab-df-quickchart {\n",
              "      --bg-color: #3B4455;\n",
              "      --fill-color: #D2E3FC;\n",
              "      --hover-bg-color: #434B5C;\n",
              "      --hover-fill-color: #FFFFFF;\n",
              "      --disabled-bg-color: #3B4455;\n",
              "      --disabled-fill-color: #666;\n",
              "  }\n",
              "\n",
              "  .colab-df-quickchart {\n",
              "    background-color: var(--bg-color);\n",
              "    border: none;\n",
              "    border-radius: 50%;\n",
              "    cursor: pointer;\n",
              "    display: none;\n",
              "    fill: var(--fill-color);\n",
              "    height: 32px;\n",
              "    padding: 0;\n",
              "    width: 32px;\n",
              "  }\n",
              "\n",
              "  .colab-df-quickchart:hover {\n",
              "    background-color: var(--hover-bg-color);\n",
              "    box-shadow: 0 1px 2px rgba(60, 64, 67, 0.3), 0 1px 3px 1px rgba(60, 64, 67, 0.15);\n",
              "    fill: var(--button-hover-fill-color);\n",
              "  }\n",
              "\n",
              "  .colab-df-quickchart-complete:disabled,\n",
              "  .colab-df-quickchart-complete:disabled:hover {\n",
              "    background-color: var(--disabled-bg-color);\n",
              "    fill: var(--disabled-fill-color);\n",
              "    box-shadow: none;\n",
              "  }\n",
              "\n",
              "  .colab-df-spinner {\n",
              "    border: 2px solid var(--fill-color);\n",
              "    border-color: transparent;\n",
              "    border-bottom-color: var(--fill-color);\n",
              "    animation:\n",
              "      spin 1s steps(1) infinite;\n",
              "  }\n",
              "\n",
              "  @keyframes spin {\n",
              "    0% {\n",
              "      border-color: transparent;\n",
              "      border-bottom-color: var(--fill-color);\n",
              "      border-left-color: var(--fill-color);\n",
              "    }\n",
              "    20% {\n",
              "      border-color: transparent;\n",
              "      border-left-color: var(--fill-color);\n",
              "      border-top-color: var(--fill-color);\n",
              "    }\n",
              "    30% {\n",
              "      border-color: transparent;\n",
              "      border-left-color: var(--fill-color);\n",
              "      border-top-color: var(--fill-color);\n",
              "      border-right-color: var(--fill-color);\n",
              "    }\n",
              "    40% {\n",
              "      border-color: transparent;\n",
              "      border-right-color: var(--fill-color);\n",
              "      border-top-color: var(--fill-color);\n",
              "    }\n",
              "    60% {\n",
              "      border-color: transparent;\n",
              "      border-right-color: var(--fill-color);\n",
              "    }\n",
              "    80% {\n",
              "      border-color: transparent;\n",
              "      border-right-color: var(--fill-color);\n",
              "      border-bottom-color: var(--fill-color);\n",
              "    }\n",
              "    90% {\n",
              "      border-color: transparent;\n",
              "      border-bottom-color: var(--fill-color);\n",
              "    }\n",
              "  }\n",
              "</style>\n",
              "\n",
              "  <script>\n",
              "    async function quickchart(key) {\n",
              "      const quickchartButtonEl =\n",
              "        document.querySelector('#' + key + ' button');\n",
              "      quickchartButtonEl.disabled = true;  // To prevent multiple clicks.\n",
              "      quickchartButtonEl.classList.add('colab-df-spinner');\n",
              "      try {\n",
              "        const charts = await google.colab.kernel.invokeFunction(\n",
              "            'suggestCharts', [key], {});\n",
              "      } catch (error) {\n",
              "        console.error('Error during call to suggestCharts:', error);\n",
              "      }\n",
              "      quickchartButtonEl.classList.remove('colab-df-spinner');\n",
              "      quickchartButtonEl.classList.add('colab-df-quickchart-complete');\n",
              "    }\n",
              "    (() => {\n",
              "      let quickchartButtonEl =\n",
              "        document.querySelector('#df-133ee922-0a24-4cea-990f-2a9c3d00b366 button');\n",
              "      quickchartButtonEl.style.display =\n",
              "        google.colab.kernel.accessAllowed ? 'block' : 'none';\n",
              "    })();\n",
              "  </script>\n",
              "</div>\n",
              "    </div>\n",
              "  </div>\n"
            ]
          },
          "metadata": {},
          "execution_count": 5
        }
      ]
    },
    {
      "cell_type": "markdown",
      "source": [
        "## 텍스트 전처리"
      ],
      "metadata": {
        "id": "VnJfRXQ4M8IP"
      }
    },
    {
      "cell_type": "code",
      "source": [
        "# konlpy의 Okt 객체를 생성\n",
        "okt = Okt()\n",
        "\n",
        "# 'headline_text' 열의 각 행에 대해 한국어 토큰화 수행\n",
        "def tokenize_korean_text(row):\n",
        "    return okt.nouns(row['발화문'])"
      ],
      "metadata": {
        "id": "p-dUZubhM9DC"
      },
      "execution_count": null,
      "outputs": []
    },
    {
      "cell_type": "code",
      "source": [
        "text['발화문'] = text.apply(tokenize_korean_text, axis=1)"
      ],
      "metadata": {
        "colab": {
          "base_uri": "https://localhost:8080/"
        },
        "id": "8Sv5u1EwR4am",
        "outputId": "8b9e9864-0001-4a48-bda4-43df5f67866d"
      },
      "execution_count": null,
      "outputs": [
        {
          "output_type": "stream",
          "name": "stderr",
          "text": [
            "<ipython-input-7-2bd7be021410>:1: SettingWithCopyWarning: \n",
            "A value is trying to be set on a copy of a slice from a DataFrame.\n",
            "Try using .loc[row_indexer,col_indexer] = value instead\n",
            "\n",
            "See the caveats in the documentation: https://pandas.pydata.org/pandas-docs/stable/user_guide/indexing.html#returning-a-view-versus-a-copy\n",
            "  text['발화문'] = text.apply(tokenize_korean_text, axis=1)\n"
          ]
        }
      ]
    },
    {
      "cell_type": "code",
      "source": [
        "#불용어 리스트\n",
        "import chardet\n",
        "\n",
        "# 파일의 인코딩을 감지합니다.\n",
        "file_path = '/content/stopwords-ko.txt'\n",
        "with open(file_path, 'rb') as file:\n",
        "    result = chardet.detect(file.read())\n",
        "\n",
        "# 감지된 인코딩을 사용하여 파일을 다시 엽니다.\n",
        "correct_encoding = result['encoding']\n",
        "with open(file_path, 'r', encoding=correct_encoding) as file:\n",
        "    stopwords = [line.strip() for line in file.readlines()]\n",
        "\n",
        "print(stopwords)"
      ],
      "metadata": {
        "colab": {
          "base_uri": "https://localhost:8080/"
        },
        "id": "zgx0RnZmWV6N",
        "outputId": "d7b52922-feca-4ed2-c730-09863c806752"
      },
      "execution_count": null,
      "outputs": [
        {
          "output_type": "stream",
          "name": "stdout",
          "text": [
            "['아', '휴', '아이구', '아이쿠', '아이고', '어', '나', '우리', '저희', '따라', '의해', '을', '를', '에', '의', '가', '으로', '로', '에게', '뿐이다', '의거하여', '근거하여', '입각하여', '기준으로', '예하면', '예를 들면', '예를 들자면', '저', '소인', '소생', '저희', '지말고', '하지마', '하지마라', '다른', '물론', '또한', '그리고', '비길수 없다', '해서는 안된다', '뿐만 아니라', '만이 아니다', '만은 아니다', '막론하고', '관계없이', '그치지 않다', '그러나', '그런데', '하지만', '든간에', '논하지 않다', '따지지 않다', '설사', '비록', '더라도', '아니면', '만 못하다', '하는 편이 낫다', '불문하고', '향하여', '향해서', '향하다', '쪽으로', '틈타', '이용하여', '타다', '오르다', '제외하고', '이 외에', '이 밖에', '하여야', '비로소', '한다면 몰라도', '외에도', '이곳', '여기', '부터', '기점으로', '따라서', '할 생각이다', '하려고하다', '이리하여', '그리하여', '그렇게 함으로써', '하지만', '일때', '할때', '앞에서', '중에서', '보는데서', '으로써', '로써', '까지', '해야한다', '일것이다', '반드시', '할줄알다', '할수있다', '할수있어', '임에 틀림없다', '한다면', '등', '등등', '제', '겨우', '단지', '다만', '할뿐', '딩동', '댕그', '대해서', '대하여', '대하면', '훨씬', '얼마나', '얼마만큼', '얼마큼', '남짓', '여', '얼마간', '약간', '다소', '좀', '조금', '다수', '몇', '얼마', '지만', '하물며', '또한', '그러나', '그렇지만', '하지만', '이외에도', '대해 말하자면', '뿐이다', '다음에', '반대로', '반대로 말하자면', '이와 반대로', '바꾸어서 말하면', '바꾸어서 한다면', '만약', '그렇지않으면', '까악', '툭', '딱', '삐걱거리다', '보드득', '비걱거리다', '꽈당', '응당', '해야한다', '에 가서', '각', '각각', '여러분', '각종', '각자', '제각기', '하도록하다', '와', '과', '그러므로', '그래서', '고로', '한 까닭에', '하기 때문에', '거니와', '이지만', '대하여', '관하여', '관한', '과연', '실로', '아니나다를가', '생각한대로', '진짜로', '한적이있다', '하곤하였다', '하', '하하', '허허', '아하', '거바', '와', '오', '왜', '어째서', '무엇때문에', '어찌', '하겠는가', '무슨', '어디', '어느곳', '더군다나', '하물며', '더욱이는', '어느때', '언제', '야', '이봐', '어이', '여보시오', '흐흐', '흥', '휴', '헉헉', '헐떡헐떡', '영차', '여차', '어기여차', '끙끙', '아야', '앗', '아야', '콸콸', '졸졸', '좍좍', '뚝뚝', '주룩주룩', '솨', '우르르', '그래도', '또', '그리고', '바꾸어말하면', '바꾸어말하자면', '혹은', '혹시', '답다', '및', '그에 따르는', '때가 되어', '즉', '지든지', '설령', '가령', '하더라도', '할지라도', '일지라도', '지든지', '몇', '거의', '하마터면', '인젠', '이젠', '된바에야', '된이상', '만큼어찌됏든', '그위에', '게다가', '점에서 보아', '비추어 보아', '고려하면', '하게될것이다', '일것이다', '비교적', '좀', '보다더', '비하면', '시키다', '하게하다', '할만하다', '의해서', '연이서', '이어서', '잇따라', '뒤따라', '뒤이어', '결국', '의지하여', '기대여', '통하여', '자마자', '더욱더', '불구하고', '얼마든지', '마음대로', '주저하지 않고', '곧', '즉시', '바로', '당장', '하자마자', '밖에 안된다', '하면된다', '그래', '그렇지', '요컨대', '다시 말하자면', '바꿔 말하면', '즉', '구체적으로', '말하자면', '시작하여', '시초에', '이상', '허', '헉', '허걱', '바와같이', '해도좋다', '해도된다', '게다가', '더구나', '하물며', '와르르', '팍', '퍽', '펄렁', '동안', '이래', '하고있었다', '이었다', '에서', '로부터', '까지', '예하면', '했어요', '해요', '함께', '같이', '더불어', '마저', '마저도', '양자', '모두', '습니다', '가까스로', '하려고하다', '즈음하여', '다른', '다른 방면으로', '해봐요', '습니까', '했어요', '말할것도 없고', '무릎쓰고', '개의치않고', '하는것만 못하다', '하는것이 낫다', '매', '매번', '들', '모', '어느것', '어느', '로써', '갖고말하자면', '어디', '어느쪽', '어느것', '어느해', '어느 년도', '라 해도', '언젠가', '어떤것', '어느것', '저기', '저쪽', '저것', '그때', '그럼', '그러면', '요만한걸', '그래', '그때', '저것만큼', '그저', '이르기까지', '할 줄 안다', '할 힘이 있다', '너', '너희', '당신', '어찌', '설마', '차라리', '할지언정', '할지라도', '할망정', '할지언정', '구토하다', '게우다', '토하다', '메쓰겁다', '옆사람', '퉤', '쳇', '의거하여', '근거하여', '의해', '따라', '힘입어', '그', '다음', '버금', '두번째로', '기타', '첫번째로', '나머지는', '그중에서', '견지에서', '형식으로 쓰여', '입장에서', '위해서', '단지', '의해되다', '하도록시키다', '뿐만아니라', '반대로', '전후', '전자', '앞의것', '잠시', '잠깐', '하면서', '그렇지만', '다음에', '그러한즉', '그런즉', '남들', '아무거나', '어찌하든지', '같다', '비슷하다', '예컨대', '이럴정도로', '어떻게', '만약', '만일', '위에서 서술한바와같이', '인 듯하다', '하지 않는다면', '만약에', '무엇', '무슨', '어느', '어떤', '아래윗', '조차', '한데', '그럼에도 불구하고', '여전히', '심지어', '까지도', '조차도', '하지 않도록', '않기 위하여', '때', '시각', '무렵', '시간', '동안', '어때', '어떠한', '하여금', '네', '예', '우선', '누구', '누가 알겠는가', '아무도', '줄은모른다', '줄은 몰랏다', '하는 김에', '겸사겸사', '하는바', '그런 까닭에', '한 이유는', '그러니', '그러니까', '때문에', '그', '너희', '그들', '너희들', '타인', '것', '것들', '너', '위하여', '공동으로', '동시에', '하기 위하여', '어찌하여', '무엇때문에', '붕붕', '윙윙', '나', '우리', '엉엉', '휘익', '윙윙', '오호', '아하', '어쨋든', '만 못하다하기보다는', '차라리', '하는 편이 낫다', '흐흐', '놀라다', '상대적으로 말하자면', '마치', '아니라면', '쉿', '그렇지 않으면', '그렇지 않다면', '안 그러면', '아니었다면', '하든지', '아니면', '이라면', '좋아', '알았어', '하는것도', '그만이다', '어쩔수 없다', '하나', '일', '일반적으로', '일단', '한켠으로는', '오자마자', '이렇게되면', '이와같다면', '전부', '한마디', '한항목', '근거로', '하기에', '아울러', '하지 않도록', '않기 위해서', '이르기까지', '이 되다', '로 인하여', '까닭으로', '이유만으로', '이로 인하여', '그래서', '이 때문에', '그러므로', '그런 까닭에', '알 수 있다', '결론을 낼 수 있다', '으로 인하여', '있다', '어떤것', '관계가 있다', '관련이 있다', '연관되다', '어떤것들', '에 대해', '이리하여', '그리하여', '여부', '하기보다는', '하느니', '하면 할수록', '운운', '이러이러하다', '하구나', '하도다', '다시말하면', '다음으로', '에 있다', '에 달려 있다', '우리', '우리들', '오히려', '하기는한데', '어떻게', '어떻해', '어찌됏어', '어때', '어째서', '본대로', '자', '이', '이쪽', '여기', '이것', '이번', '이렇게말하자면', '이런', '이러한', '이와 같은', '요만큼', '요만한 것', '얼마 안 되는 것', '이만큼', '이 정도의', '이렇게 많은 것', '이와 같다', '이때', '이렇구나', '것과 같이', '끼익', '삐걱', '따위', '와 같은 사람들', '부류의 사람들', '왜냐하면', '중의하나', '오직', '오로지', '에 한하다', '하기만 하면', '도착하다', '까지 미치다', '도달하다', '정도에 이르다', '할 지경이다', '결과에 이르다', '관해서는', '여러분', '하고 있다', '한 후', '혼자', '자기', '자기집', '자신', '우에 종합한것과같이', '총적으로 보면', '총적으로 말하면', '총적으로', '대로 하다', '으로서', '참', '그만이다', '할 따름이다', '쿵', '탕탕', '쾅쾅', '둥둥', '봐', '봐라', '아이야', '아니', '와아', '응', '아이', '참나', '년', '월', '일', '령', '영', '일', '이', '삼', '사', '오', '육', '륙', '칠', '팔', '구', '이천육', '이천칠', '이천팔', '이천구', '하나', '둘', '셋', '넷', '다섯', '여섯', '일곱', '여덟', '아홉', '령', '영']\n"
          ]
        }
      ]
    },
    {
      "cell_type": "code",
      "source": [
        "# 추가할 새로운 불용어 리스트\n",
        "new_stop_words = [\"정도\", \"건가\", \"가요\", \"주시\", \"주신\", \"대해\", \"때문\", \"혹시\", \"그냥\", \"해주시\", \"대로\", \"드릴\", \"가지\"]\n",
        "\n",
        "# 새로운 불용어를 기존 불용어 리스트에 추가\n",
        "stopwords.extend(new_stop_words)\n",
        "\n",
        "# 불용어 리스트 출력\n",
        "print(stopwords)"
      ],
      "metadata": {
        "colab": {
          "base_uri": "https://localhost:8080/"
        },
        "id": "py_vnGxXjFDX",
        "outputId": "1459e24f-4ee9-4751-c043-120245fb206f"
      },
      "execution_count": null,
      "outputs": [
        {
          "output_type": "stream",
          "name": "stdout",
          "text": [
            "['아', '휴', '아이구', '아이쿠', '아이고', '어', '나', '우리', '저희', '따라', '의해', '을', '를', '에', '의', '가', '으로', '로', '에게', '뿐이다', '의거하여', '근거하여', '입각하여', '기준으로', '예하면', '예를 들면', '예를 들자면', '저', '소인', '소생', '저희', '지말고', '하지마', '하지마라', '다른', '물론', '또한', '그리고', '비길수 없다', '해서는 안된다', '뿐만 아니라', '만이 아니다', '만은 아니다', '막론하고', '관계없이', '그치지 않다', '그러나', '그런데', '하지만', '든간에', '논하지 않다', '따지지 않다', '설사', '비록', '더라도', '아니면', '만 못하다', '하는 편이 낫다', '불문하고', '향하여', '향해서', '향하다', '쪽으로', '틈타', '이용하여', '타다', '오르다', '제외하고', '이 외에', '이 밖에', '하여야', '비로소', '한다면 몰라도', '외에도', '이곳', '여기', '부터', '기점으로', '따라서', '할 생각이다', '하려고하다', '이리하여', '그리하여', '그렇게 함으로써', '하지만', '일때', '할때', '앞에서', '중에서', '보는데서', '으로써', '로써', '까지', '해야한다', '일것이다', '반드시', '할줄알다', '할수있다', '할수있어', '임에 틀림없다', '한다면', '등', '등등', '제', '겨우', '단지', '다만', '할뿐', '딩동', '댕그', '대해서', '대하여', '대하면', '훨씬', '얼마나', '얼마만큼', '얼마큼', '남짓', '여', '얼마간', '약간', '다소', '좀', '조금', '다수', '몇', '얼마', '지만', '하물며', '또한', '그러나', '그렇지만', '하지만', '이외에도', '대해 말하자면', '뿐이다', '다음에', '반대로', '반대로 말하자면', '이와 반대로', '바꾸어서 말하면', '바꾸어서 한다면', '만약', '그렇지않으면', '까악', '툭', '딱', '삐걱거리다', '보드득', '비걱거리다', '꽈당', '응당', '해야한다', '에 가서', '각', '각각', '여러분', '각종', '각자', '제각기', '하도록하다', '와', '과', '그러므로', '그래서', '고로', '한 까닭에', '하기 때문에', '거니와', '이지만', '대하여', '관하여', '관한', '과연', '실로', '아니나다를가', '생각한대로', '진짜로', '한적이있다', '하곤하였다', '하', '하하', '허허', '아하', '거바', '와', '오', '왜', '어째서', '무엇때문에', '어찌', '하겠는가', '무슨', '어디', '어느곳', '더군다나', '하물며', '더욱이는', '어느때', '언제', '야', '이봐', '어이', '여보시오', '흐흐', '흥', '휴', '헉헉', '헐떡헐떡', '영차', '여차', '어기여차', '끙끙', '아야', '앗', '아야', '콸콸', '졸졸', '좍좍', '뚝뚝', '주룩주룩', '솨', '우르르', '그래도', '또', '그리고', '바꾸어말하면', '바꾸어말하자면', '혹은', '혹시', '답다', '및', '그에 따르는', '때가 되어', '즉', '지든지', '설령', '가령', '하더라도', '할지라도', '일지라도', '지든지', '몇', '거의', '하마터면', '인젠', '이젠', '된바에야', '된이상', '만큼어찌됏든', '그위에', '게다가', '점에서 보아', '비추어 보아', '고려하면', '하게될것이다', '일것이다', '비교적', '좀', '보다더', '비하면', '시키다', '하게하다', '할만하다', '의해서', '연이서', '이어서', '잇따라', '뒤따라', '뒤이어', '결국', '의지하여', '기대여', '통하여', '자마자', '더욱더', '불구하고', '얼마든지', '마음대로', '주저하지 않고', '곧', '즉시', '바로', '당장', '하자마자', '밖에 안된다', '하면된다', '그래', '그렇지', '요컨대', '다시 말하자면', '바꿔 말하면', '즉', '구체적으로', '말하자면', '시작하여', '시초에', '이상', '허', '헉', '허걱', '바와같이', '해도좋다', '해도된다', '게다가', '더구나', '하물며', '와르르', '팍', '퍽', '펄렁', '동안', '이래', '하고있었다', '이었다', '에서', '로부터', '까지', '예하면', '했어요', '해요', '함께', '같이', '더불어', '마저', '마저도', '양자', '모두', '습니다', '가까스로', '하려고하다', '즈음하여', '다른', '다른 방면으로', '해봐요', '습니까', '했어요', '말할것도 없고', '무릎쓰고', '개의치않고', '하는것만 못하다', '하는것이 낫다', '매', '매번', '들', '모', '어느것', '어느', '로써', '갖고말하자면', '어디', '어느쪽', '어느것', '어느해', '어느 년도', '라 해도', '언젠가', '어떤것', '어느것', '저기', '저쪽', '저것', '그때', '그럼', '그러면', '요만한걸', '그래', '그때', '저것만큼', '그저', '이르기까지', '할 줄 안다', '할 힘이 있다', '너', '너희', '당신', '어찌', '설마', '차라리', '할지언정', '할지라도', '할망정', '할지언정', '구토하다', '게우다', '토하다', '메쓰겁다', '옆사람', '퉤', '쳇', '의거하여', '근거하여', '의해', '따라', '힘입어', '그', '다음', '버금', '두번째로', '기타', '첫번째로', '나머지는', '그중에서', '견지에서', '형식으로 쓰여', '입장에서', '위해서', '단지', '의해되다', '하도록시키다', '뿐만아니라', '반대로', '전후', '전자', '앞의것', '잠시', '잠깐', '하면서', '그렇지만', '다음에', '그러한즉', '그런즉', '남들', '아무거나', '어찌하든지', '같다', '비슷하다', '예컨대', '이럴정도로', '어떻게', '만약', '만일', '위에서 서술한바와같이', '인 듯하다', '하지 않는다면', '만약에', '무엇', '무슨', '어느', '어떤', '아래윗', '조차', '한데', '그럼에도 불구하고', '여전히', '심지어', '까지도', '조차도', '하지 않도록', '않기 위하여', '때', '시각', '무렵', '시간', '동안', '어때', '어떠한', '하여금', '네', '예', '우선', '누구', '누가 알겠는가', '아무도', '줄은모른다', '줄은 몰랏다', '하는 김에', '겸사겸사', '하는바', '그런 까닭에', '한 이유는', '그러니', '그러니까', '때문에', '그', '너희', '그들', '너희들', '타인', '것', '것들', '너', '위하여', '공동으로', '동시에', '하기 위하여', '어찌하여', '무엇때문에', '붕붕', '윙윙', '나', '우리', '엉엉', '휘익', '윙윙', '오호', '아하', '어쨋든', '만 못하다하기보다는', '차라리', '하는 편이 낫다', '흐흐', '놀라다', '상대적으로 말하자면', '마치', '아니라면', '쉿', '그렇지 않으면', '그렇지 않다면', '안 그러면', '아니었다면', '하든지', '아니면', '이라면', '좋아', '알았어', '하는것도', '그만이다', '어쩔수 없다', '하나', '일', '일반적으로', '일단', '한켠으로는', '오자마자', '이렇게되면', '이와같다면', '전부', '한마디', '한항목', '근거로', '하기에', '아울러', '하지 않도록', '않기 위해서', '이르기까지', '이 되다', '로 인하여', '까닭으로', '이유만으로', '이로 인하여', '그래서', '이 때문에', '그러므로', '그런 까닭에', '알 수 있다', '결론을 낼 수 있다', '으로 인하여', '있다', '어떤것', '관계가 있다', '관련이 있다', '연관되다', '어떤것들', '에 대해', '이리하여', '그리하여', '여부', '하기보다는', '하느니', '하면 할수록', '운운', '이러이러하다', '하구나', '하도다', '다시말하면', '다음으로', '에 있다', '에 달려 있다', '우리', '우리들', '오히려', '하기는한데', '어떻게', '어떻해', '어찌됏어', '어때', '어째서', '본대로', '자', '이', '이쪽', '여기', '이것', '이번', '이렇게말하자면', '이런', '이러한', '이와 같은', '요만큼', '요만한 것', '얼마 안 되는 것', '이만큼', '이 정도의', '이렇게 많은 것', '이와 같다', '이때', '이렇구나', '것과 같이', '끼익', '삐걱', '따위', '와 같은 사람들', '부류의 사람들', '왜냐하면', '중의하나', '오직', '오로지', '에 한하다', '하기만 하면', '도착하다', '까지 미치다', '도달하다', '정도에 이르다', '할 지경이다', '결과에 이르다', '관해서는', '여러분', '하고 있다', '한 후', '혼자', '자기', '자기집', '자신', '우에 종합한것과같이', '총적으로 보면', '총적으로 말하면', '총적으로', '대로 하다', '으로서', '참', '그만이다', '할 따름이다', '쿵', '탕탕', '쾅쾅', '둥둥', '봐', '봐라', '아이야', '아니', '와아', '응', '아이', '참나', '년', '월', '일', '령', '영', '일', '이', '삼', '사', '오', '육', '륙', '칠', '팔', '구', '이천육', '이천칠', '이천팔', '이천구', '하나', '둘', '셋', '넷', '다섯', '여섯', '일곱', '여덟', '아홉', '령', '영', '정도', '건가', '가요', '주시', '주신', '대해', '때문', '혹시', '그냥', '해주시', '대로', '드릴', '가지']\n"
          ]
        }
      ]
    },
    {
      "cell_type": "code",
      "source": [
        "# 텍스트에서 한국어 불용어를 제거하는 함수\n",
        "# 'headline_text' 열에 있는 각 행에 대해 불용어를 제거\n",
        "def remove_stopwords(tokens):\n",
        "    tokens = [word for word in tokens if word not in stopwords]  # 불용어 제거\n",
        "    return tokens\n",
        "\n",
        "# 'headline_text' 열에 있는 각 행에 대해 불용어를 제거한 결과로 열을 업데이트\n",
        "text['발화문'] = text['발화문'].apply(remove_stopwords)"
      ],
      "metadata": {
        "colab": {
          "base_uri": "https://localhost:8080/"
        },
        "id": "ZG1ZVb4CXg64",
        "outputId": "52d50b2e-4896-4d69-b963-37c56561c8d2"
      },
      "execution_count": null,
      "outputs": [
        {
          "output_type": "stream",
          "name": "stderr",
          "text": [
            "<ipython-input-10-dc2814092b3c>:8: SettingWithCopyWarning: \n",
            "A value is trying to be set on a copy of a slice from a DataFrame.\n",
            "Try using .loc[row_indexer,col_indexer] = value instead\n",
            "\n",
            "See the caveats in the documentation: https://pandas.pydata.org/pandas-docs/stable/user_guide/indexing.html#returning-a-view-versus-a-copy\n",
            "  text['발화문'] = text['발화문'].apply(remove_stopwords)\n"
          ]
        }
      ]
    },
    {
      "cell_type": "code",
      "source": [
        "text"
      ],
      "metadata": {
        "colab": {
          "base_uri": "https://localhost:8080/",
          "height": 424
        },
        "id": "AiR6RPvrYb-p",
        "outputId": "1a510f49-ed39-4448-f3d3-4645290e2683"
      },
      "execution_count": null,
      "outputs": [
        {
          "output_type": "execute_result",
          "data": {
            "text/plain": [
              "                                                      발화문\n",
              "2988    [일리, 네스, 프레, 소, 캡슐, 클래시, 코랑룽, 룽, 물, 클래시, 코, 개, 맛]\n",
              "2989                          [룽, 제품, 클래시, 코, 제품, 추출량, 더]\n",
              "2990                                 [꿀밤, 고구마, 밤, 고구마, 뭐]\n",
              "2991                       [세척, 꿀밤, 고구마, 햇꿀, 고구마, 출고, 예정]\n",
              "2992                             [숄더랙, 주문, 냉장, 냉동, 차이, 요]\n",
              "...                                                   ...\n",
              "431611                               [해당, 내용, 담당, 부서, 전달]\n",
              "431612             [맛, 수도, 이건, 맛, 독소, 목구멍, 복통, 거, 독소, 감자]\n",
              "431613                [반품, 택배, 기사, 방문, 시오, 반품, 후, 확인, 조치]\n",
              "431614                                 [중, 개, 문제, 통화, 기억]\n",
              "431615                                [기억, 재, 주문, 감사, 확인]\n",
              "\n",
              "[207857 rows x 1 columns]"
            ],
            "text/html": [
              "\n",
              "  <div id=\"df-95160566-e6a6-4133-8dc3-b163a408a4fb\" class=\"colab-df-container\">\n",
              "    <div>\n",
              "<style scoped>\n",
              "    .dataframe tbody tr th:only-of-type {\n",
              "        vertical-align: middle;\n",
              "    }\n",
              "\n",
              "    .dataframe tbody tr th {\n",
              "        vertical-align: top;\n",
              "    }\n",
              "\n",
              "    .dataframe thead th {\n",
              "        text-align: right;\n",
              "    }\n",
              "</style>\n",
              "<table border=\"1\" class=\"dataframe\">\n",
              "  <thead>\n",
              "    <tr style=\"text-align: right;\">\n",
              "      <th></th>\n",
              "      <th>발화문</th>\n",
              "    </tr>\n",
              "  </thead>\n",
              "  <tbody>\n",
              "    <tr>\n",
              "      <th>2988</th>\n",
              "      <td>[일리, 네스, 프레, 소, 캡슐, 클래시, 코랑룽, 룽, 물, 클래시, 코, 개, 맛]</td>\n",
              "    </tr>\n",
              "    <tr>\n",
              "      <th>2989</th>\n",
              "      <td>[룽, 제품, 클래시, 코, 제품, 추출량, 더]</td>\n",
              "    </tr>\n",
              "    <tr>\n",
              "      <th>2990</th>\n",
              "      <td>[꿀밤, 고구마, 밤, 고구마, 뭐]</td>\n",
              "    </tr>\n",
              "    <tr>\n",
              "      <th>2991</th>\n",
              "      <td>[세척, 꿀밤, 고구마, 햇꿀, 고구마, 출고, 예정]</td>\n",
              "    </tr>\n",
              "    <tr>\n",
              "      <th>2992</th>\n",
              "      <td>[숄더랙, 주문, 냉장, 냉동, 차이, 요]</td>\n",
              "    </tr>\n",
              "    <tr>\n",
              "      <th>...</th>\n",
              "      <td>...</td>\n",
              "    </tr>\n",
              "    <tr>\n",
              "      <th>431611</th>\n",
              "      <td>[해당, 내용, 담당, 부서, 전달]</td>\n",
              "    </tr>\n",
              "    <tr>\n",
              "      <th>431612</th>\n",
              "      <td>[맛, 수도, 이건, 맛, 독소, 목구멍, 복통, 거, 독소, 감자]</td>\n",
              "    </tr>\n",
              "    <tr>\n",
              "      <th>431613</th>\n",
              "      <td>[반품, 택배, 기사, 방문, 시오, 반품, 후, 확인, 조치]</td>\n",
              "    </tr>\n",
              "    <tr>\n",
              "      <th>431614</th>\n",
              "      <td>[중, 개, 문제, 통화, 기억]</td>\n",
              "    </tr>\n",
              "    <tr>\n",
              "      <th>431615</th>\n",
              "      <td>[기억, 재, 주문, 감사, 확인]</td>\n",
              "    </tr>\n",
              "  </tbody>\n",
              "</table>\n",
              "<p>207857 rows × 1 columns</p>\n",
              "</div>\n",
              "    <div class=\"colab-df-buttons\">\n",
              "\n",
              "  <div class=\"colab-df-container\">\n",
              "    <button class=\"colab-df-convert\" onclick=\"convertToInteractive('df-95160566-e6a6-4133-8dc3-b163a408a4fb')\"\n",
              "            title=\"Convert this dataframe to an interactive table.\"\n",
              "            style=\"display:none;\">\n",
              "\n",
              "  <svg xmlns=\"http://www.w3.org/2000/svg\" height=\"24px\" viewBox=\"0 -960 960 960\">\n",
              "    <path d=\"M120-120v-720h720v720H120Zm60-500h600v-160H180v160Zm220 220h160v-160H400v160Zm0 220h160v-160H400v160ZM180-400h160v-160H180v160Zm440 0h160v-160H620v160ZM180-180h160v-160H180v160Zm440 0h160v-160H620v160Z\"/>\n",
              "  </svg>\n",
              "    </button>\n",
              "\n",
              "  <style>\n",
              "    .colab-df-container {\n",
              "      display:flex;\n",
              "      gap: 12px;\n",
              "    }\n",
              "\n",
              "    .colab-df-convert {\n",
              "      background-color: #E8F0FE;\n",
              "      border: none;\n",
              "      border-radius: 50%;\n",
              "      cursor: pointer;\n",
              "      display: none;\n",
              "      fill: #1967D2;\n",
              "      height: 32px;\n",
              "      padding: 0 0 0 0;\n",
              "      width: 32px;\n",
              "    }\n",
              "\n",
              "    .colab-df-convert:hover {\n",
              "      background-color: #E2EBFA;\n",
              "      box-shadow: 0px 1px 2px rgba(60, 64, 67, 0.3), 0px 1px 3px 1px rgba(60, 64, 67, 0.15);\n",
              "      fill: #174EA6;\n",
              "    }\n",
              "\n",
              "    .colab-df-buttons div {\n",
              "      margin-bottom: 4px;\n",
              "    }\n",
              "\n",
              "    [theme=dark] .colab-df-convert {\n",
              "      background-color: #3B4455;\n",
              "      fill: #D2E3FC;\n",
              "    }\n",
              "\n",
              "    [theme=dark] .colab-df-convert:hover {\n",
              "      background-color: #434B5C;\n",
              "      box-shadow: 0px 1px 3px 1px rgba(0, 0, 0, 0.15);\n",
              "      filter: drop-shadow(0px 1px 2px rgba(0, 0, 0, 0.3));\n",
              "      fill: #FFFFFF;\n",
              "    }\n",
              "  </style>\n",
              "\n",
              "    <script>\n",
              "      const buttonEl =\n",
              "        document.querySelector('#df-95160566-e6a6-4133-8dc3-b163a408a4fb button.colab-df-convert');\n",
              "      buttonEl.style.display =\n",
              "        google.colab.kernel.accessAllowed ? 'block' : 'none';\n",
              "\n",
              "      async function convertToInteractive(key) {\n",
              "        const element = document.querySelector('#df-95160566-e6a6-4133-8dc3-b163a408a4fb');\n",
              "        const dataTable =\n",
              "          await google.colab.kernel.invokeFunction('convertToInteractive',\n",
              "                                                    [key], {});\n",
              "        if (!dataTable) return;\n",
              "\n",
              "        const docLinkHtml = 'Like what you see? Visit the ' +\n",
              "          '<a target=\"_blank\" href=https://colab.research.google.com/notebooks/data_table.ipynb>data table notebook</a>'\n",
              "          + ' to learn more about interactive tables.';\n",
              "        element.innerHTML = '';\n",
              "        dataTable['output_type'] = 'display_data';\n",
              "        await google.colab.output.renderOutput(dataTable, element);\n",
              "        const docLink = document.createElement('div');\n",
              "        docLink.innerHTML = docLinkHtml;\n",
              "        element.appendChild(docLink);\n",
              "      }\n",
              "    </script>\n",
              "  </div>\n",
              "\n",
              "\n",
              "<div id=\"df-83515888-9175-4844-852e-7a92cb7e4ef5\">\n",
              "  <button class=\"colab-df-quickchart\" onclick=\"quickchart('df-83515888-9175-4844-852e-7a92cb7e4ef5')\"\n",
              "            title=\"Suggest charts.\"\n",
              "            style=\"display:none;\">\n",
              "\n",
              "<svg xmlns=\"http://www.w3.org/2000/svg\" height=\"24px\"viewBox=\"0 0 24 24\"\n",
              "     width=\"24px\">\n",
              "    <g>\n",
              "        <path d=\"M19 3H5c-1.1 0-2 .9-2 2v14c0 1.1.9 2 2 2h14c1.1 0 2-.9 2-2V5c0-1.1-.9-2-2-2zM9 17H7v-7h2v7zm4 0h-2V7h2v10zm4 0h-2v-4h2v4z\"/>\n",
              "    </g>\n",
              "</svg>\n",
              "  </button>\n",
              "\n",
              "<style>\n",
              "  .colab-df-quickchart {\n",
              "      --bg-color: #E8F0FE;\n",
              "      --fill-color: #1967D2;\n",
              "      --hover-bg-color: #E2EBFA;\n",
              "      --hover-fill-color: #174EA6;\n",
              "      --disabled-fill-color: #AAA;\n",
              "      --disabled-bg-color: #DDD;\n",
              "  }\n",
              "\n",
              "  [theme=dark] .colab-df-quickchart {\n",
              "      --bg-color: #3B4455;\n",
              "      --fill-color: #D2E3FC;\n",
              "      --hover-bg-color: #434B5C;\n",
              "      --hover-fill-color: #FFFFFF;\n",
              "      --disabled-bg-color: #3B4455;\n",
              "      --disabled-fill-color: #666;\n",
              "  }\n",
              "\n",
              "  .colab-df-quickchart {\n",
              "    background-color: var(--bg-color);\n",
              "    border: none;\n",
              "    border-radius: 50%;\n",
              "    cursor: pointer;\n",
              "    display: none;\n",
              "    fill: var(--fill-color);\n",
              "    height: 32px;\n",
              "    padding: 0;\n",
              "    width: 32px;\n",
              "  }\n",
              "\n",
              "  .colab-df-quickchart:hover {\n",
              "    background-color: var(--hover-bg-color);\n",
              "    box-shadow: 0 1px 2px rgba(60, 64, 67, 0.3), 0 1px 3px 1px rgba(60, 64, 67, 0.15);\n",
              "    fill: var(--button-hover-fill-color);\n",
              "  }\n",
              "\n",
              "  .colab-df-quickchart-complete:disabled,\n",
              "  .colab-df-quickchart-complete:disabled:hover {\n",
              "    background-color: var(--disabled-bg-color);\n",
              "    fill: var(--disabled-fill-color);\n",
              "    box-shadow: none;\n",
              "  }\n",
              "\n",
              "  .colab-df-spinner {\n",
              "    border: 2px solid var(--fill-color);\n",
              "    border-color: transparent;\n",
              "    border-bottom-color: var(--fill-color);\n",
              "    animation:\n",
              "      spin 1s steps(1) infinite;\n",
              "  }\n",
              "\n",
              "  @keyframes spin {\n",
              "    0% {\n",
              "      border-color: transparent;\n",
              "      border-bottom-color: var(--fill-color);\n",
              "      border-left-color: var(--fill-color);\n",
              "    }\n",
              "    20% {\n",
              "      border-color: transparent;\n",
              "      border-left-color: var(--fill-color);\n",
              "      border-top-color: var(--fill-color);\n",
              "    }\n",
              "    30% {\n",
              "      border-color: transparent;\n",
              "      border-left-color: var(--fill-color);\n",
              "      border-top-color: var(--fill-color);\n",
              "      border-right-color: var(--fill-color);\n",
              "    }\n",
              "    40% {\n",
              "      border-color: transparent;\n",
              "      border-right-color: var(--fill-color);\n",
              "      border-top-color: var(--fill-color);\n",
              "    }\n",
              "    60% {\n",
              "      border-color: transparent;\n",
              "      border-right-color: var(--fill-color);\n",
              "    }\n",
              "    80% {\n",
              "      border-color: transparent;\n",
              "      border-right-color: var(--fill-color);\n",
              "      border-bottom-color: var(--fill-color);\n",
              "    }\n",
              "    90% {\n",
              "      border-color: transparent;\n",
              "      border-bottom-color: var(--fill-color);\n",
              "    }\n",
              "  }\n",
              "</style>\n",
              "\n",
              "  <script>\n",
              "    async function quickchart(key) {\n",
              "      const quickchartButtonEl =\n",
              "        document.querySelector('#' + key + ' button');\n",
              "      quickchartButtonEl.disabled = true;  // To prevent multiple clicks.\n",
              "      quickchartButtonEl.classList.add('colab-df-spinner');\n",
              "      try {\n",
              "        const charts = await google.colab.kernel.invokeFunction(\n",
              "            'suggestCharts', [key], {});\n",
              "      } catch (error) {\n",
              "        console.error('Error during call to suggestCharts:', error);\n",
              "      }\n",
              "      quickchartButtonEl.classList.remove('colab-df-spinner');\n",
              "      quickchartButtonEl.classList.add('colab-df-quickchart-complete');\n",
              "    }\n",
              "    (() => {\n",
              "      let quickchartButtonEl =\n",
              "        document.querySelector('#df-83515888-9175-4844-852e-7a92cb7e4ef5 button');\n",
              "      quickchartButtonEl.style.display =\n",
              "        google.colab.kernel.accessAllowed ? 'block' : 'none';\n",
              "    })();\n",
              "  </script>\n",
              "</div>\n",
              "    </div>\n",
              "  </div>\n"
            ]
          },
          "metadata": {},
          "execution_count": 11
        }
      ]
    },
    {
      "cell_type": "code",
      "source": [
        "tokenized_doc = text['발화문'].apply(lambda x: [word for word in x if len(word) > 1])\n",
        "print(tokenized_doc[:5])"
      ],
      "metadata": {
        "colab": {
          "base_uri": "https://localhost:8080/"
        },
        "id": "JOdKTn2xM-13",
        "outputId": "ee1ec3ac-66cc-4346-cbe8-5cc54ee40763"
      },
      "execution_count": null,
      "outputs": [
        {
          "output_type": "stream",
          "name": "stdout",
          "text": [
            "2988    [일리, 네스, 프레, 캡슐, 클래시, 코랑룽, 클래시]\n",
            "2989                 [제품, 클래시, 제품, 추출량]\n",
            "2990                     [꿀밤, 고구마, 고구마]\n",
            "2991     [세척, 꿀밤, 고구마, 햇꿀, 고구마, 출고, 예정]\n",
            "2992              [숄더랙, 주문, 냉장, 냉동, 차이]\n",
            "Name: 발화문, dtype: object\n"
          ]
        }
      ]
    },
    {
      "cell_type": "markdown",
      "source": [
        "## 정수 인코딩"
      ],
      "metadata": {
        "id": "GWVp5wwqOvfc"
      }
    },
    {
      "cell_type": "code",
      "source": [
        "from gensim import corpora\n",
        "from gensim.corpora import Dictionary\n",
        "from gensim.models.coherencemodel import CoherenceModel\n",
        "from gensim.models.ldamodel import LdaModel\n",
        "\n",
        "dictionary = corpora.Dictionary(tokenized_doc)\n",
        "corpus = [dictionary.doc2bow(text) for text in tokenized_doc]\n",
        "print(corpus[1]) # 수행된 결과에서 두번째 뉴스 출력. 첫번째 문서의 인덱스는 0"
      ],
      "metadata": {
        "colab": {
          "base_uri": "https://localhost:8080/"
        },
        "id": "4gHuobDXOxSX",
        "outputId": "b08b19be-efc9-42e5-b22f-2825e2681bac"
      },
      "execution_count": null,
      "outputs": [
        {
          "output_type": "stream",
          "name": "stdout",
          "text": [
            "[(4, 1), (6, 2), (7, 1)]\n"
          ]
        }
      ]
    },
    {
      "cell_type": "code",
      "source": [
        "print(dictionary[45])"
      ],
      "metadata": {
        "colab": {
          "base_uri": "https://localhost:8080/"
        },
        "id": "kYQ3Oqm9O6JW",
        "outputId": "dbb8ee5b-cc1a-4e88-c6d4-a3bdc70c8281"
      },
      "execution_count": null,
      "outputs": [
        {
          "output_type": "stream",
          "name": "stdout",
          "text": [
            "김치\n"
          ]
        }
      ]
    },
    {
      "cell_type": "code",
      "source": [
        "len(dictionary) #총 학습된 단어의 개수"
      ],
      "metadata": {
        "colab": {
          "base_uri": "https://localhost:8080/"
        },
        "id": "mf3iEib_O8nO",
        "outputId": "24e4d11c-4738-4360-8065-230dc5071b6c"
      },
      "execution_count": null,
      "outputs": [
        {
          "output_type": "execute_result",
          "data": {
            "text/plain": [
              "22627"
            ]
          },
          "metadata": {},
          "execution_count": 15
        }
      ]
    },
    {
      "cell_type": "markdown",
      "source": [
        "## LDA 모델 훈련시키기"
      ],
      "metadata": {
        "id": "0ZUL1Wu_PEtl"
      }
    },
    {
      "cell_type": "code",
      "source": [
        "import gensim\n",
        "NUM_TOPICS = 20 # 20개의 토픽, k=20\n",
        "ldamodel = gensim.models.ldamodel.LdaModel(corpus, num_topics = NUM_TOPICS, id2word=dictionary, passes=15)\n",
        "topics = ldamodel.print_topics(num_words=4)\n",
        "for topic in topics:\n",
        "    print(topic)"
      ],
      "metadata": {
        "colab": {
          "base_uri": "https://localhost:8080/"
        },
        "id": "lFVzgyvEPBjU",
        "outputId": "4cb0e189-12f7-4f31-b6a4-59b90aee0594"
      },
      "execution_count": null,
      "outputs": [
        {
          "output_type": "stream",
          "name": "stdout",
          "text": [
            "(0, '0.116*\"고객\" + 0.104*\"선택\" + 0.070*\"사이즈\" + 0.052*\"생각\"')\n",
            "(1, '0.437*\"가격\" + 0.072*\"추가\" + 0.057*\"제조\" + 0.035*\"안심\"')\n",
            "(2, '0.200*\"판매\" + 0.116*\"현재\" + 0.063*\"옵션\" + 0.062*\"상품\"')\n",
            "(3, '0.091*\"말씀\" + 0.087*\"행사\" + 0.085*\"홍삼\" + 0.049*\"자연\"')\n",
            "(4, '0.145*\"냉동\" + 0.102*\"냉장\" + 0.066*\"상태\" + 0.055*\"일리\"')\n",
            "(5, '0.155*\"성분\" + 0.115*\"함유\" + 0.062*\"재료\" + 0.056*\"생산\"')\n",
            "(6, '0.225*\"상품\" + 0.174*\"문의\" + 0.119*\"참고\" + 0.040*\"표기\"')\n",
            "(7, '0.278*\"사용\" + 0.105*\"머신\" + 0.080*\"가루\" + 0.048*\"뭔가\"')\n",
            "(8, '0.165*\"차이\" + 0.061*\"프로\" + 0.060*\"할인\" + 0.047*\"양념\"')\n",
            "(9, '0.163*\"섭취\" + 0.111*\"캡슐\" + 0.109*\"제품\" + 0.071*\"경우\"')\n",
            "(10, '0.146*\"함량\" + 0.095*\"고구마\" + 0.072*\"설탕\" + 0.057*\"단백질\"')\n",
            "(11, '0.114*\"호환\" + 0.076*\"네스프레소\" + 0.073*\"발송\" + 0.068*\"출고\"')\n",
            "(12, '0.227*\"주문\" + 0.140*\"확인\" + 0.068*\"배송\" + 0.058*\"상품\"')\n",
            "(13, '0.150*\"하루\" + 0.081*\"크기\" + 0.074*\"오늘\" + 0.061*\"보통\"')\n",
            "(14, '0.140*\"포함\" + 0.076*\"소스\" + 0.073*\"보시\" + 0.054*\"용량\"')\n",
            "(15, '0.224*\"보관\" + 0.114*\"포장\" + 0.101*\"비타민\" + 0.064*\"칼로리\"')\n",
            "(16, '0.389*\"제품\" + 0.123*\"유통\" + 0.116*\"기한\" + 0.034*\"유산균\"')\n",
            "(17, '0.098*\"첨가\" + 0.080*\"일반\" + 0.072*\"기준\" + 0.043*\"표시\"')\n",
            "(18, '0.318*\"구매\" + 0.086*\"커피\" + 0.079*\"박스\" + 0.060*\"유기농\"')\n",
            "(19, '0.154*\"퍼센트\" + 0.070*\"부분\" + 0.065*\"양해\" + 0.061*\"김치\"')\n"
          ]
        }
      ]
    },
    {
      "cell_type": "code",
      "source": [
        "# 파라미터 설정\n",
        "num_topics = 7    # 토픽 수\n",
        "alpha = 0.9       # 문서-토픽 밀도\n",
        "eta = 0.6         # 단어-토픽 밀도\n",
        "chunksize = 200   # 학습청크 당 문서 수\n",
        "passes = 20       # 전체 말뭉치 학습 횟수\n",
        "iterations = 300  # 토픽비율 추정에서 루프 최대 반복 횟수\n",
        "random_state = 42 # 결과의 재현가능성을 위해 설정\n",
        "\n",
        "ldamodel = LdaModel(\n",
        "    num_topics=num_topics,\n",
        "    alpha = alpha,\n",
        "    eta = eta,\n",
        "    corpus=corpus,\n",
        "    id2word=dictionary,\n",
        "    chunksize=chunksize,\n",
        "    iterations=iterations,\n",
        "    passes=passes\n",
        ")\n",
        "\n",
        "topics = ldamodel.print_topics(num_words=4)\n",
        "for topic in topics:\n",
        "    print(topic)"
      ],
      "metadata": {
        "id": "WE8i6MK6QZ1v"
      },
      "execution_count": null,
      "outputs": []
    },
    {
      "cell_type": "code",
      "source": [
        "print(ldamodel.print_topics())"
      ],
      "metadata": {
        "id": "yElgd0g5Rru9"
      },
      "execution_count": null,
      "outputs": []
    },
    {
      "cell_type": "code",
      "source": [
        "# Coherence Score\n",
        "coherence_model_lda = CoherenceModel(model=ldamodel, texts=tokenized_doc, dictionary=dictionary, coherence='c_v')\n",
        "coherence_lda = coherence_model_lda.get_coherence()\n",
        "print('Coherence Score: ', coherence_lda)"
      ],
      "metadata": {
        "id": "hoBYthtOR8fh"
      },
      "execution_count": null,
      "outputs": []
    },
    {
      "cell_type": "code",
      "source": [
        "# Perplexity score: 신뢰성 평가 기준, 값이 클수록 신뢰성 높음\n",
        "perplexity_lda = ldamodel.log_perplexity(corpus)\n",
        "print('Perplexity Score: ', perplexity_lda)"
      ],
      "metadata": {
        "id": "RlTtUDSfR9n1"
      },
      "execution_count": null,
      "outputs": []
    },
    {
      "cell_type": "markdown",
      "source": [
        "## 시각화"
      ],
      "metadata": {
        "id": "X5GaZdJJgkg1"
      }
    },
    {
      "cell_type": "code",
      "source": [
        "pip install pyLDAvis"
      ],
      "metadata": {
        "colab": {
          "base_uri": "https://localhost:8080/"
        },
        "id": "hGSXnv3BJnRP",
        "outputId": "2094d38d-1326-4956-f843-8924d056e7ba"
      },
      "execution_count": null,
      "outputs": [
        {
          "output_type": "stream",
          "name": "stdout",
          "text": [
            "Collecting pyLDAvis\n",
            "  Downloading pyLDAvis-3.4.1-py3-none-any.whl (2.6 MB)\n",
            "\u001b[2K     \u001b[90m━━━━━━━━━━━━━━━━━━━━━━━━━━━━━━━━━━━━━━━━\u001b[0m \u001b[32m2.6/2.6 MB\u001b[0m \u001b[31m40.5 MB/s\u001b[0m eta \u001b[36m0:00:00\u001b[0m\n",
            "\u001b[?25hCollecting numpy>=1.24.2 (from pyLDAvis)\n",
            "  Downloading numpy-1.26.0-cp310-cp310-manylinux_2_17_x86_64.manylinux2014_x86_64.whl (18.2 MB)\n",
            "\u001b[2K     \u001b[90m━━━━━━━━━━━━━━━━━━━━━━━━━━━━━━━━━━━━━━━━\u001b[0m \u001b[32m18.2/18.2 MB\u001b[0m \u001b[31m86.3 MB/s\u001b[0m eta \u001b[36m0:00:00\u001b[0m\n",
            "\u001b[?25hRequirement already satisfied: scipy in /usr/local/lib/python3.10/dist-packages (from pyLDAvis) (1.11.2)\n",
            "Collecting pandas>=2.0.0 (from pyLDAvis)\n",
            "  Downloading pandas-2.1.1-cp310-cp310-manylinux_2_17_x86_64.manylinux2014_x86_64.whl (12.3 MB)\n",
            "\u001b[2K     \u001b[90m━━━━━━━━━━━━━━━━━━━━━━━━━━━━━━━━━━━━━━━\u001b[0m \u001b[32m12.3/12.3 MB\u001b[0m \u001b[31m128.3 MB/s\u001b[0m eta \u001b[36m0:00:00\u001b[0m\n",
            "\u001b[?25hRequirement already satisfied: joblib>=1.2.0 in /usr/local/lib/python3.10/dist-packages (from pyLDAvis) (1.3.2)\n",
            "Requirement already satisfied: jinja2 in /usr/local/lib/python3.10/dist-packages (from pyLDAvis) (3.1.2)\n",
            "Requirement already satisfied: numexpr in /usr/local/lib/python3.10/dist-packages (from pyLDAvis) (2.8.5)\n",
            "Collecting funcy (from pyLDAvis)\n",
            "  Downloading funcy-2.0-py2.py3-none-any.whl (30 kB)\n",
            "Requirement already satisfied: scikit-learn>=1.0.0 in /usr/local/lib/python3.10/dist-packages (from pyLDAvis) (1.2.2)\n",
            "Requirement already satisfied: gensim in /usr/local/lib/python3.10/dist-packages (from pyLDAvis) (4.3.2)\n",
            "Requirement already satisfied: setuptools in /usr/local/lib/python3.10/dist-packages (from pyLDAvis) (67.7.2)\n",
            "Requirement already satisfied: python-dateutil>=2.8.2 in /usr/local/lib/python3.10/dist-packages (from pandas>=2.0.0->pyLDAvis) (2.8.2)\n",
            "Requirement already satisfied: pytz>=2020.1 in /usr/local/lib/python3.10/dist-packages (from pandas>=2.0.0->pyLDAvis) (2023.3.post1)\n",
            "Collecting tzdata>=2022.1 (from pandas>=2.0.0->pyLDAvis)\n",
            "  Downloading tzdata-2023.3-py2.py3-none-any.whl (341 kB)\n",
            "\u001b[2K     \u001b[90m━━━━━━━━━━━━━━━━━━━━━━━━━━━━━━━━━━━━━━\u001b[0m \u001b[32m341.8/341.8 kB\u001b[0m \u001b[31m42.6 MB/s\u001b[0m eta \u001b[36m0:00:00\u001b[0m\n",
            "\u001b[?25hRequirement already satisfied: threadpoolctl>=2.0.0 in /usr/local/lib/python3.10/dist-packages (from scikit-learn>=1.0.0->pyLDAvis) (3.2.0)\n",
            "Requirement already satisfied: smart-open>=1.8.1 in /usr/local/lib/python3.10/dist-packages (from gensim->pyLDAvis) (6.4.0)\n",
            "Requirement already satisfied: MarkupSafe>=2.0 in /usr/local/lib/python3.10/dist-packages (from jinja2->pyLDAvis) (2.1.3)\n",
            "Requirement already satisfied: six>=1.5 in /usr/local/lib/python3.10/dist-packages (from python-dateutil>=2.8.2->pandas>=2.0.0->pyLDAvis) (1.16.0)\n",
            "Installing collected packages: funcy, tzdata, numpy, pandas, pyLDAvis\n",
            "  Attempting uninstall: numpy\n",
            "    Found existing installation: numpy 1.23.5\n",
            "    Uninstalling numpy-1.23.5:\n",
            "      Successfully uninstalled numpy-1.23.5\n",
            "  Attempting uninstall: pandas\n",
            "    Found existing installation: pandas 1.5.3\n",
            "    Uninstalling pandas-1.5.3:\n",
            "      Successfully uninstalled pandas-1.5.3\n",
            "\u001b[31mERROR: pip's dependency resolver does not currently take into account all the packages that are installed. This behaviour is the source of the following dependency conflicts.\n",
            "google-colab 1.0.0 requires pandas==1.5.3, but you have pandas 2.1.1 which is incompatible.\n",
            "numba 0.56.4 requires numpy<1.24,>=1.18, but you have numpy 1.26.0 which is incompatible.\n",
            "tensorflow 2.13.0 requires numpy<=1.24.3,>=1.22, but you have numpy 1.26.0 which is incompatible.\u001b[0m\u001b[31m\n",
            "\u001b[0mSuccessfully installed funcy-2.0 numpy-1.26.0 pandas-2.1.1 pyLDAvis-3.4.1 tzdata-2023.3\n"
          ]
        }
      ]
    },
    {
      "cell_type": "code",
      "source": [
        "!pip install pandas==1.5.3"
      ],
      "metadata": {
        "colab": {
          "base_uri": "https://localhost:8080/",
          "height": 440
        },
        "id": "FFA4dDoZot2c",
        "outputId": "7a20cfe6-e93c-414e-d25b-9b569787720e"
      },
      "execution_count": null,
      "outputs": [
        {
          "output_type": "stream",
          "name": "stderr",
          "text": [
            "/usr/local/lib/python3.10/dist-packages/ipykernel/ipkernel.py:283: DeprecationWarning: `should_run_async` will not call `transform_cell` automatically in the future. Please pass the result to `transformed_cell` argument and any exception that happen during thetransform in `preprocessing_exc_tuple` in IPython 7.17 and above.\n",
            "  and should_run_async(code)\n"
          ]
        },
        {
          "output_type": "stream",
          "name": "stdout",
          "text": [
            "Collecting pandas==1.5.3\n",
            "  Downloading pandas-1.5.3-cp310-cp310-manylinux_2_17_x86_64.manylinux2014_x86_64.whl (12.1 MB)\n",
            "\u001b[2K     \u001b[90m━━━━━━━━━━━━━━━━━━━━━━━━━━━━━━━━━━━━━━━━\u001b[0m \u001b[32m12.1/12.1 MB\u001b[0m \u001b[31m65.2 MB/s\u001b[0m eta \u001b[36m0:00:00\u001b[0m\n",
            "\u001b[?25hRequirement already satisfied: python-dateutil>=2.8.1 in /usr/local/lib/python3.10/dist-packages (from pandas==1.5.3) (2.8.2)\n",
            "Requirement already satisfied: pytz>=2020.1 in /usr/local/lib/python3.10/dist-packages (from pandas==1.5.3) (2023.3.post1)\n",
            "Requirement already satisfied: numpy>=1.21.0 in /usr/local/lib/python3.10/dist-packages (from pandas==1.5.3) (1.26.0)\n",
            "Requirement already satisfied: six>=1.5 in /usr/local/lib/python3.10/dist-packages (from python-dateutil>=2.8.1->pandas==1.5.3) (1.16.0)\n",
            "Installing collected packages: pandas\n",
            "  Attempting uninstall: pandas\n",
            "    Found existing installation: pandas 2.1.1\n",
            "    Uninstalling pandas-2.1.1:\n",
            "      Successfully uninstalled pandas-2.1.1\n",
            "\u001b[31mERROR: pip's dependency resolver does not currently take into account all the packages that are installed. This behaviour is the source of the following dependency conflicts.\n",
            "pyldavis 3.4.1 requires pandas>=2.0.0, but you have pandas 1.5.3 which is incompatible.\u001b[0m\u001b[31m\n",
            "\u001b[0mSuccessfully installed pandas-1.5.3\n"
          ]
        },
        {
          "output_type": "display_data",
          "data": {
            "application/vnd.colab-display-data+json": {
              "pip_warning": {
                "packages": [
                  "pandas"
                ]
              }
            }
          },
          "metadata": {}
        }
      ]
    },
    {
      "cell_type": "code",
      "source": [
        "import pyLDAvis.gensim_models\n",
        "\n",
        "pyLDAvis.enable_notebook()\n",
        "vis = pyLDAvis.gensim_models.prepare(ldamodel, corpus, dictionary) #mds='tsne'\n",
        "pyLDAvis.display(vis)"
      ],
      "metadata": {
        "colab": {
          "base_uri": "https://localhost:8080/",
          "height": 918
        },
        "id": "K3KazPQwaq-P",
        "outputId": "79a2f5ea-7d6e-4e2a-b97d-e22e992f600a"
      },
      "execution_count": null,
      "outputs": [
        {
          "output_type": "stream",
          "name": "stderr",
          "text": [
            "/usr/local/lib/python3.10/dist-packages/ipykernel/ipkernel.py:283: DeprecationWarning: `should_run_async` will not call `transform_cell` automatically in the future. Please pass the result to `transformed_cell` argument and any exception that happen during thetransform in `preprocessing_exc_tuple` in IPython 7.17 and above.\n",
            "  and should_run_async(code)\n"
          ]
        },
        {
          "output_type": "execute_result",
          "data": {
            "text/plain": [
              "<IPython.core.display.HTML object>"
            ],
            "text/html": [
              "\n",
              "<link rel=\"stylesheet\" type=\"text/css\" href=\"https://cdn.jsdelivr.net/gh/bmabey/pyLDAvis@3.4.0/pyLDAvis/js/ldavis.v1.0.0.css\">\n",
              "\n",
              "\n",
              "<div id=\"ldavis_el308139277712005760116457981\" style=\"background-color:white;\"></div>\n",
              "<script type=\"text/javascript\">\n",
              "\n",
              "var ldavis_el308139277712005760116457981_data = {\"mdsDat\": {\"x\": [0.09775534238885622, 0.05461231820195288, -0.2669014780582186, -0.26464176248127896, -0.2586650105494667, -0.22376959588916223, 0.04884274621025753, 0.06971018323779728, 0.017319578558420916, 0.06830295824499834, 0.028484798574397185, 0.07096025283905281, 0.07000553871339478, 0.0696760356370263, 0.07015180331788323, 0.06846297866499154, 0.07072782702906574, 0.0715192248263242, 0.07312100091839617, 0.06432525961531181], \"y\": [-0.35207954660336965, -0.35527616015236957, -0.00850549288987229, -0.04223035721515889, 0.029600908916857183, 0.005573991762451864, -0.01972566527361922, 0.06284010474393893, -0.021387748138588035, 0.05940842649251637, 0.06613378789920293, 0.06612395741430412, 0.06363646853408005, 0.06277308491179653, 0.06393160806079419, 0.05989884176970197, 0.06544524598551951, 0.06548644596961425, 0.06986720406012424, 0.05848489375207578], \"topics\": [1, 2, 3, 4, 5, 6, 7, 8, 9, 10, 11, 12, 13, 14, 15, 16, 17, 18, 19, 20], \"cluster\": [1, 1, 1, 1, 1, 1, 1, 1, 1, 1, 1, 1, 1, 1, 1, 1, 1, 1, 1, 1], \"Freq\": [8.612388068270556, 7.355490236884978, 6.630628541303827, 6.524171270528194, 6.045068177697033, 5.881551896784695, 5.675953065593501, 5.321027184327757, 4.994835680453951, 4.680283659566606, 4.338804532281324, 4.113174699415799, 4.10987541163266, 4.078692704438547, 4.002917045962079, 3.766081908375248, 3.6256275702107423, 3.616363549220134, 3.4004761137372337, 3.226588683315134]}, \"tinfo\": {\"Term\": [\"\\uc81c\\ud488\", \"\\uac00\\uaca9\", \"\\uad6c\\ub9e4\", \"\\uc8fc\\ubb38\", \"\\uc0c1\\ud488\", \"\\ubcf4\\uad00\", \"\\uc0ac\\uc6a9\", \"\\ud310\\ub9e4\", \"\\uc12d\\ucde8\", \"\\ubb38\\uc758\", \"\\uc720\\ud1b5\", \"\\ud655\\uc778\", \"\\uae30\\ud55c\", \"\\ud37c\\uc13c\\ud2b8\", \"\\ub0c9\\ub3d9\", \"\\uc131\\ubd84\", \"\\ucea1\\uc290\", \"\\ucc38\\uace0\", \"\\ucc28\\uc774\", \"\\ud558\\ub8e8\", \"\\ud604\\uc7ac\", \"\\ud638\\ud658\", \"\\ud568\\ub7c9\", \"\\ud3ec\\uc7a5\", \"\\ud568\\uc720\", \"\\ube44\\ud0c0\\ubbfc\", \"\\ud3ec\\ud568\", \"\\ub0c9\\uc7a5\", \"\\uace0\\uac1d\", \"\\uc120\\ud0dd\", \"\\uc720\\ud1b5\", \"\\uae30\\ud55c\", \"\\uc720\\uc0b0\\uade0\", \"\\ubd84\\ub9d0\", \"\\ucd94\\ucd9c\", \"\\ub300\\ud55c\", \"\\uba3c\\uc800\", \"\\uc778\\uc9c0\", \"\\uad00\\uc2ec\", \"\\uc77c\\ub85c\", \"\\uacfc\\uc77c\", \"\\uc784\\uc0b0\\ubd80\", \"\\uc694\\uc998\", \"\\ub538\\uae30\", \"\\ud55c\\ubc88\", \"\\ubc88\\uc740\", \"\\ub0a0\\uc528\", \"\\uc9c4\\uc2ec\", \"\\ubb34\\ub8cc\", \"\\ubc18\\ud488\", \"\\ub5a1\\ubcf6\\uc774\", \"\\ubbf8\\uad6d\", \"\\ube0c\\ub79c\\ub4dc\", \"\\uac80\\uc0c9\", \"\\uc54c\\ub7ec\\uc9c0\", \"\\ub9cc\\ub450\", \"\\ud2b8\\ub9ac\", \"\\uad50\\ud658\", \"\\ud3ec\\ub3c4\", \"\\ub78d\\ub2c8\", \"\\uc81c\\ud488\", \"\\uac10\\uc0ac\", \"\\uc12d\\ucde8\", \"\\ucea1\\uc290\", \"\\ucf5c\\ub77c\\uac90\", \"\\uc2dd\\ud488\", \"\\uac1c\\uc6d4\", \"\\uad8c\\uc7a5\", \"\\uac74\\uac15\", \"\\uc804\\ud600\", \"\\uc778\\ubd84\", \"\\uc548\\ub0b4\", \"\\uc774\\uae30\", \"\\uac00\\uacf5\", \"\\ucfe0\\ud3f0\", \"\\ub9c8\\ub298\", \"\\ub2e8\\ub9db\", \"\\uc815\\ub9d0\", \"\\ub0c4\\uc0c8\", \"\\ub18d\\uc0b0\\ubb3c\", \"\\uc624\\uc9d5\\uc5b4\", \"\\ud0a4\\uc988\", \"\\ub2e4\\ud06c\", \"\\ud1b5\\ud574\", \"\\uc774\\uc678\", \"\\uc813\\uac08\", \"\\ubcf4\\uace0\", \"\\ubc88\\ud638\", \"\\ubd84\\ub7c9\", \"\\uc81c\\ud55c\", \"\\uc0dd\\uc218\", \"\\uc18c\\uc9c4\", \"\\uacbd\\uc6b0\", \"\\uc81c\\ud488\", \"\\ud574\\ub2f9\", \"\\uace8\\ub4dc\", \"\\uc8fc\\ubb38\", \"\\ud655\\uc778\", \"\\ubcf5\\uc6a9\", \"\\ub18d\\uc57d\", \"\\uc2dc\\uae30\", \"\\uc0ac\\ud56d\", \"\\uc758\\uc8fc\", \"\\uc601\\uc591\\uc131\\ubd84\", \"\\uc694\\uccad\", \"\\uc218\\ub7c9\", \"\\uc2e0\\uc81c\\ud488\", \"\\ub2ec\\ub77c\", \"\\ucc29\\uc999\", \"\\ubc30\\uc1a1\\ube44\", \"\\uc625\\uc218\\uc218\", \"\\uc800\\ubc88\", \"\\ubc29\\uae08\", \"\\ubc30\\ucd94\\uae40\\uce58\", \"\\uc774\\ud558\", \"\\ubd84\\ub9ac\", \"\\uad6c\\ubd84\", \"\\uadf8\\ub9b0\", \"\\ubc18\\uc601\", \"\\uc21c\\ucc28\", \"\\ub77c\\uc778\", \"\\uc0dd\\uc73c\\ub85c\", \"\\uc794\\ub958\", \"\\ub9ac\\uac00\", \"\\uba54\\uc138\\uc9c0\", \"\\ubcf4\\ub2f5\", \"\\ubc30\\uc1a1\", \"\\ud574\\ub2f9\", \"\\ucd5c\\ub300\\ud55c\", \"\\uc0c1\\ud488\", \"\\ubc1c\\uc1a1\", \"\\ubb38\\uc758\", \"\\ucc38\\uace0\", \"\\ud45c\\uae30\", \"\\ub2f5\\ubcc0\", \"\\uc911\\ub7c9\", \"\\ub9c8\\ub9ac\", \"\\uac00\\uc2b4\", \"\\uace0\\ucd94\", \"\\ube44\\uc728\", \"\\ud574\\ub3d9\", \"\\ubb34\\uac8c\", \"\\ubbf8\\ub2c8\", \"\\uc591\\ud30c\", \"\\uc774\\ud6c4\", \"\\uad00\\ub828\", \"\\uc190\\uc9c8\", \"\\uc800\\ubd84\\uc790\", \"\\ub0b4\\uc678\", \"\\uc0c1\\ud669\", \"\\uc774\\uac74\", \"\\ubb38\\uc758\\uc0ac\\ud56d\", \"\\uc9c4\\uacf5\", \"\\ud06c\\uac8c\", \"\\uc54c\\ud2f0\", \"\\uc74c\\uc2dd\", \"\\ubd88\\uace0\\uae30\", \"\\uc21c\\ub300\", \"\\uc9c0\\uc624\", \"\\ub4f1\\uc2ec\", \"\\uc870\\uac01\", \"\\uc0c1\\ud488\", \"\\uac10\\uc0ac\", \"\\uacbd\\uc6b0\", \"\\ud638\\ud658\", \"\\ub124\\uc2a4\\ud504\\ub808\\uc18c\", \"\\ucd9c\\uace0\", \"\\uc9c0\\uae08\", \"\\uc138\\ucc99\", \"\\ucc98\\ub9ac\", \"\\ub3cc\\uccb4\", \"\\uc2a4\\ud1a0\", \"\\ud0dd\\ubc30\", \"\\uc608\\uc815\", \"\\uae30\\uac04\", \"\\ub2f9\\uc77c\", \"\\uc218\\ub839\", \"\\ud488\\uc885\", \"\\uacb0\\uc81c\", \"\\ub0a0\\uc9dc\", \"\\ub85c\\uc2a4\\ud305\", \"\\ub0b4\\uc77c\", \"\\uc218\\ubd84\", \"\\ud638\\ubc15\\uace0\\uad6c\\ub9c8\", \"\\uc774\\uc804\", \"\\ub3c4\\ucc29\", \"\\uc644\\ub8cc\", \"\\uc9c4\\uc9dc\", \"\\uae08\\uc77c\", \"\\uc6d4\\uc694\\uc77c\", \"\\ubb38\\uac74\", \"\\uc624\\ud6c4\", \"\\uba70\\uce60\", \"\\ub3d9\\uc77c\", \"\\ubc1c\\uc1a1\", \"\\uc0c1\\ud488\", \"\\ubc30\\uc1a1\", \"\\ud310\\ub9e4\", \"\\ud604\\uc7ac\", \"\\uae08\\uc561\", \"\\uc218\\ud655\", \"\\uc0ac\\uc9c4\", \"\\uadf8\\ub300\\ub85c\", \"\\uc219\\uc131\", \"\\ub4f1\\uae09\", \"\\uc218\\uc815\", \"\\ud488\\uc808\", \"\\ud615\\ud0dc\", \"\\uacf5\\uae09\", \"\\uc640\\ud50c\", \"\\ud638\\ubc15\", \"\\uc785\\ub9db\", \"\\ubcf4\\ucda9\", \"\\ubaa8\\uce74\", \"\\ubc18\\ucc2c\", \"\\uac00\\uc815\", \"\\ud488\\ubaa9\", \"\\uc544\\ub798\", \"\\uace1\\ubb3c\", \"\\ub178\\ub2c8\", \"\\ubc18\\uc8fd\", \"\\uc628\\ub77c\\uc778\", \"\\uace0\\ub824\", \"\\uc0c1\\ud558\", \"\\ucde8\\uae09\", \"\\uc8fc\\ub9d0\", \"\\ucde8\\ud5a5\", \"\\uc9c4\\ud589\", \"\\uc635\\uc158\", \"\\uace8\\ub4dc\", \"\\uc0c1\\ud488\", \"\\uc591\\ud574\", \"\\ud574\\ub2f9\", \"\\ubcf4\\uad00\", \"\\ud3ec\\uc7a5\", \"\\ube44\\ud0c0\\ubbfc\", \"\\uce7c\\ub85c\\ub9ac\", \"\\uc6d0\\ub8cc\", \"\\uc774\\uc6a9\", \"\\ud761\\uc218\", \"\\uc0ac\\uc740\", \"\\ub354\\uc6b1\", \"\\uc624\\ub2c8\", \"\\ub2e8\\uc704\", \"\\uc544\\uc774\\uc2a4\\ubc15\\uc2a4\", \"\\uac1c\\ubcc4\", \"\\ucd5c\\ub300\", \"\\ub79c\\ub364\", \"\\uc81c\\uc791\", \"\\uc2e4\\uc81c\", \"\\ubbf8\\ub9cc\", \"\\uc544\\uc774\\uc2a4\", \"\\ud574\\ub3c4\", \"\\ube14\\ub80c\\ub4dc\", \"\\ub204\\ub8fd\\uc9c0\", \"\\ub0b1\\uac1c\", \"\\ud6c8\\uc81c\", \"\\ub300\\ub7c9\", \"\\ud654\\uc81c\", \"\\uc2e4\\uc218\", \"\\ucc28\\ub85c\", \"\\uc8fc\\uc758\", \"\\uc911\\uc21c\", \"\\uacbd\\uc6b0\", \"\\ub0c9\\ub3d9\", \"\\ub0c9\\uc7a5\", \"\\uc0c1\\ud0dc\", \"\\uc77c\\ub9ac\", \"\\uc0ac\\uacfc\", \"\\ub2e4\\uc2dc\", \"\\uc815\\ubcf4\", \"\\uad6d\\uc0b0\", \"\\uc791\\uc5c5\", \"\\uac1c\\ubd09\", \"\\uc5c5\\uccb4\", \"\\uc9c8\\ubb38\", \"\\uc900\\ube44\", \"\\ubc84\\ud130\", \"\\uc7ac\\ubc30\", \"\\ubc00\\ud06c\", \"\\uc8fc\\uc2a4\", \"\\ucfe0\\ud0a4\", \"\\uc774\\uc81c\", \"\\ube44\\ud2b8\", \"\\ucd08\\ucf5c\\ub9bf\", \"\\ud504\\ub808\", \"\\ub9e4\\uc77c\", \"\\ud6a8\\uc18c\", \"\\uc2dc\\uc791\", \"\\ud06c\\ub9bc\", \"\\ud0ac\\ub85c\", \"\\uc6a9\\uc774\", \"\\uc0c9\\uc0c1\", \"\\ucd5c\\uc2e0\", \"\\ud37c\\uc13c\\ud2b8\", \"\\ubd80\\ubd84\", \"\\uae40\\uce58\", \"\\ubcc0\\uacbd\", \"\\ucd94\\ucc9c\", \"\\uc6b0\\uc720\", \"\\ud604\\ubbf8\", \"\\uad6d\\ub0b4\", \"\\ubaa8\\ub4e0\", \"\\ud3ec\\uae30\", \"\\uae30\\uc874\", \"\\uadf8\\ub78c\", \"\\ub3c4\\uc6c0\", \"\\uac1c\\uc778\", \"\\uac74\\uc870\", \"\\uac00\\ubb3c\", \"\\ud2b9\\uc131\", \"\\uc544\\ubaac\\ub4dc\", \"\\ubbf8\\ub9ac\", \"\\ub178\\ub825\", \"\\ud638\\ub450\", \"\\ub0c9\\uc7a5\\uace0\", \"\\uc2a4\\ud0c0\\ubc85\\uc2a4\", \"\\uc5d0\\uc2a4\\ud504\\ub808\\uc18c\", \"\\ubc31\\ubbf8\", \"\\uc601\\uc591\", \"\\ub545\\ucf69\", \"\\uc911\\uad6d\\uc0b0\", \"\\ud604\\uc9c0\", \"\\ud0c0\\uc785\", \"\\uc591\\ud574\", \"\\uacbd\\uc6b0\", \"\\uc131\\ubd84\", \"\\ud568\\uc720\", \"\\uc7ac\\ub8cc\", \"\\uc0dd\\uc0b0\", \"\\ud558\\ub098\\uc694\", \"\\uc885\\ub958\", \"\\uc0c1\\uc138\", \"\\uc124\\uba85\", \"\\uac00\\uc7a5\", \"\\uacfc\\uc815\", \"\\ubd80\\uc704\", \"\\uc870\\uc0ac\", \"\\ud398\\uc774\\uc9c0\", \"\\ubcc4\\ub85c\", \"\\uc81c\\uc678\", \"\\ubd80\\uc6d0\", \"\\ud504\\ub85c\\ubc14\\uc774\\uc624\\ud2f1\\uc2a4\", \"\\ube44\\uad50\", \"\\ub2e8\\uac00\", \"\\ub300\\ubd80\\ubd84\", \"\\uc721\\uc218\", \"\\uc798\\ubabb\", \"\\uc77c\\ubd80\", \"\\ud504\\ub9ac\\ubc14\\uc774\\uc624\\ud2f1\\uc2a4\", \"\\ud50c\\ub77c\\uc2a4\\ud2f1\", \"\\ubaa8\\uc591\", \"\\uc774\\uc0b0\\ud654\\uaddc\\uc18c\", \"\\uc0c1\\uc774\", \"\\uc9c0\\uc5f0\", \"\\ucde8\\uc18c\", \"\\uace0\\uac1d\", \"\\uc120\\ud0dd\", \"\\uc0ac\\uc774\\uc988\", \"\\uc0dd\\uac01\", \"\\uc778\\uc99d\", \"\\uc2e4\\uc628\", \"\\ud2f0\\ubc31\", \"\\ub2e4\\uc774\\uc5b4\\ud2b8\", \"\\uce7c\\uc298\", \"\\ud63c\\ud569\", \"\\uc801\\uc6a9\", \"\\ub450\\uc720\", \"\\uc77c\\uc790\", \"\\uc774\\ubca4\\ud2b8\", \"\\uc131\\uc778\", \"\\uc800\\ub141\", \"\\uc544\\uce68\", \"\\ub3c4\\uc2dc\\ub77d\", \"\\uc7ac\\uace0\", \"\\ud53c\\uc26c\", \"\\ubb3c\\ub7c9\", \"\\ubcf6\\uc74c\", \"\\uc11c\\ub9ac\", \"\\uc77c\\uc8fc\\uc77c\", \"\\uc911\\uac04\", \"\\ud53c\\ubd80\", \"\\uc644\\uc804\", \"\\uad6c\\uae30\\uc790\", \"\\uc13c\\ud130\", \"\\uad00\\uacc4\", \"\\uc635\\uc158\", \"\\ud558\\ub8e8\", \"\\ud06c\\uae30\", \"\\uc624\\ub298\", \"\\ubcf4\\ud1b5\", \"\\uc18c\\uae08\", \"\\uc704\\ud574\", \"\\uae30\\uc7ac\", \"\\ubd84\\uc1c4\", \"\\uc0d0\\ub7ec\\ub4dc\", \"\\uc774\\uba74\", \"\\ub179\\ucc28\", \"\\uc544\\uae30\", \"\\uc0ac\\ub78c\", \"\\ub85c\\ub9cc\", \"\\uc2dd\\uc0ac\", \"\\uc774\\uad6c\", \"\\uba39\\uae30\", \"\\uc5b4\\uc81c\", \"\\uc120\\ubcc4\", \"\\uba39\\uc774\", \"\\ud3c9\\uade0\", \"\\uae40\\uc7a5\", \"\\uc804\\ub2ec\", \"\\ub300\\uccb4\", \"\\ubcf6\\uc74c\\ubc25\", \"\\ud0a4\\uc704\", \"\\ub3fc\\uc9c0\\uace0\\uae30\", \"\\uaca8\\uc6b8\", \"\\ubcf5\\uc22d\\uc544\", \"\\ub4dc\\ub808\\uc2f1\", \"\\uad6c\\ub9e4\", \"\\ucee4\\ud53c\", \"\\ubc15\\uc2a4\", \"\\uc720\\uae30\\ub18d\", \"\\ubcc0\\ub3d9\", \"\\uc138\\ud2b8\", \"\\uc120\\ubb3c\", \"\\uac71\\uc815\", \"\\uc911\\uc778\", \"\\ud585\\uc300\", \"\\ubd80\\ub4dd\\uc774\", \"\\uc2dd\\uac10\", \"\\uae30\\uae30\", \"\\uc0c1\\uc790\", \"\\uc0b0\\uc9c0\", \"\\uc2a4\\ud2f0\\ucee4\", \"\\uaf43\\uac8c\", \"\\uc824\\ub9ac\", \"\\uc778\\ud130\\ub137\", \"\\uc0ac\\uba74\", \"\\ucf00\\uc77c\", \"\\uc5b4\\ubb35\", \"\\uc0ac\\uc815\", \"\\uad00\\ub9ac\", \"\\ub85c\\uc584\", \"\\ubcf4\\ud2c0\", \"\\uace4\\uc57d\", \"\\ub85c\\ub4dc\", \"\\uc124\\uc815\", \"\\uc870\\uc77c\", \"\\ud568\\ub7c9\", \"\\uace0\\uad6c\\ub9c8\", \"\\uc124\\ud0d5\", \"\\ub2e8\\ubc31\\uc9c8\", \"\\uad6c\\uc785\", \"\\uc624\\uba54\\uac00\", \"\\uace0\\uae30\", \"\\uc774\\uc720\", \"\\uc18c\\ub7c9\", \"\\uc870\\ub9ac\", \"\\uc250\\uc774\\ud06c\", \"\\uc218\\ub3c4\", \"\\ud568\\uc720\\ub7c9\", \"\\uce58\\uc988\", \"\\uc774\\ub0b4\", \"\\uc544\\uba54\\ub9ac\\uce74\\ub178\", \"\\uac2f\\uc218\", \"\\ub9ac\\ub274\\uc5bc\", \"\\uc81c\\uc77c\", \"\\ud30c\\uc6b0\\ub354\", \"\\ud328\\ud0a4\\uc9c0\", \"\\uc774\\ub4dc\", \"\\uad6d\\ubb3c\", \"\\ub8e8\\ud14c\", \"\\uacb0\\uacfc\", \"\\ub77c\\ubca8\", \"\\ubbf9\\uc2a4\", \"\\ub9cc\\ud07c\", \"\\uc18c\\uace0\\uae30\", \"\\ud280\\uae40\", \"\\ucca8\\uac00\", \"\\uc77c\\ubc18\", \"\\uae30\\uc900\", \"\\ud45c\\uc2dc\", \"\\uc804\\uc6a9\", \"\\uc2a4\\ud47c\", \"\\uadf8\\ub7a8\", \"\\uc2dd\\ubb3c\\uc131\", \"\\ubb3c\\uc774\", \"\\uacc4\\ub780\", \"\\uacf1\\ucc3d\", \"\\uc0c8\\uc6b0\", \"\\ucc98\\uc74c\", \"\\ub450\\uaed8\", \"\\uc804\\uccb4\", \"\\ub098\\uba38\\uc9c0\", \"\\ub77c\\uc774\\uc2a4\", \"\\ubc29\\uc2dd\", \"\\ud488\\uc9c8\", \"\\ucc28\\uc774\\uc810\", \"\\uac11\\uc790\\uae30\", \"\\uc790\\ubabd\", \"\\uc720\\uc9c0\", \"\\uc870\\uc808\", \"\\uc0b4\\uc9dd\", \"\\ub0b4\\uc6a9\\ubb3c\", \"\\uc2dd\\ub2e8\", \"\\ub300\\ucc3d\", \"\\uc694\\ub9ac\", \"\\uc5f0\\uc5b4\", \"\\uac00\\uaca9\", \"\\ucd94\\uac00\", \"\\uc81c\\uc870\", \"\\uc548\\uc2ec\", \"\\ud6a8\\uacfc\", \"\\uad6c\\uc131\", \"\\ucd5c\\uadfc\", \"\\uae30\\ubcf8\", \"\\uc218\\uac00\", \"\\uc624\\uc77c\", \"\\uc815\\uc0c1\", \"\\uc0c1\\uc628\", \"\\uadc0\\ub9ac\", \"\\uce74\\ud398\", \"\\ud56d\\uc0c1\", \"\\ub369\\uc5b4\\ub9ac\", \"\\ud06c\\ub9b4\", \"\\uc544\\uc774\\uc2a4\\ud329\", \"\\uc624\\uc804\", \"\\ud68c\\uc0ac\", \"\\ucd9c\\uc2dc\", \"\\uc6d0\\uc0b0\\uc9c0\", \"\\uc0b0\\uc774\", \"\\uce58\\ud0a8\", \"\\uc54c\\ub85c\", \"\\ub4dc\\ub77c\\uc774\\uc544\\uc774\\uc2a4\", \"\\uc0ac\\uace0\", \"\\uac8c\\uc7a5\", \"\\ubca0\\uc774\", \"\\ub2ed\\uac08\\ube44\", \"\\ucc28\\uc774\", \"\\ud504\\ub85c\", \"\\ud560\\uc778\", \"\\uc591\\ub150\", \"\\uc6d0\\ub798\", \"\\ubc30\\ucd94\", \"\\ub300\\ub7b5\", \"\\uc0dd\\uac15\", \"\\ubc29\\ubc95\", \"\\uc815\\ud488\", \"\\ubd09\\uc9c0\", \"\\uc9c1\\uc811\", \"\\uace0\\ucda7\\uac00\\ub8e8\", \"\\uae30\\uacc4\", \"\\uc544\\uc8fc\", \"\\uc0dd\\ubb3c\", \"\\uc0ac\\uc774\", \"\\uc57c\\ucc44\", \"\\ud0a4\\ub85c\", \"\\ud504\\ub9ac\", \"\\uc624\\ub9ac\", \"\\ube14\\ub8e8\\ubca0\\ub9ac\", \"\\uc0ac\\uc7a5\", \"\\uac1c\\uc120\", \"\\ud64d\\uac8c\", \"\\ub2e8\\ud638\\ubc15\", \"\\uae38\\uc774\", \"\\uc0ac\\ub824\", \"\\ud544\\uc694\", \"\\ubabb\\ub09c\\uc774\", \"\\uc0ac\\uc6a9\", \"\\uba38\\uc2e0\", \"\\uac00\\ub8e8\", \"\\ubb54\\uac00\", \"\\uaecd\\uc9c8\", \"\\ubb38\\uc81c\", \"\\uc218\\uc785\", \"\\uc81c\\uac70\", \"\\uc790\\uccb4\", \"\\ud504\\ub9ac\\ubbf8\\uc5c4\", \"\\ub9ac\\uc9c0\", \"\\ub808\\ubaac\", \"\\ucc39\\uc300\", \"\\uc21c\\uc218\", \"\\ud55c\\uc6b0\", \"\\ub9c9\\ucc3d\", \"\\uc1fc\\ud551\", \"\\ub3fc\\uc9c0\", \"\\ubca0\\ub9ac\", \"\\uba78\\uce58\", \"\\ub9ac\\ud130\", \"\\ud658\\ubd88\", \"\\uc544\\uc608\", \"\\uc694\\uac70\\ud2b8\", \"\\uba38\\ub9ac\", \"\\ucd08\\ubc8c\", \"\\uaec0\\ub370\", \"\\uc624\\ub80c\\uc9c0\", \"\\ub450\\ubd80\", \"\\ub2f9\\uba74\", \"\\ud3ec\\ud568\", \"\\uc18c\\uc2a4\", \"\\ubcf4\\uc2dc\", \"\\uc6a9\\ub7c9\", \"\\ub0b4\\uc6a9\", \"\\ubcc4\\ub3c4\", \"\\uc9c0\\ubc29\", \"\\uc6a9\\uae30\", \"\\uc5ec\\ub7ec\", \"\\uc2dc\\ub7fd\", \"\\uc6b0\\ub824\", \"\\uc885\\ub8cc\", \"\\ud38c\\ud504\", \"\\uac04\\uc7a5\", \"\\ub300\\uc2e0\", \"\\uc81c\\uacf5\", \"\\uc2a4\\ud14c\\uc774\\ud06c\", \"\\ubcf8\\uc0ac\", \"\\uc99d\\uc815\", \"\\ube44\\ub2d0\", \"\\uae30\\ud638\", \"\\uc885\\uc774\", \"\\ub3d9\\ubd09\", \"\\ucd94\\uc11d\", \"\\ub9e4\\uc7a5\", \"\\uc774\\ub984\", \"\\uc624\\ubbf8\\uc790\", \"\\ud2b9\\uac00\", \"\\ub300\\uac8c\", \"\\uc2dc\\uc2a4\\ud15c\", \"\\ub0b4\\uc7a5\", \"\\ub9d0\\uc500\", \"\\ud589\\uc0ac\", \"\\ud64d\\uc0bc\", \"\\uc790\\uc5f0\", \"\\uc6d0\\ub450\", \"\\uacc4\\uc18d\", \"\\uc62c\\ud574\", \"\\uac10\\uc790\", \"\\ub77c\\uba74\", \"\\uc2a4\\ud2f1\", \"\\uc911\\uc774\", \"\\ucd08\\ucf54\", \"\\uc0b4\\uc774\", \"\\ud1b5\\ubc00\", \"\\uac08\\ube44\", \"\\uc628\\ub3c4\", \"\\ubfcc\\ub9ac\", \"\\ud6c4\\uae30\", \"\\uc791\\ub144\", \"\\ud50c\\ub7ec\\uc2a4\", \"\\uc0bc\\uacb9\\uc0b4\", \"\\ub9e4\\ucf64\", \"\\uac10\\uc18c\", \"\\uc2a4\\ud504\", \"\\ud1a0\\ub9c8\\ud1a0\", \"\\uc0c9\\uae54\", \"\\uac70\\ub9ac\", \"\\uc74c\\ub8cc\", \"\\ucf00\\uc774\\uc2a4\", \"\\uc774\\uc720\\uc2dd\"], \"Freq\": [41445.0, 16425.0, 13067.0, 15059.0, 25215.0, 12683.0, 10051.0, 11756.0, 11982.0, 11322.0, 10589.0, 9268.0, 9982.0, 7690.0, 7719.0, 7222.0, 8147.0, 7770.0, 5982.0, 6153.0, 6813.0, 6854.0, 5947.0, 6443.0, 5358.0, 5713.0, 4741.0, 5446.0, 5011.0, 4523.0, 10587.887862796575, 9981.543311515605, 2931.686557680472, 2332.5337881126725, 2270.5529863400516, 1175.5276125048626, 1074.5508132454916, 1017.1566404610892, 927.5414530965566, 917.7442783824133, 915.9088098486503, 900.6604930183294, 799.871028964285, 781.6168590959519, 655.1585874497927, 650.0075901313755, 644.3432430914786, 587.6632106911272, 577.0832166965807, 566.515036273127, 563.1104051302317, 541.2734394485249, 539.9836377612309, 511.8127959037021, 483.5722739997287, 442.21264123636524, 431.90628158512726, 425.85749290967317, 420.2628659622247, 383.22788123084905, 33418.58871905419, 630.0218310628874, 11981.683977347482, 8145.998182558335, 3834.2082829729593, 3602.0493138150405, 2967.207085366864, 2593.0504750477057, 2237.6908247767506, 1677.1466460720815, 1577.082021514103, 1308.3272735756032, 1210.4780959020086, 1140.7153918042748, 1013.5297381969948, 1007.0166472205989, 995.5101135320863, 788.6223423102666, 733.4203119510905, 685.2267494466822, 675.1727603607969, 548.3559716826279, 520.8248647010095, 500.16411926134015, 491.66880253654597, 480.82082185777176, 467.8247031662399, 329.07173951634167, 313.92040306793285, 247.6201042644533, 241.90789651592232, 225.38639016880484, 5199.85330174453, 8025.800407405051, 1181.6616904469563, 355.6540239793331, 15057.926684733904, 9266.940229067442, 3010.0345527416653, 1928.5283181525685, 1659.5185370007011, 1638.37857643765, 1566.6165146127641, 1313.0688220257043, 1291.4307527528163, 1025.8556895206507, 925.8072438800161, 831.0662643178437, 808.6245492396438, 595.6578558706102, 524.3017791590652, 499.8130580347567, 486.4163200742623, 410.20340596109213, 391.1099581451057, 358.54966224197403, 353.87494468121366, 349.4794035482557, 315.0793488599417, 297.1685855023209, 281.5435232658, 277.3099383752767, 265.48882839300893, 257.16067644884373, 241.24997865016098, 237.38770919953146, 4529.562590470649, 3062.824456653047, 611.1130999111803, 3807.7069999277037, 1071.9996220596317, 11321.003631882462, 7768.876778707808, 2603.150110785037, 2183.3742604095246, 1535.419950257316, 1288.5427522032985, 1280.9253364666222, 1255.5668351008737, 1047.911774380988, 1038.2342890790142, 1013.0014401863094, 979.3784522847476, 970.9943805126381, 905.4005132758998, 848.8808659913163, 825.0570114885187, 651.9626301095444, 609.5983922085388, 483.50604450047484, 481.30976547019253, 424.97959798923824, 418.85199223594776, 380.68606981103073, 369.56160921710955, 369.23849852411337, 336.63468505142197, 331.87475580578706, 327.91536811282106, 316.25453345422375, 297.41139494230805, 14668.229221752254, 1001.3354787126605, 1399.9642787660716, 6853.5999046532, 4601.217265541007, 4080.046698312912, 3800.500807980371, 1889.9170655903592, 1724.797725098142, 1584.0082661844247, 1459.5047269481652, 1459.0521810092787, 1350.1542246862034, 1295.886939502862, 1267.7536482297903, 1249.0690664255737, 1198.8536695765406, 736.6092495930717, 684.8325411464369, 655.4464003337348, 596.7341021265655, 543.5095277599281, 519.5967754816193, 514.7033765685294, 470.9443486283492, 470.40489138244175, 445.2180957981721, 431.91476305085365, 420.8505770139474, 417.5051100793965, 408.6284917592467, 339.7303963717055, 339.07344583234806, 4419.280530923353, 3100.554694114183, 1232.710402096573, 11755.67078819652, 6811.882315185183, 3119.3527369782605, 1951.6996798986788, 1273.081056147779, 1260.9872785446796, 1143.6116502432087, 1103.0477107495412, 1016.4640999895038, 946.580237724424, 679.7824504773808, 607.7164267742108, 494.0158939506505, 461.4576252271734, 455.17570665573515, 447.4529248708517, 440.1900838201997, 426.90786617983275, 424.79557919625324, 420.77622554480797, 412.0345894339764, 394.35692675334553, 379.9170083660712, 376.2331888368929, 333.23947799862253, 325.74535387094613, 315.8808311739086, 312.61065200656003, 296.64396995119534, 293.57534645106557, 1843.4113953320982, 3708.818557892975, 931.3984194537966, 3638.1842631301365, 1111.755790713334, 765.5355534352335, 12682.302832597385, 6441.982008691109, 5711.939889590917, 3614.976895157384, 3196.6059460538845, 3138.327907457363, 994.1758959696191, 934.1013980897177, 822.8079637541773, 774.1859597861393, 771.6281932146303, 632.5972670795746, 621.7074533099463, 588.2961293182178, 537.1164643471777, 534.5753775997724, 519.4763363196006, 513.2736059073878, 482.36251365086093, 477.1925071582382, 440.40087957281963, 429.6044675397472, 351.8887331629453, 340.0398822916032, 338.6674917007859, 334.345332279894, 328.154082442816, 316.14724830076943, 292.89032146687833, 285.33050789736126, 1174.9334606861653, 7718.246886657017, 5445.32655724566, 3529.63607125245, 2911.515362274061, 2440.73199708325, 2129.243978417324, 1919.3639486475895, 1461.0901301181345, 1317.7143423570706, 1255.3192163947883, 1211.8064287502941, 903.0204111994567, 900.1623388896388, 879.0822370833597, 875.3512745151328, 838.2053404981021, 804.1282788192807, 770.2878970784394, 727.9419321263084, 699.0925132172922, 680.6017879099943, 668.7323607714717, 644.9127987840258, 613.5903392602415, 607.3015707137174, 550.2478997431416, 545.2935547566241, 527.7937380334895, 525.1301856559735, 501.65819629749956, 7689.547501558223, 3489.13048897686, 3061.720127273308, 2670.376979275173, 2049.9338746065187, 1999.8768152610826, 1689.2173312424002, 1605.9309744184638, 1308.4833895135407, 1249.7687719312714, 1171.32391059528, 1108.3708129181819, 1105.1183758648776, 957.6495726198738, 952.7629276201349, 921.8865142675711, 823.7537716827507, 786.8685714519316, 782.9536628582928, 604.3777285394489, 599.4234521722491, 582.0266763963875, 448.0467078508585, 444.6991874121199, 421.005541144684, 393.4798997389099, 391.43744173161423, 349.17487426098734, 319.60568327021474, 308.2606142788817, 3218.280239929149, 941.4058744991281, 7221.038271108893, 5357.204984591426, 2881.3238838371585, 2625.6311243462314, 2233.8274774484016, 1723.9792578693389, 1544.6075813906548, 1439.7292033511437, 1167.547384393843, 1164.392351576472, 957.956458176787, 807.6912738902753, 778.8084126248169, 732.0924430379962, 684.7448401291679, 610.225862000084, 609.2849842766938, 561.4199138537151, 547.7039562234131, 527.0108703692641, 518.7877113610708, 501.6381180403154, 480.2925939628413, 437.15210770955713, 424.17720499522136, 396.8648091049476, 359.24789357676684, 347.32587991122006, 330.2286905678418, 284.6442595207739, 5009.914396481619, 4522.504585409646, 3026.311074134489, 2270.2264543691977, 1825.1987086939914, 1365.8840937755708, 1200.2397721444804, 1162.9374376461121, 1138.0876139139616, 1108.6799367314227, 1097.1675639378861, 1004.6884107750615, 982.6078380875907, 893.6070340266091, 784.610584716971, 768.5008161892166, 703.9563497870129, 675.2275490589957, 637.1291638283088, 630.7827886707506, 611.1444362009822, 535.7067565413273, 471.11665511564274, 466.57542556417053, 432.3635626426931, 427.5382338866867, 386.09618541479256, 378.6048997432934, 323.62544952919626, 322.4411581285027, 1362.140972769147, 6152.0018800841, 3334.1706800104957, 3038.5088441503694, 2499.5214087038535, 1756.6449971772522, 1696.1277909588853, 1454.43673291841, 1270.7454300689028, 1262.1882233311053, 1260.0356103001714, 1125.7102774105535, 1017.871693451529, 993.4393289950524, 893.0497439279903, 884.1135463253394, 870.4619189835205, 782.6693813083368, 714.8043883324848, 653.3306777170119, 527.7910630131763, 523.097474592522, 473.6891225294579, 450.23387975674, 435.42332374886035, 334.2702105577228, 311.9969809269376, 310.0273606591707, 294.28873986944745, 290.49429847792885, 266.76634523175795, 13066.221412742987, 3510.259385245206, 3232.2650052051986, 2446.361949293611, 2342.8754054234364, 1224.5429172979004, 1219.945701550047, 1085.8906273868795, 1033.3801208786856, 744.4713187950512, 682.5395050102414, 658.2819893222355, 560.6635248439503, 501.01399885920483, 394.6663205410784, 394.52796300622504, 387.83925526327624, 363.42446298523674, 349.5879450936324, 345.0438938018509, 336.2476415321388, 316.7143094734182, 295.65753482892774, 281.7058973530752, 273.43882443386366, 264.96142512948694, 250.15439792745062, 220.21619704462356, 204.0140901796917, 200.75592311514941, 5946.321413983469, 3879.796846085036, 2929.9653484021774, 2324.3893369622897, 1630.151795591674, 1605.7835335710843, 1571.0693958551292, 1536.9794395823585, 1457.9320334995296, 1332.5908163641614, 1097.452608954833, 1091.4109149224948, 1050.4095222442566, 992.6844971507472, 602.0584668059198, 552.7598153347458, 507.8194341713474, 496.9835745258694, 493.3426046113885, 481.00239030997164, 477.8139291836038, 471.24993456347715, 439.00278524474516, 424.2267612740037, 420.12945160849284, 365.7595155630765, 353.26921096203154, 325.66553007159666, 324.65832819736755, 262.23136507817, 3902.834123301777, 3184.644011254233, 2872.9802283714266, 1734.2971735677081, 1726.0531832323031, 1435.8930149127978, 1402.5723441405548, 1289.8529559369633, 1178.881609357909, 1097.1871122283526, 961.6032889489476, 904.0120962095837, 820.8936438813012, 815.6953065454514, 789.8216251464486, 646.2517852199993, 642.9826294751458, 601.0885214494616, 595.0820899105912, 543.8063015258832, 536.8540036886641, 525.5394564002388, 520.3606252999881, 518.2288617736299, 516.128553913457, 504.1913333371229, 483.97978352841216, 383.498883009366, 379.18625533688794, 378.74959857433805, 16424.542613209585, 2706.121467850095, 2124.98718877838, 1301.3685085245365, 1248.3902326256957, 1241.0192580102687, 1047.786248042115, 807.6561037907519, 805.5987732250416, 698.7386939013275, 680.1958910680572, 551.8871021600676, 523.0475248045087, 432.7342082813631, 423.13225826442203, 401.9493744775953, 386.01204971410294, 376.2454558139198, 359.65589470973043, 341.32536725964036, 301.3559194339777, 289.5495240605246, 275.27585201343777, 247.17638411132936, 189.39186221817926, 164.5785300222809, 159.03707781716173, 154.71394131560734, 153.17194155143358, 148.4289824103509, 5981.25081543195, 2201.385017120029, 2158.192206059601, 1704.0636163575746, 1587.6683908461407, 1383.1921181597063, 1241.1212709707604, 1193.5029028562617, 1168.4279830474288, 1136.832737117546, 1089.2907716991872, 1014.8744782250452, 791.133801807079, 784.8565751737466, 753.6680909941863, 695.7493177340899, 662.1334126781444, 634.6372084848495, 528.0798921865552, 512.2592405184084, 461.7160247948897, 416.4552833903994, 318.28843970216224, 317.04944152252887, 302.18716153799977, 262.2502146220522, 253.87354911882193, 252.47741291387544, 242.6844484465232, 239.23545339141268, 10050.229534737362, 3788.916779035405, 2894.236439137643, 1723.655576165625, 1564.2768889722356, 1405.8421521015564, 1311.3970771456266, 1224.5114071254773, 974.060145274055, 820.8290404944509, 755.3847776335044, 570.2770206564659, 494.7362089130529, 484.2443631767622, 425.31533503571006, 423.9600459501002, 372.0150663916536, 366.8915429534464, 366.3128907782807, 351.612414883639, 337.49573668216846, 312.8667315648956, 305.6214386432986, 303.2196588140743, 270.4636106848533, 258.43254881738835, 212.90668704772915, 209.0702829892698, 206.9401394275576, 205.84614512719418, 4740.398259908349, 2597.10342533185, 2495.643160811886, 1829.8051784397505, 1483.454501439643, 1258.294919251933, 1153.641347657317, 1102.2416897745927, 1002.8123280764576, 951.832119837605, 830.6167384354537, 764.4073205091472, 703.1726057173981, 691.6414720442433, 618.3898917842647, 612.9569690070878, 577.858166584701, 557.855946301035, 535.0342679844733, 502.9331833689951, 475.37112956120296, 454.9171091371572, 439.93013288396577, 415.0415013389094, 374.7188684980069, 369.81588669881586, 347.4811418575511, 217.8112760058531, 210.8542432289741, 208.959209330162, 221.36194064236963, 2929.033916708663, 2814.5268926587023, 2732.658796959206, 1572.30514205167, 1529.911958773157, 1179.492970013376, 1085.3103810185542, 944.6563030173257, 890.3421261147223, 889.0527050477468, 852.4965435814977, 753.8294866237786, 690.5483541963496, 638.7294825141147, 637.614936853877, 635.1174711960882, 577.8494362306718, 548.1805092115218, 538.3299947939714, 458.96848659914934, 440.64449657084475, 429.11496220487044, 344.62379541645896, 323.96206206908636, 316.492949810138, 314.97455238269316, 278.8283339169331, 276.60362348344864, 275.4966393541817, 267.00507008003297], \"Total\": [41445.0, 16425.0, 13067.0, 15059.0, 25215.0, 12683.0, 10051.0, 11756.0, 11982.0, 11322.0, 10589.0, 9268.0, 9982.0, 7690.0, 7719.0, 7222.0, 8147.0, 7770.0, 5982.0, 6153.0, 6813.0, 6854.0, 5947.0, 6443.0, 5358.0, 5713.0, 4741.0, 5446.0, 5011.0, 4523.0, 10589.0784238603, 9982.733872579329, 2932.877118744192, 2333.7243491763925, 2271.7435474037716, 1176.7181735685836, 1075.7413743092125, 1018.3472015248097, 928.7320141602771, 918.9348394461339, 917.0993709123709, 901.8510540820499, 801.0615900280055, 782.8074201596725, 656.3491485135132, 651.1981511950961, 645.5338041551992, 588.8537717548478, 578.2737777894154, 567.7055973368475, 564.3009661939523, 542.4640005122454, 541.1741988249514, 513.0033569674229, 484.7628350729373, 443.4032023000858, 433.0968426530228, 427.04805398025616, 421.45342702594525, 384.4184422992352, 41445.51528290352, 1632.4934540098836, 11982.87754040137, 8147.1917456231895, 3835.401846026843, 3603.242876868924, 2968.4006484207475, 2594.2440381015895, 2238.8843878306343, 1678.3402091259659, 1578.2755845679874, 1309.5208366294876, 1211.671658955893, 1141.9089548581592, 1014.7233013403485, 1008.2102102744831, 996.7036765859705, 789.8159053641508, 734.6138750049747, 686.4203125095073, 676.3663234146811, 549.5495347365121, 522.0184277548937, 501.3576823152243, 492.8623655904301, 482.0143849116559, 469.018266220124, 330.2653025702258, 315.113966121817, 248.8136673183376, 243.10145956980662, 226.57995322268914, 8717.162648626561, 41445.51528290352, 5011.0861280752515, 1486.6192947897812, 15059.116866919194, 9268.130411252732, 3011.224734926951, 1929.7185003378552, 1660.7087191859878, 1639.5687586229367, 1567.8066967980508, 1314.259004210991, 1292.620934938103, 1027.0458717059373, 926.9974260653023, 832.2564465031298, 809.81473142493, 596.8480380601717, 525.4919613443514, 501.00324022004276, 487.60650225954834, 411.3935881463782, 392.30014033039174, 359.7398444272601, 355.0651268664997, 350.66958573354174, 316.2695310452278, 298.358767687607, 282.7337054620538, 278.5001205605628, 266.679010578295, 258.35085863823514, 242.4401608354473, 238.57789138909305, 5763.401334777078, 5011.0861280752515, 735.5633382066769, 25215.6877542789, 5492.408495192841, 11322.20718272639, 7770.080329551735, 2604.353661628962, 2184.5778112534495, 1536.623501101242, 1289.7463030472245, 1282.1288873105482, 1256.7703859447997, 1049.115325224914, 1039.4378399229402, 1014.204991030235, 980.5820031355356, 972.1979313565637, 906.6040641198254, 850.0844168352419, 826.2605623324442, 653.166180957645, 610.8019430524644, 484.7095953444003, 482.513316314118, 426.1831488331637, 420.05554307987325, 381.8896206549562, 370.76516006103503, 370.44204936803885, 337.83823589534745, 333.07830664971254, 329.11891895674654, 317.45808429814923, 298.61494578623353, 25215.6877542789, 1632.4934540098836, 8717.162648626561, 6854.796032528181, 4602.413393312319, 4081.24282601079, 3801.696935678249, 1891.113193288238, 1725.993852796021, 1585.2043938952495, 1460.7008546630952, 1460.2483087071575, 1351.3503523840823, 1297.083067200741, 1268.9497759276692, 1250.2651941234526, 1200.0497972744195, 737.8053772909503, 686.0286688443156, 656.6425280316134, 597.9302298244442, 544.7056554578068, 520.7929031794979, 515.899504266408, 472.14047632622766, 471.6010190803202, 446.41422349605057, 433.1108907487321, 422.04670471182584, 418.70123777727497, 409.82461945712515, 340.926524069584, 340.2695735302265, 5492.408495192841, 25215.6877542789, 5763.401334777078, 11756.867405843986, 6813.078932832649, 3120.549354651032, 1952.8962975461432, 1274.2776737952433, 1262.183896192144, 1144.808267890673, 1104.2443283970056, 1017.660717636968, 947.7768553718882, 680.9790681248451, 608.9130444216751, 495.2125115981146, 462.65424287463753, 456.37232430319926, 448.6495425183158, 441.3867014676638, 428.10448382729686, 425.99219684371735, 421.9728431922721, 413.2312070814405, 395.55354440080964, 381.1136260135353, 377.429806484357, 334.43609564608664, 326.94197151841024, 317.0774488213727, 313.80726965402414, 297.84058759865945, 294.7719640985297, 2258.026547505551, 5072.086716871148, 1486.6192947897812, 25215.6877542789, 4331.1777287120385, 5011.0861280752515, 12683.482306554775, 6443.161482648499, 5713.119363548308, 3616.1563691147726, 3197.785420011273, 3139.5073814147513, 995.355369927008, 935.2808720471066, 823.9874377115663, 775.3654337435282, 772.8076671720193, 633.7767410369636, 622.8869272673353, 589.4756032756068, 538.2959383045667, 535.7548515571614, 520.6558102769895, 514.4530798647768, 483.54198760824977, 478.371981115627, 441.58035353020847, 430.783941497136, 353.06820712033414, 341.219356248992, 339.8469656581747, 335.52480623728286, 329.3335564002048, 317.32672225815827, 294.06979542426717, 286.5099818547501, 8717.162648626561, 7719.429837496805, 5446.509508085448, 3530.819022092236, 2912.698313137761, 2441.914947923036, 2130.42692925711, 1920.546899487376, 1462.2730809579211, 1318.8972931968572, 1256.502167234575, 1212.9893795900807, 904.2033620392431, 901.3452897294252, 880.2651879231461, 876.5342253549192, 839.3882913378885, 805.3112296590671, 771.4708479182258, 729.1248829660948, 700.2754640570786, 681.7847387497807, 669.9153116222258, 646.0957496238121, 614.7732901000279, 608.4845215535038, 551.430850582928, 546.4765055964104, 528.9766888732759, 526.3131364957599, 502.8411471372858, 7690.750549653625, 3490.3335370722602, 3062.9231753687086, 2671.5800273705736, 2051.136922701919, 2001.079863356483, 1690.4203793378006, 1607.1340225138642, 1309.686437608941, 1250.9718200266718, 1172.5269586975428, 1109.5738610135822, 1106.321423960278, 958.8526207152742, 953.9659757155353, 923.0895623629715, 824.956819778151, 788.071619547332, 784.1567109536932, 605.5807766348493, 600.6265002676495, 583.2297244917879, 449.2497559789701, 445.90223550752023, 422.20858924008434, 394.68294783431026, 392.64048982701456, 350.37792235638767, 320.8087313656151, 309.463662374282, 4331.1777287120385, 8717.162648626561, 7222.243115762034, 5358.409829244567, 2882.5287284902984, 2626.8359689993713, 2235.0323221015415, 1725.184102522479, 1545.8124260437949, 1440.9340480042838, 1168.752229046983, 1165.597196229612, 959.161302829927, 808.8961185434152, 780.0132572779569, 733.2972876911361, 685.9496847823078, 611.430706653224, 610.4898289298337, 562.6247585068551, 548.908800885494, 528.2157150224041, 519.9925560142108, 502.8429626934553, 481.4974386159812, 438.35695236269703, 425.38204964836126, 398.0696537580875, 360.45273822990674, 348.53072456435996, 331.4335352209817, 285.8491041739138, 5011.102932716492, 4523.693121644519, 3027.4996103693607, 2271.4149906040693, 1826.3872449288633, 1367.0726300104427, 1201.4283083793523, 1164.125973880984, 1139.2761501488335, 1109.8684729662946, 1098.356100172758, 1005.8769470099335, 983.7963743224627, 894.7955702657564, 785.799120951843, 769.6893524240886, 705.1448860218849, 676.4160852938677, 638.3177000631808, 631.9713249097975, 612.3329724358542, 536.8952927761993, 472.3051913505145, 467.7639617990423, 433.5520988775649, 428.7267701215585, 387.28472164966433, 379.7934359781652, 324.81398576406804, 323.6296943633745, 5072.086716871148, 6153.187061692525, 3335.3558616189202, 3039.694025758794, 2500.706590312278, 1757.8301787856767, 1697.3129725673098, 1455.6219145268344, 1271.9306116773273, 1263.3734049395298, 1261.2207919085959, 1126.895459018978, 1019.0568750599537, 994.624510603477, 894.234925536415, 885.298727933764, 871.6471005919451, 783.8545629167614, 715.9895699409094, 654.5158593254365, 528.9762446216009, 524.2826562009466, 474.8743041378824, 451.4190613651645, 436.60850535728486, 335.4553921661473, 313.1821625353621, 311.2125422675952, 295.47392147787195, 291.67948008635335, 267.95152684018245, 13067.417697122639, 3511.4556696248555, 3233.461289584848, 2447.5582336732605, 2344.0716898116366, 1225.7392016775502, 1221.1419859296968, 1087.0869117665293, 1034.5764052583354, 745.667603174701, 683.7357893941665, 659.4782737018853, 561.859809282673, 502.21028323885446, 395.862604920728, 395.72424738587466, 389.03553964292587, 364.62074736488637, 350.78422947328204, 346.24017818150054, 337.4439259117884, 317.91059385306784, 296.85381920857736, 282.90218173272484, 274.6351088135133, 266.15770950913657, 251.35068230710033, 221.41248142427327, 205.21037456361668, 201.95220749479913, 5947.521910064048, 3880.997342165615, 2931.1658444827563, 2325.5898330428686, 1631.3522916722532, 1606.9840296516634, 1572.2698919357083, 1538.1799356629376, 1459.1325295801087, 1333.7913124447405, 1098.6531050354122, 1092.611411003074, 1051.6100183248357, 993.8849932313262, 603.2589628864988, 553.9603114153248, 509.0199302519263, 498.18407060644836, 494.5431006919674, 482.2028863905506, 479.01442526418276, 472.4504306440561, 440.2032813253241, 425.42725735458265, 421.3299476890718, 366.96001164365543, 354.4697070426105, 326.8660261521756, 325.8588242779465, 263.4318611587489, 3904.03181606509, 3185.8417040175464, 2874.17792113474, 1735.4948663310213, 1727.2508760214653, 1437.090707676111, 1403.770036903868, 1291.0506487002765, 1180.079302121222, 1098.3848049916658, 962.8009817122606, 905.2097889728967, 822.0913366446142, 816.8929993087645, 791.0193179097616, 647.4494779833124, 644.1803222384589, 602.2862142127747, 596.2797826739043, 545.0039942891963, 538.0516964562524, 526.7371491635519, 521.5583180633012, 519.426554536943, 517.3262466767701, 505.389026100436, 485.17747629172527, 384.6965757726791, 380.38394810020105, 379.94729133765117, 16425.755467429826, 2707.3343220656675, 2126.2000429939526, 1302.5813627401087, 1249.603086841268, 1242.2321122258409, 1048.9991022576871, 808.868958006324, 806.8116274406136, 699.9515481168995, 681.4087452836293, 553.0999563756396, 524.2603790200808, 433.9470624969352, 424.3451124799941, 403.1622286931674, 387.224903929675, 377.4583100294919, 360.8687489253025, 342.5382214752124, 302.56877364954977, 290.7623782760967, 276.48870622900984, 248.38923832690142, 190.60471643375132, 165.79138423785295, 160.2499320327338, 155.9267955311794, 154.38479576700564, 149.64183662592296, 5982.448210852183, 2202.582412540262, 2159.3896015030373, 1705.2610117778077, 1588.8657862663738, 1384.3895135799394, 1242.3186663909935, 1194.7002982764948, 1169.625378467662, 1138.030132537779, 1090.4881671194203, 1016.0718736452782, 792.3311972273119, 786.053970600842, 754.8654864144193, 696.9467131543229, 663.3308080983774, 635.8346039050824, 529.2772876067881, 513.4566359386414, 462.91342021512264, 417.6526788106324, 319.4858351223952, 318.24683694276183, 303.38455695823274, 263.4476100422852, 255.0709445390549, 253.6748083341084, 243.88184386675616, 240.43284881164564, 10051.433628844217, 3790.1208731845913, 2895.440533244499, 1724.859670272481, 1565.4809830790916, 1407.0462462084124, 1312.6011712524826, 1225.7155012323333, 975.2642393809108, 822.0331346013066, 756.5888717403602, 571.4811147633217, 495.9403030199088, 485.4484572836181, 426.51942914256597, 425.1641400569561, 373.2191604985095, 368.0956370603023, 367.5169848851366, 352.8165089904949, 338.69983078902436, 314.0708256717515, 306.8255327501545, 304.4237529209302, 271.6677047917092, 259.63664292424426, 214.110781154585, 210.27437709612565, 208.14423353441344, 207.05023923405003, 4741.586810475532, 2598.291975899032, 2496.831711379068, 1830.9937290069327, 1484.6430520068252, 1259.483469819115, 1154.8298982244992, 1103.4302403417748, 1004.0008786436397, 953.0206704047871, 831.8052890026358, 765.5958710879304, 704.3611562845803, 692.8300226114254, 619.5784423514468, 614.1455195742699, 579.0467171518832, 559.0444968682172, 536.2228185516555, 504.12173393617724, 476.5596801283851, 456.1056597043393, 441.1186834511479, 416.23005190609155, 375.907419065189, 371.004437265998, 348.6696924247332, 218.99982657303522, 212.04279379615622, 210.14775989734412, 357.6162389222135, 2930.2232970870136, 2815.716273041328, 2733.8481773375565, 1573.4945224300202, 1531.1013391515073, 1180.6823503917262, 1086.4997613969044, 945.845683395676, 891.5315064930726, 890.2420854260971, 853.685923959848, 755.0188670021289, 691.7377345746999, 639.918862892465, 638.8043172322273, 636.3068515744385, 579.0388166090221, 549.3698895898721, 539.5193751723217, 460.1578669774996, 441.83387694919503, 430.3043425832207, 345.81317579480924, 325.15144244743664, 317.68233018848827, 316.16393276104344, 280.0177142952834, 277.7930038617989, 276.686019732532, 268.19445045838324], \"Category\": [\"Default\", \"Default\", \"Default\", \"Default\", \"Default\", \"Default\", \"Default\", \"Default\", \"Default\", \"Default\", \"Default\", \"Default\", \"Default\", \"Default\", \"Default\", \"Default\", \"Default\", \"Default\", \"Default\", \"Default\", \"Default\", \"Default\", \"Default\", \"Default\", \"Default\", \"Default\", \"Default\", \"Default\", \"Default\", \"Default\", \"Topic1\", \"Topic1\", \"Topic1\", \"Topic1\", \"Topic1\", \"Topic1\", \"Topic1\", \"Topic1\", \"Topic1\", \"Topic1\", \"Topic1\", \"Topic1\", \"Topic1\", \"Topic1\", \"Topic1\", \"Topic1\", \"Topic1\", \"Topic1\", \"Topic1\", \"Topic1\", \"Topic1\", \"Topic1\", \"Topic1\", \"Topic1\", \"Topic1\", \"Topic1\", \"Topic1\", \"Topic1\", \"Topic1\", \"Topic1\", \"Topic1\", \"Topic1\", \"Topic2\", \"Topic2\", \"Topic2\", \"Topic2\", \"Topic2\", \"Topic2\", \"Topic2\", \"Topic2\", \"Topic2\", \"Topic2\", \"Topic2\", \"Topic2\", \"Topic2\", \"Topic2\", \"Topic2\", \"Topic2\", \"Topic2\", \"Topic2\", \"Topic2\", \"Topic2\", \"Topic2\", \"Topic2\", \"Topic2\", \"Topic2\", \"Topic2\", \"Topic2\", \"Topic2\", \"Topic2\", \"Topic2\", \"Topic2\", \"Topic2\", \"Topic2\", \"Topic2\", \"Topic2\", \"Topic3\", \"Topic3\", \"Topic3\", \"Topic3\", \"Topic3\", \"Topic3\", \"Topic3\", \"Topic3\", \"Topic3\", \"Topic3\", \"Topic3\", \"Topic3\", \"Topic3\", \"Topic3\", \"Topic3\", \"Topic3\", \"Topic3\", \"Topic3\", \"Topic3\", \"Topic3\", \"Topic3\", \"Topic3\", \"Topic3\", \"Topic3\", \"Topic3\", \"Topic3\", \"Topic3\", \"Topic3\", \"Topic3\", \"Topic3\", \"Topic3\", \"Topic3\", \"Topic3\", \"Topic3\", \"Topic3\", \"Topic4\", \"Topic4\", \"Topic4\", \"Topic4\", \"Topic4\", \"Topic4\", \"Topic4\", \"Topic4\", \"Topic4\", \"Topic4\", \"Topic4\", \"Topic4\", \"Topic4\", \"Topic4\", \"Topic4\", \"Topic4\", \"Topic4\", \"Topic4\", \"Topic4\", \"Topic4\", \"Topic4\", \"Topic4\", \"Topic4\", \"Topic4\", \"Topic4\", \"Topic4\", \"Topic4\", \"Topic4\", \"Topic4\", \"Topic4\", \"Topic4\", \"Topic4\", \"Topic4\", \"Topic5\", \"Topic5\", \"Topic5\", \"Topic5\", \"Topic5\", \"Topic5\", \"Topic5\", \"Topic5\", \"Topic5\", \"Topic5\", \"Topic5\", \"Topic5\", \"Topic5\", \"Topic5\", \"Topic5\", \"Topic5\", \"Topic5\", \"Topic5\", \"Topic5\", \"Topic5\", \"Topic5\", \"Topic5\", \"Topic5\", \"Topic5\", \"Topic5\", \"Topic5\", \"Topic5\", \"Topic5\", \"Topic5\", \"Topic5\", \"Topic5\", \"Topic5\", \"Topic5\", \"Topic6\", \"Topic6\", \"Topic6\", \"Topic6\", \"Topic6\", \"Topic6\", \"Topic6\", \"Topic6\", \"Topic6\", \"Topic6\", \"Topic6\", \"Topic6\", \"Topic6\", \"Topic6\", \"Topic6\", \"Topic6\", \"Topic6\", \"Topic6\", \"Topic6\", \"Topic6\", \"Topic6\", \"Topic6\", \"Topic6\", \"Topic6\", \"Topic6\", \"Topic6\", \"Topic6\", \"Topic6\", \"Topic6\", \"Topic6\", \"Topic6\", \"Topic6\", \"Topic6\", \"Topic6\", \"Topic6\", \"Topic6\", \"Topic7\", \"Topic7\", \"Topic7\", \"Topic7\", \"Topic7\", \"Topic7\", \"Topic7\", \"Topic7\", \"Topic7\", \"Topic7\", \"Topic7\", \"Topic7\", \"Topic7\", \"Topic7\", \"Topic7\", \"Topic7\", \"Topic7\", \"Topic7\", \"Topic7\", \"Topic7\", \"Topic7\", \"Topic7\", \"Topic7\", \"Topic7\", \"Topic7\", \"Topic7\", \"Topic7\", \"Topic7\", \"Topic7\", \"Topic7\", \"Topic7\", \"Topic8\", \"Topic8\", \"Topic8\", \"Topic8\", \"Topic8\", \"Topic8\", \"Topic8\", \"Topic8\", \"Topic8\", \"Topic8\", \"Topic8\", \"Topic8\", \"Topic8\", \"Topic8\", \"Topic8\", \"Topic8\", \"Topic8\", \"Topic8\", \"Topic8\", \"Topic8\", \"Topic8\", \"Topic8\", \"Topic8\", \"Topic8\", \"Topic8\", \"Topic8\", \"Topic8\", \"Topic8\", \"Topic8\", \"Topic8\", \"Topic9\", \"Topic9\", \"Topic9\", \"Topic9\", \"Topic9\", \"Topic9\", \"Topic9\", \"Topic9\", \"Topic9\", \"Topic9\", \"Topic9\", \"Topic9\", \"Topic9\", \"Topic9\", \"Topic9\", \"Topic9\", \"Topic9\", \"Topic9\", \"Topic9\", \"Topic9\", \"Topic9\", \"Topic9\", \"Topic9\", \"Topic9\", \"Topic9\", \"Topic9\", \"Topic9\", \"Topic9\", \"Topic9\", \"Topic9\", \"Topic9\", \"Topic9\", \"Topic10\", \"Topic10\", \"Topic10\", \"Topic10\", \"Topic10\", \"Topic10\", \"Topic10\", \"Topic10\", \"Topic10\", \"Topic10\", \"Topic10\", \"Topic10\", \"Topic10\", \"Topic10\", \"Topic10\", \"Topic10\", \"Topic10\", \"Topic10\", \"Topic10\", \"Topic10\", \"Topic10\", \"Topic10\", \"Topic10\", \"Topic10\", \"Topic10\", \"Topic10\", \"Topic10\", \"Topic10\", \"Topic10\", \"Topic10\", \"Topic11\", \"Topic11\", \"Topic11\", \"Topic11\", \"Topic11\", \"Topic11\", \"Topic11\", \"Topic11\", \"Topic11\", \"Topic11\", \"Topic11\", \"Topic11\", \"Topic11\", \"Topic11\", \"Topic11\", \"Topic11\", \"Topic11\", \"Topic11\", \"Topic11\", \"Topic11\", \"Topic11\", \"Topic11\", \"Topic11\", \"Topic11\", \"Topic11\", \"Topic11\", \"Topic11\", \"Topic11\", \"Topic11\", \"Topic11\", \"Topic11\", \"Topic12\", \"Topic12\", \"Topic12\", \"Topic12\", \"Topic12\", \"Topic12\", \"Topic12\", \"Topic12\", \"Topic12\", \"Topic12\", \"Topic12\", \"Topic12\", \"Topic12\", \"Topic12\", \"Topic12\", \"Topic12\", \"Topic12\", \"Topic12\", \"Topic12\", \"Topic12\", \"Topic12\", \"Topic12\", \"Topic12\", \"Topic12\", \"Topic12\", \"Topic12\", \"Topic12\", \"Topic12\", \"Topic12\", \"Topic12\", \"Topic13\", \"Topic13\", \"Topic13\", \"Topic13\", \"Topic13\", \"Topic13\", \"Topic13\", \"Topic13\", \"Topic13\", \"Topic13\", \"Topic13\", \"Topic13\", \"Topic13\", \"Topic13\", \"Topic13\", \"Topic13\", \"Topic13\", \"Topic13\", \"Topic13\", \"Topic13\", \"Topic13\", \"Topic13\", \"Topic13\", \"Topic13\", \"Topic13\", \"Topic13\", \"Topic13\", \"Topic13\", \"Topic13\", \"Topic13\", \"Topic14\", \"Topic14\", \"Topic14\", \"Topic14\", \"Topic14\", \"Topic14\", \"Topic14\", \"Topic14\", \"Topic14\", \"Topic14\", \"Topic14\", \"Topic14\", \"Topic14\", \"Topic14\", \"Topic14\", \"Topic14\", \"Topic14\", \"Topic14\", \"Topic14\", \"Topic14\", \"Topic14\", \"Topic14\", \"Topic14\", \"Topic14\", \"Topic14\", \"Topic14\", \"Topic14\", \"Topic14\", \"Topic14\", \"Topic14\", \"Topic15\", \"Topic15\", \"Topic15\", \"Topic15\", \"Topic15\", \"Topic15\", \"Topic15\", \"Topic15\", \"Topic15\", \"Topic15\", \"Topic15\", \"Topic15\", \"Topic15\", \"Topic15\", \"Topic15\", \"Topic15\", \"Topic15\", \"Topic15\", \"Topic15\", \"Topic15\", \"Topic15\", \"Topic15\", \"Topic15\", \"Topic15\", \"Topic15\", \"Topic15\", \"Topic15\", \"Topic15\", \"Topic15\", \"Topic15\", \"Topic16\", \"Topic16\", \"Topic16\", \"Topic16\", \"Topic16\", \"Topic16\", \"Topic16\", \"Topic16\", \"Topic16\", \"Topic16\", \"Topic16\", \"Topic16\", \"Topic16\", \"Topic16\", \"Topic16\", \"Topic16\", \"Topic16\", \"Topic16\", \"Topic16\", \"Topic16\", \"Topic16\", \"Topic16\", \"Topic16\", \"Topic16\", \"Topic16\", \"Topic16\", \"Topic16\", \"Topic16\", \"Topic16\", \"Topic16\", \"Topic17\", \"Topic17\", \"Topic17\", \"Topic17\", \"Topic17\", \"Topic17\", \"Topic17\", \"Topic17\", \"Topic17\", \"Topic17\", \"Topic17\", \"Topic17\", \"Topic17\", \"Topic17\", \"Topic17\", \"Topic17\", \"Topic17\", \"Topic17\", \"Topic17\", \"Topic17\", \"Topic17\", \"Topic17\", \"Topic17\", \"Topic17\", \"Topic17\", \"Topic17\", \"Topic17\", \"Topic17\", \"Topic17\", \"Topic17\", \"Topic18\", \"Topic18\", \"Topic18\", \"Topic18\", \"Topic18\", \"Topic18\", \"Topic18\", \"Topic18\", \"Topic18\", \"Topic18\", \"Topic18\", \"Topic18\", \"Topic18\", \"Topic18\", \"Topic18\", \"Topic18\", \"Topic18\", \"Topic18\", \"Topic18\", \"Topic18\", \"Topic18\", \"Topic18\", \"Topic18\", \"Topic18\", \"Topic18\", \"Topic18\", \"Topic18\", \"Topic18\", \"Topic18\", \"Topic18\", \"Topic19\", \"Topic19\", \"Topic19\", \"Topic19\", \"Topic19\", \"Topic19\", \"Topic19\", \"Topic19\", \"Topic19\", \"Topic19\", \"Topic19\", \"Topic19\", \"Topic19\", \"Topic19\", \"Topic19\", \"Topic19\", \"Topic19\", \"Topic19\", \"Topic19\", \"Topic19\", \"Topic19\", \"Topic19\", \"Topic19\", \"Topic19\", \"Topic19\", \"Topic19\", \"Topic19\", \"Topic19\", \"Topic19\", \"Topic19\", \"Topic19\", \"Topic20\", \"Topic20\", \"Topic20\", \"Topic20\", \"Topic20\", \"Topic20\", \"Topic20\", \"Topic20\", \"Topic20\", \"Topic20\", \"Topic20\", \"Topic20\", \"Topic20\", \"Topic20\", \"Topic20\", \"Topic20\", \"Topic20\", \"Topic20\", \"Topic20\", \"Topic20\", \"Topic20\", \"Topic20\", \"Topic20\", \"Topic20\", \"Topic20\", \"Topic20\", \"Topic20\", \"Topic20\", \"Topic20\", \"Topic20\"], \"logprob\": [30.0, 29.0, 28.0, 27.0, 26.0, 25.0, 24.0, 23.0, 22.0, 21.0, 20.0, 19.0, 18.0, 17.0, 16.0, 15.0, 14.0, 13.0, 12.0, 11.0, 10.0, 9.0, 8.0, 7.0, 6.0, 5.0, 4.0, 3.0, 2.0, 1.0, -2.0946, -2.1536, -3.3787, -3.6074, -3.6343, -4.2926, -4.3824, -4.4373, -4.5295, -4.5402, -4.5422, -4.559, -4.6776, -4.7007, -4.8772, -4.8851, -4.8938, -4.9859, -5.0041, -5.0226, -5.0286, -5.0682, -5.0705, -5.1241, -5.1809, -5.2703, -5.2939, -5.308, -5.3212, -5.4135, -0.9452, -4.9163, -1.8132, -2.199, -2.9526, -3.0151, -3.2089, -3.3437, -3.4911, -3.7795, -3.841, -4.0278, -4.1056, -4.1649, -4.2831, -4.2896, -4.3011, -4.534, -4.6066, -4.6746, -4.6894, -4.8974, -4.9489, -4.9894, -5.0065, -5.0288, -5.0562, -5.4081, -5.4552, -5.6924, -5.7158, -5.7865, -2.6479, -2.2139, -4.1296, -5.3304, -1.4809, -1.9664, -3.0909, -3.5361, -3.6863, -3.6991, -3.7439, -3.9205, -3.9371, -4.1673, -4.2699, -4.3779, -4.4052, -4.7109, -4.8385, -4.8863, -4.9135, -5.0839, -5.1316, -5.2185, -5.2316, -5.2441, -5.3478, -5.4063, -5.4603, -5.4754, -5.519, -5.5509, -5.6147, -5.6309, -2.6822, -3.0735, -4.6853, -2.8558, -4.1233, -1.75, -2.1265, -3.2199, -3.3958, -3.7478, -3.9231, -3.9291, -3.9491, -4.1298, -4.1391, -4.1637, -4.1975, -4.2061, -4.276, -4.3405, -4.3689, -4.6044, -4.6716, -4.9033, -4.9079, -5.0324, -5.0469, -5.1424, -5.1721, -5.173, -5.2654, -5.2796, -5.2916, -5.3278, -5.3893, -1.491, -4.1753, -3.8402, -2.1756, -2.574, -2.6943, -2.7652, -3.4638, -3.5553, -3.6404, -3.7223, -3.7226, -3.8001, -3.8412, -3.8631, -3.878, -3.919, -4.4061, -4.4789, -4.5228, -4.6167, -4.7101, -4.7551, -4.7645, -4.8534, -4.8545, -4.9096, -4.9399, -4.9658, -4.9738, -4.9953, -5.18, -5.1819, -2.6144, -2.9688, -3.8912, -1.6086, -2.1543, -2.9353, -3.4042, -3.8315, -3.841, -3.9388, -3.9749, -4.0566, -4.1278, -4.4589, -4.571, -4.7781, -4.8463, -4.86, -4.8771, -4.8935, -4.9241, -4.9291, -4.9386, -4.9596, -5.0034, -5.0407, -5.0505, -5.1718, -5.1946, -5.2253, -5.2357, -5.2882, -5.2986, -3.4613, -2.7622, -4.144, -2.7815, -3.967, -4.3401, -1.4972, -2.1745, -2.2948, -2.7523, -2.8753, -2.8937, -4.0432, -4.1055, -4.2324, -4.2933, -4.2966, -4.4953, -4.5126, -4.5679, -4.6589, -4.6636, -4.6923, -4.7043, -4.7664, -4.7772, -4.8574, -4.8823, -5.0818, -5.1161, -5.1201, -5.1329, -5.1516, -5.1889, -5.2653, -5.2915, -3.8762, -1.9292, -2.278, -2.7116, -2.9041, -3.0805, -3.217, -3.3208, -3.5936, -3.6969, -3.7454, -3.7807, -4.0748, -4.078, -4.1017, -4.1059, -4.1493, -4.1908, -4.2338, -4.2903, -4.3308, -4.3576, -4.3752, -4.4114, -4.4612, -4.4715, -4.5702, -4.5792, -4.6118, -4.6169, -4.6626, -1.8697, -2.6599, -2.7906, -2.9273, -3.1917, -3.2164, -3.3853, -3.4358, -3.6407, -3.6866, -3.7514, -3.8066, -3.8096, -3.9528, -3.9579, -3.9909, -4.1034, -4.1492, -4.1542, -4.4131, -4.4213, -4.4508, -4.7124, -4.7199, -4.7746, -4.8423, -4.8475, -4.9617, -5.0502, -5.0863, -2.7407, -3.9699, -1.8675, -2.166, -2.7862, -2.8792, -3.0408, -3.2998, -3.4097, -3.48, -3.6896, -3.6923, -3.8874, -4.0581, -4.0945, -4.1563, -4.2232, -4.3384, -4.34, -4.4218, -4.4465, -4.485, -4.5007, -4.5344, -4.5778, -4.672, -4.7021, -4.7686, -4.8682, -4.902, -4.9525, -5.101, -2.1573, -2.2597, -2.6614, -2.9488, -3.167, -3.4569, -3.5862, -3.6178, -3.6394, -3.6656, -3.676, -3.764, -3.7863, -3.8812, -4.0113, -4.032, -4.1198, -4.1614, -4.2195, -4.2295, -4.2611, -4.3929, -4.5214, -4.5311, -4.6072, -4.6184, -4.7204, -4.74, -4.8969, -4.9006, -3.4597, -1.8985, -2.5111, -2.604, -2.7992, -3.1519, -3.187, -3.3407, -3.4757, -3.4825, -3.4842, -3.5969, -3.6976, -3.7219, -3.8284, -3.8385, -3.8541, -3.9604, -4.0511, -4.141, -4.3544, -4.3633, -4.4625, -4.5133, -4.5468, -4.8111, -4.8801, -4.8864, -4.9385, -4.9515, -5.0367, -1.1445, -2.4588, -2.5413, -2.8199, -2.8631, -3.5119, -3.5157, -3.6321, -3.6817, -4.0096, -4.0965, -4.1326, -4.2932, -4.4056, -4.6442, -4.6446, -4.6617, -4.7267, -4.7655, -4.7786, -4.8044, -4.8643, -4.9331, -4.9814, -5.0112, -5.0427, -5.1002, -5.2277, -5.3041, -5.3202, -1.9241, -2.3511, -2.6319, -2.8634, -3.2182, -3.2333, -3.2551, -3.2771, -3.3299, -3.4198, -3.6139, -3.6194, -3.6577, -3.7142, -4.2143, -4.2997, -4.3845, -4.4061, -4.4135, -4.4388, -4.4454, -4.4593, -4.5302, -4.5644, -4.5741, -4.7127, -4.7474, -4.8288, -4.8319, -5.0454, -2.3264, -2.5298, -2.6328, -3.1375, -3.1423, -3.3264, -3.3498, -3.4336, -3.5236, -3.5954, -3.7273, -3.7891, -3.8855, -3.8919, -3.9241, -4.1247, -4.1298, -4.1972, -4.2072, -4.2973, -4.3102, -4.3315, -4.3414, -4.3455, -4.3495, -4.3729, -4.4139, -4.6466, -4.6579, -4.659, -0.8284, -2.6316, -2.8734, -3.3637, -3.4053, -3.4112, -3.5805, -3.8408, -3.8433, -3.9856, -4.0125, -4.2216, -4.2752, -4.4648, -4.4872, -4.5386, -4.579, -4.6047, -4.6498, -4.7021, -4.8266, -4.8666, -4.9171, -5.0248, -5.2911, -5.4315, -5.4658, -5.4933, -5.5034, -5.5348, -1.8005, -2.8001, -2.8199, -3.0561, -3.1269, -3.2648, -3.3731, -3.4123, -3.4335, -3.4609, -3.5036, -3.5744, -3.8234, -3.8314, -3.872, -3.9519, -4.0014, -4.0439, -4.2277, -4.2581, -4.362, -4.4651, -4.7339, -4.7378, -4.7859, -4.9276, -4.9601, -4.9656, -5.0051, -5.0195, -1.279, -2.2545, -2.5239, -3.0421, -3.1392, -3.246, -3.3155, -3.3841, -3.6129, -3.784, -3.8671, -4.1482, -4.2903, -4.3118, -4.4415, -4.4447, -4.5754, -4.5893, -4.5909, -4.6318, -4.6728, -4.7486, -4.772, -4.7799, -4.8942, -4.9397, -5.1335, -5.1517, -5.1619, -5.1672, -1.9689, -2.5706, -2.6105, -2.9208, -3.1307, -3.2953, -3.3821, -3.4277, -3.5222, -3.5744, -3.7106, -3.7937, -3.8772, -3.8937, -4.0057, -4.0145, -4.0735, -4.1087, -4.1505, -4.2123, -4.2687, -4.3127, -4.3462, -4.4044, -4.5066, -4.5198, -4.5821, -5.0492, -5.0816, -5.0907, -5.033, -2.3979, -2.4378, -2.4673, -3.02, -3.0473, -3.3075, -3.3907, -3.5295, -3.5887, -3.5901, -3.6321, -3.7551, -3.8428, -3.9208, -3.9226, -3.9265, -4.021, -4.0737, -4.0918, -4.2513, -4.2921, -4.3186, -4.5379, -4.5997, -4.623, -4.6278, -4.7497, -4.7577, -4.7617, -4.793], \"loglift\": [30.0, 29.0, 28.0, 27.0, 26.0, 25.0, 24.0, 23.0, 22.0, 21.0, 20.0, 19.0, 18.0, 17.0, 16.0, 15.0, 14.0, 13.0, 12.0, 11.0, 10.0, 9.0, 8.0, 7.0, 6.0, 5.0, 4.0, 3.0, 2.0, 1.0, 2.4519, 2.4518, 2.4516, 2.4515, 2.4514, 2.451, 2.4509, 2.4508, 2.4507, 2.4507, 2.4507, 2.4506, 2.4505, 2.4504, 2.4502, 2.4501, 2.4501, 2.4499, 2.4499, 2.4499, 2.4499, 2.4498, 2.4498, 2.4496, 2.4495, 2.4493, 2.4492, 2.4492, 2.4491, 2.4489, 2.2367, 1.4999, 2.6096, 2.6096, 2.6094, 2.6094, 2.6093, 2.6093, 2.6092, 2.609, 2.609, 2.6088, 2.6087, 2.6087, 2.6085, 2.6085, 2.6085, 2.6082, 2.6081, 2.608, 2.608, 2.6075, 2.6074, 2.6073, 2.6073, 2.6072, 2.6072, 2.6061, 2.6059, 2.6049, 2.6048, 2.6044, 2.0931, 0.968, 1.165, 1.1794, 2.7134, 2.7133, 2.7131, 2.7129, 2.7128, 2.7127, 2.7127, 2.7126, 2.7125, 2.7123, 2.7122, 2.712, 2.712, 2.7115, 2.7112, 2.7111, 2.711, 2.7106, 2.7104, 2.7102, 2.7101, 2.7101, 2.7097, 2.7095, 2.7093, 2.7092, 2.709, 2.7089, 2.7085, 2.7085, 2.4726, 2.2212, 2.5281, 0.823, 1.0796, 2.7295, 2.7295, 2.7292, 2.7291, 2.7289, 2.7287, 2.7287, 2.7287, 2.7285, 2.7285, 2.7285, 2.7284, 2.7284, 2.7283, 2.7282, 2.7282, 2.7278, 2.7277, 2.7272, 2.7272, 2.7268, 2.7268, 2.7265, 2.7264, 2.7264, 2.7261, 2.726, 2.726, 2.7259, 2.7256, 2.1879, 2.2409, 0.9008, 2.8058, 2.8057, 2.8056, 2.8056, 2.8053, 2.8052, 2.8052, 2.8051, 2.8051, 2.805, 2.805, 2.805, 2.805, 2.8049, 2.8043, 2.8042, 2.8041, 2.8039, 2.8037, 2.8036, 2.8036, 2.8034, 2.8034, 2.8032, 2.8032, 2.8031, 2.8031, 2.803, 2.8024, 2.8024, 2.5885, 0.71, 1.2636, 2.8332, 2.8332, 2.833, 2.8327, 2.8324, 2.8324, 2.8323, 2.8323, 2.8322, 2.8321, 2.8316, 2.8314, 2.8309, 2.8308, 2.8307, 2.8307, 2.8306, 2.8306, 2.8305, 2.8305, 2.8304, 2.8303, 2.8302, 2.8302, 2.8298, 2.8297, 2.8296, 2.8295, 2.8293, 2.8293, 2.6305, 2.5203, 2.3658, 0.8974, 1.4735, 0.9545, 2.8688, 2.8687, 2.8687, 2.8686, 2.8686, 2.8686, 2.8677, 2.8677, 2.8675, 2.8674, 2.8674, 2.8671, 2.867, 2.8669, 2.8667, 2.8667, 2.8667, 2.8666, 2.8665, 2.8665, 2.8663, 2.8662, 2.8656, 2.8655, 2.8655, 2.8654, 2.8653, 2.8652, 2.8649, 2.8648, 0.8648, 2.9334, 2.9333, 2.9332, 2.9331, 2.933, 2.9329, 2.9329, 2.9327, 2.9326, 2.9326, 2.9325, 2.9322, 2.9322, 2.9322, 2.9322, 2.9321, 2.932, 2.932, 2.9319, 2.9318, 2.9318, 2.9317, 2.9317, 2.9316, 2.9316, 2.9314, 2.9313, 2.9313, 2.9313, 2.9311, 2.9966, 2.9964, 2.9964, 2.9963, 2.9962, 2.9962, 2.9961, 2.996, 2.9958, 2.9958, 2.9957, 2.9957, 2.9957, 2.9955, 2.9955, 2.9955, 2.9953, 2.9952, 2.9952, 2.9948, 2.9948, 2.9947, 2.9941, 2.9941, 2.9939, 2.9937, 2.9937, 2.9933, 2.993, 2.9929, 2.6998, 0.7711, 3.0616, 3.0616, 3.0614, 3.0614, 3.0613, 3.0611, 3.061, 3.061, 3.0608, 3.0608, 3.0606, 3.0603, 3.0603, 3.0602, 3.0601, 3.0598, 3.0598, 3.0597, 3.0596, 3.0595, 3.0595, 3.0594, 3.0593, 3.0591, 3.059, 3.0588, 3.0585, 3.0583, 3.0582, 3.0576, 3.1373, 3.1373, 3.1372, 3.137, 3.1369, 3.1367, 3.1366, 3.1365, 3.1365, 3.1365, 3.1365, 3.1364, 3.1364, 3.1362, 3.1361, 3.136, 3.1359, 3.1358, 3.1357, 3.1357, 3.1356, 3.1354, 3.1351, 3.135, 3.1348, 3.1348, 3.1345, 3.1344, 3.1339, 3.1339, 1.8229, 3.1908, 3.1906, 3.1906, 3.1905, 3.1903, 3.1903, 3.1902, 3.19, 3.19, 3.19, 3.1899, 3.1898, 3.1898, 3.1896, 3.1896, 3.1896, 3.1895, 3.1893, 3.1892, 3.1887, 3.1887, 3.1885, 3.1883, 3.1883, 3.1874, 3.1872, 3.1872, 3.187, 3.1869, 3.1865, 3.1917, 3.1914, 3.1914, 3.1913, 3.1913, 3.1908, 3.1908, 3.1907, 3.1906, 3.1902, 3.19, 3.19, 3.1896, 3.1894, 3.1888, 3.1887, 3.1887, 3.1885, 3.1884, 3.1883, 3.1882, 3.188, 3.1877, 3.1875, 3.1874, 3.1873, 3.187, 3.1864, 3.1859, 3.1858, 3.1992, 3.1991, 3.199, 3.1989, 3.1987, 3.1986, 3.1986, 3.1986, 3.1986, 3.1985, 3.1983, 3.1983, 3.1983, 3.1982, 3.1974, 3.1972, 3.197, 3.197, 3.197, 3.1969, 3.1969, 3.1968, 3.1967, 3.1966, 3.1965, 3.1961, 3.196, 3.1957, 3.1957, 3.1948, 3.2178, 3.2178, 3.2177, 3.2175, 3.2175, 3.2173, 3.2173, 3.2172, 3.2171, 3.2171, 3.2169, 3.2168, 3.2167, 3.2167, 3.2166, 3.2163, 3.2163, 3.2162, 3.2161, 3.2159, 3.2159, 3.2159, 3.2158, 3.2158, 3.2158, 3.2158, 3.2157, 3.215, 3.215, 3.215, 3.2791, 3.2787, 3.2786, 3.2782, 3.2782, 3.2782, 3.278, 3.2776, 3.2776, 3.2774, 3.2774, 3.2769, 3.2768, 3.2763, 3.2763, 3.2761, 3.276, 3.2759, 3.2758, 3.2756, 3.2751, 3.275, 3.2747, 3.2742, 3.2728, 3.2718, 3.2715, 3.2713, 3.2712, 3.271, 3.3169, 3.3166, 3.3166, 3.3164, 3.3164, 3.3163, 3.3162, 3.3161, 3.3161, 3.3161, 3.316, 3.316, 3.3156, 3.3156, 3.3156, 3.3154, 3.3153, 3.3153, 3.3149, 3.3148, 3.3146, 3.3143, 3.3134, 3.3134, 3.3132, 3.3126, 3.3124, 3.3124, 3.3122, 3.3122, 3.3196, 3.3194, 3.3193, 3.319, 3.3189, 3.3188, 3.3188, 3.3187, 3.3185, 3.3182, 3.3181, 3.3176, 3.3173, 3.3172, 3.3169, 3.3169, 3.3165, 3.3164, 3.3164, 3.3163, 3.3161, 3.3159, 3.3158, 3.3157, 3.3153, 3.3151, 3.3141, 3.314, 3.3139, 3.3139, 3.381, 3.3808, 3.3808, 3.3806, 3.3805, 3.3803, 3.3802, 3.3802, 3.3801, 3.38, 3.3798, 3.3797, 3.3796, 3.3795, 3.3793, 3.3793, 3.3792, 3.3791, 3.379, 3.3789, 3.3788, 3.3786, 3.3786, 3.3784, 3.3781, 3.378, 3.3778, 3.3758, 3.3756, 3.3756, 2.9016, 3.4333, 3.4333, 3.4333, 3.433, 3.433, 3.4327, 3.4326, 3.4325, 3.4324, 3.4324, 3.4324, 3.4322, 3.432, 3.4319, 3.4319, 3.4319, 3.4317, 3.4316, 3.4315, 3.4312, 3.431, 3.431, 3.4303, 3.4301, 3.43, 3.43, 3.4295, 3.4295, 3.4294, 3.4293]}, \"token.table\": {\"Topic\": [16, 2, 18, 9, 4, 10, 6, 19, 20, 1, 4, 20, 20, 15, 7, 8, 17, 2, 9, 14, 20, 13, 2, 9, 1, 16, 12, 14, 5, 2, 4, 7, 9, 15, 20, 11, 14, 14, 6, 4, 17, 6, 13, 2, 6, 20, 15, 6, 1, 10, 11, 4, 13, 1, 1, 11, 13, 3, 16, 14, 9, 14, 8, 2, 16, 6, 9, 15, 3, 6, 5, 5, 17, 13, 16, 12, 9, 15, 1, 19, 17, 12, 9, 18, 18, 13, 15, 1, 5, 7, 4, 19, 15, 5, 18, 19, 2, 8, 8, 9, 5, 6, 9, 12, 2, 3, 7, 8, 11, 2, 10, 2, 14, 7, 17, 3, 16, 4, 18, 5, 19, 17, 7, 10, 19, 15, 12, 1, 7, 16, 11, 9, 5, 5, 19, 5, 18, 12, 15, 18, 11, 16, 12, 6, 4, 1, 9, 1, 20, 14, 15, 3, 1, 7, 18, 13, 12, 5, 13, 14, 3, 14, 18, 18, 2, 4, 18, 1, 14, 20, 8, 19, 20, 18, 18, 12, 12, 1, 3, 5, 18, 9, 10, 6, 17, 4, 1, 5, 4, 4, 18, 11, 15, 18, 1, 4, 9, 7, 14, 8, 13, 3, 6, 6, 1, 3, 5, 3, 17, 15, 3, 5, 3, 17, 3, 9, 8, 1, 2, 18, 16, 9, 13, 19, 10, 2, 7, 3, 19, 6, 12, 13, 12, 3, 11, 12, 19, 17, 13, 9, 10, 10, 2, 3, 1, 12, 4, 1, 7, 17, 10, 19, 4, 7, 8, 20, 16, 8, 12, 17, 13, 18, 7, 17, 11, 17, 13, 6, 3, 16, 13, 20, 15, 20, 10, 16, 10, 13, 8, 3, 4, 5, 6, 6, 4, 15, 20, 8, 12, 11, 17, 17, 10, 2, 3, 11, 13, 12, 11, 10, 13, 14, 2, 10, 11, 5, 13, 11, 14, 12, 14, 19, 2, 4, 18, 16, 14, 3, 5, 5, 18, 6, 6, 6, 4, 18, 3, 14, 9, 19, 5, 13, 20, 15, 20, 3, 19, 19, 8, 13, 15, 15, 12, 2, 3, 7, 11, 7, 12, 6, 14, 9, 18, 7, 7, 16, 17, 11, 2, 16, 1, 16, 4, 17, 17, 4, 6, 9, 13, 12, 8, 9, 19, 15, 9, 3, 5, 12, 7, 18, 17, 14, 19, 16, 16, 2, 5, 3, 20, 6, 20, 6, 11, 6, 5, 11, 18, 15, 1, 3, 19, 19, 8, 19, 9, 20, 17, 7, 16, 5, 12, 13, 1, 15, 1, 10, 20, 4, 3, 4, 12, 2, 14, 14, 19, 12, 11, 10, 2, 7, 14, 20, 5, 8, 3, 4, 2, 11, 1, 13, 1, 8, 15, 10, 11, 11, 1, 6, 15, 20, 18, 20, 8, 3, 10, 11, 10, 8, 11, 3, 4, 11, 12, 15, 15, 2, 2, 2, 8, 16, 17, 18, 19, 10, 14, 7, 16, 1, 2, 2, 13, 4, 14, 10, 13, 15, 19, 10, 19, 6, 3, 8, 7, 8, 11, 9, 4, 7, 20, 13, 19, 5, 19, 10, 4, 17, 4, 1, 5, 5, 6, 8, 7, 17, 15, 3, 4, 18, 5, 15, 15, 18, 20, 8, 16, 7, 3, 9, 8, 16, 19, 9, 1, 5, 16, 6, 10, 6, 14, 16, 16, 7, 11, 2, 13, 20, 13, 2, 8, 2, 4, 12, 16, 8, 17, 12, 2, 8, 9, 5, 20, 20, 2, 14, 1, 19, 9, 11, 14, 6, 14, 9, 19, 10, 12, 9, 1, 7, 19, 4, 15, 6, 6, 5, 15, 8, 17, 10, 17, 18, 10, 10, 20, 11, 11, 17, 10, 12, 1, 18, 17, 14, 10, 14, 16, 2, 3, 6, 7, 4, 13, 20, 9, 6, 9, 6, 9, 6, 5, 5, 11, 17, 20, 7, 3, 18, 16, 16, 8, 20, 7, 7], \"Freq\": [0.9999540071425437, 0.9992040040895624, 0.999502482186058, 0.9988196569353657, 0.9991195211950055, 0.9993563827915892, 0.9976708567643521, 0.9988019823270694, 0.9987409020093787, 0.3859127266039168, 0.6131724433817789, 0.9976485112432739, 0.9991058970712432, 0.9980453616944632, 0.9985761022931942, 0.9988044849633001, 0.9960821701961297, 0.9995281471113097, 0.9991107906503524, 0.9979962862133482, 0.9963655360238739, 0.9990001611142911, 0.9996049872715888, 0.9989874107251984, 0.998044151263738, 0.994056213827635, 0.995011669826901, 0.9968434532214804, 0.9989084149889128, 0.5965243749145015, 0.16060271632313503, 0.13479156548548832, 0.10794796861433575, 0.9987392351156239, 0.9985751032941519, 0.9997799022029079, 0.9997430191062542, 0.9991923193707253, 0.9971188418726556, 0.9993870113797911, 0.998319898002287, 0.9960724801413093, 0.9946263033992879, 0.23946951398228758, 0.6262531390941285, 0.13386076764740232, 0.9991680713590091, 0.9985005339760092, 0.9988012521355486, 0.9986297185384637, 0.994964323757187, 0.9987243421785345, 0.9968109764046388, 0.9992118133658405, 0.9975458172201281, 0.9979108749572734, 0.999891509006944, 0.9970001929620641, 0.9990081465341987, 0.9991710609172793, 0.9992943821125195, 0.9972665325853516, 0.999129382210136, 0.9995204621911746, 0.9975958911439453, 0.999062025592534, 0.9985815626441087, 0.9994514508191339, 0.9952388635870737, 0.9995034993922712, 0.9974350893213244, 0.9991649978107583, 0.9986591625508406, 0.9984697085136401, 0.9989257122581812, 0.9988857583754078, 0.9986977197528669, 0.9995901711142938, 0.9999264858115325, 0.9967272092176054, 0.9958013856066977, 0.9981588725052839, 0.9996985966294771, 0.9948121194617331, 0.999053975682171, 0.9973381875499695, 0.9977612492826047, 0.997623975467549, 0.9985005453984183, 0.9969745020967858, 0.9986870653219329, 0.9988933016561764, 0.9972515705155814, 0.9984442502184289, 0.3774996359417682, 0.6179808855046725, 0.9978030975729069, 0.9998147742091185, 0.9997228485357077, 0.9978915263743467, 0.9996929017036207, 0.9970779685177257, 0.9973896518914728, 0.9992053752530358, 0.997930841375724, 0.9996276657254779, 0.9981801979562851, 0.9993302144103072, 0.9990327731652355, 0.9980490578478738, 0.9983443499466069, 0.9992939961971639, 0.9993163742719031, 0.998954892392599, 0.9945051312401246, 0.9984903132821512, 0.9890282245731369, 0.9992777500323762, 0.9949276115886887, 0.9992515259896911, 0.9950821540431188, 0.9989385441701328, 0.9975078027943124, 0.9976984497283415, 0.9974523930408936, 0.9955898339638936, 0.9963159092469612, 0.9993896809068517, 0.9988016349929938, 0.9971172183045651, 0.997906487848744, 0.998805569582529, 0.9975844555097207, 0.9992402280110453, 0.9974639853329365, 0.9962689184429423, 0.9970234989225836, 0.9961038129801574, 0.9989068344207624, 0.9945026892410918, 0.9991281766496982, 0.9952266262719806, 0.9964488844254655, 0.998873140332256, 0.9954070021515664, 0.9989685583722395, 0.9958219035745974, 0.9976945526024403, 0.9982821622321606, 0.9973838794059455, 0.998167714539374, 0.9974049593384886, 0.9963101606396628, 0.997592517029483, 0.99740828747432, 0.9936205880753097, 0.9986190144209877, 0.9974985963267758, 0.9940462498746889, 0.9966451201000667, 0.9947712245070308, 0.9976232266820435, 0.9978999535947372, 0.9949813060577429, 0.9987996448933466, 0.9994213567075468, 0.9972619044099059, 0.9968353807712553, 0.9973505164719308, 0.9995825242778495, 0.9983040445252114, 0.9975860570471166, 0.9969687905648583, 0.9938612328138605, 0.999704264528205, 0.9989097940393667, 0.9981544641531128, 0.9993108247698583, 0.994059726612602, 0.9972823350365227, 0.9976857404070144, 0.9987123348302972, 0.9973128980117195, 0.9968583070965826, 0.994040544714553, 0.9988118861168185, 0.9977972755495076, 0.9983252072981739, 0.9998933792054051, 0.9972238488630931, 0.9992564237236468, 0.9978231248424339, 0.9990853986513601, 0.9995015998766177, 0.9973012024560838, 0.9983866692122872, 0.9985248982282044, 0.9971754861198251, 0.9958537866186862, 0.9983460677826758, 0.99954807265219, 0.9959859204867691, 0.9962117287511677, 0.9974200601277925, 0.9987571069579769, 0.1951784906272456, 0.8045650653748119, 0.9967053305234777, 0.9986103426810118, 0.9978644468652569, 0.7859941962856931, 0.21393616865789394, 0.9985791390670766, 0.9989962986816144, 0.996612518555145, 0.997137459372251, 0.9985627195753009, 0.9981600820074547, 0.9961688298456458, 0.9958723407419913, 0.9910302322186212, 0.9994085794344971, 0.999542808431886, 0.9988221601516309, 0.9982308843726658, 0.9978289412300925, 0.9998831309478778, 0.993386263161662, 0.9996668932971022, 0.9963233161699959, 0.9997174437356964, 0.9956502875258745, 0.9942420355183843, 0.9995932768110114, 0.9983324629806868, 0.9956614435178718, 0.9981316391198403, 0.9986353202498737, 0.998923868831236, 0.999617934200816, 0.9976600673835058, 0.9987892517906002, 0.9964648786103427, 0.9979433903730125, 0.9996896166521774, 0.9992683471340468, 0.997518824673217, 0.9978302756718614, 0.996421141661819, 0.9960429349685035, 0.997112180930027, 0.9977748748751244, 0.9989368897793245, 0.9998040713877869, 0.9981786252374328, 0.9982059637813132, 0.992200108812037, 0.9996253154010076, 0.9983667096616277, 0.9933978137399337, 0.996418156356047, 0.9998573707097759, 0.9986304947685896, 0.9979937489980414, 0.9995046703344819, 0.995349292647588, 0.9971237721958448, 0.9989973348654552, 0.999043188268448, 0.9946156707472283, 0.9978209487079469, 0.9989335053766389, 0.9974363437283731, 0.9981126912337441, 0.9994744342650459, 0.9980112882618045, 0.9956080642064677, 0.9975900867042206, 0.9997680362298064, 0.15101709844712893, 0.5817013655521237, 0.12297899744867301, 0.14427526369502494, 0.9966019380268836, 0.998536040236843, 0.9986635264138389, 0.9963185783056313, 0.997505028081756, 0.9989129065609897, 0.9993770444370921, 0.9994138293281545, 0.9986416276360095, 0.9996817582029343, 0.995469136336097, 0.9946135730299026, 0.9972365509115357, 0.9990648213370312, 0.9976839990905663, 0.9998467796939623, 0.9993517760194663, 0.9941017866850516, 0.9996022591198821, 0.9999267671393276, 0.9998278767770471, 0.9989830467729781, 0.9994113555485791, 0.9993969339672432, 0.9974939941020295, 0.9973644283537525, 0.9995277252628293, 0.9992238336428326, 0.9995027595393374, 0.9930269505301896, 0.9984743767403278, 0.9967333925276477, 0.9989940310563096, 0.9985251746532698, 0.9989816699187933, 0.9989880593898004, 0.998704519678222, 0.9987801540273237, 0.9983681028380222, 0.9995410419143764, 0.999293970952741, 0.996762603183141, 0.9970162490746739, 0.9954458597005948, 0.998495334853344, 0.9972181265268654, 0.9981923442083713, 0.9995201928849032, 0.9981698180218701, 0.9986047779065594, 0.9992410307364142, 0.9964587503017989, 0.9995732429306837, 0.9989290154594931, 0.994538319618992, 0.9975602969329217, 0.9977584194038914, 0.9975731019075228, 0.9991862064425325, 0.9985330059868095, 0.9996550671405187, 0.9989240249894372, 0.9959507424181692, 0.9992153818408064, 0.9968197603017075, 0.998962889034146, 0.9970205370254192, 0.9982664617021547, 0.998640200305719, 0.9973094392022887, 0.996811057472223, 0.9987744248302759, 0.9961365004008577, 0.9988534561057623, 0.9983763818690599, 0.9988386312100218, 0.9987859777628154, 0.9984263746769644, 0.9915809195922543, 0.997936267633914, 0.9986873883554677, 0.9992605168539607, 0.9987678112471479, 0.25674310075718715, 0.7429849804286226, 0.9971356920131806, 0.998617898943708, 0.999184346040676, 0.9979766068979373, 0.9990031097930991, 0.9975067822320404, 0.9957359499731496, 0.9990420425449192, 0.9990007384970893, 0.9997716790726591, 0.998238980377374, 0.9939394560872099, 0.9980268011787211, 0.9993876543677433, 0.9952112487520157, 0.998640551450369, 0.9975926180144729, 0.9979799062026282, 0.9979878723288574, 0.9971608293673332, 0.9979461928294424, 0.9957059191134489, 0.9986196394604117, 0.7312572136558413, 0.26852853194911186, 0.9975515327870016, 0.9966051407534224, 0.9966827463676027, 0.9953231214474253, 0.9963617074087562, 0.9986747710273208, 0.9987460090624476, 0.9987038235046632, 0.9994572733968501, 0.9981536258708182, 0.9990318779968309, 0.9994603596906564, 0.9992806882710209, 0.9994550916296031, 0.9997543862679598, 0.9973780023377964, 0.9975199315617438, 0.9992264405041789, 0.9993633517471321, 0.9997009357335204, 0.9970121882647991, 0.9998981569672891, 0.9980912111092151, 0.9971453425724377, 0.996107220088813, 0.9994854615688922, 0.9968636796893439, 0.9981103584342488, 0.9986203696822178, 0.9979130639344754, 0.9969299834438106, 0.9972926543051618, 0.9990320553574538, 0.9991108915911149, 0.9959696845776764, 0.9982502912564707, 0.9995198668989681, 0.9992329014079688, 0.9955463267180147, 0.9982564351022452, 0.9984572149540162, 0.9966858530070961, 0.9982306894670909, 0.9991917859083295, 0.9992404431575422, 0.9986770705288014, 0.9977643536755926, 0.9989826923455233, 0.9997602521570423, 0.9997357985437616, 0.9968900382517393, 0.9991905089881926, 0.9983667792702454, 0.9990563252344189, 0.996992972119213, 0.9986005369761324, 0.9990501889846352, 0.998703695542335, 0.9971838357578235, 0.9993196640849249, 0.9937040017710653, 0.9983236064616674, 0.9979356673596073, 0.9994696571537384, 0.9982496686261191, 0.9991043757823627, 0.9979975374618293, 0.9982145723528809, 0.9987653365128625, 0.996856443410092, 0.9992757994574902, 0.9987113868312911, 0.9992014675459251, 0.9978955297945271, 0.9989669676710617, 0.9991945526100982, 0.9979325987619326, 0.9990948108417113, 0.9994162583147443, 0.9981347750040349, 0.998615518304948, 0.9968797447789519, 0.9985910504497207, 0.9994355926207852, 0.8063357343221523, 0.19365183289953605, 0.9967298126059266, 0.995554977667619, 0.9945918789095386, 0.9994067194490193, 0.9988921710428913, 0.9952849859547901, 0.9972535972131523, 0.997915517640315, 0.99931363700793, 0.9975758693609371, 0.9971777264964568, 0.9999258345008499, 0.998371772786998, 0.996362103687923, 0.9985074646256497, 0.9964200406788869, 0.9960673253978996, 0.998943462012602, 0.9947297408454145, 0.9980251238628514, 0.9984762795185322, 0.9977195700940921, 0.9998166777389044, 0.9992813675626383, 0.9956747429917558, 0.9966002593825559, 0.9989450808815004, 0.9974871345057514, 0.9985501124459075, 0.9968320375525331, 0.18290307545597387, 0.8161994384149148, 0.9986691466878324, 0.9958190654454908, 0.9997579233783326, 0.9981578221449446, 0.998993928619332, 0.9998609628850778, 0.9981039995858714, 0.9994241852052885, 0.9986724873551538, 0.9997357050060801, 0.9936964100836807, 0.9986505410041283, 0.9988489933769716, 0.9990475661461131, 0.9974967525926313, 0.8306558636943956, 0.1672187745244037, 0.9983272110047586, 0.9995071454401504, 0.9970447787216261, 0.999445710966764, 0.9996726974729955, 0.9996954785432346, 0.9948151501867579, 0.9974274985569513, 0.9970295370476403, 0.9973811481668873, 0.9991095617326418, 0.9944070108018406, 0.9978175621434426, 0.9996802214847098, 0.998879858804499, 0.9998537231403901, 0.9995854512311098, 0.9939063790278894, 0.9957209900640918, 0.9996344982656002, 0.998093449775588, 0.9992871935241922, 0.9976704769995307, 0.999593488168827, 0.9968367119024517, 0.9974052039681578, 0.9975867326320319, 0.9962253197123618, 0.9971803547477207, 0.9972981352696965, 0.9952703255592193, 0.9991451394261414, 0.9947043633572881, 0.998564094691143, 0.9972919886079044, 0.9945645862560032, 0.9974674425093846, 0.9954345782429111, 0.9988401577449735, 0.9988111580446453, 0.9975054351093694, 0.9999262213467207, 0.9978822657300491, 0.9999024087897821, 0.998067530736987, 0.9987009742866514, 0.9975535025128602, 0.9992231479469689, 0.9965513935046119, 0.9998197340464573, 0.9996653418910256, 0.999480231257027, 0.9991386512515698, 0.9976945360158431, 0.9991803393726222, 0.9991252052399794, 0.9978537211706805, 0.9986336905481242, 0.9992815648888993, 0.997559617115251, 0.9971630789502242, 0.9987431959153231, 0.9969044579870737, 0.9967510390964929, 0.9974837614206078, 0.9983048174916802, 0.9984630237615034, 0.9963841348221152, 0.9995381175961827, 0.9998070818129493, 0.997944465203362, 0.9964376086087791, 0.9993564841184425, 0.9997441102215239, 0.9997368940992769, 0.9984689967794331, 0.9968301449918137, 0.23587700745706477, 0.6112447325219876, 0.15286107251447684, 0.997131978523434, 0.9986167138931109, 0.9977636105315544, 0.99974561604513, 0.9991597478620335, 0.9998416379960828, 0.9974790855530257, 0.9985622639950725, 0.9972919938315664, 0.9964244510882271, 0.9984775077105369, 0.9998838721787776, 0.9992174992015284, 0.995436297179677, 0.9996897496559657, 0.9954554590035155, 0.9998780324399233, 0.996590496205876, 0.9955093435454071, 0.9987171231744312, 0.9987421540387643, 0.9975064348887145, 0.9964264739773372, 0.9986383055057939], \"Term\": [\"\\uac00\\uaca9\", \"\\uac00\\uacf5\", \"\\uac00\\ub8e8\", \"\\uac00\\ubb3c\", \"\\uac00\\uc2b4\", \"\\uac00\\uc7a5\", \"\\uac00\\uc815\", \"\\uac04\\uc7a5\", \"\\uac08\\ube44\", \"\\uac10\\uc0ac\", \"\\uac10\\uc0ac\", \"\\uac10\\uc18c\", \"\\uac10\\uc790\", \"\\uac11\\uc790\\uae30\", \"\\uac1c\\ubcc4\", \"\\uac1c\\ubd09\", \"\\uac1c\\uc120\", \"\\uac1c\\uc6d4\", \"\\uac1c\\uc778\", \"\\uac2f\\uc218\", \"\\uac70\\ub9ac\", \"\\uac71\\uc815\", \"\\uac74\\uac15\", \"\\uac74\\uc870\", \"\\uac80\\uc0c9\", \"\\uac8c\\uc7a5\", \"\\uaca8\\uc6b8\", \"\\uacb0\\uacfc\", \"\\uacb0\\uc81c\", \"\\uacbd\\uc6b0\", \"\\uacbd\\uc6b0\", \"\\uacbd\\uc6b0\", \"\\uacbd\\uc6b0\", \"\\uacc4\\ub780\", \"\\uacc4\\uc18d\", \"\\uace0\\uac1d\", \"\\uace0\\uad6c\\ub9c8\", \"\\uace0\\uae30\", \"\\uace0\\ub824\", \"\\uace0\\ucd94\", \"\\uace0\\ucda7\\uac00\\ub8e8\", \"\\uace1\\ubb3c\", \"\\uace4\\uc57d\", \"\\uace8\\ub4dc\", \"\\uace8\\ub4dc\", \"\\uace8\\ub4dc\", \"\\uacf1\\ucc3d\", \"\\uacf5\\uae09\", \"\\uacfc\\uc77c\", \"\\uacfc\\uc815\", \"\\uad00\\uacc4\", \"\\uad00\\ub828\", \"\\uad00\\ub9ac\", \"\\uad00\\uc2ec\", \"\\uad50\\ud658\", \"\\uad6c\\uae30\\uc790\", \"\\uad6c\\ub9e4\", \"\\uad6c\\ubd84\", \"\\uad6c\\uc131\", \"\\uad6c\\uc785\", \"\\uad6d\\ub0b4\", \"\\uad6d\\ubb3c\", \"\\uad6d\\uc0b0\", \"\\uad8c\\uc7a5\", \"\\uadc0\\ub9ac\", \"\\uadf8\\ub300\\ub85c\", \"\\uadf8\\ub78c\", \"\\uadf8\\ub7a8\", \"\\uadf8\\ub9b0\", \"\\uae08\\uc561\", \"\\uae08\\uc77c\", \"\\uae30\\uac04\", \"\\uae30\\uacc4\", \"\\uae30\\uae30\", \"\\uae30\\ubcf8\", \"\\uae30\\uc7ac\", \"\\uae30\\uc874\", \"\\uae30\\uc900\", \"\\uae30\\ud55c\", \"\\uae30\\ud638\", \"\\uae38\\uc774\", \"\\uae40\\uc7a5\", \"\\uae40\\uce58\", \"\\uaec0\\ub370\", \"\\uaecd\\uc9c8\", \"\\uaf43\\uac8c\", \"\\ub098\\uba38\\uc9c0\", \"\\ub0a0\\uc528\", \"\\ub0a0\\uc9dc\", \"\\ub0b1\\uac1c\", \"\\ub0b4\\uc678\", \"\\ub0b4\\uc6a9\", \"\\ub0b4\\uc6a9\\ubb3c\", \"\\ub0b4\\uc77c\", \"\\ub0b4\\uc7a5\", \"\\ub0b4\\uc7a5\", \"\\ub0c4\\uc0c8\", \"\\ub0c9\\ub3d9\", \"\\ub0c9\\uc7a5\", \"\\ub0c9\\uc7a5\\uace0\", \"\\ub124\\uc2a4\\ud504\\ub808\\uc18c\", \"\\ub178\\ub2c8\", \"\\ub178\\ub825\", \"\\ub179\\ucc28\", \"\\ub18d\\uc0b0\\ubb3c\", \"\\ub18d\\uc57d\", \"\\ub204\\ub8fd\\uc9c0\", \"\\ub2e4\\uc2dc\", \"\\ub2e4\\uc774\\uc5b4\\ud2b8\", \"\\ub2e4\\ud06c\", \"\\ub2e8\\uac00\", \"\\ub2e8\\ub9db\", \"\\ub2e8\\ubc31\\uc9c8\", \"\\ub2e8\\uc704\", \"\\ub2e8\\ud638\\ubc15\", \"\\ub2ec\\ub77c\", \"\\ub2ed\\uac08\\ube44\", \"\\ub2f5\\ubcc0\", \"\\ub2f9\\uba74\", \"\\ub2f9\\uc77c\", \"\\ub300\\uac8c\", \"\\ub300\\ub7b5\", \"\\ub300\\ub7c9\", \"\\ub300\\ubd80\\ubd84\", \"\\ub300\\uc2e0\", \"\\ub300\\ucc3d\", \"\\ub300\\uccb4\", \"\\ub300\\ud55c\", \"\\ub354\\uc6b1\", \"\\ub369\\uc5b4\\ub9ac\", \"\\ub3c4\\uc2dc\\ub77d\", \"\\ub3c4\\uc6c0\", \"\\ub3c4\\ucc29\", \"\\ub3cc\\uccb4\", \"\\ub3d9\\ubd09\", \"\\ub3d9\\uc77c\", \"\\ub3fc\\uc9c0\", \"\\ub3fc\\uc9c0\\uace0\\uae30\", \"\\ub450\\uaed8\", \"\\ub450\\ubd80\", \"\\ub450\\uc720\", \"\\ub4dc\\ub77c\\uc774\\uc544\\uc774\\uc2a4\", \"\\ub4dc\\ub808\\uc2f1\", \"\\ub4f1\\uae09\", \"\\ub4f1\\uc2ec\", \"\\ub538\\uae30\", \"\\ub545\\ucf69\", \"\\ub5a1\\ubcf6\\uc774\", \"\\ub77c\\uba74\", \"\\ub77c\\ubca8\", \"\\ub77c\\uc774\\uc2a4\", \"\\ub77c\\uc778\", \"\\ub78d\\ub2c8\", \"\\ub79c\\ub364\", \"\\ub808\\ubaac\", \"\\ub85c\\ub4dc\", \"\\ub85c\\ub9cc\", \"\\ub85c\\uc2a4\\ud305\", \"\\ub85c\\uc584\", \"\\ub8e8\\ud14c\", \"\\ub9ac\\uac00\", \"\\ub9ac\\ub274\\uc5bc\", \"\\ub9ac\\uc9c0\", \"\\ub9ac\\ud130\", \"\\ub9c8\\ub298\", \"\\ub9c8\\ub9ac\", \"\\ub9c9\\ucc3d\", \"\\ub9cc\\ub450\", \"\\ub9cc\\ud07c\", \"\\ub9d0\\uc500\", \"\\ub9e4\\uc77c\", \"\\ub9e4\\uc7a5\", \"\\ub9e4\\ucf64\", \"\\uba38\\ub9ac\", \"\\uba38\\uc2e0\", \"\\uba39\\uae30\", \"\\uba39\\uc774\", \"\\uba3c\\uc800\", \"\\uba54\\uc138\\uc9c0\", \"\\uba70\\uce60\", \"\\uba78\\uce58\", \"\\ubaa8\\ub4e0\", \"\\ubaa8\\uc591\", \"\\ubaa8\\uce74\", \"\\ubabb\\ub09c\\uc774\", \"\\ubb34\\uac8c\", \"\\ubb34\\ub8cc\", \"\\ubb38\\uac74\", \"\\ubb38\\uc758\", \"\\ubb38\\uc758\\uc0ac\\ud56d\", \"\\ubb38\\uc81c\", \"\\ubb3c\\ub7c9\", \"\\ubb3c\\uc774\", \"\\ubb54\\uac00\", \"\\ubbf8\\uad6d\", \"\\ubbf8\\ub2c8\", \"\\ubbf8\\ub9ac\", \"\\ubbf8\\ub9cc\", \"\\ubbf9\\uc2a4\", \"\\ubc00\\ud06c\", \"\\ubc15\\uc2a4\", \"\\ubc18\\uc601\", \"\\ubc18\\uc8fd\", \"\\ubc18\\ucc2c\", \"\\ubc18\\ud488\", \"\\ubc1c\\uc1a1\", \"\\ubc1c\\uc1a1\", \"\\ubc29\\uae08\", \"\\ubc29\\ubc95\", \"\\ubc29\\uc2dd\", \"\\ubc30\\uc1a1\", \"\\ubc30\\uc1a1\", \"\\ubc30\\uc1a1\\ube44\", \"\\ubc30\\ucd94\", \"\\ubc30\\ucd94\\uae40\\uce58\", \"\\ubc31\\ubbf8\", \"\\ubc84\\ud130\", \"\\ubc88\\uc740\", \"\\ubc88\\ud638\", \"\\ubca0\\ub9ac\", \"\\ubca0\\uc774\", \"\\ubcc0\\uacbd\", \"\\ubcc0\\ub3d9\", \"\\ubcc4\\ub3c4\", \"\\ubcc4\\ub85c\", \"\\ubcf4\\uace0\", \"\\ubcf4\\uad00\", \"\\ubcf4\\ub2f5\", \"\\ubcf4\\uc2dc\", \"\\ubcf4\\ucda9\", \"\\ubcf4\\ud1b5\", \"\\ubcf4\\ud2c0\", \"\\ubcf5\\uc22d\\uc544\", \"\\ubcf5\\uc6a9\", \"\\ubcf6\\uc74c\", \"\\ubcf6\\uc74c\\ubc25\", \"\\ubcf8\\uc0ac\", \"\\ubd09\\uc9c0\", \"\\ubd80\\ub4dd\\uc774\", \"\\ubd80\\ubd84\", \"\\ubd80\\uc6d0\", \"\\ubd80\\uc704\", \"\\ubd84\\ub7c9\", \"\\ubd84\\ub9ac\", \"\\ubd84\\ub9d0\", \"\\ubd84\\uc1c4\", \"\\ubd88\\uace0\\uae30\", \"\\ube0c\\ub79c\\ub4dc\", \"\\ube14\\ub80c\\ub4dc\", \"\\ube14\\ub8e8\\ubca0\\ub9ac\", \"\\ube44\\uad50\", \"\\ube44\\ub2d0\", \"\\ube44\\uc728\", \"\\ube44\\ud0c0\\ubbfc\", \"\\ube44\\ud2b8\", \"\\ubfcc\\ub9ac\", \"\\uc0ac\\uace0\", \"\\uc0ac\\uacfc\", \"\\uc0ac\\ub78c\", \"\\uc0ac\\ub824\", \"\\uc0ac\\uba74\", \"\\uc0ac\\uc6a9\", \"\\uc0ac\\uc740\", \"\\uc0ac\\uc774\", \"\\uc0ac\\uc774\\uc988\", \"\\uc0ac\\uc7a5\", \"\\uc0ac\\uc815\", \"\\uc0ac\\uc9c4\", \"\\uc0ac\\ud56d\", \"\\uc0b0\\uc774\", \"\\uc0b0\\uc9c0\", \"\\uc0b4\\uc774\", \"\\uc0b4\\uc9dd\", \"\\uc0bc\\uacb9\\uc0b4\", \"\\uc0c1\\uc138\", \"\\uc0c1\\uc628\", \"\\uc0c1\\uc774\", \"\\uc0c1\\uc790\", \"\\uc0c1\\ud0dc\", \"\\uc0c1\\ud488\", \"\\uc0c1\\ud488\", \"\\uc0c1\\ud488\", \"\\uc0c1\\ud488\", \"\\uc0c1\\ud558\", \"\\uc0c1\\ud669\", \"\\uc0c8\\uc6b0\", \"\\uc0c9\\uae54\", \"\\uc0c9\\uc0c1\", \"\\uc0d0\\ub7ec\\ub4dc\", \"\\uc0dd\\uac01\", \"\\uc0dd\\uac15\", \"\\uc0dd\\ubb3c\", \"\\uc0dd\\uc0b0\", \"\\uc0dd\\uc218\", \"\\uc0dd\\uc73c\\ub85c\", \"\\uc11c\\ub9ac\", \"\\uc120\\ubb3c\", \"\\uc120\\ubcc4\", \"\\uc120\\ud0dd\", \"\\uc124\\uba85\", \"\\uc124\\uc815\", \"\\uc124\\ud0d5\", \"\\uc12d\\ucde8\", \"\\uc131\\ubd84\", \"\\uc131\\uc778\", \"\\uc138\\ucc99\", \"\\uc138\\ud2b8\", \"\\uc13c\\ud130\", \"\\uc18c\\uace0\\uae30\", \"\\uc18c\\uae08\", \"\\uc18c\\ub7c9\", \"\\uc18c\\uc2a4\", \"\\uc18c\\uc9c4\", \"\\uc190\\uc9c8\", \"\\uc1fc\\ud551\", \"\\uc218\\uac00\", \"\\uc218\\ub3c4\", \"\\uc218\\ub7c9\", \"\\uc218\\ub839\", \"\\uc218\\ubd84\", \"\\uc218\\uc785\", \"\\uc218\\uc815\", \"\\uc218\\ud655\", \"\\uc219\\uc131\", \"\\uc21c\\ub300\", \"\\uc21c\\uc218\", \"\\uc21c\\ucc28\", \"\\uc250\\uc774\\ud06c\", \"\\uc2a4\\ud0c0\\ubc85\\uc2a4\", \"\\uc2a4\\ud14c\\uc774\\ud06c\", \"\\uc2a4\\ud1a0\", \"\\uc2a4\\ud2f0\\ucee4\", \"\\uc2a4\\ud2f1\", \"\\uc2a4\\ud47c\", \"\\uc2a4\\ud504\", \"\\uc2dc\\uae30\", \"\\uc2dc\\ub7fd\", \"\\uc2dc\\uc2a4\\ud15c\", \"\\uc2dc\\uc791\", \"\\uc2dd\\uac10\", \"\\uc2dd\\ub2e8\", \"\\uc2dd\\ubb3c\\uc131\", \"\\uc2dd\\uc0ac\", \"\\uc2dd\\ud488\", \"\\uc2e0\\uc81c\\ud488\", \"\\uc2e4\\uc218\", \"\\uc2e4\\uc628\", \"\\uc2e4\\uc81c\", \"\\uc544\\uae30\", \"\\uc544\\ub798\", \"\\uc544\\uba54\\ub9ac\\uce74\\ub178\", \"\\uc544\\ubaac\\ub4dc\", \"\\uc544\\uc608\", \"\\uc544\\uc774\\uc2a4\", \"\\uc544\\uc774\\uc2a4\\ubc15\\uc2a4\", \"\\uc544\\uc774\\uc2a4\\ud329\", \"\\uc544\\uc8fc\", \"\\uc544\\uce68\", \"\\uc548\\ub0b4\", \"\\uc548\\uc2ec\", \"\\uc54c\\ub7ec\\uc9c0\", \"\\uc54c\\ub85c\", \"\\uc54c\\ud2f0\", \"\\uc57c\\ucc44\", \"\\uc591\\ub150\", \"\\uc591\\ud30c\", \"\\uc591\\ud574\", \"\\uc591\\ud574\", \"\\uc5b4\\ubb35\", \"\\uc5b4\\uc81c\", \"\\uc5c5\\uccb4\", \"\\uc5d0\\uc2a4\\ud504\\ub808\\uc18c\", \"\\uc5ec\\ub7ec\", \"\\uc5f0\\uc5b4\", \"\\uc601\\uc591\", \"\\uc601\\uc591\\uc131\\ubd84\", \"\\uc608\\uc815\", \"\\uc624\\ub298\", \"\\uc624\\ub2c8\", \"\\uc624\\ub80c\\uc9c0\", \"\\uc624\\ub9ac\", \"\\uc624\\uba54\\uac00\", \"\\uc624\\ubbf8\\uc790\", \"\\uc624\\uc77c\", \"\\uc624\\uc804\", \"\\uc624\\uc9d5\\uc5b4\", \"\\uc624\\ud6c4\", \"\\uc625\\uc218\\uc218\", \"\\uc628\\ub3c4\", \"\\uc628\\ub77c\\uc778\", \"\\uc62c\\ud574\", \"\\uc635\\uc158\", \"\\uc635\\uc158\", \"\\uc640\\ud50c\", \"\\uc644\\ub8cc\", \"\\uc644\\uc804\", \"\\uc694\\uac70\\ud2b8\", \"\\uc694\\ub9ac\", \"\\uc694\\uc998\", \"\\uc694\\uccad\", \"\\uc6a9\\uae30\", \"\\uc6a9\\ub7c9\", \"\\uc6a9\\uc774\", \"\\uc6b0\\ub824\", \"\\uc6b0\\uc720\", \"\\uc6d0\\ub450\", \"\\uc6d0\\ub798\", \"\\uc6d0\\ub8cc\", \"\\uc6d0\\uc0b0\\uc9c0\", \"\\uc6d4\\uc694\\uc77c\", \"\\uc704\\ud574\", \"\\uc720\\uae30\\ub18d\", \"\\uc720\\uc0b0\\uade0\", \"\\uc720\\uc9c0\", \"\\uc720\\ud1b5\", \"\\uc721\\uc218\", \"\\uc74c\\ub8cc\", \"\\uc74c\\uc2dd\", \"\\uc758\\uc8fc\", \"\\uc774\\uac74\", \"\\uc774\\uad6c\", \"\\uc774\\uae30\", \"\\uc774\\ub0b4\", \"\\uc774\\ub4dc\", \"\\uc774\\ub984\", \"\\uc774\\uba74\", \"\\uc774\\ubca4\\ud2b8\", \"\\uc774\\uc0b0\\ud654\\uaddc\\uc18c\", \"\\uc774\\uc678\", \"\\uc774\\uc6a9\", \"\\uc774\\uc720\", \"\\uc774\\uc720\\uc2dd\", \"\\uc774\\uc804\", \"\\uc774\\uc81c\", \"\\uc774\\ud558\", \"\\uc774\\ud6c4\", \"\\uc778\\ubd84\", \"\\uc778\\uc99d\", \"\\uc778\\uc9c0\", \"\\uc778\\ud130\\ub137\", \"\\uc77c\\ub85c\", \"\\uc77c\\ub9ac\", \"\\uc77c\\ubc18\", \"\\uc77c\\ubd80\", \"\\uc77c\\uc790\", \"\\uc77c\\uc8fc\\uc77c\", \"\\uc784\\uc0b0\\ubd80\", \"\\uc785\\ub9db\", \"\\uc790\\ubabd\", \"\\uc790\\uc5f0\", \"\\uc790\\uccb4\", \"\\uc791\\ub144\", \"\\uc791\\uc5c5\", \"\\uc794\\ub958\", \"\\uc798\\ubabb\", \"\\uc7ac\\uace0\", \"\\uc7ac\\ub8cc\", \"\\uc7ac\\ubc30\", \"\\uc800\\ub141\", \"\\uc800\\ubc88\", \"\\uc800\\ubd84\\uc790\", \"\\uc801\\uc6a9\", \"\\uc804\\ub2ec\", \"\\uc804\\uc6a9\", \"\\uc804\\uccb4\", \"\\uc804\\ud600\", \"\\uc813\\uac08\", \"\\uc815\\ub9d0\", \"\\uc815\\ubcf4\", \"\\uc815\\uc0c1\", \"\\uc815\\ud488\", \"\\uc81c\\uac70\", \"\\uc81c\\uacf5\", \"\\uc81c\\uc678\", \"\\uc81c\\uc77c\", \"\\uc81c\\uc791\", \"\\uc81c\\uc870\", \"\\uc81c\\ud488\", \"\\uc81c\\ud488\", \"\\uc81c\\ud55c\", \"\\uc824\\ub9ac\", \"\\uc870\\uac01\", \"\\uc870\\ub9ac\", \"\\uc870\\uc0ac\", \"\\uc870\\uc77c\", \"\\uc870\\uc808\", \"\\uc885\\ub8cc\", \"\\uc885\\ub958\", \"\\uc885\\uc774\", \"\\uc8fc\\ub9d0\", \"\\uc8fc\\ubb38\", \"\\uc8fc\\uc2a4\", \"\\uc8fc\\uc758\", \"\\uc900\\ube44\", \"\\uc911\\uac04\", \"\\uc911\\uad6d\\uc0b0\", \"\\uc911\\ub7c9\", \"\\uc911\\uc21c\", \"\\uc911\\uc774\", \"\\uc911\\uc778\", \"\\uc99d\\uc815\", \"\\uc9c0\\uae08\", \"\\uc9c0\\ubc29\", \"\\uc9c0\\uc5f0\", \"\\uc9c0\\uc624\", \"\\uc9c1\\uc811\", \"\\uc9c4\\uacf5\", \"\\uc9c4\\uc2ec\", \"\\uc9c4\\uc9dc\", \"\\uc9c4\\ud589\", \"\\uc9c4\\ud589\", \"\\uc9c8\\ubb38\", \"\\ucc28\\ub85c\", \"\\ucc28\\uc774\", \"\\ucc28\\uc774\\uc810\", \"\\ucc29\\uc999\", \"\\ucc38\\uace0\", \"\\ucc39\\uc300\", \"\\ucc98\\ub9ac\", \"\\ucc98\\uc74c\", \"\\ucca8\\uac00\", \"\\ucd08\\ubc8c\", \"\\ucd08\\ucf54\", \"\\ucd08\\ucf5c\\ub9bf\", \"\\ucd5c\\uadfc\", \"\\ucd5c\\ub300\", \"\\ucd5c\\ub300\\ud55c\", \"\\ucd5c\\ub300\\ud55c\", \"\\ucd5c\\uc2e0\", \"\\ucd94\\uac00\", \"\\ucd94\\uc11d\", \"\\ucd94\\ucc9c\", \"\\ucd94\\ucd9c\", \"\\ucd9c\\uace0\", \"\\ucd9c\\uc2dc\", \"\\ucde8\\uae09\", \"\\ucde8\\uc18c\", \"\\ucde8\\ud5a5\", \"\\uce58\\uc988\", \"\\uce58\\ud0a8\", \"\\uce74\\ud398\", \"\\uce7c\\ub85c\\ub9ac\", \"\\uce7c\\uc298\", \"\\ucea1\\uc290\", \"\\ucee4\\ud53c\", \"\\ucf00\\uc774\\uc2a4\", \"\\ucf00\\uc77c\", \"\\ucf5c\\ub77c\\uac90\", \"\\ucfe0\\ud0a4\", \"\\ucfe0\\ud3f0\", \"\\ud06c\\uac8c\", \"\\ud06c\\uae30\", \"\\ud06c\\ub9b4\", \"\\ud06c\\ub9bc\", \"\\ud0a4\\ub85c\", \"\\ud0a4\\uc704\", \"\\ud0a4\\uc988\", \"\\ud0ac\\ub85c\", \"\\ud0c0\\uc785\", \"\\ud0dd\\ubc30\", \"\\ud1a0\\ub9c8\\ud1a0\", \"\\ud1b5\\ubc00\", \"\\ud1b5\\ud574\", \"\\ud280\\uae40\", \"\\ud2b8\\ub9ac\", \"\\ud2b9\\uac00\", \"\\ud2b9\\uc131\", \"\\ud2f0\\ubc31\", \"\\ud30c\\uc6b0\\ub354\", \"\\ud310\\ub9e4\", \"\\ud328\\ud0a4\\uc9c0\", \"\\ud37c\\uc13c\\ud2b8\", \"\\ud38c\\ud504\", \"\\ud398\\uc774\\uc9c0\", \"\\ud3c9\\uade0\", \"\\ud3ec\\uae30\", \"\\ud3ec\\ub3c4\", \"\\ud3ec\\uc7a5\", \"\\ud3ec\\ud568\", \"\\ud45c\\uae30\", \"\\ud45c\\uc2dc\", \"\\ud488\\ubaa9\", \"\\ud488\\uc808\", \"\\ud488\\uc885\", \"\\ud488\\uc9c8\", \"\\ud504\\ub808\", \"\\ud504\\ub85c\", \"\\ud504\\ub85c\\ubc14\\uc774\\uc624\\ud2f1\\uc2a4\", \"\\ud504\\ub9ac\", \"\\ud504\\ub9ac\\ubbf8\\uc5c4\", \"\\ud504\\ub9ac\\ubc14\\uc774\\uc624\\ud2f1\\uc2a4\", \"\\ud50c\\ub77c\\uc2a4\\ud2f1\", \"\\ud50c\\ub7ec\\uc2a4\", \"\\ud53c\\ubd80\", \"\\ud53c\\uc26c\", \"\\ud544\\uc694\", \"\\ud558\\ub098\\uc694\", \"\\ud558\\ub8e8\", \"\\ud55c\\ubc88\", \"\\ud55c\\uc6b0\", \"\\ud560\\uc778\", \"\\ud568\\ub7c9\", \"\\ud568\\uc720\", \"\\ud568\\uc720\\ub7c9\", \"\\ud56d\\uc0c1\", \"\\ud574\\ub2f9\", \"\\ud574\\ub2f9\", \"\\ud574\\ub2f9\", \"\\ud574\\ub3c4\", \"\\ud574\\ub3d9\", \"\\ud585\\uc300\", \"\\ud589\\uc0ac\", \"\\ud604\\ubbf8\", \"\\ud604\\uc7ac\", \"\\ud604\\uc9c0\", \"\\ud615\\ud0dc\", \"\\ud638\\ub450\", \"\\ud638\\ubc15\", \"\\ud638\\ubc15\\uace0\\uad6c\\ub9c8\", \"\\ud638\\ud658\", \"\\ud63c\\ud569\", \"\\ud64d\\uac8c\", \"\\ud64d\\uc0bc\", \"\\ud654\\uc81c\", \"\\ud655\\uc778\", \"\\ud658\\ubd88\", \"\\ud68c\\uc0ac\", \"\\ud6a8\\uacfc\", \"\\ud6a8\\uc18c\", \"\\ud6c4\\uae30\", \"\\ud6c8\\uc81c\", \"\\ud761\\uc218\"]}, \"R\": 30, \"lambda.step\": 0.01, \"plot.opts\": {\"xlab\": \"PC1\", \"ylab\": \"PC2\"}, \"topic.order\": [17, 10, 13, 7, 12, 3, 16, 5, 20, 6, 1, 14, 19, 11, 18, 2, 9, 8, 15, 4]};\n",
              "\n",
              "function LDAvis_load_lib(url, callback){\n",
              "  var s = document.createElement('script');\n",
              "  s.src = url;\n",
              "  s.async = true;\n",
              "  s.onreadystatechange = s.onload = callback;\n",
              "  s.onerror = function(){console.warn(\"failed to load library \" + url);};\n",
              "  document.getElementsByTagName(\"head\")[0].appendChild(s);\n",
              "}\n",
              "\n",
              "if(typeof(LDAvis) !== \"undefined\"){\n",
              "   // already loaded: just create the visualization\n",
              "   !function(LDAvis){\n",
              "       new LDAvis(\"#\" + \"ldavis_el308139277712005760116457981\", ldavis_el308139277712005760116457981_data);\n",
              "   }(LDAvis);\n",
              "}else if(typeof define === \"function\" && define.amd){\n",
              "   // require.js is available: use it to load d3/LDAvis\n",
              "   require.config({paths: {d3: \"https://d3js.org/d3.v5\"}});\n",
              "   require([\"d3\"], function(d3){\n",
              "      window.d3 = d3;\n",
              "      LDAvis_load_lib(\"https://cdn.jsdelivr.net/gh/bmabey/pyLDAvis@3.4.0/pyLDAvis/js/ldavis.v3.0.0.js\", function(){\n",
              "        new LDAvis(\"#\" + \"ldavis_el308139277712005760116457981\", ldavis_el308139277712005760116457981_data);\n",
              "      });\n",
              "    });\n",
              "}else{\n",
              "    // require.js not available: dynamically load d3 & LDAvis\n",
              "    LDAvis_load_lib(\"https://d3js.org/d3.v5.js\", function(){\n",
              "         LDAvis_load_lib(\"https://cdn.jsdelivr.net/gh/bmabey/pyLDAvis@3.4.0/pyLDAvis/js/ldavis.v3.0.0.js\", function(){\n",
              "                 new LDAvis(\"#\" + \"ldavis_el308139277712005760116457981\", ldavis_el308139277712005760116457981_data);\n",
              "            })\n",
              "         });\n",
              "}\n",
              "</script>"
            ]
          },
          "metadata": {},
          "execution_count": 23
        }
      ]
    },
    {
      "cell_type": "markdown",
      "source": [
        "# 배송 인텐트 토픽 모델링"
      ],
      "metadata": {
        "id": "2D0thkhUpFEW"
      }
    },
    {
      "cell_type": "code",
      "source": [
        "df2 = data[(data['인텐트 (대)']=='배송')]\n",
        "text2 = df2[['발화문']]\n",
        "text2.head(5)"
      ],
      "metadata": {
        "colab": {
          "base_uri": "https://localhost:8080/",
          "height": 262
        },
        "id": "h3STeCEHpMFU",
        "outputId": "ed89cd8b-8394-4dda-846b-1ec8ca8dd0a1"
      },
      "execution_count": null,
      "outputs": [
        {
          "output_type": "stream",
          "name": "stderr",
          "text": [
            "/usr/local/lib/python3.10/dist-packages/ipykernel/ipkernel.py:283: DeprecationWarning: `should_run_async` will not call `transform_cell` automatically in the future. Please pass the result to `transformed_cell` argument and any exception that happen during thetransform in `preprocessing_exc_tuple` in IPython 7.17 and above.\n",
            "  and should_run_async(code)\n"
          ]
        },
        {
          "output_type": "execute_result",
          "data": {
            "text/plain": [
              "                                                 발화문\n",
              "0  컵밥 2만원 이상을 사면 무료 배송으로 아는데 여기가 죽도 추가로 몇 개 더 주문해...\n",
              "1    박스에 합포가 되지 않을 수도 있어 정확한 답변 드리지 못하는 점 양해 부탁드립니다.\n",
              "2  해마로 기준 6개 이상이고 볶음밥 기준으로는 50개 이상인데 해마로 케이준 1봉과 ...\n",
              "3  일단 두 제품이 같이 담기면 최소 수량 부과인 6개 이상은 시스템 상 자동부과가 됩니다.\n",
              "4  마트 원데이는 무료 배송이라고 되있는데 왜 결제를 하려고 하니까 배송비 3000원이..."
            ],
            "text/html": [
              "\n",
              "  <div id=\"df-926918c3-cd89-4b85-a1dc-a71b8f2a6d26\" class=\"colab-df-container\">\n",
              "    <div>\n",
              "<style scoped>\n",
              "    .dataframe tbody tr th:only-of-type {\n",
              "        vertical-align: middle;\n",
              "    }\n",
              "\n",
              "    .dataframe tbody tr th {\n",
              "        vertical-align: top;\n",
              "    }\n",
              "\n",
              "    .dataframe thead th {\n",
              "        text-align: right;\n",
              "    }\n",
              "</style>\n",
              "<table border=\"1\" class=\"dataframe\">\n",
              "  <thead>\n",
              "    <tr style=\"text-align: right;\">\n",
              "      <th></th>\n",
              "      <th>발화문</th>\n",
              "    </tr>\n",
              "  </thead>\n",
              "  <tbody>\n",
              "    <tr>\n",
              "      <th>0</th>\n",
              "      <td>컵밥 2만원 이상을 사면 무료 배송으로 아는데 여기가 죽도 추가로 몇 개 더 주문해...</td>\n",
              "    </tr>\n",
              "    <tr>\n",
              "      <th>1</th>\n",
              "      <td>박스에 합포가 되지 않을 수도 있어 정확한 답변 드리지 못하는 점 양해 부탁드립니다.</td>\n",
              "    </tr>\n",
              "    <tr>\n",
              "      <th>2</th>\n",
              "      <td>해마로 기준 6개 이상이고 볶음밥 기준으로는 50개 이상인데 해마로 케이준 1봉과 ...</td>\n",
              "    </tr>\n",
              "    <tr>\n",
              "      <th>3</th>\n",
              "      <td>일단 두 제품이 같이 담기면 최소 수량 부과인 6개 이상은 시스템 상 자동부과가 됩니다.</td>\n",
              "    </tr>\n",
              "    <tr>\n",
              "      <th>4</th>\n",
              "      <td>마트 원데이는 무료 배송이라고 되있는데 왜 결제를 하려고 하니까 배송비 3000원이...</td>\n",
              "    </tr>\n",
              "  </tbody>\n",
              "</table>\n",
              "</div>\n",
              "    <div class=\"colab-df-buttons\">\n",
              "\n",
              "  <div class=\"colab-df-container\">\n",
              "    <button class=\"colab-df-convert\" onclick=\"convertToInteractive('df-926918c3-cd89-4b85-a1dc-a71b8f2a6d26')\"\n",
              "            title=\"Convert this dataframe to an interactive table.\"\n",
              "            style=\"display:none;\">\n",
              "\n",
              "  <svg xmlns=\"http://www.w3.org/2000/svg\" height=\"24px\" viewBox=\"0 -960 960 960\">\n",
              "    <path d=\"M120-120v-720h720v720H120Zm60-500h600v-160H180v160Zm220 220h160v-160H400v160Zm0 220h160v-160H400v160ZM180-400h160v-160H180v160Zm440 0h160v-160H620v160ZM180-180h160v-160H180v160Zm440 0h160v-160H620v160Z\"/>\n",
              "  </svg>\n",
              "    </button>\n",
              "\n",
              "  <style>\n",
              "    .colab-df-container {\n",
              "      display:flex;\n",
              "      gap: 12px;\n",
              "    }\n",
              "\n",
              "    .colab-df-convert {\n",
              "      background-color: #E8F0FE;\n",
              "      border: none;\n",
              "      border-radius: 50%;\n",
              "      cursor: pointer;\n",
              "      display: none;\n",
              "      fill: #1967D2;\n",
              "      height: 32px;\n",
              "      padding: 0 0 0 0;\n",
              "      width: 32px;\n",
              "    }\n",
              "\n",
              "    .colab-df-convert:hover {\n",
              "      background-color: #E2EBFA;\n",
              "      box-shadow: 0px 1px 2px rgba(60, 64, 67, 0.3), 0px 1px 3px 1px rgba(60, 64, 67, 0.15);\n",
              "      fill: #174EA6;\n",
              "    }\n",
              "\n",
              "    .colab-df-buttons div {\n",
              "      margin-bottom: 4px;\n",
              "    }\n",
              "\n",
              "    [theme=dark] .colab-df-convert {\n",
              "      background-color: #3B4455;\n",
              "      fill: #D2E3FC;\n",
              "    }\n",
              "\n",
              "    [theme=dark] .colab-df-convert:hover {\n",
              "      background-color: #434B5C;\n",
              "      box-shadow: 0px 1px 3px 1px rgba(0, 0, 0, 0.15);\n",
              "      filter: drop-shadow(0px 1px 2px rgba(0, 0, 0, 0.3));\n",
              "      fill: #FFFFFF;\n",
              "    }\n",
              "  </style>\n",
              "\n",
              "    <script>\n",
              "      const buttonEl =\n",
              "        document.querySelector('#df-926918c3-cd89-4b85-a1dc-a71b8f2a6d26 button.colab-df-convert');\n",
              "      buttonEl.style.display =\n",
              "        google.colab.kernel.accessAllowed ? 'block' : 'none';\n",
              "\n",
              "      async function convertToInteractive(key) {\n",
              "        const element = document.querySelector('#df-926918c3-cd89-4b85-a1dc-a71b8f2a6d26');\n",
              "        const dataTable =\n",
              "          await google.colab.kernel.invokeFunction('convertToInteractive',\n",
              "                                                    [key], {});\n",
              "        if (!dataTable) return;\n",
              "\n",
              "        const docLinkHtml = 'Like what you see? Visit the ' +\n",
              "          '<a target=\"_blank\" href=https://colab.research.google.com/notebooks/data_table.ipynb>data table notebook</a>'\n",
              "          + ' to learn more about interactive tables.';\n",
              "        element.innerHTML = '';\n",
              "        dataTable['output_type'] = 'display_data';\n",
              "        await google.colab.output.renderOutput(dataTable, element);\n",
              "        const docLink = document.createElement('div');\n",
              "        docLink.innerHTML = docLinkHtml;\n",
              "        element.appendChild(docLink);\n",
              "      }\n",
              "    </script>\n",
              "  </div>\n",
              "\n",
              "\n",
              "<div id=\"df-a69b7f6e-acfb-44a9-b036-ee123aece56e\">\n",
              "  <button class=\"colab-df-quickchart\" onclick=\"quickchart('df-a69b7f6e-acfb-44a9-b036-ee123aece56e')\"\n",
              "            title=\"Suggest charts.\"\n",
              "            style=\"display:none;\">\n",
              "\n",
              "<svg xmlns=\"http://www.w3.org/2000/svg\" height=\"24px\"viewBox=\"0 0 24 24\"\n",
              "     width=\"24px\">\n",
              "    <g>\n",
              "        <path d=\"M19 3H5c-1.1 0-2 .9-2 2v14c0 1.1.9 2 2 2h14c1.1 0 2-.9 2-2V5c0-1.1-.9-2-2-2zM9 17H7v-7h2v7zm4 0h-2V7h2v10zm4 0h-2v-4h2v4z\"/>\n",
              "    </g>\n",
              "</svg>\n",
              "  </button>\n",
              "\n",
              "<style>\n",
              "  .colab-df-quickchart {\n",
              "      --bg-color: #E8F0FE;\n",
              "      --fill-color: #1967D2;\n",
              "      --hover-bg-color: #E2EBFA;\n",
              "      --hover-fill-color: #174EA6;\n",
              "      --disabled-fill-color: #AAA;\n",
              "      --disabled-bg-color: #DDD;\n",
              "  }\n",
              "\n",
              "  [theme=dark] .colab-df-quickchart {\n",
              "      --bg-color: #3B4455;\n",
              "      --fill-color: #D2E3FC;\n",
              "      --hover-bg-color: #434B5C;\n",
              "      --hover-fill-color: #FFFFFF;\n",
              "      --disabled-bg-color: #3B4455;\n",
              "      --disabled-fill-color: #666;\n",
              "  }\n",
              "\n",
              "  .colab-df-quickchart {\n",
              "    background-color: var(--bg-color);\n",
              "    border: none;\n",
              "    border-radius: 50%;\n",
              "    cursor: pointer;\n",
              "    display: none;\n",
              "    fill: var(--fill-color);\n",
              "    height: 32px;\n",
              "    padding: 0;\n",
              "    width: 32px;\n",
              "  }\n",
              "\n",
              "  .colab-df-quickchart:hover {\n",
              "    background-color: var(--hover-bg-color);\n",
              "    box-shadow: 0 1px 2px rgba(60, 64, 67, 0.3), 0 1px 3px 1px rgba(60, 64, 67, 0.15);\n",
              "    fill: var(--button-hover-fill-color);\n",
              "  }\n",
              "\n",
              "  .colab-df-quickchart-complete:disabled,\n",
              "  .colab-df-quickchart-complete:disabled:hover {\n",
              "    background-color: var(--disabled-bg-color);\n",
              "    fill: var(--disabled-fill-color);\n",
              "    box-shadow: none;\n",
              "  }\n",
              "\n",
              "  .colab-df-spinner {\n",
              "    border: 2px solid var(--fill-color);\n",
              "    border-color: transparent;\n",
              "    border-bottom-color: var(--fill-color);\n",
              "    animation:\n",
              "      spin 1s steps(1) infinite;\n",
              "  }\n",
              "\n",
              "  @keyframes spin {\n",
              "    0% {\n",
              "      border-color: transparent;\n",
              "      border-bottom-color: var(--fill-color);\n",
              "      border-left-color: var(--fill-color);\n",
              "    }\n",
              "    20% {\n",
              "      border-color: transparent;\n",
              "      border-left-color: var(--fill-color);\n",
              "      border-top-color: var(--fill-color);\n",
              "    }\n",
              "    30% {\n",
              "      border-color: transparent;\n",
              "      border-left-color: var(--fill-color);\n",
              "      border-top-color: var(--fill-color);\n",
              "      border-right-color: var(--fill-color);\n",
              "    }\n",
              "    40% {\n",
              "      border-color: transparent;\n",
              "      border-right-color: var(--fill-color);\n",
              "      border-top-color: var(--fill-color);\n",
              "    }\n",
              "    60% {\n",
              "      border-color: transparent;\n",
              "      border-right-color: var(--fill-color);\n",
              "    }\n",
              "    80% {\n",
              "      border-color: transparent;\n",
              "      border-right-color: var(--fill-color);\n",
              "      border-bottom-color: var(--fill-color);\n",
              "    }\n",
              "    90% {\n",
              "      border-color: transparent;\n",
              "      border-bottom-color: var(--fill-color);\n",
              "    }\n",
              "  }\n",
              "</style>\n",
              "\n",
              "  <script>\n",
              "    async function quickchart(key) {\n",
              "      const quickchartButtonEl =\n",
              "        document.querySelector('#' + key + ' button');\n",
              "      quickchartButtonEl.disabled = true;  // To prevent multiple clicks.\n",
              "      quickchartButtonEl.classList.add('colab-df-spinner');\n",
              "      try {\n",
              "        const charts = await google.colab.kernel.invokeFunction(\n",
              "            'suggestCharts', [key], {});\n",
              "      } catch (error) {\n",
              "        console.error('Error during call to suggestCharts:', error);\n",
              "      }\n",
              "      quickchartButtonEl.classList.remove('colab-df-spinner');\n",
              "      quickchartButtonEl.classList.add('colab-df-quickchart-complete');\n",
              "    }\n",
              "    (() => {\n",
              "      let quickchartButtonEl =\n",
              "        document.querySelector('#df-a69b7f6e-acfb-44a9-b036-ee123aece56e button');\n",
              "      quickchartButtonEl.style.display =\n",
              "        google.colab.kernel.accessAllowed ? 'block' : 'none';\n",
              "    })();\n",
              "  </script>\n",
              "</div>\n",
              "    </div>\n",
              "  </div>\n"
            ]
          },
          "metadata": {},
          "execution_count": 24
        }
      ]
    },
    {
      "cell_type": "code",
      "source": [
        "# konlpy의 Okt 객체를 생성\n",
        "okt = Okt()\n",
        "\n",
        "# 'headline_text' 열의 각 행에 대해 한국어 토큰화 수행\n",
        "def tokenize_korean_text(row):\n",
        "    return okt.nouns(row['발화문'])"
      ],
      "metadata": {
        "colab": {
          "base_uri": "https://localhost:8080/"
        },
        "id": "du-MreHUpb1P",
        "outputId": "4bf9badb-0b78-4fd3-d47b-c5a1a53bea67"
      },
      "execution_count": null,
      "outputs": [
        {
          "output_type": "stream",
          "name": "stderr",
          "text": [
            "/usr/local/lib/python3.10/dist-packages/ipykernel/ipkernel.py:283: DeprecationWarning: `should_run_async` will not call `transform_cell` automatically in the future. Please pass the result to `transformed_cell` argument and any exception that happen during thetransform in `preprocessing_exc_tuple` in IPython 7.17 and above.\n",
            "  and should_run_async(code)\n"
          ]
        }
      ]
    },
    {
      "cell_type": "code",
      "source": [
        "text2['발화문'] = text2.apply(tokenize_korean_text, axis=1)"
      ],
      "metadata": {
        "colab": {
          "base_uri": "https://localhost:8080/"
        },
        "id": "zLaJm-jWpfB2",
        "outputId": "7797990c-0df7-4330-9e05-36011275850f"
      },
      "execution_count": null,
      "outputs": [
        {
          "output_type": "stream",
          "name": "stderr",
          "text": [
            "/usr/local/lib/python3.10/dist-packages/ipykernel/ipkernel.py:283: DeprecationWarning: `should_run_async` will not call `transform_cell` automatically in the future. Please pass the result to `transformed_cell` argument and any exception that happen during thetransform in `preprocessing_exc_tuple` in IPython 7.17 and above.\n",
            "  and should_run_async(code)\n",
            "<ipython-input-27-bd4444ddd4c5>:1: SettingWithCopyWarning: \n",
            "A value is trying to be set on a copy of a slice from a DataFrame.\n",
            "Try using .loc[row_indexer,col_indexer] = value instead\n",
            "\n",
            "See the caveats in the documentation: https://pandas.pydata.org/pandas-docs/stable/user_guide/indexing.html#returning-a-view-versus-a-copy\n",
            "  text2['발화문'] = text2.apply(tokenize_korean_text, axis=1)\n"
          ]
        }
      ]
    },
    {
      "cell_type": "code",
      "source": [
        "text2['발화문'] = text2['발화문'].apply(remove_stopwords)"
      ],
      "metadata": {
        "colab": {
          "base_uri": "https://localhost:8080/"
        },
        "id": "rt-BYUpJqYr9",
        "outputId": "e78110b2-0b9a-4ac6-936c-804cfb69adeb"
      },
      "execution_count": null,
      "outputs": [
        {
          "output_type": "stream",
          "name": "stderr",
          "text": [
            "/usr/local/lib/python3.10/dist-packages/ipykernel/ipkernel.py:283: DeprecationWarning: `should_run_async` will not call `transform_cell` automatically in the future. Please pass the result to `transformed_cell` argument and any exception that happen during thetransform in `preprocessing_exc_tuple` in IPython 7.17 and above.\n",
            "  and should_run_async(code)\n",
            "<ipython-input-28-742f9ae69bb8>:1: SettingWithCopyWarning: \n",
            "A value is trying to be set on a copy of a slice from a DataFrame.\n",
            "Try using .loc[row_indexer,col_indexer] = value instead\n",
            "\n",
            "See the caveats in the documentation: https://pandas.pydata.org/pandas-docs/stable/user_guide/indexing.html#returning-a-view-versus-a-copy\n",
            "  text2['발화문'] = text2['발화문'].apply(remove_stopwords)\n"
          ]
        }
      ]
    },
    {
      "cell_type": "code",
      "source": [
        "tokenized_doc2 = text2['발화문'].apply(lambda x: [word for word in x if len(word) > 1])\n",
        "print(tokenized_doc2[:5])"
      ],
      "metadata": {
        "colab": {
          "base_uri": "https://localhost:8080/"
        },
        "id": "L9gy0klOsZdZ",
        "outputId": "b1f3e3b9-e393-46a8-d84f-ffa1787ce403"
      },
      "execution_count": null,
      "outputs": [
        {
          "output_type": "stream",
          "name": "stderr",
          "text": [
            "/usr/local/lib/python3.10/dist-packages/ipykernel/ipkernel.py:283: DeprecationWarning: `should_run_async` will not call `transform_cell` automatically in the future. Please pass the result to `transformed_cell` argument and any exception that happen during thetransform in `preprocessing_exc_tuple` in IPython 7.17 and above.\n",
            "  and should_run_async(code)\n"
          ]
        },
        {
          "output_type": "stream",
          "name": "stdout",
          "text": [
            "0                [컵밥, 사면, 무료, 배송, 죽도, 추가, 주문, 추가, 배송비]\n",
            "1                                 [박스, 합포, 수도, 답변, 양해]\n",
            "2    [해마, 기준, 볶음밥, 기준, 해마, 케이준, 볶음밥, 구매, 배송비, 내야, 하나요]\n",
            "3                   [제품, 최소, 수량, 부과, 이상은, 시스템, 자동, 부과]\n",
            "4                           [마트, 원데이, 무료, 배송, 결제, 배송비]\n",
            "Name: 발화문, dtype: object\n"
          ]
        }
      ]
    },
    {
      "cell_type": "code",
      "source": [
        "from gensim import corpora\n",
        "dictionary2 = corpora.Dictionary(tokenized_doc2)\n",
        "corpus2 = [dictionary2.doc2bow(text2) for text2 in tokenized_doc2]\n",
        "print(corpus2[1]) # 수행된 결과에서 두번째 뉴스 출력. 첫번째 문서의 인덱스는 0"
      ],
      "metadata": {
        "colab": {
          "base_uri": "https://localhost:8080/"
        },
        "id": "wX6LVw9bsh1Y",
        "outputId": "d09c3332-aaa2-4d20-c59d-34cc3b85067e"
      },
      "execution_count": null,
      "outputs": [
        {
          "output_type": "stream",
          "name": "stderr",
          "text": [
            "/usr/local/lib/python3.10/dist-packages/ipykernel/ipkernel.py:283: DeprecationWarning: `should_run_async` will not call `transform_cell` automatically in the future. Please pass the result to `transformed_cell` argument and any exception that happen during thetransform in `preprocessing_exc_tuple` in IPython 7.17 and above.\n",
            "  and should_run_async(code)\n"
          ]
        },
        {
          "output_type": "stream",
          "name": "stdout",
          "text": [
            "[(8, 1), (9, 1), (10, 1), (11, 1), (12, 1)]\n"
          ]
        }
      ]
    },
    {
      "cell_type": "code",
      "source": [
        "import gensim\n",
        "NUM_TOPICS = 10 # 10개의 토픽, k=10\n",
        "ldamodel2 = gensim.models.ldamodel.LdaModel(corpus2, num_topics = NUM_TOPICS, id2word=dictionary2, passes=15)\n",
        "topics2 = ldamodel2.print_topics(num_words=4)\n",
        "for topic in topics2:\n",
        "    print(topic)"
      ],
      "metadata": {
        "colab": {
          "base_uri": "https://localhost:8080/"
        },
        "id": "dTWngqiWsvhs",
        "outputId": "3d4f4561-a328-44bb-b73d-e161b07d42cd"
      },
      "execution_count": null,
      "outputs": [
        {
          "output_type": "stream",
          "name": "stderr",
          "text": [
            "/usr/local/lib/python3.10/dist-packages/ipykernel/ipkernel.py:283: DeprecationWarning: `should_run_async` will not call `transform_cell` automatically in the future. Please pass the result to `transformed_cell` argument and any exception that happen during thetransform in `preprocessing_exc_tuple` in IPython 7.17 and above.\n",
            "  and should_run_async(code)\n"
          ]
        },
        {
          "output_type": "stream",
          "name": "stdout",
          "text": [
            "(0, '0.091*\"박스\" + 0.064*\"택배\" + 0.054*\"제주도\" + 0.040*\"추가\"')\n",
            "(1, '0.214*\"오늘\" + 0.150*\"주문\" + 0.112*\"발송\" + 0.106*\"내일\"')\n",
            "(2, '0.083*\"송장\" + 0.078*\"주문\" + 0.069*\"주말\" + 0.066*\"번호\"')\n",
            "(3, '0.626*\"배송\" + 0.058*\"묶음\" + 0.057*\"주문\" + 0.037*\"목요일\"')\n",
            "(4, '0.175*\"발송\" + 0.083*\"월요일\" + 0.061*\"출고\" + 0.053*\"당일\"')\n",
            "(5, '0.158*\"출고\" + 0.070*\"상품\" + 0.043*\"현재\" + 0.041*\"확인\"')\n",
            "(6, '0.058*\"방금\" + 0.042*\"주문\" + 0.040*\"냉동\" + 0.039*\"배달\"')\n",
            "(7, '0.168*\"택배\" + 0.055*\"변경\" + 0.052*\"제품\" + 0.052*\"요청\"')\n",
            "(8, '0.178*\"배송\" + 0.129*\"확인\" + 0.073*\"완료\" + 0.060*\"주문\"')\n",
            "(9, '0.132*\"상품\" + 0.123*\"수령\" + 0.118*\"구매\" + 0.105*\"금요일\"')\n"
          ]
        }
      ]
    },
    {
      "cell_type": "code",
      "source": [
        "pyLDAvis.enable_notebook()\n",
        "vis2 = pyLDAvis.gensim_models.prepare(ldamodel2, corpus2, dictionary2) #mds='tsne'\n",
        "pyLDAvis.display(vis2)"
      ],
      "metadata": {
        "colab": {
          "base_uri": "https://localhost:8080/",
          "height": 918
        },
        "id": "FEzxX44Cuv3e",
        "outputId": "3b99acd8-a910-4a06-875e-940e55b7e7b5"
      },
      "execution_count": null,
      "outputs": [
        {
          "output_type": "stream",
          "name": "stderr",
          "text": [
            "/usr/local/lib/python3.10/dist-packages/ipykernel/ipkernel.py:283: DeprecationWarning: `should_run_async` will not call `transform_cell` automatically in the future. Please pass the result to `transformed_cell` argument and any exception that happen during thetransform in `preprocessing_exc_tuple` in IPython 7.17 and above.\n",
            "  and should_run_async(code)\n"
          ]
        },
        {
          "output_type": "execute_result",
          "data": {
            "text/plain": [
              "<IPython.core.display.HTML object>"
            ],
            "text/html": [
              "\n",
              "<link rel=\"stylesheet\" type=\"text/css\" href=\"https://cdn.jsdelivr.net/gh/bmabey/pyLDAvis@3.4.0/pyLDAvis/js/ldavis.v1.0.0.css\">\n",
              "\n",
              "\n",
              "<div id=\"ldavis_el3081392774802705765972149737\" style=\"background-color:white;\"></div>\n",
              "<script type=\"text/javascript\">\n",
              "\n",
              "var ldavis_el3081392774802705765972149737_data = {\"mdsDat\": {\"x\": [0.1295963826722006, -0.17830662873319722, -0.06814558589162895, -0.16054159631259007, -0.14535462475878747, -0.07464011217461189, 0.32885834139780623, -0.13194998791803753, 0.32696997510147713, -0.026486163382630646], \"y\": [-0.029411150545497856, -0.18114004041034043, -0.20350699176016035, 0.32815874289083447, 0.28314825006498484, -0.12314662433899146, 0.039222892507732005, -0.15614889950881525, 0.02807981154024047, 0.014744009560013732], \"topics\": [1, 2, 3, 4, 5, 6, 7, 8, 9, 10], \"cluster\": [1, 1, 1, 1, 1, 1, 1, 1, 1, 1], \"Freq\": [20.162541385336887, 15.493802596277584, 13.577492640762715, 9.790625484271983, 9.499640772095946, 7.603691247446939, 7.3173770602864, 5.87732105719901, 5.802279824877185, 4.875227931445349]}, \"tinfo\": {\"Term\": [\"\\ubc30\\uc1a1\", \"\\uc624\\ub298\", \"\\ucd9c\\uace0\", \"\\ubc1c\\uc1a1\", \"\\ud0dd\\ubc30\", \"\\uc0c1\\ud488\", \"\\ud655\\uc778\", \"\\ub0b4\\uc77c\", \"\\uc218\\ub839\", \"\\uad6c\\ub9e4\", \"\\ud1a0\\uc694\\uc77c\", \"\\uc6d4\\uc694\\uc77c\", \"\\uae08\\uc694\\uc77c\", \"\\uc8fc\\ubb38\", \"\\ub3c4\\ucc29\", \"\\uc644\\ub8cc\", \"\\ubc15\\uc2a4\", \"\\ub2f9\\uc77c\", \"\\ud604\\uc7ac\", \"\\uc1a1\\uc7a5\", \"\\uc9c0\\uae08\", \"\\uc624\\uc804\", \"\\ubb36\\uc74c\", \"\\uc81c\\ud488\", \"\\uc9c0\\uc5f0\", \"\\ud654\\uc694\\uc77c\", \"\\uc5b4\\uc81c\", \"\\uc608\\uc815\", \"\\uc591\\ud574\", \"\\ubb38\\uac74\", \"\\ud604\\uc7ac\", \"\\uc9c0\\uc5f0\", \"\\uc591\\ud574\", \"\\ud574\\ub2f9\", \"\\uc9c4\\ud589\", \"\\ubb3c\\ub7c9\", \"\\ud1b5\\uc6b4\", \"\\uc18c\\uc694\", \"\\uc0c1\\ud0dc\", \"\\uc0ac\\uc740\", \"\\ud30c\\uc190\", \"\\ucd5c\\ub300\\ud55c\", \"\\uc791\\uc5c5\", \"\\uc2dd\\ud488\", \"\\uba3c\\uc800\", \"\\uc804\\ub2ec\", \"\\uc2e0\\uacbd\", \"\\ud589\\uc0ac\", \"\\uc120\\ubcc4\", \"\\ucc28\\uc8fc\", \"\\ubd84\\ud560\", \"\\ucf54\\ub85c\\ub098\", \"\\uc77c\\uc815\", \"\\uacf5\\ud734\\uc77c\", \"\\uc0ac\\uc7a5\", \"\\uc77c\\ubd80\", \"\\uc774\\ub0b4\", \"\\ubc18\\uc1a1\", \"\\uc81c\\uc870\", \"\\uc77c\\uc790\", \"\\ucd9c\\uace0\", \"\\uc815\\uc0c1\", \"\\ubd80\\ubd84\", \"\\uc608\\uc815\", \"\\uae08\\uc77c\", \"\\uc21c\\ucc28\", \"\\uc0c1\\ud488\", \"\\uace0\\uac1d\", \"\\ud655\\uc778\", \"\\uc81c\\ud488\", \"\\ud0dd\\ubc30\", \"\\ucc38\\uace0\", \"\\ubb38\\uac74\", \"\\uc9c0\\uc5ed\", \"\\uc8fc\\ubb38\", \"\\ucc98\\ub9ac\", \"\\uacbd\\uc6b0\", \"\\uc624\\ub298\", \"\\ub0b4\\uc77c\", \"\\ud1a0\\uc694\\uc77c\", \"\\ub3c4\\ucc29\", \"\\ub9c8\\uac10\", \"\\ud558\\ub8e8\", \"\\ucd94\\uc11d\", \"\\ud3ed\\uc8fc\", \"\\ud558\\ub098\\uc694\", \"\\uc5f0\\ud734\", \"\\uba85\\uc808\", \"\\uc0ac\\uc815\", \"\\uc81c\\uc8fc\", \"\\uc774\\ub3d9\", \"\\uae30\\ud55c\", \"\\uc720\\ud1b5\", \"\\uc815\\ub9d0\", \"\\ub3c4\\uc11c\", \"\\uc774\\ud2c0\", \"\\uc608\\uc815\\uc77c\", \"\\uacc4\\uc57d\", \"\\uc218\\ud655\", \"\\uc5c5\\ubb34\", \"\\uc0b0\\uac04\", \"\\ub2e4\\uc74c\\uc8fc\", \"\\ubaa8\\ub808\", \"\\ud504\\ub85c\", \"\\uc791\\ub144\", \"\\ud3c9\\uc0c1\\uc2dc\", \"\\ubc30\\uc1a1\\ub7c9\", \"\\uc8fc\\ubb38\", \"\\ubc1c\\uc1a1\", \"\\uc9c0\\uae08\", \"\\uc6d4\\uc694\\uc77c\", \"\\ub2f9\\uc77c\", \"\\uc624\\uc804\", \"\\ud654\\uc694\\uc77c\", \"\\uc774\\ud6c4\", \"\\uc218\\uc694\\uc77c\", \"\\uc624\\ud6c4\", \"\\ub204\\ub77d\", \"\\uc774\\uc804\", \"\\uc775\\uc77c\", \"\\ud734\\ubb34\", \"\\ud3c9\\uc77c\", \"\\uc99d\\uac00\", \"\\ubd84\\ub9ac\", \"\\ud55c\\ud574\", \"\\ucea0\\ud551\", \"\\uc804\\uc0b0\", \"\\uc694\\uc998\", \"\\uc870\\uc5c5\\ub7c9\", \"\\uadfc\\ubb34\", \"\\ud558\\uac9f\\uc2b5\\ub2c8\", \"\\uad70\\ub370\", \"\\ubc00\\ub9ac\", \"\\uc5bc\\uc74c\", \"\\ucd5c\\uc120\", \"\\ud76c\\ub9dd\", \"\\uc804\\ub0a0\", \"\\ud56d\\uc0c1\", \"\\uc131\\ud568\", \"\\ud558\\ub2c8\", \"\\ubb38\\uac74\", \"\\ubc1c\\uc1a1\", \"\\ucd9c\\uace0\", \"\\uacb0\\uc81c\", \"\\uc608\\uc815\", \"\\uc218\\ub839\", \"\\uae08\\uc77c\", \"\\uc8fc\\ubb38\", \"\\ucc98\\ub9ac\", \"\\uad00\\ub828\", \"\\uc21c\\ucc28\", \"\\uace0\\uac1d\", \"\\uc81c\\ud488\", \"\\ucc38\\uace0\", \"\\uc5c5\\uccb4\", \"\\ubb36\\uc74c\", \"\\ubaa9\\uc694\\uc77c\", \"\\uc911\\uc774\", \"\\uc9c0\\uc815\", \"\\ud574\\uc678\", \"\\uc77c\\uc694\\uc77c\", \"\\uc18c\\uc2a4\", \"\\uad6c\\uc785\", \"\\uc815\\uc77c\", \"\\ud655\\ub2f5\", \"\\ub3c4\\ub300\\uccb4\", \"\\ud130\\ubbf8\\ub110\", \"\\ubb34\\uac8c\", \"\\uc9ec\\ubf55\", \"\\uc6b0\\uc720\", \"\\ud37c\\uc13c\\ud2b8\", \"\\ub300\\ubd80\\ubd84\", \"\\uc774\\ubca4\\ud2b8\", \"\\uc815\\uae30\", \"\\uc7ac\\ud574\", \"\\uc804\\uccb4\", \"\\uac00\\uc7a5\", \"\\uc624\\ub298\\uc774\", \"\\ub79c\\ub364\", \"\\ub300\\uc2e0\", \"\\uac08\\ube44\", \"\\ucd08\\ucf54\", \"\\ub538\\uae30\", \"\\ube44\\ud0c0\\ubbfc\", \"\\uace0\\ucd94\", \"\\ubc30\\uc1a1\", \"\\ub0a0\\uc528\", \"\\ucd94\\uc801\", \"\\uc8fc\\ubb38\", \"\\ubb38\\uc758\", \"\\uae30\\uac04\", \"\\uc5c5\\uccb4\", \"\\uc644\\ub8cc\", \"\\uc5b4\\uc81c\", \"\\uc870\\ud68c\", \"\\ucd9c\\ubc1c\", \"\\ucde8\\uc18c\", \"\\uc800\\ub141\", \"\\ub2f5\\ubcc0\", \"\\uacc4\\uc18d\", \"\\ud658\\ubd88\", \"\\uc8fc\\ucc28\", \"\\ub178\\ub825\", \"\\uc77c\\uc8fc\\uc77c\", \"\\ubcf4\\ud1b5\", \"\\ud68c\\uc218\", \"\\uc77c\\uc774\", \"\\uc0dd\\uc218\", \"\\uc0c8\\ubcbd\", \"\\ub300\\uccb4\", \"\\ub300\\ub9ac\\uc810\", \"\\ubd88\\uac00\", \"\\uc77c\\ucc0d\", \"\\ud488\\uc808\", \"\\uc774\\uc81c\", \"\\uc0ac\\uc774\", \"\\ucc38\\uce58\", \"\\ub9ac\\ud130\", \"\\uc11c\\uc6b8\", \"\\uc218\\ucde8\", \"\\ube44\\uc911\", \"\\uc624\\uc9c0\", \"\\ud655\\uc778\", \"\\ucc98\\ub9ac\", \"\\uacb0\\uc81c\", \"\\ubc30\\uc1a1\", \"\\ubb38\\uc758\", \"\\uc8fc\\ubb38\", \"\\uc0c1\\ud488\", \"\\uad6c\\ub9e4\", \"\\uae08\\uc694\\uc77c\", \"\\uc608\\uc0c1\", \"\\uc138\\ud2b8\", \"\\uac10\\uc0ac\", \"\\ub098\\uba38\\uc9c0\", \"\\uace0\\uad6c\\ub9c8\", \"\\ud3ec\\ud568\", \"\\uc9c4\\uc2ec\", \"\\ubd80\\uacfc\", \"\\uac00\\uc2b4\", \"\\ubd09\\uc9c0\", \"\\uc0b0\\uc9c0\", \"\\uc9c0\\ub09c\\ubc88\", \"\\ub0c9\\ub3d9\\uc2dd\\ud488\", \"\\uc5ec\\ub7ec\", \"\\ud1b5\\uad00\", \"\\uc218\\uc815\", \"\\ub808\\ubaac\", \"\\uc0c1\\uc628\", \"\\uc694\\uc77c\", \"\\uc548\\uc2ec\", \"\\uace8\\ub4dc\", \"\\ub2f9\\uc0ac\", \"\\uacf5\\uc7a5\", \"\\uc801\\uc6a9\", \"\\uc77c\\ucd9c\", \"\\ud604\\uc9c0\", \"\\uc9c0\\ub09c\\uc8fc\", \"\\uac00\\ub9ac\\ube44\", \"\\uc218\\ub839\", \"\\uc0c1\\ud488\", \"\\ubc1c\\uc1a1\", \"\\uc8fc\\ubb38\", \"\\ud2b9\\uc131\", \"\\ubb38\\uc758\", \"\\ucc38\\uace0\", \"\\uacbd\\uc6b0\", \"\\uace0\\uac1d\", \"\\ubcc0\\uacbd\", \"\\uc694\\uccad\", \"\\ud3ec\\uc7a5\", \"\\uc6b0\\uccb4\\uad6d\", \"\\ub0a0\\uc9dc\", \"\\uc774\\uc6a9\", \"\\uc8fc\\uc18c\", \"\\ubc30\\uc1a1\\uc9c0\", \"\\uc0ac\\ud56d\", \"\\uae40\\uce58\", \"\\uc0dd\\uc0b0\", \"\\uc8fc\\uc18c\\uc9c0\", \"\\uad50\\ud658\", \"\\uba54\\ubaa8\", \"\\ud68c\\uc0ac\", \"\\uc798\\ubabb\", \"\\ub0b4\\uc6a9\", \"\\uc635\\uc158\", \"\\ubbf8\\ub9ac\", \"\\ud55c\\uc9c4\\ud0dd\\ubc30\", \"\\uc120\\ud0dd\", \"\\uc0ac\\ub78c\", \"\\uc218\\ub3c4\", \"\\uc608\\uc57d\", \"\\uacb0\\uacfc\", \"\\uc911\\uc778\", \"\\uc774\\uba74\", \"\\uc77c\\ubc18\", \"\\uc785\\ub825\", \"\\ub2ec\\ub77c\", \"\\ud0dd\\ubc30\", \"\\uc81c\\ud488\", \"\\uacbd\\uc6b0\", \"\\ubb38\\uc758\", \"\\ucc38\\uace0\", \"\\uc1a1\\uc7a5\", \"\\uc8fc\\ub9d0\", \"\\ubc88\\ud638\", \"\\uc900\\ube44\", \"\\ub2e4\\uc2dc\", \"\\ubb38\\uc790\", \"\\uc6b4\\uc1a1\", \"\\ub4f1\\ub85d\", \"\\ubd80\\ud0c1\", \"\\uc5f0\\ub77d\", \"\\uc0d0\\ub7ec\\ub4dc\", \"\\uce58\\uc988\", \"\\uc8fc\\uc2ec\", \"\\uad6d\\ub0b4\", \"\\uc870\\uc5c5\", \"\\uc804\\ud654\", \"\\ud68c\\uc6d0\", \"\\ub9c8\\uc9c0\\ub9c9\", \"\\uc0ac\\uba74\", \"\\uc11c\\ube44\\uc2a4\", \"\\uc77c\\uad04\", \"\\ubb54\\uac00\", \"\\uc0dd\\ubb3c\", \"\\uc800\\ubc88\", \"\\uad6c\\uc131\", \"\\uc774\\uc138\", \"\\ucee4\\ud53c\", \"\\uc9dc\\uc7a5\", \"\\uc548\\uc804\", \"\\uae09\\uc99d\", \"\\uc9c0\\uae08\", \"\\uc8fc\\ubb38\", \"\\ubc1c\\uc1a1\", \"\\uc785\\uae08\", \"\\ubc15\\uc2a4\", \"\\uc81c\\uc8fc\\ub3c4\", \"\\ucd94\\uac00\", \"\\ubc30\\uc1a1\\ube44\", \"\\uc0ac\\uac00\", \"\\ud310\\ub9e4\", \"\\uc218\\ub7c9\", \"\\ubb3c\\ub958\", \"\\ub9d0\\uc500\", \"\\ub86f\\ub370\", \"\\uc13c\\ud130\", \"\\uc0ac\\uacfc\", \"\\uc120\\ubb3c\", \"\\uc811\\uc218\", \"\\uc2dc\\uc791\", \"\\uc2e0\\uccad\", \"\\ubc18\\ud488\", \"\\ubcf4\\uc2dc\", \"\\ucd5c\\uadfc\", \"\\ud64d\\uac8c\", \"\\uc7ac\\uace0\", \"\\uc99d\\uc815\", \"\\uac71\\uc815\", \"\\ubcc4\\ub3c4\", \"\\uc0ac\\uc6a9\", \"\\ucc29\\uc624\", \"\\uc5b4\\ub518\\uac00\", \"\\uc0c8\\uc6b0\", \"\\uae30\\ubcf8\", \"\\ud30c\\uc5c5\", \"\\uc9c0\\uc5ed\", \"\\ud0dd\\ubc30\", \"\\ubd88\\ud3b8\", \"\\ubc29\\uae08\", \"\\ub0c9\\ub3d9\", \"\\ubc30\\ub2ec\", \"\\ubc29\\ubb38\", \"\\ubcf4\\uad00\", \"\\ubb3c\\uac74\", \"\\uc544\\uc774\\uc2a4\\ud329\", \"\\uc9c1\\uc811\", \"\\ub0c9\\uc7a5\", \"\\ubb38\\uc81c\", \"\\uba54\\uc138\\uc9c0\", \"\\uc544\\uc774\\uc2a4\\ubc15\\uc2a4\", \"\\uc2e4\\uc218\", \"\\ubb34\\ub8cc\", \"\\uacf5\\uc9c0\", \"\\ubc29\\ubc95\", \"\\uacb0\\uc7ac\", \"\\uacfc\\uc815\", \"\\ucd5c\\ub300\", \"\\ud569\\ud3ec\", \"\\uac00\\ub2a5\", \"\\uae30\\uc785\", \"\\uc6d0\\ub798\", \"\\uc9c0\\uc815\\uc740\", \"\\ud55c\\ubc88\", \"\\ub3d9\\ubd09\", \"\\ub3c4\\uc6c0\", \"\\ub4dc\\ub77c\\uc774\\uc544\\uc774\\uc2a4\", \"\\uc0dd\\uac01\", \"\\ubcf4\\uace0\", \"\\uc8fc\\ubb38\", \"\\uae30\\uc0ac\", \"\\uacb0\\uc81c\"], \"Freq\": [70115.0, 29765.0, 36015.0, 42652.0, 21058.0, 24766.0, 18387.0, 14768.0, 11240.0, 8041.0, 10833.0, 10050.0, 7170.0, 50825.0, 9471.0, 6227.0, 4717.0, 6489.0, 7734.0, 4350.0, 6094.0, 5999.0, 5077.0, 8051.0, 7167.0, 5573.0, 4713.0, 10057.0, 6606.0, 7660.0, 7733.480418625035, 7166.701242379329, 6605.816618042621, 4098.331801254135, 4063.0839967063657, 2876.96246719482, 2863.9230854904763, 2460.460700711275, 2235.641615640313, 1771.7353308147287, 1629.5133598092996, 1402.682098245017, 1337.2485323850904, 1217.5434298648129, 1124.1687285346034, 1069.9909458837699, 850.5895633340775, 806.7295188384012, 755.3647772720652, 738.9311469520487, 732.2268936736001, 727.71778027868, 709.5574434835512, 708.1261378822334, 688.4745316332002, 669.6040545038607, 659.6465202631882, 613.0405100381183, 585.6566386378724, 548.9340599556471, 28641.993315953605, 1903.5161012485173, 1635.5038538824342, 7304.474190082115, 5333.3380515488325, 2526.9824526960347, 12670.488459540635, 2979.59971119425, 7388.043518077584, 3744.197154408984, 6718.944885211208, 1565.0037001580677, 2304.3158384934977, 1515.0208623944975, 3584.3938659849805, 1793.569747537601, 1240.8969308532103, 29764.77349817362, 14767.668674374521, 10833.104126311764, 9470.366393937988, 3071.25425369115, 2680.888921462676, 2665.845399614609, 2621.3791465582567, 2430.5419326133633, 1518.3653497080618, 1423.5743214332474, 915.1551888489176, 880.6831782900921, 845.1581755265212, 785.2834555900803, 780.5410456666079, 602.7194931366652, 514.1563944354275, 509.34096963668446, 456.89756660030343, 455.1181442923888, 421.4879066445672, 407.8878675387873, 399.4633155152487, 384.93568353435137, 360.0087349449812, 346.3534011373799, 334.21582605457064, 322.49493373648164, 219.57652204031535, 20849.031459744478, 15579.90761804483, 2908.036452281337, 10049.286689159213, 6489.034461080898, 5998.779971371577, 5572.388651088653, 4283.981919774597, 4050.1553429540772, 3435.9031681096217, 3341.9176543226913, 3078.3618195683434, 1659.9605681775067, 1114.504185342296, 1026.2472148095828, 866.8538991626003, 809.9338397739681, 521.9402820591107, 376.7823510601701, 364.3014319621127, 355.40867332165584, 343.22021709917607, 336.06971089956954, 296.91051588014153, 294.71045603517996, 289.25453998045225, 280.98601006648505, 275.8019844575637, 257.96140900716574, 254.56916835595447, 246.37612735784222, 227.66453903373957, 224.17022966071545, 5355.831580603957, 21262.30687804315, 7372.612498833623, 1828.6449711774735, 2752.7121576946474, 2863.8254944167734, 2202.225220710076, 6488.075547825443, 1913.1403040968564, 593.1370409754082, 697.0729799884883, 765.3534978063266, 911.4300473015832, 550.487787084975, 383.01899932572184, 5076.500425272133, 3249.556468638111, 1574.1711717814756, 1287.2905286289617, 1157.9164517402148, 1068.1519567445434, 667.6814367367665, 641.7512959879866, 348.6641825859744, 347.982157828161, 345.5217767062151, 283.3188833838276, 271.10659849995847, 269.86933799572336, 256.8123992256498, 228.4350773067949, 215.60537795584898, 210.97164314838247, 205.3331590632121, 203.24609546554117, 190.65791845378135, 173.5779163338484, 165.55740285343342, 157.34078018094235, 153.73014381028204, 137.48362874420454, 135.15730069385174, 128.51971715557858, 125.65500066579722, 125.22189512422455, 54951.63862722785, 585.6169681547618, 225.4463303094958, 5031.790921416893, 933.7314115687004, 303.2386732918662, 167.0067412221704, 6226.874126192974, 4712.406847207662, 3409.1147820741917, 2143.2627381175726, 2062.137960413016, 1887.2266854301292, 1239.9435772173408, 1030.1225630613658, 1007.5261598087407, 891.4492944514992, 841.3580218643697, 777.4890600313995, 682.6034848902799, 678.0566539367364, 666.8608737737179, 626.8521080226831, 617.7032503444365, 584.2190450570952, 580.415810580963, 537.7647058941986, 525.1484276665087, 477.49726812939446, 468.12631884607237, 357.8492125868443, 347.8137331822117, 340.4074678568044, 328.5027075297527, 310.4803762470408, 297.32750550985537, 296.6247903830659, 10998.333469765777, 3842.0361516061676, 2521.9016044506566, 15162.777002793466, 1884.6756257079123, 5110.730301951895, 3123.5486745992707, 8040.37744042948, 7169.807149851839, 1652.4785836126987, 1304.9524173386324, 990.5654314248113, 897.686681400601, 642.0809584788326, 456.8552973686523, 418.1520095941425, 416.0339531673666, 400.91267749871565, 398.26538467549875, 393.30129009929817, 386.8479385857543, 358.37860688678273, 356.7510343742856, 336.80702658279233, 327.55045190625856, 304.8640633009195, 262.102349627309, 261.7785553414625, 244.37521550518954, 243.86054699516333, 240.7606181978629, 235.45871686990705, 234.20786228290052, 229.3464728928399, 219.06398893423366, 208.50720659144505, 202.42625659260221, 8375.584316403614, 8971.979748319412, 3688.917649161136, 3801.639701304521, 397.39930954589863, 568.7507251075217, 450.3715088113791, 448.2193971730061, 364.32293931030443, 3602.6050653077814, 3384.3395492339173, 3258.9466803677315, 2158.4177716817376, 2121.205867068973, 1999.8003545013678, 1634.84393783467, 1098.056862623382, 1070.2725505018468, 797.4150601910668, 752.5637464514808, 748.6460897811855, 736.6440092671039, 724.4342959427322, 698.3217975169955, 660.6839371566135, 656.4878484918192, 650.2763349050183, 624.4652369753014, 617.3439630343817, 592.4994358481835, 575.3820379169554, 570.2905442114927, 563.3547897895053, 494.55948516536756, 484.12091208858345, 481.5897954382836, 464.59282942393895, 450.48366378430836, 435.83834245891256, 11033.0457879105, 3395.0340744952014, 1165.3349022454647, 794.0004503559403, 668.1821144336585, 4349.978205327736, 3636.8920551467213, 3481.094879742115, 2744.0117928750956, 2278.578927909366, 1654.6577890386504, 1503.5789657779253, 852.5840453597897, 713.3047332436455, 678.20976286456, 642.478914485093, 637.2996979849171, 554.4181524245312, 472.45705989556177, 470.5777852681994, 443.68902655561266, 437.9018007822323, 435.5106836162912, 424.09740947934944, 417.9248298622193, 382.272435874929, 376.5714903070788, 372.52166869515776, 364.6091826188816, 355.28118108650915, 354.3938957656063, 342.1717416352779, 332.15761989014794, 312.30345781542474, 297.0274701494674, 3186.1738781305635, 4110.256516874, 2120.838988206681, 467.74940384767496, 4716.09683024378, 2793.776043682259, 2102.5421082078756, 2086.040180085088, 1526.1807352472226, 1249.208262199408, 1195.2326001535453, 1148.3721231077193, 1013.6900779921111, 998.7658791249754, 972.713292989313, 950.1307230766758, 913.2464821242897, 854.3865051078113, 827.8709465963194, 673.0022790045703, 661.2615359319803, 634.1877755310702, 633.1229100037385, 608.0024202719355, 556.7664231744844, 534.882380634921, 529.4673766760661, 490.8742842435701, 461.0802826149753, 446.21958623630087, 442.56627984063084, 413.98047239181375, 395.7875422679386, 367.9018606530031, 1995.5930674809404, 3306.1982093136603, 483.852536543489, 2556.069209051394, 1738.5461842625646, 1711.901816385323, 1415.263021522705, 1359.248995755886, 1273.1582067460902, 1270.255468861024, 1256.6134717609543, 1203.7871586509582, 1188.4017769003642, 1101.601277797753, 1032.721874267434, 767.3210680387903, 722.7942686899657, 625.0525209704334, 556.1348196308853, 513.9171217745475, 503.8537924380555, 422.2317594892267, 418.1799652301232, 401.8709998612092, 393.69663568917684, 381.52529888294185, 379.50393969784176, 371.4092642723246, 370.56329374879766, 366.0410998307446, 364.8720602214986, 348.2599683030211, 344.40007008059746, 1849.6179708380198, 566.3409212466294, 388.5363620122546], \"Total\": [70115.0, 29765.0, 36015.0, 42652.0, 21058.0, 24766.0, 18387.0, 14768.0, 11240.0, 8041.0, 10833.0, 10050.0, 7170.0, 50825.0, 9471.0, 6227.0, 4717.0, 6489.0, 7734.0, 4350.0, 6094.0, 5999.0, 5077.0, 8051.0, 7167.0, 5573.0, 4713.0, 10057.0, 6606.0, 7660.0, 7734.3644164835, 7167.585211375009, 6606.700620938699, 4099.215806491676, 4063.9679872255133, 2877.846423510267, 2864.8072420032386, 2461.3447315069134, 2236.5257610712283, 1772.619458551076, 1630.397405366494, 1403.5660972954936, 1338.1325317551418, 1218.4275626757824, 1125.0528640576642, 1070.8749749215533, 851.4736917861761, 807.6135327345075, 756.2489002690087, 739.8153194735357, 733.1112541560883, 728.6017240118922, 710.4414567880099, 709.0101540132023, 689.3589475263036, 670.488051116852, 660.530499505872, 613.9245036362103, 586.5407312022506, 549.8180883773313, 36015.38204927471, 2050.5005994628254, 1776.1547325453876, 10057.962584737834, 7536.339472113917, 3224.831619712009, 24766.692150838095, 4490.3475900509575, 18387.152161865695, 8051.367619447293, 21058.913842170678, 3282.659157096837, 7660.923626279234, 3511.408860954194, 50825.695375285155, 7549.413631237545, 3596.7359959860205, 29765.658394024336, 14768.55356807687, 10833.989046234163, 9471.251297986513, 3072.1392772010067, 2681.773868317641, 2666.7302910604694, 2622.2640813893754, 2431.426820823067, 1519.2502474834891, 1424.4592338432763, 916.0401512953727, 881.568216345128, 846.0432149450453, 786.1683642799071, 781.4259625627726, 603.6044749224568, 515.0414370297763, 510.22593267644675, 457.7824802223737, 456.00354746554194, 422.3728093671864, 408.7728549399563, 400.34829334706143, 385.8206819104856, 360.89358644819987, 347.2390700500334, 335.10176585214697, 323.38025256249284, 220.46148407916823, 50825.695375285155, 42652.536133110196, 6094.982971485095, 10050.17774423763, 6489.925463947046, 5999.6710066184605, 5573.2796928582065, 4284.872965809314, 4051.046403369881, 3436.7941782406488, 3342.8088036896274, 3079.252815979827, 1660.8515821670208, 1115.3952478833282, 1027.138225420997, 867.744971398063, 810.8251000374577, 522.8313319937951, 377.67360120098346, 365.19258055197577, 356.2998293753907, 344.11161631665584, 336.9607849212504, 297.80173399816806, 295.60177280830726, 290.14711973655125, 281.877183108034, 276.69308791729236, 258.85253385192567, 255.46021065883286, 247.26722400367206, 228.55568713561377, 225.06142571253076, 7660.923626279234, 42652.536133110196, 36015.38204927471, 4739.774255301669, 10057.962584737834, 11240.200952668727, 7536.339472113917, 50825.695375285155, 7549.413631237545, 1045.4652154218084, 3224.831619712009, 4490.3475900509575, 8051.367619447293, 3282.659157096837, 1141.9719133447247, 5077.408100081037, 3250.4640425584994, 1575.0786557054507, 1288.1980461548894, 1158.823993115281, 1069.0594989181527, 668.5889859296972, 642.6588311131449, 349.57169758750854, 348.88975181315925, 346.4292082369147, 284.22641617215896, 272.01435784064654, 270.77832493269045, 257.71989888066423, 229.34260220114726, 216.51302441579006, 211.8792799292563, 206.24102308833514, 204.15371910714512, 191.56544275848162, 174.48546793060905, 166.46493949299511, 158.24853979760326, 154.63784806532095, 138.3911678179753, 136.06483899795037, 129.42717159230182, 126.56264605031846, 126.12949231135129, 70115.21434977399, 804.6435760171428, 310.06454754271556, 50825.695375285155, 4805.07967117861, 675.5877166156623, 1141.9719133447247, 6227.764070759331, 4713.296806883639, 3410.0047713569734, 2144.152680282479, 2063.0279268499517, 1888.1166948207444, 1240.8335457138858, 1031.0126211854117, 1008.4161639717714, 892.3393909585994, 842.2479847957815, 778.379043073151, 683.4934887569684, 678.9466828032218, 667.7508640207839, 627.7420439430962, 618.5932208399831, 585.108967540272, 581.3057480629403, 538.6548152500629, 526.0385064946444, 478.38726569586214, 469.0164886335018, 358.73918707202495, 348.7037247344288, 341.2974346494116, 329.39268135654754, 311.3703892750533, 298.21772641746645, 297.514738936756, 18387.152161865695, 7549.413631237545, 4739.774255301669, 70115.21434977399, 4805.07967117861, 50825.695375285155, 24766.692150838095, 8041.276322348049, 7170.706029021605, 1653.3776591430828, 1305.851284153158, 991.4642854302543, 898.585568238018, 642.9798208010455, 457.7541993040336, 419.05089893083544, 416.9333212664835, 401.8115640883035, 399.16429759842345, 394.2001471050671, 387.7470250040996, 359.2775375789587, 357.64997653885996, 337.70589374113894, 328.44942092194066, 305.76292694731217, 263.0014063989988, 262.6774329836845, 245.2741427866865, 244.75939063245468, 241.65952783492685, 236.35766438331132, 235.1068572436469, 230.24534017555536, 219.96282934792657, 209.40609158976056, 203.32516926906897, 11240.200952668727, 24766.692150838095, 42652.536133110196, 50825.695375285155, 748.0979125214903, 4805.07967117861, 3282.659157096837, 3596.7359959860205, 4490.3475900509575, 3603.5339422742495, 3385.2684648220907, 3259.875601339128, 2159.346633781365, 2122.134786179779, 2000.729226879838, 1635.772823045746, 1098.9857679272418, 1071.2014217227797, 798.3439291966457, 753.4926239970608, 749.5749891088341, 737.5729124881519, 725.363210668643, 699.2506436972968, 661.6128332782604, 657.416744430578, 651.2052308639602, 625.3941771855583, 618.2728542919311, 593.428344914641, 576.3109893060987, 571.2194410469871, 564.2837377431459, 495.488361694144, 485.0499391064591, 482.5188165357883, 465.5218238113152, 451.41260581973245, 436.76728848571855, 21058.913842170678, 8051.367619447293, 3596.7359959860205, 4805.07967117861, 3282.659157096837, 4350.864742356436, 3637.7786627745872, 3481.981406823876, 2744.898309376635, 2279.465491016238, 1655.54432869821, 1504.465490150776, 853.4705535025483, 714.1913473246047, 679.0963066277883, 643.3655218177748, 638.1863008649901, 555.3047524924345, 473.3436569109504, 471.4643013790249, 444.5755826866046, 438.7886331828302, 436.39723492481886, 424.9839964777009, 418.811410950185, 383.15899076053773, 377.45801158598556, 373.40826178118084, 365.49571734710696, 356.1678653554559, 355.2804392711704, 343.05827454152677, 333.0447931874019, 313.1900382665987, 297.914005163817, 6094.982971485095, 50825.695375285155, 42652.536133110196, 822.8329796384758, 4717.00650774639, 2794.685782560988, 2103.451810969775, 2086.9500400959537, 1527.0903966646395, 1250.1179615750718, 1196.1423386759627, 1149.2818042522604, 1014.5997806559899, 999.6756048014556, 973.6229751710123, 951.0403943170356, 914.1561715779224, 855.2961759508544, 828.7806102209059, 673.9119658444756, 662.1712005157052, 635.0974836616533, 634.0326241016991, 608.9121213804953, 557.6760744728562, 535.7920829886128, 530.3771216262719, 491.7839900983461, 461.98997117118375, 447.12925826396423, 443.47606104820045, 414.89035305274376, 396.69731318007496, 368.81152380211955, 3511.408860954194, 21058.913842170678, 615.1000658278655, 2556.9770702955834, 1739.4540437635933, 1712.8096647147752, 1416.170936865782, 1360.1568375180404, 1274.0660533098996, 1271.1633281378067, 1257.5213841478787, 1204.69501786083, 1189.3096413316912, 1102.5092170615135, 1033.6297563904127, 768.2289470085924, 723.7023470656494, 625.960401321805, 557.0427720534159, 514.8249834877201, 504.7616555116109, 423.13967089041796, 419.08798655668494, 402.7789515592943, 394.6048524441423, 382.4331662022214, 380.412149717503, 372.3171489863769, 371.471180977154, 366.9489830969348, 365.77991693757826, 349.16782119158256, 345.3079156424249, 50825.695375285155, 1508.1886477471512, 4739.774255301669], \"Category\": [\"Default\", \"Default\", \"Default\", \"Default\", \"Default\", \"Default\", \"Default\", \"Default\", \"Default\", \"Default\", \"Default\", \"Default\", \"Default\", \"Default\", \"Default\", \"Default\", \"Default\", \"Default\", \"Default\", \"Default\", \"Default\", \"Default\", \"Default\", \"Default\", \"Default\", \"Default\", \"Default\", \"Default\", \"Default\", \"Default\", \"Topic1\", \"Topic1\", \"Topic1\", \"Topic1\", \"Topic1\", \"Topic1\", \"Topic1\", \"Topic1\", \"Topic1\", \"Topic1\", \"Topic1\", \"Topic1\", \"Topic1\", \"Topic1\", \"Topic1\", \"Topic1\", \"Topic1\", \"Topic1\", \"Topic1\", \"Topic1\", \"Topic1\", \"Topic1\", \"Topic1\", \"Topic1\", \"Topic1\", \"Topic1\", \"Topic1\", \"Topic1\", \"Topic1\", \"Topic1\", \"Topic1\", \"Topic1\", \"Topic1\", \"Topic1\", \"Topic1\", \"Topic1\", \"Topic1\", \"Topic1\", \"Topic1\", \"Topic1\", \"Topic1\", \"Topic1\", \"Topic1\", \"Topic1\", \"Topic1\", \"Topic1\", \"Topic1\", \"Topic2\", \"Topic2\", \"Topic2\", \"Topic2\", \"Topic2\", \"Topic2\", \"Topic2\", \"Topic2\", \"Topic2\", \"Topic2\", \"Topic2\", \"Topic2\", \"Topic2\", \"Topic2\", \"Topic2\", \"Topic2\", \"Topic2\", \"Topic2\", \"Topic2\", \"Topic2\", \"Topic2\", \"Topic2\", \"Topic2\", \"Topic2\", \"Topic2\", \"Topic2\", \"Topic2\", \"Topic2\", \"Topic2\", \"Topic2\", \"Topic2\", \"Topic2\", \"Topic2\", \"Topic3\", \"Topic3\", \"Topic3\", \"Topic3\", \"Topic3\", \"Topic3\", \"Topic3\", \"Topic3\", \"Topic3\", \"Topic3\", \"Topic3\", \"Topic3\", \"Topic3\", \"Topic3\", \"Topic3\", \"Topic3\", \"Topic3\", \"Topic3\", \"Topic3\", \"Topic3\", \"Topic3\", \"Topic3\", \"Topic3\", \"Topic3\", \"Topic3\", \"Topic3\", \"Topic3\", \"Topic3\", \"Topic3\", \"Topic3\", \"Topic3\", \"Topic3\", \"Topic3\", \"Topic3\", \"Topic3\", \"Topic3\", \"Topic3\", \"Topic3\", \"Topic3\", \"Topic3\", \"Topic3\", \"Topic3\", \"Topic3\", \"Topic3\", \"Topic3\", \"Topic4\", \"Topic4\", \"Topic4\", \"Topic4\", \"Topic4\", \"Topic4\", \"Topic4\", \"Topic4\", \"Topic4\", \"Topic4\", \"Topic4\", \"Topic4\", \"Topic4\", \"Topic4\", \"Topic4\", \"Topic4\", \"Topic4\", \"Topic4\", \"Topic4\", \"Topic4\", \"Topic4\", \"Topic4\", \"Topic4\", \"Topic4\", \"Topic4\", \"Topic4\", \"Topic4\", \"Topic4\", \"Topic4\", \"Topic4\", \"Topic4\", \"Topic4\", \"Topic4\", \"Topic4\", \"Topic4\", \"Topic4\", \"Topic4\", \"Topic5\", \"Topic5\", \"Topic5\", \"Topic5\", \"Topic5\", \"Topic5\", \"Topic5\", \"Topic5\", \"Topic5\", \"Topic5\", \"Topic5\", \"Topic5\", \"Topic5\", \"Topic5\", \"Topic5\", \"Topic5\", \"Topic5\", \"Topic5\", \"Topic5\", \"Topic5\", \"Topic5\", \"Topic5\", \"Topic5\", \"Topic5\", \"Topic5\", \"Topic5\", \"Topic5\", \"Topic5\", \"Topic5\", \"Topic5\", \"Topic5\", \"Topic5\", \"Topic5\", \"Topic5\", \"Topic5\", \"Topic5\", \"Topic5\", \"Topic6\", \"Topic6\", \"Topic6\", \"Topic6\", \"Topic6\", \"Topic6\", \"Topic6\", \"Topic6\", \"Topic6\", \"Topic6\", \"Topic6\", \"Topic6\", \"Topic6\", \"Topic6\", \"Topic6\", \"Topic6\", \"Topic6\", \"Topic6\", \"Topic6\", \"Topic6\", \"Topic6\", \"Topic6\", \"Topic6\", \"Topic6\", \"Topic6\", \"Topic6\", \"Topic6\", \"Topic6\", \"Topic6\", \"Topic6\", \"Topic6\", \"Topic6\", \"Topic6\", \"Topic6\", \"Topic6\", \"Topic6\", \"Topic6\", \"Topic6\", \"Topic6\", \"Topic7\", \"Topic7\", \"Topic7\", \"Topic7\", \"Topic7\", \"Topic7\", \"Topic7\", \"Topic7\", \"Topic7\", \"Topic7\", \"Topic7\", \"Topic7\", \"Topic7\", \"Topic7\", \"Topic7\", \"Topic7\", \"Topic7\", \"Topic7\", \"Topic7\", \"Topic7\", \"Topic7\", \"Topic7\", \"Topic7\", \"Topic7\", \"Topic7\", \"Topic7\", \"Topic7\", \"Topic7\", \"Topic7\", \"Topic7\", \"Topic7\", \"Topic7\", \"Topic7\", \"Topic7\", \"Topic7\", \"Topic8\", \"Topic8\", \"Topic8\", \"Topic8\", \"Topic8\", \"Topic8\", \"Topic8\", \"Topic8\", \"Topic8\", \"Topic8\", \"Topic8\", \"Topic8\", \"Topic8\", \"Topic8\", \"Topic8\", \"Topic8\", \"Topic8\", \"Topic8\", \"Topic8\", \"Topic8\", \"Topic8\", \"Topic8\", \"Topic8\", \"Topic8\", \"Topic8\", \"Topic8\", \"Topic8\", \"Topic8\", \"Topic8\", \"Topic8\", \"Topic8\", \"Topic8\", \"Topic8\", \"Topic8\", \"Topic9\", \"Topic9\", \"Topic9\", \"Topic9\", \"Topic9\", \"Topic9\", \"Topic9\", \"Topic9\", \"Topic9\", \"Topic9\", \"Topic9\", \"Topic9\", \"Topic9\", \"Topic9\", \"Topic9\", \"Topic9\", \"Topic9\", \"Topic9\", \"Topic9\", \"Topic9\", \"Topic9\", \"Topic9\", \"Topic9\", \"Topic9\", \"Topic9\", \"Topic9\", \"Topic9\", \"Topic9\", \"Topic9\", \"Topic9\", \"Topic9\", \"Topic9\", \"Topic9\", \"Topic10\", \"Topic10\", \"Topic10\", \"Topic10\", \"Topic10\", \"Topic10\", \"Topic10\", \"Topic10\", \"Topic10\", \"Topic10\", \"Topic10\", \"Topic10\", \"Topic10\", \"Topic10\", \"Topic10\", \"Topic10\", \"Topic10\", \"Topic10\", \"Topic10\", \"Topic10\", \"Topic10\", \"Topic10\", \"Topic10\", \"Topic10\", \"Topic10\", \"Topic10\", \"Topic10\", \"Topic10\", \"Topic10\", \"Topic10\", \"Topic10\", \"Topic10\", \"Topic10\"], \"logprob\": [30.0, 29.0, 28.0, 27.0, 26.0, 25.0, 24.0, 23.0, 22.0, 21.0, 20.0, 19.0, 18.0, 17.0, 16.0, 15.0, 14.0, 13.0, 12.0, 11.0, 10.0, 9.0, 8.0, 7.0, 6.0, 5.0, 4.0, 3.0, 2.0, 1.0, -3.1515, -3.2276, -3.3091, -3.7864, -3.7951, -4.1403, -4.1448, -4.2967, -4.3925, -4.6251, -4.7087, -4.8586, -4.9064, -5.0002, -5.08, -5.1294, -5.3588, -5.4118, -5.4776, -5.4996, -5.5087, -5.5149, -5.5401, -5.5421, -5.5703, -5.5981, -5.6131, -5.6863, -5.732, -5.7968, -1.8421, -4.5533, -4.7051, -3.2085, -3.523, -4.27, -2.6577, -4.1052, -3.1972, -3.8768, -3.2921, -4.7491, -4.3622, -4.7816, -3.9204, -4.6128, -4.9812, -1.5403, -2.2412, -2.551, -2.6855, -3.8115, -3.9475, -3.9531, -3.9699, -4.0455, -4.516, -4.5805, -5.0223, -5.0607, -5.1019, -5.1753, -5.1814, -5.4399, -5.5989, -5.6083, -5.7169, -5.7208, -5.7976, -5.8304, -5.8513, -5.8883, -5.9553, -5.9939, -6.0296, -6.0653, -6.4497, -1.8963, -2.1876, -3.8661, -2.4941, -2.9315, -3.01, -3.0838, -3.3467, -3.4028, -3.5673, -3.5951, -3.6772, -4.2948, -4.6932, -4.7757, -4.9445, -5.0124, -5.4518, -5.7777, -5.8114, -5.8361, -5.871, -5.892, -6.0159, -6.0234, -6.042, -6.0711, -6.0897, -6.1565, -6.1698, -6.2025, -6.2815, -6.297, -3.1234, -1.7447, -2.8038, -4.198, -3.789, -3.7494, -4.0121, -2.9316, -4.1529, -5.3239, -5.1625, -5.069, -4.8943, -5.3986, -5.7613, -2.85, -3.2961, -4.0209, -4.2221, -4.328, -4.4087, -4.8786, -4.9182, -5.5283, -5.5302, -5.5373, -5.7358, -5.7799, -5.7844, -5.834, -5.9511, -6.0089, -6.0306, -6.0577, -6.068, -6.1319, -6.2257, -6.2731, -6.324, -6.3472, -6.4589, -6.4759, -6.5263, -6.5488, -6.5523, -0.4682, -5.0097, -5.9643, -2.8588, -4.5432, -5.6678, -6.2643, -2.6156, -2.8942, -3.218, -3.6821, -3.7207, -3.8093, -4.2294, -4.4148, -4.4369, -4.5593, -4.6172, -4.6961, -4.8263, -4.833, -4.8496, -4.9115, -4.9262, -4.9819, -4.9885, -5.0648, -5.0885, -5.1836, -5.2035, -5.4721, -5.5005, -5.5221, -5.5577, -5.6141, -5.6574, -5.6597, -2.0467, -3.0984, -3.5194, -1.7256, -3.8107, -2.8131, -3.3055, -2.1373, -2.2519, -3.7195, -3.9557, -4.2313, -4.3298, -4.6649, -5.0052, -5.0937, -5.0988, -5.1358, -5.1425, -5.155, -5.1715, -5.248, -5.2525, -5.3101, -5.3379, -5.4097, -5.5608, -5.5621, -5.6309, -5.633, -5.6458, -5.668, -5.6734, -5.6943, -5.7402, -5.7896, -5.8192, -2.0965, -2.0277, -2.9165, -2.8864, -5.1446, -4.7861, -5.0195, -5.0243, -5.2315, -2.9018, -2.9643, -3.002, -3.4141, -3.4315, -3.4904, -3.6919, -4.0899, -4.1155, -4.4098, -4.4677, -4.4729, -4.4891, -4.5058, -4.5425, -4.5979, -4.6043, -4.6138, -4.6543, -4.6658, -4.7068, -4.7362, -4.745, -4.7573, -4.8875, -4.9089, -4.9141, -4.95, -4.9809, -5.0139, -1.7825, -2.9611, -4.0304, -4.4141, -4.5866, -2.4941, -2.6732, -2.7169, -2.9549, -3.1407, -3.4607, -3.5564, -4.1238, -4.3021, -4.3526, -4.4067, -4.4148, -4.5541, -4.7141, -4.7181, -4.7769, -4.79, -4.7955, -4.8221, -4.8367, -4.9259, -4.9409, -4.9517, -4.9732, -4.9991, -5.0016, -5.0367, -5.0664, -5.1281, -5.1782, -2.8055, -2.5508, -3.2125, -4.7241, -2.4005, -2.924, -3.2083, -3.2162, -3.5287, -3.7289, -3.7731, -3.8131, -3.9378, -3.9527, -3.9791, -4.0026, -4.0422, -4.1088, -4.1403, -4.3474, -4.365, -4.4068, -4.4085, -4.449, -4.537, -4.5771, -4.5873, -4.663, -4.7256, -4.7584, -4.7666, -4.8334, -4.8783, -4.9514, -3.2605, -2.7556, -4.6774, -2.8389, -3.2243, -3.2397, -3.43, -3.4704, -3.5359, -3.5381, -3.5489, -3.5919, -3.6047, -3.6806, -3.7452, -4.0422, -4.102, -4.2473, -4.3641, -4.443, -4.4628, -4.6396, -4.6492, -4.689, -4.7095, -4.7409, -4.7462, -4.7678, -4.7701, -4.7824, -4.7856, -4.8322, -4.8433, -3.1624, -4.3459, -4.7227], \"loglift\": [30.0, 29.0, 28.0, 27.0, 26.0, 25.0, 24.0, 23.0, 22.0, 21.0, 20.0, 19.0, 18.0, 17.0, 16.0, 15.0, 14.0, 13.0, 12.0, 11.0, 10.0, 9.0, 8.0, 7.0, 6.0, 5.0, 4.0, 3.0, 2.0, 1.0, 1.6012, 1.6012, 1.6012, 1.6011, 1.6011, 1.601, 1.601, 1.601, 1.6009, 1.6008, 1.6008, 1.6007, 1.6007, 1.6006, 1.6006, 1.6005, 1.6003, 1.6002, 1.6002, 1.6001, 1.6001, 1.6001, 1.6001, 1.6001, 1.6001, 1.6, 1.6, 1.5999, 1.5998, 1.5997, 1.3723, 1.527, 1.5188, 1.2815, 1.2556, 1.3575, 0.9311, 1.1912, 0.6896, 0.8357, 0.459, 0.8606, 0.4, 0.7608, -1.0505, 0.1641, 0.5372, 1.8647, 1.8647, 1.8646, 1.8646, 1.8644, 1.8644, 1.8644, 1.8644, 1.8644, 1.8641, 1.8641, 1.8638, 1.8637, 1.8637, 1.8636, 1.8636, 1.8633, 1.863, 1.863, 1.8628, 1.8628, 1.8626, 1.8626, 1.8625, 1.8624, 1.8623, 1.8622, 1.8621, 1.862, 1.8607, 0.9736, 0.8576, 1.1247, 1.9967, 1.9966, 1.9966, 1.9966, 1.9965, 1.9965, 1.9965, 1.9965, 1.9965, 1.9962, 1.996, 1.9959, 1.9957, 1.9957, 1.9951, 1.9944, 1.9943, 1.9943, 1.9942, 1.9941, 1.9938, 1.9937, 1.9937, 1.9936, 1.9935, 1.9933, 1.9933, 1.9931, 1.9929, 1.9928, 1.6388, 1.3006, 0.4106, 1.0443, 0.701, 0.6294, 0.7665, -0.0617, 0.624, 1.43, 0.465, 0.2274, -0.1818, 0.2112, 0.9043, 2.3236, 2.3235, 2.3232, 2.323, 2.323, 2.3229, 2.3224, 2.3223, 2.3211, 2.3211, 2.3211, 2.3205, 2.3204, 2.3204, 2.3202, 2.3198, 2.3195, 2.3195, 2.3193, 2.3193, 2.319, 2.3185, 2.3183, 2.318, 2.3179, 2.3172, 2.3171, 2.3167, 2.3165, 2.3165, 2.0801, 2.006, 2.005, 0.0111, 0.6855, 1.5227, 0.4013, 2.3538, 2.3537, 2.3537, 2.3535, 2.3535, 2.3534, 2.3532, 2.3531, 2.353, 2.3529, 2.3529, 2.3528, 2.3526, 2.3526, 2.3526, 2.3525, 2.3525, 2.3524, 2.3524, 2.3523, 2.3522, 2.3521, 2.352, 2.3514, 2.3514, 2.3513, 2.3512, 2.3511, 2.3509, 2.3509, 1.84, 1.6784, 1.7229, 0.8226, 1.418, 0.0569, 0.2834, 2.5764, 2.5764, 2.576, 2.5758, 2.5756, 2.5755, 2.5751, 2.5746, 2.5744, 2.5744, 2.5743, 2.5743, 2.5743, 2.5742, 2.574, 2.574, 2.5739, 2.5738, 2.5736, 2.5731, 2.5731, 2.5729, 2.5729, 2.5728, 2.5727, 2.5727, 2.5726, 2.5724, 2.5722, 2.5721, 2.2824, 1.5611, 0.1288, -0.0164, 1.9439, 0.4425, 0.5902, 0.494, 0.0649, 2.6147, 2.6146, 2.6146, 2.6145, 2.6145, 2.6145, 2.6144, 2.6141, 2.6141, 2.6138, 2.6137, 2.6137, 2.6137, 2.6136, 2.6136, 2.6135, 2.6135, 2.6135, 2.6134, 2.6134, 2.6134, 2.6133, 2.6133, 2.6133, 2.613, 2.613, 2.613, 2.6129, 2.6129, 2.6128, 1.9685, 1.7514, 1.4879, 0.8146, 1.0231, 2.8339, 2.8338, 2.8338, 2.8337, 2.8337, 2.8335, 2.8335, 2.833, 2.8328, 2.8328, 2.8327, 2.8327, 2.8325, 2.8322, 2.8322, 2.8321, 2.832, 2.832, 2.832, 2.832, 2.8318, 2.8317, 2.8317, 2.8316, 2.8316, 2.8316, 2.8315, 2.8314, 2.8312, 2.8311, 2.1854, 0.3192, -0.1672, 2.2692, 2.8467, 2.8466, 2.8465, 2.8465, 2.8463, 2.8462, 2.8462, 2.8461, 2.846, 2.846, 2.846, 2.846, 2.8459, 2.8459, 2.8458, 2.8456, 2.8455, 2.8455, 2.8455, 2.8454, 2.8453, 2.8452, 2.8452, 2.8451, 2.8449, 2.8449, 2.8449, 2.8447, 2.8446, 2.8444, 2.2818, 0.9954, 2.6069, 3.0206, 3.0205, 3.0205, 3.0204, 3.0203, 3.0203, 3.0203, 3.0203, 3.0202, 3.0202, 3.0202, 3.0201, 3.0198, 3.0197, 3.0196, 3.0194, 3.0192, 3.0192, 3.0189, 3.0188, 3.0187, 3.0187, 3.0186, 3.0186, 3.0186, 3.0186, 3.0185, 3.0185, 3.0184, 3.0184, -0.2924, 2.0415, 0.5196]}, \"token.table\": {\"Topic\": [10, 6, 6, 4, 4, 6, 9, 7, 10, 3, 5, 10, 1, 3, 6, 7, 9, 5, 2, 1, 3, 6, 9, 6, 4, 6, 6, 10, 1, 10, 1, 3, 7, 6, 8, 4, 8, 3, 3, 6, 1, 3, 8, 1, 4, 9, 1, 5, 10, 10, 2, 7, 6, 1, 4, 7, 7, 2, 10, 6, 10, 5, 3, 8, 2, 7, 5, 6, 3, 5, 4, 4, 5, 4, 2, 10, 2, 10, 10, 8, 4, 4, 6, 9, 5, 2, 8, 9, 1, 7, 10, 2, 2, 4, 4, 10, 4, 1, 3, 1, 4, 5, 6, 7, 8, 10, 10, 1, 9, 8, 7, 3, 9, 1, 9, 2, 3, 6, 8, 10, 10, 10, 10, 4, 5, 2, 9, 7, 8, 7, 9, 10, 10, 9, 5, 6, 6, 1, 10, 8, 3, 1, 5, 1, 9, 5, 4, 9, 9, 7, 8, 9, 1, 5, 1, 2, 7, 2, 6, 6, 1, 1, 5, 6, 5, 9, 8, 10, 8, 7, 5, 8, 5, 9, 1, 7, 3, 6, 9, 4, 1, 8, 7, 9, 3, 6, 3, 6, 5, 2, 1, 3, 9, 1, 1, 9, 10, 10, 10, 6, 8, 1, 9, 5, 3, 2, 1, 3, 4, 7, 6, 8, 2, 6, 7, 1, 3, 2, 2, 4, 3, 5, 3, 7, 5, 6, 3, 7, 4, 7, 8, 10, 3, 2, 1, 2, 7, 4, 8, 7, 3, 5, 2, 3, 3, 8, 7, 1, 4, 5, 1, 1, 5, 5, 6, 3, 8, 7, 2, 1, 7, 9, 4, 5, 8, 6, 3, 1, 3, 4, 8, 9, 4, 2, 1, 8, 4, 1, 2, 9, 1, 3, 7, 8, 3, 5, 8, 1, 2, 3, 4, 5, 6, 8, 10, 7, 7, 8, 5, 8, 4, 7, 3, 9, 2, 8, 6, 6, 1, 9, 1, 4, 10, 10, 6, 1, 8, 4, 1, 9, 1, 3, 6, 7, 9, 5, 1, 3, 5, 4, 9, 10, 1, 3, 9, 2, 4, 8, 1, 3, 5, 5, 8, 3, 8, 1, 1, 7, 9, 4, 2, 6, 1, 1, 6, 1, 9, 9, 4, 2, 3, 7, 6, 2, 5, 2, 3, 2, 3, 2, 10, 7, 3, 10, 3, 1, 4, 1, 1, 6, 9, 3, 4, 1, 5, 5, 7, 5, 8, 3, 3], \"Freq\": [0.9980660569369906, 0.9934825124020169, 0.9979802371040641, 0.9972177171178398, 0.9899475678982269, 0.9995317174435054, 0.9974035048456666, 0.9990143831179522, 0.9983975457404355, 0.3858833567767862, 0.5320928517173619, 0.08207141923792774, 0.3450350543895809, 0.09897862962344142, 0.12455737660478021, 0.3239047851441271, 0.107041495519733, 0.9990178382256393, 0.9977992551349224, 0.6636457290305632, 0.17036543043905397, 0.08106276690171979, 0.08462596544685033, 0.9984761251141212, 0.9910449785323553, 0.9968973993990897, 0.9942558901702907, 0.998465715531243, 0.9985752615706778, 0.9984910590903762, 0.4323434135660209, 0.5672116023111734, 0.9992232463008718, 0.9998412786357681, 0.996721025479684, 0.9989748353539254, 0.9971613501283209, 0.9979642449279305, 0.9971486743732658, 0.9999015398178719, 0.7076379746073345, 0.29218429028414594, 0.9969319832301458, 0.5506316809066979, 0.4484983852546491, 0.9982422034208273, 0.4588285431226865, 0.16509870988085107, 0.37528461764081006, 0.9984671946115312, 0.9985138497896984, 0.9983166037249158, 0.9993483444885876, 0.27092740997084097, 0.7282727625821689, 0.9994652619677274, 0.9978449827410388, 0.999962517109457, 0.9997389734065001, 0.9964441484776155, 0.9994230756743195, 0.9985182691816306, 0.9997580466795664, 0.9997957893997199, 0.9978728929034552, 0.998243255605568, 0.9993282372831029, 0.9972708386843437, 0.9998573999112644, 0.9977537671573153, 0.997630514759219, 0.9958752137765684, 0.9981046820305387, 0.9987610506657362, 0.9979779548694525, 0.9974138554931379, 0.9998678846176556, 0.9987315813412104, 0.9978677972697135, 0.9994486587725643, 0.9966995215375067, 0.992110260232416, 0.9975048415616337, 0.9993241759644722, 0.9961985221168029, 0.9996291583492124, 0.9990897400509715, 0.9994088500042824, 0.9990641648127832, 0.998120650939291, 0.9995381289755829, 0.9996776082934734, 0.9975239614064793, 0.9998572380581899, 0.9962709400757412, 0.9990295083766176, 0.9999196243293835, 0.3007470263894289, 0.6991324103045925, 0.12965445791394922, 0.19437763032364136, 0.3922931832548865, 0.11841635080744319, 0.16524179708455164, 0.9996712086237897, 0.9988988222358773, 0.9991632668438735, 0.9997058830160803, 0.9988846910761854, 0.9987865893107922, 0.9977707224716539, 0.9960464203897912, 0.9997866215056653, 0.9984941085903323, 0.998231272343477, 0.36527722411107927, 0.4984932181675076, 0.08648958149844489, 0.04972740644028236, 0.9996178806971192, 0.9991731669989121, 0.9981280215708177, 0.9995272885648331, 0.7837386009528349, 0.21625834193928947, 0.9979067360401035, 0.9995447710401778, 0.999103020297432, 0.9997181470234296, 0.9998518281545831, 0.998405824276245, 0.996212320705155, 0.9991494822610667, 0.9982719445598717, 0.9992779905513571, 0.997083161982601, 0.997761461560212, 0.9210909218790114, 0.07882196152998876, 0.9983318933657379, 0.9989823945541159, 0.9984841943841559, 0.9987843508838606, 0.2113477257152176, 0.7868638403551178, 0.9959166531376414, 0.9955544067078468, 0.9992859645591243, 0.9989060461330007, 0.9977252050881813, 0.9976846269839422, 0.9978571587416192, 0.9996505405894719, 0.9979394861262354, 0.9980286793532164, 0.9988645134234545, 0.9988784352798491, 0.9966321990889753, 0.9969554879320042, 0.9961923914677491, 0.9997649206280653, 0.5115741707788479, 0.12613715150064095, 0.36226073087828126, 0.9990410162607706, 0.9978540039646798, 0.9978775334215663, 0.9966554157608304, 0.9989066610919817, 0.9993462125820852, 0.9988179158138984, 0.9980625863360693, 0.9988078625337686, 0.9987352581387415, 0.9983485592262489, 0.9975930625375732, 0.9975687013411132, 0.9993481002289551, 0.9993601474216415, 0.999119061273679, 0.9994536598268012, 0.999801248163838, 0.9978651968764369, 0.9990449809867719, 0.25479971506381377, 0.7451824069045057, 0.9997416955359952, 0.9986316891024525, 0.9955988452266, 0.9967497686007696, 0.7836068043222895, 0.21613531563618352, 0.999058122003243, 0.9996490865038842, 0.9994436800681623, 0.9986467581958827, 0.9984002854703955, 0.999390733106783, 0.9990848318921292, 0.994805229885995, 0.9962002678208247, 0.9998939529760924, 0.9989265236841077, 0.9997248620367499, 0.9968880662905667, 0.9981093291038863, 0.3178712153583605, 0.3353847809428432, 0.14623827263043032, 0.19965464766310248, 0.9981826462141838, 0.9983856389482778, 0.9991770628403319, 0.9991667607606378, 0.9977250137523362, 0.7261908103618565, 0.2737134858880327, 0.9982907161016874, 0.9999778807505072, 0.9972069824768436, 0.9998881594311221, 0.9982698708017105, 0.9997689188821149, 0.9981492303703378, 0.9998773121860993, 0.9974210461249383, 0.9963518664107436, 0.9996252986032653, 0.9972066616361759, 0.9993763697961697, 0.9996905943314596, 0.9988673414324313, 0.9998828135912019, 0.9994548906957537, 0.9991968584247528, 0.9987669483938677, 0.9989247744999602, 0.995850090062842, 0.9963959758837354, 0.9996355194545864, 0.9995931428646178, 0.9978327230318418, 0.9975972748581868, 0.9997962679836065, 0.9994872617299677, 0.9969751701291486, 0.9988790561803463, 0.9992720957278224, 0.9990089429828509, 0.9988755326855548, 0.9985120744576708, 0.9993786162339037, 0.998228314231449, 0.99802579757599, 0.9945912469950279, 0.43022096678178273, 0.5687667018471027, 0.9968706992194707, 0.9967121454900566, 0.9991536475436732, 0.9990737282479485, 0.9987876932437971, 0.9943487725220445, 0.9994085668413358, 0.9986437122965351, 0.9952921099085602, 0.9981985035648174, 0.9991829345702868, 0.9967343790222319, 0.9970483050056449, 0.9987053209644886, 0.9984845297017569, 0.9939826564581984, 0.9989985579173606, 0.9285537397544753, 0.0712021250021814, 0.9983645770196673, 0.9990781011897635, 0.9993554482403145, 0.9997546119262253, 0.4650141661593905, 0.11314847899871923, 0.42166749308523793, 0.9990151929262368, 0.9967696053723658, 0.9997053460554034, 0.9997859510303485, 0.07051551333506752, 0.4102058977463233, 0.12765196722040126, 0.09900503992803007, 0.10055937183469033, 0.07480468239395277, 0.08086460932118514, 0.03639891173824635, 0.9995275486700488, 0.9992329131612067, 0.9976503847903727, 0.998499011730099, 0.999672734915692, 0.9993151734349625, 0.9978353999829518, 0.9991414857790962, 0.9985216597748241, 0.4771137201867261, 0.522725004303614, 0.99807342170042, 0.9980607460524304, 0.4314507538117655, 0.5684328083222997, 0.9999183530634446, 0.9990699829436434, 0.998916570572709, 0.9995853874499064, 0.9974921926345541, 0.999761812290708, 0.996862904904164, 0.9971256010506604, 0.9988979418889082, 0.9974744254751999, 0.476747638150796, 0.16754709327983247, 0.13708398541077202, 0.2034935605653238, 0.014622291777149016, 0.997981883517405, 0.23763434984895865, 0.2533971634677023, 0.508913696833723, 0.9921740325730557, 0.9983713391670309, 0.9973066319023699, 0.9995966721506138, 0.9974951021635223, 0.9997852049819165, 0.9997261473862139, 0.7256553571930155, 0.27091133335205914, 0.7952713082652639, 0.2047180837874377, 0.9994624075547048, 0.9995017387614713, 0.9981411370576551, 0.9982164461618672, 0.9969151755836787, 0.9991741386383511, 0.31905729091047125, 0.5239111609786024, 0.15698815355707962, 0.995685073229027, 0.9999087089501437, 0.997909738165008, 0.9997182211803283, 0.4678531969435828, 0.5306791976760068, 0.9997562524540422, 0.99779962460567, 0.9991057151329438, 0.9941458665408806, 0.9957317970050564, 0.9988918478615373, 0.9997314003826501, 0.9983523923861752, 0.9995179427585701, 0.9971001199334931, 0.9964316513984016, 0.9973078262930027, 0.999824456644382, 0.9952838399153904, 0.9997114341642361, 0.996462292994124, 0.9979412741751554, 0.9984099422836332, 0.9974039185288415, 0.9948750829844992, 0.9997034051025686, 0.9992889402358112, 0.9992403139501264, 0.9998235903546785, 0.9956227633969755, 0.9985020475886942, 0.9997703878275037, 0.9974497622571736, 0.4018022984180471, 0.5981350403359071, 0.9995873093008225, 0.9982114514894345, 0.9986056595794633, 0.9982027037092787, 0.9996456432066765, 0.9967064882879866], \"Term\": [\"\\uac00\\ub2a5\", \"\\uac00\\ub9ac\\ube44\", \"\\uac00\\uc2b4\", \"\\uac00\\uc7a5\", \"\\uac08\\ube44\", \"\\uac10\\uc0ac\", \"\\uac71\\uc815\", \"\\uacb0\\uacfc\", \"\\uacb0\\uc7ac\", \"\\uacb0\\uc81c\", \"\\uacb0\\uc81c\", \"\\uacb0\\uc81c\", \"\\uacbd\\uc6b0\", \"\\uacbd\\uc6b0\", \"\\uacbd\\uc6b0\", \"\\uacbd\\uc6b0\", \"\\uacbd\\uc6b0\", \"\\uacc4\\uc18d\", \"\\uacc4\\uc57d\", \"\\uace0\\uac1d\", \"\\uace0\\uac1d\", \"\\uace0\\uac1d\", \"\\uace0\\uac1d\", \"\\uace0\\uad6c\\ub9c8\", \"\\uace0\\ucd94\", \"\\uace8\\ub4dc\", \"\\uacf5\\uc7a5\", \"\\uacf5\\uc9c0\", \"\\uacf5\\ud734\\uc77c\", \"\\uacfc\\uc815\", \"\\uad00\\ub828\", \"\\uad00\\ub828\", \"\\uad50\\ud658\", \"\\uad6c\\ub9e4\", \"\\uad6c\\uc131\", \"\\uad6c\\uc785\", \"\\uad6d\\ub0b4\", \"\\uad70\\ub370\", \"\\uadfc\\ubb34\", \"\\uae08\\uc694\\uc77c\", \"\\uae08\\uc77c\", \"\\uae08\\uc77c\", \"\\uae09\\uc99d\", \"\\uae30\\uac04\", \"\\uae30\\uac04\", \"\\uae30\\ubcf8\", \"\\uae30\\uc0ac\", \"\\uae30\\uc0ac\", \"\\uae30\\uc0ac\", \"\\uae30\\uc785\", \"\\uae30\\ud55c\", \"\\uae40\\uce58\", \"\\ub098\\uba38\\uc9c0\", \"\\ub0a0\\uc528\", \"\\ub0a0\\uc528\", \"\\ub0a0\\uc9dc\", \"\\ub0b4\\uc6a9\", \"\\ub0b4\\uc77c\", \"\\ub0c9\\ub3d9\", \"\\ub0c9\\ub3d9\\uc2dd\\ud488\", \"\\ub0c9\\uc7a5\", \"\\ub178\\ub825\", \"\\ub204\\ub77d\", \"\\ub2e4\\uc2dc\", \"\\ub2e4\\uc74c\\uc8fc\", \"\\ub2ec\\ub77c\", \"\\ub2f5\\ubcc0\", \"\\ub2f9\\uc0ac\", \"\\ub2f9\\uc77c\", \"\\ub300\\ub9ac\\uc810\", \"\\ub300\\ubd80\\ubd84\", \"\\ub300\\uc2e0\", \"\\ub300\\uccb4\", \"\\ub3c4\\ub300\\uccb4\", \"\\ub3c4\\uc11c\", \"\\ub3c4\\uc6c0\", \"\\ub3c4\\ucc29\", \"\\ub3d9\\ubd09\", \"\\ub4dc\\ub77c\\uc774\\uc544\\uc774\\uc2a4\", \"\\ub4f1\\ub85d\", \"\\ub538\\uae30\", \"\\ub79c\\ub364\", \"\\ub808\\ubaac\", \"\\ub86f\\ub370\", \"\\ub9ac\\ud130\", \"\\ub9c8\\uac10\", \"\\ub9c8\\uc9c0\\ub9c9\", \"\\ub9d0\\uc500\", \"\\uba3c\\uc800\", \"\\uba54\\ubaa8\", \"\\uba54\\uc138\\uc9c0\", \"\\uba85\\uc808\", \"\\ubaa8\\ub808\", \"\\ubaa9\\uc694\\uc77c\", \"\\ubb34\\uac8c\", \"\\ubb34\\ub8cc\", \"\\ubb36\\uc74c\", \"\\ubb38\\uac74\", \"\\ubb38\\uac74\", \"\\ubb38\\uc758\", \"\\ubb38\\uc758\", \"\\ubb38\\uc758\", \"\\ubb38\\uc758\", \"\\ubb38\\uc758\", \"\\ubb38\\uc790\", \"\\ubb38\\uc81c\", \"\\ubb3c\\uac74\", \"\\ubb3c\\ub7c9\", \"\\ubb3c\\ub958\", \"\\ubb54\\uac00\", \"\\ubbf8\\ub9ac\", \"\\ubc00\\ub9ac\", \"\\ubc15\\uc2a4\", \"\\ubc18\\uc1a1\", \"\\ubc18\\ud488\", \"\\ubc1c\\uc1a1\", \"\\ubc1c\\uc1a1\", \"\\ubc1c\\uc1a1\", \"\\ubc1c\\uc1a1\", \"\\ubc29\\uae08\", \"\\ubc29\\ubb38\", \"\\ubc29\\ubc95\", \"\\ubc30\\ub2ec\", \"\\ubc30\\uc1a1\", \"\\ubc30\\uc1a1\", \"\\ubc30\\uc1a1\\ub7c9\", \"\\ubc30\\uc1a1\\ube44\", \"\\ubc30\\uc1a1\\uc9c0\", \"\\ubc88\\ud638\", \"\\ubcc0\\uacbd\", \"\\ubcc4\\ub3c4\", \"\\ubcf4\\uace0\", \"\\ubcf4\\uad00\", \"\\ubcf4\\uc2dc\", \"\\ubcf4\\ud1b5\", \"\\ubd09\\uc9c0\", \"\\ubd80\\uacfc\", \"\\ubd80\\ubd84\", \"\\ubd80\\ubd84\", \"\\ubd80\\ud0c1\", \"\\ubd84\\ub9ac\", \"\\ubd84\\ud560\", \"\\ubd88\\uac00\", \"\\ubd88\\ud3b8\", \"\\ubd88\\ud3b8\", \"\\ube44\\uc911\", \"\\ube44\\ud0c0\\ubbfc\", \"\\uc0ac\\uac00\", \"\\uc0ac\\uacfc\", \"\\uc0ac\\ub78c\", \"\\uc0ac\\uba74\", \"\\uc0ac\\uc6a9\", \"\\uc0ac\\uc740\", \"\\uc0ac\\uc774\", \"\\uc0ac\\uc7a5\", \"\\uc0ac\\uc815\", \"\\uc0ac\\ud56d\", \"\\uc0b0\\uac04\", \"\\uc0b0\\uc9c0\", \"\\uc0c1\\uc628\", \"\\uc0c1\\ud0dc\", \"\\uc0c1\\ud488\", \"\\uc0c1\\ud488\", \"\\uc0c1\\ud488\", \"\\uc0c8\\ubcbd\", \"\\uc0c8\\uc6b0\", \"\\uc0d0\\ub7ec\\ub4dc\", \"\\uc0dd\\uac01\", \"\\uc0dd\\ubb3c\", \"\\uc0dd\\uc0b0\", \"\\uc0dd\\uc218\", \"\\uc11c\\ube44\\uc2a4\", \"\\uc11c\\uc6b8\", \"\\uc120\\ubb3c\", \"\\uc120\\ubcc4\", \"\\uc120\\ud0dd\", \"\\uc131\\ud568\", \"\\uc138\\ud2b8\", \"\\uc13c\\ud130\", \"\\uc18c\\uc2a4\", \"\\uc18c\\uc694\", \"\\uc1a1\\uc7a5\", \"\\uc218\\ub3c4\", \"\\uc218\\ub7c9\", \"\\uc218\\ub839\", \"\\uc218\\ub839\", \"\\uc218\\uc694\\uc77c\", \"\\uc218\\uc815\", \"\\uc218\\ucde8\", \"\\uc218\\ud655\", \"\\uc21c\\ucc28\", \"\\uc21c\\ucc28\", \"\\uc2dc\\uc791\", \"\\uc2dd\\ud488\", \"\\uc2e0\\uacbd\", \"\\uc2e0\\uccad\", \"\\uc2e4\\uc218\", \"\\uc544\\uc774\\uc2a4\\ubc15\\uc2a4\", \"\\uc544\\uc774\\uc2a4\\ud329\", \"\\uc548\\uc2ec\", \"\\uc548\\uc804\", \"\\uc591\\ud574\", \"\\uc5b4\\ub518\\uac00\", \"\\uc5b4\\uc81c\", \"\\uc5bc\\uc74c\", \"\\uc5c5\\ubb34\", \"\\uc5c5\\uccb4\", \"\\uc5c5\\uccb4\", \"\\uc5c5\\uccb4\", \"\\uc5c5\\uccb4\", \"\\uc5ec\\ub7ec\", \"\\uc5f0\\ub77d\", \"\\uc5f0\\ud734\", \"\\uc608\\uc0c1\", \"\\uc608\\uc57d\", \"\\uc608\\uc815\", \"\\uc608\\uc815\", \"\\uc608\\uc815\\uc77c\", \"\\uc624\\ub298\", \"\\uc624\\ub298\\uc774\", \"\\uc624\\uc804\", \"\\uc624\\uc9c0\", \"\\uc624\\ud6c4\", \"\\uc635\\uc158\", \"\\uc644\\ub8cc\", \"\\uc694\\uc77c\", \"\\uc694\\uc998\", \"\\uc694\\uccad\", \"\\uc6b0\\uc720\", \"\\uc6b0\\uccb4\\uad6d\", \"\\uc6b4\\uc1a1\", \"\\uc6d0\\ub798\", \"\\uc6d4\\uc694\\uc77c\", \"\\uc720\\ud1b5\", \"\\uc774\\ub0b4\", \"\\uc774\\ub3d9\", \"\\uc774\\uba74\", \"\\uc774\\ubca4\\ud2b8\", \"\\uc774\\uc138\", \"\\uc774\\uc6a9\", \"\\uc774\\uc804\", \"\\uc774\\uc81c\", \"\\uc774\\ud2c0\", \"\\uc774\\ud6c4\", \"\\uc775\\uc77c\", \"\\uc77c\\uad04\", \"\\uc77c\\ubc18\", \"\\uc77c\\ubd80\", \"\\uc77c\\uc694\\uc77c\", \"\\uc77c\\uc774\", \"\\uc77c\\uc790\", \"\\uc77c\\uc815\", \"\\uc77c\\uc8fc\\uc77c\", \"\\uc77c\\ucc0d\", \"\\uc77c\\ucd9c\", \"\\uc785\\uae08\", \"\\uc785\\uae08\", \"\\uc785\\ub825\", \"\\uc791\\ub144\", \"\\uc791\\uc5c5\", \"\\uc798\\ubabb\", \"\\uc7ac\\uace0\", \"\\uc7ac\\ud574\", \"\\uc800\\ub141\", \"\\uc800\\ubc88\", \"\\uc801\\uc6a9\", \"\\uc804\\ub0a0\", \"\\uc804\\ub2ec\", \"\\uc804\\uc0b0\", \"\\uc804\\uccb4\", \"\\uc804\\ud654\", \"\\uc811\\uc218\", \"\\uc815\\uae30\", \"\\uc815\\ub9d0\", \"\\uc815\\uc0c1\", \"\\uc815\\uc0c1\", \"\\uc815\\uc77c\", \"\\uc81c\\uc870\", \"\\uc81c\\uc8fc\", \"\\uc81c\\uc8fc\\ub3c4\", \"\\uc81c\\ud488\", \"\\uc81c\\ud488\", \"\\uc81c\\ud488\", \"\\uc870\\uc5c5\", \"\\uc870\\uc5c5\\ub7c9\", \"\\uc870\\ud68c\", \"\\uc8fc\\ub9d0\", \"\\uc8fc\\ubb38\", \"\\uc8fc\\ubb38\", \"\\uc8fc\\ubb38\", \"\\uc8fc\\ubb38\", \"\\uc8fc\\ubb38\", \"\\uc8fc\\ubb38\", \"\\uc8fc\\ubb38\", \"\\uc8fc\\ubb38\", \"\\uc8fc\\uc18c\", \"\\uc8fc\\uc18c\\uc9c0\", \"\\uc8fc\\uc2ec\", \"\\uc8fc\\ucc28\", \"\\uc900\\ube44\", \"\\uc911\\uc774\", \"\\uc911\\uc778\", \"\\uc99d\\uac00\", \"\\uc99d\\uc815\", \"\\uc9c0\\uae08\", \"\\uc9c0\\uae08\", \"\\uc9c0\\ub09c\\ubc88\", \"\\uc9c0\\ub09c\\uc8fc\", \"\\uc9c0\\uc5ed\", \"\\uc9c0\\uc5ed\", \"\\uc9c0\\uc5f0\", \"\\uc9c0\\uc815\", \"\\uc9c0\\uc815\\uc740\", \"\\uc9c1\\uc811\", \"\\uc9c4\\uc2ec\", \"\\uc9c4\\ud589\", \"\\uc9dc\\uc7a5\", \"\\uc9ec\\ubf55\", \"\\ucc28\\uc8fc\", \"\\ucc29\\uc624\", \"\\ucc38\\uace0\", \"\\ucc38\\uace0\", \"\\ucc38\\uace0\", \"\\ucc38\\uace0\", \"\\ucc38\\uace0\", \"\\ucc38\\uce58\", \"\\ucc98\\ub9ac\", \"\\ucc98\\ub9ac\", \"\\ucc98\\ub9ac\", \"\\ucd08\\ucf54\", \"\\ucd5c\\uadfc\", \"\\ucd5c\\ub300\", \"\\ucd5c\\ub300\\ud55c\", \"\\ucd5c\\uc120\", \"\\ucd94\\uac00\", \"\\ucd94\\uc11d\", \"\\ucd94\\uc801\", \"\\ucd94\\uc801\", \"\\ucd9c\\uace0\", \"\\ucd9c\\uace0\", \"\\ucd9c\\ubc1c\", \"\\ucde8\\uc18c\", \"\\uce58\\uc988\", \"\\ucea0\\ud551\", \"\\ucee4\\ud53c\", \"\\ucf54\\ub85c\\ub098\", \"\\ud0dd\\ubc30\", \"\\ud0dd\\ubc30\", \"\\ud0dd\\ubc30\", \"\\ud130\\ubbf8\\ub110\", \"\\ud1a0\\uc694\\uc77c\", \"\\ud1b5\\uad00\", \"\\ud1b5\\uc6b4\", \"\\ud2b9\\uc131\", \"\\ud2b9\\uc131\", \"\\ud30c\\uc190\", \"\\ud30c\\uc5c5\", \"\\ud310\\ub9e4\", \"\\ud37c\\uc13c\\ud2b8\", \"\\ud3c9\\uc0c1\\uc2dc\", \"\\ud3c9\\uc77c\", \"\\ud3ec\\uc7a5\", \"\\ud3ec\\ud568\", \"\\ud3ed\\uc8fc\", \"\\ud488\\uc808\", \"\\ud504\\ub85c\", \"\\ud558\\uac9f\\uc2b5\\ub2c8\", \"\\ud558\\ub098\\uc694\", \"\\ud558\\ub2c8\", \"\\ud558\\ub8e8\", \"\\ud55c\\ubc88\", \"\\ud55c\\uc9c4\\ud0dd\\ubc30\", \"\\ud55c\\ud574\", \"\\ud569\\ud3ec\", \"\\ud56d\\uc0c1\", \"\\ud574\\ub2f9\", \"\\ud574\\uc678\", \"\\ud589\\uc0ac\", \"\\ud604\\uc7ac\", \"\\ud604\\uc9c0\", \"\\ud64d\\uac8c\", \"\\ud654\\uc694\\uc77c\", \"\\ud655\\ub2f5\", \"\\ud655\\uc778\", \"\\ud655\\uc778\", \"\\ud658\\ubd88\", \"\\ud68c\\uc0ac\", \"\\ud68c\\uc218\", \"\\ud68c\\uc6d0\", \"\\ud734\\ubb34\", \"\\ud76c\\ub9dd\"]}, \"R\": 30, \"lambda.step\": 0.01, \"plot.opts\": {\"xlab\": \"PC1\", \"ylab\": \"PC2\"}, \"topic.order\": [6, 2, 5, 4, 9, 10, 8, 3, 1, 7]};\n",
              "\n",
              "function LDAvis_load_lib(url, callback){\n",
              "  var s = document.createElement('script');\n",
              "  s.src = url;\n",
              "  s.async = true;\n",
              "  s.onreadystatechange = s.onload = callback;\n",
              "  s.onerror = function(){console.warn(\"failed to load library \" + url);};\n",
              "  document.getElementsByTagName(\"head\")[0].appendChild(s);\n",
              "}\n",
              "\n",
              "if(typeof(LDAvis) !== \"undefined\"){\n",
              "   // already loaded: just create the visualization\n",
              "   !function(LDAvis){\n",
              "       new LDAvis(\"#\" + \"ldavis_el3081392774802705765972149737\", ldavis_el3081392774802705765972149737_data);\n",
              "   }(LDAvis);\n",
              "}else if(typeof define === \"function\" && define.amd){\n",
              "   // require.js is available: use it to load d3/LDAvis\n",
              "   require.config({paths: {d3: \"https://d3js.org/d3.v5\"}});\n",
              "   require([\"d3\"], function(d3){\n",
              "      window.d3 = d3;\n",
              "      LDAvis_load_lib(\"https://cdn.jsdelivr.net/gh/bmabey/pyLDAvis@3.4.0/pyLDAvis/js/ldavis.v3.0.0.js\", function(){\n",
              "        new LDAvis(\"#\" + \"ldavis_el3081392774802705765972149737\", ldavis_el3081392774802705765972149737_data);\n",
              "      });\n",
              "    });\n",
              "}else{\n",
              "    // require.js not available: dynamically load d3 & LDAvis\n",
              "    LDAvis_load_lib(\"https://d3js.org/d3.v5.js\", function(){\n",
              "         LDAvis_load_lib(\"https://cdn.jsdelivr.net/gh/bmabey/pyLDAvis@3.4.0/pyLDAvis/js/ldavis.v3.0.0.js\", function(){\n",
              "                 new LDAvis(\"#\" + \"ldavis_el3081392774802705765972149737\", ldavis_el3081392774802705765972149737_data);\n",
              "            })\n",
              "         });\n",
              "}\n",
              "</script>"
            ]
          },
          "metadata": {},
          "execution_count": 34
        }
      ]
    },
    {
      "cell_type": "markdown",
      "source": [
        "# 행사 키워드 토픽 모델링"
      ],
      "metadata": {
        "id": "VvLpStm5xC4l"
      }
    },
    {
      "cell_type": "code",
      "source": [
        "df3 = data[(data['인텐트 (대)']=='행사')]\n",
        "text3 = df3[['발화문']]\n",
        "text3.head(5)"
      ],
      "metadata": {
        "colab": {
          "base_uri": "https://localhost:8080/",
          "height": 262
        },
        "id": "oqfxnizOxH0h",
        "outputId": "108669a6-7bc5-45c6-a3d1-cb14652bef36"
      },
      "execution_count": null,
      "outputs": [
        {
          "output_type": "stream",
          "name": "stderr",
          "text": [
            "/usr/local/lib/python3.10/dist-packages/ipykernel/ipkernel.py:283: DeprecationWarning: `should_run_async` will not call `transform_cell` automatically in the future. Please pass the result to `transformed_cell` argument and any exception that happen during thetransform in `preprocessing_exc_tuple` in IPython 7.17 and above.\n",
            "  and should_run_async(code)\n"
          ]
        },
        {
          "output_type": "execute_result",
          "data": {
            "text/plain": [
              "                                                     발화문\n",
              "43469                         두 개 구매하면 사은품 보내주시는 거 아닌가요?\n",
              "43470  문의주 신상품은 옵션 수량 2개 구매 시 사은품 증정되는 상품으로 추가 구성은 해당...\n",
              "43471                               파채소스는 갈비 본살만 주는 건가요?\n",
              "43472                                 갈비 본살 주문시에만 증정됩니다.\n",
              "43473                                     저도 7일에 주문했거든요?"
            ],
            "text/html": [
              "\n",
              "  <div id=\"df-9da1931b-1535-46f0-a143-77d40bce4d8c\" class=\"colab-df-container\">\n",
              "    <div>\n",
              "<style scoped>\n",
              "    .dataframe tbody tr th:only-of-type {\n",
              "        vertical-align: middle;\n",
              "    }\n",
              "\n",
              "    .dataframe tbody tr th {\n",
              "        vertical-align: top;\n",
              "    }\n",
              "\n",
              "    .dataframe thead th {\n",
              "        text-align: right;\n",
              "    }\n",
              "</style>\n",
              "<table border=\"1\" class=\"dataframe\">\n",
              "  <thead>\n",
              "    <tr style=\"text-align: right;\">\n",
              "      <th></th>\n",
              "      <th>발화문</th>\n",
              "    </tr>\n",
              "  </thead>\n",
              "  <tbody>\n",
              "    <tr>\n",
              "      <th>43469</th>\n",
              "      <td>두 개 구매하면 사은품 보내주시는 거 아닌가요?</td>\n",
              "    </tr>\n",
              "    <tr>\n",
              "      <th>43470</th>\n",
              "      <td>문의주 신상품은 옵션 수량 2개 구매 시 사은품 증정되는 상품으로 추가 구성은 해당...</td>\n",
              "    </tr>\n",
              "    <tr>\n",
              "      <th>43471</th>\n",
              "      <td>파채소스는 갈비 본살만 주는 건가요?</td>\n",
              "    </tr>\n",
              "    <tr>\n",
              "      <th>43472</th>\n",
              "      <td>갈비 본살 주문시에만 증정됩니다.</td>\n",
              "    </tr>\n",
              "    <tr>\n",
              "      <th>43473</th>\n",
              "      <td>저도 7일에 주문했거든요?</td>\n",
              "    </tr>\n",
              "  </tbody>\n",
              "</table>\n",
              "</div>\n",
              "    <div class=\"colab-df-buttons\">\n",
              "\n",
              "  <div class=\"colab-df-container\">\n",
              "    <button class=\"colab-df-convert\" onclick=\"convertToInteractive('df-9da1931b-1535-46f0-a143-77d40bce4d8c')\"\n",
              "            title=\"Convert this dataframe to an interactive table.\"\n",
              "            style=\"display:none;\">\n",
              "\n",
              "  <svg xmlns=\"http://www.w3.org/2000/svg\" height=\"24px\" viewBox=\"0 -960 960 960\">\n",
              "    <path d=\"M120-120v-720h720v720H120Zm60-500h600v-160H180v160Zm220 220h160v-160H400v160Zm0 220h160v-160H400v160ZM180-400h160v-160H180v160Zm440 0h160v-160H620v160ZM180-180h160v-160H180v160Zm440 0h160v-160H620v160Z\"/>\n",
              "  </svg>\n",
              "    </button>\n",
              "\n",
              "  <style>\n",
              "    .colab-df-container {\n",
              "      display:flex;\n",
              "      gap: 12px;\n",
              "    }\n",
              "\n",
              "    .colab-df-convert {\n",
              "      background-color: #E8F0FE;\n",
              "      border: none;\n",
              "      border-radius: 50%;\n",
              "      cursor: pointer;\n",
              "      display: none;\n",
              "      fill: #1967D2;\n",
              "      height: 32px;\n",
              "      padding: 0 0 0 0;\n",
              "      width: 32px;\n",
              "    }\n",
              "\n",
              "    .colab-df-convert:hover {\n",
              "      background-color: #E2EBFA;\n",
              "      box-shadow: 0px 1px 2px rgba(60, 64, 67, 0.3), 0px 1px 3px 1px rgba(60, 64, 67, 0.15);\n",
              "      fill: #174EA6;\n",
              "    }\n",
              "\n",
              "    .colab-df-buttons div {\n",
              "      margin-bottom: 4px;\n",
              "    }\n",
              "\n",
              "    [theme=dark] .colab-df-convert {\n",
              "      background-color: #3B4455;\n",
              "      fill: #D2E3FC;\n",
              "    }\n",
              "\n",
              "    [theme=dark] .colab-df-convert:hover {\n",
              "      background-color: #434B5C;\n",
              "      box-shadow: 0px 1px 3px 1px rgba(0, 0, 0, 0.15);\n",
              "      filter: drop-shadow(0px 1px 2px rgba(0, 0, 0, 0.3));\n",
              "      fill: #FFFFFF;\n",
              "    }\n",
              "  </style>\n",
              "\n",
              "    <script>\n",
              "      const buttonEl =\n",
              "        document.querySelector('#df-9da1931b-1535-46f0-a143-77d40bce4d8c button.colab-df-convert');\n",
              "      buttonEl.style.display =\n",
              "        google.colab.kernel.accessAllowed ? 'block' : 'none';\n",
              "\n",
              "      async function convertToInteractive(key) {\n",
              "        const element = document.querySelector('#df-9da1931b-1535-46f0-a143-77d40bce4d8c');\n",
              "        const dataTable =\n",
              "          await google.colab.kernel.invokeFunction('convertToInteractive',\n",
              "                                                    [key], {});\n",
              "        if (!dataTable) return;\n",
              "\n",
              "        const docLinkHtml = 'Like what you see? Visit the ' +\n",
              "          '<a target=\"_blank\" href=https://colab.research.google.com/notebooks/data_table.ipynb>data table notebook</a>'\n",
              "          + ' to learn more about interactive tables.';\n",
              "        element.innerHTML = '';\n",
              "        dataTable['output_type'] = 'display_data';\n",
              "        await google.colab.output.renderOutput(dataTable, element);\n",
              "        const docLink = document.createElement('div');\n",
              "        docLink.innerHTML = docLinkHtml;\n",
              "        element.appendChild(docLink);\n",
              "      }\n",
              "    </script>\n",
              "  </div>\n",
              "\n",
              "\n",
              "<div id=\"df-4ee1478e-a94d-4bf7-a691-af5025872a2d\">\n",
              "  <button class=\"colab-df-quickchart\" onclick=\"quickchart('df-4ee1478e-a94d-4bf7-a691-af5025872a2d')\"\n",
              "            title=\"Suggest charts.\"\n",
              "            style=\"display:none;\">\n",
              "\n",
              "<svg xmlns=\"http://www.w3.org/2000/svg\" height=\"24px\"viewBox=\"0 0 24 24\"\n",
              "     width=\"24px\">\n",
              "    <g>\n",
              "        <path d=\"M19 3H5c-1.1 0-2 .9-2 2v14c0 1.1.9 2 2 2h14c1.1 0 2-.9 2-2V5c0-1.1-.9-2-2-2zM9 17H7v-7h2v7zm4 0h-2V7h2v10zm4 0h-2v-4h2v4z\"/>\n",
              "    </g>\n",
              "</svg>\n",
              "  </button>\n",
              "\n",
              "<style>\n",
              "  .colab-df-quickchart {\n",
              "      --bg-color: #E8F0FE;\n",
              "      --fill-color: #1967D2;\n",
              "      --hover-bg-color: #E2EBFA;\n",
              "      --hover-fill-color: #174EA6;\n",
              "      --disabled-fill-color: #AAA;\n",
              "      --disabled-bg-color: #DDD;\n",
              "  }\n",
              "\n",
              "  [theme=dark] .colab-df-quickchart {\n",
              "      --bg-color: #3B4455;\n",
              "      --fill-color: #D2E3FC;\n",
              "      --hover-bg-color: #434B5C;\n",
              "      --hover-fill-color: #FFFFFF;\n",
              "      --disabled-bg-color: #3B4455;\n",
              "      --disabled-fill-color: #666;\n",
              "  }\n",
              "\n",
              "  .colab-df-quickchart {\n",
              "    background-color: var(--bg-color);\n",
              "    border: none;\n",
              "    border-radius: 50%;\n",
              "    cursor: pointer;\n",
              "    display: none;\n",
              "    fill: var(--fill-color);\n",
              "    height: 32px;\n",
              "    padding: 0;\n",
              "    width: 32px;\n",
              "  }\n",
              "\n",
              "  .colab-df-quickchart:hover {\n",
              "    background-color: var(--hover-bg-color);\n",
              "    box-shadow: 0 1px 2px rgba(60, 64, 67, 0.3), 0 1px 3px 1px rgba(60, 64, 67, 0.15);\n",
              "    fill: var(--button-hover-fill-color);\n",
              "  }\n",
              "\n",
              "  .colab-df-quickchart-complete:disabled,\n",
              "  .colab-df-quickchart-complete:disabled:hover {\n",
              "    background-color: var(--disabled-bg-color);\n",
              "    fill: var(--disabled-fill-color);\n",
              "    box-shadow: none;\n",
              "  }\n",
              "\n",
              "  .colab-df-spinner {\n",
              "    border: 2px solid var(--fill-color);\n",
              "    border-color: transparent;\n",
              "    border-bottom-color: var(--fill-color);\n",
              "    animation:\n",
              "      spin 1s steps(1) infinite;\n",
              "  }\n",
              "\n",
              "  @keyframes spin {\n",
              "    0% {\n",
              "      border-color: transparent;\n",
              "      border-bottom-color: var(--fill-color);\n",
              "      border-left-color: var(--fill-color);\n",
              "    }\n",
              "    20% {\n",
              "      border-color: transparent;\n",
              "      border-left-color: var(--fill-color);\n",
              "      border-top-color: var(--fill-color);\n",
              "    }\n",
              "    30% {\n",
              "      border-color: transparent;\n",
              "      border-left-color: var(--fill-color);\n",
              "      border-top-color: var(--fill-color);\n",
              "      border-right-color: var(--fill-color);\n",
              "    }\n",
              "    40% {\n",
              "      border-color: transparent;\n",
              "      border-right-color: var(--fill-color);\n",
              "      border-top-color: var(--fill-color);\n",
              "    }\n",
              "    60% {\n",
              "      border-color: transparent;\n",
              "      border-right-color: var(--fill-color);\n",
              "    }\n",
              "    80% {\n",
              "      border-color: transparent;\n",
              "      border-right-color: var(--fill-color);\n",
              "      border-bottom-color: var(--fill-color);\n",
              "    }\n",
              "    90% {\n",
              "      border-color: transparent;\n",
              "      border-bottom-color: var(--fill-color);\n",
              "    }\n",
              "  }\n",
              "</style>\n",
              "\n",
              "  <script>\n",
              "    async function quickchart(key) {\n",
              "      const quickchartButtonEl =\n",
              "        document.querySelector('#' + key + ' button');\n",
              "      quickchartButtonEl.disabled = true;  // To prevent multiple clicks.\n",
              "      quickchartButtonEl.classList.add('colab-df-spinner');\n",
              "      try {\n",
              "        const charts = await google.colab.kernel.invokeFunction(\n",
              "            'suggestCharts', [key], {});\n",
              "      } catch (error) {\n",
              "        console.error('Error during call to suggestCharts:', error);\n",
              "      }\n",
              "      quickchartButtonEl.classList.remove('colab-df-spinner');\n",
              "      quickchartButtonEl.classList.add('colab-df-quickchart-complete');\n",
              "    }\n",
              "    (() => {\n",
              "      let quickchartButtonEl =\n",
              "        document.querySelector('#df-4ee1478e-a94d-4bf7-a691-af5025872a2d button');\n",
              "      quickchartButtonEl.style.display =\n",
              "        google.colab.kernel.accessAllowed ? 'block' : 'none';\n",
              "    })();\n",
              "  </script>\n",
              "</div>\n",
              "    </div>\n",
              "  </div>\n"
            ]
          },
          "metadata": {},
          "execution_count": 35
        }
      ]
    },
    {
      "cell_type": "code",
      "source": [
        "text3['발화문'] = text3.apply(tokenize_korean_text, axis=1)\n",
        "text3['발화문'] = text3['발화문'].apply(remove_stopwords)\n",
        "tokenized_doc3 = text3['발화문'].apply(lambda x: [word for word in x if len(word) > 1])\n",
        "print(tokenized_doc3[:5])"
      ],
      "metadata": {
        "colab": {
          "base_uri": "https://localhost:8080/"
        },
        "id": "rVSXdBm-xSFN",
        "outputId": "558dbe61-4712-482d-c8a1-5e353178d5de"
      },
      "execution_count": null,
      "outputs": [
        {
          "output_type": "stream",
          "name": "stderr",
          "text": [
            "/usr/local/lib/python3.10/dist-packages/ipykernel/ipkernel.py:283: DeprecationWarning: `should_run_async` will not call `transform_cell` automatically in the future. Please pass the result to `transformed_cell` argument and any exception that happen during thetransform in `preprocessing_exc_tuple` in IPython 7.17 and above.\n",
            "  and should_run_async(code)\n",
            "<ipython-input-36-3169df0125d1>:1: SettingWithCopyWarning: \n",
            "A value is trying to be set on a copy of a slice from a DataFrame.\n",
            "Try using .loc[row_indexer,col_indexer] = value instead\n",
            "\n",
            "See the caveats in the documentation: https://pandas.pydata.org/pandas-docs/stable/user_guide/indexing.html#returning-a-view-versus-a-copy\n",
            "  text3['발화문'] = text3.apply(tokenize_korean_text, axis=1)\n"
          ]
        },
        {
          "output_type": "stream",
          "name": "stdout",
          "text": [
            "43469                                             [구매, 사은]\n",
            "43470    [의주, 상품, 옵션, 수량, 구매, 사은, 증정, 상품, 추가, 구성은, 해당, ...\n",
            "43471                                         [파채, 소스, 갈비]\n",
            "43472                                             [갈비, 증정]\n",
            "43473                                                 [주문]\n",
            "Name: 발화문, dtype: object\n"
          ]
        },
        {
          "output_type": "stream",
          "name": "stderr",
          "text": [
            "<ipython-input-36-3169df0125d1>:2: SettingWithCopyWarning: \n",
            "A value is trying to be set on a copy of a slice from a DataFrame.\n",
            "Try using .loc[row_indexer,col_indexer] = value instead\n",
            "\n",
            "See the caveats in the documentation: https://pandas.pydata.org/pandas-docs/stable/user_guide/indexing.html#returning-a-view-versus-a-copy\n",
            "  text3['발화문'] = text3['발화문'].apply(remove_stopwords)\n"
          ]
        }
      ]
    },
    {
      "cell_type": "code",
      "source": [
        "dictionary3 = corpora.Dictionary(tokenized_doc3)\n",
        "corpus3 = [dictionary3.doc2bow(text3) for text3 in tokenized_doc3]\n",
        "print(corpus3[1]) # 수행된 결과에서 두번째 뉴스 출력. 첫번째 문서의 인덱스는 0"
      ],
      "metadata": {
        "colab": {
          "base_uri": "https://localhost:8080/"
        },
        "id": "DU8MJ3-9x1-v",
        "outputId": "47a55965-d354-48ac-b53a-15c0b92a9767"
      },
      "execution_count": null,
      "outputs": [
        {
          "output_type": "stream",
          "name": "stderr",
          "text": [
            "/usr/local/lib/python3.10/dist-packages/ipykernel/ipkernel.py:283: DeprecationWarning: `should_run_async` will not call `transform_cell` automatically in the future. Please pass the result to `transformed_cell` argument and any exception that happen during thetransform in `preprocessing_exc_tuple` in IPython 7.17 and above.\n",
            "  and should_run_async(code)\n"
          ]
        },
        {
          "output_type": "stream",
          "name": "stdout",
          "text": [
            "[(0, 1), (1, 1), (2, 1), (3, 2), (4, 1), (5, 1), (6, 1), (7, 1), (8, 1), (9, 1), (10, 1), (11, 1)]\n"
          ]
        }
      ]
    },
    {
      "cell_type": "code",
      "source": [
        "NUM_TOPICS = 10 # 10개의 토픽, k=10\n",
        "ldamodel3 = gensim.models.ldamodel.LdaModel(corpus3, num_topics = NUM_TOPICS, id2word=dictionary3, passes=15)\n",
        "topics3 = ldamodel3.print_topics(num_words=4)\n",
        "for topic in topics3:\n",
        "    print(topic)"
      ],
      "metadata": {
        "colab": {
          "base_uri": "https://localhost:8080/"
        },
        "id": "djJfH4ptyCII",
        "outputId": "e1183be8-83e9-4688-bc40-d273f5fcfa29"
      },
      "execution_count": null,
      "outputs": [
        {
          "output_type": "stream",
          "name": "stderr",
          "text": [
            "/usr/local/lib/python3.10/dist-packages/ipykernel/ipkernel.py:283: DeprecationWarning: `should_run_async` will not call `transform_cell` automatically in the future. Please pass the result to `transformed_cell` argument and any exception that happen during thetransform in `preprocessing_exc_tuple` in IPython 7.17 and above.\n",
            "  and should_run_async(code)\n"
          ]
        },
        {
          "output_type": "stream",
          "name": "stdout",
          "text": [
            "(0, '0.179*\"주문\" + 0.062*\"박스\" + 0.056*\"추가\" + 0.044*\"사은\"')\n",
            "(1, '0.142*\"발송\" + 0.068*\"사은\" + 0.056*\"양해\" + 0.038*\"상품\"')\n",
            "(2, '0.083*\"확인\" + 0.075*\"오늘\" + 0.059*\"주문\" + 0.044*\"사은\"')\n",
            "(3, '0.094*\"요청\" + 0.092*\"출고\" + 0.055*\"커피\" + 0.053*\"배송\"')\n",
            "(4, '0.179*\"사은\" + 0.069*\"주문\" + 0.069*\"지금\" + 0.035*\"배송\"')\n",
            "(5, '0.071*\"쉐이크\" + 0.070*\"사은\" + 0.030*\"대신\" + 0.025*\"스푼\"')\n",
            "(6, '0.204*\"샘플\" + 0.042*\"배즙\" + 0.039*\"원두\" + 0.037*\"주문\"')\n",
            "(7, '0.150*\"행사\" + 0.131*\"이벤트\" + 0.088*\"진행\" + 0.060*\"현재\"')\n",
            "(8, '0.092*\"제품\" + 0.073*\"사은\" + 0.070*\"옵션\" + 0.058*\"주문\"')\n",
            "(9, '0.230*\"구매\" + 0.147*\"증정\" + 0.077*\"사은\" + 0.076*\"상품\"')\n"
          ]
        }
      ]
    },
    {
      "cell_type": "code",
      "source": [
        "pyLDAvis.enable_notebook()\n",
        "vis3 = pyLDAvis.gensim_models.prepare(ldamodel3, corpus3, dictionary3)\n",
        "pyLDAvis.display(vis3)"
      ],
      "metadata": {
        "colab": {
          "base_uri": "https://localhost:8080/",
          "height": 918
        },
        "id": "9oPH5bkVyLbE",
        "outputId": "34585ed4-be9c-401c-9550-bc6e4dd6b300"
      },
      "execution_count": null,
      "outputs": [
        {
          "output_type": "stream",
          "name": "stderr",
          "text": [
            "/usr/local/lib/python3.10/dist-packages/ipykernel/ipkernel.py:283: DeprecationWarning: `should_run_async` will not call `transform_cell` automatically in the future. Please pass the result to `transformed_cell` argument and any exception that happen during thetransform in `preprocessing_exc_tuple` in IPython 7.17 and above.\n",
            "  and should_run_async(code)\n"
          ]
        },
        {
          "output_type": "execute_result",
          "data": {
            "text/plain": [
              "<IPython.core.display.HTML object>"
            ],
            "text/html": [
              "\n",
              "<link rel=\"stylesheet\" type=\"text/css\" href=\"https://cdn.jsdelivr.net/gh/bmabey/pyLDAvis@3.4.0/pyLDAvis/js/ldavis.v1.0.0.css\">\n",
              "\n",
              "\n",
              "<div id=\"ldavis_el3081392774741959203552509456\" style=\"background-color:white;\"></div>\n",
              "<script type=\"text/javascript\">\n",
              "\n",
              "var ldavis_el3081392774741959203552509456_data = {\"mdsDat\": {\"x\": [-0.02428939217932505, 0.3845317645520801, 0.024829496954503875, -0.05335225839578825, -0.01043701567182492, -0.19094015238854048, -0.1130614726345118, -0.059088333147434426, -0.1079241256103156, 0.14973148852115592], \"y\": [-0.16950886552628688, -0.05419539841438001, -0.10062442099848522, -0.10836906563737071, -0.13007889249109003, 0.09151573173886364, 0.1002947779829293, -0.08051655455808536, 0.12211490967550054, 0.3293677782284049], \"topics\": [1, 2, 3, 4, 5, 6, 7, 8, 9, 10], \"cluster\": [1, 1, 1, 1, 1, 1, 1, 1, 1, 1], \"Freq\": [15.501874317337544, 13.245961669887665, 12.977072257340645, 12.377927074111938, 10.26723998989635, 8.566119991923914, 8.266165765898974, 7.51083893835338, 5.799705924292372, 5.487094070957217]}, \"tinfo\": {\"Term\": [\"\\uad6c\\ub9e4\", \"\\ud589\\uc0ac\", \"\\uc8fc\\ubb38\", \"\\uc99d\\uc815\", \"\\uc774\\ubca4\\ud2b8\", \"\\uc0d8\\ud50c\", \"\\ubc1c\\uc1a1\", \"\\uc0ac\\uc740\", \"\\uc9c4\\ud589\", \"\\uc81c\\ud488\", \"\\ud655\\uc778\", \"\\ucd9c\\uace0\", \"\\uc624\\ub298\", \"\\uc694\\uccad\", \"\\uc635\\uc158\", \"\\uc0c1\\ud488\", \"\\ucd94\\uac00\", \"\\ubc15\\uc2a4\", \"\\uc9c0\\uae08\", \"\\ud604\\uc7ac\", \"\\uc885\\ub8cc\", \"\\ubc30\\uc1a1\", \"\\uc591\\ud574\", \"\\uc250\\uc774\\ud06c\", \"\\uc138\\ud2b8\", \"\\uc120\\ud0dd\", \"\\ucee4\\ud53c\", \"\\ud558\\ub098\\uc694\", \"\\ud558\\ub8e8\", \"\\ud560\\uc778\", \"\\uad6c\\ub9e4\", \"\\ucea1\\uc290\", \"\\uacc4\\uc18d\", \"\\uc800\\ubc88\", \"\\ub300\\uc0c1\", \"\\ubca0\\uc774\\ube44\", \"\\uc870\\uae30\", \"\\ud638\\ubc15\", \"\\uac8c\\uc2dc\\ud310\", \"\\ubcc0\\ub3d9\", \"\\ud61c\\ud0dd\", \"\\uc2a4\\ud0c0\\ubc85\\uc2a4\", \"\\uac89\\uc808\\uc774\", \"\\uc810\\uc548\", \"\\uc728\\ubb34\", \"\\uc624\\ub2c8\", \"\\uc0dd\\uac01\", \"\\uad50\\ucc28\", \"\\uc694\\uac70\\ud2b8\", \"\\uc124\\uba85\", \"\\ud788\\ube44\\uc2a4\\ucee4\\uc2a4\", \"\\ub0a8\\uc544\", \"\\uacfc\\ud14c\\ub9d0\\ub77c\", \"\\ub9cc\\ud07c\", \"\\uc18c\\ub7c9\", \"\\ud0c0\\uc784\", \"\\uc190\\uc9c8\", \"\\uc774\\uc810\", \"\\uc591\\ubc30\\ucd94\", \"\\ub178\\ub2c8\", \"\\uc99d\\uc815\", \"\\ubcc4\\ub3c4\", \"\\uac00\\uaca9\", \"\\uc0c1\\ud488\", \"\\ucd94\\uac00\", \"\\uad6c\\uc131\", \"\\ubaa8\\ub4e0\", \"\\ucc38\\uace0\", \"\\uc218\\ub7c9\", \"\\ubc15\\uc2a4\", \"\\uc0ac\\uc740\", \"\\uc138\\ud2b8\", \"\\uace0\\uac1d\", \"\\ud310\\ub9e4\", \"\\ud3ec\\ud568\", \"\\ubb38\\uc758\", \"\\ud574\\ub2f9\", \"\\ud604\\uc7ac\", \"\\ubcf4\\ud2c0\", \"\\ud589\\uc0ac\", \"\\uc9c4\\ud589\", \"\\uc885\\ub8cc\", \"\\ud558\\ub098\\uc694\", \"\\uadf8\\ub9b0\", \"\\uae30\\uac04\", \"\\uc911\\uc774\", \"\\ud328\\ubc00\\ub9ac\", \"\\ud37c\\uc13c\\ud2b8\", \"\\ub9ac\\ubdf0\", \"\\uacf5\\uc9c0\", \"\\uc774\\ubca4\\ud2b8\", \"\\uae40\\uce58\", \"\\uc5ec\\ub984\", \"\\uc0ac\\uc9c4\", \"\\ud50c\\ub7ec\\uc2a4\", \"\\uc624\\uc77c\", \"\\uc548\\uc2ec\", \"\\uba40\\ud2f0\", \"\\uc2dc\\uc791\", \"\\uc751\\ubaa8\", \"\\ubbf8\\uc815\", \"\\ud3ec\\ud1a0\", \"\\ubc1c\\ud45c\", \"\\ucc38\\uc5ec\", \"\\ud574\\uc218\\uc695\\uc7a5\", \"\\uc8fc\\uc2a4\", \"\\ubc8c\\uc368\", \"\\ub179\\ucc28\", \"\\ubcf4\\ub0c9\", \"\\ud604\\uc7ac\", \"\\ud560\\uc778\", \"\\ud488\\uc808\", \"\\ud55c\\uc815\", \"\\ubb38\\uc758\", \"\\ubc88\\ud638\", \"\\uc608\\uc815\", \"\\ucc38\\uace0\", \"\\ud574\\ub2f9\", \"\\uc218\\ub839\", \"\\ucfe0\\ud3f0\", \"\\uc81c\\ud488\", \"\\uc591\\ud574\", \"\\uc624\\ub298\", \"\\ud558\\ub8e8\", \"\\ubb38\\uac74\", \"\\uacb0\\uc81c\", \"\\uc18c\\uc2a4\", \"\\uae08\\uc561\", \"\\ucd94\\uc5b5\", \"\\ucf00\\ub0d0\", \"\\ubb34\\ub4dc\", \"\\uc2dd\\ucd08\", \"\\uc0ac\\uc6a9\", \"\\uc644\\ub8cc\", \"\\uac74\\uac15\", \"\\uc624\\ud6c4\", \"\\uc815\\uc0c1\", \"\\uad00\\uc2ec\", \"\\ucde8\\uc18c\", \"\\uc775\\uc77c\", \"\\ubb3c\\ub958\", \"\\uce74\\ub204\", \"\\uc9c0\\ub09c\\ubc88\", \"\\uc544\\uc8fc\", \"\\uc0ac\\ub791\", \"\\ud55c\\ubc88\", \"\\uc2a4\\ud150\", \"\\uacb0\\uacfc\", \"\\ubbf8\\ub2c8\", \"\\ubbf8\\ud0a4\\ub9c8\\uc6b0\\uc2a4\", \"\\ubcf6\\uc74c\\ubc25\", \"\\uc774\\uc804\", \"\\ud655\\uc778\", \"\\ucfe0\\ud3f0\", \"\\uac10\\uc0ac\", \"\\ub2e4\\uc2dc\", \"\\ud3ec\\ud568\", \"\\ub0b4\\uc77c\", \"\\ucd9c\\uace0\", \"\\uc801\\uc6a9\", \"\\uc608\\uc815\", \"\\uc8fc\\ubb38\", \"\\ud504\\ub85c\", \"\\uc0ac\\uc740\", \"\\uc0c1\\ud488\", \"\\ud560\\uc778\", \"\\uace0\\uac1d\", \"\\uc99d\\uc815\", \"\\uac00\\uaca9\", \"\\ubb38\\uc758\", \"\\ud140\\ube14\\ub7ec\", \"\\uc635\\uc158\", \"\\uc120\\ud0dd\", \"\\ub3c4\\ub77c\\uc9c0\", \"\\uae30\\uc7ac\", \"\\uc2e0\\uccad\", \"\\uc720\\uc0b0\\uade0\", \"\\ud654\\uc774\\ud2b8\\uace8\\ub4dc\", \"\\uc774\\uc6a9\", \"\\ucf5c\\ub77c\\uac90\", \"\\ub2f4\\uc694\", \"\\uc8fc\\uc18c\", \"\\ub538\\uae30\", \"\\ud45c\\uae30\", \"\\uc624\\uba54\\uac00\", \"\\ub85c\\uc2a4\\ud305\", \"\\uc2dc\\uc77c\", \"\\uc1a1\\ud574\", \"\\uc0ac\\ub3c4\", \"\\ubcf4\\uc2dc\", \"\\ubb34\\ub98e\", \"\\ud604\\ubbf8\", \"\\uc548\\ubcf4\", \"\\ubcc4\\ub85c\", \"\\uacf5\\uc7a5\", \"\\uc1a1\\uc7a5\", \"\\ub2f9\\uc2dc\", \"\\ubcf4\\ub108\\uc2a4\", \"\\uc7ac\\ubc1c\", \"\\uc785\\uae08\", \"\\uc11d\\ub958\", \"\\uc790\\ub3d9\", \"\\uc9c0\\uae09\", \"\\uc81c\\ud488\", \"\\ub3d9\\uc77c\", \"\\uc138\\ud2b8\", \"\\uacbd\\uc6b0\", \"\\uc8fc\\ubb38\", \"\\uc0ac\\uc740\", \"\\uc99d\\uc815\", \"\\uc0c1\\ud488\", \"\\ub9ac\\uc9c0\", \"\\ud574\\ub2f9\", \"\\ud655\\uc778\", \"\\ucc38\\uace0\", \"\\uc801\\uc6a9\", \"\\ubc30\\uc1a1\", \"\\ubb38\\uc758\", \"\\ubc1c\\uc1a1\", \"\\uace8\\ub4dc\", \"\\uace0\\uac1d\", \"\\ubcc0\\uacbd\", \"\\ucc98\\ub9ac\", \"\\uc7ac\\uace0\", \"\\uc18c\\uc9c4\", \"\\uc0ac\\uba74\", \"\\ub5a1\\ubcf6\\uc774\", \"\\ucd5c\\uadfc\", \"\\uc548\\ub0b4\", \"\\uc5b4\\uc81c\", \"\\uac80\\uc218\", \"\\uc784\\uc758\", \"\\uc81c\\uc870\", \"\\uc9c0\\uc5f0\", \"\\uc0c1\\ud669\", \"\\ub9db\\ubcf4\\uae30\", \"\\ucc38\\uce58\", \"\\ub300\\uccb4\", \"\\ucd5c\\ub300\\ud55c\", \"\\uc218\\ub3c4\", \"\\ub354\\uc6b1\", \"\\ubc43\\uc0b4\", \"\\uc9c4\\uc2dc\", \"\\uc0ac\\ub9ac\", \"\\uacf1\\ucc3d\", \"\\uc548\\uc8fc\\uc2dc\", \"\\uc2e0\\uacbd\", \"\\uc0ac\\uc774\", \"\\uc5c5\\uccb4\", \"\\uadf8\\ub7a8\", \"\\uac00\\uc6a9\", \"\\uc591\\ud574\", \"\\ubc1c\\uc1a1\", \"\\ub79c\\ub364\", \"\\ubd80\\ubd84\", \"\\uc900\\ube44\", \"\\ud3ec\\uc7a5\", \"\\uc11c\\ube44\\uc2a4\", \"\\ud140\\ube14\\ub7ec\", \"\\uc0ac\\uc740\", \"\\uc0c1\\ud488\", \"\\uacbd\\uc6b0\", \"\\uc608\\uc815\", \"\\ud604\\uc7ac\", \"\\uace0\\uac1d\", \"\\ub9d0\\uc500\", \"\\uc9c0\\uae08\", \"\\uad6c\\uc785\", \"\\uc74c\\uc6a9\", \"\\ubcf4\\uace0\", \"\\ubb34\\ub8cc\", \"\\ub4dc\\ub9bd\", \"\\ud2f0\\ubc31\", \"\\ub313\\uae00\", \"\\ubd84\\uc1c4\", \"\\uace0\\uad6c\\ub9c8\", \"\\ucd94\\ucc9c\", \"\\uac00\\ub8e8\", \"\\ub2f9\\uba74\", \"\\ud30c\\uc6b0\\uce58\", \"\\uc2dc\\ub098\", \"\\ubb3c\\ub7c9\", \"\\ub0a0\\uc9dc\", \"\\ub808\\ubaac\", \"\\ud488\\ubaa9\", \"\\uacfc\\uc9c0\", \"\\uac2f\\uc218\", \"\\uac00\\uccb4\", \"\\uba38\\uadf8\", \"\\uc6d0\\ub798\", \"\\ud2f0\\uc2a4\\ud47c\", \"\\uc2a4\\ud2f1\", \"\\uba55\\uc2dc\\ucf54\", \"\\ubd80\\ub300\\ucc0c\\uac1c\", \"\\ud22c\\ub77c\", \"\\uc785\\uc790\", \"\\ub3d9\\ubd09\", \"\\uc0ac\\uc740\", \"\\ubaa8\\uce74\", \"\\uace8\\ub4dc\", \"\\ubcf4\\ud2c0\", \"\\uc8fc\\ubb38\", \"\\ubc30\\uc1a1\", \"\\ub79c\\ub364\", \"\\ubc29\\uae08\", \"\\uba54\\uc138\\uc9c0\", \"\\ucfe0\\ud0a4\", \"\\ube14\\ub8e8\\ubca0\\ub9ac\", \"\\ud0a4\\uc988\", \"\\ubb38\\uc758\\uc0ac\\ud56d\", \"\\ud06c\\ub9bc\", \"\\ubd09\\uc9c0\", \"\\uc824\\ub9ac\", \"\\ubb36\\uc74c\", \"\\uacfc\\uc790\", \"\\ub77c\\ub5bc\", \"\\uc0c1\\ud0dc\", \"\\uc544\\uc774\\uc2a4\", \"\\ucf54\\ucf54\\uc544\", \"\\ubc14\\ub098\\ub098\", \"\\uc911\\ubcf5\", \"\\ube14\\ub80c\\ub4dc\", \"\\uc544\\uba54\\ub9ac\\uce74\\ub178\", \"\\uc8fc\\ub9d0\", \"\\uc0ac\\uc774\\uc988\", \"\\ubc1c\\uae09\", \"\\uac1c\\uc778\", \"\\ub2ec\\ub77c\", \"\\uc0ac\\ub78c\", \"\\uc2ec\\ud50c\", \"\\uac1c\\uc2dc\", \"\\uae00\\ub77c\\uc2a4\", \"\\uce74\\ub4dc\", \"\\ud1b5\\ubcf4\", \"\\ubc15\\uc2a4\", \"\\uc8fc\\ubb38\", \"\\ucd94\\uac00\", \"\\ubc30\\uc1a1\", \"\\ub9c8\\uac10\", \"\\uc11c\\ube44\\uc2a4\", \"\\ubb38\\uc758\", \"\\uc0ac\\uc740\", \"\\ub2f5\\ubcc0\", \"\\ud3ed\\uc8fc\", \"\\uc694\\uccad\", \"\\ucee4\\ud53c\", \"\\uae08\\uc77c\", \"\\uc77c\\uc815\", \"\\ub204\\ub77d\", \"\\uc0ac\\ud56d\", \"\\uc0dd\\uc0b0\", \"\\uae30\\ud55c\", \"\\ucc28\\ub85c\", \"\\uc720\\ud1b5\", \"\\ub178\\ub825\", \"\\ucd5c\\uc2e0\", \"\\uc21c\\ucc28\", \"\\ud544\\ud130\", \"\\ubc18\\uc601\", \"\\ubaa8\\ub2dd\", \"\\ud5c8\\ube0c\\ucc28\", \"\\ubd09\\ud558\", \"\\ucd94\\uc11d\", \"\\ub300\\ud55c\", \"\\ub77c\\ub9cc\", \"\\ub2e8\\ud638\\ubc15\", \"\\uacf0\\ub3cc\\uc774\", \"\\uc790\\uc5f0\", \"\\uce74\\ud398\", \"\\uc0dd\\ud65c\", \"\\uac70\\uc6b8\", \"\\uc791\\uc5c5\", \"\\ub098\\uba38\\uc9c0\", \"\\uad6d\\ud654\", \"\\ucd9c\\uace0\", \"\\ud310\\ub9e4\", \"\\uc804\\ub2ec\", \"\\ud0dd\\ubc30\", \"\\ubc30\\uc1a1\", \"\\uc774\\uba74\", \"\\uc81c\\ud488\", \"\\ubc1c\\uc1a1\", \"\\ud3ec\\uc7a5\", \"\\uc0ac\\uc740\", \"\\uace0\\uac1d\", \"\\ub2e4\\uc2dc\", \"\\uc250\\uc774\\ud06c\", \"\\uc2a4\\ud47c\", \"\\uac00\\uc871\", \"\\uc120\\ucc29\\uc21c\", \"\\ud68c\\uc218\", \"\\uacc4\\ub7c9\", \"\\ubcf4\\uad00\", \"\\uac1c\\uc0ac\", \"\\uc9c0\\uc815\", \"\\ud2b9\\ubcc4\", \"\\uc774\\uc81c\", \"\\uad00\\ub828\", \"\\ud398\\ud2b8\\ubcd1\", \"\\ub0c9\\uc7a5\", \"\\ubb54\\uac00\", \"\\ubbf8\\ub9ac\", \"\\ubcf4\\ub2f5\", \"\\ud56d\\uc0c1\", \"\\uc218\\uac00\", \"\\ucef5\\ud640\\ub354\", \"\\uae30\\uc874\", \"\\uad6d\\ubb3c\", \"\\ud398\\uc774\\uc9c0\", \"\\ub4dc\\ub86d\", \"\\uba54\\ubaa8\", \"\\ubc1c\\ud3ec\", \"\\uc544\\uae30\", \"\\uac1c\\uc785\", \"\\uc81c\\uc548\", \"\\uc218\\uc815\", \"\\ub300\\uc2e0\", \"\\uc0ac\\uc740\", \"\\uc81c\\uacf5\", \"\\ubc30\\uc1a1\", \"\\uc11c\\ube44\\uc2a4\", \"\\uc0d8\\ud50c\", \"\\ubc30\\uc999\", \"\\uc6d0\\ub450\", \"\\ud64d\\uc0bc\", \"\\uc120\\ubb3c\", \"\\uacfc\\uc999\", \"\\uba38\\uadf8\\ucef5\", \"\\uacc4\\ud68d\", \"\\ud6c4\\uae30\", \"\\uc1fc\\ud551\", \"\\uc815\\ub9d0\", \"\\ub2f9\\ucca8\", \"\\uc8fc\\uc2ec\", \"\\uc77c\\ubc18\", \"\\uc9c4\\uc2ec\", \"\\uc548\\uc8fc\", \"\\ucd94\\ud6c4\", \"\\uc778\\ub3c4\\ub124\\uc2dc\\uc544\", \"\\uc2e0\\uc81c\\ud488\", \"\\uac10\\uae30\", \"\\ucde8\\ud5a5\", \"\\ub2f9\\ubd84\\uac04\", \"\\ube0c\\ub77c\\uc9c8\", \"\\ud2b9\\uac00\", \"\\ucf00\\uc774\\uc2a4\", \"\\uc544\\uc774\\uc2a4\\ubc15\\uc2a4\", \"\\ubcf4\\ud1b5\", \"\\uadf8\\ub77c\\uc2a4\", \"\\uc655\\uc790\", \"\\ud1a0\\uc2a4\", \"\\ube44\\ud0c0\\ubbfc\", \"\\uc218\\ub7c9\", \"\\uc911\\uc778\", \"\\uc801\\uc6a9\", \"\\uc900\\ube44\", \"\\uc8fc\\ubb38\", \"\\uc758\\uc8fc\", \"\\uac10\\uc0ac\", \"\\uc774\\ubca4\\ud2b8\"], \"Freq\": [2456.0, 1364.0, 2576.0, 2130.0, 1218.0, 770.0, 1358.0, 4089.0, 797.0, 1108.0, 920.0, 752.0, 670.0, 486.0, 593.0, 1586.0, 660.0, 562.0, 404.0, 729.0, 448.0, 842.0, 464.0, 284.0, 567.0, 363.0, 284.0, 323.0, 312.0, 418.0, 2455.975786422515, 176.2260496652431, 102.15203472159222, 68.63168925029538, 66.30408658264555, 59.72021449086025, 59.57917970121352, 54.82977744186058, 51.69983558445615, 48.480998079010924, 45.977286823676714, 37.87188895140948, 35.45880320805835, 34.97721355389616, 31.938929666724434, 31.53937576973296, 30.86868493428838, 25.91751402512883, 25.55328707699583, 24.817712693426543, 23.61617947794536, 23.203603204906365, 23.160262295259358, 21.57702479752536, 21.37812022661314, 21.172335909864493, 19.6822827329005, 19.121562351330056, 19.115926022760604, 18.368281060592665, 1562.4309821333118, 56.125532400102976, 176.92500404527107, 808.0019055743196, 341.13445083785666, 84.39648288595932, 34.44875873356181, 224.92742297939094, 127.16977875527071, 207.95742295947312, 817.0733220150977, 205.11397337511414, 166.74055790146744, 82.6099578334938, 70.89358687058822, 95.39933088728573, 75.78963294757864, 89.59188229044119, 41.323064309210835, 1364.0158923163315, 797.0422423429027, 447.265135858445, 322.59578748538274, 144.19585339861317, 133.60468110377363, 124.62449989060558, 113.34686673056363, 89.8695132359905, 61.392957848356495, 54.97280893958183, 1193.3637095917363, 40.42083786932292, 39.15236466634184, 36.855591342240125, 36.434679809185525, 33.823396640619116, 33.38203735516016, 32.98879454494518, 30.180670479218406, 28.858558508184693, 28.720993189478406, 28.429779192365086, 27.40571834287444, 26.27078325658596, 25.750561642910768, 25.55309301968613, 25.291549682590375, 24.177944558310095, 23.772302037629625, 545.573484439448, 301.0404209234036, 74.99796173674099, 56.9105441618828, 176.24747837795735, 41.46006805846804, 132.88331357972703, 145.08398398613926, 124.58955930062277, 50.57098170730495, 73.07675522033503, 89.25327286213981, 47.462308339955, 669.9868463227086, 311.72727158881, 225.92123121826342, 215.5369207709327, 159.18497828444654, 148.6859651231358, 66.64963169140172, 60.70283366647872, 58.719898655963014, 58.59800728471643, 56.16782144401204, 54.311485751958514, 48.967196933008516, 46.173738738044186, 45.45336048465929, 43.45846238496997, 39.51638972819604, 37.28859159895058, 36.470318792651035, 34.53685047024486, 33.670197585012204, 33.171344246000125, 31.975440469727047, 31.451894300769077, 31.251891727617085, 30.62905274957673, 28.83244316458711, 28.56795875128361, 28.40586491815625, 26.978469756727822, 743.7163081512767, 291.5219422427334, 152.58043889610153, 128.2589093309653, 170.53501211790515, 64.68758118459793, 277.0405957886629, 149.96626082701277, 160.18278053421471, 522.5114344620847, 49.901493836531316, 388.6294493796107, 222.91397903195772, 116.25396804405914, 119.57704744666565, 191.4372838636191, 78.85327078938954, 73.28435512967975, 54.17577387547003, 593.1025151939253, 362.588122673578, 117.5199668328293, 113.14911103180977, 110.9598544431124, 94.25994889230014, 73.70396774666139, 70.11318140147166, 57.9820423307264, 54.04541763648304, 48.548982996542364, 46.298602153984504, 45.55649457751379, 37.28636955447468, 35.34993717985507, 33.920580073709324, 33.85406157075636, 32.62237139177036, 31.698458596345688, 29.567744076877116, 29.11984304716198, 28.97581738908199, 28.868580430543766, 28.187882475997217, 28.07052287808928, 26.93111756013867, 26.410039439318208, 25.88867793215674, 24.131763868536368, 23.489725359726773, 70.1535451287, 114.55467557564683, 786.8480888142758, 54.68937048938644, 361.27520762774657, 256.6368106773237, 491.1380645614567, 625.0778164830411, 375.77850043533124, 290.1691593907427, 49.570790909865316, 126.88887780436697, 176.416930883252, 125.9464101396356, 91.35227027641687, 98.14817595563373, 83.67601997455199, 72.53473552088903, 52.62141118153116, 52.844045832539564, 234.6549936522332, 228.54913573021926, 168.0284206415184, 134.10371329414795, 127.51789241110008, 85.98075920239374, 85.94090036807697, 82.73866187066857, 69.49274669770338, 59.99045188310681, 45.61665071001289, 45.04239944741139, 43.240621674084565, 40.96870099400492, 39.75473911132241, 39.63664531492741, 37.0620815424801, 35.534288872512406, 35.23998641546821, 33.44226553768303, 31.156934746651707, 28.403236351616748, 27.90018459205042, 27.233893744696967, 26.131064170314303, 25.692100839993383, 25.380711093988324, 24.070218768117982, 23.87797156216902, 23.34630783996174, 396.13313891685954, 1000.116356637411, 198.04065003829174, 113.8402762110972, 126.95892190253225, 152.40601945654686, 176.98817636077013, 108.17733659941761, 480.3771983420747, 265.1981437741373, 113.11732033006807, 78.27751016744887, 93.42587921760781, 61.29671307075827, 46.5230052278254, 404.1087177679007, 202.0616878980921, 113.71538157276073, 97.536352451742, 86.33878731623426, 86.31487476186014, 82.07689976334714, 73.94109062922843, 58.01878546315348, 54.97310282361722, 54.59585608372289, 52.59631341187288, 48.34925943251813, 47.33358753709476, 43.817981237821, 43.61725347438302, 38.23931780132822, 37.58832744602998, 37.47025406588055, 36.61341770598097, 34.349092455104675, 34.12439727940229, 31.392471600441965, 30.963189408720226, 30.083279820167846, 27.847436785926195, 27.180447126927074, 26.98472240308285, 26.82380775351735, 24.271456635502098, 152.79466144693765, 1051.8470315007335, 72.9571265943883, 81.78762313630975, 71.2234033156909, 405.17181979526225, 204.50508027442834, 64.34788289555401, 162.1261538541469, 76.93849311314635, 71.09463835352739, 67.99086984389656, 67.0687290468089, 65.13023023807891, 60.68266210503593, 58.473930665190814, 56.73670350016143, 52.34892767178161, 51.48161369181626, 50.40644800310415, 47.614409413322804, 44.65978022191025, 44.56011049971476, 42.578740687946734, 40.10469710810508, 37.40927642434939, 37.015165995852875, 35.52213706137788, 34.884384240484536, 31.386531770840886, 31.26666130189066, 30.365592064671244, 29.00406649772968, 28.774476223325617, 28.263044240858548, 27.85574456693766, 25.410824259703745, 24.04167841630688, 353.36147790792126, 1017.224145127923, 319.117612444876, 203.1501649252812, 51.15746475941788, 95.61450698363092, 106.98928491385968, 249.9900218065902, 46.47471885506317, 36.29686428538407, 485.53418345254113, 283.59983191726855, 210.454637149666, 101.68403615573385, 101.20946415077358, 91.36428839936673, 77.4654142424993, 59.84896799046309, 58.00984274185577, 51.98083408437792, 51.82890120186068, 41.11169025237467, 38.929601304913874, 33.65318157738113, 31.241678162003133, 30.38392860868529, 29.172921996315566, 24.228859958646837, 23.468618348292537, 23.073690015372033, 21.734855742276796, 21.41220459488025, 20.82557204822734, 19.320037047218076, 18.8637056942262, 18.85015116663784, 18.7307866681876, 18.683070450193124, 18.303986196007916, 16.88808640090391, 474.81677529381767, 125.70216842420685, 33.003494984540914, 51.68483263893428, 271.59194422847537, 43.734529820573755, 231.86728907281656, 252.4866403834429, 81.89215556550529, 197.03667455324555, 66.4540536904091, 31.275735235313775, 283.83684631084725, 101.05975156207964, 89.62020481246238, 87.34915033274905, 78.98287263026319, 74.31367988081682, 60.375441335420106, 58.983150315815585, 54.06465182526876, 52.93760401879458, 48.12260438529385, 44.20580813933247, 43.963927009415364, 43.964279854869304, 43.246547631611506, 42.192349411805736, 41.91911703476576, 40.909507337849476, 39.37385335322945, 36.00118193886403, 35.292686838174006, 32.56948505129913, 30.589037801610118, 30.51099767260617, 30.178758393180082, 29.24521660488838, 28.561691819849006, 27.74226025136019, 27.49213182322767, 27.08616827182367, 121.62743248999591, 279.1436006439305, 42.23792218780357, 64.96090571572883, 44.062018045609555, 769.3243640568439, 158.79427889837584, 145.93489817010132, 102.22521542295098, 86.45030548378587, 77.12604319226809, 69.23758674283972, 63.81071855889621, 57.36140973167432, 54.524941205172276, 47.666322294023765, 47.15170923978414, 44.24722441891233, 29.652627000332387, 26.72410666316129, 24.42985513801716, 23.43128661169481, 23.315331058390385, 23.08211451401762, 21.302641199438565, 21.30078934021492, 20.94122996385634, 20.49235088412735, 18.818359752044234, 18.363187162126348, 17.778981800496464, 17.757483366473206, 15.195032024658413, 13.927391340010239, 13.684221491555933, 78.4565706617951, 124.21428320757886, 38.12264455320127, 90.75711158025352, 49.999394340559185, 139.99823809103555, 24.51963692770239, 33.51274497385652, 23.275862210572594], \"Total\": [2456.0, 1364.0, 2576.0, 2130.0, 1218.0, 770.0, 1358.0, 4089.0, 797.0, 1108.0, 920.0, 752.0, 670.0, 486.0, 593.0, 1586.0, 660.0, 562.0, 404.0, 729.0, 448.0, 842.0, 464.0, 284.0, 567.0, 363.0, 284.0, 323.0, 312.0, 418.0, 2456.8499609684977, 177.05929986151472, 102.9854133877239, 69.46509465996515, 67.14039049044463, 60.55350660046585, 60.41261468214269, 55.66312634479863, 52.53346544276919, 49.314354893639276, 46.81058722766892, 38.705171028857706, 36.29204081310099, 35.810672138709464, 32.77300215625444, 32.37292413661272, 31.70196964035849, 26.750743604219235, 26.38678224697853, 25.651001501560103, 24.44966536982695, 24.036902306669074, 23.99482917096614, 22.410369513524476, 22.21170555017473, 22.005679609824934, 20.51555810205021, 19.954798331606156, 19.94918556826194, 19.20151680011146, 2130.270078868638, 62.7817710456657, 256.5160916425297, 1586.8119485320533, 660.9911019550933, 120.36062078163332, 41.65347265400827, 543.1914044788052, 252.14460687955977, 562.0579018866031, 4089.339301356981, 567.1056073115001, 484.2806846236773, 209.05818312468054, 242.16637661403857, 536.0317816792748, 432.5535778261275, 729.240908118585, 113.2962037276253, 1364.8685839141137, 797.8949305205283, 448.1178120038201, 323.44846364120446, 145.04879753271868, 134.45736285164094, 125.47721645687783, 114.19974812167034, 90.72225438238192, 62.24574003075009, 55.825504850711916, 1218.4249250740438, 41.273521187399446, 40.00504286182734, 37.70829925086623, 37.28737561898303, 34.67605788734838, 34.234687251272376, 33.841525123437144, 31.03346082278992, 29.71121533940858, 29.573698451890763, 29.282443682533355, 28.25837781816252, 27.123446772087693, 26.603242875054445, 26.406029003261526, 26.14425985867601, 25.030623732807918, 24.624984035079436, 729.240908118585, 418.0515746118101, 90.2497300685143, 91.10961908122147, 536.0317816792748, 55.89036794729588, 372.0086187492113, 543.1914044788052, 432.5535778261275, 128.54242202324576, 365.35586590920775, 1108.6173054501005, 464.881633508557, 670.8354886745184, 312.5759194912143, 226.7756029322489, 216.3855259956618, 160.03358530701647, 149.53455554379804, 67.49830006232166, 61.55171925168517, 59.568506109040044, 59.44681323495782, 57.01673472504948, 55.160123802556434, 49.81582289097716, 47.02235963169534, 46.302010189596594, 44.307074466871875, 40.36503350934296, 38.13752508420886, 37.318967570990075, 35.38545896293957, 34.51890198161972, 34.02045234910872, 32.82408012887673, 32.300625145696564, 32.10050222519366, 31.47765208237414, 29.681026285927786, 29.416639893326877, 29.254495176205403, 27.827095842236496, 920.8651013242189, 365.35586590920775, 186.86907655793803, 160.2960883665939, 242.16637661403857, 83.93070598699656, 752.828546070331, 332.7347041639657, 372.0086187492113, 2576.524973660231, 69.29099136110597, 4089.339301356981, 1586.8119485320533, 418.0515746118101, 484.2806846236773, 2130.270078868638, 256.5160916425297, 536.0317816792748, 212.50828515897368, 593.9297852180648, 363.41540060966673, 118.34774967808112, 113.97647865966681, 111.78731874688361, 95.0872337015237, 74.53123643761964, 70.98879758410061, 58.80934794548516, 54.87265681036749, 49.37627546699919, 47.12596454955583, 46.38375902815638, 38.113651896503626, 36.1776386198753, 34.74794932500515, 34.681344358633915, 33.449638498422466, 32.52574748687803, 30.394977938140467, 29.947102621088828, 29.803093929539315, 29.69585382797584, 29.01528058985503, 28.898133046900252, 27.75841235037041, 27.237457254353227, 26.71599515219236, 24.95908303084823, 24.31701952883323, 73.50057561000872, 129.09601368762802, 1108.6173054501005, 60.63851801059078, 567.1056073115001, 391.69509473094735, 2576.524973660231, 4089.339301356981, 2130.270078868638, 1586.8119485320533, 75.7125257051566, 432.5535778261275, 920.8651013242189, 543.1914044788052, 332.7347041639657, 842.9095848091798, 536.0317816792748, 1358.732450558298, 135.15276085133536, 484.2806846236773, 235.5069069431798, 229.40102316147707, 168.8802889760847, 134.9555961577835, 128.36975143883515, 86.83268024906162, 86.79281899083549, 83.59056762501783, 70.34466905556201, 60.84236609160759, 46.46858167170579, 45.89427912050969, 44.092507103077644, 41.82055436145931, 40.606644682769385, 40.488480942168835, 37.91401403576052, 36.38619405681951, 36.09185779539747, 34.29435984339144, 32.00886886292937, 29.255137813538816, 28.752060807039197, 28.085738761903386, 26.982951315006, 26.543961445472796, 26.232905367739118, 24.92207154522255, 24.729849912858377, 24.198255868290122, 464.881633508557, 1358.732450558298, 263.15686064403275, 156.00119275299747, 177.73750121516892, 235.06283633425784, 317.3228911463402, 212.50828515897368, 4089.339301356981, 1586.8119485320533, 391.69509473094735, 372.0086187492113, 729.240908118585, 484.2806846236773, 130.5311726496921, 404.96924849278844, 202.92221383155308, 114.57593929538336, 98.39699063489051, 87.19931990674885, 87.17563942735184, 82.93750044720971, 74.80167819802537, 58.87933959678975, 55.83373222431359, 55.456704717535146, 53.457089954989634, 49.20980555658952, 48.19414861276399, 44.678484946289224, 44.47791998150225, 39.099984300089275, 38.44884193988363, 38.33080656224055, 37.474048277045526, 35.20961973862575, 34.985202189538946, 32.25299693096181, 31.823726275348466, 30.94380561053091, 28.707964953062522, 28.041011499004885, 27.845222430235438, 27.684376715612817, 25.132027806772992, 170.72747645256786, 4089.339301356981, 112.27456587774611, 135.15276085133536, 113.2962037276253, 2576.524973660231, 842.9095848091798, 263.15686064403275, 162.9759996200825, 77.78836651178139, 71.94448761175929, 68.8407218360953, 67.91860721377289, 65.98006253680103, 61.53260409103494, 59.32377456554473, 57.586592887780554, 53.19879503444466, 52.33158744295658, 51.25629753129618, 48.46437024137653, 45.50961868237874, 45.40999575455695, 43.42864715466969, 40.95457559752186, 38.25921724119031, 37.865037519796694, 36.37204386374766, 35.734258504742705, 32.23642279331029, 32.11733947352844, 31.21551004398378, 29.853944740591942, 29.624299572498433, 29.112887639004985, 28.705695570767432, 26.260688943295968, 24.89159376197782, 562.0579018866031, 2576.524973660231, 660.9911019550933, 842.9095848091798, 86.85963029665177, 317.3228911463402, 536.0317816792748, 4089.339301356981, 84.5898586524083, 50.832988416315175, 486.3910913468547, 284.45676807426486, 211.31150138205555, 102.54094791829978, 102.0662884161404, 92.221167441995, 78.32226921511491, 60.70579572019406, 58.86671687033622, 52.837646063282584, 52.68576380664807, 41.9685172796252, 39.78643068224024, 34.510021746419426, 32.09850566907756, 31.240752347911968, 30.029740117541007, 25.085671728554836, 24.325459028692883, 23.93057679237206, 22.591699289726055, 22.26925684172851, 21.68241496903832, 20.1768932777198, 19.720586810147726, 19.7070098351549, 19.58761809219138, 19.539923192102762, 19.160880967958626, 17.744893416253863, 752.828546070331, 209.05818312468054, 42.56467941145097, 79.23717077285828, 842.9095848091798, 64.84912467121735, 1108.6173054501005, 1358.732450558298, 235.06283633425784, 4089.339301356981, 484.2806846236773, 160.2960883665939, 284.68145454970835, 101.9043645213374, 90.46498569621083, 88.1937768675233, 79.8274584012875, 75.15830009224665, 61.22005322516673, 59.82774351638283, 54.909287290485906, 53.782223883091014, 48.96721880459757, 45.050518436826636, 44.80850860635886, 44.80888810092136, 44.09116261840203, 43.03697908796248, 42.76377040337203, 41.754167952979294, 40.218573627884226, 36.84579226946532, 36.1373989709919, 33.414204741408106, 31.43368080930994, 31.355934053041736, 31.02338577138811, 30.08993371348022, 29.40629467563388, 28.58687664266703, 28.336726638625883, 27.930825977373495, 145.11994642611793, 4089.339301356981, 104.88018659235551, 842.9095848091798, 317.3228911463402, 770.1957821512335, 159.6656026595833, 146.80639227850563, 103.09655504092873, 87.32167448730789, 77.99740505377974, 70.1089440694412, 64.68205774206096, 58.23275263829652, 55.39629940720481, 48.53771835732102, 48.02305845774819, 45.118614298600306, 30.52401343519748, 27.595504560734014, 25.30121038207026, 24.30267655744561, 24.18668641110273, 23.953474353948636, 22.17399455341734, 22.17220036075894, 21.812718196485985, 21.363710037133707, 19.68972861317433, 19.234535727366374, 18.650361004222574, 18.628999947907644, 16.066635420686698, 14.798791754526505, 14.555582570407168, 100.50087766152322, 252.14460687955977, 75.59798318031875, 332.7347041639657, 177.73750121516892, 2576.524973660231, 40.31953386095518, 186.86907655793803, 1218.4249250740438], \"Category\": [\"Default\", \"Default\", \"Default\", \"Default\", \"Default\", \"Default\", \"Default\", \"Default\", \"Default\", \"Default\", \"Default\", \"Default\", \"Default\", \"Default\", \"Default\", \"Default\", \"Default\", \"Default\", \"Default\", \"Default\", \"Default\", \"Default\", \"Default\", \"Default\", \"Default\", \"Default\", \"Default\", \"Default\", \"Default\", \"Default\", \"Topic1\", \"Topic1\", \"Topic1\", \"Topic1\", \"Topic1\", \"Topic1\", \"Topic1\", \"Topic1\", \"Topic1\", \"Topic1\", \"Topic1\", \"Topic1\", \"Topic1\", \"Topic1\", \"Topic1\", \"Topic1\", \"Topic1\", \"Topic1\", \"Topic1\", \"Topic1\", \"Topic1\", \"Topic1\", \"Topic1\", \"Topic1\", \"Topic1\", \"Topic1\", \"Topic1\", \"Topic1\", \"Topic1\", \"Topic1\", \"Topic1\", \"Topic1\", \"Topic1\", \"Topic1\", \"Topic1\", \"Topic1\", \"Topic1\", \"Topic1\", \"Topic1\", \"Topic1\", \"Topic1\", \"Topic1\", \"Topic1\", \"Topic1\", \"Topic1\", \"Topic1\", \"Topic1\", \"Topic1\", \"Topic1\", \"Topic2\", \"Topic2\", \"Topic2\", \"Topic2\", \"Topic2\", \"Topic2\", \"Topic2\", \"Topic2\", \"Topic2\", \"Topic2\", \"Topic2\", \"Topic2\", \"Topic2\", \"Topic2\", \"Topic2\", \"Topic2\", \"Topic2\", \"Topic2\", \"Topic2\", \"Topic2\", \"Topic2\", \"Topic2\", \"Topic2\", \"Topic2\", \"Topic2\", \"Topic2\", \"Topic2\", \"Topic2\", \"Topic2\", \"Topic2\", \"Topic2\", \"Topic2\", \"Topic2\", \"Topic2\", \"Topic2\", \"Topic2\", \"Topic2\", \"Topic2\", \"Topic2\", \"Topic2\", \"Topic2\", \"Topic2\", \"Topic2\", \"Topic3\", \"Topic3\", \"Topic3\", \"Topic3\", \"Topic3\", \"Topic3\", \"Topic3\", \"Topic3\", \"Topic3\", \"Topic3\", \"Topic3\", \"Topic3\", \"Topic3\", \"Topic3\", \"Topic3\", \"Topic3\", \"Topic3\", \"Topic3\", \"Topic3\", \"Topic3\", \"Topic3\", \"Topic3\", \"Topic3\", \"Topic3\", \"Topic3\", \"Topic3\", \"Topic3\", \"Topic3\", \"Topic3\", \"Topic3\", \"Topic3\", \"Topic3\", \"Topic3\", \"Topic3\", \"Topic3\", \"Topic3\", \"Topic3\", \"Topic3\", \"Topic3\", \"Topic3\", \"Topic3\", \"Topic3\", \"Topic3\", \"Topic3\", \"Topic3\", \"Topic3\", \"Topic3\", \"Topic3\", \"Topic3\", \"Topic4\", \"Topic4\", \"Topic4\", \"Topic4\", \"Topic4\", \"Topic4\", \"Topic4\", \"Topic4\", \"Topic4\", \"Topic4\", \"Topic4\", \"Topic4\", \"Topic4\", \"Topic4\", \"Topic4\", \"Topic4\", \"Topic4\", \"Topic4\", \"Topic4\", \"Topic4\", \"Topic4\", \"Topic4\", \"Topic4\", \"Topic4\", \"Topic4\", \"Topic4\", \"Topic4\", \"Topic4\", \"Topic4\", \"Topic4\", \"Topic4\", \"Topic4\", \"Topic4\", \"Topic4\", \"Topic4\", \"Topic4\", \"Topic4\", \"Topic4\", \"Topic4\", \"Topic4\", \"Topic4\", \"Topic4\", \"Topic4\", \"Topic4\", \"Topic4\", \"Topic4\", \"Topic4\", \"Topic4\", \"Topic4\", \"Topic4\", \"Topic5\", \"Topic5\", \"Topic5\", \"Topic5\", \"Topic5\", \"Topic5\", \"Topic5\", \"Topic5\", \"Topic5\", \"Topic5\", \"Topic5\", \"Topic5\", \"Topic5\", \"Topic5\", \"Topic5\", \"Topic5\", \"Topic5\", \"Topic5\", \"Topic5\", \"Topic5\", \"Topic5\", \"Topic5\", \"Topic5\", \"Topic5\", \"Topic5\", \"Topic5\", \"Topic5\", \"Topic5\", \"Topic5\", \"Topic5\", \"Topic5\", \"Topic5\", \"Topic5\", \"Topic5\", \"Topic5\", \"Topic5\", \"Topic5\", \"Topic5\", \"Topic5\", \"Topic5\", \"Topic5\", \"Topic5\", \"Topic5\", \"Topic5\", \"Topic5\", \"Topic6\", \"Topic6\", \"Topic6\", \"Topic6\", \"Topic6\", \"Topic6\", \"Topic6\", \"Topic6\", \"Topic6\", \"Topic6\", \"Topic6\", \"Topic6\", \"Topic6\", \"Topic6\", \"Topic6\", \"Topic6\", \"Topic6\", \"Topic6\", \"Topic6\", \"Topic6\", \"Topic6\", \"Topic6\", \"Topic6\", \"Topic6\", \"Topic6\", \"Topic6\", \"Topic6\", \"Topic6\", \"Topic6\", \"Topic6\", \"Topic6\", \"Topic6\", \"Topic6\", \"Topic6\", \"Topic6\", \"Topic6\", \"Topic6\", \"Topic6\", \"Topic7\", \"Topic7\", \"Topic7\", \"Topic7\", \"Topic7\", \"Topic7\", \"Topic7\", \"Topic7\", \"Topic7\", \"Topic7\", \"Topic7\", \"Topic7\", \"Topic7\", \"Topic7\", \"Topic7\", \"Topic7\", \"Topic7\", \"Topic7\", \"Topic7\", \"Topic7\", \"Topic7\", \"Topic7\", \"Topic7\", \"Topic7\", \"Topic7\", \"Topic7\", \"Topic7\", \"Topic7\", \"Topic7\", \"Topic7\", \"Topic7\", \"Topic7\", \"Topic7\", \"Topic7\", \"Topic7\", \"Topic7\", \"Topic7\", \"Topic7\", \"Topic7\", \"Topic7\", \"Topic8\", \"Topic8\", \"Topic8\", \"Topic8\", \"Topic8\", \"Topic8\", \"Topic8\", \"Topic8\", \"Topic8\", \"Topic8\", \"Topic8\", \"Topic8\", \"Topic8\", \"Topic8\", \"Topic8\", \"Topic8\", \"Topic8\", \"Topic8\", \"Topic8\", \"Topic8\", \"Topic8\", \"Topic8\", \"Topic8\", \"Topic8\", \"Topic8\", \"Topic8\", \"Topic8\", \"Topic8\", \"Topic8\", \"Topic8\", \"Topic8\", \"Topic8\", \"Topic8\", \"Topic8\", \"Topic8\", \"Topic8\", \"Topic8\", \"Topic8\", \"Topic8\", \"Topic8\", \"Topic8\", \"Topic8\", \"Topic9\", \"Topic9\", \"Topic9\", \"Topic9\", \"Topic9\", \"Topic9\", \"Topic9\", \"Topic9\", \"Topic9\", \"Topic9\", \"Topic9\", \"Topic9\", \"Topic9\", \"Topic9\", \"Topic9\", \"Topic9\", \"Topic9\", \"Topic9\", \"Topic9\", \"Topic9\", \"Topic9\", \"Topic9\", \"Topic9\", \"Topic9\", \"Topic9\", \"Topic9\", \"Topic9\", \"Topic9\", \"Topic9\", \"Topic9\", \"Topic9\", \"Topic9\", \"Topic9\", \"Topic9\", \"Topic9\", \"Topic10\", \"Topic10\", \"Topic10\", \"Topic10\", \"Topic10\", \"Topic10\", \"Topic10\", \"Topic10\", \"Topic10\", \"Topic10\", \"Topic10\", \"Topic10\", \"Topic10\", \"Topic10\", \"Topic10\", \"Topic10\", \"Topic10\", \"Topic10\", \"Topic10\", \"Topic10\", \"Topic10\", \"Topic10\", \"Topic10\", \"Topic10\", \"Topic10\", \"Topic10\", \"Topic10\", \"Topic10\", \"Topic10\", \"Topic10\", \"Topic10\", \"Topic10\", \"Topic10\", \"Topic10\", \"Topic10\", \"Topic10\", \"Topic10\", \"Topic10\", \"Topic10\"], \"logprob\": [30.0, 29.0, 28.0, 27.0, 26.0, 25.0, 24.0, 23.0, 22.0, 21.0, 20.0, 19.0, 18.0, 17.0, 16.0, 15.0, 14.0, 13.0, 12.0, 11.0, 10.0, 9.0, 8.0, 7.0, 6.0, 5.0, 4.0, 3.0, 2.0, 1.0, -1.4679, -4.1024, -4.6477, -5.0455, -5.08, -5.1845, -5.1869, -5.27, -5.3288, -5.393, -5.4461, -5.64, -5.7058, -5.7195, -5.8104, -5.823, -5.8445, -6.0193, -6.0334, -6.0627, -6.1123, -6.1299, -6.1318, -6.2026, -6.2118, -6.2215, -6.2945, -6.3234, -6.3237, -6.3636, -1.9202, -5.2466, -4.0985, -2.5796, -3.4419, -4.8387, -5.7347, -3.8584, -4.4287, -3.9369, -2.5685, -3.9506, -4.1578, -4.8601, -5.013, -4.7161, -4.9463, -4.7789, -5.5528, -1.8988, -2.436, -3.0138, -3.3405, -4.1458, -4.2221, -4.2916, -4.3865, -4.6186, -4.9996, -5.1101, -2.0324, -5.4176, -5.4495, -5.5099, -5.5214, -5.5958, -5.6089, -5.6208, -5.7097, -5.7545, -5.7593, -5.7695, -5.8062, -5.8485, -5.8685, -5.8762, -5.8865, -5.9315, -5.9484, -2.8151, -3.4097, -4.7995, -5.0755, -3.9451, -5.3922, -4.2275, -4.1396, -4.2919, -5.1936, -4.8254, -4.6255, -5.257, -2.5892, -3.3543, -3.6762, -3.7233, -4.0264, -4.0946, -4.897, -4.9904, -5.0237, -5.0257, -5.0681, -5.1017, -5.2053, -5.264, -5.2797, -5.3246, -5.4197, -5.4777, -5.4999, -5.5544, -5.5798, -5.5947, -5.6315, -5.648, -5.6544, -5.6745, -5.7349, -5.7441, -5.7498, -5.8014, -2.4848, -3.4213, -4.0687, -4.2424, -3.9575, -4.9269, -3.4723, -4.086, -4.0201, -2.8378, -5.1864, -3.1338, -3.6896, -4.3407, -4.3125, -3.8419, -4.7288, -4.8021, -5.1042, -2.6638, -3.1559, -4.2826, -4.3205, -4.34, -4.5031, -4.7491, -4.7991, -4.989, -5.0593, -5.1666, -5.2141, -5.2302, -5.4305, -5.4839, -5.5251, -5.5271, -5.5642, -5.5929, -5.6625, -5.6777, -5.6827, -5.6864, -5.7103, -5.7144, -5.7559, -5.7754, -5.7954, -5.8656, -5.8926, -4.7985, -4.3081, -2.3811, -5.0475, -3.1595, -3.5015, -2.8524, -2.6113, -3.1202, -3.3787, -5.1458, -4.2059, -3.8763, -4.2133, -4.5344, -4.4627, -4.6222, -4.7651, -5.086, -5.0818, -3.4041, -3.4305, -3.7381, -3.9636, -4.014, -4.4081, -4.4085, -4.4465, -4.621, -4.768, -5.0419, -5.0546, -5.0954, -5.1494, -5.1795, -5.1825, -5.2496, -5.2917, -5.3, -5.3524, -5.4232, -5.5157, -5.5336, -5.5577, -5.5991, -5.616, -5.6282, -5.6812, -5.6893, -5.7118, -2.8805, -1.9543, -3.5737, -4.1274, -4.0183, -3.8357, -3.6861, -4.1784, -2.6876, -3.2817, -4.1338, -4.5019, -4.325, -4.7465, -5.0223, -2.6794, -3.3725, -3.9474, -4.1008, -4.2228, -4.2231, -4.2734, -4.3778, -4.6203, -4.6742, -4.6811, -4.7184, -4.8026, -4.8238, -4.901, -4.9056, -5.0372, -5.0544, -5.0575, -5.0807, -5.1445, -5.1511, -5.2345, -5.2483, -5.2771, -5.3543, -5.3786, -5.3858, -5.3918, -5.4918, -3.652, -1.7228, -4.3912, -4.2769, -4.4152, -2.6768, -3.3605, -4.5168, -3.557, -4.3024, -4.3814, -4.426, -4.4397, -4.469, -4.5398, -4.5768, -4.607, -4.6875, -4.7042, -4.7253, -4.7823, -4.8463, -4.8486, -4.8941, -4.9539, -5.0235, -5.0341, -5.0753, -5.0934, -5.199, -5.2029, -5.2321, -5.278, -5.2859, -5.3039, -5.3184, -5.4102, -5.4656, -2.7779, -1.7206, -2.8799, -3.3315, -4.7105, -4.0851, -3.9727, -3.124, -4.8065, -5.0537, -2.3643, -2.902, -3.2003, -3.9277, -3.9324, -4.0347, -4.1998, -4.4578, -4.489, -4.5987, -4.6017, -4.8333, -4.8878, -5.0335, -5.1078, -5.1357, -5.1764, -5.3621, -5.3939, -5.4109, -5.4707, -5.4856, -5.5134, -5.5885, -5.6124, -5.6131, -5.6194, -5.622, -5.6425, -5.723, -2.3867, -3.7157, -5.053, -4.6044, -2.9453, -4.7715, -3.1034, -3.0182, -4.1442, -3.2662, -4.3531, -5.1068, -2.6427, -3.6753, -3.7955, -3.8211, -3.9218, -3.9828, -4.1905, -4.2138, -4.3009, -4.3219, -4.4173, -4.5022, -4.5077, -4.5077, -4.5241, -4.5488, -4.5553, -4.5797, -4.618, -4.7075, -4.7274, -4.8077, -4.8704, -4.873, -4.8839, -4.9153, -4.939, -4.9681, -4.9772, -4.992, -3.4901, -2.6593, -4.5477, -4.1173, -4.5055, -1.5901, -3.168, -3.2525, -3.6085, -3.7761, -3.8902, -3.9981, -4.0797, -4.1863, -4.237, -4.3714, -4.3823, -4.4459, -4.8461, -4.9501, -5.0398, -5.0816, -5.0865, -5.0966, -5.1768, -5.1769, -5.1939, -5.2156, -5.3008, -5.3253, -5.3576, -5.3588, -5.5147, -5.6018, -5.6194, -3.8731, -3.4136, -4.5948, -3.7275, -4.3236, -3.294, -5.0362, -4.7237, -5.0882], \"loglift\": [30.0, 29.0, 28.0, 27.0, 26.0, 25.0, 24.0, 23.0, 22.0, 21.0, 20.0, 19.0, 18.0, 17.0, 16.0, 15.0, 14.0, 13.0, 12.0, 11.0, 10.0, 9.0, 8.0, 7.0, 6.0, 5.0, 4.0, 3.0, 2.0, 1.0, 1.8639, 1.8595, 1.8561, 1.8521, 1.8517, 1.8504, 1.8503, 1.8491, 1.8482, 1.8472, 1.8462, 1.8424, 1.841, 1.8407, 1.8384, 1.8381, 1.8376, 1.8326, 1.8321, 1.8312, 1.8295, 1.8289, 1.8288, 1.8263, 1.826, 1.8256, 1.8227, 1.8216, 1.8215, 1.8198, 1.5542, 1.7521, 1.4927, 1.1893, 1.2027, 1.5092, 1.6743, 0.9825, 1.1797, 0.8699, 0.2538, 0.8472, 0.798, 0.9357, 0.6358, 0.1381, 0.1225, -0.2325, 0.8556, 2.0209, 2.0204, 2.0196, 2.0188, 2.0156, 2.0151, 2.0147, 2.014, 2.012, 2.0077, 2.0061, 2.0007, 2.0006, 1.9999, 1.9986, 1.9983, 1.9966, 1.9963, 1.996, 1.9936, 1.9924, 1.9922, 1.9919, 1.9908, 1.9895, 1.9889, 1.9886, 1.9883, 1.9868, 1.9862, 1.7313, 1.6931, 1.8364, 1.5509, 0.9092, 1.7228, 0.992, 0.7013, 0.7768, 1.0886, 0.4121, -0.4979, -0.2604, 2.0407, 2.0393, 2.0382, 2.0381, 2.0367, 2.0363, 2.0293, 2.0281, 2.0276, 2.0276, 2.027, 2.0265, 2.0248, 2.0238, 2.0235, 2.0226, 2.0207, 2.0195, 2.019, 2.0177, 2.0171, 2.0167, 2.0158, 2.0154, 2.0152, 2.0147, 2.013, 2.0127, 2.0125, 2.011, 1.8283, 1.8162, 1.8393, 1.819, 1.6913, 1.7816, 1.0423, 1.2451, 1.1994, 0.4464, 1.7137, -0.3115, 0.0793, 0.7622, 0.6433, -0.3675, 0.8624, 0.0521, 0.6752, 2.0879, 2.087, 2.0822, 2.082, 2.0818, 2.0805, 2.0781, 2.0768, 2.0751, 2.0741, 2.0724, 2.0715, 2.0713, 2.0673, 2.0661, 2.0652, 2.0651, 2.0642, 2.0635, 2.0617, 2.0612, 2.0611, 2.061, 2.0603, 2.0602, 2.059, 2.0584, 2.0578, 2.0555, 2.0546, 2.0426, 1.9698, 1.7464, 1.986, 1.6383, 1.6664, 0.4318, 0.211, 0.3543, 0.3902, 1.6657, 0.8629, 0.4368, 0.6277, 0.7966, -0.0611, 0.232, -0.841, 1.146, -0.1261, 2.2726, 2.2725, 2.2712, 2.2699, 2.2696, 2.2664, 2.2663, 2.266, 2.264, 2.2621, 2.2577, 2.2575, 2.2567, 2.2556, 2.255, 2.2549, 2.2535, 2.2525, 2.2523, 2.2511, 2.2492, 2.2467, 2.2461, 2.2454, 2.2441, 2.2436, 2.2432, 2.2414, 2.2412, 2.2404, 2.1162, 1.9698, 1.9919, 1.9611, 1.9398, 1.8429, 1.6924, 1.601, 0.1346, 0.4872, 1.0342, 0.7176, 0.2214, 0.2093, 1.2445, 2.4552, 2.4531, 2.4498, 2.4486, 2.4474, 2.4474, 2.4469, 2.4458, 2.4426, 2.4418, 2.4417, 2.4411, 2.4397, 2.4393, 2.4379, 2.4378, 2.4351, 2.4347, 2.4346, 2.4341, 2.4326, 2.4324, 2.4303, 2.4299, 2.4292, 2.4269, 2.4262, 2.426, 2.4258, 2.4225, 2.3464, 1.0995, 2.0263, 1.9551, 1.9932, 0.6075, 1.0411, 1.0489, 2.4878, 2.482, 2.4811, 2.4806, 2.4804, 2.48, 2.4791, 2.4786, 2.4781, 2.4769, 2.4766, 2.4763, 2.4753, 2.4741, 2.4741, 2.4732, 2.472, 2.4705, 2.4703, 2.4694, 2.4689, 2.4663, 2.4662, 2.4654, 2.4641, 2.4639, 2.4634, 2.4629, 2.4601, 2.4583, 2.0289, 1.5636, 1.7648, 1.0701, 1.9636, 1.2934, 0.8815, -0.3017, 1.8941, 2.1562, 2.5871, 2.5858, 2.5848, 2.5804, 2.5804, 2.5795, 2.5778, 2.5746, 2.5742, 2.5725, 2.5724, 2.5682, 2.5671, 2.5637, 2.5618, 2.561, 2.5599, 2.5541, 2.553, 2.5524, 2.5502, 2.5496, 2.5485, 2.5454, 2.5444, 2.5444, 2.5441, 2.544, 2.5431, 2.5393, 2.1279, 2.0801, 2.3344, 2.1615, 1.4563, 2.1949, 1.0241, 0.9059, 1.5344, -0.4439, 0.6027, 0.9546, 2.8444, 2.839, 2.838, 2.8377, 2.8367, 2.8361, 2.8335, 2.8331, 2.8319, 2.8315, 2.83, 2.8284, 2.8283, 2.8283, 2.828, 2.8275, 2.8274, 2.8269, 2.8261, 2.8242, 2.8237, 2.8218, 2.8201, 2.82, 2.8198, 2.8189, 2.8182, 2.8174, 2.8171, 2.8167, 2.6708, 0.163, 1.9379, 0.2843, 0.873, 2.9016, 2.8973, 2.8968, 2.8943, 2.8927, 2.8915, 2.8903, 2.8892, 2.8877, 2.8869, 2.8847, 2.8845, 2.8833, 2.8738, 2.8707, 2.8677, 2.8663, 2.8661, 2.8657, 2.8627, 2.8627, 2.862, 2.8611, 2.8575, 2.8564, 2.8549, 2.8549, 2.847, 2.8421, 2.841, 2.6552, 2.1948, 2.2182, 1.6036, 1.6345, -0.0098, 2.4054, 1.1843, -1.0551]}, \"token.table\": {\"Topic\": [1, 3, 6, 5, 9, 6, 10, 3, 10, 9, 7, 7, 9, 6, 8, 3, 5, 1, 1, 3, 3, 1, 4, 5, 9, 1, 10, 1, 2, 3, 4, 5, 8, 9, 6, 4, 6, 8, 5, 4, 2, 7, 10, 6, 1, 9, 3, 1, 1, 1, 4, 7, 6, 9, 8, 10, 5, 2, 7, 3, 8, 2, 4, 9, 8, 2, 8, 6, 1, 3, 8, 9, 1, 8, 2, 8, 3, 8, 8, 7, 4, 5, 7, 6, 10, 4, 10, 1, 7, 9, 5, 8, 6, 5, 4, 6, 9, 4, 10, 9, 6, 4, 5, 7, 8, 5, 6, 6, 4, 2, 1, 4, 3, 7, 1, 1, 4, 5, 6, 7, 10, 5, 6, 10, 2, 9, 7, 6, 8, 1, 2, 4, 6, 3, 6, 4, 7, 3, 1, 2, 3, 4, 7, 7, 6, 3, 9, 3, 9, 2, 3, 7, 1, 7, 8, 7, 3, 4, 5, 8, 10, 9, 2, 7, 4, 6, 7, 8, 9, 10, 5, 2, 4, 2, 1, 5, 1, 1, 6, 4, 6, 9, 2, 4, 9, 4, 10, 1, 6, 3, 7, 8, 6, 2, 3, 5, 6, 10, 7, 7, 2, 9, 10, 4, 7, 3, 5, 5, 3, 1, 3, 4, 5, 6, 7, 8, 9, 5, 7, 2, 8, 7, 1, 3, 4, 5, 5, 10, 1, 8, 8, 5, 7, 9, 4, 10, 9, 4, 1, 1, 4, 1, 3, 5, 1, 4, 4, 10, 9, 5, 1, 10, 2, 3, 4, 5, 9, 8, 9, 1, 3, 6, 9, 6, 4, 2, 3, 5, 10, 4, 7, 9, 7, 7, 10, 3, 5, 4, 2, 10, 5, 1, 2, 5, 8, 5, 5, 2, 2, 3, 5, 3, 1, 4, 2, 3, 4, 3, 10, 1, 8, 10, 6, 4, 8, 1, 6, 2, 4, 10, 6, 8, 1, 2, 10, 4, 3, 1, 9, 3, 10, 10, 8, 5, 4, 6, 4, 10, 8, 8, 5, 4, 1, 3, 4, 10, 5, 8, 1, 10, 3, 1, 4, 9, 9, 5, 2, 4, 8, 7, 1, 2, 7, 3, 4, 6, 7, 10, 4, 2, 10, 5, 10, 7, 2, 1, 10, 1, 3, 4, 6, 2, 4, 3, 5, 9, 5, 10, 2, 8, 1, 2, 3, 4, 2, 5, 5, 5, 5, 8, 1, 7, 8, 3, 6, 10, 3, 8, 3, 10, 3, 7, 8, 1, 8, 9, 3, 10, 7, 4, 7, 2, 3, 7, 7, 1, 5, 8, 3, 5, 6, 7, 10, 7, 6, 10, 9, 6, 6, 6, 1, 8, 2, 2, 9, 9, 5, 8, 2, 1, 3, 3, 7, 4, 6, 2, 7, 3, 4, 2, 8, 2, 3, 3, 1, 2, 2, 3, 9, 1, 2, 3, 4, 5, 7, 8, 2, 2, 8, 4, 1, 2, 5, 1, 1, 10, 4, 3, 4, 9, 10, 1], \"Freq\": [0.6900151911197053, 0.30797288191218486, 0.9914494044592682, 0.9504817258395742, 0.9948600478667814, 0.9718394598893147, 0.9470553422122848, 0.8187550493543695, 0.18194556652319321, 0.9861645539722526, 0.9617733681108996, 0.9652107088618169, 0.9794704174925115, 0.9656451916378191, 0.9700005335296161, 0.9836232176117495, 0.9861549419307711, 0.9643987832000184, 0.9898452264994709, 0.9848256762885566, 0.9982183374147238, 0.05361312991275715, 0.6561225898846947, 0.2884896990543599, 0.984588527270774, 0.9904315246663722, 0.9894552250520404, 0.3448413395421121, 0.020649182008509705, 0.24779018410211645, 0.10944066464510144, 0.1259600102519092, 0.13628460125616407, 0.014454427405956793, 0.9850675892314694, 0.3921488519076474, 0.6067208652156054, 0.9685268006348563, 0.9613419902852574, 0.965008761962136, 0.985212765152425, 0.9745548050800472, 0.987212330293655, 0.9873499582019832, 0.9585398519040141, 0.9766813241383725, 0.9704996440726601, 0.971935598676187, 0.9996540444137815, 0.6979026815788754, 0.14955057462404472, 0.14124220936715334, 0.995455333281951, 0.9876039323810448, 0.9580220969052674, 0.9336117741668959, 0.9704870868432206, 0.9927693469331788, 0.9754161828607254, 0.9964252039145463, 0.9937935163326281, 0.9965984543952005, 0.9914326300377942, 0.9685257101125371, 0.9883735035210275, 0.9691443533102709, 0.9394140086825922, 0.971867397908731, 0.9568620659417756, 0.7744483885322077, 0.2144626306704575, 0.9819480434529076, 0.9374259433450338, 0.9869838879215121, 0.9588254873786038, 0.9895529813742912, 0.7985222927415834, 0.19339211777335222, 0.9430040772914274, 0.9610607021230445, 0.9840966911191621, 0.43740467934859945, 0.5438004121631236, 0.9754153558847476, 0.9627410857663345, 0.9726781077823318, 0.9786965159945341, 0.9830148367902786, 0.1584895844191173, 0.84068388257097, 0.9758924487684574, 0.961113482535503, 0.9892826174848236, 0.9622573551656232, 0.9970616283028023, 0.8961650648102154, 0.09957389609002394, 0.9070142510803778, 0.08245584100730707, 0.9886485903293571, 0.9865141290035324, 0.9761073420922385, 0.9904105200176563, 0.9754898892076802, 0.9738089958556088, 0.7524029566070513, 0.24320095567096606, 0.9883262559484779, 0.9674484387372831, 0.979986742383741, 0.33019635479281484, 0.6603927095856297, 0.4029489865483478, 0.5871542375418782, 0.9816884093197651, 0.13023708938571385, 0.19152513144957922, 0.36006724712520893, 0.09959306835378119, 0.11491507886974753, 0.10725407361176435, 0.985060457777079, 0.9611509921498498, 0.9841825592417593, 0.9751333570113144, 0.9670124409073382, 0.9898652388893912, 0.9628753941689362, 0.9602841719656955, 0.8162584733911308, 0.14404561295137602, 0.3473627325574916, 0.6501917814537664, 0.9904562637847691, 0.9862462240756991, 0.9870051579262757, 0.9774657483563589, 0.9965798660780957, 0.17722829736398277, 0.3283387403795891, 0.13618595481653412, 0.15670712609025844, 0.19961502966259112, 0.985146080510997, 0.9892548936258484, 0.9646569115696711, 0.9752521241536366, 0.9770551638151855, 0.9759049285071097, 0.9806010583078058, 0.9858365913021429, 0.990129852464824, 0.370068634035439, 0.6280491721851441, 0.9657770464331672, 0.9616451613990225, 0.022079402010066893, 0.05372654489116277, 0.7359800670022297, 0.1854669768845619, 0.002207940201006689, 0.963777463790426, 0.9554688586068192, 0.99401139049702, 0.1162639525829873, 0.2432052069338, 0.24083247320761655, 0.32269178676094434, 0.07711384610096096, 0.9958312708028767, 0.9684815834245935, 0.7335789959132607, 0.2504903888484305, 0.9562328455706394, 0.9908592147418, 0.9978475920313364, 0.973347417877126, 0.8919786598448644, 0.09556914212623546, 0.9765673069376342, 0.9959654189388416, 0.9800710198555466, 0.9746199212072943, 0.9545678128909977, 0.9821397786919227, 0.9838359598933081, 0.9662354420706146, 0.36188326396679493, 0.6266758961376204, 0.9571178662065662, 0.9776855978022413, 0.9567214408167901, 0.9696456929962368, 0.1474347701713843, 0.11538373317760509, 0.7307636434581656, 0.9850653964054024, 0.9361669843504078, 0.9670872189242119, 0.9877874343314268, 0.1492524279292215, 0.0696511330336367, 0.7761126252319517, 0.9865577471504312, 0.9713959160837179, 0.9748940373761837, 0.9738432381565124, 0.9971196373390866, 0.9821677840733521, 0.19978777494175937, 0.09512539100654148, 0.1528364251390448, 0.1173783745067864, 0.2572542707940402, 0.06113457005561792, 0.04817404120382692, 0.06822618018206959, 0.9530015699574272, 0.9794522529508971, 0.9812163564801994, 0.9867582738771652, 0.9904183168157611, 0.5091970732558916, 0.14053335066344533, 0.18275637530223832, 0.1670015153623902, 0.9803791610611573, 0.998447430927376, 0.9778572231214037, 0.983117582925448, 0.9641239416294561, 0.5577914639583083, 0.3025309635028112, 0.13866002493878848, 0.9458395989988982, 0.9848643020754259, 0.9864641598316344, 0.9988569537532811, 0.9746208154281809, 0.3614846994228316, 0.6365657389836206, 0.9454474332267024, 0.9935414475340687, 0.9929191809381045, 0.9748698963252338, 0.9689207242058638, 0.9803541537609313, 0.9928461032335083, 0.9697012221477848, 0.969747808450672, 0.5036792242820535, 0.491781289850194, 0.3967561774336032, 0.2878427169616337, 0.2022678551622291, 0.11669299336282447, 0.9666738828945644, 0.9802336960427244, 0.9976062559087797, 0.9817809607834584, 0.9657169779627328, 0.9753390756112443, 0.9911253602769091, 0.9848140565396326, 0.9784750081793484, 0.9666984991235338, 0.9924838151846452, 0.9795071490519525, 0.9601947366858095, 0.9929569940874392, 0.9789260984560797, 0.9861834114050916, 0.9771547164229156, 0.9888019566602946, 0.9651287712835517, 0.9700047389541704, 0.9929349968328116, 0.9730533369643435, 0.9639346128033786, 0.9485712200159261, 0.9635713935243491, 0.9524198336311012, 0.101101004239039, 0.851829737843818, 0.04517278912808126, 0.9808845634841225, 0.9630018097191722, 0.9748770957376889, 0.3575185984861862, 0.4300975620886451, 0.20967256151821448, 0.9987545550457249, 0.9884803691183722, 0.9707807611947626, 0.9805036117558495, 0.9782580108760383, 0.998434519969859, 0.9789680710886536, 0.9460231775825767, 0.9853418183635172, 0.9991959323396081, 0.9945071037712321, 0.9741159703228548, 0.9885659340460309, 0.9841467944601591, 0.9764134468801808, 0.9949732963227248, 0.97606239491438, 0.372028110536411, 0.6200468508940183, 0.308408172067075, 0.678497978547565, 0.00082073173276493, 0.9791329571885615, 0.01887682985359339, 0.9860710757506608, 0.9702773208197633, 0.952151942818993, 0.9802476263057285, 0.9701730754238203, 0.9509363791743713, 0.982832747852442, 0.9947245668264079, 0.9899161615257325, 0.9615737873998476, 0.9549567661043287, 0.9523734939358482, 0.040816006882964925, 0.9416712344402706, 0.9723682029455992, 0.9947874972181664, 0.973199757369562, 0.9933046278531426, 0.4508096033351624, 0.2734911593566652, 0.2734911593566652, 0.21144291756556197, 0.7752906977403939, 0.9773622752577947, 0.9889216391804311, 0.9718800504715638, 0.36231819597820714, 0.22883254482834137, 0.40045695344959736, 0.9528270623606967, 0.9805143661117004, 0.08028018285702825, 0.7098933023424857, 0.2092696901441635, 0.9898137247167296, 0.993170057539909, 0.997505539896257, 0.989771158719005, 0.2029865828379774, 0.19056675367771875, 0.15718846280952362, 0.3947176954994704, 0.05433675257613162, 0.992379427904588, 0.9846236250361091, 0.9752072550101565, 0.7145368823783219, 0.2813137332198118, 0.9766918449625047, 0.9961967879878668, 0.4894310462191353, 0.502658912333166, 0.7332403602220993, 0.08965999283125542, 0.17650344138508922, 0.9976066121158687, 0.10844641596661243, 0.8908098454400307, 0.9849675988565332, 0.9752223864131013, 0.9834401913527758, 0.9570968415346873, 0.978420232925135, 0.9988783855037849, 0.9852766229133296, 0.4142186311211765, 0.26694089561142487, 0.08652566961197909, 0.23196243342785883, 0.9585802357079553, 0.9879353107154959, 0.9982518684705483, 0.9908653849471211, 0.9893862475361824, 0.9769227663400109, 0.5158919673674623, 0.4826086146340777, 0.945511448432301, 0.9926175909339705, 0.991764661822924, 0.9463978153037423, 0.36794566498029957, 0.6309537576376978, 0.9909566900456439, 0.9471319787081873, 0.9891068542210155, 0.9519933027645184, 0.9634601740260118, 0.9940172594021142, 0.9983942443086972, 0.9770450784914662, 0.9910364932386504, 0.9358167129758214, 0.990971244375952, 0.986237767059832, 0.9868719947404989, 0.19980519491136559, 0.7992207796454623, 0.9913443596463596, 0.9864748814580137, 0.954299088796334, 0.3407491678040645, 0.6562576565115317, 0.25410773965637884, 0.5082154793127577, 0.10352537541556175, 0.12705386982818942, 0.9618302759288578, 0.964180929091823, 0.9752793164663571, 0.9649701310401588, 0.9854557170266635, 0.9886963021292589, 0.9694993685518206, 0.9752221245288744, 0.3970186613097058, 0.6027030280123244, 0.9894943015076346, 0.9920388400034933, 0.9862033081031512, 0.9819563598185875, 0.6466356076119876, 0.3488428935801512, 0.9562043490482893, 0.2931868618291251, 0.7061261038419774, 0.27541170480361943, 0.7082015266378785, 0.9917264353688232, 0.9652810185436714, 0.8310274162932425, 0.15512511770807194, 0.7215945250289163, 0.27420591951098816, 0.9654742229075617, 0.9852210540414295, 0.9986134927457812, 0.9981575052481595, 0.9597337469528868, 0.3622010533331448, 0.6256200012117955, 0.7200068562820254, 0.27747772534456794, 0.9819379000958998, 0.17570077765152492, 0.2889815421900081, 0.12252817388856342, 0.2936052468650482, 0.062420013113041746, 0.04392519441288123, 0.013871114025120387, 0.9773244608603676, 0.9993636135197552, 0.9657093230407441, 0.9683741484753228, 0.1234160055998459, 0.7487237673057318, 0.1275298724531741, 0.9826836774397525, 0.9880867930289978, 0.9893638052164458, 0.9928722980724428, 0.8079359277815132, 0.1911246280773472, 0.9896344137987217, 0.978830596486593, 0.9816085266188601], \"Term\": [\"\\uac00\\uaca9\", \"\\uac00\\uaca9\", \"\\uac00\\ub8e8\", \"\\uac00\\uc6a9\", \"\\uac00\\uc871\", \"\\uac00\\uccb4\", \"\\uac10\\uae30\", \"\\uac10\\uc0ac\", \"\\uac10\\uc0ac\", \"\\uac1c\\uc0ac\", \"\\uac1c\\uc2dc\", \"\\uac1c\\uc778\", \"\\uac1c\\uc785\", \"\\uac2f\\uc218\", \"\\uac70\\uc6b8\", \"\\uac74\\uac15\", \"\\uac80\\uc218\", \"\\uac89\\uc808\\uc774\", \"\\uac8c\\uc2dc\\ud310\", \"\\uacb0\\uacfc\", \"\\uacb0\\uc81c\", \"\\uacbd\\uc6b0\", \"\\uacbd\\uc6b0\", \"\\uacbd\\uc6b0\", \"\\uacc4\\ub7c9\", \"\\uacc4\\uc18d\", \"\\uacc4\\ud68d\", \"\\uace0\\uac1d\", \"\\uace0\\uac1d\", \"\\uace0\\uac1d\", \"\\uace0\\uac1d\", \"\\uace0\\uac1d\", \"\\uace0\\uac1d\", \"\\uace0\\uac1d\", \"\\uace0\\uad6c\\ub9c8\", \"\\uace8\\ub4dc\", \"\\uace8\\ub4dc\", \"\\uacf0\\ub3cc\\uc774\", \"\\uacf1\\ucc3d\", \"\\uacf5\\uc7a5\", \"\\uacf5\\uc9c0\", \"\\uacfc\\uc790\", \"\\uacfc\\uc999\", \"\\uacfc\\uc9c0\", \"\\uacfc\\ud14c\\ub9d0\\ub77c\", \"\\uad00\\ub828\", \"\\uad00\\uc2ec\", \"\\uad50\\ucc28\", \"\\uad6c\\ub9e4\", \"\\uad6c\\uc131\", \"\\uad6c\\uc131\", \"\\uad6c\\uc131\", \"\\uad6c\\uc785\", \"\\uad6d\\ubb3c\", \"\\uad6d\\ud654\", \"\\uadf8\\ub77c\\uc2a4\", \"\\uadf8\\ub7a8\", \"\\uadf8\\ub9b0\", \"\\uae00\\ub77c\\uc2a4\", \"\\uae08\\uc561\", \"\\uae08\\uc77c\", \"\\uae30\\uac04\", \"\\uae30\\uc7ac\", \"\\uae30\\uc874\", \"\\uae30\\ud55c\", \"\\uae40\\uce58\", \"\\ub098\\uba38\\uc9c0\", \"\\ub0a0\\uc9dc\", \"\\ub0a8\\uc544\", \"\\ub0b4\\uc77c\", \"\\ub0b4\\uc77c\", \"\\ub0c9\\uc7a5\", \"\\ub178\\ub2c8\", \"\\ub178\\ub825\", \"\\ub179\\ucc28\", \"\\ub204\\ub77d\", \"\\ub2e4\\uc2dc\", \"\\ub2e4\\uc2dc\", \"\\ub2e8\\ud638\\ubc15\", \"\\ub2ec\\ub77c\", \"\\ub2f4\\uc694\", \"\\ub2f5\\ubcc0\", \"\\ub2f5\\ubcc0\", \"\\ub2f9\\uba74\", \"\\ub2f9\\ubd84\\uac04\", \"\\ub2f9\\uc2dc\", \"\\ub2f9\\ucca8\", \"\\ub300\\uc0c1\", \"\\ub300\\uc2e0\", \"\\ub300\\uc2e0\", \"\\ub300\\uccb4\", \"\\ub300\\ud55c\", \"\\ub313\\uae00\", \"\\ub354\\uc6b1\", \"\\ub3c4\\ub77c\\uc9c0\", \"\\ub3d9\\ubd09\", \"\\ub3d9\\ubd09\", \"\\ub3d9\\uc77c\", \"\\ub3d9\\uc77c\", \"\\ub4dc\\ub86d\", \"\\ub4dc\\ub9bd\", \"\\ub538\\uae30\", \"\\ub5a1\\ubcf6\\uc774\", \"\\ub77c\\ub5bc\", \"\\ub77c\\ub9cc\", \"\\ub79c\\ub364\", \"\\ub79c\\ub364\", \"\\ub808\\ubaac\", \"\\ub85c\\uc2a4\\ud305\", \"\\ub9ac\\ubdf0\", \"\\ub9ac\\uc9c0\", \"\\ub9ac\\uc9c0\", \"\\ub9c8\\uac10\", \"\\ub9c8\\uac10\", \"\\ub9cc\\ud07c\", \"\\ub9d0\\uc500\", \"\\ub9d0\\uc500\", \"\\ub9d0\\uc500\", \"\\ub9d0\\uc500\", \"\\ub9d0\\uc500\", \"\\ub9d0\\uc500\", \"\\ub9db\\ubcf4\\uae30\", \"\\uba38\\uadf8\", \"\\uba38\\uadf8\\ucef5\", \"\\uba40\\ud2f0\", \"\\uba54\\ubaa8\", \"\\uba54\\uc138\\uc9c0\", \"\\uba55\\uc2dc\\ucf54\", \"\\ubaa8\\ub2dd\", \"\\ubaa8\\ub4e0\", \"\\ubaa8\\ub4e0\", \"\\ubaa8\\uce74\", \"\\ubaa8\\uce74\", \"\\ubb34\\ub4dc\", \"\\ubb34\\ub8cc\", \"\\ubb34\\ub98e\", \"\\ubb36\\uc74c\", \"\\ubb38\\uac74\", \"\\ubb38\\uc758\", \"\\ubb38\\uc758\", \"\\ubb38\\uc758\", \"\\ubb38\\uc758\", \"\\ubb38\\uc758\", \"\\ubb38\\uc758\\uc0ac\\ud56d\", \"\\ubb3c\\ub7c9\", \"\\ubb3c\\ub958\", \"\\ubb54\\uac00\", \"\\ubbf8\\ub2c8\", \"\\ubbf8\\ub9ac\", \"\\ubbf8\\uc815\", \"\\ubbf8\\ud0a4\\ub9c8\\uc6b0\\uc2a4\", \"\\ubc14\\ub098\\ub098\", \"\\ubc15\\uc2a4\", \"\\ubc15\\uc2a4\", \"\\ubc18\\uc601\", \"\\ubc1c\\uae09\", \"\\ubc1c\\uc1a1\", \"\\ubc1c\\uc1a1\", \"\\ubc1c\\uc1a1\", \"\\ubc1c\\uc1a1\", \"\\ubc1c\\uc1a1\", \"\\ubc1c\\ud3ec\", \"\\ubc1c\\ud45c\", \"\\ubc29\\uae08\", \"\\ubc30\\uc1a1\", \"\\ubc30\\uc1a1\", \"\\ubc30\\uc1a1\", \"\\ubc30\\uc1a1\", \"\\ubc30\\uc1a1\", \"\\ubc30\\uc999\", \"\\ubc43\\uc0b4\", \"\\ubc88\\ud638\", \"\\ubc88\\ud638\", \"\\ubc8c\\uc368\", \"\\ubca0\\uc774\\ube44\", \"\\ubcc0\\uacbd\", \"\\ubcc0\\ub3d9\", \"\\ubcc4\\ub3c4\", \"\\ubcc4\\ub3c4\", \"\\ubcc4\\ub85c\", \"\\ubcf4\\uace0\", \"\\ubcf4\\uad00\", \"\\ubcf4\\ub0c9\", \"\\ubcf4\\ub108\\uc2a4\", \"\\ubcf4\\ub2f5\", \"\\ubcf4\\uc2dc\", \"\\ubcf4\\ud1b5\", \"\\ubcf4\\ud2c0\", \"\\ubcf4\\ud2c0\", \"\\ubcf6\\uc74c\\ubc25\", \"\\ubd09\\uc9c0\", \"\\ubd09\\ud558\", \"\\ubd80\\ub300\\ucc0c\\uac1c\", \"\\ubd80\\ubd84\", \"\\ubd80\\ubd84\", \"\\ubd80\\ubd84\", \"\\ubd84\\uc1c4\", \"\\ube0c\\ub77c\\uc9c8\", \"\\ube14\\ub80c\\ub4dc\", \"\\ube14\\ub8e8\\ubca0\\ub9ac\", \"\\ube44\\ud0c0\\ubbfc\", \"\\ube44\\ud0c0\\ubbfc\", \"\\ube44\\ud0c0\\ubbfc\", \"\\uc0ac\\ub3c4\", \"\\uc0ac\\ub78c\", \"\\uc0ac\\ub791\", \"\\uc0ac\\ub9ac\", \"\\uc0ac\\uba74\", \"\\uc0ac\\uc6a9\", \"\\uc0ac\\uc740\", \"\\uc0ac\\uc740\", \"\\uc0ac\\uc740\", \"\\uc0ac\\uc740\", \"\\uc0ac\\uc740\", \"\\uc0ac\\uc740\", \"\\uc0ac\\uc740\", \"\\uc0ac\\uc740\", \"\\uc0ac\\uc774\", \"\\uc0ac\\uc774\\uc988\", \"\\uc0ac\\uc9c4\", \"\\uc0ac\\ud56d\", \"\\uc0c1\\ud0dc\", \"\\uc0c1\\ud488\", \"\\uc0c1\\ud488\", \"\\uc0c1\\ud488\", \"\\uc0c1\\ud488\", \"\\uc0c1\\ud669\", \"\\uc0d8\\ud50c\", \"\\uc0dd\\uac01\", \"\\uc0dd\\uc0b0\", \"\\uc0dd\\ud65c\", \"\\uc11c\\ube44\\uc2a4\", \"\\uc11c\\ube44\\uc2a4\", \"\\uc11c\\ube44\\uc2a4\", \"\\uc11d\\ub958\", \"\\uc120\\ubb3c\", \"\\uc120\\ucc29\\uc21c\", \"\\uc120\\ud0dd\", \"\\uc124\\uba85\", \"\\uc138\\ud2b8\", \"\\uc138\\ud2b8\", \"\\uc18c\\ub7c9\", \"\\uc18c\\uc2a4\", \"\\uc18c\\uc9c4\", \"\\uc190\\uc9c8\", \"\\uc1a1\\uc7a5\", \"\\uc1a1\\ud574\", \"\\uc1fc\\ud551\", \"\\uc218\\uac00\", \"\\uc218\\ub3c4\", \"\\uc218\\ub7c9\", \"\\uc218\\ub7c9\", \"\\uc218\\ub839\", \"\\uc218\\ub839\", \"\\uc218\\ub839\", \"\\uc218\\ub839\", \"\\uc218\\uc815\", \"\\uc21c\\ucc28\", \"\\uc250\\uc774\\ud06c\", \"\\uc2a4\\ud0c0\\ubc85\\uc2a4\", \"\\uc2a4\\ud150\", \"\\uc2a4\\ud2f1\", \"\\uc2a4\\ud47c\", \"\\uc2dc\\ub098\", \"\\uc2dc\\uc77c\", \"\\uc2dc\\uc791\", \"\\uc2dd\\ucd08\", \"\\uc2e0\\uacbd\", \"\\uc2e0\\uc81c\\ud488\", \"\\uc2e0\\uccad\", \"\\uc2ec\\ud50c\", \"\\uc544\\uae30\", \"\\uc544\\uba54\\ub9ac\\uce74\\ub178\", \"\\uc544\\uc774\\uc2a4\", \"\\uc544\\uc774\\uc2a4\\ubc15\\uc2a4\", \"\\uc544\\uc8fc\", \"\\uc548\\ub0b4\", \"\\uc548\\ubcf4\", \"\\uc548\\uc2ec\", \"\\uc548\\uc8fc\", \"\\uc548\\uc8fc\\uc2dc\", \"\\uc591\\ubc30\\ucd94\", \"\\uc591\\ud574\", \"\\uc591\\ud574\", \"\\uc591\\ud574\", \"\\uc5b4\\uc81c\", \"\\uc5c5\\uccb4\", \"\\uc5ec\\ub984\", \"\\uc608\\uc815\", \"\\uc608\\uc815\", \"\\uc608\\uc815\", \"\\uc624\\ub298\", \"\\uc624\\ub2c8\", \"\\uc624\\uba54\\uac00\", \"\\uc624\\uc77c\", \"\\uc624\\ud6c4\", \"\\uc635\\uc158\", \"\\uc644\\ub8cc\", \"\\uc655\\uc790\", \"\\uc694\\uac70\\ud2b8\", \"\\uc694\\uccad\", \"\\uc6d0\\ub450\", \"\\uc6d0\\ub798\", \"\\uc720\\uc0b0\\uade0\", \"\\uc720\\ud1b5\", \"\\uc728\\ubb34\", \"\\uc74c\\uc6a9\", \"\\uc751\\ubaa8\", \"\\uc758\\uc8fc\", \"\\uc758\\uc8fc\", \"\\uc774\\uba74\", \"\\uc774\\uba74\", \"\\uc774\\ubca4\\ud2b8\", \"\\uc774\\ubca4\\ud2b8\", \"\\uc774\\ubca4\\ud2b8\", \"\\uc774\\uc6a9\", \"\\uc774\\uc804\", \"\\uc774\\uc810\", \"\\uc774\\uc81c\", \"\\uc775\\uc77c\", \"\\uc778\\ub3c4\\ub124\\uc2dc\\uc544\", \"\\uc77c\\ubc18\", \"\\uc77c\\uc815\", \"\\uc784\\uc758\", \"\\uc785\\uae08\", \"\\uc785\\uc790\", \"\\uc790\\ub3d9\", \"\\uc790\\ub3d9\", \"\\uc790\\uc5f0\", \"\\uc791\\uc5c5\", \"\\uc7ac\\uace0\", \"\\uc7ac\\ubc1c\", \"\\uc800\\ubc88\", \"\\uc801\\uc6a9\", \"\\uc801\\uc6a9\", \"\\uc801\\uc6a9\", \"\\uc804\\ub2ec\", \"\\uc804\\ub2ec\", \"\\uc810\\uc548\", \"\\uc815\\ub9d0\", \"\\uc815\\uc0c1\", \"\\uc81c\\uacf5\", \"\\uc81c\\uacf5\", \"\\uc81c\\uacf5\", \"\\uc81c\\uc548\", \"\\uc81c\\uc870\", \"\\uc81c\\ud488\", \"\\uc81c\\ud488\", \"\\uc81c\\ud488\", \"\\uc824\\ub9ac\", \"\\uc870\\uae30\", \"\\uc885\\ub8cc\", \"\\uc8fc\\ub9d0\", \"\\uc8fc\\ubb38\", \"\\uc8fc\\ubb38\", \"\\uc8fc\\ubb38\", \"\\uc8fc\\ubb38\", \"\\uc8fc\\ubb38\", \"\\uc8fc\\uc18c\", \"\\uc8fc\\uc2a4\", \"\\uc8fc\\uc2ec\", \"\\uc900\\ube44\", \"\\uc900\\ube44\", \"\\uc911\\ubcf5\", \"\\uc911\\uc774\", \"\\uc911\\uc778\", \"\\uc911\\uc778\", \"\\uc99d\\uc815\", \"\\uc99d\\uc815\", \"\\uc99d\\uc815\", \"\\uc9c0\\uae08\", \"\\uc9c0\\uae09\", \"\\uc9c0\\uae09\", \"\\uc9c0\\ub09c\\ubc88\", \"\\uc9c0\\uc5f0\", \"\\uc9c0\\uc815\", \"\\uc9c4\\uc2dc\", \"\\uc9c4\\uc2ec\", \"\\uc9c4\\ud589\", \"\\ucc28\\ub85c\", \"\\ucc38\\uace0\", \"\\ucc38\\uace0\", \"\\ucc38\\uace0\", \"\\ucc38\\uace0\", \"\\ucc38\\uc5ec\", \"\\ucc38\\uce58\", \"\\ucc98\\ub9ac\", \"\\ucd5c\\uadfc\", \"\\ucd5c\\ub300\\ud55c\", \"\\ucd5c\\uc2e0\", \"\\ucd94\\uac00\", \"\\ucd94\\uac00\", \"\\ucd94\\uc11d\", \"\\ucd94\\uc5b5\", \"\\ucd94\\ucc9c\", \"\\ucd94\\ud6c4\", \"\\ucd9c\\uace0\", \"\\ucd9c\\uace0\", \"\\ucde8\\uc18c\", \"\\ucde8\\ud5a5\", \"\\uce74\\ub204\", \"\\uce74\\ub4dc\", \"\\uce74\\ud398\", \"\\ucea1\\uc290\", \"\\ucee4\\ud53c\", \"\\ucef5\\ud640\\ub354\", \"\\ucf00\\ub0d0\", \"\\ucf00\\uc774\\uc2a4\", \"\\ucf54\\ucf54\\uc544\", \"\\ucf5c\\ub77c\\uac90\", \"\\ucfe0\\ud0a4\", \"\\ucfe0\\ud3f0\", \"\\ucfe0\\ud3f0\", \"\\ud06c\\ub9bc\", \"\\ud0a4\\uc988\", \"\\ud0c0\\uc784\", \"\\ud0dd\\ubc30\", \"\\ud0dd\\ubc30\", \"\\ud140\\ube14\\ub7ec\", \"\\ud140\\ube14\\ub7ec\", \"\\ud140\\ube14\\ub7ec\", \"\\ud140\\ube14\\ub7ec\", \"\\ud1a0\\uc2a4\", \"\\ud1b5\\ubcf4\", \"\\ud22c\\ub77c\", \"\\ud2b9\\uac00\", \"\\ud2b9\\ubcc4\", \"\\ud2f0\\ubc31\", \"\\ud2f0\\uc2a4\\ud47c\", \"\\ud30c\\uc6b0\\uce58\", \"\\ud310\\ub9e4\", \"\\ud310\\ub9e4\", \"\\ud328\\ubc00\\ub9ac\", \"\\ud37c\\uc13c\\ud2b8\", \"\\ud398\\uc774\\uc9c0\", \"\\ud398\\ud2b8\\ubcd1\", \"\\ud3ec\\uc7a5\", \"\\ud3ec\\uc7a5\", \"\\ud3ec\\ud1a0\", \"\\ud3ec\\ud568\", \"\\ud3ec\\ud568\", \"\\ud3ed\\uc8fc\", \"\\ud3ed\\uc8fc\", \"\\ud45c\\uae30\", \"\\ud488\\ubaa9\", \"\\ud488\\uc808\", \"\\ud488\\uc808\", \"\\ud504\\ub85c\", \"\\ud504\\ub85c\", \"\\ud50c\\ub7ec\\uc2a4\", \"\\ud544\\ud130\", \"\\ud558\\ub098\\uc694\", \"\\ud558\\ub8e8\", \"\\ud55c\\ubc88\", \"\\ud55c\\uc815\", \"\\ud55c\\uc815\", \"\\ud560\\uc778\", \"\\ud560\\uc778\", \"\\ud56d\\uc0c1\", \"\\ud574\\ub2f9\", \"\\ud574\\ub2f9\", \"\\ud574\\ub2f9\", \"\\ud574\\ub2f9\", \"\\ud574\\ub2f9\", \"\\ud574\\ub2f9\", \"\\ud574\\ub2f9\", \"\\ud574\\uc218\\uc695\\uc7a5\", \"\\ud589\\uc0ac\", \"\\ud5c8\\ube0c\\ucc28\", \"\\ud604\\ubbf8\", \"\\ud604\\uc7ac\", \"\\ud604\\uc7ac\", \"\\ud604\\uc7ac\", \"\\ud61c\\ud0dd\", \"\\ud638\\ubc15\", \"\\ud64d\\uc0bc\", \"\\ud654\\uc774\\ud2b8\\uace8\\ub4dc\", \"\\ud655\\uc778\", \"\\ud655\\uc778\", \"\\ud68c\\uc218\", \"\\ud6c4\\uae30\", \"\\ud788\\ube44\\uc2a4\\ucee4\\uc2a4\"]}, \"R\": 30, \"lambda.step\": 0.01, \"plot.opts\": {\"xlab\": \"PC1\", \"ylab\": \"PC2\"}, \"topic.order\": [10, 8, 3, 9, 2, 5, 1, 4, 6, 7]};\n",
              "\n",
              "function LDAvis_load_lib(url, callback){\n",
              "  var s = document.createElement('script');\n",
              "  s.src = url;\n",
              "  s.async = true;\n",
              "  s.onreadystatechange = s.onload = callback;\n",
              "  s.onerror = function(){console.warn(\"failed to load library \" + url);};\n",
              "  document.getElementsByTagName(\"head\")[0].appendChild(s);\n",
              "}\n",
              "\n",
              "if(typeof(LDAvis) !== \"undefined\"){\n",
              "   // already loaded: just create the visualization\n",
              "   !function(LDAvis){\n",
              "       new LDAvis(\"#\" + \"ldavis_el3081392774741959203552509456\", ldavis_el3081392774741959203552509456_data);\n",
              "   }(LDAvis);\n",
              "}else if(typeof define === \"function\" && define.amd){\n",
              "   // require.js is available: use it to load d3/LDAvis\n",
              "   require.config({paths: {d3: \"https://d3js.org/d3.v5\"}});\n",
              "   require([\"d3\"], function(d3){\n",
              "      window.d3 = d3;\n",
              "      LDAvis_load_lib(\"https://cdn.jsdelivr.net/gh/bmabey/pyLDAvis@3.4.0/pyLDAvis/js/ldavis.v3.0.0.js\", function(){\n",
              "        new LDAvis(\"#\" + \"ldavis_el3081392774741959203552509456\", ldavis_el3081392774741959203552509456_data);\n",
              "      });\n",
              "    });\n",
              "}else{\n",
              "    // require.js not available: dynamically load d3 & LDAvis\n",
              "    LDAvis_load_lib(\"https://d3js.org/d3.v5.js\", function(){\n",
              "         LDAvis_load_lib(\"https://cdn.jsdelivr.net/gh/bmabey/pyLDAvis@3.4.0/pyLDAvis/js/ldavis.v3.0.0.js\", function(){\n",
              "                 new LDAvis(\"#\" + \"ldavis_el3081392774741959203552509456\", ldavis_el3081392774741959203552509456_data);\n",
              "            })\n",
              "         });\n",
              "}\n",
              "</script>"
            ]
          },
          "metadata": {},
          "execution_count": 39
        }
      ]
    },
    {
      "cell_type": "markdown",
      "source": [
        "# 포장 인텐트 토픽 모델링"
      ],
      "metadata": {
        "id": "y1e9JgxiyXqY"
      }
    },
    {
      "cell_type": "code",
      "source": [
        "df4 = data[(data['인텐트 (대)']=='포장')]\n",
        "text4 = df4[['발화문']]\n",
        "text4.head(5)"
      ],
      "metadata": {
        "colab": {
          "base_uri": "https://localhost:8080/",
          "height": 262
        },
        "id": "kd8D7MZzyaSH",
        "outputId": "a7a2509b-7e18-4240-fe9e-9cb35e464e03"
      },
      "execution_count": null,
      "outputs": [
        {
          "output_type": "stream",
          "name": "stderr",
          "text": [
            "/usr/local/lib/python3.10/dist-packages/ipykernel/ipkernel.py:283: DeprecationWarning: `should_run_async` will not call `transform_cell` automatically in the future. Please pass the result to `transformed_cell` argument and any exception that happen during thetransform in `preprocessing_exc_tuple` in IPython 7.17 and above.\n",
            "  and should_run_async(code)\n"
          ]
        },
        {
          "output_type": "execute_result",
          "data": {
            "text/plain": [
              "                                                     발화문\n",
              "15886  1번이 세일 중이어서 3번 말고 1번으로 2개 구매하려고 하는데요 이 두 개가 한 ...\n",
              "15887         1번 1P 짜리 제품은 1P 전용 페이퍼백이 동봉되어 배송되는 제품이랍니다.\n",
              "15888                                         포장용기가 뭔가요?\n",
              "15889  네.본 제품에 사용된 포장용기의 재질은 폴리에틸렌과 폴리프로필렌 소재로 가열과정에서...\n",
              "15890                              택배용 박스 말고 겉박스 따로 없나요?"
            ],
            "text/html": [
              "\n",
              "  <div id=\"df-64d91efa-3d5f-4d9f-8a37-a813ae119362\" class=\"colab-df-container\">\n",
              "    <div>\n",
              "<style scoped>\n",
              "    .dataframe tbody tr th:only-of-type {\n",
              "        vertical-align: middle;\n",
              "    }\n",
              "\n",
              "    .dataframe tbody tr th {\n",
              "        vertical-align: top;\n",
              "    }\n",
              "\n",
              "    .dataframe thead th {\n",
              "        text-align: right;\n",
              "    }\n",
              "</style>\n",
              "<table border=\"1\" class=\"dataframe\">\n",
              "  <thead>\n",
              "    <tr style=\"text-align: right;\">\n",
              "      <th></th>\n",
              "      <th>발화문</th>\n",
              "    </tr>\n",
              "  </thead>\n",
              "  <tbody>\n",
              "    <tr>\n",
              "      <th>15886</th>\n",
              "      <td>1번이 세일 중이어서 3번 말고 1번으로 2개 구매하려고 하는데요 이 두 개가 한 ...</td>\n",
              "    </tr>\n",
              "    <tr>\n",
              "      <th>15887</th>\n",
              "      <td>1번 1P 짜리 제품은 1P 전용 페이퍼백이 동봉되어 배송되는 제품이랍니다.</td>\n",
              "    </tr>\n",
              "    <tr>\n",
              "      <th>15888</th>\n",
              "      <td>포장용기가 뭔가요?</td>\n",
              "    </tr>\n",
              "    <tr>\n",
              "      <th>15889</th>\n",
              "      <td>네.본 제품에 사용된 포장용기의 재질은 폴리에틸렌과 폴리프로필렌 소재로 가열과정에서...</td>\n",
              "    </tr>\n",
              "    <tr>\n",
              "      <th>15890</th>\n",
              "      <td>택배용 박스 말고 겉박스 따로 없나요?</td>\n",
              "    </tr>\n",
              "  </tbody>\n",
              "</table>\n",
              "</div>\n",
              "    <div class=\"colab-df-buttons\">\n",
              "\n",
              "  <div class=\"colab-df-container\">\n",
              "    <button class=\"colab-df-convert\" onclick=\"convertToInteractive('df-64d91efa-3d5f-4d9f-8a37-a813ae119362')\"\n",
              "            title=\"Convert this dataframe to an interactive table.\"\n",
              "            style=\"display:none;\">\n",
              "\n",
              "  <svg xmlns=\"http://www.w3.org/2000/svg\" height=\"24px\" viewBox=\"0 -960 960 960\">\n",
              "    <path d=\"M120-120v-720h720v720H120Zm60-500h600v-160H180v160Zm220 220h160v-160H400v160Zm0 220h160v-160H400v160ZM180-400h160v-160H180v160Zm440 0h160v-160H620v160ZM180-180h160v-160H180v160Zm440 0h160v-160H620v160Z\"/>\n",
              "  </svg>\n",
              "    </button>\n",
              "\n",
              "  <style>\n",
              "    .colab-df-container {\n",
              "      display:flex;\n",
              "      gap: 12px;\n",
              "    }\n",
              "\n",
              "    .colab-df-convert {\n",
              "      background-color: #E8F0FE;\n",
              "      border: none;\n",
              "      border-radius: 50%;\n",
              "      cursor: pointer;\n",
              "      display: none;\n",
              "      fill: #1967D2;\n",
              "      height: 32px;\n",
              "      padding: 0 0 0 0;\n",
              "      width: 32px;\n",
              "    }\n",
              "\n",
              "    .colab-df-convert:hover {\n",
              "      background-color: #E2EBFA;\n",
              "      box-shadow: 0px 1px 2px rgba(60, 64, 67, 0.3), 0px 1px 3px 1px rgba(60, 64, 67, 0.15);\n",
              "      fill: #174EA6;\n",
              "    }\n",
              "\n",
              "    .colab-df-buttons div {\n",
              "      margin-bottom: 4px;\n",
              "    }\n",
              "\n",
              "    [theme=dark] .colab-df-convert {\n",
              "      background-color: #3B4455;\n",
              "      fill: #D2E3FC;\n",
              "    }\n",
              "\n",
              "    [theme=dark] .colab-df-convert:hover {\n",
              "      background-color: #434B5C;\n",
              "      box-shadow: 0px 1px 3px 1px rgba(0, 0, 0, 0.15);\n",
              "      filter: drop-shadow(0px 1px 2px rgba(0, 0, 0, 0.3));\n",
              "      fill: #FFFFFF;\n",
              "    }\n",
              "  </style>\n",
              "\n",
              "    <script>\n",
              "      const buttonEl =\n",
              "        document.querySelector('#df-64d91efa-3d5f-4d9f-8a37-a813ae119362 button.colab-df-convert');\n",
              "      buttonEl.style.display =\n",
              "        google.colab.kernel.accessAllowed ? 'block' : 'none';\n",
              "\n",
              "      async function convertToInteractive(key) {\n",
              "        const element = document.querySelector('#df-64d91efa-3d5f-4d9f-8a37-a813ae119362');\n",
              "        const dataTable =\n",
              "          await google.colab.kernel.invokeFunction('convertToInteractive',\n",
              "                                                    [key], {});\n",
              "        if (!dataTable) return;\n",
              "\n",
              "        const docLinkHtml = 'Like what you see? Visit the ' +\n",
              "          '<a target=\"_blank\" href=https://colab.research.google.com/notebooks/data_table.ipynb>data table notebook</a>'\n",
              "          + ' to learn more about interactive tables.';\n",
              "        element.innerHTML = '';\n",
              "        dataTable['output_type'] = 'display_data';\n",
              "        await google.colab.output.renderOutput(dataTable, element);\n",
              "        const docLink = document.createElement('div');\n",
              "        docLink.innerHTML = docLinkHtml;\n",
              "        element.appendChild(docLink);\n",
              "      }\n",
              "    </script>\n",
              "  </div>\n",
              "\n",
              "\n",
              "<div id=\"df-9070c815-d579-44b5-9c61-7c6cd2b29ad3\">\n",
              "  <button class=\"colab-df-quickchart\" onclick=\"quickchart('df-9070c815-d579-44b5-9c61-7c6cd2b29ad3')\"\n",
              "            title=\"Suggest charts.\"\n",
              "            style=\"display:none;\">\n",
              "\n",
              "<svg xmlns=\"http://www.w3.org/2000/svg\" height=\"24px\"viewBox=\"0 0 24 24\"\n",
              "     width=\"24px\">\n",
              "    <g>\n",
              "        <path d=\"M19 3H5c-1.1 0-2 .9-2 2v14c0 1.1.9 2 2 2h14c1.1 0 2-.9 2-2V5c0-1.1-.9-2-2-2zM9 17H7v-7h2v7zm4 0h-2V7h2v10zm4 0h-2v-4h2v4z\"/>\n",
              "    </g>\n",
              "</svg>\n",
              "  </button>\n",
              "\n",
              "<style>\n",
              "  .colab-df-quickchart {\n",
              "      --bg-color: #E8F0FE;\n",
              "      --fill-color: #1967D2;\n",
              "      --hover-bg-color: #E2EBFA;\n",
              "      --hover-fill-color: #174EA6;\n",
              "      --disabled-fill-color: #AAA;\n",
              "      --disabled-bg-color: #DDD;\n",
              "  }\n",
              "\n",
              "  [theme=dark] .colab-df-quickchart {\n",
              "      --bg-color: #3B4455;\n",
              "      --fill-color: #D2E3FC;\n",
              "      --hover-bg-color: #434B5C;\n",
              "      --hover-fill-color: #FFFFFF;\n",
              "      --disabled-bg-color: #3B4455;\n",
              "      --disabled-fill-color: #666;\n",
              "  }\n",
              "\n",
              "  .colab-df-quickchart {\n",
              "    background-color: var(--bg-color);\n",
              "    border: none;\n",
              "    border-radius: 50%;\n",
              "    cursor: pointer;\n",
              "    display: none;\n",
              "    fill: var(--fill-color);\n",
              "    height: 32px;\n",
              "    padding: 0;\n",
              "    width: 32px;\n",
              "  }\n",
              "\n",
              "  .colab-df-quickchart:hover {\n",
              "    background-color: var(--hover-bg-color);\n",
              "    box-shadow: 0 1px 2px rgba(60, 64, 67, 0.3), 0 1px 3px 1px rgba(60, 64, 67, 0.15);\n",
              "    fill: var(--button-hover-fill-color);\n",
              "  }\n",
              "\n",
              "  .colab-df-quickchart-complete:disabled,\n",
              "  .colab-df-quickchart-complete:disabled:hover {\n",
              "    background-color: var(--disabled-bg-color);\n",
              "    fill: var(--disabled-fill-color);\n",
              "    box-shadow: none;\n",
              "  }\n",
              "\n",
              "  .colab-df-spinner {\n",
              "    border: 2px solid var(--fill-color);\n",
              "    border-color: transparent;\n",
              "    border-bottom-color: var(--fill-color);\n",
              "    animation:\n",
              "      spin 1s steps(1) infinite;\n",
              "  }\n",
              "\n",
              "  @keyframes spin {\n",
              "    0% {\n",
              "      border-color: transparent;\n",
              "      border-bottom-color: var(--fill-color);\n",
              "      border-left-color: var(--fill-color);\n",
              "    }\n",
              "    20% {\n",
              "      border-color: transparent;\n",
              "      border-left-color: var(--fill-color);\n",
              "      border-top-color: var(--fill-color);\n",
              "    }\n",
              "    30% {\n",
              "      border-color: transparent;\n",
              "      border-left-color: var(--fill-color);\n",
              "      border-top-color: var(--fill-color);\n",
              "      border-right-color: var(--fill-color);\n",
              "    }\n",
              "    40% {\n",
              "      border-color: transparent;\n",
              "      border-right-color: var(--fill-color);\n",
              "      border-top-color: var(--fill-color);\n",
              "    }\n",
              "    60% {\n",
              "      border-color: transparent;\n",
              "      border-right-color: var(--fill-color);\n",
              "    }\n",
              "    80% {\n",
              "      border-color: transparent;\n",
              "      border-right-color: var(--fill-color);\n",
              "      border-bottom-color: var(--fill-color);\n",
              "    }\n",
              "    90% {\n",
              "      border-color: transparent;\n",
              "      border-bottom-color: var(--fill-color);\n",
              "    }\n",
              "  }\n",
              "</style>\n",
              "\n",
              "  <script>\n",
              "    async function quickchart(key) {\n",
              "      const quickchartButtonEl =\n",
              "        document.querySelector('#' + key + ' button');\n",
              "      quickchartButtonEl.disabled = true;  // To prevent multiple clicks.\n",
              "      quickchartButtonEl.classList.add('colab-df-spinner');\n",
              "      try {\n",
              "        const charts = await google.colab.kernel.invokeFunction(\n",
              "            'suggestCharts', [key], {});\n",
              "      } catch (error) {\n",
              "        console.error('Error during call to suggestCharts:', error);\n",
              "      }\n",
              "      quickchartButtonEl.classList.remove('colab-df-spinner');\n",
              "      quickchartButtonEl.classList.add('colab-df-quickchart-complete');\n",
              "    }\n",
              "    (() => {\n",
              "      let quickchartButtonEl =\n",
              "        document.querySelector('#df-9070c815-d579-44b5-9c61-7c6cd2b29ad3 button');\n",
              "      quickchartButtonEl.style.display =\n",
              "        google.colab.kernel.accessAllowed ? 'block' : 'none';\n",
              "    })();\n",
              "  </script>\n",
              "</div>\n",
              "    </div>\n",
              "  </div>\n"
            ]
          },
          "metadata": {},
          "execution_count": 40
        }
      ]
    },
    {
      "cell_type": "code",
      "source": [
        "text4['발화문'] = text4.apply(tokenize_korean_text, axis=1)\n",
        "text4['발화문'] = text4['발화문'].apply(remove_stopwords)\n",
        "tokenized_doc4 = text4['발화문'].apply(lambda x: [word for word in x if len(word) > 1])\n",
        "print(tokenized_doc4[:5])"
      ],
      "metadata": {
        "colab": {
          "base_uri": "https://localhost:8080/"
        },
        "id": "znJc3Lqhygr8",
        "outputId": "88d3030e-e4eb-438f-e7f1-b165e1e49a5f"
      },
      "execution_count": null,
      "outputs": [
        {
          "output_type": "stream",
          "name": "stderr",
          "text": [
            "/usr/local/lib/python3.10/dist-packages/ipykernel/ipkernel.py:283: DeprecationWarning: `should_run_async` will not call `transform_cell` automatically in the future. Please pass the result to `transformed_cell` argument and any exception that happen during thetransform in `preprocessing_exc_tuple` in IPython 7.17 and above.\n",
            "  and should_run_async(code)\n",
            "<ipython-input-41-407f3bb7ebd0>:1: SettingWithCopyWarning: \n",
            "A value is trying to be set on a copy of a slice from a DataFrame.\n",
            "Try using .loc[row_indexer,col_indexer] = value instead\n",
            "\n",
            "See the caveats in the documentation: https://pandas.pydata.org/pandas-docs/stable/user_guide/indexing.html#returning-a-view-versus-a-copy\n",
            "  text4['발화문'] = text4.apply(tokenize_korean_text, axis=1)\n"
          ]
        },
        {
          "output_type": "stream",
          "name": "stdout",
          "text": [
            "15886                                             [구매, 쇼핑]\n",
            "15887                       [제품, 전용, 페이퍼백, 동봉, 배송, 제품, 랍니]\n",
            "15888                                         [포장, 용기, 뭔가]\n",
            "15889    [제품, 사용, 포장, 용기, 재질, 폴리에틸렌, 폴리프로필렌, 소재, 가열, 과정...\n",
            "15890                                         [택배, 박스, 박스]\n",
            "Name: 발화문, dtype: object\n"
          ]
        },
        {
          "output_type": "stream",
          "name": "stderr",
          "text": [
            "<ipython-input-41-407f3bb7ebd0>:2: SettingWithCopyWarning: \n",
            "A value is trying to be set on a copy of a slice from a DataFrame.\n",
            "Try using .loc[row_indexer,col_indexer] = value instead\n",
            "\n",
            "See the caveats in the documentation: https://pandas.pydata.org/pandas-docs/stable/user_guide/indexing.html#returning-a-view-versus-a-copy\n",
            "  text4['발화문'] = text4['발화문'].apply(remove_stopwords)\n"
          ]
        }
      ]
    },
    {
      "cell_type": "code",
      "source": [
        "dictionary4 = corpora.Dictionary(tokenized_doc4)\n",
        "corpus4 = [dictionary4.doc2bow(text4) for text4 in tokenized_doc4]\n",
        "print(corpus4[1]) # 수행된 결과에서 두번째 뉴스 출력. 첫번째 문서의 인덱스는 0"
      ],
      "metadata": {
        "colab": {
          "base_uri": "https://localhost:8080/"
        },
        "id": "Lg2O9umry9sG",
        "outputId": "d53a63a0-d0f8-4609-cb51-7f105c823338"
      },
      "execution_count": null,
      "outputs": [
        {
          "output_type": "stream",
          "name": "stdout",
          "text": [
            "[(2, 1), (3, 1), (4, 1), (5, 1), (6, 2), (7, 1)]\n"
          ]
        },
        {
          "output_type": "stream",
          "name": "stderr",
          "text": [
            "/usr/local/lib/python3.10/dist-packages/ipykernel/ipkernel.py:283: DeprecationWarning: `should_run_async` will not call `transform_cell` automatically in the future. Please pass the result to `transformed_cell` argument and any exception that happen during thetransform in `preprocessing_exc_tuple` in IPython 7.17 and above.\n",
            "  and should_run_async(code)\n"
          ]
        }
      ]
    },
    {
      "cell_type": "code",
      "source": [
        "NUM_TOPICS = 10 # 10개의 토픽, k=10\n",
        "ldamodel4 = gensim.models.ldamodel.LdaModel(corpus4, num_topics = NUM_TOPICS, id2word=dictionary4, passes=15)\n",
        "topics4 = ldamodel4.print_topics(num_words=4)\n",
        "for topic in topics4:\n",
        "    print(topic)"
      ],
      "metadata": {
        "colab": {
          "base_uri": "https://localhost:8080/"
        },
        "id": "AJCRlB9izGBO",
        "outputId": "11304608-797f-44d0-a6c5-0b1c83ecc2e9"
      },
      "execution_count": null,
      "outputs": [
        {
          "output_type": "stream",
          "name": "stderr",
          "text": [
            "/usr/local/lib/python3.10/dist-packages/ipykernel/ipkernel.py:283: DeprecationWarning: `should_run_async` will not call `transform_cell` automatically in the future. Please pass the result to `transformed_cell` argument and any exception that happen during thetransform in `preprocessing_exc_tuple` in IPython 7.17 and above.\n",
            "  and should_run_async(code)\n"
          ]
        },
        {
          "output_type": "stream",
          "name": "stdout",
          "text": [
            "(0, '0.130*\"포장\" + 0.103*\"배송\" + 0.061*\"진공\" + 0.061*\"냉동\"')\n",
            "(1, '0.054*\"판매\" + 0.054*\"포장\" + 0.039*\"봉지\" + 0.033*\"현재\"')\n",
            "(2, '0.145*\"아이스팩\" + 0.112*\"추가\" + 0.059*\"구매\" + 0.053*\"옵션\"')\n",
            "(3, '0.166*\"쇼핑\" + 0.096*\"동봉\" + 0.035*\"부분\" + 0.034*\"양해\"')\n",
            "(4, '0.266*\"포장\" + 0.163*\"선물\" + 0.041*\"세트\" + 0.037*\"개별\"')\n",
            "(5, '0.329*\"박스\" + 0.111*\"포장\" + 0.059*\"배송\" + 0.037*\"택배\"')\n",
            "(6, '0.149*\"상품\" + 0.084*\"출고\" + 0.049*\"확인\" + 0.043*\"배송\"')\n",
            "(7, '0.150*\"발송\" + 0.070*\"포장\" + 0.032*\"상품\" + 0.032*\"오늘\"')\n",
            "(8, '0.237*\"제품\" + 0.059*\"포장\" + 0.033*\"참고\" + 0.022*\"배송\"')\n",
            "(9, '0.141*\"아이스박스\" + 0.100*\"포장\" + 0.065*\"주문\" + 0.049*\"아이스팩\"')\n"
          ]
        }
      ]
    },
    {
      "cell_type": "code",
      "source": [
        "pyLDAvis.enable_notebook()\n",
        "vis4 = pyLDAvis.gensim_models.prepare(ldamodel4, corpus4, dictionary4)\n",
        "pyLDAvis.display(vis4)"
      ],
      "metadata": {
        "colab": {
          "base_uri": "https://localhost:8080/",
          "height": 918
        },
        "id": "cfbfKg59zPYW",
        "outputId": "c8793bca-c267-4c29-804d-1874c1ee148f"
      },
      "execution_count": null,
      "outputs": [
        {
          "output_type": "stream",
          "name": "stderr",
          "text": [
            "/usr/local/lib/python3.10/dist-packages/ipykernel/ipkernel.py:283: DeprecationWarning: `should_run_async` will not call `transform_cell` automatically in the future. Please pass the result to `transformed_cell` argument and any exception that happen during thetransform in `preprocessing_exc_tuple` in IPython 7.17 and above.\n",
            "  and should_run_async(code)\n"
          ]
        },
        {
          "output_type": "execute_result",
          "data": {
            "text/plain": [
              "<IPython.core.display.HTML object>"
            ],
            "text/html": [
              "\n",
              "<link rel=\"stylesheet\" type=\"text/css\" href=\"https://cdn.jsdelivr.net/gh/bmabey/pyLDAvis@3.4.0/pyLDAvis/js/ldavis.v1.0.0.css\">\n",
              "\n",
              "\n",
              "<div id=\"ldavis_el3081392774623931681821230834\" style=\"background-color:white;\"></div>\n",
              "<script type=\"text/javascript\">\n",
              "\n",
              "var ldavis_el3081392774623931681821230834_data = {\"mdsDat\": {\"x\": [0.20231586505329946, 0.12175578751620332, -0.02819283224248217, 0.12466730007154646, -0.18787508421510551, 0.15923871912935925, -0.08910960755815245, 0.012884026410009429, -0.2785192453650424, -0.0371649287996353], \"y\": [-0.023285257457726482, 0.08868617885260328, 0.07081524859975329, 0.052598523141960424, 0.20754330409633587, 0.031710088160567466, 0.07878667267601418, -0.13025274835172368, -0.07456784961936727, -0.30203416009841694], \"topics\": [1, 2, 3, 4, 5, 6, 7, 8, 9, 10], \"cluster\": [1, 1, 1, 1, 1, 1, 1, 1, 1, 1], \"Freq\": [16.690903807930617, 12.727842178482037, 10.582479753112645, 10.389521475185004, 10.321031883289129, 9.745190537653558, 8.627098584260592, 8.472384894412455, 6.5222522530603735, 5.921294632613588]}, \"tinfo\": {\"Term\": [\"\\ubc15\\uc2a4\", \"\\uc81c\\ud488\", \"\\uc120\\ubb3c\", \"\\ubc1c\\uc1a1\", \"\\ud3ec\\uc7a5\", \"\\uc544\\uc774\\uc2a4\\ubc15\\uc2a4\", \"\\uc0c1\\ud488\", \"\\uc544\\uc774\\uc2a4\\ud329\", \"\\uc1fc\\ud551\", \"\\ucd94\\uac00\", \"\\ucd9c\\uace0\", \"\\ub3d9\\ubd09\", \"\\ubc30\\uc1a1\", \"\\uc9c4\\uacf5\", \"\\ub0c9\\ub3d9\", \"\\uc138\\ud2b8\", \"\\ud655\\uc778\", \"\\uc635\\uc158\", \"\\uac1c\\ubcc4\", \"\\ubcf4\\uad00\", \"\\uae30\\ubcf8\", \"\\ub4dc\\ub77c\\uc774\\uc544\\uc774\\uc2a4\", \"\\uc120\\ud0dd\", \"\\uad6c\\ub9e4\", \"\\ud0dd\\ubc30\", \"\\uc0c1\\uc790\", \"\\ud310\\ub9e4\", \"\\uc0c1\\ud0dc\", \"\\uc8fc\\ubb38\", \"\\uc591\\ud574\", \"\\uac1c\\ubcc4\", \"\\uc138\\ud2b8\", \"\\uc0c1\\uc790\", \"\\ub0b1\\uac1c\", \"\\uc778\\ubd84\", \"\\uadf8\\ub7a8\", \"\\uc120\\ubb3c\", \"\\uace0\\uae09\", \"\\uadf8\\ub78c\", \"\\ucd94\\uc11d\", \"\\uac00\\ubc29\", \"\\ubd80\\uc9c1\\ud3ec\", \"\\uc6a9\\uc774\", \"\\uba85\\uc808\", \"\\uaec0\\ub370\", \"\\uc548\\uc804\", \"\\uc911\\ub7c9\", \"\\ucc98\\uc74c\", \"\\uc124\\uba85\", \"\\ubc14\\uad6c\\ub2c8\", \"\\ud14c\\uc774\\ud504\", \"\\uc870\\uac01\", \"\\uc0ac\\uc7a5\", \"\\ubd99\\uc774\", \"\\uacfc\\uc790\", \"\\uc7a5\\ub9c8\", \"\\ub2f5\\ub840\", \"\\uc591\\ubc30\\ucd94\", \"\\ud604\\ubbf8\", \"\\uc2dc\\uc791\", \"\\ubcf4\\uc790\\uae30\", \"\\uc9c0\\ud37c\", \"\\uc190\\uc7a1\\uc774\", \"\\ud3ec\\uc7a5\", \"\\uad6c\\uc785\", \"\\uc0ac\\uc9c4\", \"\\uad6c\\ub9e4\", \"\\uc8fc\\ubb38\", \"\\uc0c1\\ud488\", \"\\uc0ac\\uc774\\uc988\", \"\\ube44\\ub2d0\", \"\\ucc28\\uc774\", \"\\ucf00\\uc774\\uc2a4\", \"\\ubc15\\uc2a4\", \"\\uc885\\uc774\", \"\\uc2a4\\ud2f0\\ub85c\\ud3fc\", \"\\uace0\\uae30\", \"\\ub0b4\\uc6a9\\ubb3c\", \"\\uac1c\\uc2dc\", \"\\ub4f1\\uc2ec\", \"\\uc678\\uacfd\", \"\\uc219\\uc131\", \"\\uc6b0\\uc720\", \"\\ub0c9\\uc7a5\\uace0\", \"\\uc57d\\uc18d\", \"\\ubb34\\uac8c\", \"\\uc14b\\ud2b8\", \"\\ub300\\ucc9c\", \"\\uac74\\uc2dc\", \"\\uc74c\\ub8cc\\uc218\", \"\\uac70\\uc9c0\", \"\\uc544\\uc774\\uc2a4\\ud06c\\ub9bc\", \"\\ub300\\ud558\", \"\\ud504\\ub9ac\\ubbf8\\uc5c4\", \"\\uc138\\ub85c\", \"\\ub099\\uc9c0\", \"\\uac00\\ub85c\", \"\\uc6a9\\ub3c4\", \"\\ubfcc\\ub9ac\", \"\\ubb34\\uc9c0\", \"\\ub192\\uc774\", \"\\ubb38\\uc758\\uc0ac\\ud56d\", \"\\uc2e4\\uc18d\", \"\\ubb36\\uc74c\", \"\\uacf5\\ud3ec\", \"\\uc5ec\\ub7ec\", \"\\uc77c\\ubc18\", \"\\ud0dd\\ubc30\", \"\\ud06c\\uae30\", \"\\ubc30\\uc1a1\", \"\\ud3ec\\uc7a5\", \"\\ube44\\ub2d0\", \"\\uc8fc\\ubb38\", \"\\ucd9c\\uace0\", \"\\uad6c\\ub9e4\", \"\\uc218\\ub7c9\", \"\\uc804\\uc6a9\", \"\\ubb38\\uc758\", \"\\uc790\\uccb4\", \"\\ubcc4\\ub3c4\", \"\\uacbd\\uc6b0\", \"\\uc608\\uc815\", \"\\uc5bc\\uc74c\", \"\\uac00\\uaca9\", \"\\ubb38\\uac74\", \"\\uc218\\ub3c4\", \"\\uc804\\ub2ec\", \"\\uc758\\uc8fc\", \"\\uc774\\ud6c4\", \"\\ubb3c\\ub958\", \"\\uace0\\ucd94\", \"\\ucd94\\ucc9c\", \"\\ud398\\uc774\\uc9c0\", \"\\uc0ac\\uace0\", \"\\ub300\\ubd80\\ubd84\", \"\\ucd5c\\ub300\", \"\\uc800\\ub141\", \"\\uc0ac\\ub78c\", \"\\uc815\\uc0c1\", \"\\uaca8\\uc6b8\", \"\\ub85c\\ub9cc\", \"\\uc2e4\\uc218\", \"\\uae30\\uc0ac\", \"\\uc81c\\uc77c\", \"\\uc9c0\\uc815\", \"\\uac00\\uaca9\\ud45c\", \"\\ubaa9\\uc0b4\", \"\\uc81c\\uac70\", \"\\uac74\\uac15\", \"\\ub369\\uc774\", \"\\ucee4\\ud53c\", \"\\ub0b4\\uc77c\", \"\\uc624\\ub298\", \"\\ubc1c\\uc1a1\", \"\\ucc98\\ub9ac\", \"\\ubc1c\\uc0dd\", \"\\uacb0\\uc81c\", \"\\ud558\\ub8e8\", \"\\ub77c\\uba74\", \"\\uc9c4\\ud589\", \"\\ub2f9\\uc77c\", \"\\ud0dd\\ubc30\", \"\\ub2e4\\uc2dc\", \"\\uc0c1\\ud488\", \"\\ud3ec\\uc7a5\", \"\\uacbd\\uc6b0\", \"\\uc694\\uccad\", \"\\ud569\\ud3ec\", \"\\ube44\\ub2d0\", \"\\ubd80\\ubd84\", \"\\ubc30\\uc1a1\", \"\\uace0\\uac1d\", \"\\uad6c\\ub9e4\", \"\\uc8fc\\ubb38\", \"\\ucc38\\uace0\", \"\\uc544\\uc774\\uc2a4\\ubc15\\uc2a4\", \"\\uc544\\uc774\\uc2a4\", \"\\ub0b4\\uc6a9\", \"\\uc694\\uc998\", \"\\ubd09\\ud22c\", \"\\ubb34\\ub8cc\", \"\\ub0c9\\ub9e4\", \"\\uc0b0\\uc18c\", \"\\uace0\\ucda7\\uac00\\ub8e8\", \"\\uc2e0\\ubb38\\uc9c0\", \"\\uae30\\ud55c\", \"\\uc18c\\ud3ec\", \"\\uac00\\uc2b4\", \"\\uc800\\ubc88\", \"\\ubcf4\\ub0c9\", \"\\ud615\\ud0dc\", \"\\ud2f0\\ubc31\", \"\\uc790\\ub3d9\", \"\\uce58\\uc988\", \"\\ucd5c\\uc18c\", \"\\uc720\\ud1b5\", \"\\uc9c0\\uc778\", \"\\ubf41\\ubf41\\uc774\", \"\\uc57c\\ucc44\", \"\\ucf54\\ud305\", \"\\uc120\\ubcc4\", \"\\uae30\\ub984\", \"\\ub0c4\\uc0c8\", \"\\uac74\\uc758\", \"\\uad6c\\uba4d\", \"\\ub0a0\\uc528\", \"\\uc9c0\\uae08\", \"\\ubcc4\\ub85c\", \"\\ub2e8\\uc704\", \"\\uc5ec\\ub984\", \"\\uc544\\uc774\\uc2a4\\ud329\", \"\\uc8fc\\ubb38\", \"\\uc218\\ub7c9\", \"\\ud3ec\\uc7a5\", \"\\ubc1c\\uc1a1\", \"\\ubc30\\uc1a1\", \"\\ud3ec\\ud568\", \"\\uc77c\\ubc18\", \"\\ub3c4\\ucc29\", \"\\uacbd\\uc6b0\", \"\\ubb38\\uc758\", \"\\ud655\\uc778\", \"\\ubd84\\ud574\", \"\\ubcf4\\uc2dc\", \"\\uc9c0\\uc5ed\", \"\\ud56d\\uc0c1\", \"\\ub2f5\\ubcc0\", \"\\uad50\\ud658\", \"\\uc6d4\\uc694\\uc77c\", \"\\uc18c\\uc694\", \"\\uc0ac\\uc740\", \"\\uc8fc\\uc758\", \"\\uc18c\\uc2a4\", \"\\uc9c1\\uc811\", \"\\uac1c\\ubd09\", \"\\uac1c\\uc785\", \"\\uc624\\ud6c4\", \"\\uc21c\\ucc28\", \"\\uc8fc\\ub9d0\", \"\\ud488\\uc9c8\", \"\\uc5ec\\uc720\", \"\\uc77c\\uad04\", \"\\uad00\\uc2ec\", \"\\uc0ac\\uc815\", \"\\uacf0\\ud321\\uc774\", \"\\uad6d\\uc0b0\", \"\\uba78\\uce58\", \"\\ucda9\\uaca9\", \"\\ub3c4\\uc6c0\", \"\\uac1c\\uc218\", \"\\uae30\\uac04\", \"\\uc0dd\\uc0b0\", \"\\uc0ac\\ud56d\", \"\\ucd9c\\uace0\", \"\\uc0c1\\ud488\", \"\\uac10\\uc0ac\", \"\\ub9d0\\uc500\", \"\\uc694\\uccad\", \"\\ubb38\\uc81c\", \"\\ud574\\ub2f9\", \"\\uc218\\ub839\", \"\\uace0\\uac1d\", \"\\ubb38\\uc758\", \"\\ud30c\\uc190\", \"\\uae30\\uc7ac\", \"\\uc591\\ud574\", \"\\ucd5c\\ub300\\ud55c\", \"\\uacbd\\uc6b0\", \"\\ubc30\\uc1a1\", \"\\uc791\\uc5c5\", \"\\uc1a1\\uc7a5\", \"\\ud0dd\\ubc30\", \"\\uc8fc\\ubb38\", \"\\uae08\\uc77c\", \"\\ucc98\\ub9ac\", \"\\uc9c4\\uacf5\", \"\\ub0c9\\ub3d9\", \"\\ubcf4\\uad00\", \"\\uc0c1\\ud0dc\", \"\\ub0c9\\uc7a5\", \"\\uc6d0\\ub798\", \"\\ubc29\\uae08\", \"\\uc2e4\\uc628\", \"\\ub179\\uc9c0\", \"\\ubd80\\uc704\", \"\\uc0c1\\uc628\", \"\\ubcf4\\ub0c9\\ud329\", \"\\ud574\\ub3d9\", \"\\ud574\\uc678\", \"\\ub530\\ub85c\\ub530\\ub85c\", \"\\uba54\\ubaa8\", \"\\uc2a4\\ud14c\\uc774\\ud06c\", \"\\uc190\\uc9c8\", \"\\uce74\\ub4dc\", \"\\ud669\\uae08\", \"\\ubb3c\\uac74\", \"\\ubaa9\\uc694\\uc77c\", \"\\ub0a0\\uc9dc\", \"\\uae40\\uce58\", \"\\ucc38\\uce58\", \"\\ubd84\\ub9ac\", \"\\uc7ac\\ub798\", \"\\ucd1d\\uac01\", \"\\uc555\\ucd95\", \"\\ud638\\ubc15\", \"\\uc2e0\\uacbd\", \"\\uba54\\uc138\\uc9c0\", \"\\ubc30\\uc1a1\", \"\\uac71\\uc815\", \"\\ub354\\uc6b1\", \"\\ud3ec\\uc7a5\", \"\\uc8fc\\ubb38\", \"\\uc218\\ub839\", \"\\uae08\\uc694\\uc77c\", \"\\ub2ec\\ub77c\", \"\\uc2a4\\ud2f0\\ucee4\", \"\\ucd94\\uac00\", \"\\uc635\\uc158\", \"\\uae30\\ubcf8\", \"\\ub4dc\\ub77c\\uc774\\uc544\\uc774\\uc2a4\", \"\\uc120\\ud0dd\", \"\\ubd84\\ud3ec\", \"\\ud0ac\\ub85c\", \"\\ubcf4\\ud1b5\", \"\\ud6c4\\uae30\", \"\\ubc18\\uc601\", \"\\ubd80\\ud0c1\", \"\\ub0c9\\ub3d9\\uc2dd\\ud488\", \"\\ubf41\\ubf41\", \"\\uac1c\\uc6d4\", \"\\ud1f4\\uadfc\", \"\\ud55c\\uc5ec\\ub984\", \"\\ud3ec\\uc7a5\\uc7ac\", \"\\ubbf8\\uad6d\", \"\\uc774\\uba74\", \"\\uc601\\uc218\\uc99d\", \"\\uc131\\ud488\", \"\\uad6d\\uac70\", \"\\ub124\\ub124\", \"\\uae30\\uc628\", \"\\ubb38\\uc790\", \"\\ub2e8\\uac00\", \"\\ubfb1\\ubfb1\", \"\\uce78\\ub9c9\\uc774\", \"\\uc218\\uc815\", \"\\uc544\\ub798\", \"\\ud558\\ub098\\uc694\", \"\\uc544\\uc774\\uc2a4\\ud329\", \"\\uc2dd\\ud488\", \"\\uad6c\\uc131\", \"\\uc2a4\\ud2f0\\ucee4\", \"\\uad6c\\ub9e4\", \"\\uc2e0\\uccad\", \"\\ud37c\\uc13c\\ud2b8\", \"\\uc8fc\\ubb38\", \"\\ubc30\\uc1a1\", \"\\uc81c\\uacf5\", \"\\uac71\\uc815\", \"\\uace0\\uac1d\", \"\\ud604\\uc7ac\", \"\\uacbd\\uc6b0\", \"\\ubcc4\\ub3c4\", \"\\uc81c\\ud488\", \"\\uc6a9\\uae30\", \"\\uc774\\uc911\", \"\\ud1a0\\uc694\\uc77c\", \"\\ubaa8\\ub4e0\", \"\\ub9e4\\uc81c\", \"\\uc6a9\\ub7c9\", \"\\uc790\\uc5f0\", \"\\uc7ac\\uc9c8\", \"\\uc720\\uc9c0\", \"\\uc2e0\\uc120\\ub3c4\", \"\\ud398\\uc774\\ud37c\\ubc31\", \"\\uc608\\uc804\", \"\\ucd9c\\ubc1c\", \"\\ucc29\\uc624\", \"\\uc778\\uc808\\ubbf8\", \"\\uacc4\\uc18d\", \"\\ubcf4\\uc7a5\", \"\\uc0ac\\ub824\", \"\\uc77c\\ucd9c\", \"\\ubd09\\ud558\", \"\\ub78d\\ub2c8\", \"\\ubd80\\ucc29\", \"\\uaddc\\uaca9\", \"\\uc0dd\\uc218\", \"\\uad6d\\ub0b4\", \"\\ubabb\\ub09c\\uc774\", \"\\ub300\\ud55c\", \"\\ub9ac\\ub274\\uc5bc\", \"\\uc2e4\\ub9c1\", \"\\uc704\\ud574\", \"\\ucc38\\uace0\", \"\\ub69c\\uaed1\", \"\\uc774\\uc6a9\", \"\\uc0ac\\uc6a9\", \"\\uc790\\uccb4\", \"\\uba3c\\uc800\", \"\\ucf00\\uc774\\uc2a4\", \"\\uadf8\\ub300\\ub85c\", \"\\ud574\\ub2f9\", \"\\ud3ec\\uc7a5\", \"\\ubb38\\uc758\", \"\\ubc30\\uc1a1\", \"\\uad6c\\ub9e4\", \"\\ud604\\uc7ac\", \"\\ubcc4\\ub3c4\", \"\\uacbd\\uc6b0\", \"\\ud30c\\uc190\", \"\\ube44\\ub2d0\", \"\\uc1fc\\ud551\", \"\\ub3d9\\ubd09\", \"\\uc900\\ube44\", \"\\ubb3c\\ub7c9\", \"\\ud3ec\\ub300\", \"\\ubc31\\ub3c4\", \"\\ud64d\\uc0bc\", \"\\uace8\\ub4dc\", \"\\uc99d\\uc815\", \"\\uc815\\ub9d0\", \"\\uc548\\ub0b4\", \"\\uc774\\uc720\", \"\\uac80\\uc218\", \"\\uc11c\\ube44\\uc2a4\", \"\\ubc30\\uc1a1\\ub7c9\", \"\\uc774\\uc804\", \"\\uc218\\uc694\\uc77c\", \"\\uc5fc\\ub824\", \"\\uc624\\uc9d5\\uc5b4\", \"\\ud68c\\uc0ac\", \"\\ud589\\uc0ac\", \"\\uc21c\\ub300\", \"\\uc7ac\\uace0\", \"\\ub9c8\\uac10\", \"\\uc624\\ub2c8\", \"\\ucc28\\ub7c9\", \"\\uac70\\ub098\", \"\\uc2dc\\ub098\", \"\\ud3b8\\uc774\", \"\\uace0\\ub824\", \"\\uc0c1\\ud558\", \"\\ubd80\\ubd84\", \"\\uc591\\ud574\", \"\\ubcc4\\ub3c4\", \"\\uc81c\\uacf5\", \"\\ud604\\uc7ac\", \"\\uc8fc\\ubb38\", \"\\uc218\\ub7c9\", \"\\uc694\\uccad\", \"\\ucd9c\\uace0\", \"\\ubcf4\\uc790\\uae30\", \"\\uad6c\\ub9e4\", \"\\ud310\\ub9e4\", \"\\ubd09\\uc9c0\", \"\\ub9c8\\ub9ac\", \"\\ubc29\\ubc95\", \"\\uc8fc\\uc2ec\", \"\\ubbf8\\ub9ac\", \"\\ubc30\\uc1a1\\ube44\", \"\\uc808\\ub2e8\", \"\\ubd80\\ubaa8\\ub2d8\", \"\\uacf1\\ucc3d\", \"\\uc12d\\ucde8\", \"\\ud30c\\uc6b0\\uce58\", \"\\uad8c\\uc7a5\", \"\\ub9e4\\uc6b0\", \"\\uac70\\ub9ac\", \"\\ubb38\\uad6c\", \"\\ud658\\ubd88\", \"\\uae30\\uc874\", \"\\uc544\\uce68\", \"\\ub3c4\\uc2dc\\ub77d\", \"\\uc774\\uae30\", \"\\ud488\\uc808\", \"\\uc704\\ub85c\", \"\\ud6a8\\uacfc\", \"\\ub18d\\ubd80\", \"\\ud63c\\ud569\", \"\\uc911\\uc774\", \"\\ub9c8\\ub298\", \"\\uc804\\uccb4\", \"\\ucde8\\uc18c\", \"\\ubcc0\\uacbd\", \"\\ud328\\ud0a4\\uc9c0\", \"\\ud569\\ud3ec\", \"\\ud604\\uc7ac\", \"\\ud45c\\uc2dc\", \"\\ubcc0\\uc9c8\", \"\\ubc30\\ub2ec\", \"\\ubc00\\ubd09\", \"\\uc6b0\\ub824\", \"\\ud3ec\\uc7a5\", \"\\uacbd\\uc6b0\", \"\\ubcc4\\ub3c4\"], \"Freq\": [1855.0, 889.0, 1220.0, 860.0, 4300.0, 648.0, 960.0, 780.0, 479.0, 429.0, 513.0, 276.0, 1405.0, 265.0, 264.0, 303.0, 223.0, 205.0, 272.0, 202.0, 191.0, 191.0, 188.0, 673.0, 373.0, 235.0, 142.0, 160.0, 1252.0, 196.0, 271.51121226859806, 302.50181559131886, 234.7240710071627, 115.70884089536744, 87.28968553276594, 77.4126608098822, 1206.9568962438466, 65.2523070103707, 64.58143346222366, 61.7926163616428, 57.945037373684876, 46.2710648320996, 41.13602770055286, 36.23829914925268, 35.33124216267265, 27.910813194506606, 25.723241600055808, 23.048936065611844, 21.94883983998858, 21.63356099654149, 19.0334408445796, 18.138528163904837, 16.754911684862986, 16.15687644574231, 13.235665077830006, 13.17770565102799, 11.006598287702476, 10.624665974403044, 10.31385501060406, 10.1900644653058, 200.14001935112378, 91.13579873964562, 72.19253267818326, 1962.1403002156178, 66.03334123222875, 45.4627553834641, 211.57620848197237, 253.89634987849692, 128.10254979517504, 28.38741741737692, 49.2176151162218, 30.00860913871595, 24.529842903521615, 1854.3057680860861, 144.14765076340962, 47.42979366945611, 47.08511261296209, 29.954732259861384, 24.318588521764266, 21.679927070483004, 21.531263915786248, 20.397072068219167, 20.036381759207774, 19.317701054458837, 16.636332957500425, 16.08731123448161, 15.318255763022654, 13.862637797101616, 13.18206942496617, 12.10960299991345, 11.80998346972174, 11.691112506733349, 11.344405859328345, 11.137161933291868, 10.976537428121684, 10.71045887592601, 10.467499479059969, 10.147663397094691, 9.389892985879486, 9.352165043251048, 8.798560814369479, 8.787577493704436, 8.77491033499907, 123.31039706203474, 28.20091687550221, 39.14729674464304, 110.9380877776955, 208.71806294106318, 33.425175593370554, 330.22083526847626, 625.8201447428006, 75.15538412235017, 197.08523077800206, 103.16139297294029, 93.85596476660899, 30.915027652484287, 17.975513555730927, 41.13572645865012, 21.33393410277721, 29.218886508817487, 17.64238387745666, 58.97670401993248, 57.77352148324378, 52.8054948270774, 49.018708580051296, 38.03747873759944, 32.78948161623854, 27.06556851822243, 26.40539800858457, 26.2014025417994, 20.934351677944175, 20.06256115033982, 18.68383723014435, 17.894744177191193, 17.469024798649468, 17.427149760044184, 17.30649532802423, 16.92838739934137, 15.650839855308218, 15.203616842719487, 14.985141273368933, 14.770930653248563, 14.430969477629104, 14.144332165965306, 14.097188660663917, 13.846146767984392, 13.325546994599168, 13.205512125536437, 13.172041545708277, 12.611904274945465, 12.608266524131485, 90.95722620973211, 148.64009952396694, 702.9966908235878, 71.01958553142228, 31.999794088264807, 44.11948395397262, 49.549163549419816, 23.42024551049612, 43.08623182922036, 33.05052705096154, 90.88458027143797, 27.858251327675976, 149.09166493115552, 329.063569323754, 69.4328193511823, 55.06243178665915, 32.92323086040896, 42.12833950303964, 37.21213797930916, 79.22286087222298, 32.389023608341766, 43.35487781796789, 37.91615783908853, 29.50693235400381, 647.5919923768716, 79.44272681543504, 69.77412882109923, 57.96675619153896, 53.60099550012868, 45.25743645385318, 44.75063950164693, 35.13367558045581, 31.3045939794845, 31.04958488354544, 30.25255723539746, 30.228770607873614, 22.666702725318036, 21.55677362196847, 20.62714398541275, 19.946006003092954, 19.85386869628147, 19.140578287130413, 19.040754125809375, 17.527118448662108, 34.44468796821751, 13.924863309173487, 13.707771245502425, 13.536288423063157, 13.311611239513137, 13.23320382426852, 13.132684654786896, 12.906390426055848, 12.383939191428226, 12.156528023542334, 127.28664309970623, 59.9645373376679, 30.47560452307627, 80.11945272745957, 23.921696844768594, 224.43248927473186, 298.7696711500171, 47.708894082546145, 459.4694023548039, 156.91557990024947, 162.53349042501708, 31.56740558614474, 28.056725535772213, 22.844584120576275, 25.725301920490594, 21.618893858300332, 222.49795953639037, 44.27730307145187, 39.52576420549847, 35.45430080251738, 29.42944943552825, 27.316318684639878, 25.86371230429259, 23.542513163913114, 21.846031958714516, 20.298057353745996, 20.09882301973149, 19.80153960611008, 19.292464393295248, 17.39926162371554, 17.346009418152935, 17.03923237362195, 16.2391386499677, 15.673838886816467, 15.537950390151885, 15.534501448936192, 15.526083351514915, 15.146585987834902, 14.573418128066994, 12.459385248199313, 11.90276954030524, 10.951826659802478, 10.94694367393572, 10.906975530359658, 10.857930777760679, 10.818160506814511, 30.005171554351953, 73.81349521632627, 382.407027511049, 682.3800961310047, 47.48262265415356, 76.28109031555029, 143.06858376412723, 42.77706257886711, 83.56710948495751, 65.95551776338873, 83.53184985890786, 121.82360800385099, 51.10985774769544, 27.34033786871388, 85.55684005532288, 27.275535646254678, 100.67752600526843, 198.23179637767436, 28.814220875931575, 32.75418834186548, 72.89403855209768, 116.31465526391405, 26.12175949030228, 27.47870615624021, 264.4644099767065, 264.0068345420564, 202.04490739750102, 159.30540749072992, 123.88107964054483, 66.40143021287497, 64.22640803952304, 47.973889822140656, 38.30884025395908, 34.71550057458301, 32.604357111566024, 31.94893185118938, 31.524785411097675, 29.777272666833284, 26.878092889905997, 25.076529238274194, 19.604329393166015, 19.493332675717326, 18.33431488036878, 16.566817061713348, 16.529483665056134, 16.480592756037474, 15.472802990939693, 54.296381456662154, 15.259938243017878, 14.755717909921001, 14.583164832961257, 14.466131208742857, 13.407428522425512, 12.261642702597333, 70.2590919879264, 48.27753920131813, 444.3553601732355, 50.86299067685042, 20.319878628851782, 561.7194814320682, 138.98914497907796, 33.18290572922834, 19.010120979074447, 17.18111903371196, 18.00430601575857, 428.8188888644727, 204.1736455972766, 190.93334270162563, 190.78180357138444, 188.0315056547191, 55.84181735854032, 55.52644281664672, 41.446005474803435, 34.945914392252604, 31.608116013633737, 26.826411584457812, 25.62789584527467, 23.586771820234326, 19.398612842962258, 13.60350559721943, 12.938277484256737, 11.592772808062177, 11.53081121645572, 10.931291913053412, 10.652060150879167, 10.544376987004783, 9.755532475403005, 9.195559926643547, 9.055369157941993, 8.525564648172786, 8.385332974861388, 7.695489179079381, 7.694566157665955, 7.069198697765131, 6.9364272249816095, 77.85778457925389, 555.3588858029024, 33.199600561122345, 40.06120658547028, 39.72765261219318, 225.50523601223682, 17.2774633949163, 12.557093649739446, 138.84027633065043, 107.42988253023252, 20.42103779369161, 20.361544706366146, 21.847801255801635, 22.799962757587586, 24.9430939872712, 17.44729399960273, 889.0711300961556, 71.24869960852152, 65.65899946375563, 43.92621403036425, 36.361631768942054, 33.39307160198379, 29.759016881183324, 29.472261962045934, 26.475250213107014, 25.037262896994196, 22.795503544105447, 22.35892633191203, 19.679248403112176, 18.87779930089943, 17.97654959426945, 17.642789308290723, 16.142423339603372, 15.629575278207177, 15.621640622778196, 15.29126343773848, 13.87085095549186, 13.590227361004139, 12.720955555815772, 11.445964890210183, 11.40088424057834, 11.186032005724538, 11.167847619856424, 10.694046691213483, 10.662101974551348, 10.643868684797692, 40.71645640678446, 123.8075078566318, 15.104064603590617, 29.61533377233, 34.722523730408334, 28.68489019259955, 14.595266831857597, 28.73854823444177, 28.339904718321886, 45.97623347401921, 220.7805035844357, 50.12582596992061, 82.71902212686565, 57.701467495744375, 24.997423695951916, 21.655064933295794, 22.005559080966155, 19.839590271261482, 19.23715029155468, 478.3720223993822, 275.7921732802901, 79.35028509161116, 44.04418272610616, 43.73462408225563, 40.79670775012029, 39.04611860703997, 36.56556202148595, 33.321824897014665, 29.048594725068707, 28.407996892116955, 26.88798478365358, 26.236635921669247, 22.135592972209437, 19.738340727047056, 18.695656290648092, 17.43266853309366, 17.228706883631787, 15.243568902562561, 15.003192780953443, 14.843423830621484, 14.633482963287188, 13.900392129062276, 12.838131031493432, 12.717153719307918, 12.102853957497764, 11.964771268704885, 11.537719044062461, 10.85599207121675, 10.824825381249868, 37.68358298961634, 101.60730311145731, 99.25939453994009, 66.98943063924776, 30.7694612258536, 41.94716735337324, 70.34646231203611, 24.20982492986518, 30.241942813074186, 27.72265509416443, 20.247838124053125, 20.871947729262693, 141.89754603497525, 102.14568731023694, 76.59239834004704, 44.68695663833074, 32.928917651623024, 27.203754379038838, 26.325442297703717, 22.208702305839598, 22.19152999707364, 21.818436321377195, 21.812298820063916, 21.09566375721409, 20.692055909316096, 20.45553384448557, 20.021354453152583, 16.94338899989036, 16.690010778410052, 16.221971373368017, 15.66527754402587, 15.045104275881839, 14.88898494305274, 14.211547859950747, 13.521262061887814, 12.997756880757043, 12.703316724774453, 12.5543138662207, 11.98613236288108, 11.437139706129523, 10.811151192111094, 10.656765202930536, 84.16780830428438, 32.020604077193674, 51.69890785033845, 86.5857885153905, 23.11289735810686, 23.374134217903578, 22.34581955375544, 21.190990333896544, 21.47926247195232, 141.0668984626459, 27.09175352472325, 16.265242710689915], \"Total\": [1855.0, 889.0, 1220.0, 860.0, 4300.0, 648.0, 960.0, 780.0, 479.0, 429.0, 513.0, 276.0, 1405.0, 265.0, 264.0, 303.0, 223.0, 205.0, 272.0, 202.0, 191.0, 191.0, 188.0, 673.0, 373.0, 235.0, 142.0, 160.0, 1252.0, 196.0, 272.3682881771513, 303.5008309418546, 235.58115925123377, 116.56590956703148, 88.14673137123037, 78.26973439444953, 1220.5944901941323, 66.1094001205428, 65.43847362244027, 62.65390880163397, 58.80207692159851, 47.12814547231262, 41.993112940566895, 37.095396464670706, 36.188322627540316, 28.767994881420794, 26.580356208010013, 23.906158028038156, 22.805955981810413, 22.490636974546977, 19.890539692432228, 18.995803555198886, 17.612019498044457, 17.01419915301649, 14.09279055812112, 14.035008091177058, 11.863803244785844, 11.481813063629518, 11.170921852950803, 11.047259358692592, 221.13633547492807, 103.91062772725594, 82.37040286530517, 4300.356508067654, 97.1202985199794, 68.48381276616486, 673.3734681773788, 1252.3578696005272, 960.279109350047, 47.20168853418966, 199.1347606110398, 58.40204712131543, 54.02704563211167, 1855.1616346877104, 145.0034306424857, 48.28545749947738, 47.94090617520772, 30.81046501024645, 25.17425825910236, 22.535721189878085, 22.386880394890063, 21.252846316959094, 20.89204965303507, 20.173551562931664, 17.49210910883127, 16.942979647704735, 16.173914149746196, 14.7182671114878, 14.037725536232943, 12.965638148019073, 12.665623445789219, 12.546884802389616, 12.200554406810035, 11.992890637414375, 11.832147474973107, 11.566110338260636, 11.323112023209998, 11.003515341719966, 10.245530816275142, 10.207806435137774, 9.654173906132408, 9.64361835754457, 9.6305953258996, 135.37364676184353, 32.44580613056543, 47.56530819491397, 154.13628328656202, 373.173510468527, 57.35363704304239, 1405.0285908744222, 4300.356508067654, 199.1347606110398, 1252.3578696005272, 513.9485738617675, 673.3734681773788, 103.48824417460138, 32.173193224915146, 250.760774949276, 50.77605832407309, 152.0262445092649, 287.8058549685403, 59.83223868611648, 58.62906246649259, 53.661054020445185, 49.87426204707411, 38.89301240787089, 33.645031217900254, 27.922173878163917, 27.26100074371507, 27.056949349699593, 21.79005464742342, 20.918122591183565, 19.539379749414678, 18.7503116366501, 18.324616379983443, 18.282699331996902, 18.162107930772024, 17.783927847119813, 16.50635917617705, 16.059188822449087, 15.840688361392147, 15.626435702830172, 15.286538189457787, 15.000018552425322, 14.952788564640086, 14.701674368793856, 14.181096890234482, 14.061123104484125, 14.027562915987485, 13.467416598006867, 13.463801689016599, 98.34393391380537, 162.57552646133487, 860.6756887554195, 99.26383425951987, 39.46989036944376, 57.754711964938124, 69.86212201343196, 30.274184483616985, 78.94085561093407, 57.720788847644656, 373.173510468527, 46.92600865085307, 960.279109350047, 4300.356508067654, 287.8058549685403, 231.128972120671, 85.37685753055356, 199.1347606110398, 142.64175600536888, 1405.0285908744222, 150.27158932222363, 673.3734681773788, 1252.3578696005272, 154.07156705513393, 648.4440514104061, 80.29450891764134, 70.6260190459748, 58.81853949433709, 54.45287200553218, 46.10923499521361, 45.60244627252182, 35.98548208513516, 32.15647468792613, 31.901383297039033, 31.104332950668592, 31.080666394178444, 23.518514853269828, 22.408552294427086, 21.478942598917993, 20.797826684341715, 20.705673373059255, 19.99238649757195, 19.89257680889106, 18.37892931479665, 36.18689623640402, 14.776781363763874, 14.55956309241054, 14.388149776231558, 14.163700847931556, 14.0850189948398, 13.984553231860142, 13.758348336125195, 13.235934675052821, 13.0083687414408, 145.0059796320363, 69.23852732706783, 35.970744256139035, 112.58380805659965, 29.55896277051702, 780.5456642530039, 1252.3578696005272, 103.48824417460138, 4300.356508067654, 860.6756887554195, 1405.0285908744222, 76.08766732991134, 154.13628328656202, 55.49904706307103, 287.8058549685403, 250.760774949276, 223.35235654615204, 45.13171170122995, 40.38021270743133, 36.30872793746801, 30.283936847371255, 28.170738023968603, 26.718100697399954, 24.396926726725873, 22.700428702508937, 21.152512258739684, 20.95326431080204, 20.656040533621304, 20.146913294224696, 18.253681623251136, 18.20044625213338, 17.89370016495546, 17.09354018912739, 16.528249899734575, 16.39234602000857, 16.389025014673038, 16.3805093502456, 16.001003799309878, 15.427809996353524, 13.3141794413209, 12.757230665211813, 11.806238517353574, 11.801362260363366, 11.761448806595645, 11.71235398659519, 11.672667412574274, 33.56299105266432, 86.96081162013091, 513.9485738617675, 960.279109350047, 57.701844270277114, 97.59899089334435, 231.128972120671, 56.85589841699756, 130.29931019130262, 99.90140655800316, 150.27158932222363, 250.760774949276, 84.33126035053768, 36.52473234914071, 196.46672093253773, 36.60977832844935, 287.8058549685403, 1405.0285908744222, 42.04972078626107, 60.200727074659106, 373.173510468527, 1252.3578696005272, 49.72851124840453, 99.26383425951987, 265.3173508528395, 264.8597876805446, 202.8978512775942, 160.15836580598958, 124.73403157383594, 67.27959995856229, 65.07939236375583, 48.826861284088245, 39.161822307710494, 35.56854054687034, 33.45732101360768, 32.80195461625695, 32.377740482139785, 30.63021241285104, 27.7310556478101, 25.929472310671613, 20.45732306488983, 20.346287910957294, 19.187261542535236, 17.419833666940196, 17.382469176509133, 17.333581515314624, 16.32581115646811, 57.302595799695105, 16.11300192378933, 15.60879795821689, 15.436169081162582, 15.319118027112115, 14.260361848825701, 13.114830451906117, 79.70888881997013, 60.99513439144622, 1405.0285908744222, 80.2109875077115, 24.493791529316777, 4300.356508067654, 1252.3578696005272, 99.90140655800316, 26.648455558420817, 28.885537026945435, 58.48743746543, 429.6657517833235, 205.02053386053356, 191.78020137565056, 191.6286647871404, 188.87838476484484, 56.688719961333526, 56.3733366214221, 42.29288106735314, 35.79281494376905, 32.45507666446425, 27.673305985949064, 26.474800341773452, 24.433703040153624, 20.24559351580353, 14.450417691720176, 13.785222268843626, 12.439645762029986, 12.377853509773098, 11.778162826224179, 11.49900404085124, 11.39143048703803, 10.602438396673755, 10.042411010243605, 9.902238040708836, 9.372481416528403, 9.232363853701752, 8.542313468602135, 8.541407990137218, 7.916100560190431, 7.7832948645838655, 90.75951828304254, 780.5456642530039, 42.85560314554933, 54.354445540945676, 58.48743746543, 673.3734681773788, 26.31688799269053, 16.8430418234208, 1252.3578696005272, 1405.0285908744222, 51.92876841036425, 80.2109875077115, 150.27158932222363, 193.02431167317164, 287.8058549685403, 152.0262445092649, 889.9171308080879, 72.09465652012449, 66.50553518426995, 44.772317670940105, 37.20758759265659, 34.23909050627721, 30.604976893210182, 30.31826639936884, 27.32118865382214, 25.88323967522788, 23.641503552605517, 23.204937779972724, 20.525231680248215, 19.723861226946955, 18.82264689718275, 18.48875413945523, 16.988398092688374, 16.475526357349576, 16.467609325049885, 16.1373386296223, 14.716831879583676, 14.436318160901761, 13.56694114618854, 12.29192783644779, 12.246954058541377, 12.032029841819375, 12.013774441186635, 11.540019843772312, 11.508037834782456, 11.489844156042471, 46.85945892522309, 154.07156705513393, 17.611783800061833, 42.42441134406386, 55.661560120696805, 50.77605832407309, 17.99225336929824, 54.02704563211167, 53.21965982758506, 130.29931019130262, 4300.356508067654, 250.760774949276, 1405.0285908744222, 673.3734681773788, 193.02431167317164, 152.0262445092649, 287.8058549685403, 84.33126035053768, 199.1347606110398, 479.2077807823504, 276.62796524518814, 80.18607091814958, 44.88001475981826, 44.5704127136611, 41.632448767282206, 39.88189947351741, 37.401393022586106, 34.15761456388839, 29.884428075770245, 29.243796141013725, 27.723806069233486, 27.072427971295213, 22.97138962438501, 20.574359958449833, 19.531559543256375, 18.26850920131206, 18.064521686555803, 16.079360666202415, 15.83905161633446, 15.679198587002375, 15.469356258200696, 14.736221608204378, 13.673960087071057, 13.552988808068404, 12.938638147760587, 12.800539077704219, 12.373497946738409, 11.692010540188507, 11.660593893101936, 44.48817119260846, 142.64175600536888, 196.46672093253773, 152.0262445092649, 51.92876841036425, 193.02431167317164, 1252.3578696005272, 103.48824417460138, 231.128972120671, 513.9485738617675, 221.13633547492807, 673.3734681773788, 142.74112935333926, 102.98924147911573, 77.43595180554563, 45.53055327576493, 33.77253046739248, 28.047332191604102, 27.168994849395983, 23.052345204872434, 23.03513477316772, 22.66209278670459, 22.655885968394553, 21.939261809010326, 21.535691241177105, 21.299248400869406, 20.864950775047365, 17.786955662304344, 17.53356763260266, 17.065549881331663, 16.508847229511083, 15.888702442857715, 15.732566694329956, 15.055121503886753, 14.3648171829724, 13.84142944581671, 13.546892578586462, 13.397869481862926, 12.830073014101677, 12.280699476984765, 11.654729839917891, 11.500368857612242, 97.5278819910035, 43.34629818905531, 85.37685753055356, 193.02431167317164, 32.41218831291775, 35.38591147913556, 32.97405386533188, 32.406443110764314, 38.3144023154323, 4300.356508067654, 287.8058549685403, 152.0262445092649], \"Category\": [\"Default\", \"Default\", \"Default\", \"Default\", \"Default\", \"Default\", \"Default\", \"Default\", \"Default\", \"Default\", \"Default\", \"Default\", \"Default\", \"Default\", \"Default\", \"Default\", \"Default\", \"Default\", \"Default\", \"Default\", \"Default\", \"Default\", \"Default\", \"Default\", \"Default\", \"Default\", \"Default\", \"Default\", \"Default\", \"Default\", \"Topic1\", \"Topic1\", \"Topic1\", \"Topic1\", \"Topic1\", \"Topic1\", \"Topic1\", \"Topic1\", \"Topic1\", \"Topic1\", \"Topic1\", \"Topic1\", \"Topic1\", \"Topic1\", \"Topic1\", \"Topic1\", \"Topic1\", \"Topic1\", \"Topic1\", \"Topic1\", \"Topic1\", \"Topic1\", \"Topic1\", \"Topic1\", \"Topic1\", \"Topic1\", \"Topic1\", \"Topic1\", \"Topic1\", \"Topic1\", \"Topic1\", \"Topic1\", \"Topic1\", \"Topic1\", \"Topic1\", \"Topic1\", \"Topic1\", \"Topic1\", \"Topic1\", \"Topic1\", \"Topic1\", \"Topic1\", \"Topic1\", \"Topic2\", \"Topic2\", \"Topic2\", \"Topic2\", \"Topic2\", \"Topic2\", \"Topic2\", \"Topic2\", \"Topic2\", \"Topic2\", \"Topic2\", \"Topic2\", \"Topic2\", \"Topic2\", \"Topic2\", \"Topic2\", \"Topic2\", \"Topic2\", \"Topic2\", \"Topic2\", \"Topic2\", \"Topic2\", \"Topic2\", \"Topic2\", \"Topic2\", \"Topic2\", \"Topic2\", \"Topic2\", \"Topic2\", \"Topic2\", \"Topic2\", \"Topic2\", \"Topic2\", \"Topic2\", \"Topic2\", \"Topic2\", \"Topic2\", \"Topic2\", \"Topic2\", \"Topic2\", \"Topic2\", \"Topic2\", \"Topic2\", \"Topic2\", \"Topic2\", \"Topic2\", \"Topic2\", \"Topic2\", \"Topic3\", \"Topic3\", \"Topic3\", \"Topic3\", \"Topic3\", \"Topic3\", \"Topic3\", \"Topic3\", \"Topic3\", \"Topic3\", \"Topic3\", \"Topic3\", \"Topic3\", \"Topic3\", \"Topic3\", \"Topic3\", \"Topic3\", \"Topic3\", \"Topic3\", \"Topic3\", \"Topic3\", \"Topic3\", \"Topic3\", \"Topic3\", \"Topic3\", \"Topic3\", \"Topic3\", \"Topic3\", \"Topic3\", \"Topic3\", \"Topic3\", \"Topic3\", \"Topic3\", \"Topic3\", \"Topic3\", \"Topic3\", \"Topic3\", \"Topic3\", \"Topic3\", \"Topic3\", \"Topic3\", \"Topic3\", \"Topic3\", \"Topic3\", \"Topic3\", \"Topic3\", \"Topic3\", \"Topic3\", \"Topic3\", \"Topic3\", \"Topic3\", \"Topic3\", \"Topic3\", \"Topic3\", \"Topic4\", \"Topic4\", \"Topic4\", \"Topic4\", \"Topic4\", \"Topic4\", \"Topic4\", \"Topic4\", \"Topic4\", \"Topic4\", \"Topic4\", \"Topic4\", \"Topic4\", \"Topic4\", \"Topic4\", \"Topic4\", \"Topic4\", \"Topic4\", \"Topic4\", \"Topic4\", \"Topic4\", \"Topic4\", \"Topic4\", \"Topic4\", \"Topic4\", \"Topic4\", \"Topic4\", \"Topic4\", \"Topic4\", \"Topic4\", \"Topic4\", \"Topic4\", \"Topic4\", \"Topic4\", \"Topic4\", \"Topic4\", \"Topic4\", \"Topic4\", \"Topic4\", \"Topic4\", \"Topic4\", \"Topic4\", \"Topic4\", \"Topic4\", \"Topic4\", \"Topic4\", \"Topic5\", \"Topic5\", \"Topic5\", \"Topic5\", \"Topic5\", \"Topic5\", \"Topic5\", \"Topic5\", \"Topic5\", \"Topic5\", \"Topic5\", \"Topic5\", \"Topic5\", \"Topic5\", \"Topic5\", \"Topic5\", \"Topic5\", \"Topic5\", \"Topic5\", \"Topic5\", \"Topic5\", \"Topic5\", \"Topic5\", \"Topic5\", \"Topic5\", \"Topic5\", \"Topic5\", \"Topic5\", \"Topic5\", \"Topic5\", \"Topic5\", \"Topic5\", \"Topic5\", \"Topic5\", \"Topic5\", \"Topic5\", \"Topic5\", \"Topic5\", \"Topic5\", \"Topic5\", \"Topic5\", \"Topic5\", \"Topic5\", \"Topic5\", \"Topic5\", \"Topic5\", \"Topic5\", \"Topic5\", \"Topic5\", \"Topic5\", \"Topic5\", \"Topic5\", \"Topic5\", \"Topic5\", \"Topic6\", \"Topic6\", \"Topic6\", \"Topic6\", \"Topic6\", \"Topic6\", \"Topic6\", \"Topic6\", \"Topic6\", \"Topic6\", \"Topic6\", \"Topic6\", \"Topic6\", \"Topic6\", \"Topic6\", \"Topic6\", \"Topic6\", \"Topic6\", \"Topic6\", \"Topic6\", \"Topic6\", \"Topic6\", \"Topic6\", \"Topic6\", \"Topic6\", \"Topic6\", \"Topic6\", \"Topic6\", \"Topic6\", \"Topic6\", \"Topic6\", \"Topic6\", \"Topic6\", \"Topic6\", \"Topic6\", \"Topic6\", \"Topic6\", \"Topic6\", \"Topic6\", \"Topic6\", \"Topic6\", \"Topic7\", \"Topic7\", \"Topic7\", \"Topic7\", \"Topic7\", \"Topic7\", \"Topic7\", \"Topic7\", \"Topic7\", \"Topic7\", \"Topic7\", \"Topic7\", \"Topic7\", \"Topic7\", \"Topic7\", \"Topic7\", \"Topic7\", \"Topic7\", \"Topic7\", \"Topic7\", \"Topic7\", \"Topic7\", \"Topic7\", \"Topic7\", \"Topic7\", \"Topic7\", \"Topic7\", \"Topic7\", \"Topic7\", \"Topic7\", \"Topic7\", \"Topic7\", \"Topic7\", \"Topic7\", \"Topic7\", \"Topic7\", \"Topic7\", \"Topic7\", \"Topic7\", \"Topic7\", \"Topic7\", \"Topic7\", \"Topic7\", \"Topic7\", \"Topic7\", \"Topic7\", \"Topic8\", \"Topic8\", \"Topic8\", \"Topic8\", \"Topic8\", \"Topic8\", \"Topic8\", \"Topic8\", \"Topic8\", \"Topic8\", \"Topic8\", \"Topic8\", \"Topic8\", \"Topic8\", \"Topic8\", \"Topic8\", \"Topic8\", \"Topic8\", \"Topic8\", \"Topic8\", \"Topic8\", \"Topic8\", \"Topic8\", \"Topic8\", \"Topic8\", \"Topic8\", \"Topic8\", \"Topic8\", \"Topic8\", \"Topic8\", \"Topic8\", \"Topic8\", \"Topic8\", \"Topic8\", \"Topic8\", \"Topic8\", \"Topic8\", \"Topic8\", \"Topic8\", \"Topic8\", \"Topic8\", \"Topic8\", \"Topic8\", \"Topic8\", \"Topic8\", \"Topic8\", \"Topic8\", \"Topic8\", \"Topic8\", \"Topic9\", \"Topic9\", \"Topic9\", \"Topic9\", \"Topic9\", \"Topic9\", \"Topic9\", \"Topic9\", \"Topic9\", \"Topic9\", \"Topic9\", \"Topic9\", \"Topic9\", \"Topic9\", \"Topic9\", \"Topic9\", \"Topic9\", \"Topic9\", \"Topic9\", \"Topic9\", \"Topic9\", \"Topic9\", \"Topic9\", \"Topic9\", \"Topic9\", \"Topic9\", \"Topic9\", \"Topic9\", \"Topic9\", \"Topic9\", \"Topic9\", \"Topic9\", \"Topic9\", \"Topic9\", \"Topic9\", \"Topic9\", \"Topic9\", \"Topic9\", \"Topic9\", \"Topic9\", \"Topic9\", \"Topic9\", \"Topic10\", \"Topic10\", \"Topic10\", \"Topic10\", \"Topic10\", \"Topic10\", \"Topic10\", \"Topic10\", \"Topic10\", \"Topic10\", \"Topic10\", \"Topic10\", \"Topic10\", \"Topic10\", \"Topic10\", \"Topic10\", \"Topic10\", \"Topic10\", \"Topic10\", \"Topic10\", \"Topic10\", \"Topic10\", \"Topic10\", \"Topic10\", \"Topic10\", \"Topic10\", \"Topic10\", \"Topic10\", \"Topic10\", \"Topic10\", \"Topic10\", \"Topic10\", \"Topic10\", \"Topic10\", \"Topic10\", \"Topic10\", \"Topic10\", \"Topic10\", \"Topic10\", \"Topic10\", \"Topic10\", \"Topic10\"], \"logprob\": [30.0, 29.0, 28.0, 27.0, 26.0, 25.0, 24.0, 23.0, 22.0, 21.0, 20.0, 19.0, 18.0, 17.0, 16.0, 15.0, 14.0, 13.0, 12.0, 11.0, 10.0, 9.0, 8.0, 7.0, 6.0, 5.0, 4.0, 3.0, 2.0, 1.0, -3.3038, -3.1957, -3.4493, -4.1567, -4.4385, -4.5586, -1.8119, -4.7295, -4.7398, -4.784, -4.8483, -5.0732, -5.1909, -5.3176, -5.343, -5.5787, -5.6604, -5.7701, -5.819, -5.8335, -5.9616, -6.0097, -6.0891, -6.1254, -6.3248, -6.3292, -6.5093, -6.5446, -6.5743, -6.5863, -3.6087, -4.3954, -4.6284, -1.326, -4.7176, -5.0909, -3.5532, -3.3708, -4.0549, -5.5618, -5.0115, -5.5063, -5.7079, -1.1114, -3.6658, -4.7774, -4.7847, -5.237, -5.4454, -5.5603, -5.5672, -5.6213, -5.6391, -5.6757, -5.8251, -5.8587, -5.9076, -6.0075, -6.0578, -6.1427, -6.1677, -6.1779, -6.208, -6.2264, -6.2409, -6.2655, -6.2884, -6.3194, -6.3971, -6.4011, -6.4621, -6.4633, -6.4648, -3.822, -5.2973, -4.9694, -3.9277, -3.2957, -5.1274, -2.8369, -2.1976, -4.3171, -3.353, -4.0004, -4.0949, -5.2054, -5.7477, -4.9198, -5.5764, -5.2619, -5.7664, -4.3749, -4.3956, -4.4855, -4.5599, -4.8135, -4.962, -5.1538, -5.1785, -5.1863, -5.4107, -5.4532, -5.5244, -5.5676, -5.5917, -5.5941, -5.601, -5.6231, -5.7016, -5.7306, -5.745, -5.7594, -5.7827, -5.8028, -5.8061, -5.8241, -5.8624, -5.8715, -5.874, -5.9175, -5.9177, -3.9417, -3.4506, -1.8967, -4.1891, -4.9864, -4.6652, -4.5491, -5.2985, -4.6889, -4.9541, -3.9425, -5.125, -3.4475, -2.6558, -4.2117, -4.4436, -4.9579, -4.7114, -4.8355, -4.0798, -4.9743, -4.6827, -4.8167, -5.0675, -1.9604, -4.0587, -4.1884, -4.3738, -4.4521, -4.6213, -4.6326, -4.8745, -4.9899, -4.9981, -5.0241, -5.0249, -5.3128, -5.363, -5.4071, -5.4407, -5.4453, -5.4819, -5.4871, -5.5699, -4.8943, -5.8, -5.8157, -5.8283, -5.8451, -5.851, -5.8586, -5.876, -5.9173, -5.9358, -3.5872, -4.3399, -5.0168, -4.0502, -5.2589, -3.0201, -2.734, -4.5686, -2.3036, -3.378, -3.3428, -4.9816, -5.0995, -5.305, -5.1862, -5.3601, -3.0222, -4.6366, -4.7501, -4.8588, -5.0451, -5.1196, -5.1742, -5.2683, -5.3431, -5.4166, -5.4264, -5.4413, -5.4674, -5.5706, -5.5737, -5.5916, -5.6397, -5.6751, -5.6838, -5.684, -5.6846, -5.7093, -5.7479, -5.9046, -5.9503, -6.0336, -6.034, -6.0377, -6.0422, -6.0458, -5.0257, -4.1255, -2.4806, -1.9015, -4.5667, -4.0927, -3.4638, -4.6711, -4.0014, -4.2381, -4.0018, -3.6245, -4.4931, -5.1187, -3.9779, -5.1211, -3.8152, -3.1376, -5.0662, -4.938, -4.1381, -3.6708, -5.1643, -5.1137, -2.792, -2.7937, -3.0612, -3.2988, -3.5503, -4.1739, -4.2073, -4.499, -4.724, -4.8225, -4.8852, -4.9055, -4.9189, -4.9759, -5.0784, -5.1477, -5.3939, -5.3996, -5.4609, -5.5623, -5.5645, -5.5675, -5.6306, -4.3752, -5.6444, -5.678, -5.6898, -5.6979, -5.7739, -5.8632, -4.1175, -4.4927, -2.273, -4.4405, -5.3581, -2.0387, -3.4353, -4.8676, -5.4247, -5.5259, -5.4791, -2.1868, -2.9288, -2.9959, -2.9967, -3.0112, -4.2253, -4.2309, -4.5234, -4.694, -4.7944, -4.9584, -5.0041, -5.0871, -5.2826, -5.6375, -5.6876, -5.7974, -5.8028, -5.8562, -5.882, -5.8922, -5.97, -6.0291, -6.0444, -6.1047, -6.1213, -6.2072, -6.2073, -6.2921, -6.311, -3.8929, -1.9282, -4.7453, -4.5574, -4.5658, -2.8295, -5.3984, -5.7175, -3.3145, -3.571, -5.2312, -5.2342, -5.1637, -5.121, -5.0312, -5.3886, -1.4395, -3.9635, -4.0452, -4.4472, -4.6362, -4.7214, -4.8366, -4.8463, -4.9535, -5.0093, -5.1031, -5.1225, -5.2501, -5.2917, -5.3406, -5.3594, -5.4483, -5.4805, -5.481, -5.5024, -5.5999, -5.6204, -5.6865, -5.7921, -5.796, -5.815, -5.8167, -5.86, -5.863, -5.8647, -4.5231, -3.411, -5.5147, -4.8414, -4.6823, -4.8733, -5.549, -4.8715, -4.8854, -4.4016, -2.8325, -4.3152, -3.8143, -4.1744, -5.0109, -5.1545, -5.1384, -5.242, -5.2729, -1.7977, -2.3485, -3.5942, -4.1829, -4.19, -4.2595, -4.3034, -4.369, -4.4619, -4.5991, -4.6214, -4.6764, -4.701, -4.8709, -4.9855, -5.0398, -5.1098, -5.1215, -5.244, -5.2598, -5.2706, -5.2848, -5.3362, -5.4157, -5.4252, -5.4747, -5.4861, -5.5225, -5.5834, -5.5863, -4.3389, -3.347, -3.3704, -3.7636, -4.5416, -4.2317, -3.7147, -4.7814, -4.5589, -4.6459, -4.9601, -4.9297, -2.9163, -3.245, -3.5329, -4.0718, -4.3771, -4.5681, -4.6009, -4.771, -4.7717, -4.7887, -4.789, -4.8224, -4.8417, -4.8532, -4.8746, -5.0416, -5.0566, -5.0851, -5.12, -5.1604, -5.1708, -5.2174, -5.2672, -5.3067, -5.3296, -5.3414, -5.3877, -5.4346, -5.4909, -5.5053, -3.4386, -4.4051, -3.926, -3.4103, -4.7311, -4.7198, -4.7648, -4.8179, -4.8044, -2.9222, -4.5722, -5.0824], \"loglift\": [30.0, 29.0, 28.0, 27.0, 26.0, 25.0, 24.0, 23.0, 22.0, 21.0, 20.0, 19.0, 18.0, 17.0, 16.0, 15.0, 14.0, 13.0, 12.0, 11.0, 10.0, 9.0, 8.0, 7.0, 6.0, 5.0, 4.0, 3.0, 2.0, 1.0, 1.7872, 1.787, 1.7867, 1.7829, 1.7805, 1.7793, 1.7791, 1.7773, 1.7771, 1.7765, 1.7756, 1.772, 1.7697, 1.7669, 1.7663, 1.7601, 1.7575, 1.7538, 1.752, 1.7515, 1.7463, 1.7441, 1.7404, 1.7386, 1.7276, 1.7273, 1.7153, 1.7127, 1.7105, 1.7095, 1.6905, 1.6591, 1.6584, 1.0056, 1.4045, 1.3806, 0.6326, 0.1944, -0.2241, 1.2818, 0.3926, 1.1244, 1.0007, 2.0609, 2.0555, 2.0435, 2.0434, 2.0332, 2.0268, 2.0227, 2.0224, 2.0203, 2.0196, 2.018, 2.0112, 2.0096, 2.007, 2.0015, 1.9985, 1.9931, 1.9914, 1.9907, 1.9886, 1.9874, 1.9863, 1.9845, 1.9828, 1.9804, 1.9742, 1.9738, 1.9686, 1.9684, 1.9683, 1.968, 1.9212, 1.8666, 1.7325, 1.4803, 1.5215, 0.6133, 0.134, 1.087, 0.2122, 0.4555, 0.0908, 0.8532, 1.4793, 0.2538, 1.1943, 0.4121, -0.7306, 2.2316, 2.2313, 2.2299, 2.2287, 2.2237, 2.2202, 2.2148, 2.2141, 2.2138, 2.2059, 2.2042, 2.2012, 2.1993, 2.1982, 2.198, 2.1977, 2.1967, 2.1927, 2.1912, 2.1904, 2.1897, 2.1884, 2.1872, 2.187, 2.186, 2.1837, 2.1832, 2.183, 2.1803, 2.1803, 2.1679, 2.1564, 2.0436, 1.9111, 2.0362, 1.9767, 1.9024, 1.9893, 1.6405, 1.6884, 0.8335, 1.7245, 0.3833, -0.3242, 0.824, 0.8115, 1.2931, 0.6927, 0.9023, -0.6296, 0.7113, -0.4969, -1.2514, 0.5932, 2.2631, 2.2537, 2.2522, 2.2498, 2.2486, 2.2457, 2.2455, 2.2404, 2.2375, 2.2373, 2.2366, 2.2366, 2.2275, 2.2256, 2.2239, 2.2226, 2.2224, 2.2208, 2.2206, 2.2169, 2.215, 2.205, 2.2041, 2.2033, 2.2023, 2.202, 2.2015, 2.2004, 2.1978, 2.1966, 2.134, 2.1206, 2.0986, 1.9242, 2.0528, 1.018, 0.8313, 1.49, 0.028, 0.5624, 0.1074, 1.3846, 0.5608, 1.3767, -0.1504, -0.1866, 2.2672, 2.2519, 2.2496, 2.2472, 2.2424, 2.2402, 2.2385, 2.2353, 2.2326, 2.2298, 2.2294, 2.2287, 2.2276, 2.223, 2.2229, 2.2221, 2.2197, 2.2179, 2.2175, 2.2174, 2.2174, 2.2161, 2.214, 2.2046, 2.2017, 2.1959, 2.1958, 2.1956, 2.1952, 2.195, 2.1589, 2.1071, 1.9753, 1.9293, 2.0761, 2.0245, 1.7913, 1.9865, 1.8268, 1.8558, 1.6838, 1.5491, 1.7702, 1.9814, 1.4397, 1.9767, 1.2206, 0.3126, 1.893, 1.6623, 0.6379, -0.1055, 1.6272, 0.9866, 2.3252, 2.3252, 2.3242, 2.3231, 2.3215, 2.3153, 2.3152, 2.3108, 2.3064, 2.3041, 2.3026, 2.302, 2.3017, 2.3002, 2.2972, 2.2949, 2.2858, 2.2856, 2.2829, 2.2782, 2.2781, 2.2779, 2.2747, 2.2745, 2.274, 2.2722, 2.2716, 2.2711, 2.2667, 2.2611, 2.2022, 2.0946, 1.1772, 1.8729, 2.1416, 0.2929, 0.13, 1.2262, 1.9906, 1.8089, 1.1502, 2.4483, 2.4461, 2.4458, 2.4458, 2.4458, 2.4352, 2.4351, 2.43, 2.4263, 2.4238, 2.4192, 2.4177, 2.415, 2.4075, 2.3899, 2.3869, 2.3798, 2.3794, 2.3756, 2.3738, 2.373, 2.367, 2.3622, 2.3609, 2.3556, 2.354, 2.3459, 2.3459, 2.3371, 2.3351, 2.2969, 2.1099, 2.195, 2.1451, 2.0635, 1.3563, 2.0295, 2.1566, 0.2508, -0.1207, 1.517, 1.0792, 0.5219, 0.3142, 0.0046, 0.2854, 2.4674, 2.4566, 2.4555, 2.4493, 2.4454, 2.4433, 2.4403, 2.4401, 2.4369, 2.4351, 2.4319, 2.4312, 2.4263, 2.4245, 2.4224, 2.4215, 2.4173, 2.4156, 2.4156, 2.4145, 2.4092, 2.408, 2.404, 2.3971, 2.3968, 2.3955, 2.3953, 2.3922, 2.392, 2.3919, 2.3278, 2.2497, 2.3148, 2.1089, 1.9965, 1.8973, 2.2591, 1.8371, 1.8382, 1.4266, -0.5009, 0.8584, -0.364, 0.0113, 0.4243, 0.5195, -0.1026, 1.0213, 0.1312, 2.7282, 2.7269, 2.7195, 2.7112, 2.711, 2.7097, 2.7088, 2.7073, 2.7052, 2.7016, 2.701, 2.6993, 2.6986, 2.6929, 2.6885, 2.6862, 2.6831, 2.6826, 2.6766, 2.6757, 2.6752, 2.6744, 2.6716, 2.6669, 2.6663, 2.6632, 2.6624, 2.66, 2.6558, 2.6556, 2.564, 2.3907, 2.0472, 1.9104, 2.2066, 1.2035, -0.1494, 1.2773, 0.6962, -0.1899, 0.3392, -0.7439, 2.8207, 2.8184, 2.8157, 2.8079, 2.8013, 2.7961, 2.7951, 2.7893, 2.7893, 2.7887, 2.7887, 2.7874, 2.7867, 2.7862, 2.7853, 2.778, 2.7773, 2.7759, 2.7742, 2.7721, 2.7715, 2.769, 2.7661, 2.7637, 2.7623, 2.7616, 2.7586, 2.7555, 2.7515, 2.7504, 2.6793, 2.5238, 2.325, 2.0249, 2.4885, 2.4119, 2.4375, 2.4018, 2.2479, -0.5906, 0.4636, 0.5916]}, \"token.table\": {\"Topic\": [3, 3, 2, 1, 4, 5, 6, 1, 5, 5, 2, 7, 5, 9, 10, 2, 6, 7, 9, 3, 2, 4, 9, 3, 2, 3, 2, 3, 4, 5, 7, 8, 10, 8, 2, 3, 5, 7, 1, 2, 9, 3, 4, 9, 5, 10, 2, 4, 1, 5, 5, 1, 2, 3, 4, 5, 7, 8, 9, 4, 1, 7, 8, 1, 4, 7, 7, 8, 5, 10, 8, 3, 8, 10, 1, 1, 4, 6, 3, 5, 5, 4, 7, 3, 7, 3, 5, 9, 10, 4, 6, 8, 1, 2, 4, 6, 6, 1, 4, 2, 3, 9, 4, 6, 7, 4, 6, 2, 7, 6, 10, 2, 2, 3, 5, 7, 1, 4, 10, 2, 6, 1, 5, 3, 5, 3, 2, 2, 8, 6, 7, 3, 10, 5, 3, 4, 5, 8, 9, 7, 2, 6, 8, 10, 1, 3, 8, 3, 8, 9, 10, 10, 4, 5, 10, 8, 3, 6, 8, 6, 5, 6, 5, 1, 8, 3, 6, 8, 2, 4, 2, 2, 3, 3, 10, 1, 2, 4, 5, 8, 9, 2, 7, 4, 5, 6, 9, 3, 7, 10, 8, 10, 1, 2, 7, 3, 5, 3, 4, 6, 10, 4, 10, 2, 3, 4, 5, 6, 7, 8, 9, 10, 9, 3, 10, 3, 6, 10, 2, 7, 8, 9, 10, 2, 4, 8, 6, 4, 6, 5, 1, 9, 8, 7, 10, 4, 8, 10, 3, 8, 9, 6, 1, 8, 7, 6, 7, 5, 1, 1, 2, 3, 4, 8, 7, 4, 7, 2, 3, 3, 8, 4, 8, 10, 5, 1, 2, 4, 7, 1, 5, 1, 5, 5, 7, 4, 6, 1, 6, 1, 3, 5, 8, 9, 3, 5, 8, 9, 1, 2, 4, 7, 1, 10, 7, 2, 1, 2, 5, 5, 4, 1, 9, 6, 3, 5, 9, 9, 3, 2, 4, 9, 5, 6, 9, 7, 2, 9, 5, 6, 2, 6, 7, 9, 1, 7, 8, 4, 6, 4, 8, 3, 7, 8, 2, 3, 6, 7, 4, 4, 2, 4, 7, 10, 9, 1, 6, 4, 2, 1, 3, 5, 9, 3, 2, 3, 4, 10, 5, 9, 7, 8, 3, 3, 9, 9, 9, 5, 7, 2, 4, 2, 3, 5, 6, 9, 8, 2, 8, 1, 8, 10, 2, 6, 5, 10, 3, 8, 8, 4, 8, 2, 3, 10, 7, 3, 6, 8, 9, 9, 8, 3, 1, 8, 5, 2, 4, 8, 8, 4, 8, 2, 8, 3, 5, 10, 1, 9, 6, 8, 3, 4, 3, 2, 8, 10, 10, 9, 3, 3, 7, 9, 3, 8, 1, 2, 5, 1, 2, 3, 4, 5, 6, 7, 9, 10, 5, 9, 1, 10, 9, 4, 6, 5, 4, 3, 1, 4, 5, 6, 3, 5, 9, 9, 1, 3, 4, 8, 3, 8, 6, 3, 5, 1, 6, 3, 5, 6, 4, 7, 1, 3, 2, 5, 9, 8, 5, 10, 4, 6, 7, 3, 1, 8, 4, 1, 2, 7, 7, 2, 3, 5, 1, 8, 7, 4, 3, 5, 8, 10, 10, 9, 10, 2, 7, 3, 8, 9, 9, 1, 2, 3, 4, 6, 8, 10, 7, 1, 4, 5, 3, 10, 10, 5, 2, 4, 7, 3, 5, 7, 3, 10, 5, 5, 8, 6, 6, 9, 1, 3, 5, 7, 8, 9, 10, 4, 6, 10, 9, 5, 10, 6, 9, 10, 7], \"Freq\": [0.9876809348509382, 0.9522724860317102, 0.883149436259405, 0.986359717826499, 0.9779529083147979, 0.814532023965311, 0.15597421735505954, 0.9986478301875151, 0.9313189717490074, 0.9391792642699768, 0.9533548020753391, 0.9384758211790022, 0.9340430319397983, 0.9374605184324943, 0.9585452760290348, 0.9474464523094195, 0.6358231158181022, 0.2493423983600401, 0.09973695934401604, 0.9267468681379891, 0.9260759491589676, 0.906622788235551, 0.9603867088525527, 0.9340446871781936, 0.22508985947141547, 0.7618426012878677, 0.06254216058935826, 0.23974494892587334, 0.09033867640685082, 0.35093101219584355, 0.08686411192966424, 0.07644041849810454, 0.09381324088403739, 0.9418192293766785, 0.0798554141479711, 0.21294777106125626, 0.5589878990357977, 0.1464015926046137, 0.9832187235322066, 0.9803736255679225, 0.9433481777036482, 0.9637424200991235, 0.9640360238754545, 0.9892679659727189, 0.9012947476701185, 0.9707841286797207, 0.8629774796571543, 0.0924618728204094, 0.9224574754294218, 0.9374411873239445, 0.9731230634417875, 0.31483271916522165, 0.13959563962986243, 0.06385757983068174, 0.01930577994881076, 0.010395419972436563, 0.3356235591100948, 0.08613347977161724, 0.03118625991730969, 0.922483075204623, 0.18397759190583432, 0.7359103676233373, 0.0551932775717503, 0.679569575112278, 0.1853371568488031, 0.12355810456586873, 0.9431792598896162, 0.9142264559357741, 0.9406430215864376, 0.9751254215535538, 0.8948962397406052, 0.31943082791349375, 0.526121363622225, 0.15032038960635, 0.9932994521698332, 0.983777453644463, 0.26267938810390173, 0.7129869105677333, 0.46251133248510273, 0.5228388975918553, 0.942372433926315, 0.9295970907660392, 0.9959317939492496, 0.9158384865485741, 0.9088854421596746, 0.1095148339969726, 0.739225129479565, 0.1095148339969726, 0.9375613508652723, 0.9644958484587963, 0.9423656859937106, 0.03490243281458188, 0.9671628154813683, 0.9510543889255538, 0.8758259509178323, 0.11723654461104842, 0.9187904880338618, 0.9951451537663673, 0.9911361414046672, 0.973695138649257, 0.9253239765632922, 0.07117876742794556, 0.9448808594172597, 0.99675380061249, 0.982065951937538, 0.9867891676485604, 0.9941152260968857, 0.9418272206918671, 0.8961991289561531, 0.970332782305645, 0.9596296659611124, 0.932239266405086, 0.23441158360269002, 0.5966840309886655, 0.14917100774716638, 0.8665169751506673, 0.17764543894220855, 0.7105817557688342, 0.10658726336532513, 0.3808134150228475, 0.5885298232171279, 0.9271900227133751, 0.9584413435326934, 0.5717177581738229, 0.41579473321732574, 0.9277138275358188, 0.9511989348985804, 0.9015983727641167, 0.9532046000714861, 0.8165334458759426, 0.12248001688139137, 0.9652927794573427, 0.9440670220835305, 0.9352589277803398, 0.3783848752598378, 0.414421530046489, 0.09009163696662804, 0.12612829175327928, 0.9977299285535663, 0.9967193593513856, 0.9762279101092756, 0.9736376553026092, 0.8517024834217722, 0.11356033112290297, 0.19818865817003023, 0.7597231896517825, 0.9697763546051893, 0.9469285461456889, 0.9558536527185427, 0.9507121504831437, 0.8957144518205237, 0.9943701627554037, 0.2151661590738032, 0.7786965756956687, 0.939000270036929, 0.9638106477726084, 0.05557947520383343, 0.05557947520383343, 0.8336921280575015, 0.9641538285262722, 0.19673700402048536, 0.7869480160819414, 0.9317108055907466, 0.9704708247096387, 0.9675445877900742, 0.9167132909833076, 0.9230637064742578, 0.9156156588298239, 0.9443439308013051, 0.9759433225181733, 0.881678160453728, 0.9085963401457899, 0.08125658326507064, 0.9824706770348014, 0.9557565849240784, 0.007975729060514193, 0.16350244574054096, 0.08773301966565612, 0.48651947269136575, 0.19939322651285482, 0.05583010342359935, 0.9332596610855051, 0.960257972251454, 0.2286482205356118, 0.7562979602331775, 0.9779968442558203, 0.9803918344383846, 0.9609361226929551, 0.9694734220699285, 0.9626584024302455, 0.3085806105230457, 0.648019282098396, 0.9781848342000167, 0.9993738364000256, 0.9859782594517016, 0.8107445878484959, 0.17735037859185848, 0.8168001131954516, 0.18241481902089035, 0.9834142218519396, 0.988347313230491, 0.303268747022754, 0.6671912434500589, 0.23487066536818577, 0.05622661383056568, 0.11601187410610388, 0.14092239922091146, 0.316007804313559, 0.07615503392241174, 0.05907353098654369, 0.972083702258065, 0.9569732021417799, 0.9848087540846449, 0.13329521501552952, 0.861292158561883, 0.08477950332772627, 0.22607867554060337, 0.6499761921792346, 0.19075653742293594, 0.11182279779965211, 0.14471185597602038, 0.4407133795633348, 0.10524498616437845, 0.027800370014010277, 0.8340111004203082, 0.11120148005604111, 0.9955748605914716, 0.9777017608426348, 0.975551621065304, 0.9905841826494054, 0.9044194368621774, 0.09044194368621775, 0.9711374102996443, 0.9694302909916641, 0.9903947105065695, 0.9916832301244612, 0.9512916988215296, 0.9550627863322299, 0.2593910860057511, 0.021031709676141982, 0.7150781289888273, 0.9840156346555422, 0.9760621713202062, 0.9582115717847117, 0.9756694777887784, 0.960996486734816, 0.9878508464858037, 0.9749242459775991, 0.9403910143583407, 0.24606452359017975, 0.37662937284211184, 0.21091244879158264, 0.06528242462596605, 0.095412774453335, 0.9822498030920287, 0.9615673156633234, 0.9365144500262785, 0.8784317924946746, 0.9599840444687058, 0.9559193079358578, 0.9716042981212473, 0.21558863916101417, 0.628800197552958, 0.14372575944067612, 0.9455141666085789, 0.5931991178603436, 0.2542281933687187, 0.042371365561453114, 0.08474273112290623, 0.9652498966338067, 0.97227020578717, 0.6570895833976218, 0.3212437963277262, 0.8509580191506566, 0.13799319229470106, 0.9726144537176495, 0.9863312124296598, 0.9975330826409, 0.9927673724681183, 0.1332945794130992, 0.1551632213480608, 0.7102101809354191, 0.13486731054921128, 0.854159633478338, 0.08938416708131416, 0.8938416708131416, 0.8981825152131019, 0.9577130665463162, 0.9888624024576991, 0.010650547830944563, 0.9229664514306081, 0.9953494690991855, 0.9646602851266911, 0.9710500852048104, 0.9656381621708154, 0.9296706302272489, 0.9983498201955482, 0.9274192914048195, 0.9682397731281809, 0.9691446927417929, 0.9652302695034602, 0.8741003745937337, 0.10926254682421671, 0.9338312759138603, 0.2325553308124938, 0.5481661369151639, 0.2159442357544585, 0.9974796302756632, 0.9770392584018468, 0.29955093206237027, 0.46382079803205717, 0.23191039901602858, 0.6606513589143526, 0.3303256794571763, 0.9305630696334567, 0.8842737591286495, 0.9410504222222996, 0.9696589663870545, 0.9360261141326972, 0.977645019172879, 0.9733779575456794, 0.3077583970171237, 0.6839075489269415, 0.9698146839037654, 0.9052018854007848, 0.7700276644788544, 0.2100075448578694, 0.11291087020830674, 0.8781956571757191, 0.9717446955623803, 0.9728653657252346, 0.3039873104381486, 0.6459730346810657, 0.9573672062571132, 0.9345216671908394, 0.9599117985225053, 0.983065442620255, 0.8993620467665856, 0.9838779894778468, 0.9993152047436624, 0.9564127023557705, 0.2869787256000864, 0.7110410388752142, 0.9691773009685696, 0.9574680340740944, 0.9733038439214688, 0.911617821329724, 0.9730229541485063, 0.9718667940058288, 0.9580368482782795, 0.05598912603512711, 0.437733167183721, 0.503902134316144, 0.9892704668976736, 0.8199253085922434, 0.1681898068907166, 0.8119364737634944, 0.16915343203406133, 0.976263077619032, 0.9410711390521868, 0.9566045860077548, 0.9744104384091482, 0.9860904638637632, 0.9164971090248105, 0.0799628350155875, 0.9591980178025974, 0.9328729115162427, 0.9500550385489436, 0.9950222846398996, 0.9827184320429759, 0.9860836480916719, 0.004326588704240446, 0.2379623787332245, 0.6187021847063837, 0.004326588704240446, 0.12979766112721336, 0.9848163987046817, 0.9088004777968433, 0.9802327283134006, 0.9763505758200767, 0.41759753599380856, 0.5480967659918737, 0.9573019561101092, 0.9809808625593732, 0.9837304619892532, 0.9746034231883687, 0.10670204297447927, 0.87495675239073, 0.9658759998241949, 0.9395666259378167, 0.027634312527582843, 0.9255232841611729, 0.9669734211172902, 0.9534362886512362, 0.9339317313145312, 0.18857067774304856, 0.09428533887152428, 0.7071400415364321, 0.9738922546411573, 0.9727845827119368, 0.992398599862865, 0.9537434169944847, 0.9869906535002312, 0.9735647877748439, 0.9767706032755389, 0.7201419265678976, 0.18165742291802822, 0.09082871145901411, 0.9295213011435134, 0.9503617790856297, 0.9565190706485683, 0.41358074441244747, 0.5711353137124275, 0.16646959525798122, 0.689659751783065, 0.14268822450684104, 0.9262552551125565, 0.9500400015839551, 0.9717436963232764, 0.9516423435831255, 0.9360146996592248, 0.9817680192339471, 0.980828336471952, 0.5594719763800341, 0.4040630940522469, 0.9438228213857505, 0.9543497550674364, 0.9704050526405315, 0.9693233879880757, 0.9245349680392365, 0.38514296818963806, 0.596971600693939, 0.9333321789616299, 0.9989694199871677, 0.9475777082919796, 0.9930799523980938, 0.9680395744897916, 0.20281742636473393, 0.15730327950335662, 0.030342764574251533, 0.23874964757108444, 0.09262528133192574, 0.11099063883739377, 0.11099063883739377, 0.055894566320989665, 0.9771254787041096, 0.9545052123305386, 0.9852085168337993, 0.9781659732673138, 0.935302549471906, 0.9661096192263899, 0.8665695576766527, 0.1299854336514979, 0.9639555552669887, 0.9474323031083939, 0.9362802088372191, 0.8757525769053798, 0.11548385629521492, 0.9430725055756571, 0.9950348107705546, 0.5447116029743676, 0.3040250807298796, 0.1393448286678615, 0.9274546411267367, 0.5136806238603694, 0.3595764367022586, 0.11985881223408619, 0.9562948345322315, 0.1947147067652308, 0.8048207879629541, 0.93092522864122, 0.7152655398578941, 0.27200238839666396, 0.9620952046340789, 0.9138907328230313, 0.9298408124148262, 0.7375078799375953, 0.2458359599791984, 0.9793824053454747, 0.9984505356068983, 0.9895631603176702, 0.9561087479442094, 0.2004091561653074, 0.7432650257781305, 0.054480158957559296, 0.9633002271402109, 0.932095783293183, 0.9564910600862127, 0.9551301564666012, 0.9381224079369921, 0.9366137303401988, 0.9655519518387622, 0.4627312063338316, 0.5367681993472446, 0.9178392102159161, 0.2789709742032998, 0.5753776342943059, 0.12204980121394367, 0.9933774255029597, 0.5600611890634901, 0.24385439332429473, 0.19561945838102762, 0.9552279774102332, 0.9827501074075201, 0.9688301264829005, 0.9659188397138811, 0.1541539868604266, 0.6047579484524428, 0.2371599797852717, 0.9571880851239682, 0.994807878032794, 0.2537702285907643, 0.7382406649913144, 0.2374867937712931, 0.7718320797567025, 0.9723952471198153, 0.9480740783966826, 0.9408133838222361, 0.987201987171946, 0.45624124332929217, 0.1455693263629648, 0.07650528494155817, 0.10673533674217386, 0.13068683932266167, 0.051391088061046676, 0.03278797926066779, 0.9646576944038122, 0.31542562470653107, 0.4205674996087081, 0.2628546872554426, 0.27767332193405425, 0.7096096004981386, 0.9299161083745253, 0.9760652917203144, 0.9172100649098858, 0.13221753736700995, 0.8594139928855647, 0.7156954091716082, 0.2862781636686433, 0.943038838726719, 0.3865216049699462, 0.6090643472253697, 0.95760337059735, 0.6446695679100144, 0.35303333480786503, 0.9883333278815996, 0.9794251373657914, 0.9566815495553828, 0.8951812689799182, 0.020722778210305402, 0.06216833463091621, 0.11915597470925607, 0.12951736381440876, 0.21758917120820673, 0.45072042607414253, 0.9616389396617877, 0.914994672939589, 0.9703035260642348, 0.9778872249025398, 0.9939451879216121, 0.9695687926277752, 0.9758991001310784, 0.9470263980029483, 0.9392093534045348, 0.9778498856540182], \"Term\": [\"\\uac00\\uaca9\", \"\\uac00\\uaca9\\ud45c\", \"\\uac00\\ub85c\", \"\\uac00\\ubc29\", \"\\uac00\\uc2b4\", \"\\uac10\\uc0ac\", \"\\uac10\\uc0ac\", \"\\uac1c\\ubcc4\", \"\\uac1c\\ubd09\", \"\\uac1c\\uc218\", \"\\uac1c\\uc2dc\", \"\\uac1c\\uc6d4\", \"\\uac1c\\uc785\", \"\\uac70\\ub098\", \"\\uac70\\ub9ac\", \"\\uac70\\uc9c0\", \"\\uac71\\uc815\", \"\\uac71\\uc815\", \"\\uac71\\uc815\", \"\\uac74\\uac15\", \"\\uac74\\uc2dc\", \"\\uac74\\uc758\", \"\\uac80\\uc218\", \"\\uaca8\\uc6b8\", \"\\uacb0\\uc81c\", \"\\uacb0\\uc81c\", \"\\uacbd\\uc6b0\", \"\\uacbd\\uc6b0\", \"\\uacbd\\uc6b0\", \"\\uacbd\\uc6b0\", \"\\uacbd\\uc6b0\", \"\\uacbd\\uc6b0\", \"\\uacbd\\uc6b0\", \"\\uacc4\\uc18d\", \"\\uace0\\uac1d\", \"\\uace0\\uac1d\", \"\\uace0\\uac1d\", \"\\uace0\\uac1d\", \"\\uace0\\uae09\", \"\\uace0\\uae30\", \"\\uace0\\ub824\", \"\\uace0\\ucd94\", \"\\uace0\\ucda7\\uac00\\ub8e8\", \"\\uace8\\ub4dc\", \"\\uacf0\\ud321\\uc774\", \"\\uacf1\\ucc3d\", \"\\uacf5\\ud3ec\", \"\\uacf5\\ud3ec\", \"\\uacfc\\uc790\", \"\\uad00\\uc2ec\", \"\\uad50\\ud658\", \"\\uad6c\\ub9e4\", \"\\uad6c\\ub9e4\", \"\\uad6c\\ub9e4\", \"\\uad6c\\ub9e4\", \"\\uad6c\\ub9e4\", \"\\uad6c\\ub9e4\", \"\\uad6c\\ub9e4\", \"\\uad6c\\ub9e4\", \"\\uad6c\\uba4d\", \"\\uad6c\\uc131\", \"\\uad6c\\uc131\", \"\\uad6c\\uc131\", \"\\uad6c\\uc785\", \"\\uad6c\\uc785\", \"\\uad6c\\uc785\", \"\\uad6d\\uac70\", \"\\uad6d\\ub0b4\", \"\\uad6d\\uc0b0\", \"\\uad8c\\uc7a5\", \"\\uaddc\\uaca9\", \"\\uadf8\\ub300\\ub85c\", \"\\uadf8\\ub300\\ub85c\", \"\\uadf8\\ub300\\ub85c\", \"\\uadf8\\ub78c\", \"\\uadf8\\ub7a8\", \"\\uae08\\uc694\\uc77c\", \"\\uae08\\uc694\\uc77c\", \"\\uae08\\uc77c\", \"\\uae08\\uc77c\", \"\\uae30\\uac04\", \"\\uae30\\ub984\", \"\\uae30\\ubcf8\", \"\\uae30\\uc0ac\", \"\\uae30\\uc628\", \"\\uae30\\uc7ac\", \"\\uae30\\uc7ac\", \"\\uae30\\uc7ac\", \"\\uae30\\uc874\", \"\\uae30\\ud55c\", \"\\uae40\\uce58\", \"\\uae40\\uce58\", \"\\uaec0\\ub370\", \"\\ub099\\uc9c0\", \"\\ub0a0\\uc528\", \"\\ub0a0\\uc528\", \"\\ub0a0\\uc9dc\", \"\\ub0b1\\uac1c\", \"\\ub0b4\\uc6a9\", \"\\ub0b4\\uc6a9\\ubb3c\", \"\\ub0b4\\uc77c\", \"\\ub0b4\\uc77c\", \"\\ub0c4\\uc0c8\", \"\\ub0c9\\ub3d9\", \"\\ub0c9\\ub3d9\\uc2dd\\ud488\", \"\\ub0c9\\ub9e4\", \"\\ub0c9\\uc7a5\", \"\\ub0c9\\uc7a5\\uace0\", \"\\ub124\\ub124\", \"\\ub179\\uc9c0\", \"\\ub18d\\ubd80\", \"\\ub192\\uc774\", \"\\ub2e4\\uc2dc\", \"\\ub2e4\\uc2dc\", \"\\ub2e4\\uc2dc\", \"\\ub2e8\\uac00\", \"\\ub2e8\\uc704\", \"\\ub2e8\\uc704\", \"\\ub2e8\\uc704\", \"\\ub2ec\\ub77c\", \"\\ub2ec\\ub77c\", \"\\ub2f5\\ub840\", \"\\ub2f5\\ubcc0\", \"\\ub2f9\\uc77c\", \"\\ub2f9\\uc77c\", \"\\ub300\\ubd80\\ubd84\", \"\\ub300\\ucc9c\", \"\\ub300\\ud558\", \"\\ub300\\ud55c\", \"\\ub354\\uc6b1\", \"\\ub354\\uc6b1\", \"\\ub369\\uc774\", \"\\ub3c4\\uc2dc\\ub77d\", \"\\ub3c4\\uc6c0\", \"\\ub3c4\\ucc29\", \"\\ub3c4\\ucc29\", \"\\ub3c4\\ucc29\", \"\\ub3c4\\ucc29\", \"\\ub3d9\\ubd09\", \"\\ub4dc\\ub77c\\uc774\\uc544\\uc774\\uc2a4\", \"\\ub4f1\\uc2ec\", \"\\ub530\\ub85c\\ub530\\ub85c\", \"\\ub69c\\uaed1\", \"\\ub69c\\uaed1\", \"\\ub77c\\uba74\", \"\\ub77c\\uba74\", \"\\ub78d\\ub2c8\", \"\\ub85c\\ub9cc\", \"\\ub9ac\\ub274\\uc5bc\", \"\\ub9c8\\uac10\", \"\\ub9c8\\ub298\", \"\\ub9c8\\ub9ac\", \"\\ub9d0\\uc500\", \"\\ub9d0\\uc500\", \"\\ub9e4\\uc6b0\", \"\\ub9e4\\uc81c\", \"\\uba3c\\uc800\", \"\\uba3c\\uc800\", \"\\uba3c\\uc800\", \"\\uba54\\ubaa8\", \"\\uba54\\uc138\\uc9c0\", \"\\uba54\\uc138\\uc9c0\", \"\\uba78\\uce58\", \"\\uba85\\uc808\", \"\\ubaa8\\ub4e0\", \"\\ubaa9\\uc0b4\", \"\\ubaa9\\uc694\\uc77c\", \"\\ubabb\\ub09c\\uc774\", \"\\ubb34\\uac8c\", \"\\ubb34\\ub8cc\", \"\\ubb34\\uc9c0\", \"\\ubb36\\uc74c\", \"\\ubb36\\uc74c\", \"\\ubb38\\uac74\", \"\\ubb38\\uad6c\", \"\\ubb38\\uc758\", \"\\ubb38\\uc758\", \"\\ubb38\\uc758\", \"\\ubb38\\uc758\", \"\\ubb38\\uc758\", \"\\ubb38\\uc758\", \"\\ubb38\\uc758\\uc0ac\\ud56d\", \"\\ubb38\\uc790\", \"\\ubb38\\uc81c\", \"\\ubb38\\uc81c\", \"\\ubb3c\\uac74\", \"\\ubb3c\\ub7c9\", \"\\ubb3c\\ub958\", \"\\ubbf8\\uad6d\", \"\\ubbf8\\ub9ac\", \"\\ubc00\\ubd09\", \"\\ubc00\\ubd09\", \"\\ubc14\\uad6c\\ub2c8\", \"\\ubc15\\uc2a4\", \"\\ubc18\\uc601\", \"\\ubc1c\\uc0dd\", \"\\ubc1c\\uc0dd\", \"\\ubc1c\\uc1a1\", \"\\ubc1c\\uc1a1\", \"\\ubc29\\uae08\", \"\\ubc29\\ubc95\", \"\\ubc30\\ub2ec\", \"\\ubc30\\ub2ec\", \"\\ubc30\\uc1a1\", \"\\ubc30\\uc1a1\", \"\\ubc30\\uc1a1\", \"\\ubc30\\uc1a1\", \"\\ubc30\\uc1a1\", \"\\ubc30\\uc1a1\", \"\\ubc30\\uc1a1\", \"\\ubc30\\uc1a1\\ub7c9\", \"\\ubc30\\uc1a1\\ube44\", \"\\ubc31\\ub3c4\", \"\\ubcc0\\uacbd\", \"\\ubcc0\\uacbd\", \"\\ubcc0\\uc9c8\", \"\\ubcc0\\uc9c8\", \"\\ubcc0\\uc9c8\", \"\\ubcc4\\ub3c4\", \"\\ubcc4\\ub3c4\", \"\\ubcc4\\ub3c4\", \"\\ubcc4\\ub3c4\", \"\\ubcc4\\ub3c4\", \"\\ubcc4\\ub85c\", \"\\ubcc4\\ub85c\", \"\\ubcc4\\ub85c\", \"\\ubcf4\\uad00\", \"\\ubcf4\\ub0c9\", \"\\ubcf4\\ub0c9\\ud329\", \"\\ubcf4\\uc2dc\", \"\\ubcf4\\uc790\\uae30\", \"\\ubcf4\\uc790\\uae30\", \"\\ubcf4\\uc7a5\", \"\\ubcf4\\ud1b5\", \"\\ubd09\\uc9c0\", \"\\ubd09\\ud22c\", \"\\ubd09\\ud558\", \"\\ubd80\\ubaa8\\ub2d8\", \"\\ubd80\\ubd84\", \"\\ubd80\\ubd84\", \"\\ubd80\\ubd84\", \"\\ubd80\\uc704\", \"\\ubd80\\uc9c1\\ud3ec\", \"\\ubd80\\ucc29\", \"\\ubd80\\ud0c1\", \"\\ubd84\\ub9ac\", \"\\ubd84\\ud3ec\", \"\\ubd84\\ud574\", \"\\ubd99\\uc774\", \"\\ube44\\ub2d0\", \"\\ube44\\ub2d0\", \"\\ube44\\ub2d0\", \"\\ube44\\ub2d0\", \"\\ube44\\ub2d0\", \"\\ubf41\\ubf41\", \"\\ubf41\\ubf41\\uc774\", \"\\ubfb1\\ubfb1\", \"\\ubfcc\\ub9ac\", \"\\uc0ac\\uace0\", \"\\uc0ac\\ub78c\", \"\\uc0ac\\ub824\", \"\\uc0ac\\uc6a9\", \"\\uc0ac\\uc6a9\", \"\\uc0ac\\uc6a9\", \"\\uc0ac\\uc740\", \"\\uc0ac\\uc774\\uc988\", \"\\uc0ac\\uc774\\uc988\", \"\\uc0ac\\uc774\\uc988\", \"\\uc0ac\\uc774\\uc988\", \"\\uc0ac\\uc7a5\", \"\\uc0ac\\uc815\", \"\\uc0ac\\uc9c4\", \"\\uc0ac\\uc9c4\", \"\\uc0ac\\ud56d\", \"\\uc0ac\\ud56d\", \"\\uc0b0\\uc18c\", \"\\uc0c1\\uc628\", \"\\uc0c1\\uc790\", \"\\uc0c1\\ud0dc\", \"\\uc0c1\\ud488\", \"\\uc0c1\\ud488\", \"\\uc0c1\\ud488\", \"\\uc0c1\\ud558\", \"\\uc0c1\\ud558\", \"\\uc0dd\\uc0b0\", \"\\uc0dd\\uc0b0\", \"\\uc0dd\\uc218\", \"\\uc11c\\ube44\\uc2a4\", \"\\uc120\\ubb3c\", \"\\uc120\\ubb3c\", \"\\uc120\\ubcc4\", \"\\uc120\\ud0dd\", \"\\uc124\\uba85\", \"\\uc12d\\ucde8\", \"\\uc131\\ud488\", \"\\uc138\\ub85c\", \"\\uc138\\ud2b8\", \"\\uc14b\\ud2b8\", \"\\uc18c\\uc2a4\", \"\\uc18c\\uc694\", \"\\uc18c\\ud3ec\", \"\\uc190\\uc7a1\\uc774\", \"\\uc190\\uc7a1\\uc774\", \"\\uc190\\uc9c8\", \"\\uc1a1\\uc7a5\", \"\\uc1a1\\uc7a5\", \"\\uc1a1\\uc7a5\", \"\\uc1fc\\ud551\", \"\\uc218\\ub3c4\", \"\\uc218\\ub7c9\", \"\\uc218\\ub7c9\", \"\\uc218\\ub7c9\", \"\\uc218\\ub839\", \"\\uc218\\ub839\", \"\\uc218\\uc694\\uc77c\", \"\\uc218\\uc815\", \"\\uc219\\uc131\", \"\\uc21c\\ub300\", \"\\uc21c\\ucc28\", \"\\uc2a4\\ud14c\\uc774\\ud06c\", \"\\uc2a4\\ud2f0\\ub85c\\ud3fc\", \"\\uc2a4\\ud2f0\\ucee4\", \"\\uc2a4\\ud2f0\\ucee4\", \"\\uc2dc\\ub098\", \"\\uc2dc\\uc791\", \"\\uc2dd\\ud488\", \"\\uc2dd\\ud488\", \"\\uc2e0\\uacbd\", \"\\uc2e0\\uacbd\", \"\\uc2e0\\ubb38\\uc9c0\", \"\\uc2e0\\uc120\\ub3c4\", \"\\uc2e0\\uccad\", \"\\uc2e0\\uccad\", \"\\uc2e4\\ub9c1\", \"\\uc2e4\\uc18d\", \"\\uc2e4\\uc218\", \"\\uc2e4\\uc628\", \"\\uc544\\ub798\", \"\\uc544\\uc774\\uc2a4\", \"\\uc544\\uc774\\uc2a4\\ubc15\\uc2a4\", \"\\uc544\\uc774\\uc2a4\\ud06c\\ub9bc\", \"\\uc544\\uc774\\uc2a4\\ud329\", \"\\uc544\\uc774\\uc2a4\\ud329\", \"\\uc544\\uce68\", \"\\uc548\\ub0b4\", \"\\uc548\\uc804\", \"\\uc555\\ucd95\", \"\\uc57c\\ucc44\", \"\\uc57d\\uc18d\", \"\\uc591\\ubc30\\ucd94\", \"\\uc591\\ud574\", \"\\uc591\\ud574\", \"\\uc591\\ud574\", \"\\uc5bc\\uc74c\", \"\\uc5ec\\ub7ec\", \"\\uc5ec\\ub7ec\", \"\\uc5ec\\ub984\", \"\\uc5ec\\ub984\", \"\\uc5ec\\uc720\", \"\\uc5fc\\ub824\", \"\\uc601\\uc218\\uc99d\", \"\\uc608\\uc804\", \"\\uc608\\uc815\", \"\\uc624\\ub298\", \"\\uc624\\ub298\", \"\\uc624\\ub2c8\", \"\\uc624\\uc9d5\\uc5b4\", \"\\uc624\\ud6c4\", \"\\uc635\\uc158\", \"\\uc678\\uacfd\", \"\\uc694\\uc998\", \"\\uc694\\uccad\", \"\\uc694\\uccad\", \"\\uc694\\uccad\", \"\\uc694\\uccad\", \"\\uc694\\uccad\", \"\\uc6a9\\uae30\", \"\\uc6a9\\ub3c4\", \"\\uc6a9\\ub7c9\", \"\\uc6a9\\uc774\", \"\\uc6b0\\ub824\", \"\\uc6b0\\ub824\", \"\\uc6b0\\uc720\", \"\\uc6d0\\ub798\", \"\\uc6d4\\uc694\\uc77c\", \"\\uc704\\ub85c\", \"\\uc704\\ud574\", \"\\uc704\\ud574\", \"\\uc720\\uc9c0\", \"\\uc720\\ud1b5\", \"\\uc720\\ud1b5\", \"\\uc74c\\ub8cc\\uc218\", \"\\uc758\\uc8fc\", \"\\uc774\\uae30\", \"\\uc774\\uba74\", \"\\uc774\\uc6a9\", \"\\uc774\\uc6a9\", \"\\uc774\\uc6a9\", \"\\uc774\\uc720\", \"\\uc774\\uc804\", \"\\uc774\\uc911\", \"\\uc774\\ud6c4\", \"\\uc778\\ubd84\", \"\\uc778\\uc808\\ubbf8\", \"\\uc77c\\uad04\", \"\\uc77c\\ubc18\", \"\\uc77c\\ubc18\", \"\\uc77c\\ubc18\", \"\\uc77c\\ucd9c\", \"\\uc790\\ub3d9\", \"\\uc790\\uc5f0\", \"\\uc790\\uccb4\", \"\\uc790\\uccb4\", \"\\uc791\\uc5c5\", \"\\uc791\\uc5c5\", \"\\uc791\\uc5c5\", \"\\uc7a5\\ub9c8\", \"\\uc7ac\\uace0\", \"\\uc7ac\\ub798\", \"\\uc7ac\\uc9c8\", \"\\uc800\\ub141\", \"\\uc800\\ubc88\", \"\\uc804\\ub2ec\", \"\\uc804\\uc6a9\", \"\\uc804\\uc6a9\", \"\\uc804\\uccb4\", \"\\uc808\\ub2e8\", \"\\uc815\\ub9d0\", \"\\uc815\\uc0c1\", \"\\uc81c\\uac70\", \"\\uc81c\\uacf5\", \"\\uc81c\\uacf5\", \"\\uc81c\\uc77c\", \"\\uc81c\\ud488\", \"\\uc870\\uac01\", \"\\uc885\\uc774\", \"\\uc8fc\\ub9d0\", \"\\uc8fc\\ubb38\", \"\\uc8fc\\ubb38\", \"\\uc8fc\\ubb38\", \"\\uc8fc\\ubb38\", \"\\uc8fc\\ubb38\", \"\\uc8fc\\ubb38\", \"\\uc8fc\\ubb38\", \"\\uc8fc\\ubb38\", \"\\uc8fc\\uc2ec\", \"\\uc8fc\\uc758\", \"\\uc900\\ube44\", \"\\uc911\\ub7c9\", \"\\uc911\\uc774\", \"\\uc99d\\uc815\", \"\\uc9c0\\uae08\", \"\\uc9c0\\uae08\", \"\\uc9c0\\uc5ed\", \"\\uc9c0\\uc778\", \"\\uc9c0\\uc815\", \"\\uc9c0\\ud37c\", \"\\uc9c0\\ud37c\", \"\\uc9c1\\uc811\", \"\\uc9c4\\uacf5\", \"\\uc9c4\\ud589\", \"\\uc9c4\\ud589\", \"\\uc9c4\\ud589\", \"\\ucc28\\ub7c9\", \"\\ucc28\\uc774\", \"\\ucc28\\uc774\", \"\\ucc28\\uc774\", \"\\ucc29\\uc624\", \"\\ucc38\\uace0\", \"\\ucc38\\uace0\", \"\\ucc38\\uce58\", \"\\ucc98\\ub9ac\", \"\\ucc98\\ub9ac\", \"\\ucc98\\uc74c\", \"\\ucd1d\\uac01\", \"\\ucd5c\\ub300\", \"\\ucd5c\\ub300\\ud55c\", \"\\ucd5c\\ub300\\ud55c\", \"\\ucd5c\\uc18c\", \"\\ucd94\\uac00\", \"\\ucd94\\uc11d\", \"\\ucd94\\ucc9c\", \"\\ucd9c\\uace0\", \"\\ucd9c\\uace0\", \"\\ucd9c\\uace0\", \"\\ucd9c\\ubc1c\", \"\\ucda9\\uaca9\", \"\\ucde8\\uc18c\", \"\\uce58\\uc988\", \"\\uce74\\ub4dc\", \"\\uce78\\ub9c9\\uc774\", \"\\ucee4\\ud53c\", \"\\ucf00\\uc774\\uc2a4\", \"\\ucf00\\uc774\\uc2a4\", \"\\ucf54\\ud305\", \"\\ud06c\\uae30\", \"\\ud06c\\uae30\", \"\\ud06c\\uae30\", \"\\ud0ac\\ub85c\", \"\\ud0dd\\ubc30\", \"\\ud0dd\\ubc30\", \"\\ud0dd\\ubc30\", \"\\ud14c\\uc774\\ud504\", \"\\ud1a0\\uc694\\uc77c\", \"\\ud1f4\\uadfc\", \"\\ud2f0\\ubc31\", \"\\ud30c\\uc190\", \"\\ud30c\\uc190\", \"\\ud30c\\uc190\", \"\\ud30c\\uc6b0\\uce58\", \"\\ud310\\ub9e4\", \"\\ud328\\ud0a4\\uc9c0\", \"\\ud328\\ud0a4\\uc9c0\", \"\\ud37c\\uc13c\\ud2b8\", \"\\ud37c\\uc13c\\ud2b8\", \"\\ud398\\uc774\\uc9c0\", \"\\ud398\\uc774\\ud37c\\ubc31\", \"\\ud3b8\\uc774\", \"\\ud3ec\\ub300\", \"\\ud3ec\\uc7a5\", \"\\ud3ec\\uc7a5\", \"\\ud3ec\\uc7a5\", \"\\ud3ec\\uc7a5\", \"\\ud3ec\\uc7a5\", \"\\ud3ec\\uc7a5\", \"\\ud3ec\\uc7a5\", \"\\ud3ec\\uc7a5\\uc7ac\", \"\\ud3ec\\ud568\", \"\\ud3ec\\ud568\", \"\\ud3ec\\ud568\", \"\\ud45c\\uc2dc\", \"\\ud45c\\uc2dc\", \"\\ud488\\uc808\", \"\\ud488\\uc9c8\", \"\\ud504\\ub9ac\\ubbf8\\uc5c4\", \"\\ud558\\ub098\\uc694\", \"\\ud558\\ub098\\uc694\", \"\\ud558\\ub8e8\", \"\\ud558\\ub8e8\", \"\\ud55c\\uc5ec\\ub984\", \"\\ud569\\ud3ec\", \"\\ud569\\ud3ec\", \"\\ud56d\\uc0c1\", \"\\ud574\\ub2f9\", \"\\ud574\\ub2f9\", \"\\ud574\\ub3d9\", \"\\ud574\\uc678\", \"\\ud589\\uc0ac\", \"\\ud604\\ubbf8\", \"\\ud604\\uc7ac\", \"\\ud604\\uc7ac\", \"\\ud604\\uc7ac\", \"\\ud604\\uc7ac\", \"\\ud604\\uc7ac\", \"\\ud604\\uc7ac\", \"\\ud615\\ud0dc\", \"\\ud638\\ubc15\", \"\\ud63c\\ud569\", \"\\ud64d\\uc0bc\", \"\\ud655\\uc778\", \"\\ud658\\ubd88\", \"\\ud669\\uae08\", \"\\ud68c\\uc0ac\", \"\\ud6a8\\uacfc\", \"\\ud6c4\\uae30\"]}, \"R\": 30, \"lambda.step\": 0.01, \"plot.opts\": {\"xlab\": \"PC1\", \"ylab\": \"PC2\"}, \"topic.order\": [5, 6, 8, 10, 7, 1, 3, 9, 4, 2]};\n",
              "\n",
              "function LDAvis_load_lib(url, callback){\n",
              "  var s = document.createElement('script');\n",
              "  s.src = url;\n",
              "  s.async = true;\n",
              "  s.onreadystatechange = s.onload = callback;\n",
              "  s.onerror = function(){console.warn(\"failed to load library \" + url);};\n",
              "  document.getElementsByTagName(\"head\")[0].appendChild(s);\n",
              "}\n",
              "\n",
              "if(typeof(LDAvis) !== \"undefined\"){\n",
              "   // already loaded: just create the visualization\n",
              "   !function(LDAvis){\n",
              "       new LDAvis(\"#\" + \"ldavis_el3081392774623931681821230834\", ldavis_el3081392774623931681821230834_data);\n",
              "   }(LDAvis);\n",
              "}else if(typeof define === \"function\" && define.amd){\n",
              "   // require.js is available: use it to load d3/LDAvis\n",
              "   require.config({paths: {d3: \"https://d3js.org/d3.v5\"}});\n",
              "   require([\"d3\"], function(d3){\n",
              "      window.d3 = d3;\n",
              "      LDAvis_load_lib(\"https://cdn.jsdelivr.net/gh/bmabey/pyLDAvis@3.4.0/pyLDAvis/js/ldavis.v3.0.0.js\", function(){\n",
              "        new LDAvis(\"#\" + \"ldavis_el3081392774623931681821230834\", ldavis_el3081392774623931681821230834_data);\n",
              "      });\n",
              "    });\n",
              "}else{\n",
              "    // require.js not available: dynamically load d3 & LDAvis\n",
              "    LDAvis_load_lib(\"https://d3js.org/d3.v5.js\", function(){\n",
              "         LDAvis_load_lib(\"https://cdn.jsdelivr.net/gh/bmabey/pyLDAvis@3.4.0/pyLDAvis/js/ldavis.v3.0.0.js\", function(){\n",
              "                 new LDAvis(\"#\" + \"ldavis_el3081392774623931681821230834\", ldavis_el3081392774623931681821230834_data);\n",
              "            })\n",
              "         });\n",
              "}\n",
              "</script>"
            ]
          },
          "metadata": {},
          "execution_count": 44
        }
      ]
    },
    {
      "cell_type": "markdown",
      "source": [
        "# 결제 인텐트 토픽 모델링"
      ],
      "metadata": {
        "id": "tGf0ZFWwzfR_"
      }
    },
    {
      "cell_type": "code",
      "source": [
        "df5 = data[(data['인텐트 (대)']=='결제')]\n",
        "text5 = df5[['발화문']]\n",
        "text5.head(5)"
      ],
      "metadata": {
        "colab": {
          "base_uri": "https://localhost:8080/",
          "height": 262
        },
        "id": "bLipr_kTzeCZ",
        "outputId": "d058adbf-9d50-4e3f-fefb-484e7d66b1fd"
      },
      "execution_count": null,
      "outputs": [
        {
          "output_type": "stream",
          "name": "stderr",
          "text": [
            "/usr/local/lib/python3.10/dist-packages/ipykernel/ipkernel.py:283: DeprecationWarning: `should_run_async` will not call `transform_cell` automatically in the future. Please pass the result to `transformed_cell` argument and any exception that happen during thetransform in `preprocessing_exc_tuple` in IPython 7.17 and above.\n",
            "  and should_run_async(code)\n"
          ]
        },
        {
          "output_type": "execute_result",
          "data": {
            "text/plain": [
              "                                                     발화문\n",
              "15672  영수증이 필요해서 그런데요혹시 구매하고요청 드리면 제품 배송 시 영수증동봉해주실 수...\n",
              "15673  택배와 함께 별도로 제공해 드리는 영수증은 없습니다. 영수증은 주문 내역에서 출력하...\n",
              "15674                                혹식 따로 영수증 첨부 가능할까요?\n",
              "15675           간이 영수증 동봉하여 출고도와 드리겠습니다. 오늘도 즐거운 하루 되세요.\n",
              "15676                    현금영수증 발급 1건으로 묶어서 발급해주시면 안 되나요?"
            ],
            "text/html": [
              "\n",
              "  <div id=\"df-6622c91f-e182-44e7-87f9-18bff91f6a5c\" class=\"colab-df-container\">\n",
              "    <div>\n",
              "<style scoped>\n",
              "    .dataframe tbody tr th:only-of-type {\n",
              "        vertical-align: middle;\n",
              "    }\n",
              "\n",
              "    .dataframe tbody tr th {\n",
              "        vertical-align: top;\n",
              "    }\n",
              "\n",
              "    .dataframe thead th {\n",
              "        text-align: right;\n",
              "    }\n",
              "</style>\n",
              "<table border=\"1\" class=\"dataframe\">\n",
              "  <thead>\n",
              "    <tr style=\"text-align: right;\">\n",
              "      <th></th>\n",
              "      <th>발화문</th>\n",
              "    </tr>\n",
              "  </thead>\n",
              "  <tbody>\n",
              "    <tr>\n",
              "      <th>15672</th>\n",
              "      <td>영수증이 필요해서 그런데요혹시 구매하고요청 드리면 제품 배송 시 영수증동봉해주실 수...</td>\n",
              "    </tr>\n",
              "    <tr>\n",
              "      <th>15673</th>\n",
              "      <td>택배와 함께 별도로 제공해 드리는 영수증은 없습니다. 영수증은 주문 내역에서 출력하...</td>\n",
              "    </tr>\n",
              "    <tr>\n",
              "      <th>15674</th>\n",
              "      <td>혹식 따로 영수증 첨부 가능할까요?</td>\n",
              "    </tr>\n",
              "    <tr>\n",
              "      <th>15675</th>\n",
              "      <td>간이 영수증 동봉하여 출고도와 드리겠습니다. 오늘도 즐거운 하루 되세요.</td>\n",
              "    </tr>\n",
              "    <tr>\n",
              "      <th>15676</th>\n",
              "      <td>현금영수증 발급 1건으로 묶어서 발급해주시면 안 되나요?</td>\n",
              "    </tr>\n",
              "  </tbody>\n",
              "</table>\n",
              "</div>\n",
              "    <div class=\"colab-df-buttons\">\n",
              "\n",
              "  <div class=\"colab-df-container\">\n",
              "    <button class=\"colab-df-convert\" onclick=\"convertToInteractive('df-6622c91f-e182-44e7-87f9-18bff91f6a5c')\"\n",
              "            title=\"Convert this dataframe to an interactive table.\"\n",
              "            style=\"display:none;\">\n",
              "\n",
              "  <svg xmlns=\"http://www.w3.org/2000/svg\" height=\"24px\" viewBox=\"0 -960 960 960\">\n",
              "    <path d=\"M120-120v-720h720v720H120Zm60-500h600v-160H180v160Zm220 220h160v-160H400v160Zm0 220h160v-160H400v160ZM180-400h160v-160H180v160Zm440 0h160v-160H620v160ZM180-180h160v-160H180v160Zm440 0h160v-160H620v160Z\"/>\n",
              "  </svg>\n",
              "    </button>\n",
              "\n",
              "  <style>\n",
              "    .colab-df-container {\n",
              "      display:flex;\n",
              "      gap: 12px;\n",
              "    }\n",
              "\n",
              "    .colab-df-convert {\n",
              "      background-color: #E8F0FE;\n",
              "      border: none;\n",
              "      border-radius: 50%;\n",
              "      cursor: pointer;\n",
              "      display: none;\n",
              "      fill: #1967D2;\n",
              "      height: 32px;\n",
              "      padding: 0 0 0 0;\n",
              "      width: 32px;\n",
              "    }\n",
              "\n",
              "    .colab-df-convert:hover {\n",
              "      background-color: #E2EBFA;\n",
              "      box-shadow: 0px 1px 2px rgba(60, 64, 67, 0.3), 0px 1px 3px 1px rgba(60, 64, 67, 0.15);\n",
              "      fill: #174EA6;\n",
              "    }\n",
              "\n",
              "    .colab-df-buttons div {\n",
              "      margin-bottom: 4px;\n",
              "    }\n",
              "\n",
              "    [theme=dark] .colab-df-convert {\n",
              "      background-color: #3B4455;\n",
              "      fill: #D2E3FC;\n",
              "    }\n",
              "\n",
              "    [theme=dark] .colab-df-convert:hover {\n",
              "      background-color: #434B5C;\n",
              "      box-shadow: 0px 1px 3px 1px rgba(0, 0, 0, 0.15);\n",
              "      filter: drop-shadow(0px 1px 2px rgba(0, 0, 0, 0.3));\n",
              "      fill: #FFFFFF;\n",
              "    }\n",
              "  </style>\n",
              "\n",
              "    <script>\n",
              "      const buttonEl =\n",
              "        document.querySelector('#df-6622c91f-e182-44e7-87f9-18bff91f6a5c button.colab-df-convert');\n",
              "      buttonEl.style.display =\n",
              "        google.colab.kernel.accessAllowed ? 'block' : 'none';\n",
              "\n",
              "      async function convertToInteractive(key) {\n",
              "        const element = document.querySelector('#df-6622c91f-e182-44e7-87f9-18bff91f6a5c');\n",
              "        const dataTable =\n",
              "          await google.colab.kernel.invokeFunction('convertToInteractive',\n",
              "                                                    [key], {});\n",
              "        if (!dataTable) return;\n",
              "\n",
              "        const docLinkHtml = 'Like what you see? Visit the ' +\n",
              "          '<a target=\"_blank\" href=https://colab.research.google.com/notebooks/data_table.ipynb>data table notebook</a>'\n",
              "          + ' to learn more about interactive tables.';\n",
              "        element.innerHTML = '';\n",
              "        dataTable['output_type'] = 'display_data';\n",
              "        await google.colab.output.renderOutput(dataTable, element);\n",
              "        const docLink = document.createElement('div');\n",
              "        docLink.innerHTML = docLinkHtml;\n",
              "        element.appendChild(docLink);\n",
              "      }\n",
              "    </script>\n",
              "  </div>\n",
              "\n",
              "\n",
              "<div id=\"df-17559bf2-0776-4854-8792-18d010f17158\">\n",
              "  <button class=\"colab-df-quickchart\" onclick=\"quickchart('df-17559bf2-0776-4854-8792-18d010f17158')\"\n",
              "            title=\"Suggest charts.\"\n",
              "            style=\"display:none;\">\n",
              "\n",
              "<svg xmlns=\"http://www.w3.org/2000/svg\" height=\"24px\"viewBox=\"0 0 24 24\"\n",
              "     width=\"24px\">\n",
              "    <g>\n",
              "        <path d=\"M19 3H5c-1.1 0-2 .9-2 2v14c0 1.1.9 2 2 2h14c1.1 0 2-.9 2-2V5c0-1.1-.9-2-2-2zM9 17H7v-7h2v7zm4 0h-2V7h2v10zm4 0h-2v-4h2v4z\"/>\n",
              "    </g>\n",
              "</svg>\n",
              "  </button>\n",
              "\n",
              "<style>\n",
              "  .colab-df-quickchart {\n",
              "      --bg-color: #E8F0FE;\n",
              "      --fill-color: #1967D2;\n",
              "      --hover-bg-color: #E2EBFA;\n",
              "      --hover-fill-color: #174EA6;\n",
              "      --disabled-fill-color: #AAA;\n",
              "      --disabled-bg-color: #DDD;\n",
              "  }\n",
              "\n",
              "  [theme=dark] .colab-df-quickchart {\n",
              "      --bg-color: #3B4455;\n",
              "      --fill-color: #D2E3FC;\n",
              "      --hover-bg-color: #434B5C;\n",
              "      --hover-fill-color: #FFFFFF;\n",
              "      --disabled-bg-color: #3B4455;\n",
              "      --disabled-fill-color: #666;\n",
              "  }\n",
              "\n",
              "  .colab-df-quickchart {\n",
              "    background-color: var(--bg-color);\n",
              "    border: none;\n",
              "    border-radius: 50%;\n",
              "    cursor: pointer;\n",
              "    display: none;\n",
              "    fill: var(--fill-color);\n",
              "    height: 32px;\n",
              "    padding: 0;\n",
              "    width: 32px;\n",
              "  }\n",
              "\n",
              "  .colab-df-quickchart:hover {\n",
              "    background-color: var(--hover-bg-color);\n",
              "    box-shadow: 0 1px 2px rgba(60, 64, 67, 0.3), 0 1px 3px 1px rgba(60, 64, 67, 0.15);\n",
              "    fill: var(--button-hover-fill-color);\n",
              "  }\n",
              "\n",
              "  .colab-df-quickchart-complete:disabled,\n",
              "  .colab-df-quickchart-complete:disabled:hover {\n",
              "    background-color: var(--disabled-bg-color);\n",
              "    fill: var(--disabled-fill-color);\n",
              "    box-shadow: none;\n",
              "  }\n",
              "\n",
              "  .colab-df-spinner {\n",
              "    border: 2px solid var(--fill-color);\n",
              "    border-color: transparent;\n",
              "    border-bottom-color: var(--fill-color);\n",
              "    animation:\n",
              "      spin 1s steps(1) infinite;\n",
              "  }\n",
              "\n",
              "  @keyframes spin {\n",
              "    0% {\n",
              "      border-color: transparent;\n",
              "      border-bottom-color: var(--fill-color);\n",
              "      border-left-color: var(--fill-color);\n",
              "    }\n",
              "    20% {\n",
              "      border-color: transparent;\n",
              "      border-left-color: var(--fill-color);\n",
              "      border-top-color: var(--fill-color);\n",
              "    }\n",
              "    30% {\n",
              "      border-color: transparent;\n",
              "      border-left-color: var(--fill-color);\n",
              "      border-top-color: var(--fill-color);\n",
              "      border-right-color: var(--fill-color);\n",
              "    }\n",
              "    40% {\n",
              "      border-color: transparent;\n",
              "      border-right-color: var(--fill-color);\n",
              "      border-top-color: var(--fill-color);\n",
              "    }\n",
              "    60% {\n",
              "      border-color: transparent;\n",
              "      border-right-color: var(--fill-color);\n",
              "    }\n",
              "    80% {\n",
              "      border-color: transparent;\n",
              "      border-right-color: var(--fill-color);\n",
              "      border-bottom-color: var(--fill-color);\n",
              "    }\n",
              "    90% {\n",
              "      border-color: transparent;\n",
              "      border-bottom-color: var(--fill-color);\n",
              "    }\n",
              "  }\n",
              "</style>\n",
              "\n",
              "  <script>\n",
              "    async function quickchart(key) {\n",
              "      const quickchartButtonEl =\n",
              "        document.querySelector('#' + key + ' button');\n",
              "      quickchartButtonEl.disabled = true;  // To prevent multiple clicks.\n",
              "      quickchartButtonEl.classList.add('colab-df-spinner');\n",
              "      try {\n",
              "        const charts = await google.colab.kernel.invokeFunction(\n",
              "            'suggestCharts', [key], {});\n",
              "      } catch (error) {\n",
              "        console.error('Error during call to suggestCharts:', error);\n",
              "      }\n",
              "      quickchartButtonEl.classList.remove('colab-df-spinner');\n",
              "      quickchartButtonEl.classList.add('colab-df-quickchart-complete');\n",
              "    }\n",
              "    (() => {\n",
              "      let quickchartButtonEl =\n",
              "        document.querySelector('#df-17559bf2-0776-4854-8792-18d010f17158 button');\n",
              "      quickchartButtonEl.style.display =\n",
              "        google.colab.kernel.accessAllowed ? 'block' : 'none';\n",
              "    })();\n",
              "  </script>\n",
              "</div>\n",
              "    </div>\n",
              "  </div>\n"
            ]
          },
          "metadata": {},
          "execution_count": 45
        }
      ]
    },
    {
      "cell_type": "code",
      "source": [
        "text5['발화문'] = text5.apply(tokenize_korean_text, axis=1)\n",
        "text5['발화문'] = text5['발화문'].apply(remove_stopwords)\n",
        "tokenized_doc5 = text5['발화문'].apply(lambda x: [word for word in x if len(word) > 1])\n",
        "print(tokenized_doc5[:5])"
      ],
      "metadata": {
        "colab": {
          "base_uri": "https://localhost:8080/"
        },
        "id": "sTMCPNcGzpTf",
        "outputId": "c8afd9a1-dee9-4ec3-f428-d083d7a16130"
      },
      "execution_count": null,
      "outputs": [
        {
          "output_type": "stream",
          "name": "stderr",
          "text": [
            "/usr/local/lib/python3.10/dist-packages/ipykernel/ipkernel.py:283: DeprecationWarning: `should_run_async` will not call `transform_cell` automatically in the future. Please pass the result to `transformed_cell` argument and any exception that happen during thetransform in `preprocessing_exc_tuple` in IPython 7.17 and above.\n",
            "  and should_run_async(code)\n",
            "<ipython-input-46-615ce43b5aab>:1: SettingWithCopyWarning: \n",
            "A value is trying to be set on a copy of a slice from a DataFrame.\n",
            "Try using .loc[row_indexer,col_indexer] = value instead\n",
            "\n",
            "See the caveats in the documentation: https://pandas.pydata.org/pandas-docs/stable/user_guide/indexing.html#returning-a-view-versus-a-copy\n",
            "  text5['발화문'] = text5.apply(tokenize_korean_text, axis=1)\n"
          ]
        },
        {
          "output_type": "stream",
          "name": "stdout",
          "text": [
            "15672    [영수증, 구매, 요청, 제품, 배송, 영수증, 동봉]\n",
            "15673    [택배, 별도, 제공, 영수증, 영수증, 주문, 출력]\n",
            "15674                         [영수증, 첨부]\n",
            "15675         [간이, 영수증, 동봉, 출고, 오늘, 하루]\n",
            "15676                   [현금영수증, 발급, 발급]\n",
            "Name: 발화문, dtype: object\n"
          ]
        },
        {
          "output_type": "stream",
          "name": "stderr",
          "text": [
            "<ipython-input-46-615ce43b5aab>:2: SettingWithCopyWarning: \n",
            "A value is trying to be set on a copy of a slice from a DataFrame.\n",
            "Try using .loc[row_indexer,col_indexer] = value instead\n",
            "\n",
            "See the caveats in the documentation: https://pandas.pydata.org/pandas-docs/stable/user_guide/indexing.html#returning-a-view-versus-a-copy\n",
            "  text5['발화문'] = text5['발화문'].apply(remove_stopwords)\n"
          ]
        }
      ]
    },
    {
      "cell_type": "code",
      "source": [
        "dictionary5 = corpora.Dictionary(tokenized_doc5)\n",
        "corpus5 = [dictionary5.doc2bow(text5) for text5 in tokenized_doc5]\n",
        "print(corpus5[1]) # 수행된 결과에서 두번째 뉴스 출력. 첫번째 문서의 인덱스는 0"
      ],
      "metadata": {
        "colab": {
          "base_uri": "https://localhost:8080/"
        },
        "id": "hcp55akkzw47",
        "outputId": "4fb8ff0c-810b-40c6-ffcd-331a6ff7d17a"
      },
      "execution_count": null,
      "outputs": [
        {
          "output_type": "stream",
          "name": "stdout",
          "text": [
            "[(3, 2), (6, 1), (7, 1), (8, 1), (9, 1), (10, 1)]\n"
          ]
        },
        {
          "output_type": "stream",
          "name": "stderr",
          "text": [
            "/usr/local/lib/python3.10/dist-packages/ipykernel/ipkernel.py:283: DeprecationWarning: `should_run_async` will not call `transform_cell` automatically in the future. Please pass the result to `transformed_cell` argument and any exception that happen during thetransform in `preprocessing_exc_tuple` in IPython 7.17 and above.\n",
            "  and should_run_async(code)\n"
          ]
        }
      ]
    },
    {
      "cell_type": "code",
      "source": [
        "NUM_TOPICS = 10 # 10개의 토픽, k=10\n",
        "ldamodel5 = gensim.models.ldamodel.LdaModel(corpus5, num_topics = NUM_TOPICS, id2word=dictionary5, passes=15)\n",
        "topics5 = ldamodel5.print_topics(num_words=4)\n",
        "for topic in topics5:\n",
        "    print(topic)"
      ],
      "metadata": {
        "colab": {
          "base_uri": "https://localhost:8080/"
        },
        "id": "k-asSRhNz4hG",
        "outputId": "c6d2b763-2dd6-4bfb-afeb-6287f07a760e"
      },
      "execution_count": null,
      "outputs": [
        {
          "output_type": "stream",
          "name": "stderr",
          "text": [
            "/usr/local/lib/python3.10/dist-packages/ipykernel/ipkernel.py:283: DeprecationWarning: `should_run_async` will not call `transform_cell` automatically in the future. Please pass the result to `transformed_cell` argument and any exception that happen during thetransform in `preprocessing_exc_tuple` in IPython 7.17 and above.\n",
            "  and should_run_async(code)\n"
          ]
        },
        {
          "output_type": "stream",
          "name": "stdout",
          "text": [
            "(0, '0.277*\"구매\" + 0.060*\"추가\" + 0.031*\"옵션\" + 0.029*\"구입\"')\n",
            "(1, '0.340*\"주문\" + 0.070*\"금요일\" + 0.067*\"토요일\" + 0.051*\"배송\"')\n",
            "(2, '0.064*\"입금\" + 0.034*\"처리\" + 0.029*\"환불\" + 0.027*\"추가\"')\n",
            "(3, '0.068*\"상품\" + 0.057*\"현재\" + 0.031*\"양해\" + 0.031*\"예정\"')\n",
            "(4, '0.091*\"문의\" + 0.052*\"택배\" + 0.033*\"배송\" + 0.030*\"매장\"')\n",
            "(5, '0.090*\"쿠폰\" + 0.076*\"할인\" + 0.052*\"결제\" + 0.051*\"적용\"')\n",
            "(6, '0.115*\"발송\" + 0.082*\"주문\" + 0.055*\"출고\" + 0.050*\"수령\"')\n",
            "(7, '0.298*\"취소\" + 0.060*\"처리\" + 0.036*\"배송\" + 0.029*\"완료\"')\n",
            "(8, '0.153*\"주문\" + 0.036*\"품절\" + 0.034*\"배송\" + 0.032*\"선물\"')\n",
            "(9, '0.136*\"확인\" + 0.075*\"판매\" + 0.037*\"박스\" + 0.032*\"현재\"')\n"
          ]
        }
      ]
    },
    {
      "cell_type": "code",
      "source": [
        "pyLDAvis.enable_notebook()\n",
        "vis5 = pyLDAvis.gensim_models.prepare(ldamodel5, corpus5, dictionary5)\n",
        "pyLDAvis.display(vis5)"
      ],
      "metadata": {
        "colab": {
          "base_uri": "https://localhost:8080/",
          "height": 918
        },
        "id": "WVsfx8cP0Bwj",
        "outputId": "b64dff22-c49c-4ce2-b6eb-5e68c76bfb3a"
      },
      "execution_count": null,
      "outputs": [
        {
          "output_type": "stream",
          "name": "stderr",
          "text": [
            "/usr/local/lib/python3.10/dist-packages/ipykernel/ipkernel.py:283: DeprecationWarning: `should_run_async` will not call `transform_cell` automatically in the future. Please pass the result to `transformed_cell` argument and any exception that happen during thetransform in `preprocessing_exc_tuple` in IPython 7.17 and above.\n",
            "  and should_run_async(code)\n"
          ]
        },
        {
          "output_type": "execute_result",
          "data": {
            "text/plain": [
              "<IPython.core.display.HTML object>"
            ],
            "text/html": [
              "\n",
              "<link rel=\"stylesheet\" type=\"text/css\" href=\"https://cdn.jsdelivr.net/gh/bmabey/pyLDAvis@3.4.0/pyLDAvis/js/ldavis.v1.0.0.css\">\n",
              "\n",
              "\n",
              "<div id=\"ldavis_el3081392774624031368268753235\" style=\"background-color:white;\"></div>\n",
              "<script type=\"text/javascript\">\n",
              "\n",
              "var ldavis_el3081392774624031368268753235_data = {\"mdsDat\": {\"x\": [0.2013496130221613, 0.3084032085349166, -0.023978046414679238, -0.047790392777224, -0.18897523620250772, -0.16665557117587715, -0.18153070197833798, 0.20438806811620372, -0.02222072412526621, -0.08299021699938919], \"y\": [-0.04335663385351369, 0.08805654939015921, -0.04544579102765035, -0.13415225252217458, 0.19207670174148028, -0.18313337568134255, 0.26100075776790105, 0.08224364270706538, -0.1252817381527025, -0.09200786036922264], \"topics\": [1, 2, 3, 4, 5, 6, 7, 8, 9, 10], \"cluster\": [1, 1, 1, 1, 1, 1, 1, 1, 1, 1], \"Freq\": [15.694891899667121, 13.94595283027856, 13.75192946222166, 10.676914072051384, 9.098467944461303, 9.075674859447258, 8.985927490423471, 7.5260876032380395, 5.799972930894289, 5.444180907316915]}, \"tinfo\": {\"Term\": [\"\\ucde8\\uc18c\", \"\\uc8fc\\ubb38\", \"\\uad6c\\ub9e4\", \"\\ubc1c\\uc1a1\", \"\\ud655\\uc778\", \"\\ucfe0\\ud3f0\", \"\\uae08\\uc694\\uc77c\", \"\\ud1a0\\uc694\\uc77c\", \"\\ud560\\uc778\", \"\\ucc98\\ub9ac\", \"\\ucd9c\\uace0\", \"\\ud310\\ub9e4\", \"\\ubb38\\uc758\", \"\\uc218\\ub839\", \"\\ud604\\uc7ac\", \"\\ud0dd\\ubc30\", \"\\ucd94\\uac00\", \"\\uacb0\\uc81c\", \"\\uc801\\uc6a9\", \"\\uc120\\ud0dd\", \"\\ubaa9\\uc694\\uc77c\", \"\\uc785\\uae08\", \"\\ud558\\ub098\\uc694\", \"\\uc0c1\\ud488\", \"\\uc624\\ub298\", \"\\ubc30\\uc1a1\", \"\\uc624\\uc804\", \"\\ub2f9\\uc77c\", \"\\ubc15\\uc2a4\", \"\\uc81c\\ud488\", \"\\uc218\\ub839\", \"\\ubc1c\\uc1a1\", \"\\ub2f9\\uc77c\", \"\\uc774\\ud6c4\", \"\\ub9c8\\uac10\", \"\\uc608\\uc57d\", \"\\uc544\\uc774\\uc2a4\\ubc15\\uc2a4\", \"\\uad6c\\uc131\", \"\\ud3c9\\uc77c\", \"\\uc804\\ub0a0\", \"\\uae30\\ubcf8\", \"\\ub0a0\\uc528\", \"\\uc911\\ub2e8\", \"\\uc81c\\uc791\", \"\\uc870\\uc5c5\", \"\\uc7ac\\ud574\", \"\\ud56d\\uc0c1\", \"\\ucfe0\\ud0a4\", \"\\uc77c\\uc790\", \"\\uc77c\\ub85c\", \"\\uc0dd\\ubb3c\", \"\\ucf00\\uc775\", \"\\uc791\\uc5c5\", \"\\uc99d\\uac00\", \"\\uc6b0\\uccb4\\uad6d\", \"\\ud55c\\ud574\", \"\\uc6d0\\ub450\", \"\\uc57c\\ub2f9\", \"\\uc0ac\\uc758\", \"\\uc81c\\uc8fc\", \"\\uc815\\uc0c1\", \"\\ub0a0\\uc9dc\", \"\\uc774\\uc804\", \"\\ucd9c\\uace0\", \"\\uae08\\uc77c\", \"\\ub0b4\\uc77c\", \"\\uc624\\ub298\", \"\\ubb38\\uac74\", \"\\uc624\\uc804\", \"\\uc624\\ud6c4\", \"\\ud0dd\\ubc30\", \"\\uba3c\\uc800\", \"\\ubb3c\\ub7c9\", \"\\ucd94\\uc11d\", \"\\ub9c8\\uc9c0\\ub9c9\", \"\\uc8fc\\ubb38\", \"\\ubbf8\\ub9ac\", \"\\ubc30\\uc1a1\", \"\\uc0c1\\ud488\", \"\\uacb0\\uc81c\", \"\\uc644\\ub8cc\", \"\\ucc98\\ub9ac\", \"\\uc81c\\ud488\", \"\\uacbd\\uc6b0\", \"\\uae08\\uc694\\uc77c\", \"\\ud1a0\\uc694\\uc77c\", \"\\ubaa9\\uc694\\uc77c\", \"\\ud654\\uc694\\uc77c\", \"\\ucd9c\\ubc1c\", \"\\ub300\\ub7c9\", \"\\ub3c4\\ucc29\", \"\\uc758\\uc8fc\", \"\\ucd94\\ucc9c\", \"\\uac10\\uc790\\ud0d5\", \"\\uc0c8\\ubcbd\", \"\\ud63c\\ud569\", \"\\uc81c\\uc8fc\\ub3c4\", \"\\uc694\\uc77c\", \"\\uc18c\\ub7c9\", \"\\uc11c\\uc6b8\", \"\\uae30\\uc785\", \"\\ubbf8\\ucc98\", \"\\ub2f5\\ub2c8\", \"\\uc694\\uc998\", \"\\ub9ac\\uc5bc\", \"\\uc6d0\\ub798\", \"\\uc0dd\\ud65c\\uc6a9\\ud488\", \"\\ub204\\ub77d\", \"\\uac00\\uc6a9\", \"\\ub358\\ub370\", \"\\ucc98\\uac00\", \"\\uc7ac\\uacb0\", \"\\ubc14\\uc774\\ub7ec\\uc2a4\", \"\\ub2ec\\ub77c\", \"\\uc6d4\\uc694\\uc77c\", \"\\uc77c\\uc694\\uc77c\", \"\\uba54\\ubaa8\", \"\\uc8fc\\ubb38\", \"\\ud558\\ub098\\uc694\", \"\\uc9c0\\uae08\", \"\\uc9c0\\uc815\", \"\\ubc30\\uc1a1\", \"\\uc624\\uc804\", \"\\uc624\\ud6c4\", \"\\uc624\\ub298\", \"\\uc0ac\\ud56d\", \"\\ub0b4\\uc77c\", \"\\uc774\\uc804\", \"\\uc694\\uccad\", \"\\ubc29\\uae08\", \"\\uc2dd\\ud488\", \"\\uc608\\uc815\", \"\\ubcf4\\uace0\", \"\\ucde8\\uc18c\", \"\\ud558\\ub8e8\", \"\\uac70\\ubd80\", \"\\uac11\\uc790\\uae30\", \"\\uc2dc\\uae30\", \"\\uc720\\ud1b5\", \"\\uae30\\ud55c\", \"\\ubb3c\\uac74\", \"\\uc2e0\\uccad\", \"\\ud655\\uc815\", \"\\ucd9c\\ub825\", \"\\ud604\\ubbf8\", \"\\uc911\\uc21c\", \"\\uace8\\ub4dc\", \"\\ud64d\\uc0bc\", \"\\uc9c0\\ub09c\\ubc88\", \"\\ucd9c\\uc2dc\", \"\\ub0b4\\ub0b4\", \"\\uc774\\ub0b4\", \"\\uc774\\uc720\", \"\\uc544\\uc774\\uc2a4\", \"\\ubaa8\\uce74\", \"\\uac1c\\ubcc4\", \"\\uc870\\uce58\", \"\\uc77c\\ubc29\", \"\\ub2c8\\uc694\", \"\\uc774\\uc138\", \"\\uace0\\ub824\", \"\\uc784\\uc758\", \"\\uac70\\uc808\", \"\\uce74\\ub4dc\", \"\\ubb54\\uac00\", \"\\uc1a1\\uc7a5\", \"\\ucc98\\ub9ac\", \"\\ubc18\\ud488\", \"\\uc644\\ub8cc\", \"\\ub2e4\\uc2dc\", \"\\uc5f0\\ub77d\", \"\\uc694\\uccad\", \"\\uc911\\uc774\", \"\\uc811\\uc218\", \"\\uc790\\ub3d9\", \"\\uc0c1\\ud0dc\", \"\\uc5b4\\uc81c\", \"\\uacb0\\uc81c\", \"\\uc798\\ubabb\", \"\\ubc30\\uc1a1\", \"\\uc900\\ube44\", \"\\uc0c1\\ud488\", \"\\ud658\\ubd88\", \"\\uc624\\ub298\", \"\\uc9c0\\uae08\", \"\\ubb38\\uc790\", \"\\ud310\\ub9e4\", \"\\ud558\\ub098\\uc694\", \"\\ud589\\uc0ac\", \"\\uc9c0\\uc5ed\", \"\\uba54\\uc138\\uc9c0\", \"\\uc5f0\\ud734\", \"\\uc885\\ub8cc\", \"\\ubd88\\uac00\", \"\\uae40\\uce58\", \"\\ub4dc\\ub77c\\uc774\\uc544\\uc774\\uc2a4\", \"\\ucee4\\ud53c\", \"\\ub300\\ub9ac\\uc810\", \"\\uc77c\\uc774\", \"\\uc774\\uc81c\", \"\\ud488\\ubaa9\", \"\\uc2dc\\uc77c\", \"\\uc0dd\\uac01\", \"\\uc778\\ud130\\ub137\", \"\\ub3d9\\ubd09\", \"\\uc775\\uc77c\", \"\\ud3ec\\uae30\", \"\\ubcc0\\ub3d9\", \"\\uac80\\uc218\", \"\\ucd08\\ucf54\", \"\\ud06c\\uae30\", \"\\ud488\\uc9c8\", \"\\ub530\\ub85c\\ub530\\ub85c\", \"\\ubbf8\\ub9cc\", \"\\uc124\\uba85\", \"\\uc7ac\\ud310\\ub9e4\", \"\\uc911\\uc9c0\", \"\\ub300\\uae30\", \"\\uba70\\uce60\", \"\\uc9c4\\ud589\", \"\\ud574\\ub2f9\", \"\\uc21c\\ucc28\", \"\\uc608\\uc815\", \"\\ud604\\uc7ac\", \"\\uc591\\ud574\", \"\\uacc4\\uc18d\", \"\\uc218\\ub7c9\", \"\\uc9c0\\uc5f0\", \"\\uc0c1\\ud488\", \"\\ucc38\\uace0\", \"\\uc544\\uc774\\uc2a4\\ud329\", \"\\ubcc4\\ub3c4\", \"\\ucd9c\\uace0\", \"\\uc81c\\ud488\", \"\\ud310\\ub9e4\", \"\\ud488\\uc808\", \"\\ubc30\\uc1a1\", \"\\uacbd\\uc6b0\", \"\\uc8fc\\ubb38\", \"\\uc0c1\\ud0dc\", \"\\ucfe0\\ud3f0\", \"\\uc801\\uc6a9\", \"\\uc120\\ud0dd\", \"\\uc0ac\\uc6a9\", \"\\uc9c1\\uc811\", \"\\ud560\\uc778\", \"\\ud37c\\uc13c\\ud2b8\", \"\\uc601\\uc218\\uc99d\", \"\\ubc30\\uc1a1\\ube44\", \"\\ucea1\\uc290\", \"\\ubc1c\\uae09\", \"\\ud504\\ub85c\", \"\\uc218\\ub3c4\", \"\\ud76c\\ub9dd\", \"\\uc0ac\\uc9c4\", \"\\uc218\\uc815\", \"\\ubc1c\\uc0dd\", \"\\uad00\\uc2ec\", \"\\uae08\\uc561\", \"\\uac1c\\uc6d4\", \"\\ubc30\\uc1a1\\uc9c0\", \"\\uc77c\\ubc18\", \"\\uc138\\uae08\", \"\\ubc1c\\ud589\", \"\\ub2e4\\uc6b4\", \"\\uacc4\\uc0b0\\uc11c\", \"\\uc624\\ub958\", \"\\ubaa8\\ubc14\\uc77c\", \"\\uc804\\uc0b0\", \"\\uc218\\uc785\", \"\\ubb38\\uc81c\", \"\\uacb0\\uc81c\", \"\\uc81c\\ud488\", \"\\ucd5c\\ub300\", \"\\uad6c\\ub9e4\", \"\\uc635\\uc158\", \"\\uc0c1\\ud488\", \"\\uacb0\\uc7ac\", \"\\ud604\\uc7ac\", \"\\uac00\\uaca9\", \"\\uacbd\\uc6b0\", \"\\ud655\\uc778\", \"\\ubc15\\uc2a4\", \"\\ubc88\\ud638\", \"\\uc18c\\uc2a4\", \"\\uc0ac\\uc740\", \"\\ub9d0\\uc500\", \"\\uc628\\ub77c\\uc778\", \"\\ud1b5\\uad00\", \"\\uc885\\ub958\", \"\\ub2e8\\uc704\", \"\\uc18c\\uc9c4\", \"\\uc5ec\\uc720\", \"\\uc911\\uc778\", \"\\uacb0\\uacfc\", \"\\ubaa8\\ub4e0\", \"\\uc219\\uc131\", \"\\uc99d\\uc815\", \"\\ubd09\\uc9c0\", \"\\ub9c8\\ub9ac\", \"\\uc774\\ub984\", \"\\ucc28\\uc774\", \"\\uba54\\ub274\", \"\\uc218\\ucde8\", \"\\ubc1c\\uc8fc\", \"\\uac1c\\uc778\", \"\\uac10\\uc790\", \"\\uc774\\uc0c1\\uc740\", \"\\uc7ac\\ub09c\", \"\\ubbf8\\ub2c8\", \"\\ubc88\\ub9cc\", \"\\ub0b4\\uc6a9\", \"\\uc785\\ub825\", \"\\ubc30\\ub2ec\", \"\\uc804\\ub2ec\", \"\\ud310\\ub9e4\", \"\\uc7ac\\uace0\", \"\\uc900\\ube44\", \"\\ub3c4\\uc6c0\", \"\\uc815\\ubcf4\", \"\\ud604\\uc7ac\", \"\\uc870\\ud68c\", \"\\uace0\\uac1d\", \"\\ubb38\\uac74\", \"\\uc0c1\\ud488\", \"\\uc591\\ud574\", \"\\uc81c\\ud488\", \"\\uc911\\uc774\", \"\\ubb38\\uc758\", \"\\ubd80\\ubd84\", \"\\uc218\\ub7c9\", \"\\ucd94\\uac00\", \"\\uc9c4\\ud589\", \"\\uc218\\uc694\\uc77c\", \"\\ubc29\\ubb38\", \"\\ub0c9\\ub3d9\", \"\\ubb36\\uc74c\", \"\\uc7a5\\ubc14\\uad6c\\ub2c8\", \"\\uc625\\uc218\\uc218\", \"\\uc778\\ubd84\", \"\\ub2e4\\uc74c\\uc8fc\", \"\\uc591\\ub150\", \"\\ubb38\\ud574\", \"\\uc911\\ubcf5\", \"\\uac2f\\uc218\", \"\\uc624\\ud508\", \"\\ubc30\\ucd94\", \"\\ud604\\uc7a5\", \"\\ud61c\\ud0dd\", \"\\uc0ac\\ub824\", \"\\ud638\\ub450\", \"\\uacc4\\ud68d\", \"\\ub9cc\\ub450\", \"\\ubd84\\uc1c4\", \"\\uac00\\ub85c\", \"\\uc624\\ub958\\ub85c\", \"\\ubc88\\uc740\", \"\\uc0ac\\ub78c\", \"\\ubb38\\uc5b4\", \"\\uc0ac\\uba74\", \"\\ubb38\\uad6c\", \"\\uc6a9\\ub7c9\", \"\\uacf5\\uae09\", \"\\uad6c\\ub9e4\", \"\\uad6c\\uc785\", \"\\ucd94\\uac00\", \"\\uc635\\uc158\", \"\\uac00\\uaca9\", \"\\uc124\\uc815\", \"\\uc7ac\\uc8fc\", \"\\ud558\\ub098\\uc694\", \"\\uc9c0\\uae08\", \"\\ud310\\ub9e4\", \"\\uc774\\ubca4\\ud2b8\", \"\\ub2e4\\uc2dc\", \"\\uace0\\uae30\", \"\\uc0c1\\ud488\", \"\\uc0dd\\uc0b0\", \"\\uc120\\ubb3c\", \"\\uc800\\ub141\", \"\\uace0\\uad6c\\ub9c8\", \"\\uc218\\ud655\", \"\\ud734\\ubb34\", \"\\uc5ec\\ub7ec\", \"\\uc0ac\\uacfc\", \"\\uc800\\ubc88\", \"\\ub85c\\ub9cc\", \"\\uc804\\ud654\", \"\\uac00\\ub9ac\\ube44\", \"\\uccb4\\ud06c\", \"\\uac00\\uc7a5\", \"\\uc815\\uae30\", \"\\uac71\\uc815\", \"\\ub300\\ub7b5\", \"\\ub9ac\\uc9c0\", \"\\uc2e0\\uc120\", \"\\ub098\\uba38\\uc9c0\", \"\\uc0c1\\uc790\", \"\\uc0c1\\uc138\", \"\\uc9c0\\ubc29\", \"\\ucc98\\uc74c\", \"\\uc138\\ud2b8\", \"\\uc624\\uc2dc\", \"\\uc810\\uc548\", \"\\ud604\\uae08\\uc601\\uc218\\uc99d\", \"\\ud585\\uc300\", \"\\ub9cc\\ud07c\", \"\\uc800\\uc7a5\", \"\\ud398\\uc774\\uc9c0\", \"\\ud488\\uc808\", \"\\ubb38\\uc790\", \"\\ubcc0\\uacbd\", \"\\ucd94\\uc11d\", \"\\ubcf4\\uace0\", \"\\ubbf8\\ub9ac\", \"\\uc8fc\\ubb38\", \"\\uac00\\ub2a5\", \"\\uc544\\uce68\", \"\\uc8fc\\uc18c\", \"\\ubc30\\uc1a1\", \"\\uacb0\\uc81c\", \"\\uae30\\uc7ac\", \"\\ub2e4\\uc2dc\", \"\\uc5b4\\uc81c\", \"\\uc548\\ub0b4\", \"\\uad6c\\uc785\", \"\\uc0ac\\ud56d\", \"\\ub9e4\\uc7a5\", \"\\uba85\\uc808\", \"\\uc624\\ud504\\ub77c\\uc778\", \"\\uc0ac\\uace0\", \"\\uacf5\\ud734\\uc77c\", \"\\uc18c\\uc694\", \"\\uc13c\\ud130\", \"\\ub9e4\\uc9c4\", \"\\uc815\\ub9d0\", \"\\ub3c4\\uc2dc\\ub77d\", \"\\uc81c\\uc77c\", \"\\ud68c\\uc0ac\", \"\\ud1b5\\ud574\", \"\\uc601\\uc5c5\\uc77c\", \"\\uac80\\uc0c9\", \"\\ud3ec\\uc778\\ud2b8\", \"\\ubcc4\\ub85c\", \"\\uc804\\uccb4\", \"\\ud53d\\uc5c5\", \"\\uad6d\\ubb3c\", \"\\ubd88\\ud3b8\", \"\\ucd5c\\uadfc\", \"\\ud3c9\\uade0\", \"\\ub300\\uccb4\", \"\\uc5f0\\uc5b4\", \"\\uac00\\uac8c\", \"\\ucc29\\uc624\", \"\\uc5fc\\ud1b5\", \"\\ubd88\\ub85c\", \"\\ubd80\\ubaa8\\ub2d8\", \"\\ubb38\\uc758\", \"\\uc77c\\uc815\", \"\\uc8fc\\ub9d0\", \"\\uac10\\uc0ac\", \"\\ub2f5\\ubcc0\", \"\\uc5c5\\ubb34\", \"\\ud0dd\\ubc30\", \"\\ucd5c\\uc18c\", \"\\uae30\\uc900\", \"\\uace0\\uac1d\", \"\\ubc30\\uc1a1\", \"\\uc0ac\\ud56d\", \"\\uacbd\\uc6b0\", \"\\ubd80\\ubd84\", \"\\uc6d4\\uc694\\uc77c\", \"\\ub9c8\\uc9c0\\ub9c9\", \"\\ucc38\\uace0\", \"\\ud3ec\\uc7a5\", \"\\uc785\\uae08\", \"\\uc81c\\ud55c\", \"\\uc2b9\\uc778\", \"\\ub0c9\\uc7a5\", \"\\uad00\\ub828\", \"\\ubc29\\ubc95\", \"\\uacf1\\ucc3d\", \"\\uc0ac\\uc774\\uc988\", \"\\uacc4\\uc88c\", \"\\ubb34\\ub8cc\", \"\\uc774\\uba74\", \"\\ub9ac\\ud130\", \"\\uc77c\\ucc0d\", \"\\ucca0\\ud68c\", \"\\ud1b5\\uc7a5\", \"\\uc0ac\\uc7a5\", \"\\ub77c\\uba74\", \"\\uae30\\uc0ac\", \"\\ubc8c\\uc368\", \"\\ud55c\\ubc88\", \"\\ub808\\ubaac\", \"\\uac00\\ub8e8\", \"\\ub9c9\\ucc3d\", \"\\ub2e8\\uc885\", \"\\ud55c\\uc815\", \"\\ucd94\\ud6c4\", \"\\ub300\\ucc3d\", \"\\ud648\\ud398\\uc774\\uc9c0\", \"\\uc0d0\\ub7ec\\ub4dc\", \"\\uce90\\uc26c\\ubc31\", \"\\uc62c\\ud574\", \"\\ud658\\ubd88\", \"\\ubcf4\\uad00\", \"\\ucd94\\uac00\", \"\\ucc98\\ub9ac\", \"\\uae30\\uac04\", \"\\uc9c0\\uc5f0\", \"\\uc811\\uc218\", \"\\ubd80\\ubd84\", \"\\uc218\\ub7c9\", \"\\uc694\\uccad\", \"\\ubc30\\uc1a1\", \"\\ubc18\\ud488\", \"\\uc0c1\\ud488\", \"\\uc644\\ub8cc\", \"\\uacb0\\uc81c\", \"\\ubb38\\uac74\"], \"Freq\": [1624.0, 2929.0, 1146.0, 716.0, 488.0, 324.0, 389.0, 369.0, 277.0, 478.0, 467.0, 471.0, 249.0, 312.0, 407.0, 270.0, 306.0, 515.0, 184.0, 178.0, 215.0, 138.0, 320.0, 738.0, 365.0, 998.0, 267.0, 175.0, 132.0, 328.0, 311.65412084991306, 713.0289505528283, 174.91914823124193, 138.72234001283266, 139.8524939754315, 89.11114590708407, 39.400543536494055, 37.63610610006866, 27.270222988822468, 24.351682945991275, 20.160116662523823, 19.287779217190433, 19.125713910877483, 17.541494066431856, 16.67903355755024, 15.614142829372245, 15.55577306925823, 14.265388109194287, 14.209545040858071, 12.983902943910614, 12.222060563153029, 11.87048036422255, 40.08579448863022, 9.980243164970013, 9.8065605692874, 9.405121572020754, 9.046918925504471, 8.53123096289146, 8.403893936502712, 8.283430870496872, 39.00380089024919, 84.36840089257095, 138.15628010795837, 343.8680186686175, 57.96580743425332, 123.70059654919002, 245.53731559664465, 131.12886222739712, 163.58076631690548, 139.1978206193294, 150.5738311608739, 26.648980598073308, 35.65799264226949, 72.83189627695747, 39.60629835023491, 510.51107760118146, 49.35476090886723, 170.77176580794153, 134.7029342389826, 99.55565712241787, 69.34742642207806, 77.88713004163746, 64.38452387250028, 53.50018904882464, 388.24209467860237, 368.55142284773586, 214.7430641668226, 99.44276936034416, 35.87010161163732, 26.936669996326874, 169.55538452318584, 18.44992742963825, 17.835174484265142, 16.11099945374663, 12.723831843773782, 12.457513824181982, 11.657895729987247, 10.876631728911166, 9.307942454212455, 8.406472629421764, 8.405753364750915, 8.334215429028292, 8.17226785078162, 6.993705806950158, 6.89096141752163, 6.7029995774117515, 6.08797433898468, 5.697775181650348, 5.6499100444070764, 5.479686427041438, 5.253773100334638, 4.745506326179977, 4.739808401365587, 21.05121875383319, 151.92206653118996, 56.50128649490967, 35.869007301816666, 1875.700217079538, 225.93599381914126, 172.0719169279271, 28.56788263694042, 283.65289412144017, 103.31736594053648, 85.66268578781636, 78.05999656567427, 26.55868099898082, 41.026694990733525, 35.698433685124584, 30.1688630421567, 15.230342065967463, 14.853898203262538, 18.854416192500334, 13.740300529822607, 1623.4258054220707, 107.92876542497655, 64.7190069507601, 42.73969274435422, 35.89635724083699, 35.493779931861106, 35.49176107995079, 35.069859026654, 111.99769685707905, 25.68246108235214, 22.439343937185726, 21.709013493109325, 18.725278289395806, 18.034657421193916, 17.97617910851959, 17.084096070954157, 17.084343044682207, 16.537678729698474, 16.272007190637922, 16.042468541256955, 14.087676549874413, 13.948193387463794, 12.722195536915995, 12.372484537593987, 11.890319628121226, 11.20402016689423, 10.941839189856776, 9.64098550213514, 9.169631076025274, 8.690939630394437, 83.49551012441721, 22.210712124672877, 59.89332268527574, 327.8345984348144, 63.648073138532986, 159.72076215941533, 114.9071740266938, 23.908298076473233, 110.37996067788688, 50.63000940807361, 43.05453231980761, 36.53621424240327, 51.85688876485075, 52.94138460107762, 156.2931923688223, 24.959446126753754, 195.68658107789918, 54.367048678699874, 114.77955826854894, 40.435417729398644, 41.08997663370952, 34.4494306250276, 27.157823873249544, 28.937597615616955, 28.29147381401792, 84.92082216104984, 66.63025894028648, 65.7232178360851, 60.44469920031108, 52.16541853072913, 48.887090630433995, 47.13011222615862, 32.72825985347245, 30.03099403666213, 26.752365238101692, 24.78754479871148, 22.83757850701978, 20.40957533789842, 19.433825196474338, 19.319104291178746, 19.07018865952167, 18.97720126226478, 16.20728916426347, 14.870734469560208, 14.863438178290314, 13.467461976154661, 13.357321411119875, 12.931042968633887, 12.62255144710111, 11.714324449736456, 11.084660413110718, 11.032377864521916, 10.611411358079051, 10.553002678140999, 9.875837032030802, 21.27459295103375, 121.79389465282804, 127.08968838901036, 39.532564759688036, 129.54202105120444, 240.7903086332555, 131.833512773987, 37.58702737579682, 92.85617414672915, 60.1011913806488, 287.3043031446932, 86.97708617326383, 30.10971138285316, 33.96914069973967, 123.109854532928, 92.42056785801861, 103.26804865514694, 57.3563580714005, 116.17541211029426, 45.256361695079704, 87.16944079766428, 28.95856311927365, 323.3864706577811, 183.8626730963086, 177.60182073437036, 93.196615320692, 88.38820069206116, 274.072527972206, 57.22836213000853, 53.213434056410044, 48.71947048090809, 32.67230069934057, 32.14502579481884, 31.979925165666046, 28.08814801002882, 22.620805665867394, 22.066240237713252, 21.30913601979316, 20.690790472633925, 19.576122408632106, 86.89502493072276, 18.53293191972994, 18.519452573035295, 18.339766496377408, 15.586570969081901, 15.522093671384155, 15.47388108333101, 14.834331918817476, 13.97351734263498, 13.489856328251435, 12.117720675827663, 11.6332895806526, 31.353369333854683, 188.20376348434422, 119.27786239978873, 29.710487855552582, 150.50892044675192, 43.712095131042076, 58.59903555067908, 24.858214653877006, 42.33956815355885, 27.88751808211606, 19.898807209157585, 487.5485974076927, 131.25803071815733, 76.88160907581137, 57.79859644947834, 53.575758570575246, 50.47150993285868, 41.274493291221845, 37.17458976212682, 25.028583053907724, 24.908574199927173, 23.738501247312012, 22.70778219880086, 20.108241772959847, 19.65667895414296, 19.1991063310404, 18.22260424291674, 14.876738068949393, 14.532836840009027, 14.073988700725668, 13.904367616790141, 13.614559641556559, 12.993674139378555, 12.74328262321307, 12.854823420556878, 12.16038510228338, 10.693605855273345, 9.367784519936752, 8.96530901353779, 8.89546321858374, 8.546107193708977, 45.8653786057697, 27.72154041251309, 19.816992782067224, 23.48579357430708, 270.1097258195855, 45.213390903665406, 66.75205804077063, 22.179653303186136, 20.08416410644341, 114.75772605052974, 22.898509481348015, 51.55966064374379, 46.02207819256305, 75.41424055035607, 43.293961389246604, 47.82913857639088, 28.084074542306904, 37.230826150491254, 27.934259065123683, 30.994829214279434, 35.048677080489796, 28.932625473206272, 92.94110457896299, 78.41041218656446, 33.76320365365626, 30.393679460273965, 21.740916105509445, 20.469318561742384, 17.592414215947514, 15.819997059370083, 15.653634846500069, 13.853154928624212, 13.796431885792101, 13.420664485764094, 13.320529363346322, 12.884973525816667, 12.626426023465054, 12.080548253855818, 11.555097069352827, 11.33669845782284, 11.237060717207552, 10.43126578321158, 10.428932806004932, 10.326520154934201, 9.94011739127276, 9.636770767902942, 9.634160547927856, 9.588482525954182, 9.212617470264457, 8.989451938298037, 8.843759622098213, 8.823626003977122, 985.6807147638985, 103.14938524490522, 211.82961640907038, 108.72829761189918, 79.71255609028094, 15.185510018196924, 20.26846403811724, 65.80944201478415, 51.85541458073716, 68.22873358494664, 14.159850810154834, 30.76993182824915, 14.152783188535544, 39.62859469743404, 16.00993235587053, 93.82548119407194, 74.23713049248092, 71.62657735146276, 42.27948190998302, 32.13100599524995, 22.68983364787048, 19.25305607221534, 18.08901120129007, 15.701492910297826, 15.57156911795116, 15.115473822075026, 13.824319312498245, 13.362821673296974, 13.135535094510947, 11.94727325269864, 11.309541664332778, 10.846587042110027, 10.721629607208138, 10.722730315599248, 10.551142492596881, 10.365226052553563, 10.267990804114179, 9.966330163384738, 80.21945009994826, 8.852088881450687, 8.849171449701203, 8.60324214239672, 8.4433406817836, 8.443788451066128, 8.335541959867816, 15.850037250641211, 108.50224370418081, 56.63585510132227, 68.24912712631891, 71.37729046768061, 27.256908430630748, 53.986813209963074, 454.94246325894676, 17.412955830213573, 20.00131320038781, 14.310539915738635, 100.56407896088426, 51.776529764178726, 14.846289624013774, 26.840826795964954, 20.571232002396055, 15.228667955902901, 17.50308915284986, 14.940624769236278, 68.12509178223945, 53.02979915623639, 43.417372686520565, 33.6620176162295, 30.328789664162965, 29.279169438629896, 29.731907367072157, 21.713677616053307, 18.771788099714847, 18.27620342755747, 18.076996944235876, 15.301265959040194, 14.980812784675553, 14.197883785569763, 14.018313345470727, 13.761588639567021, 11.842619457998943, 11.636160031399987, 11.257823263028744, 10.811541298089962, 11.33413674722209, 9.467894294555322, 9.346543974774917, 9.26837906169666, 8.826039796296117, 8.571038852946252, 8.1845159484927, 7.798610008944536, 7.7972970221588715, 7.675270444741914, 209.31881909365933, 25.43994907049553, 54.25843001301928, 40.05520774496948, 41.69941334197156, 15.477538441281338, 118.80616376805838, 21.708664976510313, 25.338664265612085, 43.182205962999234, 76.2964420735693, 24.677737272160787, 35.74271813834654, 24.478836333363766, 30.97264676106312, 20.802199839102176, 23.11972514453824, 20.786623478373944, 137.5044233834916, 54.537870888476775, 41.25385327304534, 47.03355692542521, 35.45259339570442, 33.44905981393281, 30.40920891211613, 30.197407168814053, 27.747191622523637, 26.68588448455759, 21.22883628463933, 16.033780052218347, 14.956607588837871, 14.821403849230627, 14.320524464994454, 13.93978473349519, 12.509525797804397, 12.312159384717903, 12.366140199271905, 12.588129404863675, 11.892117849688999, 11.757682256170336, 10.939230621199735, 10.19864152284525, 9.876648922295587, 9.74435029916174, 9.555980019966457, 8.815013868179456, 8.625347969210743, 8.378076127606796, 11.776196983629198, 63.142563148637116, 30.53764574597174, 59.0664430612561, 72.27814263057243, 19.402736426916693, 24.326554860330305, 20.813616220098545, 22.580091495399635, 26.980946845931186, 25.90668150462747, 38.77420148617498, 19.84465909465168, 27.599334531290115, 21.153922987770628, 18.62276931210472, 16.145124131400486], \"Total\": [1624.0, 2929.0, 1146.0, 716.0, 488.0, 324.0, 389.0, 369.0, 277.0, 478.0, 467.0, 471.0, 249.0, 312.0, 407.0, 270.0, 306.0, 515.0, 184.0, 178.0, 215.0, 138.0, 320.0, 738.0, 365.0, 998.0, 267.0, 175.0, 132.0, 328.0, 312.5198754108538, 716.3955564313266, 175.77114911094316, 139.57674207228874, 140.71919323160998, 89.96317244456297, 40.25263046573417, 38.488342347595626, 28.122228079305458, 25.203767106099225, 21.01226320986065, 20.139817656063002, 19.977923329524042, 18.393529241285847, 17.531070975743198, 16.466198971597237, 16.40783268315025, 15.117457957014595, 15.061660978273833, 13.836027714309376, 13.074086257612654, 12.722547112819802, 43.432709863827355, 10.8322731841409, 10.658650716413621, 10.257138346220575, 9.899126566977069, 9.38320177421261, 9.256101100504551, 9.13562783196577, 45.368060825607465, 103.5033341036437, 174.61860816693385, 467.73458686070467, 70.83467067537639, 165.49121845677698, 365.3575246856271, 193.95957655360218, 267.6620535039855, 225.62441005932405, 270.13200852371733, 32.93012312226616, 49.410460945262244, 145.29099781999824, 61.15993486425772, 2929.095493121901, 104.10202538849724, 998.2120802359868, 738.3517407828023, 515.144967691645, 250.86934288229594, 478.6771788556646, 328.3233027941334, 191.3513388200559, 389.0978303043115, 369.4073990419206, 215.5987942796631, 100.29852790855585, 36.725833904435426, 27.79248098393096, 177.15435627293434, 19.305966541790415, 18.690997915362892, 16.96669577531869, 13.5796017755918, 13.31354689939399, 12.51373575918467, 11.732357435046257, 10.16384798328672, 9.262353856794908, 9.261585630152343, 9.18999216451069, 9.028070923581579, 7.8495307735673965, 7.746658292296218, 7.559067611904366, 6.943698857634085, 6.553589452979655, 6.505692617930251, 6.33554136704763, 6.109840139512578, 5.6014025264898075, 5.595937709553955, 24.880029765082657, 183.649890999741, 68.6009617994661, 45.139018295292075, 2929.095493121901, 320.70211035258177, 259.0419852010314, 38.9871624415863, 998.2120802359868, 267.6620535039855, 225.62441005932405, 365.3575246856271, 74.84730536910229, 165.49121845677698, 174.61860816693385, 211.22413730247965, 37.78133004844962, 44.28068958622458, 180.0937504559575, 41.76135454341967, 1624.2902090487266, 108.76581823311491, 65.55593757886159, 43.57661504132118, 36.733515304241934, 36.33078832250857, 36.328751135181555, 35.90679143282381, 115.47813154648922, 26.519466301522, 23.2763003089116, 22.546011109585486, 19.562401393017726, 18.87159417450314, 18.813186655445715, 17.921167215020596, 17.921447308493246, 17.374716439823214, 17.108984138042796, 16.87939847840745, 14.92477598741457, 14.785099050026336, 13.55928070354975, 13.20955892204408, 12.727218754402475, 12.040927899378811, 11.778948301375697, 10.47840985316237, 10.006668102068764, 9.527850184314376, 94.04880129226865, 24.596477105715643, 68.79420868307545, 478.6771788556646, 84.23136682407237, 250.86934288229594, 191.9970193000645, 30.10980426422077, 211.22413730247965, 79.46081332221455, 64.60681692463265, 52.933982374901994, 92.0877991997392, 97.71049827938188, 515.144967691645, 32.11048957847798, 998.2120802359868, 121.86580681602196, 738.3517407828023, 104.31730399786356, 365.3575246856271, 259.0419852010314, 84.5390658320827, 471.11181509879657, 320.70211035258177, 85.76943623546062, 67.47877212831631, 66.57179525776634, 61.29325802428903, 53.01409623904532, 49.73559040040949, 47.98224657385024, 33.57682785479981, 30.8795584877697, 27.600848680888447, 25.636070166169326, 23.686102817027052, 21.25814351586467, 20.28237822029554, 20.16770723979539, 19.91876032980458, 19.825730185679753, 17.055821600396193, 15.719227424211532, 15.712141039535663, 14.315989828679507, 14.205896314682457, 13.780917766421341, 13.471056361615517, 12.563013241009653, 11.933388322665524, 11.880941357121449, 11.459902926004352, 11.401469201016369, 10.724456732455385, 23.491030210793053, 151.4848801256603, 163.45540711209264, 47.730616633210296, 180.0937504559575, 407.5042054623833, 205.23552359962721, 49.72906577542053, 151.49198776768702, 90.6433493920893, 738.3517407828023, 157.27709072819357, 41.12779131540187, 51.266390376629715, 467.73458686070467, 328.3233027941334, 471.11181509879657, 170.83006831149015, 998.2120802359868, 191.3513388200559, 2929.095493121901, 92.0877991997392, 324.2330306344546, 184.70922247419435, 178.44845054277843, 94.04320703926592, 89.25767148592834, 277.1086806634708, 58.086212072193206, 54.07438831403907, 49.566098631543476, 33.51888391006021, 32.99160430829801, 32.82648426544996, 28.93482043664325, 23.467479251837062, 22.91287247223863, 22.156641487607324, 21.537454904624976, 20.422802926116002, 90.70411621528706, 19.379536070897924, 19.36607894690281, 19.18643312587334, 16.43313054074218, 16.368672648888676, 16.320426080190295, 15.680902122593182, 14.82007442352006, 14.336406151745004, 12.96430266585005, 12.479897417139048, 44.09983755719364, 515.144967691645, 328.3233027941334, 56.5746806740538, 1146.776351668567, 153.20336089799335, 738.3517407828023, 65.94726203925968, 407.5042054623833, 113.17592251298008, 191.3513388200559, 488.4142406650961, 132.11163486882455, 77.73589463244029, 58.652225477762904, 54.42936376759376, 51.325171051197934, 42.12811940596796, 38.02819405443842, 25.882249092089886, 25.762165765773315, 24.59207975097673, 23.561387121252288, 20.961840868696118, 20.51024819106416, 20.05280011847585, 19.076207775551282, 15.730332644305689, 15.386471577064366, 14.927598623246183, 14.758025761703294, 14.468254031497128, 13.847375729144774, 13.596899953186197, 13.718807298450361, 13.014045403188256, 11.547228102736748, 10.221424023478425, 9.818897717943129, 9.749071433472318, 9.399722307046508, 50.83107825870268, 31.139019825158755, 22.215299676369895, 28.56660022565976, 471.11181509879657, 65.90462259127374, 121.86580681602196, 28.703384631119416, 25.385125789416854, 407.5042054623833, 34.04741879021094, 155.02134590798772, 193.95957655360218, 738.3517407828023, 205.23552359962721, 328.3233027941334, 79.46081332221455, 249.48924036572834, 83.08308370764985, 151.49198776768702, 306.8621391810597, 151.4848801256603, 93.80136020425164, 79.30939998843557, 34.62343323279525, 31.253991579062077, 22.601171595263562, 21.329514126024783, 18.452655767551832, 16.6802084639063, 16.513788940437234, 14.71333897198131, 14.656709009467479, 14.280858898999318, 14.180718186181181, 13.745164447795036, 13.486600668341694, 12.94081465913607, 12.415302651336349, 12.196873037681758, 12.097282892579443, 11.291419834848828, 11.289192829114384, 11.18677522970519, 10.800389560828808, 10.496987867281218, 10.494395313292912, 10.44870479826904, 10.07293950551123, 9.849719599867832, 9.703943501481561, 9.683883107327437, 1146.776351668567, 121.4211494194211, 306.8621391810597, 153.20336089799335, 113.17592251298008, 19.04918006781092, 32.48074688918251, 320.70211035258177, 259.0419852010314, 471.11181509879657, 24.87944903463626, 191.9970193000645, 24.881930141929796, 738.3517407828023, 51.32252305953672, 94.67771204488987, 75.08938026741549, 72.8237703571913, 43.131712180762015, 32.9833100025977, 23.546652093032076, 20.10531286415165, 18.941251679172982, 16.55387711386401, 16.42383676940491, 15.967694444383353, 14.676594948016298, 14.215069780295813, 13.987772417632375, 12.799582454266211, 12.161791822889377, 11.698851963138125, 11.573898260418366, 11.57513807889172, 11.403368932325177, 11.217458551303094, 11.120266693277465, 10.818618712768368, 87.63055541533504, 9.704401760257563, 9.70166359093467, 9.45565205476613, 9.29557072287264, 9.29608569656761, 9.187756048151476, 17.527860021835163, 170.83006831149015, 84.5390658320827, 127.8970460866365, 145.29099781999824, 41.76135454341967, 104.10202538849724, 2929.095493121901, 24.964072299406983, 36.43427000806351, 19.838775214016543, 998.2120802359868, 515.144967691645, 25.964133802683715, 191.9970193000645, 97.71049827938188, 32.30329082423683, 121.4211494194211, 74.84730536910229, 68.96834892841973, 53.873050117358616, 44.26062089504417, 34.50526300926783, 31.172011822297634, 30.122514715874427, 30.73932828984525, 22.556955924270515, 19.61502844772766, 19.119476311977515, 18.920238371986652, 16.14454896830707, 15.824060549971996, 15.041120447450059, 14.861567767305408, 14.60484921532085, 12.685870749721932, 12.479427732193006, 12.101061319412311, 11.654782366133311, 12.222910080520057, 10.31116403352948, 10.189824664466741, 10.111955520959746, 9.66928244714654, 9.41431384461601, 9.027793211819146, 8.641854694606193, 8.64060081227996, 8.518530239499729, 249.48924036572834, 29.392009977380546, 67.347517761691, 49.497233814961426, 52.09695890137276, 18.522764686430698, 270.13200852371733, 35.34129047749188, 50.900703312990984, 155.02134590798772, 998.2120802359868, 74.84730536910229, 191.3513388200559, 83.08308370764985, 183.649890999741, 61.15993486425772, 157.27709072819357, 98.56958432421206, 138.34996184284526, 55.38344377271309, 42.09939724402251, 48.03896255317121, 36.29819410757267, 34.29462177228952, 31.254739413760795, 31.042967644885234, 28.59272078462126, 27.531448646000708, 22.074393715656985, 16.879334261891707, 15.802191043644951, 15.666953477130132, 15.16619122778769, 14.785335184245517, 13.355090829220545, 13.159580652056242, 13.219069231354704, 13.471544155448214, 12.73768488267331, 12.603198784215442, 11.78476439059257, 11.04421633868061, 10.722225146725611, 10.589948326357783, 10.401520315632233, 9.660590621010169, 9.470901891583475, 9.22368469141336, 13.038974073058409, 104.31730399786356, 60.231329980713014, 306.8621391810597, 478.6771788556646, 41.36682720301968, 90.6433493920893, 64.60681692463265, 83.08308370764985, 151.49198776768702, 211.22413730247965, 998.2120802359868, 84.23136682407237, 738.3517407828023, 250.86934288229594, 515.144967691645, 193.95957655360218], \"Category\": [\"Default\", \"Default\", \"Default\", \"Default\", \"Default\", \"Default\", \"Default\", \"Default\", \"Default\", \"Default\", \"Default\", \"Default\", \"Default\", \"Default\", \"Default\", \"Default\", \"Default\", \"Default\", \"Default\", \"Default\", \"Default\", \"Default\", \"Default\", \"Default\", \"Default\", \"Default\", \"Default\", \"Default\", \"Default\", \"Default\", \"Topic1\", \"Topic1\", \"Topic1\", \"Topic1\", \"Topic1\", \"Topic1\", \"Topic1\", \"Topic1\", \"Topic1\", \"Topic1\", \"Topic1\", \"Topic1\", \"Topic1\", \"Topic1\", \"Topic1\", \"Topic1\", \"Topic1\", \"Topic1\", \"Topic1\", \"Topic1\", \"Topic1\", \"Topic1\", \"Topic1\", \"Topic1\", \"Topic1\", \"Topic1\", \"Topic1\", \"Topic1\", \"Topic1\", \"Topic1\", \"Topic1\", \"Topic1\", \"Topic1\", \"Topic1\", \"Topic1\", \"Topic1\", \"Topic1\", \"Topic1\", \"Topic1\", \"Topic1\", \"Topic1\", \"Topic1\", \"Topic1\", \"Topic1\", \"Topic1\", \"Topic1\", \"Topic1\", \"Topic1\", \"Topic1\", \"Topic1\", \"Topic1\", \"Topic1\", \"Topic1\", \"Topic1\", \"Topic2\", \"Topic2\", \"Topic2\", \"Topic2\", \"Topic2\", \"Topic2\", \"Topic2\", \"Topic2\", \"Topic2\", \"Topic2\", \"Topic2\", \"Topic2\", \"Topic2\", \"Topic2\", \"Topic2\", \"Topic2\", \"Topic2\", \"Topic2\", \"Topic2\", \"Topic2\", \"Topic2\", \"Topic2\", \"Topic2\", \"Topic2\", \"Topic2\", \"Topic2\", \"Topic2\", \"Topic2\", \"Topic2\", \"Topic2\", \"Topic2\", \"Topic2\", \"Topic2\", \"Topic2\", \"Topic2\", \"Topic2\", \"Topic2\", \"Topic2\", \"Topic2\", \"Topic2\", \"Topic2\", \"Topic2\", \"Topic2\", \"Topic2\", \"Topic2\", \"Topic2\", \"Topic2\", \"Topic2\", \"Topic2\", \"Topic3\", \"Topic3\", \"Topic3\", \"Topic3\", \"Topic3\", \"Topic3\", \"Topic3\", \"Topic3\", \"Topic3\", \"Topic3\", \"Topic3\", \"Topic3\", \"Topic3\", \"Topic3\", \"Topic3\", \"Topic3\", \"Topic3\", \"Topic3\", \"Topic3\", \"Topic3\", \"Topic3\", \"Topic3\", \"Topic3\", \"Topic3\", \"Topic3\", \"Topic3\", \"Topic3\", \"Topic3\", \"Topic3\", \"Topic3\", \"Topic3\", \"Topic3\", \"Topic3\", \"Topic3\", \"Topic3\", \"Topic3\", \"Topic3\", \"Topic3\", \"Topic3\", \"Topic3\", \"Topic3\", \"Topic3\", \"Topic3\", \"Topic3\", \"Topic3\", \"Topic3\", \"Topic3\", \"Topic3\", \"Topic3\", \"Topic3\", \"Topic3\", \"Topic3\", \"Topic3\", \"Topic3\", \"Topic3\", \"Topic4\", \"Topic4\", \"Topic4\", \"Topic4\", \"Topic4\", \"Topic4\", \"Topic4\", \"Topic4\", \"Topic4\", \"Topic4\", \"Topic4\", \"Topic4\", \"Topic4\", \"Topic4\", \"Topic4\", \"Topic4\", \"Topic4\", \"Topic4\", \"Topic4\", \"Topic4\", \"Topic4\", \"Topic4\", \"Topic4\", \"Topic4\", \"Topic4\", \"Topic4\", \"Topic4\", \"Topic4\", \"Topic4\", \"Topic4\", \"Topic4\", \"Topic4\", \"Topic4\", \"Topic4\", \"Topic4\", \"Topic4\", \"Topic4\", \"Topic4\", \"Topic4\", \"Topic4\", \"Topic4\", \"Topic4\", \"Topic4\", \"Topic4\", \"Topic4\", \"Topic4\", \"Topic4\", \"Topic4\", \"Topic4\", \"Topic4\", \"Topic4\", \"Topic4\", \"Topic5\", \"Topic5\", \"Topic5\", \"Topic5\", \"Topic5\", \"Topic5\", \"Topic5\", \"Topic5\", \"Topic5\", \"Topic5\", \"Topic5\", \"Topic5\", \"Topic5\", \"Topic5\", \"Topic5\", \"Topic5\", \"Topic5\", \"Topic5\", \"Topic5\", \"Topic5\", \"Topic5\", \"Topic5\", \"Topic5\", \"Topic5\", \"Topic5\", \"Topic5\", \"Topic5\", \"Topic5\", \"Topic5\", \"Topic5\", \"Topic5\", \"Topic5\", \"Topic5\", \"Topic5\", \"Topic5\", \"Topic5\", \"Topic5\", \"Topic5\", \"Topic5\", \"Topic5\", \"Topic5\", \"Topic6\", \"Topic6\", \"Topic6\", \"Topic6\", \"Topic6\", \"Topic6\", \"Topic6\", \"Topic6\", \"Topic6\", \"Topic6\", \"Topic6\", \"Topic6\", \"Topic6\", \"Topic6\", \"Topic6\", \"Topic6\", \"Topic6\", \"Topic6\", \"Topic6\", \"Topic6\", \"Topic6\", \"Topic6\", \"Topic6\", \"Topic6\", \"Topic6\", \"Topic6\", \"Topic6\", \"Topic6\", \"Topic6\", \"Topic6\", \"Topic6\", \"Topic6\", \"Topic6\", \"Topic6\", \"Topic6\", \"Topic6\", \"Topic6\", \"Topic6\", \"Topic6\", \"Topic6\", \"Topic6\", \"Topic6\", \"Topic6\", \"Topic6\", \"Topic6\", \"Topic6\", \"Topic6\", \"Topic6\", \"Topic6\", \"Topic6\", \"Topic6\", \"Topic6\", \"Topic7\", \"Topic7\", \"Topic7\", \"Topic7\", \"Topic7\", \"Topic7\", \"Topic7\", \"Topic7\", \"Topic7\", \"Topic7\", \"Topic7\", \"Topic7\", \"Topic7\", \"Topic7\", \"Topic7\", \"Topic7\", \"Topic7\", \"Topic7\", \"Topic7\", \"Topic7\", \"Topic7\", \"Topic7\", \"Topic7\", \"Topic7\", \"Topic7\", \"Topic7\", \"Topic7\", \"Topic7\", \"Topic7\", \"Topic7\", \"Topic7\", \"Topic7\", \"Topic7\", \"Topic7\", \"Topic7\", \"Topic7\", \"Topic7\", \"Topic7\", \"Topic7\", \"Topic7\", \"Topic7\", \"Topic7\", \"Topic7\", \"Topic7\", \"Topic7\", \"Topic8\", \"Topic8\", \"Topic8\", \"Topic8\", \"Topic8\", \"Topic8\", \"Topic8\", \"Topic8\", \"Topic8\", \"Topic8\", \"Topic8\", \"Topic8\", \"Topic8\", \"Topic8\", \"Topic8\", \"Topic8\", \"Topic8\", \"Topic8\", \"Topic8\", \"Topic8\", \"Topic8\", \"Topic8\", \"Topic8\", \"Topic8\", \"Topic8\", \"Topic8\", \"Topic8\", \"Topic8\", \"Topic8\", \"Topic8\", \"Topic8\", \"Topic8\", \"Topic8\", \"Topic8\", \"Topic8\", \"Topic8\", \"Topic8\", \"Topic8\", \"Topic8\", \"Topic8\", \"Topic8\", \"Topic8\", \"Topic8\", \"Topic8\", \"Topic8\", \"Topic8\", \"Topic8\", \"Topic8\", \"Topic8\", \"Topic9\", \"Topic9\", \"Topic9\", \"Topic9\", \"Topic9\", \"Topic9\", \"Topic9\", \"Topic9\", \"Topic9\", \"Topic9\", \"Topic9\", \"Topic9\", \"Topic9\", \"Topic9\", \"Topic9\", \"Topic9\", \"Topic9\", \"Topic9\", \"Topic9\", \"Topic9\", \"Topic9\", \"Topic9\", \"Topic9\", \"Topic9\", \"Topic9\", \"Topic9\", \"Topic9\", \"Topic9\", \"Topic9\", \"Topic9\", \"Topic9\", \"Topic9\", \"Topic9\", \"Topic9\", \"Topic9\", \"Topic9\", \"Topic9\", \"Topic9\", \"Topic9\", \"Topic9\", \"Topic9\", \"Topic9\", \"Topic9\", \"Topic9\", \"Topic9\", \"Topic9\", \"Topic9\", \"Topic9\", \"Topic10\", \"Topic10\", \"Topic10\", \"Topic10\", \"Topic10\", \"Topic10\", \"Topic10\", \"Topic10\", \"Topic10\", \"Topic10\", \"Topic10\", \"Topic10\", \"Topic10\", \"Topic10\", \"Topic10\", \"Topic10\", \"Topic10\", \"Topic10\", \"Topic10\", \"Topic10\", \"Topic10\", \"Topic10\", \"Topic10\", \"Topic10\", \"Topic10\", \"Topic10\", \"Topic10\", \"Topic10\", \"Topic10\", \"Topic10\", \"Topic10\", \"Topic10\", \"Topic10\", \"Topic10\", \"Topic10\", \"Topic10\", \"Topic10\", \"Topic10\", \"Topic10\", \"Topic10\", \"Topic10\", \"Topic10\", \"Topic10\", \"Topic10\", \"Topic10\", \"Topic10\", \"Topic10\"], \"logprob\": [30.0, 29.0, 28.0, 27.0, 26.0, 25.0, 24.0, 23.0, 22.0, 21.0, 20.0, 19.0, 18.0, 17.0, 16.0, 15.0, 14.0, 13.0, 12.0, 11.0, 10.0, 9.0, 8.0, 7.0, 6.0, 5.0, 4.0, 3.0, 2.0, 1.0, -2.9917, -2.1641, -3.5693, -3.8012, -3.793, -4.2438, -5.0599, -5.1057, -5.4278, -5.541, -5.7299, -5.7742, -5.7826, -5.8691, -5.9195, -5.9855, -5.9892, -6.0758, -6.0797, -6.1699, -6.2304, -6.2596, -5.0426, -6.433, -6.4506, -6.4924, -6.5312, -6.5899, -6.6049, -6.6194, -5.07, -4.2984, -3.8053, -2.8934, -4.6738, -3.9158, -3.2302, -3.8575, -3.6363, -3.7977, -3.7192, -5.4509, -5.1597, -4.4455, -5.0546, -2.4982, -4.8346, -3.5933, -3.8306, -4.1329, -4.4945, -4.3784, -4.5688, -4.754, -2.6539, -2.7059, -3.246, -4.0159, -5.0356, -5.322, -3.4823, -5.7004, -5.7343, -5.836, -6.072, -6.0932, -6.1595, -6.2289, -6.3846, -6.4865, -6.4866, -6.4951, -6.5147, -6.6705, -6.6853, -6.7129, -6.8092, -6.8754, -6.8839, -6.9144, -6.9565, -7.0583, -7.0595, -5.5685, -3.5921, -4.5812, -5.0356, -1.0788, -3.1952, -3.4676, -5.2632, -2.9677, -3.9777, -4.1651, -4.258, -5.3361, -4.9013, -5.0404, -5.2087, -5.8922, -5.9172, -5.6787, -5.9952, -1.2092, -3.92, -4.4314, -4.8464, -5.0208, -5.0321, -5.0322, -5.0441, -3.883, -5.3557, -5.4907, -5.5238, -5.6716, -5.7092, -5.7124, -5.7633, -5.7633, -5.7958, -5.812, -5.8262, -5.9562, -5.9661, -6.0581, -6.086, -6.1258, -6.1852, -6.2089, -6.3355, -6.3856, -6.4392, -4.1767, -5.5009, -4.5089, -2.809, -4.4481, -3.5281, -3.8574, -5.4273, -3.8976, -4.6769, -4.839, -5.0032, -4.653, -4.6323, -3.5497, -5.3842, -3.325, -4.6057, -3.8585, -4.9018, -4.8857, -5.062, -5.2998, -5.2363, -5.2589, -3.9067, -4.1492, -4.1629, -4.2467, -4.394, -4.4589, -4.4955, -4.8601, -4.9462, -5.0618, -5.138, -5.22, -5.3324, -5.3814, -5.3873, -5.4003, -5.4051, -5.5629, -5.649, -5.6495, -5.7481, -5.7563, -5.7888, -5.8129, -5.8876, -5.9428, -5.9476, -5.9865, -5.992, -6.0583, -5.2909, -3.5461, -3.5035, -4.6713, -3.4844, -2.8645, -3.4668, -4.7217, -3.8173, -4.2524, -2.6878, -3.8827, -4.9435, -4.8229, -3.5353, -3.822, -3.7111, -4.2991, -3.5933, -4.536, -3.8805, -4.9825, -2.4096, -2.9742, -3.0089, -3.6537, -3.7067, -2.575, -4.1414, -4.2141, -4.3023, -4.7019, -4.7182, -4.7233, -4.8531, -5.0695, -5.0944, -5.1293, -5.1587, -5.2141, -3.7237, -5.2689, -5.2696, -5.2793, -5.442, -5.4461, -5.4493, -5.4915, -5.5512, -5.5865, -5.6937, -5.7345, -4.7431, -2.9509, -3.407, -4.7969, -3.1744, -4.4108, -4.1177, -4.9752, -4.4427, -4.8602, -5.1977, -1.9965, -3.3087, -3.8436, -4.1289, -4.2048, -4.2645, -4.4657, -4.5703, -4.9659, -4.9707, -5.0188, -5.0632, -5.1848, -5.2075, -5.231, -5.2832, -5.4861, -5.5095, -5.5416, -5.5537, -5.5748, -5.6214, -5.6409, -5.6322, -5.6877, -5.8163, -5.9486, -5.9925, -6.0004, -6.0404, -4.3602, -4.8637, -5.1994, -5.0295, -2.5871, -4.3745, -3.9849, -5.0867, -5.186, -3.4431, -5.0548, -4.2432, -4.3568, -3.8629, -4.4179, -4.3183, -4.8507, -4.5688, -4.856, -4.7521, -4.6292, -4.8209, -3.644, -3.814, -4.6566, -4.7617, -5.0968, -5.157, -5.3085, -5.4147, -5.4253, -5.5474, -5.5516, -5.5792, -5.5867, -5.6199, -5.6402, -5.6844, -5.7288, -5.7479, -5.7567, -5.8312, -5.8314, -5.8412, -5.8794, -5.9104, -5.9106, -5.9154, -5.9554, -5.9799, -5.9963, -5.9985, -1.2826, -3.5398, -2.8202, -3.4871, -3.7975, -5.4556, -5.1669, -3.9892, -4.2275, -3.9531, -5.5256, -4.7494, -5.5261, -4.4964, -5.4028, -3.4572, -3.6914, -3.7272, -4.2544, -4.5289, -4.8768, -5.041, -5.1034, -5.2449, -5.2532, -5.283, -5.3722, -5.4062, -5.4234, -5.5182, -5.573, -5.6148, -5.6264, -5.6263, -5.6424, -5.6602, -5.6696, -5.6995, -3.6139, -5.818, -5.8184, -5.8465, -5.8653, -5.8652, -5.8781, -5.2355, -3.3119, -3.962, -3.7755, -3.7307, -4.6934, -4.0099, -1.8785, -5.1415, -5.0029, -5.3377, -3.3879, -4.0517, -5.3009, -4.7088, -4.9748, -5.2755, -5.1363, -5.2946, -3.5168, -3.7673, -3.9673, -4.2218, -4.3261, -4.3613, -4.3459, -4.6602, -4.8058, -4.8326, -4.8435, -5.0102, -5.0314, -5.0851, -5.0978, -5.1163, -5.2665, -5.284, -5.3171, -5.3575, -5.3103, -5.4902, -5.5031, -5.5115, -5.5604, -5.5898, -5.6359, -5.6842, -5.6844, -5.7002, -2.3943, -4.5018, -3.7444, -4.0479, -4.0077, -4.9988, -2.9607, -4.6604, -4.5058, -3.9727, -3.4035, -4.5323, -4.1618, -4.5403, -4.3051, -4.7031, -4.5975, -4.7038, -2.7512, -3.676, -3.9551, -3.824, -4.1067, -4.1648, -4.2601, -4.2671, -4.3517, -4.3907, -4.6195, -4.9002, -4.9697, -4.9788, -5.0132, -5.0401, -5.1484, -5.1643, -5.1599, -5.1421, -5.199, -5.2103, -5.2825, -5.3526, -5.3847, -5.3982, -5.4177, -5.4984, -5.5201, -5.5492, -5.2088, -3.5295, -4.2559, -3.5962, -3.3943, -4.7094, -4.4833, -4.6392, -4.5578, -4.3797, -4.4203, -4.0171, -4.6869, -4.3571, -4.623, -4.7505, -4.8932], \"loglift\": [30.0, 29.0, 28.0, 27.0, 26.0, 25.0, 24.0, 23.0, 22.0, 21.0, 20.0, 19.0, 18.0, 17.0, 16.0, 15.0, 14.0, 13.0, 12.0, 11.0, 10.0, 9.0, 8.0, 7.0, 6.0, 5.0, 4.0, 3.0, 2.0, 1.0, 1.8491, 1.8471, 1.847, 1.8457, 1.8457, 1.8423, 1.8304, 1.8294, 1.8211, 1.8174, 1.8104, 1.8086, 1.8082, 1.8044, 1.802, 1.7987, 1.7985, 1.7938, 1.7936, 1.7883, 1.7844, 1.7825, 1.7716, 1.7699, 1.7685, 1.7651, 1.7618, 1.7566, 1.7552, 1.7539, 1.7007, 1.6474, 1.6176, 1.5442, 1.6513, 1.5608, 1.4544, 1.4604, 1.3594, 1.3689, 1.2674, 1.6402, 1.5256, 1.1613, 1.4173, 0.1048, 1.1055, 0.0862, 0.1505, 0.2081, 0.566, 0.0361, 0.2227, 0.5774, 1.9678, 1.9677, 1.966, 1.9614, 1.9464, 1.9387, 1.9261, 1.9246, 1.9231, 1.9182, 1.9049, 1.9035, 1.8991, 1.8942, 1.882, 1.873, 1.873, 1.8722, 1.8704, 1.8545, 1.8529, 1.8498, 1.8385, 1.83, 1.8289, 1.8249, 1.819, 1.8042, 1.8039, 1.8029, 1.7803, 1.7759, 1.7401, 1.5243, 1.6197, 1.5609, 1.659, 0.7118, 1.0181, 1.0015, 0.4266, 0.9339, 0.5753, 0.3825, 0.0239, 1.0615, 0.8777, -0.2867, 0.8583, 1.9835, 1.9763, 1.9711, 1.9646, 1.9609, 1.9607, 1.9607, 1.9604, 1.9534, 1.9519, 1.9474, 1.9462, 1.9403, 1.9386, 1.9385, 1.9362, 1.9362, 1.9346, 1.9338, 1.9331, 1.9263, 1.9257, 1.9203, 1.9185, 1.916, 1.912, 1.9103, 1.9007, 1.8966, 1.8921, 1.865, 1.882, 1.8454, 1.6055, 1.7038, 1.5325, 1.4706, 1.7534, 1.335, 1.5333, 1.5781, 1.6132, 1.4097, 1.3712, 0.7913, 1.7321, 0.3545, 1.1768, 0.1226, 1.0363, -0.2011, -0.0335, 0.8484, -0.806, -0.444, 2.2271, 2.2244, 2.2243, 2.2231, 2.2209, 2.2199, 2.2192, 2.2115, 2.2092, 2.2059, 2.2034, 2.2006, 2.1964, 2.1943, 2.1941, 2.1936, 2.1933, 2.1861, 2.1816, 2.1816, 2.176, 2.1755, 2.1734, 2.172, 2.1671, 2.1633, 2.163, 2.1602, 2.1598, 2.1547, 2.138, 2.0189, 1.9854, 2.0486, 1.9076, 1.711, 1.7945, 1.9572, 1.7476, 1.8262, 1.2932, 1.6447, 1.9252, 1.8255, 0.9023, 0.9694, 0.7193, 1.1457, 0.0862, 0.7953, -1.2775, 1.0802, 2.3944, 2.3925, 2.3923, 2.388, 2.3873, 2.386, 2.3822, 2.381, 2.3798, 2.3715, 2.3711, 2.3709, 2.3674, 2.3603, 2.3594, 2.3581, 2.357, 2.3547, 2.3542, 2.3524, 2.3524, 2.3519, 2.3442, 2.344, 2.3438, 2.3416, 2.3382, 2.3362, 2.3295, 2.3268, 2.0559, 1.3901, 1.3845, 1.753, 0.3664, 1.1429, -0.1366, 1.4214, 0.1327, 0.9963, 0.1336, 2.3978, 2.3931, 2.3885, 2.3849, 2.3838, 2.3828, 2.3791, 2.3769, 2.366, 2.3659, 2.3642, 2.3627, 2.358, 2.3571, 2.3561, 2.3538, 2.3438, 2.3425, 2.3407, 2.34, 2.3388, 2.3359, 2.3347, 2.3345, 2.3317, 2.3228, 2.3124, 2.3086, 2.3079, 2.3044, 2.2968, 2.2833, 2.2853, 2.2037, 1.8433, 2.0228, 1.7976, 2.1417, 2.1653, 1.1323, 2.0029, 1.2987, 0.961, 0.1181, 0.8434, 0.4732, 1.3595, 0.4973, 1.3096, 0.8129, 0.2299, 0.7441, 2.4003, 2.3981, 2.3844, 2.3816, 2.3707, 2.3683, 2.3618, 2.3566, 2.356, 2.3493, 2.349, 2.3474, 2.3469, 2.3449, 2.3436, 2.3407, 2.3377, 2.3364, 2.3357, 2.3303, 2.3302, 2.3295, 2.3265, 2.324, 2.324, 2.3236, 2.3202, 2.3181, 2.3167, 2.3165, 2.2581, 2.2464, 2.0389, 2.0666, 2.059, 2.1828, 1.9379, 0.8258, 0.801, 0.4773, 1.8459, 0.5786, 1.8453, -0.5154, 1.2446, 2.5778, 2.5754, 2.5702, 2.5668, 2.5606, 2.5497, 2.5435, 2.5408, 2.5339, 2.5335, 2.5319, 2.527, 2.525, 2.5239, 2.5179, 2.5141, 2.5112, 2.5103, 2.5103, 2.5091, 2.5078, 2.5071, 2.5047, 2.4984, 2.4949, 2.4948, 2.4923, 2.4906, 2.4906, 2.4895, 2.4862, 2.1329, 2.1862, 1.9587, 1.876, 2.1601, 1.9302, 0.7245, 2.2266, 1.9871, 2.2602, 0.2916, 0.2893, 2.0278, 0.6192, 1.0287, 1.8348, 0.6499, 0.9754, 2.835, 2.8315, 2.8281, 2.8226, 2.8199, 2.8189, 2.814, 2.8092, 2.8034, 2.8022, 2.8017, 2.7937, 2.7926, 2.7896, 2.7889, 2.7878, 2.7785, 2.7774, 2.7751, 2.7722, 2.7718, 2.762, 2.7609, 2.7602, 2.7561, 2.7535, 2.7493, 2.7446, 2.7446, 2.7431, 2.6718, 2.7029, 2.6312, 2.6357, 2.6247, 2.6677, 2.0259, 2.36, 2.1498, 1.5692, 0.276, 1.7378, 1.1696, 1.6253, 1.0674, 1.7689, 0.93, 1.2909, 2.9045, 2.8952, 2.8903, 2.8895, 2.8871, 2.8857, 2.8832, 2.883, 2.8806, 2.8794, 2.8716, 2.8592, 2.8556, 2.8551, 2.8532, 2.8517, 2.8452, 2.8441, 2.8439, 2.8428, 2.8419, 2.8412, 2.8362, 2.831, 2.8285, 2.8274, 2.8258, 2.819, 2.8171, 2.8145, 2.8088, 2.4086, 2.2314, 1.2629, 1.0201, 2.1536, 1.5953, 1.7779, 1.6079, 1.1852, 0.8122, -0.3376, 1.465, -0.376, 0.4375, -0.4094, 0.4246]}, \"token.table\": {\"Topic\": [9, 4, 5, 7, 6, 8, 7, 10, 8, 2, 8, 6, 9, 6, 2, 3, 3, 5, 6, 7, 3, 3, 8, 9, 4, 6, 1, 2, 3, 5, 7, 1, 3, 5, 8, 10, 1, 3, 4, 5, 6, 7, 9, 10, 5, 4, 8, 10, 7, 1, 3, 4, 5, 6, 9, 10, 8, 2, 7, 8, 3, 3, 10, 7, 9, 10, 5, 4, 5, 6, 7, 8, 1, 7, 8, 9, 5, 7, 2, 1, 4, 1, 9, 10, 1, 10, 2, 5, 8, 10, 1, 5, 6, 9, 3, 4, 8, 1, 1, 4, 3, 6, 10, 1, 2, 7, 10, 2, 3, 3, 5, 7, 8, 5, 7, 6, 10, 2, 5, 2, 4, 6, 9, 1, 4, 8, 2, 4, 10, 9, 2, 9, 4, 6, 2, 9, 4, 4, 4, 10, 10, 8, 2, 8, 10, 1, 6, 1, 9, 10, 7, 8, 6, 9, 9, 1, 6, 6, 1, 2, 4, 4, 7, 9, 6, 5, 3, 2, 10, 7, 1, 6, 10, 7, 7, 4, 5, 6, 9, 10, 3, 8, 1, 5, 7, 3, 1, 2, 3, 10, 6, 1, 8, 4, 2, 2, 6, 3, 10, 5, 5, 1, 2, 6, 5, 2, 3, 7, 10, 6, 9, 1, 2, 3, 4, 6, 8, 9, 10, 5, 5, 7, 6, 7, 6, 10, 1, 3, 5, 8, 10, 4, 4, 6, 9, 2, 8, 1, 2, 7, 8, 10, 6, 9, 4, 5, 6, 9, 10, 7, 4, 9, 9, 9, 8, 7, 7, 7, 5, 6, 1, 10, 10, 5, 1, 2, 5, 8, 9, 8, 8, 3, 4, 6, 10, 1, 3, 4, 5, 6, 7, 10, 2, 10, 4, 1, 1, 3, 5, 7, 10, 2, 2, 8, 5, 4, 7, 9, 5, 6, 8, 9, 2, 6, 9, 6, 3, 6, 5, 4, 6, 10, 1, 7, 5, 5, 6, 8, 6, 4, 9, 10, 3, 4, 2, 6, 8, 9, 10, 8, 3, 10, 3, 1, 1, 4, 3, 7, 8, 1, 4, 8, 1, 7, 1, 4, 6, 9, 1, 3, 8, 4, 9, 8, 6, 3, 10, 9, 4, 9, 5, 9, 1, 1, 2, 4, 1, 2, 3, 5, 7, 8, 1, 2, 9, 7, 1, 2, 7, 6, 7, 10, 5, 7, 1, 3, 10, 2, 2, 1, 2, 3, 6, 10, 7, 1, 1, 2, 2, 9, 3, 2, 3, 6, 10, 4, 7, 6, 3, 3, 1, 2, 4, 1, 4, 7, 4, 1, 5, 3, 1, 2, 4, 1, 5, 9, 10, 3, 10, 6, 7, 3, 5, 1, 10, 3, 7, 7, 2, 3, 4, 6, 6, 4, 7, 4, 1, 8, 8, 8, 5, 1, 6, 8, 5, 9, 8, 8, 3, 10, 8, 9, 5, 6, 8, 1, 7, 9, 1, 1, 2, 1, 4, 5, 6, 7, 10, 1, 3, 1, 6, 4, 6, 2, 9, 1, 2, 4, 8, 7, 8, 3, 6, 1, 7, 3, 3, 6, 6, 4, 1, 6, 2, 3, 7, 3, 8, 4, 1, 2, 4, 9, 10, 2, 7, 5, 4, 6, 6, 9, 1, 4, 5, 7, 9, 2, 1, 3, 10, 8, 10, 8, 4, 9, 4, 5, 4, 9, 6, 7, 10, 1, 8, 2, 10, 1, 4, 3, 2, 3, 3, 3, 9, 10, 5, 4, 1, 1, 5, 4, 1, 9, 2, 6, 10, 9, 3, 4, 6, 7, 5, 3, 8, 9, 1, 4, 9, 1, 3, 8, 9, 10, 4, 4, 6, 8, 4, 5, 9, 2, 3, 7, 3, 10, 10, 1, 5, 7, 1, 4, 5, 9, 10, 8, 4, 8, 3, 7, 1, 4, 5, 6, 10, 7, 7, 2, 10, 3, 2, 6, 3, 3, 10, 9, 8, 5], \"Freq\": [0.9559910736507946, 0.044179008122744064, 0.24740244548736678, 0.706864129963905, 0.28040296935713827, 0.6809786398673358, 0.8939126597847568, 0.9521392311156035, 0.9393967333384351, 0.9222692113463034, 0.9145224188783034, 0.18182834284528418, 0.808125968201263, 0.9526095702043808, 0.9430239223877088, 0.9867677872461087, 0.958752922387444, 0.9804156265913987, 0.9220806926845492, 0.9103093932894282, 0.9915196456736994, 0.9445992354935039, 0.9375305829605634, 0.9420271279049841, 0.9080755264268797, 0.9751222810026031, 0.06065452721325599, 0.13647268622982597, 0.31843626786959395, 0.37909079508284993, 0.09098179081988399, 0.1941201142818072, 0.30282737827961925, 0.36494581484979755, 0.10094245942653975, 0.036882821713543366, 0.28220340831156054, 0.06793785755648679, 0.23516950692630045, 0.10451978085613353, 0.03658192329964673, 0.06271186851368012, 0.18813560554104036, 0.026129945214033383, 0.9565776179667539, 0.7641406370192092, 0.221198605452929, 0.9792702209388882, 0.9092950952438648, 0.06450724538242275, 0.04515507176769592, 0.16771883799429912, 0.038704347229453644, 0.33543767598859825, 0.2773811551444178, 0.07095796992066501, 0.9886881666089135, 0.24113884918795336, 0.5626573147718912, 0.1607592327919689, 0.9543432772847699, 0.9538144914285659, 0.9598544272870065, 0.9293792479991866, 0.9624017907801741, 0.9642352976645239, 0.9792975074163137, 0.0061040672750314, 0.13167345121853447, 0.0017440192214375426, 0.8598014761687086, 0.0008720096107187713, 0.9873119412837967, 0.84828714348775, 0.1482443551726165, 0.9438185677292448, 0.9591626447636036, 0.03307457395736564, 0.997178523705843, 0.8188080702147178, 0.16940856625132092, 0.36260939052403407, 0.16921771557788257, 0.4593052279971098, 0.9518251223225866, 0.9118831608152307, 0.8637829762060311, 0.38514668257357293, 0.5777200238603594, 0.03851466825735729, 0.17681484565465722, 0.13752265773140004, 0.1964609396162858, 0.4911523490407145, 0.9634242550690171, 0.9795289582296142, 0.9503126377437747, 0.9434047678321524, 0.8115680594007347, 0.17390744130015745, 0.9784332342273883, 0.9049581786537144, 0.0786920155351056, 0.749284470537549, 0.24774728461322185, 0.9819938933090917, 0.978372502278307, 0.9155288171540925, 0.9135508568710462, 0.5989676319936565, 0.09895986963373456, 0.16146083992872481, 0.14062718316372805, 0.919093651495225, 0.9592206257267001, 0.9704153069775717, 0.9054512962569007, 0.8440504371691708, 0.12057863388131013, 0.8861250723123776, 0.11516987030584427, 0.07677991353722952, 0.80618909214091, 0.9956127662881897, 0.9324481649254116, 0.9044719857231235, 0.9714857775961363, 0.9782307896458093, 0.9613979203570082, 0.8900355605149844, 0.7891985404761087, 0.9414483799811917, 0.20903458170904926, 0.7664601329331806, 0.9596151264724649, 0.039513564031219146, 0.9583505788716835, 0.9828206566357532, 0.9551848565142159, 0.9734115751243251, 0.9420864239092018, 0.9665409432452453, 0.9036154346657134, 0.9402632014371892, 0.9479046834283642, 0.9948891603547907, 0.937860157775031, 0.6540229332941339, 0.3433620399794203, 0.933408563414384, 0.8856282156064107, 0.8605772645742537, 0.9741808741392006, 0.985959517032592, 0.9753089057698938, 0.8199179790416142, 0.18220399534258094, 0.9388060419736217, 0.17723026113827528, 0.7975361751222387, 0.9914108481594593, 0.893958239019737, 0.04256943995332081, 0.9837943068852285, 0.9474985980882619, 0.9067823457566917, 0.946899303997227, 0.9972226455084605, 0.9806966697308931, 0.9598773943516974, 0.6753984635752036, 0.2371628192706822, 0.08249141539849815, 0.9137315949705579, 0.9570564192469699, 0.004008188884354659, 0.004008188884354659, 0.14830298872112238, 0.8377114768301237, 0.004008188884354659, 0.31937897271811894, 0.6742444979604733, 0.27210984585684805, 0.7029504351301908, 0.951517532944784, 0.9747459631830296, 0.7285906528959812, 0.26310218021243764, 0.894437032809374, 0.08131245752812491, 0.9231648430741345, 0.4706920909284658, 0.518721896125248, 0.9217834618779056, 0.8705121676701615, 0.8935052996504036, 0.991585639902736, 0.7598119609488461, 0.23744123779651438, 0.9699437378360954, 0.9750455702865076, 0.9952602212550825, 0.004187630664467388, 0.9476042426420294, 0.9774769367805943, 0.39702149132294867, 0.582298187273658, 0.9834899773718311, 0.9622500058205748, 0.9002804504714254, 0.09002804504714254, 0.17130628188708552, 0.2845086786896625, 0.196351059940753, 0.11620777016901708, 0.016028657954347183, 0.1011809033368166, 0.07613612528314913, 0.03906985376372126, 0.9885789148798728, 0.9810968989692487, 0.9457871565942179, 0.9574750940517832, 0.9526542400958361, 0.9905333998416068, 0.9077794956650082, 0.1954697216624158, 0.11728183299744947, 0.10164425526445621, 0.531677642921771, 0.04691273319897979, 0.9546757480254449, 0.6632025338670856, 0.3316012669335428, 0.9459342789112867, 0.33523816823144637, 0.6465307530177894, 0.19923186162156112, 0.18262920648643102, 0.033205310270260184, 0.06641062054052037, 0.5146823091890329, 0.9748823779949358, 0.9391291425960612, 0.03610843346349909, 0.048144577951332125, 0.33701204565932485, 0.2888674677079927, 0.2768313232201597, 0.8858029224383867, 0.98520997952397, 0.9258615429416039, 0.8999493514667152, 0.9853569291985365, 0.9450238416273316, 0.9528895854850562, 0.9665491319060476, 0.8934829793304934, 0.9889071515943693, 0.9921115416776303, 0.8642947946586191, 0.9664024504095027, 0.946884181220164, 0.9601589685734658, 0.08016320654980934, 0.360734429474142, 0.026721068849936445, 0.20040801637452335, 0.33401336062420556, 0.8914675239730067, 0.9646272137015802, 0.5646784965206039, 0.31491685382879836, 0.08687361484932368, 0.03257760556849638, 0.1828396854009888, 0.15575232460084232, 0.38870362748210213, 0.07990771436043215, 0.10157760300054934, 0.05417472160029298, 0.037922305120205085, 0.9573182052633099, 0.9502790867254203, 0.9421001492181896, 0.917846170168317, 0.4286617003314293, 0.11690773645402618, 0.03896924548467539, 0.3117539638774031, 0.11690773645402618, 0.8640927728891126, 0.8637113333919068, 0.992841905130021, 0.9974869462782423, 0.92585256246607, 0.7874354668601629, 0.15748709337203257, 0.9736428467072459, 0.07988081288339095, 0.9129235758101824, 0.9759484565546123, 0.8854914019571589, 0.9888797829502619, 0.9627350263926382, 0.9759239658877077, 0.8721664388409633, 0.11628885851212845, 0.9676921984468448, 0.613893852542324, 0.20463128418077464, 0.1782272475122876, 0.9983365044857696, 0.9914568381257299, 0.9615463652385484, 0.9477970752808246, 0.9561002908573786, 0.9737614825950083, 0.9435837673706517, 0.8380365229174215, 0.14665639151054877, 0.973885677325734, 0.9800314427256237, 0.9367737744377368, 0.3387481121040716, 0.1580824523152334, 0.11291603736802386, 0.29358169715686205, 0.11291603736802386, 0.9504144370802841, 0.9698806042329409, 0.025978944756239488, 0.9380375297964677, 0.9688807799331153, 0.24314459104579045, 0.7294337731373713, 0.24702018176865218, 0.19212680804228502, 0.5489337372636716, 0.15478299183835942, 0.37147918041206257, 0.46434897551507825, 0.9591608724363421, 0.968887277033127, 0.09257656601917091, 0.6431635112910822, 0.20951538625391314, 0.04872450843114259, 0.24562355553010515, 0.5424186851289823, 0.21492061108884203, 0.10797524202556807, 0.8098143151917605, 0.9767842965160283, 0.9761734265320092, 0.7970825645160039, 0.1660588676075008, 0.9307826148625901, 0.9789004848824231, 0.9257272058732015, 0.9801312904771198, 0.930781722605874, 0.9892937029854466, 0.1721325694062946, 0.10550060705547087, 0.7218462588005902, 0.6733130793232502, 0.21348951295615254, 0.11221884655387504, 0.9446646217768941, 0.925892528568443, 0.9274142005185421, 0.6127129260687603, 0.3848136060065994, 0.9715182284036752, 0.9167377723272319, 0.6160680928249401, 0.3811644315319773, 0.9376678663110004, 0.9732217003304414, 0.07669315042709039, 0.9203178051250847, 0.28719996573245093, 0.7114726423826625, 0.27504357131582136, 0.6377821943555277, 0.08370891300916301, 0.9375779813135765, 0.8917730501257328, 0.1278263002742681, 0.14202922252696457, 0.5207738159322034, 0.08048322609861326, 0.12309199285670262, 0.9274579967026719, 0.9382050567245493, 0.9091711212202798, 0.9260401360845191, 0.8276618035140264, 0.16879944676930803, 0.9633702326881775, 0.9323542523000093, 0.9351811814719667, 0.9486363708843528, 0.9513285062549675, 0.4019381613346166, 0.5627134258684633, 0.8805035364277192, 0.9338694523954467, 0.9479010771899012, 0.7902937805349658, 0.206163594922165, 0.9710335287182053, 0.995867921376256, 0.9380961160867403, 0.9754693430986879, 0.9538746229889702, 0.93957603066632, 0.938162913445678, 0.9428611412724462, 0.1603476060897678, 0.8308921406469786, 0.975188468355469, 0.9295123572489609, 0.1020685554444468, 0.85057129537039, 0.9492354546638921, 0.899400270719417, 0.9974704594191158, 0.8991933643774302, 0.09634214618329609, 0.6989838727407576, 0.3022632963203276, 0.9209648701499451, 0.06907236526124588, 0.7785617824013565, 0.18685482777632556, 0.9734008658476118, 0.8926335817421277, 0.15173442479168486, 0.15173442479168486, 0.6828049115625819, 0.9165998321332273, 0.33866216308170777, 0.6157493874212868, 0.959868514683422, 0.9716875174166552, 0.9854922192254633, 0.9503067856804868, 0.8707240329492155, 0.9961603299245471, 0.952238603815383, 0.8051360616353781, 0.14002366289310922, 0.9256186244100756, 0.9615825547067168, 0.9741938028637466, 0.9276759512059033, 0.6655644411357059, 0.32504309915929824, 0.9293831506446851, 0.9686450392174216, 0.07878629464321216, 0.7878629464321216, 0.11817944196481825, 0.8596355958416215, 0.13225163012948024, 0.9513622210305152, 0.9786050172251589, 0.8756924151406231, 0.9589462516173394, 0.1949298129476041, 0.2802116061121809, 0.3624476209494514, 0.14619735971070308, 0.012183113309225255, 0.9930765632002463, 0.9697068720742724, 0.9084330575167373, 0.2937080212046831, 0.6755284487707711, 0.9808711963234709, 0.965912966491018, 0.17818028635386335, 0.8018112885923852, 0.17445658606895187, 0.6404707543353302, 0.029702001933461473, 0.15533805608879278, 0.2520316877458941, 0.7056887256885034, 0.44311034744571604, 0.5497850607196847, 0.9510498006527618, 0.9551939655045837, 0.9712509020892262, 0.6418257990035213, 0.3523749484725215, 0.9541146755802108, 0.9647879414540207, 0.9231672641565762, 0.9535716973811061, 0.6639850287841106, 0.13125285452709162, 0.20073965986496367, 0.9485989275158082, 0.8992590084233592, 0.9929048482475958, 0.044128995969660086, 0.011032248992415021, 0.6619349395449013, 0.011032248992415021, 0.2647739758179605, 0.7438345902564756, 0.2564946862953364, 0.9859096538707419, 0.805360903997799, 0.19143824767160794, 0.9676357609924634, 0.8861523311728536, 0.19710435802487108, 0.5531638434891544, 0.08265666626849433, 0.012716410195152975, 0.14623871724425921, 0.8183520167188667, 0.16294906765028655, 0.685221720375564, 0.1504145239848799, 0.9243324185367383, 0.9574292808041003, 0.9538997328458841, 0.9151129722496913, 0.8728403476788962, 0.45956954047686005, 0.5302725467040693, 0.36784168954666285, 0.6225013207712755, 0.11405773320034356, 0.6908639839563667, 0.1922687502520077, 0.5024399384361038, 0.48867446067073106, 0.9630304428638915, 0.9442916709150095, 0.7354598305608008, 0.26296964871796075, 0.9451673894917504, 0.9802364214159405, 0.9485841019069616, 0.9992056782454644, 0.8825205516662239, 0.10632777730918361, 0.8673323370916474, 0.9845196543103133, 0.9715164811013065, 0.943207354123945, 0.9260816229691522, 0.9961970850655103, 0.9433333991496466, 0.5589859595877633, 0.44052535888042277, 0.9988971551653345, 0.9729623222978578, 0.9231058602471675, 0.94792357199534, 0.061556511788859354, 0.21863174876732805, 0.573112351137656, 0.14433940695318745, 0.9813000016106543, 0.05705203023953064, 0.9128324838324903, 0.8832340394809917, 0.9600946242189365, 0.9542453706660072, 0.958585726808713, 0.38551445925765054, 0.24348281637325297, 0.030435352046656622, 0.21304746432659635, 0.13188652553551203, 0.9408159270857431, 0.333664913696965, 0.023415081662944915, 0.6380609753152489, 0.9650319656476424, 0.9748226383682568, 0.9090111775860512, 0.704703812991858, 0.08730843700784081, 0.20579845866133908, 0.9929590174049575, 0.9649970226124739, 0.9326422326669603, 0.8774377117879286, 0.9887817276022252, 0.007217384873008943, 0.9751440247456286, 0.7769703201859045, 0.09788602459035017, 0.042825135758278204, 0.07953239497965953, 0.8606249404692534, 0.9910290160547598, 0.9518116728357767, 0.9757823631447894, 0.9639196947912949, 0.012269812023968301, 0.5914049395552722, 0.10306642100133373, 0.28220567655127093, 0.009815849619174642, 0.927298652834668, 0.9018705012355162, 0.901337569220282, 0.9316200585527872, 0.9567757089567637, 0.9870533702175595, 0.9991518661197675, 0.9804118870411737, 0.3834454924258703, 0.6039266505707457, 0.9291061663875588, 0.9701876493741758, 0.9800796989390982], \"Term\": [\"\\uac00\\uac8c\", \"\\uac00\\uaca9\", \"\\uac00\\uaca9\", \"\\uac00\\uaca9\", \"\\uac00\\ub2a5\", \"\\uac00\\ub2a5\", \"\\uac00\\ub85c\", \"\\uac00\\ub8e8\", \"\\uac00\\ub9ac\\ube44\", \"\\uac00\\uc6a9\", \"\\uac00\\uc7a5\", \"\\uac10\\uc0ac\", \"\\uac10\\uc0ac\", \"\\uac10\\uc790\", \"\\uac10\\uc790\\ud0d5\", \"\\uac11\\uc790\\uae30\", \"\\uac1c\\ubcc4\", \"\\uac1c\\uc6d4\", \"\\uac1c\\uc778\", \"\\uac2f\\uc218\", \"\\uac70\\ubd80\", \"\\uac70\\uc808\", \"\\uac71\\uc815\", \"\\uac80\\uc0c9\", \"\\uac80\\uc218\", \"\\uacb0\\uacfc\", \"\\uacb0\\uc7ac\", \"\\uacb0\\uc7ac\", \"\\uacb0\\uc7ac\", \"\\uacb0\\uc7ac\", \"\\uacb0\\uc7ac\", \"\\uacb0\\uc81c\", \"\\uacb0\\uc81c\", \"\\uacb0\\uc81c\", \"\\uacb0\\uc81c\", \"\\uacb0\\uc81c\", \"\\uacbd\\uc6b0\", \"\\uacbd\\uc6b0\", \"\\uacbd\\uc6b0\", \"\\uacbd\\uc6b0\", \"\\uacbd\\uc6b0\", \"\\uacbd\\uc6b0\", \"\\uacbd\\uc6b0\", \"\\uacbd\\uc6b0\", \"\\uacc4\\uc0b0\\uc11c\", \"\\uacc4\\uc18d\", \"\\uacc4\\uc18d\", \"\\uacc4\\uc88c\", \"\\uacc4\\ud68d\", \"\\uace0\\uac1d\", \"\\uace0\\uac1d\", \"\\uace0\\uac1d\", \"\\uace0\\uac1d\", \"\\uace0\\uac1d\", \"\\uace0\\uac1d\", \"\\uace0\\uac1d\", \"\\uace0\\uad6c\\ub9c8\", \"\\uace0\\uae30\", \"\\uace0\\uae30\", \"\\uace0\\uae30\", \"\\uace0\\ub824\", \"\\uace8\\ub4dc\", \"\\uacf1\\ucc3d\", \"\\uacf5\\uae09\", \"\\uacf5\\ud734\\uc77c\", \"\\uad00\\ub828\", \"\\uad00\\uc2ec\", \"\\uad6c\\ub9e4\", \"\\uad6c\\ub9e4\", \"\\uad6c\\ub9e4\", \"\\uad6c\\ub9e4\", \"\\uad6c\\ub9e4\", \"\\uad6c\\uc131\", \"\\uad6c\\uc785\", \"\\uad6c\\uc785\", \"\\uad6d\\ubb3c\", \"\\uae08\\uc561\", \"\\uae08\\uc561\", \"\\uae08\\uc694\\uc77c\", \"\\uae08\\uc77c\", \"\\uae08\\uc77c\", \"\\uae30\\uac04\", \"\\uae30\\uac04\", \"\\uae30\\uac04\", \"\\uae30\\ubcf8\", \"\\uae30\\uc0ac\", \"\\uae30\\uc785\", \"\\uae30\\uc7ac\", \"\\uae30\\uc7ac\", \"\\uae30\\uc7ac\", \"\\uae30\\uc900\", \"\\uae30\\uc900\", \"\\uae30\\uc900\", \"\\uae30\\uc900\", \"\\uae30\\ud55c\", \"\\uae40\\uce58\", \"\\ub098\\uba38\\uc9c0\", \"\\ub0a0\\uc528\", \"\\ub0a0\\uc9dc\", \"\\ub0a0\\uc9dc\", \"\\ub0b4\\ub0b4\", \"\\ub0b4\\uc6a9\", \"\\ub0b4\\uc6a9\", \"\\ub0b4\\uc77c\", \"\\ub0b4\\uc77c\", \"\\ub0c9\\ub3d9\", \"\\ub0c9\\uc7a5\", \"\\ub204\\ub77d\", \"\\ub2c8\\uc694\", \"\\ub2e4\\uc2dc\", \"\\ub2e4\\uc2dc\", \"\\ub2e4\\uc2dc\", \"\\ub2e4\\uc2dc\", \"\\ub2e4\\uc6b4\", \"\\ub2e4\\uc74c\\uc8fc\", \"\\ub2e8\\uc704\", \"\\ub2e8\\uc885\", \"\\ub2ec\\ub77c\", \"\\ub2ec\\ub77c\", \"\\ub2f5\\ub2c8\", \"\\ub2f5\\ubcc0\", \"\\ub2f5\\ubcc0\", \"\\ub2f5\\ubcc0\", \"\\ub2f9\\uc77c\", \"\\ub300\\uae30\", \"\\ub300\\ub7b5\", \"\\ub300\\ub7c9\", \"\\ub300\\ub9ac\\uc810\", \"\\ub300\\ucc3d\", \"\\ub300\\uccb4\", \"\\ub358\\ub370\", \"\\ub3c4\\uc2dc\\ub77d\", \"\\ub3c4\\uc6c0\", \"\\ub3c4\\uc6c0\", \"\\ub3c4\\ucc29\", \"\\ub3c4\\ucc29\", \"\\ub3d9\\ubd09\", \"\\ub4dc\\ub77c\\uc774\\uc544\\uc774\\uc2a4\", \"\\ub530\\ub85c\\ub530\\ub85c\", \"\\ub77c\\uba74\", \"\\ub808\\ubaac\", \"\\ub85c\\ub9cc\", \"\\ub9ac\\uc5bc\", \"\\ub9ac\\uc9c0\", \"\\ub9ac\\ud130\", \"\\ub9c8\\uac10\", \"\\ub9c8\\ub9ac\", \"\\ub9c8\\uc9c0\\ub9c9\", \"\\ub9c8\\uc9c0\\ub9c9\", \"\\ub9c9\\ucc3d\", \"\\ub9cc\\ub450\", \"\\ub9cc\\ud07c\", \"\\ub9d0\\uc500\", \"\\ub9e4\\uc7a5\", \"\\ub9e4\\uc9c4\", \"\\uba3c\\uc800\", \"\\uba3c\\uc800\", \"\\uba54\\ub274\", \"\\uba54\\ubaa8\", \"\\uba54\\ubaa8\", \"\\uba54\\uc138\\uc9c0\", \"\\uba70\\uce60\", \"\\uba70\\uce60\", \"\\uba85\\uc808\", \"\\ubaa8\\ub4e0\", \"\\ubaa8\\ubc14\\uc77c\", \"\\ubaa8\\uce74\", \"\\ubaa9\\uc694\\uc77c\", \"\\ubb34\\ub8cc\", \"\\ubb36\\uc74c\", \"\\ubb38\\uac74\", \"\\ubb38\\uac74\", \"\\ubb38\\uac74\", \"\\ubb38\\uad6c\", \"\\ubb38\\uc5b4\", \"\\ubb38\\uc758\", \"\\ubb38\\uc758\", \"\\ubb38\\uc758\", \"\\ubb38\\uc758\", \"\\ubb38\\uc758\", \"\\ubb38\\uc790\", \"\\ubb38\\uc790\", \"\\ubb38\\uc81c\", \"\\ubb38\\uc81c\", \"\\ubb38\\ud574\", \"\\ubb3c\\uac74\", \"\\ubb3c\\ub7c9\", \"\\ubb3c\\ub7c9\", \"\\ubb54\\uac00\", \"\\ubb54\\uac00\", \"\\ubbf8\\ub2c8\", \"\\ubbf8\\ub9ac\", \"\\ubbf8\\ub9ac\", \"\\ubbf8\\ub9cc\", \"\\ubbf8\\ucc98\", \"\\ubc14\\uc774\\ub7ec\\uc2a4\", \"\\ubc15\\uc2a4\", \"\\ubc18\\ud488\", \"\\ubc18\\ud488\", \"\\ubc1c\\uae09\", \"\\ubc1c\\uc0dd\", \"\\ubc1c\\uc1a1\", \"\\ubc1c\\uc1a1\", \"\\ubc1c\\uc8fc\", \"\\ubc1c\\ud589\", \"\\ubc29\\uae08\", \"\\ubc29\\uae08\", \"\\ubc29\\ubb38\", \"\\ubc29\\ubc95\", \"\\ubc30\\ub2ec\", \"\\ubc30\\ub2ec\", \"\\ubc30\\uc1a1\", \"\\ubc30\\uc1a1\", \"\\ubc30\\uc1a1\", \"\\ubc30\\uc1a1\", \"\\ubc30\\uc1a1\", \"\\ubc30\\uc1a1\", \"\\ubc30\\uc1a1\", \"\\ubc30\\uc1a1\", \"\\ubc30\\uc1a1\\ube44\", \"\\ubc30\\uc1a1\\uc9c0\", \"\\ubc30\\ucd94\", \"\\ubc88\\ub9cc\", \"\\ubc88\\uc740\", \"\\ubc88\\ud638\", \"\\ubc8c\\uc368\", \"\\ubcc0\\uacbd\", \"\\ubcc0\\uacbd\", \"\\ubcc0\\uacbd\", \"\\ubcc0\\uacbd\", \"\\ubcc0\\uacbd\", \"\\ubcc0\\ub3d9\", \"\\ubcc4\\ub3c4\", \"\\ubcc4\\ub3c4\", \"\\ubcc4\\ub85c\", \"\\ubcf4\\uace0\", \"\\ubcf4\\uace0\", \"\\ubcf4\\uad00\", \"\\ubcf4\\uad00\", \"\\ubcf4\\uad00\", \"\\ubcf4\\uad00\", \"\\ubcf4\\uad00\", \"\\ubd09\\uc9c0\", \"\\ubd80\\ubaa8\\ub2d8\", \"\\ubd80\\ubd84\", \"\\ubd80\\ubd84\", \"\\ubd80\\ubd84\", \"\\ubd80\\ubd84\", \"\\ubd80\\ubd84\", \"\\ubd84\\uc1c4\", \"\\ubd88\\uac00\", \"\\ubd88\\ub85c\", \"\\ubd88\\ud3b8\", \"\\uc0ac\\uace0\", \"\\uc0ac\\uacfc\", \"\\uc0ac\\ub78c\", \"\\uc0ac\\ub824\", \"\\uc0ac\\uba74\", \"\\uc0ac\\uc6a9\", \"\\uc0ac\\uc740\", \"\\uc0ac\\uc758\", \"\\uc0ac\\uc774\\uc988\", \"\\uc0ac\\uc7a5\", \"\\uc0ac\\uc9c4\", \"\\uc0ac\\ud56d\", \"\\uc0ac\\ud56d\", \"\\uc0ac\\ud56d\", \"\\uc0ac\\ud56d\", \"\\uc0ac\\ud56d\", \"\\uc0c1\\uc138\", \"\\uc0c1\\uc790\", \"\\uc0c1\\ud0dc\", \"\\uc0c1\\ud0dc\", \"\\uc0c1\\ud0dc\", \"\\uc0c1\\ud0dc\", \"\\uc0c1\\ud488\", \"\\uc0c1\\ud488\", \"\\uc0c1\\ud488\", \"\\uc0c1\\ud488\", \"\\uc0c1\\ud488\", \"\\uc0c1\\ud488\", \"\\uc0c1\\ud488\", \"\\uc0c8\\ubcbd\", \"\\uc0d0\\ub7ec\\ub4dc\", \"\\uc0dd\\uac01\", \"\\uc0dd\\ubb3c\", \"\\uc0dd\\uc0b0\", \"\\uc0dd\\uc0b0\", \"\\uc0dd\\uc0b0\", \"\\uc0dd\\uc0b0\", \"\\uc0dd\\uc0b0\", \"\\uc0dd\\ud65c\\uc6a9\\ud488\", \"\\uc11c\\uc6b8\", \"\\uc120\\ubb3c\", \"\\uc120\\ud0dd\", \"\\uc124\\uba85\", \"\\uc124\\uc815\", \"\\uc124\\uc815\", \"\\uc138\\uae08\", \"\\uc138\\ud2b8\", \"\\uc138\\ud2b8\", \"\\uc13c\\ud130\", \"\\uc18c\\ub7c9\", \"\\uc18c\\uc2a4\", \"\\uc18c\\uc694\", \"\\uc18c\\uc9c4\", \"\\uc1a1\\uc7a5\", \"\\uc1a1\\uc7a5\", \"\\uc218\\ub3c4\", \"\\uc218\\ub7c9\", \"\\uc218\\ub7c9\", \"\\uc218\\ub7c9\", \"\\uc218\\ub839\", \"\\uc218\\uc694\\uc77c\", \"\\uc218\\uc785\", \"\\uc218\\uc815\", \"\\uc218\\ucde8\", \"\\uc218\\ud655\", \"\\uc219\\uc131\", \"\\uc21c\\ucc28\", \"\\uc21c\\ucc28\", \"\\uc2b9\\uc778\", \"\\uc2dc\\uae30\", \"\\uc2dc\\uc77c\", \"\\uc2dd\\ud488\", \"\\uc2dd\\ud488\", \"\\uc2dd\\ud488\", \"\\uc2dd\\ud488\", \"\\uc2dd\\ud488\", \"\\uc2e0\\uc120\", \"\\uc2e0\\uccad\", \"\\uc2e0\\uccad\", \"\\uc544\\uc774\\uc2a4\", \"\\uc544\\uc774\\uc2a4\\ubc15\\uc2a4\", \"\\uc544\\uc774\\uc2a4\\ud329\", \"\\uc544\\uc774\\uc2a4\\ud329\", \"\\uc544\\uce68\", \"\\uc544\\uce68\", \"\\uc544\\uce68\", \"\\uc548\\ub0b4\", \"\\uc548\\ub0b4\", \"\\uc548\\ub0b4\", \"\\uc57c\\ub2f9\", \"\\uc591\\ub150\", \"\\uc591\\ud574\", \"\\uc591\\ud574\", \"\\uc591\\ud574\", \"\\uc591\\ud574\", \"\\uc5b4\\uc81c\", \"\\uc5b4\\uc81c\", \"\\uc5b4\\uc81c\", \"\\uc5c5\\ubb34\", \"\\uc5c5\\ubb34\", \"\\uc5ec\\ub7ec\", \"\\uc5ec\\uc720\", \"\\uc5f0\\ub77d\", \"\\uc5f0\\ub77d\", \"\\uc5f0\\uc5b4\", \"\\uc5f0\\ud734\", \"\\uc5fc\\ud1b5\", \"\\uc601\\uc218\\uc99d\", \"\\uc601\\uc5c5\\uc77c\", \"\\uc608\\uc57d\", \"\\uc608\\uc815\", \"\\uc608\\uc815\", \"\\uc608\\uc815\", \"\\uc624\\ub298\", \"\\uc624\\ub298\", \"\\uc624\\ub298\", \"\\uc624\\ub958\", \"\\uc624\\ub958\\ub85c\", \"\\uc624\\uc2dc\", \"\\uc624\\uc804\", \"\\uc624\\uc804\", \"\\uc624\\ud504\\ub77c\\uc778\", \"\\uc624\\ud508\", \"\\uc624\\ud6c4\", \"\\uc624\\ud6c4\", \"\\uc625\\uc218\\uc218\", \"\\uc628\\ub77c\\uc778\", \"\\uc62c\\ud574\", \"\\uc62c\\ud574\", \"\\uc635\\uc158\", \"\\uc635\\uc158\", \"\\uc644\\ub8cc\", \"\\uc644\\ub8cc\", \"\\uc644\\ub8cc\", \"\\uc694\\uc77c\", \"\\uc694\\uc998\", \"\\uc694\\uccad\", \"\\uc694\\uccad\", \"\\uc694\\uccad\", \"\\uc694\\uccad\", \"\\uc694\\uccad\", \"\\uc6a9\\ub7c9\", \"\\uc6b0\\uccb4\\uad6d\", \"\\uc6d0\\ub450\", \"\\uc6d0\\ub798\", \"\\uc6d4\\uc694\\uc77c\", \"\\uc6d4\\uc694\\uc77c\", \"\\uc720\\ud1b5\", \"\\uc758\\uc8fc\", \"\\uc774\\ub0b4\", \"\\uc774\\ub984\", \"\\uc774\\uba74\", \"\\uc774\\ubca4\\ud2b8\", \"\\uc774\\ubca4\\ud2b8\", \"\\uc774\\uc0c1\\uc740\", \"\\uc774\\uc138\", \"\\uc774\\uc720\", \"\\uc774\\uc804\", \"\\uc774\\uc804\", \"\\uc774\\uc81c\", \"\\uc774\\ud6c4\", \"\\uc775\\uc77c\", \"\\uc778\\ubd84\", \"\\uc778\\ud130\\ub137\", \"\\uc77c\\ub85c\", \"\\uc77c\\ubc18\", \"\\uc77c\\ubc29\", \"\\uc77c\\uc694\\uc77c\", \"\\uc77c\\uc694\\uc77c\", \"\\uc77c\\uc774\", \"\\uc77c\\uc790\", \"\\uc77c\\uc815\", \"\\uc77c\\uc815\", \"\\uc77c\\ucc0d\", \"\\uc784\\uc758\", \"\\uc785\\uae08\", \"\\uc785\\ub825\", \"\\uc785\\ub825\", \"\\uc790\\ub3d9\", \"\\uc790\\ub3d9\", \"\\uc791\\uc5c5\", \"\\uc791\\uc5c5\", \"\\uc798\\ubabb\", \"\\uc798\\ubabb\", \"\\uc7a5\\ubc14\\uad6c\\ub2c8\", \"\\uc7ac\\uacb0\", \"\\uc7ac\\uace0\", \"\\uc7ac\\uace0\", \"\\uc7ac\\uace0\", \"\\uc7ac\\ub09c\", \"\\uc7ac\\uc8fc\", \"\\uc7ac\\uc8fc\", \"\\uc7ac\\ud310\\ub9e4\", \"\\uc7ac\\ud574\", \"\\uc800\\ub141\", \"\\uc800\\ubc88\", \"\\uc800\\uc7a5\", \"\\uc801\\uc6a9\", \"\\uc804\\ub0a0\", \"\\uc804\\ub2ec\", \"\\uc804\\ub2ec\", \"\\uc804\\uc0b0\", \"\\uc804\\uccb4\", \"\\uc804\\ud654\", \"\\uc810\\uc548\", \"\\uc811\\uc218\", \"\\uc811\\uc218\", \"\\uc815\\uae30\", \"\\uc815\\ub9d0\", \"\\uc815\\ubcf4\", \"\\uc815\\ubcf4\", \"\\uc815\\ubcf4\", \"\\uc815\\uc0c1\", \"\\uc815\\uc0c1\", \"\\uc81c\\uc77c\", \"\\uc81c\\uc791\", \"\\uc81c\\uc8fc\", \"\\uc81c\\uc8fc\\ub3c4\", \"\\uc81c\\ud488\", \"\\uc81c\\ud488\", \"\\uc81c\\ud488\", \"\\uc81c\\ud488\", \"\\uc81c\\ud488\", \"\\uc81c\\ud55c\", \"\\uc870\\uc5c5\", \"\\uc870\\uce58\", \"\\uc870\\ud68c\", \"\\uc870\\ud68c\", \"\\uc885\\ub8cc\", \"\\uc885\\ub958\", \"\\uc8fc\\ub9d0\", \"\\uc8fc\\ub9d0\", \"\\uc8fc\\ubb38\", \"\\uc8fc\\ubb38\", \"\\uc8fc\\ubb38\", \"\\uc8fc\\ubb38\", \"\\uc8fc\\uc18c\", \"\\uc8fc\\uc18c\", \"\\uc900\\ube44\", \"\\uc900\\ube44\", \"\\uc911\\ub2e8\", \"\\uc911\\ubcf5\", \"\\uc911\\uc21c\", \"\\uc911\\uc774\", \"\\uc911\\uc774\", \"\\uc911\\uc778\", \"\\uc911\\uc9c0\", \"\\uc99d\\uac00\", \"\\uc99d\\uc815\", \"\\uc9c0\\uae08\", \"\\uc9c0\\uae08\", \"\\uc9c0\\uae08\", \"\\uc9c0\\ub09c\\ubc88\", \"\\uc9c0\\ubc29\", \"\\uc9c0\\uc5ed\", \"\\uc9c0\\uc5f0\", \"\\uc9c0\\uc5f0\", \"\\uc9c0\\uc5f0\", \"\\uc9c0\\uc5f0\", \"\\uc9c0\\uc5f0\", \"\\uc9c0\\uc815\", \"\\uc9c0\\uc815\", \"\\uc9c1\\uc811\", \"\\uc9c4\\ud589\", \"\\uc9c4\\ud589\", \"\\ucc28\\uc774\", \"\\ucc29\\uc624\", \"\\ucc38\\uace0\", \"\\ucc38\\uace0\", \"\\ucc38\\uace0\", \"\\ucc38\\uace0\", \"\\ucc38\\uace0\", \"\\ucc98\\uac00\", \"\\ucc98\\ub9ac\", \"\\ucc98\\ub9ac\", \"\\ucc98\\ub9ac\", \"\\ucc98\\uc74c\", \"\\ucca0\\ud68c\", \"\\uccb4\\ud06c\", \"\\ucd08\\ucf54\", \"\\ucd5c\\uadfc\", \"\\ucd5c\\ub300\", \"\\ucd5c\\ub300\", \"\\ucd5c\\uc18c\", \"\\ucd5c\\uc18c\", \"\\ucd94\\uac00\", \"\\ucd94\\uac00\", \"\\ucd94\\uac00\", \"\\ucd94\\uc11d\", \"\\ucd94\\uc11d\", \"\\ucd94\\ucc9c\", \"\\ucd94\\ud6c4\", \"\\ucd9c\\uace0\", \"\\ucd9c\\uace0\", \"\\ucd9c\\ub825\", \"\\ucd9c\\ubc1c\", \"\\ucd9c\\uc2dc\", \"\\ucde8\\uc18c\", \"\\uce74\\ub4dc\", \"\\uce74\\ub4dc\", \"\\uce90\\uc26c\\ubc31\", \"\\ucea1\\uc290\", \"\\ucee4\\ud53c\", \"\\ucf00\\uc775\", \"\\ucfe0\\ud0a4\", \"\\ucfe0\\ud3f0\", \"\\ud06c\\uae30\", \"\\ud0dd\\ubc30\", \"\\ud0dd\\ubc30\", \"\\ud1a0\\uc694\\uc77c\", \"\\ud1b5\\uad00\", \"\\ud1b5\\uc7a5\", \"\\ud1b5\\ud574\", \"\\ud310\\ub9e4\", \"\\ud310\\ub9e4\", \"\\ud310\\ub9e4\", \"\\ud310\\ub9e4\", \"\\ud37c\\uc13c\\ud2b8\", \"\\ud398\\uc774\\uc9c0\", \"\\ud398\\uc774\\uc9c0\", \"\\ud3c9\\uade0\", \"\\ud3c9\\uc77c\", \"\\ud3ec\\uae30\", \"\\ud3ec\\uc778\\ud2b8\", \"\\ud3ec\\uc7a5\", \"\\ud3ec\\uc7a5\", \"\\ud3ec\\uc7a5\", \"\\ud3ec\\uc7a5\", \"\\ud3ec\\uc7a5\", \"\\ud488\\ubaa9\", \"\\ud488\\uc808\", \"\\ud488\\uc808\", \"\\ud488\\uc808\", \"\\ud488\\uc9c8\", \"\\ud504\\ub85c\", \"\\ud53d\\uc5c5\", \"\\ud558\\ub098\\uc694\", \"\\ud558\\ub098\\uc694\", \"\\ud558\\ub098\\uc694\", \"\\ud558\\ub8e8\", \"\\ud55c\\ubc88\", \"\\ud55c\\uc815\", \"\\ud55c\\ud574\", \"\\ud560\\uc778\", \"\\ud560\\uc778\", \"\\ud56d\\uc0c1\", \"\\ud574\\ub2f9\", \"\\ud574\\ub2f9\", \"\\ud574\\ub2f9\", \"\\ud574\\ub2f9\", \"\\ud585\\uc300\", \"\\ud589\\uc0ac\", \"\\ud604\\uae08\\uc601\\uc218\\uc99d\", \"\\ud604\\ubbf8\", \"\\ud604\\uc7a5\", \"\\ud604\\uc7ac\", \"\\ud604\\uc7ac\", \"\\ud604\\uc7ac\", \"\\ud604\\uc7ac\", \"\\ud604\\uc7ac\", \"\\ud61c\\ud0dd\", \"\\ud638\\ub450\", \"\\ud63c\\ud569\", \"\\ud648\\ud398\\uc774\\uc9c0\", \"\\ud64d\\uc0bc\", \"\\ud654\\uc694\\uc77c\", \"\\ud655\\uc778\", \"\\ud655\\uc815\", \"\\ud658\\ubd88\", \"\\ud658\\ubd88\", \"\\ud68c\\uc0ac\", \"\\ud734\\ubb34\", \"\\ud76c\\ub9dd\"]}, \"R\": 30, \"lambda.step\": 0.01, \"plot.opts\": {\"xlab\": \"PC1\", \"ylab\": \"PC2\"}, \"topic.order\": [7, 2, 8, 4, 6, 10, 1, 9, 5, 3]};\n",
              "\n",
              "function LDAvis_load_lib(url, callback){\n",
              "  var s = document.createElement('script');\n",
              "  s.src = url;\n",
              "  s.async = true;\n",
              "  s.onreadystatechange = s.onload = callback;\n",
              "  s.onerror = function(){console.warn(\"failed to load library \" + url);};\n",
              "  document.getElementsByTagName(\"head\")[0].appendChild(s);\n",
              "}\n",
              "\n",
              "if(typeof(LDAvis) !== \"undefined\"){\n",
              "   // already loaded: just create the visualization\n",
              "   !function(LDAvis){\n",
              "       new LDAvis(\"#\" + \"ldavis_el3081392774624031368268753235\", ldavis_el3081392774624031368268753235_data);\n",
              "   }(LDAvis);\n",
              "}else if(typeof define === \"function\" && define.amd){\n",
              "   // require.js is available: use it to load d3/LDAvis\n",
              "   require.config({paths: {d3: \"https://d3js.org/d3.v5\"}});\n",
              "   require([\"d3\"], function(d3){\n",
              "      window.d3 = d3;\n",
              "      LDAvis_load_lib(\"https://cdn.jsdelivr.net/gh/bmabey/pyLDAvis@3.4.0/pyLDAvis/js/ldavis.v3.0.0.js\", function(){\n",
              "        new LDAvis(\"#\" + \"ldavis_el3081392774624031368268753235\", ldavis_el3081392774624031368268753235_data);\n",
              "      });\n",
              "    });\n",
              "}else{\n",
              "    // require.js not available: dynamically load d3 & LDAvis\n",
              "    LDAvis_load_lib(\"https://d3js.org/d3.v5.js\", function(){\n",
              "         LDAvis_load_lib(\"https://cdn.jsdelivr.net/gh/bmabey/pyLDAvis@3.4.0/pyLDAvis/js/ldavis.v3.0.0.js\", function(){\n",
              "                 new LDAvis(\"#\" + \"ldavis_el3081392774624031368268753235\", ldavis_el3081392774624031368268753235_data);\n",
              "            })\n",
              "         });\n",
              "}\n",
              "</script>"
            ]
          },
          "metadata": {},
          "execution_count": 49
        }
      ]
    },
    {
      "cell_type": "markdown",
      "source": [
        "# 교환|반품|환불 인텐트 토픽 모델링"
      ],
      "metadata": {
        "id": "iNqe5JZH0PPp"
      }
    },
    {
      "cell_type": "code",
      "source": [
        "df6 = data[(data['인텐트 (대)']=='교환|반품|환불')]\n",
        "text6 = df6[['발화문']]\n",
        "text6.head(5)"
      ],
      "metadata": {
        "colab": {
          "base_uri": "https://localhost:8080/",
          "height": 262
        },
        "id": "IW21fDfL0TIB",
        "outputId": "74f36729-b31c-425d-e201-9cfd753ebd55"
      },
      "execution_count": null,
      "outputs": [
        {
          "output_type": "stream",
          "name": "stderr",
          "text": [
            "/usr/local/lib/python3.10/dist-packages/ipykernel/ipkernel.py:283: DeprecationWarning: `should_run_async` will not call `transform_cell` automatically in the future. Please pass the result to `transformed_cell` argument and any exception that happen during thetransform in `preprocessing_exc_tuple` in IPython 7.17 and above.\n",
            "  and should_run_async(code)\n"
          ]
        },
        {
          "output_type": "execute_result",
          "data": {
            "text/plain": [
              "                                                     발화문\n",
              "47179  지난주에 중량 미달로 문의 글 널어서 이번 주 내에 환불해준다고 하셨는데 언제 처리...\n",
              "47180          답변이 늦어진 점 양해 부탁드립니다 최대한 빠른 처리 진행토록 하겠습니다.\n",
              "47181     물품 오배송으로 교환받기로 했는데 물품은 수거해갔는데 교환 물품은 언제 오는 거죠?\n",
              "47182  제품 일시 품절로 인해 금일 발송되십니다. 내 일 받아보시게 되시고요죄송한 마음을 ...\n",
              "47183                        배송 어렵다고 문자 받았었는데 환불 언제 되나요?"
            ],
            "text/html": [
              "\n",
              "  <div id=\"df-4a64a991-6881-44aa-9a61-443ced68eaad\" class=\"colab-df-container\">\n",
              "    <div>\n",
              "<style scoped>\n",
              "    .dataframe tbody tr th:only-of-type {\n",
              "        vertical-align: middle;\n",
              "    }\n",
              "\n",
              "    .dataframe tbody tr th {\n",
              "        vertical-align: top;\n",
              "    }\n",
              "\n",
              "    .dataframe thead th {\n",
              "        text-align: right;\n",
              "    }\n",
              "</style>\n",
              "<table border=\"1\" class=\"dataframe\">\n",
              "  <thead>\n",
              "    <tr style=\"text-align: right;\">\n",
              "      <th></th>\n",
              "      <th>발화문</th>\n",
              "    </tr>\n",
              "  </thead>\n",
              "  <tbody>\n",
              "    <tr>\n",
              "      <th>47179</th>\n",
              "      <td>지난주에 중량 미달로 문의 글 널어서 이번 주 내에 환불해준다고 하셨는데 언제 처리...</td>\n",
              "    </tr>\n",
              "    <tr>\n",
              "      <th>47180</th>\n",
              "      <td>답변이 늦어진 점 양해 부탁드립니다 최대한 빠른 처리 진행토록 하겠습니다.</td>\n",
              "    </tr>\n",
              "    <tr>\n",
              "      <th>47181</th>\n",
              "      <td>물품 오배송으로 교환받기로 했는데 물품은 수거해갔는데 교환 물품은 언제 오는 거죠?</td>\n",
              "    </tr>\n",
              "    <tr>\n",
              "      <th>47182</th>\n",
              "      <td>제품 일시 품절로 인해 금일 발송되십니다. 내 일 받아보시게 되시고요죄송한 마음을 ...</td>\n",
              "    </tr>\n",
              "    <tr>\n",
              "      <th>47183</th>\n",
              "      <td>배송 어렵다고 문자 받았었는데 환불 언제 되나요?</td>\n",
              "    </tr>\n",
              "  </tbody>\n",
              "</table>\n",
              "</div>\n",
              "    <div class=\"colab-df-buttons\">\n",
              "\n",
              "  <div class=\"colab-df-container\">\n",
              "    <button class=\"colab-df-convert\" onclick=\"convertToInteractive('df-4a64a991-6881-44aa-9a61-443ced68eaad')\"\n",
              "            title=\"Convert this dataframe to an interactive table.\"\n",
              "            style=\"display:none;\">\n",
              "\n",
              "  <svg xmlns=\"http://www.w3.org/2000/svg\" height=\"24px\" viewBox=\"0 -960 960 960\">\n",
              "    <path d=\"M120-120v-720h720v720H120Zm60-500h600v-160H180v160Zm220 220h160v-160H400v160Zm0 220h160v-160H400v160ZM180-400h160v-160H180v160Zm440 0h160v-160H620v160ZM180-180h160v-160H180v160Zm440 0h160v-160H620v160Z\"/>\n",
              "  </svg>\n",
              "    </button>\n",
              "\n",
              "  <style>\n",
              "    .colab-df-container {\n",
              "      display:flex;\n",
              "      gap: 12px;\n",
              "    }\n",
              "\n",
              "    .colab-df-convert {\n",
              "      background-color: #E8F0FE;\n",
              "      border: none;\n",
              "      border-radius: 50%;\n",
              "      cursor: pointer;\n",
              "      display: none;\n",
              "      fill: #1967D2;\n",
              "      height: 32px;\n",
              "      padding: 0 0 0 0;\n",
              "      width: 32px;\n",
              "    }\n",
              "\n",
              "    .colab-df-convert:hover {\n",
              "      background-color: #E2EBFA;\n",
              "      box-shadow: 0px 1px 2px rgba(60, 64, 67, 0.3), 0px 1px 3px 1px rgba(60, 64, 67, 0.15);\n",
              "      fill: #174EA6;\n",
              "    }\n",
              "\n",
              "    .colab-df-buttons div {\n",
              "      margin-bottom: 4px;\n",
              "    }\n",
              "\n",
              "    [theme=dark] .colab-df-convert {\n",
              "      background-color: #3B4455;\n",
              "      fill: #D2E3FC;\n",
              "    }\n",
              "\n",
              "    [theme=dark] .colab-df-convert:hover {\n",
              "      background-color: #434B5C;\n",
              "      box-shadow: 0px 1px 3px 1px rgba(0, 0, 0, 0.15);\n",
              "      filter: drop-shadow(0px 1px 2px rgba(0, 0, 0, 0.3));\n",
              "      fill: #FFFFFF;\n",
              "    }\n",
              "  </style>\n",
              "\n",
              "    <script>\n",
              "      const buttonEl =\n",
              "        document.querySelector('#df-4a64a991-6881-44aa-9a61-443ced68eaad button.colab-df-convert');\n",
              "      buttonEl.style.display =\n",
              "        google.colab.kernel.accessAllowed ? 'block' : 'none';\n",
              "\n",
              "      async function convertToInteractive(key) {\n",
              "        const element = document.querySelector('#df-4a64a991-6881-44aa-9a61-443ced68eaad');\n",
              "        const dataTable =\n",
              "          await google.colab.kernel.invokeFunction('convertToInteractive',\n",
              "                                                    [key], {});\n",
              "        if (!dataTable) return;\n",
              "\n",
              "        const docLinkHtml = 'Like what you see? Visit the ' +\n",
              "          '<a target=\"_blank\" href=https://colab.research.google.com/notebooks/data_table.ipynb>data table notebook</a>'\n",
              "          + ' to learn more about interactive tables.';\n",
              "        element.innerHTML = '';\n",
              "        dataTable['output_type'] = 'display_data';\n",
              "        await google.colab.output.renderOutput(dataTable, element);\n",
              "        const docLink = document.createElement('div');\n",
              "        docLink.innerHTML = docLinkHtml;\n",
              "        element.appendChild(docLink);\n",
              "      }\n",
              "    </script>\n",
              "  </div>\n",
              "\n",
              "\n",
              "<div id=\"df-a6c530c2-1364-4bdc-911f-a31ef4f00403\">\n",
              "  <button class=\"colab-df-quickchart\" onclick=\"quickchart('df-a6c530c2-1364-4bdc-911f-a31ef4f00403')\"\n",
              "            title=\"Suggest charts.\"\n",
              "            style=\"display:none;\">\n",
              "\n",
              "<svg xmlns=\"http://www.w3.org/2000/svg\" height=\"24px\"viewBox=\"0 0 24 24\"\n",
              "     width=\"24px\">\n",
              "    <g>\n",
              "        <path d=\"M19 3H5c-1.1 0-2 .9-2 2v14c0 1.1.9 2 2 2h14c1.1 0 2-.9 2-2V5c0-1.1-.9-2-2-2zM9 17H7v-7h2v7zm4 0h-2V7h2v10zm4 0h-2v-4h2v4z\"/>\n",
              "    </g>\n",
              "</svg>\n",
              "  </button>\n",
              "\n",
              "<style>\n",
              "  .colab-df-quickchart {\n",
              "      --bg-color: #E8F0FE;\n",
              "      --fill-color: #1967D2;\n",
              "      --hover-bg-color: #E2EBFA;\n",
              "      --hover-fill-color: #174EA6;\n",
              "      --disabled-fill-color: #AAA;\n",
              "      --disabled-bg-color: #DDD;\n",
              "  }\n",
              "\n",
              "  [theme=dark] .colab-df-quickchart {\n",
              "      --bg-color: #3B4455;\n",
              "      --fill-color: #D2E3FC;\n",
              "      --hover-bg-color: #434B5C;\n",
              "      --hover-fill-color: #FFFFFF;\n",
              "      --disabled-bg-color: #3B4455;\n",
              "      --disabled-fill-color: #666;\n",
              "  }\n",
              "\n",
              "  .colab-df-quickchart {\n",
              "    background-color: var(--bg-color);\n",
              "    border: none;\n",
              "    border-radius: 50%;\n",
              "    cursor: pointer;\n",
              "    display: none;\n",
              "    fill: var(--fill-color);\n",
              "    height: 32px;\n",
              "    padding: 0;\n",
              "    width: 32px;\n",
              "  }\n",
              "\n",
              "  .colab-df-quickchart:hover {\n",
              "    background-color: var(--hover-bg-color);\n",
              "    box-shadow: 0 1px 2px rgba(60, 64, 67, 0.3), 0 1px 3px 1px rgba(60, 64, 67, 0.15);\n",
              "    fill: var(--button-hover-fill-color);\n",
              "  }\n",
              "\n",
              "  .colab-df-quickchart-complete:disabled,\n",
              "  .colab-df-quickchart-complete:disabled:hover {\n",
              "    background-color: var(--disabled-bg-color);\n",
              "    fill: var(--disabled-fill-color);\n",
              "    box-shadow: none;\n",
              "  }\n",
              "\n",
              "  .colab-df-spinner {\n",
              "    border: 2px solid var(--fill-color);\n",
              "    border-color: transparent;\n",
              "    border-bottom-color: var(--fill-color);\n",
              "    animation:\n",
              "      spin 1s steps(1) infinite;\n",
              "  }\n",
              "\n",
              "  @keyframes spin {\n",
              "    0% {\n",
              "      border-color: transparent;\n",
              "      border-bottom-color: var(--fill-color);\n",
              "      border-left-color: var(--fill-color);\n",
              "    }\n",
              "    20% {\n",
              "      border-color: transparent;\n",
              "      border-left-color: var(--fill-color);\n",
              "      border-top-color: var(--fill-color);\n",
              "    }\n",
              "    30% {\n",
              "      border-color: transparent;\n",
              "      border-left-color: var(--fill-color);\n",
              "      border-top-color: var(--fill-color);\n",
              "      border-right-color: var(--fill-color);\n",
              "    }\n",
              "    40% {\n",
              "      border-color: transparent;\n",
              "      border-right-color: var(--fill-color);\n",
              "      border-top-color: var(--fill-color);\n",
              "    }\n",
              "    60% {\n",
              "      border-color: transparent;\n",
              "      border-right-color: var(--fill-color);\n",
              "    }\n",
              "    80% {\n",
              "      border-color: transparent;\n",
              "      border-right-color: var(--fill-color);\n",
              "      border-bottom-color: var(--fill-color);\n",
              "    }\n",
              "    90% {\n",
              "      border-color: transparent;\n",
              "      border-bottom-color: var(--fill-color);\n",
              "    }\n",
              "  }\n",
              "</style>\n",
              "\n",
              "  <script>\n",
              "    async function quickchart(key) {\n",
              "      const quickchartButtonEl =\n",
              "        document.querySelector('#' + key + ' button');\n",
              "      quickchartButtonEl.disabled = true;  // To prevent multiple clicks.\n",
              "      quickchartButtonEl.classList.add('colab-df-spinner');\n",
              "      try {\n",
              "        const charts = await google.colab.kernel.invokeFunction(\n",
              "            'suggestCharts', [key], {});\n",
              "      } catch (error) {\n",
              "        console.error('Error during call to suggestCharts:', error);\n",
              "      }\n",
              "      quickchartButtonEl.classList.remove('colab-df-spinner');\n",
              "      quickchartButtonEl.classList.add('colab-df-quickchart-complete');\n",
              "    }\n",
              "    (() => {\n",
              "      let quickchartButtonEl =\n",
              "        document.querySelector('#df-a6c530c2-1364-4bdc-911f-a31ef4f00403 button');\n",
              "      quickchartButtonEl.style.display =\n",
              "        google.colab.kernel.accessAllowed ? 'block' : 'none';\n",
              "    })();\n",
              "  </script>\n",
              "</div>\n",
              "    </div>\n",
              "  </div>\n"
            ]
          },
          "metadata": {},
          "execution_count": 50
        }
      ]
    },
    {
      "cell_type": "code",
      "source": [
        "text6['발화문'] = text6.apply(tokenize_korean_text, axis=1)\n",
        "text6['발화문'] = text6['발화문'].apply(remove_stopwords)\n",
        "tokenized_doc6 = text6['발화문'].apply(lambda x: [word for word in x if len(word) > 1])\n",
        "print(tokenized_doc6[:5])"
      ],
      "metadata": {
        "colab": {
          "base_uri": "https://localhost:8080/"
        },
        "id": "ytwq5Wl70asY",
        "outputId": "dbfbcdcd-aae3-4e81-e0d6-87ed3e7b8803"
      },
      "execution_count": null,
      "outputs": [
        {
          "output_type": "stream",
          "name": "stderr",
          "text": [
            "/usr/local/lib/python3.10/dist-packages/ipykernel/ipkernel.py:283: DeprecationWarning: `should_run_async` will not call `transform_cell` automatically in the future. Please pass the result to `transformed_cell` argument and any exception that happen during thetransform in `preprocessing_exc_tuple` in IPython 7.17 and above.\n",
            "  and should_run_async(code)\n",
            "<ipython-input-51-e66a0cc1c598>:1: SettingWithCopyWarning: \n",
            "A value is trying to be set on a copy of a slice from a DataFrame.\n",
            "Try using .loc[row_indexer,col_indexer] = value instead\n",
            "\n",
            "See the caveats in the documentation: https://pandas.pydata.org/pandas-docs/stable/user_guide/indexing.html#returning-a-view-versus-a-copy\n",
            "  text6['발화문'] = text6.apply(tokenize_korean_text, axis=1)\n"
          ]
        },
        {
          "output_type": "stream",
          "name": "stdout",
          "text": [
            "47179           [지난주, 중량, 미달, 문의, 환불, 처리]\n",
            "47180               [답변, 양해, 최대한, 처리, 진행]\n",
            "47181        [물품, 배송, 교환, 물품, 수거, 교환, 물품]\n",
            "47182    [제품, 일시, 품절, 금일, 발송, 보시, 마음, 사은]\n",
            "47183                        [배송, 문자, 환불]\n",
            "Name: 발화문, dtype: object\n"
          ]
        },
        {
          "output_type": "stream",
          "name": "stderr",
          "text": [
            "<ipython-input-51-e66a0cc1c598>:2: SettingWithCopyWarning: \n",
            "A value is trying to be set on a copy of a slice from a DataFrame.\n",
            "Try using .loc[row_indexer,col_indexer] = value instead\n",
            "\n",
            "See the caveats in the documentation: https://pandas.pydata.org/pandas-docs/stable/user_guide/indexing.html#returning-a-view-versus-a-copy\n",
            "  text6['발화문'] = text6['발화문'].apply(remove_stopwords)\n"
          ]
        }
      ]
    },
    {
      "cell_type": "code",
      "source": [
        "dictionary6 = corpora.Dictionary(tokenized_doc6)\n",
        "corpus6 = [dictionary6.doc2bow(text6) for text6 in tokenized_doc6]\n",
        "print(corpus6[1]) # 수행된 결과에서 두번째 뉴스 출력. 첫번째 문서의 인덱스는 0"
      ],
      "metadata": {
        "colab": {
          "base_uri": "https://localhost:8080/"
        },
        "id": "42lQErNt0iMs",
        "outputId": "869ead9d-56a0-4d2b-f0df-04292d92c8ab"
      },
      "execution_count": null,
      "outputs": [
        {
          "output_type": "stream",
          "name": "stdout",
          "text": [
            "[(4, 1), (6, 1), (7, 1), (8, 1), (9, 1)]\n"
          ]
        },
        {
          "output_type": "stream",
          "name": "stderr",
          "text": [
            "/usr/local/lib/python3.10/dist-packages/ipykernel/ipkernel.py:283: DeprecationWarning: `should_run_async` will not call `transform_cell` automatically in the future. Please pass the result to `transformed_cell` argument and any exception that happen during thetransform in `preprocessing_exc_tuple` in IPython 7.17 and above.\n",
            "  and should_run_async(code)\n"
          ]
        }
      ]
    },
    {
      "cell_type": "code",
      "source": [
        "NUM_TOPICS = 10 # 10개의 토픽, k=10\n",
        "ldamodel6 = gensim.models.ldamodel.LdaModel(corpus6, num_topics = NUM_TOPICS, id2word=dictionary6, passes=15)\n",
        "topics6 = ldamodel6.print_topics(num_words=4)\n",
        "for topic in topics6:\n",
        "    print(topic)"
      ],
      "metadata": {
        "colab": {
          "base_uri": "https://localhost:8080/"
        },
        "id": "YfW9Xi9Z0rOi",
        "outputId": "c893acda-6856-45c6-9c8d-6339892c58ab"
      },
      "execution_count": null,
      "outputs": [
        {
          "output_type": "stream",
          "name": "stderr",
          "text": [
            "/usr/local/lib/python3.10/dist-packages/ipykernel/ipkernel.py:283: DeprecationWarning: `should_run_async` will not call `transform_cell` automatically in the future. Please pass the result to `transformed_cell` argument and any exception that happen during thetransform in `preprocessing_exc_tuple` in IPython 7.17 and above.\n",
            "  and should_run_async(code)\n"
          ]
        },
        {
          "output_type": "stream",
          "name": "stdout",
          "text": [
            "(0, '0.153*\"반품\" + 0.143*\"신청\" + 0.058*\"완료\" + 0.043*\"물건\"')\n",
            "(1, '0.308*\"교환\" + 0.070*\"사진\" + 0.042*\"제품\" + 0.039*\"잘못\"')\n",
            "(2, '0.082*\"제품\" + 0.059*\"박스\" + 0.038*\"폐기\" + 0.037*\"파손\"')\n",
            "(3, '0.115*\"하나요\" + 0.074*\"반품\" + 0.070*\"신청\" + 0.068*\"택배\"')\n",
            "(4, '0.073*\"확인\" + 0.065*\"접수\" + 0.058*\"진행\" + 0.057*\"회수\"')\n",
            "(5, '0.096*\"문의\" + 0.048*\"확인\" + 0.044*\"상태\" + 0.044*\"주문\"')\n",
            "(6, '0.354*\"환불\" + 0.136*\"처리\" + 0.025*\"구매\" + 0.025*\"입금\"')\n",
            "(7, '0.304*\"반품\" + 0.036*\"판매\" + 0.030*\"처리\" + 0.026*\"택배\"')\n",
            "(8, '0.165*\"취소\" + 0.124*\"배송\" + 0.059*\"주문\" + 0.040*\"처리\"')\n",
            "(9, '0.186*\"상품\" + 0.063*\"교환\" + 0.054*\"발송\" + 0.053*\"배송\"')\n"
          ]
        }
      ]
    },
    {
      "cell_type": "code",
      "source": [
        "pyLDAvis.enable_notebook()\n",
        "vis6 = pyLDAvis.gensim_models.prepare(ldamodel6, corpus6, dictionary6)\n",
        "pyLDAvis.display(vis6)"
      ],
      "metadata": {
        "colab": {
          "base_uri": "https://localhost:8080/",
          "height": 918
        },
        "id": "-UntvVOl0zU7",
        "outputId": "5efc77fb-5fff-49fd-977a-9d606aab900e"
      },
      "execution_count": null,
      "outputs": [
        {
          "output_type": "stream",
          "name": "stderr",
          "text": [
            "/usr/local/lib/python3.10/dist-packages/ipykernel/ipkernel.py:283: DeprecationWarning: `should_run_async` will not call `transform_cell` automatically in the future. Please pass the result to `transformed_cell` argument and any exception that happen during thetransform in `preprocessing_exc_tuple` in IPython 7.17 and above.\n",
            "  and should_run_async(code)\n"
          ]
        },
        {
          "output_type": "execute_result",
          "data": {
            "text/plain": [
              "<IPython.core.display.HTML object>"
            ],
            "text/html": [
              "\n",
              "<link rel=\"stylesheet\" type=\"text/css\" href=\"https://cdn.jsdelivr.net/gh/bmabey/pyLDAvis@3.4.0/pyLDAvis/js/ldavis.v1.0.0.css\">\n",
              "\n",
              "\n",
              "<div id=\"ldavis_el308139277446147408339468549\" style=\"background-color:white;\"></div>\n",
              "<script type=\"text/javascript\">\n",
              "\n",
              "var ldavis_el308139277446147408339468549_data = {\"mdsDat\": {\"x\": [-0.051282216376639246, -0.12050479108896422, -0.16907757256448086, 0.052716123050092954, -0.13857239774575592, 0.23073497933153428, -0.10030465576409056, 0.2841691259934625, 0.15921569751483003, -0.14709429234998858], \"y\": [0.020381357539147767, -0.145829905886662, 0.09219389730982977, -0.23853868716773652, 0.04379136748953739, -0.01856292933164917, 0.24230646716939688, -0.03840909278045172, 0.2072457399320796, -0.1645782142734931], \"topics\": [1, 2, 3, 4, 5, 6, 7, 8, 9, 10], \"cluster\": [1, 1, 1, 1, 1, 1, 1, 1, 1, 1], \"Freq\": [18.261626334729826, 11.410620034599098, 11.246584532440425, 9.676749559924076, 8.799912622308332, 8.662149513951524, 8.233095107289131, 7.966823138906729, 7.934724825660681, 7.807714330190175]}, \"tinfo\": {\"Term\": [\"\\ud658\\ubd88\", \"\\ubc18\\ud488\", \"\\uad50\\ud658\", \"\\uc0c1\\ud488\", \"\\ucde8\\uc18c\", \"\\uc2e0\\uccad\", \"\\ubc30\\uc1a1\", \"\\ud558\\ub098\\uc694\", \"\\ud0dd\\ubc30\", \"\\uc81c\\ud488\", \"\\uc811\\uc218\", \"\\ubb38\\uc758\", \"\\ucc98\\ub9ac\", \"\\ud68c\\uc218\", \"\\ud655\\uc778\", \"\\uc9c4\\ud589\", \"\\uc0ac\\uc9c4\", \"\\uc644\\ub8cc\", \"\\ubc1c\\uc1a1\", \"\\ubc15\\uc2a4\", \"\\uc8fc\\ubb38\", \"\\uae30\\uc0ac\", \"\\uc218\\uac70\", \"\\ud30c\\uc190\", \"\\uc624\\ub298\", \"\\ubb3c\\uac74\", \"\\uc0c1\\ud0dc\", \"\\ud574\\ub2f9\", \"\\ucd9c\\uace0\", \"\\ubcc0\\uacbd\", \"\\ud68c\\uc218\", \"\\ud574\\ub2f9\", \"\\uc608\\uc815\", \"\\ubc29\\ubb38\", \"\\uc804\\ub2ec\", \"\\uc811\\uc218\", \"\\ub0b4\\uc6a9\", \"\\uc21c\\ucc28\", \"\\ubb3c\\ub958\", \"\\uc775\\uc77c\", \"\\ubcc4\\ub3c4\", \"\\ud1b5\\uc6b4\", \"\\ub0c4\\uc0c8\", \"\\ucf54\\ub85c\\ub098\", \"\\ubb3c\\ub7c9\", \"\\ubd88\\ub85c\", \"\\uc6b0\\uccb4\\uad6d\", \"\\ub2f4\\ub2f9\\uc790\", \"\\uc12d\\ucde8\", \"\\ub2f9\\uc0ac\", \"\\ubbf8\\uac1c\", \"\\ud558\\ub8e8\", \"\\ud574\\ub3d9\", \"\\ub2f4\\ub2f9\", \"\\uc81c\\uc678\", \"\\ubb34\\uc0c1\", \"\\uba54\\ub274\", \"\\ubcf4\\uc2e0\", \"\\uad50\\uccb4\", \"\\uae30\\uc0ac\", \"\\uc9c4\\ud589\", \"\\uae08\\uc77c\", \"\\ud655\\uc778\", \"\\uc218\\uac70\", \"\\ucd9c\\uace0\", \"\\ud0dd\\ubc30\", \"\\uc694\\uccad\", \"\\uc870\\uce58\", \"\\uc0c1\\ud488\", \"\\ucc98\\ub9ac\", \"\\uc9c0\\uc5f0\", \"\\ubc18\\uc1a1\", \"\\ud604\\uc7ac\", \"\\ucc38\\uace0\", \"\\uc81c\\ud488\", \"\\uc624\\ub298\", \"\\ubc18\\ud488\", \"\\uc591\\ud574\", \"\\ubc30\\uc1a1\", \"\\uace0\\uac1d\", \"\\ud3ec\\uc7a5\", \"\\ub2e4\\uc2dc\", \"\\ucde8\\uc18c\", \"\\uc1a1\\uc7a5\", \"\\uc9c0\\uc5ed\", \"\\uacb0\\uc81c\", \"\\ubd88\\uac00\", \"\\uc900\\ube44\", \"\\uc911\\uc774\", \"\\ubc29\\ubc95\", \"\\ud488\\uc808\", \"\\ub300\\ub9ac\\uc810\", \"\\ucca8\\ubd80\", \"\\ub4f1\\ub85d\", \"\\uc0ac\\uc774\\ud2b8\", \"\\uc0ac\\uace0\", \"\\uc120\\ud0dd\", \"\\uc804\\uc774\", \"\\uc77c\\ubd80\", \"\\uc2a4\\ud30c\\uac8c\\ud2f0\", \"\\ub77c\\ub5bc\", \"\\uac80\\uc0c9\", \"\\ud638\\ub450\", \"\\uacb0\\uacfc\", \"\\uc5ec\\ub7ec\", \"\\uc2dc\\uc791\", \"\\ubc14\\ub2d0\\ub77c\", \"\\ud544\\uc694\", \"\\ub545\\ucf69\", \"\\uc774\\ub3d9\", \"\\uc6b0\\ub824\", \"\\uce74\\uce74\\uc624\", \"\\ubc30\\uc1a1\", \"\\uc8fc\\ubb38\", \"\\uc644\\ub8cc\", \"\\uc804\\uc0b0\", \"\\uc9c0\\uc5f0\", \"\\ubb38\\uac74\", \"\\uc624\\uc804\", \"\\ubc1c\\uc1a1\", \"\\uc9c0\\uae08\", \"\\ucc98\\ub9ac\", \"\\ubb38\\uc790\", \"\\ud655\\uc778\", \"\\ubc88\\ud638\", \"\\uacbd\\uc6b0\", \"\\uc694\\uccad\", \"\\ucd9c\\uace0\", \"\\ud604\\uc7ac\", \"\\uace0\\uac1d\", \"\\ub2e4\\uc2dc\", \"\\ubd88\\ud3b8\", \"\\ubbf8\\ub9ac\", \"\\ucc38\\uce58\", \"\\uc544\\ubaac\\ub4dc\", \"\\uad6c\\uc131\", \"\\uac00\\uc2b4\", \"\\uba3c\\uc800\", \"\\uc0ac\\uc740\", \"\\uc7a5\\ub09c\", \"\\ube44\\ub2d0\", \"\\uc5b4\\ucf00\", \"\\uc2dc\\uc2a4\\ud15c\", \"\\ubcf6\\uc74c\\ubc25\", \"\\uc0c1\\uc138\", \"\\ubb36\\uc74c\", \"\\uace0\\ucd94\", \"\\ud654\\uc694\\uc77c\", \"\\uc57c\\ucc44\", \"\\uc9c4\\uc2ec\", \"\\uc544\\uc774\\uc2a4\\ud06c\\ub9bc\", \"\\ub9c8\\uac10\", \"\\ube14\\ub8e8\\ubca0\\ub9ac\", \"\\uc0ac\\uc774\", \"\\uacf5\\uc9c0\", \"\\uba38\\uadf8\\ucef5\", \"\\uc544\\uc800\\uc528\", \"\\ub9c8\\uc74c\", \"\\uac08\\ube44\\ud0d5\", \"\\uc548\\uc2ec\", \"\\uc2e4\\ub9dd\", \"\\ub204\\ub77d\", \"\\ub9d0\\uc500\", \"\\uc0c1\\ud488\", \"\\ubc1c\\uc1a1\", \"\\uc1a1\\ud574\", \"\\uc624\\ub298\", \"\\uc218\\ub3c4\", \"\\ud1a0\\uc694\\uc77c\", \"\\uc218\\ub839\", \"\\ub0b4\\uc77c\", \"\\uc635\\uc158\", \"\\uc6d4\\uc694\\uc77c\", \"\\ubc30\\uc1a1\", \"\\ub2e4\\uc2dc\", \"\\uad50\\ud658\", \"\\uc804\\ud654\", \"\\ud30c\\uc190\", \"\\uc5b4\\uc81c\", \"\\uc774\\uc6a9\", \"\\uc8fc\\ubb38\", \"\\ucd9c\\uace0\", \"\\ucc98\\ub9ac\", \"\\ud3ec\\uc7a5\", \"\\uae08\\uc77c\", \"\\uc5f0\\ub77d\", \"\\ubcc0\\uacbd\", \"\\ub3c4\\ucc29\", \"\\uad6c\\ub9e4\", \"\\uae08\\uc561\", \"\\ud655\\uc815\", \"\\ud574\\ub3c4\", \"\\uc0dd\\uc218\", \"\\uc0ac\\uc774\\uc988\", \"\\ud68c\\uc0ac\", \"\\uac11\\uc790\\uae30\", \"\\uccad\\ud558\\uba74\", \"\\uc77c\\ub4dc\", \"\\uac74\\uc758\", \"\\ud604\\uc9c0\", \"\\ubc8c\\ub808\", \"\\ucd08\\ucf5c\\ub9bf\", \"\\uc804\\uc561\", \"\\uc591\\ub150\", \"\\ud3ec\\ud568\", \"\\uce58\\uc988\", \"\\ubca0\\ub85c\\ub098\", \"\\uc911\\uac04\", \"\\ud658\\ubd88\", \"\\ud06c\\ub9bc\", \"\\ucc3d\\uace0\", \"\\ud6c4\\uae30\", \"\\ub2e4\\ub9ac\", \"\\uc624\\uc9d5\\uc5b4\", \"\\ub2e4\\ud06c\", \"\\ubc84\\ud2bc\", \"\\ub179\\ucc28\", \"\\uac08\\ube44\", \"\\uae40\\uc7a5\", \"\\uc785\\uae08\", \"\\ub300\\uccb4\", \"\\uacc4\\uc18d\", \"\\ucc98\\ub9ac\", \"\\ucc28\\uc561\", \"\\uad6c\\ub9e4\", \"\\ub354\\ub2c8\", \"\\ucc98\\uc74c\", \"\\uc694\\uccad\", \"\\uc800\\ubc88\", \"\\ud3ed\\uc8fc\", \"\\uc8fc\\ubb38\", \"\\ub2e4\\uc2dc\", \"\\uc9c0\\uae08\", \"\\ud604\\uc7ac\", \"\\uacbd\\uc6b0\", \"\\ud55c\\ubc88\", \"\\ud3d0\\uae30\", \"\\uc2dd\\ud488\", \"\\uc790\\uccb4\", \"\\uc548\\ub0b4\", \"\\ucd94\\uac00\", \"\\uc6b0\\uc720\", \"\\ub178\\ub825\", \"\\ucc98\\ubd84\", \"\\uc0dd\\uc0b0\", \"\\ub9ac\\uc9c0\", \"\\ubd88\\ub7c9\", \"\\uc544\\ubb34\", \"\\uc704\\ud574\", \"\\uc2e0\\uc120\", \"\\uac10\\uc0ac\", \"\\uc0ac\\ud0dc\", \"\\uccad\\uc8fc\\uc2dc\", \"\\uac1c\\uc778\", \"\\ubc14\\uc774\\ub7ec\\uc2a4\", \"\\ub808\\ubaac\", \"\\ubd80\\ub4dd\\uc774\", \"\\uc608\\uc0c1\", \"\\ub9cc\\uc871\", \"\\ub354\\uc6b1\", \"\\ub9ac\\ubdf0\", \"\\uac00\\ub2a5\", \"\\uad00\\uacc4\", \"\\uac8c\\uc2dc\\ud310\", \"\\uc1a1\\uc774\", \"\\uc5f0\\ud734\", \"\\ubc15\\uc2a4\", \"\\ubb38\\uc81c\", \"\\uc2e0\\uacbd\", \"\\uc81c\\ud488\", \"\\uc5c5\\uccb4\", \"\\ub098\\uba38\\uc9c0\", \"\\ubd80\\ubd84\", \"\\ud30c\\uc190\", \"\\uc591\\ud574\", \"\\ubcc0\\uc9c8\", \"\\uacbd\\uc6b0\", \"\\ud2b9\\uc131\", \"\\uc815\\uc0c1\", \"\\ud3ec\\uc7a5\", \"\\uace0\\uac1d\", \"\\uc218\\ub839\", \"\\ucd9c\\uace0\", \"\\ucc98\\ub9ac\", \"\\uc9c4\\ud589\", \"\\ubc18\\uc1a1\", \"\\uc0c1\\ud488\", \"\\ud604\\uc7ac\", \"\\uad6c\\ub9e4\", \"\\ud310\\ub9e4\", \"\\ubc30\\uc1a1\\ube44\", \"\\uac1c\\ubd09\", \"\\ubd80\\ub2f4\", \"\\uc655\\ubcf5\", \"\\uae40\\uce58\", \"\\uae30\\ud55c\", \"\\uc720\\ud1b5\", \"\\ubcc0\\uc2ec\", \"\\ud558\\uc790\", \"\\ub0c9\\ub3d9\\uc2dd\\ud488\", \"\\ube44\\uc6a9\", \"\\uc0dd\\uac01\", \"\\ubcf4\\ub958\", \"\\ub2e8\\uc21c\", \"\\uacf0\\ud321\\uc774\", \"\\uc624\\ub958\", \"\\uc608\\uc57d\", \"\\uad6c\\uc785\", \"\\ucc28\\uac10\", \"\\uc219\\uc131\", \"\\uc790\\uac00\", \"\\ub86f\\ub370\", \"\\uc74c\\ub8cc\", \"\\uc9c0\\ub09c\", \"\\ud3ec\\ub300\", \"\\ubbf9\\uc2a4\", \"\\ubd80\\ud0c1\", \"\\uac70\\uae30\", \"\\uc9c0\\ubd88\", \"\\ubc18\\ud488\", \"\\ucca0\\ud68c\", \"\\uc0ac\\uc720\", \"\\ud1b5\\ud654\", \"\\uc544\\uc774\\uc2a4\\ubc15\\uc2a4\", \"\\ubc1c\\uc0dd\", \"\\uacbd\\uc6b0\", \"\\ud0dd\\ubc30\", \"\\uc8fc\\ubb38\", \"\\ucc98\\ub9ac\", \"\\uace0\\uad6c\\ub9c8\", \"\\ucc38\\uace0\", \"\\uace0\\uac1d\", \"\\ubcc0\\uacbd\", \"\\uc0ac\\uc9c4\", \"\\uc804\\uccb4\", \"\\ubb3c\\ud488\", \"\\uc790\\ub3d9\", \"\\ud604\\ubbf8\", \"\\uc138\\ud2b8\", \"\\uc2dc\\uc77c\", \"\\ub0a0\\uc528\", \"\\ucee4\\ud53c\", \"\\uc774\\uac74\", \"\\uac2f\\uc218\", \"\\uc120\\ubb3c\", \"\\ud1a0\\ub9c8\\ud1a0\", \"\\ub69c\\uaed1\", \"\\ud574\\ubb3c\", \"\\uc824\\ub9ac\", \"\\ud30c\\uc2a4\\ud0c0\", \"\\ubc31\\ubbf8\", \"\\uc99d\\uc815\", \"\\uac10\\uc790\", \"\\ud589\\uc0ac\", \"\\uc0c1\\ud574\", \"\\ub85c\\uc81c\", \"\\uc9c0\\uc815\", \"\\uc0c1\\ud558\", \"\\uc624\\ud508\", \"\\ubd80\\uc11c\", \"\\uc774\\ud2c0\", \"\\ubb34\\ubc29\", \"\\uc2dd\\ub2e8\", \"\\uc798\\ubabb\", \"\\uad50\\ud658\", \"\\uc77c\\ubc18\", \"\\uacfc\\uc815\", \"\\uace0\\uad6c\\ub9c8\", \"\\uc81c\\ud488\", \"\\ud30c\\uc190\", \"\\uc815\\ub9d0\", \"\\ud655\\uc778\", \"\\ub300\\uc2e0\", \"\\ubd80\\ubd84\", \"\\uacbd\\uc6b0\", \"\\ub2e4\\uc2dc\", \"\\ub3c4\\ucc29\", \"\\uc791\\uc5c5\", \"\\ubcf4\\uc2dc\", \"\\uc8fc\\ubb38\", \"\\uc2b9\\uc778\", \"\\ubcf4\\uad00\", \"\\uadf8\\ub300\\ub85c\", \"\\ubd09\\uc9c0\", \"\\uce74\\ub4dc\", \"\\ubc30\\ub2ec\", \"\\uc218\\ub7c9\", \"\\uae30\\uc900\", \"\\uc601\\uc5c5\\uc77c\", \"\\uc77c\\uc8fc\\uc77c\", \"\\ucd08\\ucf54\", \"\\ud558\\ub77c\", \"\\uc774\\uc81c\", \"\\ub300\\ud55c\", \"\\uace8\\ub4dc\", \"\\ubaa8\\uce74\", \"\\ubd80\\ubaa8\\ub2d8\", \"\\ub77c\\uc774\\ud2b8\", \"\\uc124\\uba85\", \"\\uc774\\uba74\", \"\\ud55c\\ucc38\", \"\\uc0c1\\uc628\", \"\\uc7ac\\ubc30\", \"\\uc74c\\uc2dd\", \"\\ub2f5\\uc7a5\", \"\\uc790\\uc5f0\", \"\\uc9c0\\ub3c4\", \"\\ub2c8\\uc694\", \"\\uc808\\ubc18\", \"\\ud6a8\\uacfc\", \"\\ubb3c\\uac74\", \"\\uc18c\\uc694\", \"\\uc2e0\\uccad\", \"\\uc644\\ub8cc\", \"\\ubc18\\ud488\", \"\\ub0c9\\uc7a5\", \"\\ub3c4\\ucc29\", \"\\uc624\\ud6c4\", \"\\uc774\\ub0b4\", \"\\uc218\\uac70\", \"\\uc870\\ud68c\", \"\\ucc98\\ub9ac\", \"\\ud658\\ubd88\", \"\\uc0c1\\ud55c\", \"\\ud558\\ub098\\uc694\", \"\\uc18c\\uc2a4\", \"\\uc218\\ucde8\", \"\\uc0c1\\uc790\", \"\\uccad\\ud574\", \"\\uc774\\uc720\", \"\\ubb54\\uac00\", \"\\uc624\\uc2dc\", \"\\ub3d9\\ubd09\", \"\\uc81c\\ub300\\ub85c\", \"\\uac70\\uc808\", \"\\ub3c4\\ub300\\uccb4\", \"\\ucf5c\\ub77c\", \"\\ubd80\\uc871\", \"\\ucea1\\uc290\", \"\\ubc29\\uc548\", \"\\uc2dc\\ub098\", \"\\uc548\\ud574\", \"\\uba70\\uce60\", \"\\uc6d0\\ub798\", \"\\uacc4\\ub780\", \"\\uc624\\uc9c0\", \"\\uace0\\uae30\", \"\\uae08\\uc8fc\", \"\\ud638\\ubc15\\uace0\\uad6c\\ub9c8\", \"\\uc694\\uc998\", \"\\uc1a1\\uae08\", \"\\uc2a4\\ud2f0\\ub85c\\ud3fc\", \"\\uc218\\ud655\", \"\\ud6fc\\uc190\", \"\\uc9c1\\uc811\", \"\\uac70\\ubd80\", \"\\uc808\\ucc28\", \"\\uc5f0\\ub77d\", \"\\uc2e0\\uccad\", \"\\ud0dd\\ubc30\", \"\\uc0ac\\ub78c\", \"\\uc0ac\\uacfc\", \"\\uad50\\ud658\", \"\\ubd80\\ubd84\", \"\\ubc18\\ud488\", \"\\uc7ac\\uace0\", \"\\ubc15\\uc2a4\", \"\\ubc30\\uc1a1\", \"\\ud3ec\\uc7a5\", \"\\uc218\\uac70\", \"\\ubb3c\\uac74\", \"\\uc804\\ud654\", \"\\ub2e4\\uc2dc\", \"\\uc694\\uccad\", \"\\uae30\\uc0ac\", \"\\uace0\\uad6c\\ub9c8\", \"\\ubb38\\uc758\", \"\\uc0c1\\ud0dc\", \"\\ub2f5\\ubcc0\", \"\\uacc4\\uc88c\", \"\\ub3c4\\uc6c0\", \"\\uc2e4\\uc218\", \"\\ub0c9\\ub3d9\", \"\\uae30\\uc7ac\", \"\\uac71\\uc815\", \"\\uc544\\uc774\\uc2a4\\ud329\", \"\\uc2dc\\uae30\", \"\\ub3c4\\uc2dc\\ub77d\", \"\\ud398\\ud2b8\\ubcd1\", \"\\uac08\\ub9ad\", \"\\uc11c\\ube44\\uc2a4\", \"\\uc131\\ud568\", \"\\ub538\\uae30\", \"\\uc81c\\uc870\", \"\\uc9c0\\uc2dc\", \"\\uc544\\ub798\", \"\\ud488\\ubaa9\", \"\\uc5c5\\ubb34\", \"\\ubb3c\\uc774\", \"\\uc804\\uc1a1\", \"\\uc774\\uc804\", \"\\ud734\\ubb34\", \"\\uc9c4\\uacf5\", \"\\uc784\\uc758\", \"\\uc9dc\\uc7a5\", \"\\ub77c\\ubca8\", \"\\ub2ec\\ub77c\", \"\\uc0ac\\uc6a9\", \"\\ubcc0\\uacbd\", \"\\ubc88\\ud638\", \"\\ubb38\\uc790\", \"\\ubcf4\\uace0\", \"\\uace0\\uac1d\", \"\\uc8fc\\ubb38\", \"\\ud655\\uc778\", \"\\uc13c\\ud130\", \"\\uad6c\\ub9e4\", \"\\uad00\\ub828\", \"\\uc785\\uae08\", \"\\ud604\\uc7ac\", \"\\uc591\\ud574\", \"\\ud3ec\\uc7a5\", \"\\uc0ac\\ud56d\", \"\\ub2e4\\uc2dc\"], \"Freq\": [1426.0, 1870.0, 1455.0, 1175.0, 721.0, 648.0, 958.0, 349.0, 625.0, 528.0, 461.0, 288.0, 1488.0, 396.0, 848.0, 454.0, 219.0, 301.0, 337.0, 244.0, 635.0, 296.0, 406.0, 254.0, 231.0, 164.0, 131.0, 198.0, 442.0, 170.0, 394.8367632439811, 197.34370470719333, 157.33800279839798, 149.84568783849718, 115.87635470021888, 456.73415686622366, 69.02503262938296, 34.03722656395049, 33.70171701289786, 33.543878944028656, 30.30757253908614, 27.71511550871316, 26.602616788385042, 25.21669077533879, 22.91075161077731, 21.32280054409159, 19.204563385302293, 19.19559786300235, 17.6412780736565, 15.979149260716566, 15.523531953629371, 54.18321369156339, 13.689715177197291, 12.93354393769463, 10.928706652776595, 10.72303295350037, 10.612250869056549, 10.591969504818545, 10.042054056899577, 269.7604363723142, 405.9504988305928, 120.60572787381746, 512.6420222631825, 251.72748984758368, 256.1111197020201, 333.207925549783, 223.5342944473485, 34.472345441651505, 330.9239904500175, 380.54897911402736, 70.63592593757254, 57.349685279171375, 74.32650173194054, 38.48611579507001, 118.1970754322865, 74.52087503586228, 172.98937880750026, 62.19483303562182, 94.57545090781633, 51.50434359478619, 45.45269083630767, 42.03190669667037, 721.1563333071701, 105.18919100261262, 69.85454777503521, 56.42056419338512, 55.87965645111504, 51.609247898435896, 46.5360280913976, 44.768298252668075, 36.525902495134154, 35.18009061119091, 33.96651669462208, 33.41153987297123, 30.89524926376284, 24.063843590532777, 23.390299622719798, 22.854920760431675, 20.82512688718802, 20.252474311416243, 19.86201265615244, 19.48921862729184, 16.488141150734965, 14.595624429854785, 14.103989960323576, 14.30133094666965, 11.742251967501666, 11.010634440583827, 10.59657192497808, 10.50548662437125, 9.87178980866638, 9.698848230928665, 541.1869131184744, 259.5574788788243, 123.99747756668008, 18.17487523444767, 60.66209090113095, 42.50617153634579, 21.635267311005062, 88.77107115603722, 36.471812533678914, 175.9984773955685, 48.88332922561172, 106.0602547665616, 44.864997774292966, 45.41105848960025, 51.52176520871036, 43.96914447128486, 33.12902243680389, 33.488135484805056, 29.452008395528946, 60.696181930385826, 21.63067351075331, 17.80482523697053, 16.600663371717307, 15.920036298646837, 14.918884055290041, 48.02161393583639, 26.396558052017088, 13.735930984771626, 13.453952148032121, 13.450300189845253, 12.94413397861978, 12.583144871296684, 12.242428287552725, 12.072446506862063, 11.693054414192588, 11.371195433019258, 11.36007433413707, 10.971417663144344, 10.189616227768838, 10.107967374837454, 9.577785558129221, 9.396386276137035, 8.484833680338363, 8.35641933488078, 8.343683543764884, 8.24458850451305, 8.004194626798306, 7.984586505263857, 7.916301796550166, 48.65327953494282, 64.7323857995388, 799.0240181140756, 233.22696735119058, 24.52467263252969, 153.83442576629542, 27.818184163906917, 22.132190409705238, 82.59315899587776, 56.787050584927215, 24.575669870407605, 33.20691232686382, 227.40133000582045, 101.56230500668916, 272.8974831766609, 26.270835360962106, 71.96332709654487, 34.76025326520491, 19.283212412162896, 101.67400866439723, 77.55686532582376, 92.06830319999814, 39.761579460653635, 32.10400292995857, 25.652587979487713, 26.286903175896704, 24.062298877401354, 25.305674983004426, 43.22164846736934, 39.856922301748945, 22.051020835859422, 19.85295860320152, 19.333402992205105, 18.621599863551207, 17.348988362551378, 13.956556160032136, 12.099310835358091, 11.702477019857524, 11.611992344634308, 11.588582177996301, 11.430021830681438, 11.399074505390852, 10.941390282140263, 10.398274588455827, 10.377471582549726, 9.963695530224243, 9.282264187082705, 1309.1164107062698, 8.809671932720365, 8.511950719597442, 8.264442767365285, 8.261378965791373, 8.115620070609575, 7.923887781675711, 7.912721620708925, 7.539730488266526, 7.415067538398908, 7.413346088583195, 92.4481619169224, 31.98230779009866, 27.05988666105464, 502.6860645008554, 22.783190146066786, 93.93858937638608, 10.757457074153264, 16.26319638429462, 87.13075335223522, 13.034794741742877, 12.130936229219733, 48.37527288582642, 28.54085734715632, 16.872431087142033, 17.687900302796223, 15.194563762659355, 11.50719585615343, 127.35670220169641, 80.61433903627362, 45.04976225756287, 47.26945302718931, 33.415330344787655, 31.5753939977788, 30.76024299673648, 29.6557114158644, 28.82427268902903, 24.163400644244824, 23.49332385584389, 22.521759601960213, 21.563164101074737, 19.81033120203649, 18.538326259736625, 15.342576989779088, 15.100957964158132, 14.957579279639518, 14.805859286250747, 14.172519985197534, 13.957723838391239, 13.850175329960562, 13.749460646061682, 13.708250850708058, 13.3575006148043, 13.157867065147663, 12.903635002687352, 12.81980116601818, 12.22134790455201, 11.71496558102797, 197.22536066345552, 69.44966556946113, 24.28741081896913, 276.5871588561473, 45.11479406633826, 29.716449558229083, 107.83665418965485, 124.96731758695461, 103.32289506554136, 20.182244198844145, 91.32307527527755, 25.568579761695943, 32.36458868844628, 52.73095595879625, 58.01756250058579, 40.68844082728197, 64.17750079031434, 100.0069121668631, 47.69438496901159, 29.88871960319088, 44.42721510270329, 26.68643424469353, 26.484255835821198, 120.13261858319315, 79.46904122348872, 60.788063351910594, 48.680373371716485, 35.210921578277784, 37.92740215171554, 25.70490547078473, 25.164464522807247, 24.621715995468193, 24.06015822833305, 21.04470576011114, 20.10996644372325, 19.549150618882834, 19.248006884699556, 17.72147372454187, 17.470074059096017, 17.230173727968673, 16.34701096981122, 16.108623830765225, 16.076376334687065, 15.462842501932014, 13.323994083682138, 13.081175343362222, 12.883430754321749, 12.70198961452064, 12.543473874626814, 11.763071666788843, 10.235989376783081, 10.141932380305606, 10.122687384380074, 1006.0874243681769, 23.47793250941606, 30.292143409144483, 15.669818179668544, 22.210479120079384, 24.627509623865283, 57.2066569927698, 85.75189495522648, 69.41867547409959, 98.5241801315486, 28.95900421798094, 20.95744964425208, 21.584339980811816, 18.334264072502616, 218.92808467627313, 61.54336401436606, 39.877239844028814, 37.669011402757505, 27.431298786698196, 20.710022637788285, 17.29814376324048, 16.35609476409991, 13.469751317099163, 13.39608584045461, 13.002723396148731, 11.050770794062288, 10.908648881065307, 10.769083107035206, 10.765711818503897, 10.263505648949641, 9.9562367799532, 9.940211613920814, 9.891771790883437, 9.702689346055035, 9.087100416987157, 8.89297020246391, 8.450278747691108, 8.293110287967961, 7.966672942388523, 7.920312777007881, 7.201845668694627, 7.164154530965924, 7.098189725341462, 6.32275377853926, 124.13768452831181, 970.6183610747252, 20.389743629880414, 20.622395525708352, 53.23802794902798, 131.0411803250877, 57.28552116253675, 15.138890270170247, 71.08539925665221, 12.063696754610813, 33.534813251765975, 29.93063824921489, 22.867557865949323, 17.1294649811606, 11.161714702316143, 10.888465132767621, 10.789343825390684, 93.43912829437001, 57.05332543909406, 52.25236359676663, 44.38937032521099, 33.06023452713611, 28.08050761144569, 28.005226757429007, 25.613555841229932, 22.167239372582003, 31.14906497027733, 17.37757022582921, 16.819567777726718, 14.24411959049314, 13.976607549244813, 13.46150457620282, 12.152215831947546, 11.602962385554703, 11.464258717214891, 10.013274307764664, 9.498094725983849, 8.899462691378574, 8.444650795790238, 8.382294119749059, 7.997702645374044, 7.9854906449335274, 7.577854836316466, 7.418042623070235, 7.1175923708289135, 7.03934221884267, 6.957238931029702, 131.89714078759266, 37.50214539740389, 435.8790729128167, 177.24887860197956, 465.86884053737197, 14.577508053727456, 44.970654736513914, 14.760696572417299, 15.328658156566775, 87.8109623143966, 22.62699820654581, 129.32989682881487, 117.09677507526855, 13.653190990180615, 348.6172919199562, 30.904271688849878, 30.875153316670705, 28.702132622362353, 25.06837228426051, 18.704528589291527, 17.509297689569095, 15.578928212801209, 15.266486440279866, 15.350908242539244, 13.798438944151814, 13.788576452022028, 13.061768713600811, 12.671483901478583, 12.0603951287372, 11.556138481525178, 11.488382595407751, 11.444467659104921, 11.244550139554892, 10.951121923673158, 10.762460079238586, 10.60460086065349, 10.36382888588274, 7.965314601817875, 7.906784667328161, 7.02253312188147, 6.728957251210686, 6.321351613906081, 6.288365957921861, 6.254452690750934, 98.0142041347813, 35.36520687188513, 20.285310870099682, 67.82596350419878, 212.20886372441143, 205.90035030584795, 15.594295614578224, 24.80821443670743, 205.31386830967392, 61.68069269892159, 224.08319121151496, 16.573990085294657, 46.14231374101159, 84.55464918058875, 37.870669851049655, 47.10034887908368, 31.794125638493504, 19.7674692758129, 33.02736952185026, 34.88640407345133, 26.159562369800625, 17.209234898931573, 287.6476809207064, 130.64327037925534, 108.17273345143452, 70.73612578039032, 61.14106668776551, 49.892645538579075, 39.15514920812808, 27.611643532766685, 25.235879274676172, 22.389380966695285, 19.283898499684497, 19.070346718748148, 17.74538468990317, 16.997903404123843, 14.899733103416267, 14.272380603389582, 13.448217494034235, 13.033935714784752, 12.774096492177183, 12.171624256739783, 12.03072646330708, 11.745076833779391, 11.6981873717356, 11.112919988724023, 10.826457006037089, 10.804467273444512, 9.599264197975488, 9.204592571947552, 8.671299846159165, 8.520678659018433, 25.968642344141323, 36.404060701595114, 125.15477994482124, 101.86826488208696, 76.3574778009743, 22.082805220244808, 80.53797400477785, 129.97144345041156, 143.5760472065862, 25.377436092719957, 38.74132624348125, 14.987989568104656, 23.351238509348452, 23.686328888180135, 23.029555249345183, 17.907720248057984, 15.196479094591739, 15.983037481044239], \"Total\": [1426.0, 1870.0, 1455.0, 1175.0, 721.0, 648.0, 958.0, 349.0, 625.0, 528.0, 461.0, 288.0, 1488.0, 396.0, 848.0, 454.0, 219.0, 301.0, 337.0, 244.0, 635.0, 296.0, 406.0, 254.0, 231.0, 164.0, 131.0, 198.0, 442.0, 170.0, 396.20239634809985, 198.19078497862404, 158.17283425938632, 150.68048299477414, 116.71115969249418, 461.2817708893296, 69.85991707235966, 34.872069502667756, 34.53654622691087, 34.378724305197125, 31.142475264011356, 28.549963109052236, 27.43764161749352, 26.051873534211108, 23.745606047824594, 22.157752497255867, 20.039396510925187, 20.030429375535814, 18.47622345509003, 16.813987018555682, 16.35863462109815, 57.149222501747836, 14.524672625314226, 13.76839149973196, 11.763567454852609, 11.557872284053195, 11.447202588599538, 11.426953710175779, 10.87699046058361, 296.67570726043186, 454.42088430572073, 153.45273854065744, 848.2568447848598, 406.4329644037246, 442.3934619795283, 625.5232964767616, 406.76944774455984, 48.89850251795469, 1175.02806351797, 1488.2342729867187, 140.74673342977394, 109.58639182673562, 175.9665898652607, 60.18320811442697, 528.0560870249557, 231.44432475298407, 1870.4787245470072, 217.08488712311006, 958.0916710188678, 261.13054942394166, 194.1950511751702, 299.24422889706534, 721.9863869421263, 106.02074893782184, 70.68455381075327, 57.250622328231294, 56.709685007188945, 52.4392686328581, 47.36612314807885, 45.59851390932722, 37.35597927248381, 36.01011587426429, 34.79663700192982, 34.24156798402887, 31.7253031521968, 24.893890587981332, 24.220396222386647, 23.684940777249547, 21.655221166808055, 21.08259200114538, 20.692038300542173, 20.319282412603286, 17.31819248691189, 15.425681907485163, 14.93416118428057, 15.221778481504591, 12.576381044527633, 11.84073237788469, 11.426678944513883, 11.335566435537833, 10.701934779030823, 10.528889441343892, 958.0916710188678, 635.2623608260582, 301.978031798073, 23.888066218720173, 140.74673342977394, 86.74418205439805, 31.62846206687182, 337.99727206477314, 79.65842629559448, 1488.2342729867187, 139.7561626732923, 848.2568447848598, 147.4655546080695, 250.7878183788108, 406.76944774455984, 442.3934619795283, 175.9665898652607, 261.13054942394166, 299.24422889706534, 61.52926145049754, 22.463772732608096, 18.637872851429158, 17.433801786757922, 16.753128480370933, 15.751972560614972, 50.89044320647529, 27.988727434658905, 14.569071160683155, 14.287096092133385, 14.283514002571346, 13.777313327267414, 13.416228637310773, 13.075506545037733, 12.905526445264893, 12.526113497129362, 12.204278153944745, 12.193207843654964, 11.804465199423387, 11.022720396610346, 10.941113082341056, 10.410853749176624, 10.229498307039385, 9.31796804984668, 9.18946086077426, 9.176826335270258, 9.078477352332353, 8.837251130443953, 8.817676817017038, 8.749346235221203, 59.608785582916624, 80.90952469921241, 1175.02806351797, 337.99727206477314, 30.058045810581262, 231.44432475298407, 35.793047522975634, 27.730012518091755, 135.12178813469055, 91.81377177227255, 33.30785521949418, 58.61926615450998, 958.0916710188678, 299.24422889706534, 1455.0218426556248, 46.79212881191104, 254.86914555973937, 79.14127878652984, 28.402127902523144, 635.2623608260582, 442.3934619795283, 1488.2342729867187, 194.1950511751702, 153.45273854065744, 94.2323733317231, 170.4164875937531, 105.4002912322152, 207.9124748918407, 44.04920949672779, 40.684484162835275, 22.878618127485872, 20.68051255677986, 20.160998497895502, 19.44920484507951, 18.176555148653506, 14.784404462536276, 12.926827273073656, 12.530224511131843, 12.439517458404728, 12.416177037814016, 12.257561707130844, 12.226579439202759, 11.768937699979967, 11.225900681397556, 11.205103600683238, 10.791258694058994, 10.109886393507253, 1426.9441612949636, 9.63751316518921, 9.339790349603199, 9.09203852872669, 9.08897599732511, 8.943194238578519, 8.75140116530279, 8.74032707020685, 8.367334055312321, 8.242565465338526, 8.240886804149604, 116.52919477393893, 45.20768498202851, 39.226911093296, 1488.2342729867187, 32.41386293995686, 207.9124748918407, 13.740219039889743, 26.974287036922853, 406.76944774455984, 20.092377804467354, 18.264668508180492, 635.2623608260582, 299.24422889706534, 79.65842629559448, 175.9665898652607, 250.7878183788108, 22.00701893779231, 128.1872078801779, 81.44463467321788, 45.8803636586266, 48.14809754906572, 34.24564479805805, 32.40570974315879, 31.590660006535103, 30.485969725963884, 29.654542838027908, 24.99372129741366, 24.323650729113048, 23.35209866928394, 22.39348353176994, 20.640601531437643, 19.368683507628937, 16.172815139251963, 15.931266048516209, 15.787920599310407, 15.636097676041647, 15.002853723649556, 14.787989613394345, 14.680844125254287, 14.579852082090497, 14.538546219734476, 14.18783694015293, 13.988292940832908, 13.733930863996214, 13.6501186279135, 13.051658109730452, 12.54691629170045, 244.12260211849073, 85.29372356015038, 27.556301730622245, 528.0560870249557, 64.47183395183225, 38.786346604225194, 203.71832540099066, 254.86914555973937, 217.08488712311006, 24.461702418644837, 250.7878183788108, 36.81357206568692, 58.7161404070666, 194.1950511751702, 261.13054942394166, 135.12178813469055, 442.3934619795283, 1488.2342729867187, 454.42088430572073, 109.58639182673562, 1175.02806351797, 175.9665898652607, 207.9124748918407, 120.96239302441104, 80.29867959025421, 61.61782315649543, 49.50999921828318, 36.040530170641574, 38.87066314401329, 26.53453052244934, 25.99409553091553, 25.451333008486976, 24.88981152206104, 21.874403610236087, 20.93959596159231, 20.378868739406197, 20.077844050493656, 18.55109461893358, 18.299736478857778, 18.059844283398007, 17.17668483358618, 16.938289971908148, 16.906030953477444, 16.292508721286183, 14.15362032351972, 13.910899035230022, 13.713200770530174, 13.531633004768675, 13.373116958389742, 12.592709022839571, 11.065678769370232, 10.97156502137814, 10.952294541437468, 1870.4787245470072, 28.990650997250764, 40.469299492508526, 19.127171967738303, 34.02387252292055, 45.91801781844222, 250.7878183788108, 625.5232964767616, 635.2623608260582, 1488.2342729867187, 100.07108148593785, 60.18320811442697, 261.13054942394166, 170.4164875937531, 219.76742563645087, 62.38270201805349, 40.71656092431503, 38.50839025458472, 28.270624822070374, 21.549346614262888, 18.137452477621054, 17.195417612286125, 14.309026785485939, 14.23538877078552, 13.841982437636945, 11.890064487203617, 11.747909516346473, 11.608413599220528, 11.605137149998903, 11.102885983964676, 10.79553718225698, 10.779469934837975, 10.731084200927539, 10.54207475872339, 9.926473476419105, 9.732252176512043, 9.289634283573239, 9.13243350865632, 8.806027453543333, 8.759662921271355, 8.041136179990195, 8.00351196516316, 7.937495717957611, 7.162082653167469, 140.91833923503455, 1455.0218426556248, 24.892635069350003, 28.582660706705465, 100.07108148593785, 528.0560870249557, 254.86914555973937, 25.839795665931884, 848.2568447848598, 18.758837693797982, 203.71832540099066, 250.7878183788108, 299.24422889706534, 105.4002912322152, 17.780570970993054, 16.748973518008064, 635.2623608260582, 94.26714787489851, 57.87989571182003, 53.07891984965645, 45.21589270800223, 33.88674373529456, 28.90703816339692, 28.831821231500367, 26.440057102493544, 22.993724283379606, 32.59463242143149, 18.204141533532386, 17.646141259273257, 15.07069266720614, 14.803137019483103, 14.28799235755515, 12.978703899496544, 12.429473835165387, 12.290777851222616, 10.839887945356784, 10.324651996211891, 9.72596325695986, 9.2712936977482, 9.208833713181127, 8.824185263083615, 8.812010306182028, 8.40440228612985, 8.244551311528605, 7.944157236801738, 7.865952001110116, 7.783720810217566, 164.45239874848315, 44.925498692872594, 648.8352226681641, 301.978031798073, 1870.4787245470072, 20.251415717552483, 105.4002912322152, 21.198664532419322, 22.98946596910462, 406.4329644037246, 46.942983997830076, 1488.2342729867187, 1426.9441612949636, 19.818424308174542, 349.5176800469597, 31.749962849217933, 31.720830779357463, 29.547741100596298, 25.91394783162137, 19.550142207323393, 18.354910028713043, 16.424510363072734, 16.112129075654426, 16.231681407409905, 14.644060492421135, 14.634174493147109, 13.907368177292035, 13.51714628644766, 12.906007625003852, 12.401747549436445, 12.333958459295486, 12.290043376829926, 12.09022170281434, 11.796744548014761, 11.608039227330273, 11.450244222576147, 11.209444267344963, 8.810975066083719, 8.752390546561509, 7.868219495634401, 7.574624650320198, 7.166999551416436, 7.134012067250614, 7.100039031136697, 112.94629983780166, 40.960539235084205, 25.14587812031843, 94.2323733317231, 648.8352226681641, 625.5232964767616, 22.13226100075311, 43.08859243554544, 1455.0218426556248, 203.71832540099066, 1870.4787245470072, 26.394970583766522, 244.12260211849073, 958.0916710188678, 194.1950511751702, 406.4329644037246, 164.45239874848315, 46.79212881191104, 299.24422889706534, 406.76944774455984, 296.67570726043186, 100.07108148593785, 288.4758988441073, 131.55806615118541, 109.00562132583345, 71.56324987208897, 61.97355365875597, 50.720483067368896, 39.98234393458212, 28.43884067210841, 26.0630515079354, 23.216546045383854, 20.11108178052151, 19.897506928994403, 18.572532617788134, 17.825133448170035, 15.726861981611588, 15.099480829404884, 14.275369739855746, 13.861101576718752, 13.601323446766214, 12.998760797464785, 12.857881335953643, 12.572198014611017, 12.525424911361073, 11.940094566155716, 11.653628140454547, 11.63162179243681, 10.426444075463767, 10.031766661349321, 9.498461096003885, 9.347845401192382, 29.180363443722793, 44.15561272637095, 170.4164875937531, 147.4655546080695, 139.7561626732923, 29.109801192225234, 261.13054942394166, 635.2623608260582, 848.2568447848598, 58.86983206393545, 207.9124748918407, 23.36160238605511, 116.52919477393893, 175.9665898652607, 217.08488712311006, 194.1950511751702, 28.53920532226796, 299.24422889706534], \"Category\": [\"Default\", \"Default\", \"Default\", \"Default\", \"Default\", \"Default\", \"Default\", \"Default\", \"Default\", \"Default\", \"Default\", \"Default\", \"Default\", \"Default\", \"Default\", \"Default\", \"Default\", \"Default\", \"Default\", \"Default\", \"Default\", \"Default\", \"Default\", \"Default\", \"Default\", \"Default\", \"Default\", \"Default\", \"Default\", \"Default\", \"Topic1\", \"Topic1\", \"Topic1\", \"Topic1\", \"Topic1\", \"Topic1\", \"Topic1\", \"Topic1\", \"Topic1\", \"Topic1\", \"Topic1\", \"Topic1\", \"Topic1\", \"Topic1\", \"Topic1\", \"Topic1\", \"Topic1\", \"Topic1\", \"Topic1\", \"Topic1\", \"Topic1\", \"Topic1\", \"Topic1\", \"Topic1\", \"Topic1\", \"Topic1\", \"Topic1\", \"Topic1\", \"Topic1\", \"Topic1\", \"Topic1\", \"Topic1\", \"Topic1\", \"Topic1\", \"Topic1\", \"Topic1\", \"Topic1\", \"Topic1\", \"Topic1\", \"Topic1\", \"Topic1\", \"Topic1\", \"Topic1\", \"Topic1\", \"Topic1\", \"Topic1\", \"Topic1\", \"Topic1\", \"Topic1\", \"Topic1\", \"Topic1\", \"Topic1\", \"Topic2\", \"Topic2\", \"Topic2\", \"Topic2\", \"Topic2\", \"Topic2\", \"Topic2\", \"Topic2\", \"Topic2\", \"Topic2\", \"Topic2\", \"Topic2\", \"Topic2\", \"Topic2\", \"Topic2\", \"Topic2\", \"Topic2\", \"Topic2\", \"Topic2\", \"Topic2\", \"Topic2\", \"Topic2\", \"Topic2\", \"Topic2\", \"Topic2\", \"Topic2\", \"Topic2\", \"Topic2\", \"Topic2\", \"Topic2\", \"Topic2\", \"Topic2\", \"Topic2\", \"Topic2\", \"Topic2\", \"Topic2\", \"Topic2\", \"Topic2\", \"Topic2\", \"Topic2\", \"Topic2\", \"Topic2\", \"Topic2\", \"Topic2\", \"Topic2\", \"Topic2\", \"Topic2\", \"Topic2\", \"Topic2\", \"Topic3\", \"Topic3\", \"Topic3\", \"Topic3\", \"Topic3\", \"Topic3\", \"Topic3\", \"Topic3\", \"Topic3\", \"Topic3\", \"Topic3\", \"Topic3\", \"Topic3\", \"Topic3\", \"Topic3\", \"Topic3\", \"Topic3\", \"Topic3\", \"Topic3\", \"Topic3\", \"Topic3\", \"Topic3\", \"Topic3\", \"Topic3\", \"Topic3\", \"Topic3\", \"Topic3\", \"Topic3\", \"Topic3\", \"Topic3\", \"Topic3\", \"Topic3\", \"Topic3\", \"Topic3\", \"Topic3\", \"Topic3\", \"Topic3\", \"Topic3\", \"Topic3\", \"Topic3\", \"Topic3\", \"Topic3\", \"Topic3\", \"Topic3\", \"Topic3\", \"Topic3\", \"Topic3\", \"Topic3\", \"Topic3\", \"Topic3\", \"Topic3\", \"Topic3\", \"Topic3\", \"Topic3\", \"Topic3\", \"Topic3\", \"Topic3\", \"Topic3\", \"Topic4\", \"Topic4\", \"Topic4\", \"Topic4\", \"Topic4\", \"Topic4\", \"Topic4\", \"Topic4\", \"Topic4\", \"Topic4\", \"Topic4\", \"Topic4\", \"Topic4\", \"Topic4\", \"Topic4\", \"Topic4\", \"Topic4\", \"Topic4\", \"Topic4\", \"Topic4\", \"Topic4\", \"Topic4\", \"Topic4\", \"Topic4\", \"Topic4\", \"Topic4\", \"Topic4\", \"Topic4\", \"Topic4\", \"Topic4\", \"Topic4\", \"Topic4\", \"Topic4\", \"Topic4\", \"Topic4\", \"Topic4\", \"Topic4\", \"Topic4\", \"Topic4\", \"Topic4\", \"Topic4\", \"Topic4\", \"Topic4\", \"Topic4\", \"Topic4\", \"Topic4\", \"Topic4\", \"Topic5\", \"Topic5\", \"Topic5\", \"Topic5\", \"Topic5\", \"Topic5\", \"Topic5\", \"Topic5\", \"Topic5\", \"Topic5\", \"Topic5\", \"Topic5\", \"Topic5\", \"Topic5\", \"Topic5\", \"Topic5\", \"Topic5\", \"Topic5\", \"Topic5\", \"Topic5\", \"Topic5\", \"Topic5\", \"Topic5\", \"Topic5\", \"Topic5\", \"Topic5\", \"Topic5\", \"Topic5\", \"Topic5\", \"Topic5\", \"Topic5\", \"Topic5\", \"Topic5\", \"Topic5\", \"Topic5\", \"Topic5\", \"Topic5\", \"Topic5\", \"Topic5\", \"Topic5\", \"Topic5\", \"Topic5\", \"Topic5\", \"Topic5\", \"Topic5\", \"Topic5\", \"Topic5\", \"Topic5\", \"Topic5\", \"Topic5\", \"Topic5\", \"Topic5\", \"Topic5\", \"Topic6\", \"Topic6\", \"Topic6\", \"Topic6\", \"Topic6\", \"Topic6\", \"Topic6\", \"Topic6\", \"Topic6\", \"Topic6\", \"Topic6\", \"Topic6\", \"Topic6\", \"Topic6\", \"Topic6\", \"Topic6\", \"Topic6\", \"Topic6\", \"Topic6\", \"Topic6\", \"Topic6\", \"Topic6\", \"Topic6\", \"Topic6\", \"Topic6\", \"Topic6\", \"Topic6\", \"Topic6\", \"Topic6\", \"Topic6\", \"Topic6\", \"Topic6\", \"Topic6\", \"Topic6\", \"Topic6\", \"Topic6\", \"Topic6\", \"Topic6\", \"Topic6\", \"Topic6\", \"Topic6\", \"Topic6\", \"Topic6\", \"Topic6\", \"Topic7\", \"Topic7\", \"Topic7\", \"Topic7\", \"Topic7\", \"Topic7\", \"Topic7\", \"Topic7\", \"Topic7\", \"Topic7\", \"Topic7\", \"Topic7\", \"Topic7\", \"Topic7\", \"Topic7\", \"Topic7\", \"Topic7\", \"Topic7\", \"Topic7\", \"Topic7\", \"Topic7\", \"Topic7\", \"Topic7\", \"Topic7\", \"Topic7\", \"Topic7\", \"Topic7\", \"Topic7\", \"Topic7\", \"Topic7\", \"Topic7\", \"Topic7\", \"Topic7\", \"Topic7\", \"Topic7\", \"Topic7\", \"Topic7\", \"Topic7\", \"Topic7\", \"Topic7\", \"Topic7\", \"Topic7\", \"Topic7\", \"Topic7\", \"Topic7\", \"Topic7\", \"Topic7\", \"Topic8\", \"Topic8\", \"Topic8\", \"Topic8\", \"Topic8\", \"Topic8\", \"Topic8\", \"Topic8\", \"Topic8\", \"Topic8\", \"Topic8\", \"Topic8\", \"Topic8\", \"Topic8\", \"Topic8\", \"Topic8\", \"Topic8\", \"Topic8\", \"Topic8\", \"Topic8\", \"Topic8\", \"Topic8\", \"Topic8\", \"Topic8\", \"Topic8\", \"Topic8\", \"Topic8\", \"Topic8\", \"Topic8\", \"Topic8\", \"Topic8\", \"Topic8\", \"Topic8\", \"Topic8\", \"Topic8\", \"Topic8\", \"Topic8\", \"Topic8\", \"Topic8\", \"Topic8\", \"Topic8\", \"Topic8\", \"Topic8\", \"Topic8\", \"Topic9\", \"Topic9\", \"Topic9\", \"Topic9\", \"Topic9\", \"Topic9\", \"Topic9\", \"Topic9\", \"Topic9\", \"Topic9\", \"Topic9\", \"Topic9\", \"Topic9\", \"Topic9\", \"Topic9\", \"Topic9\", \"Topic9\", \"Topic9\", \"Topic9\", \"Topic9\", \"Topic9\", \"Topic9\", \"Topic9\", \"Topic9\", \"Topic9\", \"Topic9\", \"Topic9\", \"Topic9\", \"Topic9\", \"Topic9\", \"Topic9\", \"Topic9\", \"Topic9\", \"Topic9\", \"Topic9\", \"Topic9\", \"Topic9\", \"Topic9\", \"Topic9\", \"Topic9\", \"Topic9\", \"Topic9\", \"Topic9\", \"Topic9\", \"Topic9\", \"Topic9\", \"Topic9\", \"Topic9\", \"Topic9\", \"Topic9\", \"Topic9\", \"Topic9\", \"Topic10\", \"Topic10\", \"Topic10\", \"Topic10\", \"Topic10\", \"Topic10\", \"Topic10\", \"Topic10\", \"Topic10\", \"Topic10\", \"Topic10\", \"Topic10\", \"Topic10\", \"Topic10\", \"Topic10\", \"Topic10\", \"Topic10\", \"Topic10\", \"Topic10\", \"Topic10\", \"Topic10\", \"Topic10\", \"Topic10\", \"Topic10\", \"Topic10\", \"Topic10\", \"Topic10\", \"Topic10\", \"Topic10\", \"Topic10\", \"Topic10\", \"Topic10\", \"Topic10\", \"Topic10\", \"Topic10\", \"Topic10\", \"Topic10\", \"Topic10\", \"Topic10\", \"Topic10\", \"Topic10\", \"Topic10\", \"Topic10\", \"Topic10\", \"Topic10\", \"Topic10\", \"Topic10\", \"Topic10\"], \"logprob\": [30.0, 29.0, 28.0, 27.0, 26.0, 25.0, 24.0, 23.0, 22.0, 21.0, 20.0, 19.0, 18.0, 17.0, 16.0, 15.0, 14.0, 13.0, 12.0, 11.0, 10.0, 9.0, 8.0, 7.0, 6.0, 5.0, 4.0, 3.0, 2.0, 1.0, -2.8728, -3.5663, -3.7929, -3.8417, -4.0988, -2.7272, -4.6168, -5.3238, -5.3337, -5.3384, -5.4399, -5.5293, -5.5703, -5.6238, -5.7197, -5.7915, -5.8961, -5.8966, -5.9811, -6.08, -6.1089, -4.8589, -6.2347, -6.2915, -6.4599, -6.4789, -6.4893, -6.4912, -6.5445, -3.2538, -2.8451, -4.0588, -2.6117, -3.3229, -3.3057, -3.0425, -3.4417, -5.3111, -3.0494, -2.9097, -4.5938, -4.8021, -4.5428, -5.201, -4.0789, -4.5402, -3.6981, -4.721, -4.3019, -4.9096, -5.0346, -5.1129, -1.8002, -3.7253, -4.1346, -4.3482, -4.3578, -4.4373, -4.5408, -4.5795, -4.783, -4.8206, -4.8557, -4.8721, -4.9504, -5.2003, -5.2287, -5.2519, -5.3449, -5.3728, -5.3922, -5.4112, -5.5784, -5.7003, -5.7346, -5.7207, -5.9178, -5.9822, -6.0205, -6.0291, -6.0914, -6.109, -2.0873, -2.8221, -3.5608, -5.481, -4.2757, -4.6314, -5.3067, -3.895, -4.7845, -3.2106, -4.4916, -3.717, -4.5774, -4.5653, -4.439, -4.5975, -4.8806, -4.8698, -4.9983, -4.2607, -5.2924, -5.4871, -5.5571, -5.599, -5.6639, -4.4949, -5.0933, -5.7465, -5.7673, -5.7676, -5.8059, -5.8342, -5.8617, -5.8756, -5.9076, -5.9355, -5.9365, -5.9713, -6.0452, -6.0532, -6.1071, -6.1262, -6.2283, -6.2435, -6.2451, -6.257, -6.2866, -6.289, -6.2976, -4.4818, -4.1963, -1.6832, -2.9145, -5.1669, -3.3307, -5.0409, -5.2695, -3.9526, -4.3272, -5.1648, -4.8638, -2.9398, -3.7459, -2.7575, -5.0981, -4.0904, -4.8181, -5.4073, -3.7448, -4.0155, -3.844, -4.6837, -4.8976, -5.1219, -5.0975, -5.1859, -5.1355, -4.4499, -4.5309, -5.1229, -5.2279, -5.2544, -5.2919, -5.3627, -5.5803, -5.7231, -5.7564, -5.7642, -5.7662, -5.78, -5.7827, -5.8237, -5.8746, -5.8766, -5.9173, -5.9881, -1.0391, -6.0404, -6.0747, -6.1043, -6.1046, -6.1224, -6.1463, -6.1477, -6.196, -6.2127, -6.2129, -3.6896, -4.751, -4.9182, -1.9963, -5.0902, -3.6736, -5.8406, -5.4273, -3.7488, -5.6486, -5.7205, -4.3372, -4.8649, -5.3905, -5.3433, -5.4953, -5.7732, -3.2742, -3.7316, -4.3135, -4.2654, -4.6122, -4.6689, -4.695, -4.7316, -4.76, -4.9364, -4.9645, -5.0068, -5.0502, -5.135, -5.2014, -5.3906, -5.4065, -5.416, -5.4262, -5.4699, -5.4852, -5.4929, -5.5002, -5.5032, -5.5292, -5.5442, -5.5637, -5.5702, -5.6181, -5.6604, -2.8369, -3.8806, -4.9313, -2.4987, -4.312, -4.7295, -3.4406, -3.2932, -3.4834, -5.1164, -3.6068, -4.8799, -4.6442, -4.156, -4.0605, -4.4153, -3.9596, -3.516, -4.2564, -4.7238, -4.3274, -4.8371, -4.8447, -3.3169, -3.7301, -3.9981, -4.2202, -4.5441, -4.4698, -4.8588, -4.88, -4.9018, -4.9249, -5.0588, -5.1042, -5.1325, -5.148, -5.2307, -5.245, -5.2588, -5.3114, -5.3261, -5.3281, -5.367, -5.5159, -5.5343, -5.5495, -5.5637, -5.5763, -5.6405, -5.7795, -5.7888, -5.7907, -1.1916, -4.9494, -4.6946, -5.3537, -5.0049, -4.9016, -4.0588, -3.654, -3.8653, -3.5152, -4.7396, -5.063, -5.0335, -5.1967, -2.6659, -3.9349, -4.3688, -4.4258, -4.743, -5.024, -5.2041, -5.2601, -5.4542, -5.4597, -5.4895, -5.6522, -5.6651, -5.678, -5.6783, -5.7261, -5.7565, -5.7581, -5.763, -5.7823, -5.8478, -5.8694, -5.9205, -5.9392, -5.9794, -5.9852, -6.0803, -6.0856, -6.0948, -6.2105, -3.2333, -1.1767, -5.0396, -5.0283, -4.0799, -3.1791, -4.0066, -5.3374, -3.7908, -5.5645, -4.5421, -4.6558, -4.9249, -5.2139, -5.6422, -5.667, -5.6761, -3.4845, -3.9778, -4.0657, -4.2288, -4.5234, -4.6867, -4.6894, -4.7787, -4.9232, -4.583, -5.1666, -5.1992, -5.3654, -5.3844, -5.4219, -5.5243, -5.5705, -5.5825, -5.7179, -5.7707, -5.8358, -5.8882, -5.8957, -5.9426, -5.9442, -5.9965, -6.0179, -6.0592, -6.0703, -6.082, -3.1398, -4.3974, -1.9444, -2.8442, -1.8779, -5.3423, -4.2158, -5.3298, -5.2921, -3.5466, -4.9026, -3.1594, -3.2588, -5.4078, -2.1638, -4.5868, -4.5878, -4.6608, -4.7961, -5.089, -5.155, -5.2718, -5.2921, -5.2866, -5.3932, -5.3939, -5.4481, -5.4784, -5.5278, -5.5705, -5.5764, -5.5802, -5.5979, -5.6243, -5.6417, -5.6565, -5.6794, -5.9426, -5.95, -6.0686, -6.1113, -6.1738, -6.179, -6.1844, -3.4326, -4.452, -5.0078, -3.8008, -2.6602, -2.6903, -5.2708, -4.8066, -2.6932, -3.8958, -2.6057, -5.2099, -4.186, -3.5803, -4.3836, -4.1655, -4.5585, -5.0337, -4.5204, -4.4656, -4.7535, -5.1723, -2.3399, -3.1291, -3.3179, -3.7426, -3.8884, -4.0917, -4.3341, -4.6834, -4.7733, -4.893, -5.0423, -5.0535, -5.1255, -5.1685, -5.3003, -5.3433, -5.4028, -5.434, -5.4542, -5.5025, -5.5141, -5.5382, -5.5422, -5.5935, -5.6196, -5.6216, -5.7399, -5.7819, -5.8416, -5.8591, -4.7447, -4.4069, -3.1721, -3.3779, -3.6662, -4.9068, -3.6129, -3.1343, -3.0347, -4.7677, -4.3447, -5.2944, -4.851, -4.8367, -4.8648, -5.1164, -5.2805, -5.2301], \"loglift\": [30.0, 29.0, 28.0, 27.0, 26.0, 25.0, 24.0, 23.0, 22.0, 21.0, 20.0, 19.0, 18.0, 17.0, 16.0, 15.0, 14.0, 13.0, 12.0, 11.0, 10.0, 9.0, 8.0, 7.0, 6.0, 5.0, 4.0, 3.0, 2.0, 1.0, 1.6969, 1.6961, 1.6951, 1.6948, 1.6932, 1.6905, 1.6883, 1.6761, 1.6759, 1.6758, 1.6732, 1.6707, 1.6695, 1.6678, 1.6646, 1.662, 1.6578, 1.6578, 1.6541, 1.6494, 1.648, 1.6471, 1.6412, 1.6378, 1.6268, 1.6254, 1.6246, 1.6245, 1.6205, 1.6053, 1.5876, 1.4595, 1.1968, 1.2213, 1.1538, 1.0705, 1.1017, 1.3508, 0.4332, 0.3366, 1.0109, 1.0528, 0.8385, 1.2533, 0.2035, 0.5671, -0.6804, 0.4504, -0.6152, 0.077, 0.2482, -0.2625, 2.1695, 2.1628, 2.1588, 2.156, 2.1559, 2.1547, 2.1529, 2.1523, 2.1482, 2.1473, 2.1465, 2.1461, 2.1441, 2.1367, 2.1358, 2.135, 2.1315, 2.1305, 2.1297, 2.1289, 2.1215, 2.1153, 2.1134, 2.1083, 2.102, 2.0979, 2.0952, 2.0946, 2.0899, 2.0885, 1.5994, 1.2756, 1.2805, 1.8973, 1.329, 1.4573, 1.7909, 0.8336, 1.3894, 0.0358, 1.1202, 0.0914, 0.9807, 0.4618, 0.1044, -0.1381, 0.5007, 0.1168, -0.1479, 2.1715, 2.1473, 2.1394, 2.1361, 2.1341, 2.1308, 2.1271, 2.1265, 2.1262, 2.125, 2.125, 2.1227, 2.121, 2.1193, 2.1184, 2.1163, 2.1144, 2.1143, 2.1119, 2.1065, 2.1059, 2.1017, 2.1002, 2.0914, 2.0901, 2.0899, 2.0888, 2.0861, 2.0859, 2.0851, 1.982, 1.962, 1.7994, 1.8141, 1.9817, 1.7766, 1.933, 1.9596, 1.6929, 1.7047, 1.8811, 1.6168, 0.7469, 1.1045, 0.5114, 1.6079, 0.9205, 1.3623, 1.7979, 0.3528, 0.4439, -0.5977, 0.5991, 0.6207, 0.884, 0.3159, 0.708, 0.079, 2.3165, 2.3149, 2.2986, 2.2946, 2.2935, 2.292, 2.2888, 2.2778, 2.2693, 2.2671, 2.2666, 2.2665, 2.2655, 2.2654, 2.2625, 2.2589, 2.2587, 2.2557, 2.25, 2.2493, 2.2456, 2.2426, 2.24, 2.24, 2.2383, 2.2361, 2.236, 2.2313, 2.2296, 2.2296, 2.104, 1.9894, 1.9641, 1.2501, 1.9829, 1.541, 2.0907, 1.8295, 0.7946, 1.9027, 1.9262, -0.2396, -0.0145, 0.7834, 0.038, -0.4682, 1.6871, 2.4239, 2.4202, 2.4122, 2.412, 2.4059, 2.4045, 2.4038, 2.4028, 2.402, 2.3966, 2.3957, 2.3942, 2.3926, 2.3894, 2.3866, 2.3777, 2.3769, 2.3764, 2.3759, 2.3735, 2.3726, 2.3722, 2.3718, 2.3716, 2.3701, 2.3692, 2.3681, 2.3677, 2.3647, 2.3618, 2.2171, 2.2249, 2.3042, 1.7838, 2.0734, 2.1641, 1.7943, 1.7177, 1.688, 2.2381, 1.4202, 2.0659, 1.8348, 1.1268, 0.9262, 1.2302, 0.4999, -0.2697, 0.1762, 1.1312, -0.8448, 0.5443, 0.3699, 2.4393, 2.4358, 2.4326, 2.4293, 2.4229, 2.4216, 2.4144, 2.4138, 2.4131, 2.4123, 2.4075, 2.4058, 2.4046, 2.404, 2.4005, 2.3998, 2.3992, 2.3967, 2.396, 2.3959, 2.3939, 2.3858, 2.3847, 2.3838, 2.3829, 2.3822, 2.3781, 2.3683, 2.3676, 2.3674, 1.8261, 2.2353, 2.1566, 2.2468, 2.0197, 1.8232, 0.9683, 0.4591, 0.2323, -0.2688, 1.2062, 1.3913, -0.0468, 0.2167, 2.4932, 2.4835, 2.4762, 2.475, 2.4669, 2.4573, 2.4496, 2.447, 2.4366, 2.4362, 2.4345, 2.4238, 2.4229, 2.422, 2.4219, 2.4184, 2.4161, 2.416, 2.4156, 2.414, 2.4087, 2.4068, 2.4023, 2.4006, 2.3968, 2.3963, 2.3868, 2.3862, 2.3853, 2.3724, 2.3702, 2.0922, 2.2975, 2.1706, 1.8659, 1.1033, 1.0043, 1.9624, 0.0177, 2.0555, 0.6929, 0.3713, -0.0745, 0.68, 2.0314, 2.0664, -1.5785, 2.5211, 2.5155, 2.5142, 2.5114, 2.5052, 2.5009, 2.5008, 2.4981, 2.4933, 2.4845, 2.4834, 2.4819, 2.4735, 2.4724, 2.4703, 2.4641, 2.4611, 2.4603, 2.4506, 2.4464, 2.4411, 2.4365, 2.4358, 2.4315, 2.4314, 2.4264, 2.4242, 2.42, 2.4189, 2.4176, 2.3093, 2.3493, 2.1321, 1.9971, 1.1398, 2.2011, 1.6781, 2.1679, 2.1246, 0.9977, 1.8001, 0.0869, 0.0296, 2.1572, 2.5313, 2.5069, 2.5069, 2.5049, 2.5007, 2.4897, 2.4868, 2.4811, 2.48, 2.4781, 2.4744, 2.4744, 2.4712, 2.4693, 2.4662, 2.4633, 2.4629, 2.4626, 2.4614, 2.4595, 2.4583, 2.4572, 2.4555, 2.433, 2.4323, 2.4202, 2.4155, 2.4084, 2.4077, 2.4071, 2.3921, 2.387, 2.3191, 2.2051, 1.4163, 1.4227, 2.1838, 1.9818, 0.5757, 1.3392, 0.412, 2.0686, 0.868, 0.1064, 0.8992, 0.3788, 0.8906, 1.6722, 0.33, 0.0778, 0.1055, 0.7735, 2.5472, 2.5431, 2.5424, 2.5384, 2.5365, 2.5336, 2.5292, 2.5205, 2.5178, 2.5138, 2.5081, 2.5076, 2.5045, 2.5025, 2.496, 2.4937, 2.4904, 2.4885, 2.4873, 2.4843, 2.4836, 2.482, 2.4817, 2.4783, 2.4764, 2.4763, 2.4674, 2.464, 2.4589, 2.4574, 2.4335, 2.357, 2.2414, 2.1801, 1.9456, 2.2738, 1.3738, 0.9633, 0.7737, 1.7086, 0.8698, 2.1062, 0.9426, 0.5447, 0.3065, 0.1664, 1.9198, -0.3797]}, \"token.table\": {\"Topic\": [5, 3, 10, 4, 3, 5, 7, 4, 6, 5, 7, 6, 6, 9, 9, 10, 4, 2, 5, 2, 2, 2, 4, 5, 6, 7, 8, 9, 4, 6, 7, 8, 10, 1, 2, 3, 5, 6, 9, 10, 6, 7, 9, 9, 3, 8, 6, 3, 2, 7, 5, 6, 10, 1, 3, 5, 7, 9, 2, 3, 4, 5, 8, 10, 3, 6, 8, 4, 1, 3, 9, 1, 9, 10, 8, 6, 4, 6, 5, 7, 7, 1, 1, 3, 1, 10, 6, 7, 8, 5, 4, 1, 3, 8, 4, 1, 2, 3, 4, 5, 7, 8, 9, 10, 4, 6, 4, 10, 1, 1, 10, 8, 1, 2, 3, 7, 3, 4, 8, 4, 6, 5, 9, 10, 10, 1, 3, 5, 7, 8, 9, 2, 10, 2, 7, 2, 10, 8, 5, 7, 6, 5, 5, 3, 3, 5, 3, 5, 10, 3, 3, 10, 1, 9, 8, 7, 1, 3, 1, 2, 10, 10, 2, 5, 10, 3, 5, 8, 9, 1, 1, 10, 7, 9, 1, 3, 6, 2, 5, 5, 9, 1, 3, 5, 1, 5, 6, 8, 9, 2, 3, 5, 6, 2, 3, 9, 1, 2, 9, 8, 1, 2, 3, 7, 8, 9, 6, 7, 4, 2, 10, 4, 4, 3, 6, 10, 6, 5, 6, 1, 9, 10, 8, 6, 2, 7, 1, 3, 8, 6, 5, 8, 5, 7, 9, 7, 9, 6, 2, 5, 1, 3, 3, 3, 6, 2, 3, 9, 4, 9, 10, 4, 10, 5, 6, 3, 4, 3, 4, 2, 7, 5, 1, 3, 5, 10, 3, 8, 9, 10, 1, 3, 5, 7, 8, 9, 7, 6, 5, 4, 10, 7, 2, 8, 1, 10, 7, 1, 9, 10, 9, 1, 8, 9, 5, 2, 2, 3, 1, 3, 8, 9, 3, 8, 8, 3, 5, 10, 9, 9, 6, 1, 9, 2, 8, 10, 9, 3, 7, 2, 7, 5, 5, 7, 5, 8, 9, 3, 10, 10, 3, 5, 1, 6, 3, 10, 3, 5, 3, 9, 3, 4, 1, 2, 3, 5, 10, 1, 2, 3, 8, 10, 3, 10, 3, 5, 2, 3, 9, 5, 8, 5, 6, 1, 1, 3, 4, 6, 9, 2, 3, 10, 9, 4, 7, 5, 8, 2, 3, 2, 8, 6, 9, 1, 2, 3, 4, 9, 2, 5, 1, 9, 1, 3, 8, 5, 6, 6, 8, 7, 5, 8, 2, 8, 3, 6, 9, 10, 8, 7, 1, 4, 1, 7, 2, 4, 8, 10, 4, 10, 6, 7, 8, 5, 3, 7, 6, 7, 3, 2, 9, 8, 3, 4, 1, 2, 8, 10, 4, 2, 7, 3, 9, 8, 3, 9, 1, 9, 3, 7, 1, 5, 9, 1, 10, 1, 5, 7, 10, 7, 1, 6, 9, 1, 8, 10, 2, 3, 4, 5, 6, 7, 10, 2, 4, 2, 7, 2, 4, 6, 10, 6, 8, 6, 10, 2, 1, 2, 5, 7, 5, 9, 10, 3, 1, 5, 10, 6, 4, 10, 1, 6, 3, 4, 1, 2, 3, 4, 5, 6, 7, 8, 9, 5, 4, 6, 4, 6, 2, 5, 4, 9, 8, 4, 5, 1, 2, 3, 5, 2, 4, 8, 2, 9, 7, 1, 9, 4, 1, 6, 9, 7, 1, 3, 1, 3, 6, 5, 6, 3, 5, 7, 7, 6, 10, 5, 6, 1, 3, 5, 9, 10, 4, 1, 4, 10, 2, 2, 9, 8, 1, 6, 6, 2, 4, 10, 8, 1, 4, 1, 7, 7, 7, 1, 2, 4, 5, 10, 4, 2, 9, 3, 1, 2, 3, 5, 6, 7, 8, 10, 4, 4, 8, 4, 1, 3, 8, 4, 9, 10], \"Freq\": [0.9293485670472339, 0.9522616892759739, 0.953709550025571, 0.8492501551169065, 0.9052588731398999, 0.9809649681412926, 0.9485798790911787, 0.9352707298478027, 0.989973304397231, 0.9500934531337317, 0.9391718316772634, 0.9114469978088776, 0.12206870547537413, 0.8544809383276188, 0.9560189953630374, 0.9592123160401332, 0.9576843566800586, 0.9350723915434639, 0.9523726756056131, 0.9724043377765618, 0.9781553059622446, 0.1794345526465255, 0.05981151754884183, 0.3628565397963071, 0.22728376668559894, 0.11962303509768366, 0.04386177953581734, 0.9476191271047146, 0.6883029850549304, 0.12746351575091303, 0.05098540630036521, 0.10197081260073042, 0.9921293419025028, 0.1991341117104562, 0.1263735708931741, 0.04212452363105804, 0.22211112460012422, 0.08424904726211609, 0.01914751074139002, 0.3101896740105183, 0.2897940101114539, 0.529623535720933, 0.16987924730671436, 0.8921048859783101, 0.9579986643702428, 0.9098549099605242, 0.9289751259336766, 0.8585562814986937, 0.24490372228915017, 0.7347111668674505, 0.946560757348777, 0.34244226349710155, 0.6420792440570654, 0.9193719564468061, 0.18762604931190285, 0.004123649435426436, 0.6673439336331782, 0.14089135571040323, 0.05290687827039898, 0.12024290515999768, 0.45211332340159127, 0.12505262136639758, 0.05771659447679889, 0.1875789320495964, 0.9550455020234968, 0.9446053897138209, 0.9796732892697809, 0.9761809687684467, 0.7885163937164988, 0.208533261148165, 0.9079585335333177, 0.9100846257121584, 0.08763777877228192, 0.9845689675902012, 0.9833564238992494, 0.9798552862279925, 0.8494231466054395, 0.9776010216036825, 0.7734680532332464, 0.20625814752886573, 0.9304804547793013, 0.987690837487411, 0.3703148159987464, 0.620821897409663, 0.9840495905736122, 0.9754305566429672, 0.9600261737043697, 0.2468963192368994, 0.7406889577106982, 0.981302701291682, 0.9560990331108981, 0.16776050547263482, 0.8220264768159107, 0.881150736489973, 0.8801871632573796, 0.14035358394312508, 0.09691080796072923, 0.3408587038618752, 0.09691080796072923, 0.07351854397020838, 0.07686029596885421, 0.013367007994583343, 0.11027781595531257, 0.05346803197833337, 0.9141393302501186, 0.9702931481805326, 0.06853924228384602, 0.8910101496899983, 0.9441916290841295, 0.9485568004451103, 0.9907745920476202, 0.9078518660364746, 0.9515886970974, 0.9719491079175839, 0.31984924108510787, 0.6396984821702157, 0.2654415948255342, 0.7078442528680913, 0.9457454849991555, 0.8005694791375224, 0.14555808711591317, 0.9629573540851383, 0.9566648263320845, 0.9548934983564917, 0.9842908208214647, 0.12333931764342791, 0.2277033556494054, 0.05692583891235135, 0.1612898769183288, 0.4269437918426351, 0.9309756599868069, 0.9637409132488335, 0.9106594250728924, 0.9626594090386396, 0.9475885663428307, 0.9665553344484173, 0.9627887083853557, 0.8949799706050161, 0.9331558020812587, 0.8611749134351084, 0.934519039141674, 0.9162777987114273, 0.960241162746882, 0.9139837898339601, 0.8812050401761171, 0.9602292205143308, 0.8033664793068883, 0.024718968594058102, 0.17303278015840673, 0.8705624977574538, 0.943202632471719, 0.039300109686321624, 0.9609334608050953, 0.9098261612059141, 0.9245915534343526, 0.8818902395327733, 0.9517322678134356, 0.9298342110176268, 0.34584451993779514, 0.4957104785775064, 0.1613941093043044, 0.9983502994669081, 0.3506106568949464, 0.10017447339855612, 0.5438042841635904, 0.17586288150993643, 0.8089692549457076, 0.8026638772346731, 0.19458518235992078, 0.9686002519235384, 0.9844643924906192, 0.9580513303876429, 0.9824012414592923, 0.9806640278727682, 0.9780767387129234, 0.9793546374365295, 0.9529323657233272, 0.95416956257234, 0.9593186427188731, 0.8069715720315866, 0.1884299102205735, 0.5201375741079359, 0.20075485316446648, 0.2737566179515452, 0.09248969139806558, 0.0005346224936304369, 0.5378302285922195, 0.24913408203178355, 0.11975543857321785, 0.261335322605768, 0.043555887100961324, 0.130667661302884, 0.5444485887620166, 0.2633157346398471, 0.6893546760795997, 0.04437905639997423, 0.9954839340752728, 0.9868742672070988, 0.9676055694703525, 0.9686222380075783, 0.09915543874728992, 0.5646641301293037, 0.23692931153299804, 0.005218707302488943, 0.005218707302488943, 0.08871802414231204, 0.9838268873550465, 0.9276894003555017, 0.9152975553134157, 0.3051560082596912, 0.6916869520553, 0.9664810644575597, 0.926675959080231, 0.15256739748081202, 0.1056235828713314, 0.7334971032731348, 0.9822668223964349, 0.8176045827765404, 0.16352091655530807, 0.9633145646154975, 0.20611614488121288, 0.7557591978977806, 0.984797904332776, 0.9463167435814825, 0.2985257570933603, 0.6567566656053927, 0.9626362615089993, 0.9689757346447396, 0.9731091738948009, 0.9896990663232561, 0.9467142164692477, 0.9654471427462744, 0.530143764864635, 0.1668971111610888, 0.304341790940809, 0.8705237473056371, 0.9617414596625211, 0.9036951287326335, 0.9874856471676932, 0.945581740839225, 0.9477495518826086, 0.9913982154503292, 0.9605360175951835, 0.9099119874442454, 0.9551282668817617, 0.9640919692796875, 0.4177439777575817, 0.5801999691077524, 0.09036582389535097, 0.7229265911628078, 0.18073164779070194, 0.15853024265292115, 0.8152983907864517, 0.22239080272852352, 0.741302675761745, 0.9289454142099998, 0.03572866977730768, 0.8798085428888227, 0.9424136409703769, 0.9771380229617577, 0.9965080100737023, 0.9274823134281983, 0.21023710829531922, 0.21023710829531922, 0.07007903609843974, 0.525592770738298, 0.9177464718989493, 0.8628785001108346, 0.9814625050784257, 0.9957580240610706, 0.2816953996902883, 0.6799837593732336, 0.03744591415822563, 0.9084686644692429, 0.7064133748627732, 0.252290491022419, 0.9247602545401289, 0.9814087452914604, 0.9779277380331574, 0.9670940188299751, 0.9537821351480378, 0.9251421648586072, 0.9496128712684457, 0.9225187613017212, 0.9742250651899951, 0.927184196474905, 0.9745075048401101, 0.5095988717518094, 0.05095988717518094, 0.4246657264598412, 0.9763790952203774, 0.1558135180168973, 0.8458448120917282, 0.9241382013172221, 0.9194234095860659, 0.9903721776345829, 0.16634481268372617, 0.8317240634186308, 0.6200284476671515, 0.046748176609824915, 0.2165178706139259, 0.11564022635061952, 0.782274825356146, 0.1955687063390365, 0.9711491957160321, 0.614260669176942, 0.3034299691115015, 0.08140804049332967, 0.9772757912814015, 0.8410414705553403, 0.920668526658665, 0.9749923215024264, 0.8371704165677256, 0.9486499572212675, 0.9865579058721482, 0.9447527590685031, 0.8918466878498242, 0.9435801952962054, 0.9372870870909515, 0.9197348402495065, 0.8377451490798515, 0.994540651142928, 0.8709441576962316, 0.10886801971202895, 0.9689640086088603, 0.6719733836382444, 0.32673935167731155, 0.9143540311383895, 0.9857950274958556, 0.923164922177845, 0.9751172009373525, 0.9849221830435707, 0.32330241046458574, 0.6466048209291715, 0.9072170607788574, 0.9476000416683109, 0.8717610759672723, 0.976154871998925, 0.9072684524523488, 0.8950334561664763, 0.9021415972765625, 0.9346637972277416, 0.2856025623047608, 0.059884408225191775, 0.06909739410599051, 0.4744687728611348, 0.10594933762918544, 0.07581378633246477, 0.2779838832190375, 0.4422470869393778, 0.10108504844328636, 0.08844941738787557, 0.9101401796266462, 0.9544870344910233, 0.29470233488619463, 0.6979792142041451, 0.9374480312115653, 0.2759136704375795, 0.7216203688367463, 0.9564103020227986, 0.9567828042498582, 0.9536236391146552, 0.9314952305997158, 0.9925851094160518, 0.32405201587917964, 0.6653868059385821, 0.008641387090111457, 0.9413148714481278, 0.9741538497228409, 0.6955760274870642, 0.09485127647550876, 0.1897025529510175, 0.9606781991873664, 0.8945349711281195, 0.9132771514042347, 0.2830366974685666, 0.7075917436714164, 0.2401835827399003, 0.7505736960621884, 0.4106258963993661, 0.5861353521184499, 0.9711288883455664, 0.8896548963693599, 0.5506804929476068, 0.12783654300569444, 0.022125555520216344, 0.213880370028758, 0.08604382702306357, 0.9344104787102439, 0.9874803006515098, 0.9481323446862023, 0.9324606424448817, 0.3582439934448809, 0.5629548468419556, 0.06823695113235827, 0.9824286591582904, 0.9617568716813699, 0.9479916627442041, 0.9065992793089201, 0.9132170683444321, 0.30448728167097266, 0.6524727464377986, 0.9703970297870772, 0.8717000828020252, 0.6689639616161333, 0.28166903646995084, 0.971859938332453, 0.9439120475978177, 0.9289553114213542, 0.8746160473638147, 0.9889837592042392, 0.9283020300732091, 0.16069009925450403, 0.8034504962725202, 0.9697430397149515, 0.0306798980602243, 0.9510768398669532, 0.8971500538061216, 0.7895017225380782, 0.19737543063451954, 0.9184929157946469, 0.9867979354311184, 0.9518820884148713, 0.9808117549987844, 0.3374469813026987, 0.6186527990549476, 0.11354093503269264, 0.8799422465033679, 0.9609397775323605, 0.3409740492582778, 0.6440620930434137, 0.8687310737894144, 0.29862070375094957, 0.647011524793724, 0.9939066692990807, 0.7535143211338757, 0.2093095336482988, 0.9212657352965679, 0.8996792647279656, 0.9710811699429088, 0.993865254218345, 0.5556490089286479, 0.4274223145604984, 0.889911354533068, 0.15907179621489978, 0.7953589810744989, 0.9907176672490774, 0.008671489428875951, 0.38699996429090805, 0.580499946436362, 0.44280839680107537, 0.5449949499090159, 0.9241186802220236, 0.9350904852815182, 0.9378763966231178, 0.2234611112331016, 0.5245654899285521, 0.24807970823335856, 0.0037874764615779934, 0.9006667288525239, 0.6953178164815126, 0.20450524014162136, 0.08180209605664854, 0.34083900590426025, 0.4899560709873741, 0.17041950295213013, 0.4092797181654382, 0.16056358174182575, 0.07555933258438859, 0.023612291432621436, 0.1086165405900586, 0.017315680383922387, 0.2046398590827191, 0.9916232883426818, 0.8902177185472587, 0.9922703585654614, 0.9318722892078, 0.451929590805775, 0.21341119565828262, 0.20085759591367777, 0.1255359974460486, 0.960711836880196, 0.84904559817727, 0.9130506819521236, 0.9557893429180098, 0.9903153691457676, 0.5044522048209786, 0.4334025985081647, 0.05683968505025111, 0.8759987129845594, 0.12395271044828315, 0.8676689731379821, 0.9590997589995899, 0.9318507712265793, 0.893444852606852, 0.10562894809145049, 0.9475219100267102, 0.9464078259426657, 0.7095729392885072, 0.2776589762433289, 0.6314053569186641, 0.348934539349788, 0.9657754478467618, 0.9636190602910445, 0.2560080807945485, 0.11826095070824287, 0.061818224233854226, 0.33798442162639863, 0.06719372199331981, 0.06652178477338662, 0.005375497759465585, 0.08667990137138255, 0.0006719372199331981, 0.9840592334660098, 0.5931574754171977, 0.37072342213574855, 0.17246939368399003, 0.7933592109463541, 0.9771059196931693, 0.941544755722478, 0.9469437903620698, 0.9647314319855915, 0.9338534293795544, 0.8974052313847005, 0.9636261835511216, 0.5786703963808723, 0.09945897437796243, 0.17631363639729702, 0.14466759909521806, 0.9986337873400855, 0.8924504722464364, 0.9738321350017772, 0.9497677846946424, 0.9297995436444211, 0.90851741316092, 0.9596238814521422, 0.9347562985516134, 0.9338508644022492, 0.5323542734149328, 0.13748488742848114, 0.3293242652356641, 0.9363367997254487, 0.18031005203253603, 0.7933642289431586, 0.9807368189250704, 0.1568449326988895, 0.8365063077274107, 0.7062612656443084, 0.2988028431572074, 0.28249790629569854, 0.4904477539855877, 0.22364417581742801, 0.9263086987867091, 0.9920438658631958, 0.9691731531950692, 0.9907384839734739, 0.9720994769169603, 0.23172578151545453, 0.2059784724581818, 0.2729214760070909, 0.19567954883527272, 0.09269031260618181, 0.8907971203211341, 0.2737525730489206, 0.6570061753174095, 0.9332797283208077, 0.9904706213190877, 0.9289965898177927, 0.9985188730742028, 0.9633834247510796, 0.9448947446021418, 0.03499610165193118, 0.9642499694594971, 0.3180803369955305, 0.5452805777066237, 0.13632014442665594, 0.9253582151423034, 0.9939917237890123, 0.9615965386287767, 0.9638771462291134, 0.9478560966426011, 0.9066664028650261, 0.9550549437775985, 0.4205343756258646, 0.18753559994126395, 0.10229214542250761, 0.1534382181337614, 0.13638952723001016, 0.964667644072659, 0.9238839452842377, 0.9140359947880644, 0.9013232787098112, 0.6047696557404264, 0.12496215108866511, 0.014146658613811144, 0.0011788882178175955, 0.0011788882178175955, 0.08370106346504927, 0.0011788882178175955, 0.16975990336573374, 0.9831757935016283, 0.9173449357766542, 0.08199339762098437, 0.9769036909910919, 0.9969651966793168, 0.0025239625232387768, 0.8993128313147116, 0.8798906840004751, 0.8450657769186116, 0.9456978739759655], \"Term\": [\"\\uac00\\ub2a5\", \"\\uac00\\uc2b4\", \"\\uac08\\ub9ad\", \"\\uac08\\ube44\", \"\\uac08\\ube44\\ud0d5\", \"\\uac10\\uc0ac\", \"\\uac10\\uc790\", \"\\uac11\\uc790\\uae30\", \"\\uac1c\\ubd09\", \"\\uac1c\\uc778\", \"\\uac2f\\uc218\", \"\\uac70\\uae30\", \"\\uac70\\ubd80\", \"\\uac70\\ubd80\", \"\\uac70\\uc808\", \"\\uac71\\uc815\", \"\\uac74\\uc758\", \"\\uac80\\uc0c9\", \"\\uac8c\\uc2dc\\ud310\", \"\\uacb0\\uacfc\", \"\\uacb0\\uc81c\", \"\\uacbd\\uc6b0\", \"\\uacbd\\uc6b0\", \"\\uacbd\\uc6b0\", \"\\uacbd\\uc6b0\", \"\\uacbd\\uc6b0\", \"\\uacbd\\uc6b0\", \"\\uacc4\\ub780\", \"\\uacc4\\uc18d\", \"\\uacc4\\uc18d\", \"\\uacc4\\uc18d\", \"\\uacc4\\uc18d\", \"\\uacc4\\uc88c\", \"\\uace0\\uac1d\", \"\\uace0\\uac1d\", \"\\uace0\\uac1d\", \"\\uace0\\uac1d\", \"\\uace0\\uac1d\", \"\\uace0\\uac1d\", \"\\uace0\\uac1d\", \"\\uace0\\uad6c\\ub9c8\", \"\\uace0\\uad6c\\ub9c8\", \"\\uace0\\uad6c\\ub9c8\", \"\\uace0\\uae30\", \"\\uace0\\ucd94\", \"\\uace8\\ub4dc\", \"\\uacf0\\ud321\\uc774\", \"\\uacf5\\uc9c0\", \"\\uacfc\\uc815\", \"\\uacfc\\uc815\", \"\\uad00\\uacc4\", \"\\uad00\\ub828\", \"\\uad00\\ub828\", \"\\uad50\\uccb4\", \"\\uad50\\ud658\", \"\\uad50\\ud658\", \"\\uad50\\ud658\", \"\\uad50\\ud658\", \"\\uad6c\\ub9e4\", \"\\uad6c\\ub9e4\", \"\\uad6c\\ub9e4\", \"\\uad6c\\ub9e4\", \"\\uad6c\\ub9e4\", \"\\uad6c\\ub9e4\", \"\\uad6c\\uc131\", \"\\uad6c\\uc785\", \"\\uadf8\\ub300\\ub85c\", \"\\uae08\\uc561\", \"\\uae08\\uc77c\", \"\\uae08\\uc77c\", \"\\uae08\\uc8fc\", \"\\uae30\\uc0ac\", \"\\uae30\\uc0ac\", \"\\uae30\\uc7ac\", \"\\uae30\\uc900\", \"\\uae30\\ud55c\", \"\\uae40\\uc7a5\", \"\\uae40\\uce58\", \"\\ub098\\uba38\\uc9c0\", \"\\ub098\\uba38\\uc9c0\", \"\\ub0a0\\uc528\", \"\\ub0b4\\uc6a9\", \"\\ub0b4\\uc77c\", \"\\ub0b4\\uc77c\", \"\\ub0c4\\uc0c8\", \"\\ub0c9\\ub3d9\", \"\\ub0c9\\ub3d9\\uc2dd\\ud488\", \"\\ub0c9\\uc7a5\", \"\\ub0c9\\uc7a5\", \"\\ub178\\ub825\", \"\\ub179\\ucc28\", \"\\ub204\\ub77d\", \"\\ub204\\ub77d\", \"\\ub2c8\\uc694\", \"\\ub2e4\\ub9ac\", \"\\ub2e4\\uc2dc\", \"\\ub2e4\\uc2dc\", \"\\ub2e4\\uc2dc\", \"\\ub2e4\\uc2dc\", \"\\ub2e4\\uc2dc\", \"\\ub2e4\\uc2dc\", \"\\ub2e4\\uc2dc\", \"\\ub2e4\\uc2dc\", \"\\ub2e4\\uc2dc\", \"\\ub2e4\\ud06c\", \"\\ub2e8\\uc21c\", \"\\ub2ec\\ub77c\", \"\\ub2ec\\ub77c\", \"\\ub2f4\\ub2f9\", \"\\ub2f4\\ub2f9\\uc790\", \"\\ub2f5\\ubcc0\", \"\\ub2f5\\uc7a5\", \"\\ub2f9\\uc0ac\", \"\\ub300\\ub9ac\\uc810\", \"\\ub300\\uc2e0\", \"\\ub300\\uc2e0\", \"\\ub300\\uccb4\", \"\\ub300\\uccb4\", \"\\ub300\\ud55c\", \"\\ub354\\ub2c8\", \"\\ub354\\ub2c8\", \"\\ub354\\uc6b1\", \"\\ub3c4\\ub300\\uccb4\", \"\\ub3c4\\uc2dc\\ub77d\", \"\\ub3c4\\uc6c0\", \"\\ub3c4\\ucc29\", \"\\ub3c4\\ucc29\", \"\\ub3c4\\ucc29\", \"\\ub3c4\\ucc29\", \"\\ub3c4\\ucc29\", \"\\ub3d9\\ubd09\", \"\\ub4f1\\ub85d\", \"\\ub538\\uae30\", \"\\ub545\\ucf69\", \"\\ub69c\\uaed1\", \"\\ub77c\\ub5bc\", \"\\ub77c\\ubca8\", \"\\ub77c\\uc774\\ud2b8\", \"\\ub808\\ubaac\", \"\\ub85c\\uc81c\", \"\\ub86f\\ub370\", \"\\ub9ac\\ubdf0\", \"\\ub9ac\\uc9c0\", \"\\ub9c8\\uac10\", \"\\ub9c8\\uc74c\", \"\\ub9cc\\uc871\", \"\\ub9d0\\uc500\", \"\\ub9d0\\uc500\", \"\\ub9d0\\uc500\", \"\\uba38\\uadf8\\ucef5\", \"\\uba3c\\uc800\", \"\\uba3c\\uc800\", \"\\uba54\\ub274\", \"\\uba70\\uce60\", \"\\ubaa8\\uce74\", \"\\ubb34\\ubc29\", \"\\ubb34\\uc0c1\", \"\\ubb36\\uc74c\", \"\\ubb38\\uac74\", \"\\ubb38\\uac74\", \"\\ubb38\\uac74\", \"\\ubb38\\uc758\", \"\\ubb38\\uc790\", \"\\ubb38\\uc790\", \"\\ubb38\\uc790\", \"\\ubb38\\uc81c\", \"\\ubb38\\uc81c\", \"\\ubb3c\\uac74\", \"\\ubb3c\\uac74\", \"\\ubb3c\\ub7c9\", \"\\ubb3c\\ub958\", \"\\ubb3c\\uc774\", \"\\ubb3c\\ud488\", \"\\ubb54\\uac00\", \"\\ubbf8\\uac1c\", \"\\ubbf8\\ub9ac\", \"\\ubbf9\\uc2a4\", \"\\ubc14\\ub2d0\\ub77c\", \"\\ubc14\\uc774\\ub7ec\\uc2a4\", \"\\ubc15\\uc2a4\", \"\\ubc15\\uc2a4\", \"\\ubc18\\uc1a1\", \"\\ubc18\\uc1a1\", \"\\ubc18\\uc1a1\", \"\\ubc18\\ud488\", \"\\ubc18\\ud488\", \"\\ubc18\\ud488\", \"\\ubc18\\ud488\", \"\\ubc18\\ud488\", \"\\ubc1c\\uc0dd\", \"\\ubc1c\\uc0dd\", \"\\ubc1c\\uc0dd\", \"\\ubc1c\\uc0dd\", \"\\ubc1c\\uc1a1\", \"\\ubc1c\\uc1a1\", \"\\ubc1c\\uc1a1\", \"\\ubc29\\ubb38\", \"\\ubc29\\ubc95\", \"\\ubc29\\uc548\", \"\\ubc30\\ub2ec\", \"\\ubc30\\uc1a1\", \"\\ubc30\\uc1a1\", \"\\ubc30\\uc1a1\", \"\\ubc30\\uc1a1\", \"\\ubc30\\uc1a1\", \"\\ubc30\\uc1a1\", \"\\ubc30\\uc1a1\\ube44\", \"\\ubc31\\ubbf8\", \"\\ubc84\\ud2bc\", \"\\ubc88\\ud638\", \"\\ubc88\\ud638\", \"\\ubc8c\\ub808\", \"\\ubca0\\ub85c\\ub098\", \"\\ubcc0\\uacbd\", \"\\ubcc0\\uacbd\", \"\\ubcc0\\uacbd\", \"\\ubcc0\\uc2ec\", \"\\ubcc0\\uc9c8\", \"\\ubcc0\\uc9c8\", \"\\ubcc4\\ub3c4\", \"\\ubcf4\\uace0\", \"\\ubcf4\\uace0\", \"\\ubcf4\\uad00\", \"\\ubcf4\\ub958\", \"\\ubcf4\\uc2dc\", \"\\ubcf4\\uc2dc\", \"\\ubcf4\\uc2e0\", \"\\ubcf6\\uc74c\\ubc25\", \"\\ubd09\\uc9c0\", \"\\ubd80\\ub2f4\", \"\\ubd80\\ub4dd\\uc774\", \"\\ubd80\\ubaa8\\ub2d8\", \"\\ubd80\\ubd84\", \"\\ubd80\\ubd84\", \"\\ubd80\\ubd84\", \"\\ubd80\\uc11c\", \"\\ubd80\\uc871\", \"\\ubd80\\ud0c1\", \"\\ubd88\\uac00\", \"\\ubd88\\ub7c9\", \"\\ubd88\\ub85c\", \"\\ubd88\\ud3b8\", \"\\ube14\\ub8e8\\ubca0\\ub9ac\", \"\\ube44\\ub2d0\", \"\\ube44\\uc6a9\", \"\\uc0ac\\uace0\", \"\\uc0ac\\uacfc\", \"\\uc0ac\\uacfc\", \"\\uc0ac\\ub78c\", \"\\uc0ac\\ub78c\", \"\\uc0ac\\ub78c\", \"\\uc0ac\\uc6a9\", \"\\uc0ac\\uc6a9\", \"\\uc0ac\\uc720\", \"\\uc0ac\\uc720\", \"\\uc0ac\\uc740\", \"\\uc0ac\\uc740\", \"\\uc0ac\\uc774\", \"\\uc0ac\\uc774\\uc988\", \"\\uc0ac\\uc774\\ud2b8\", \"\\uc0ac\\uc9c4\", \"\\uc0ac\\ud0dc\", \"\\uc0ac\\ud56d\", \"\\uc0ac\\ud56d\", \"\\uc0ac\\ud56d\", \"\\uc0ac\\ud56d\", \"\\uc0c1\\uc138\", \"\\uc0c1\\uc628\", \"\\uc0c1\\uc790\", \"\\uc0c1\\ud0dc\", \"\\uc0c1\\ud488\", \"\\uc0c1\\ud488\", \"\\uc0c1\\ud488\", \"\\uc0c1\\ud558\", \"\\uc0c1\\ud55c\", \"\\uc0c1\\ud55c\", \"\\uc0c1\\ud574\", \"\\uc0dd\\uac01\", \"\\uc0dd\\uc0b0\", \"\\uc0dd\\uc218\", \"\\uc11c\\ube44\\uc2a4\", \"\\uc120\\ubb3c\", \"\\uc120\\ud0dd\", \"\\uc124\\uba85\", \"\\uc12d\\ucde8\", \"\\uc131\\ud568\", \"\\uc138\\ud2b8\", \"\\uc13c\\ud130\", \"\\uc13c\\ud130\", \"\\uc13c\\ud130\", \"\\uc18c\\uc2a4\", \"\\uc18c\\uc694\", \"\\uc18c\\uc694\", \"\\uc1a1\\uae08\", \"\\uc1a1\\uc774\", \"\\uc1a1\\uc7a5\", \"\\uc1a1\\ud574\", \"\\uc1a1\\ud574\", \"\\uc218\\uac70\", \"\\uc218\\uac70\", \"\\uc218\\uac70\", \"\\uc218\\uac70\", \"\\uc218\\ub3c4\", \"\\uc218\\ub3c4\", \"\\uc218\\ub7c9\", \"\\uc218\\ub839\", \"\\uc218\\ub839\", \"\\uc218\\ub839\", \"\\uc218\\ucde8\", \"\\uc218\\ud655\", \"\\uc219\\uc131\", \"\\uc21c\\ucc28\", \"\\uc2a4\\ud2f0\\ub85c\\ud3fc\", \"\\uc2a4\\ud30c\\uac8c\\ud2f0\", \"\\uc2b9\\uc778\", \"\\uc2dc\\uae30\", \"\\uc2dc\\ub098\", \"\\uc2dc\\uc2a4\\ud15c\", \"\\uc2dc\\uc77c\", \"\\uc2dc\\uc791\", \"\\uc2dd\\ub2e8\", \"\\uc2dd\\ud488\", \"\\uc2e0\\uacbd\", \"\\uc2e0\\uacbd\", \"\\uc2e0\\uc120\", \"\\uc2e0\\uccad\", \"\\uc2e0\\uccad\", \"\\uc2e4\\ub9dd\", \"\\uc2e4\\uc218\", \"\\uc544\\ub798\", \"\\uc544\\ubaac\\ub4dc\", \"\\uc544\\ubb34\", \"\\uc544\\uc774\\uc2a4\\ubc15\\uc2a4\", \"\\uc544\\uc774\\uc2a4\\ubc15\\uc2a4\", \"\\uc544\\uc774\\uc2a4\\ud06c\\ub9bc\", \"\\uc544\\uc774\\uc2a4\\ud329\", \"\\uc544\\uc800\\uc528\", \"\\uc548\\ub0b4\", \"\\uc548\\uc2ec\", \"\\uc548\\ud574\", \"\\uc57c\\ucc44\", \"\\uc591\\ub150\", \"\\uc591\\ud574\", \"\\uc591\\ud574\", \"\\uc591\\ud574\", \"\\uc591\\ud574\", \"\\uc591\\ud574\", \"\\uc5b4\\uc81c\", \"\\uc5b4\\uc81c\", \"\\uc5b4\\uc81c\", \"\\uc5b4\\uc81c\", \"\\uc5b4\\uc81c\", \"\\uc5b4\\ucf00\", \"\\uc5c5\\ubb34\", \"\\uc5c5\\uccb4\", \"\\uc5c5\\uccb4\", \"\\uc5ec\\ub7ec\", \"\\uc5f0\\ub77d\", \"\\uc5f0\\ub77d\", \"\\uc5f0\\ud734\", \"\\uc601\\uc5c5\\uc77c\", \"\\uc608\\uc0c1\", \"\\uc608\\uc57d\", \"\\uc608\\uc815\", \"\\uc624\\ub298\", \"\\uc624\\ub298\", \"\\uc624\\ub298\", \"\\uc624\\ub958\", \"\\uc624\\uc2dc\", \"\\uc624\\uc804\", \"\\uc624\\uc804\", \"\\uc624\\uc804\", \"\\uc624\\uc9c0\", \"\\uc624\\uc9d5\\uc5b4\", \"\\uc624\\ud508\", \"\\uc624\\ud6c4\", \"\\uc624\\ud6c4\", \"\\uc635\\uc158\", \"\\uc635\\uc158\", \"\\uc644\\ub8cc\", \"\\uc644\\ub8cc\", \"\\uc655\\ubcf5\", \"\\uc694\\uc998\", \"\\uc694\\uccad\", \"\\uc694\\uccad\", \"\\uc694\\uccad\", \"\\uc694\\uccad\", \"\\uc694\\uccad\", \"\\uc6b0\\ub824\", \"\\uc6b0\\uc720\", \"\\uc6b0\\uccb4\\uad6d\", \"\\uc6d0\\ub798\", \"\\uc6d4\\uc694\\uc77c\", \"\\uc6d4\\uc694\\uc77c\", \"\\uc6d4\\uc694\\uc77c\", \"\\uc704\\ud574\", \"\\uc720\\ud1b5\", \"\\uc74c\\ub8cc\", \"\\uc74c\\uc2dd\", \"\\uc774\\uac74\", \"\\uc774\\ub0b4\", \"\\uc774\\ub0b4\", \"\\uc774\\ub3d9\", \"\\uc774\\uba74\", \"\\uc774\\uc6a9\", \"\\uc774\\uc6a9\", \"\\uc774\\uc720\", \"\\uc774\\uc804\", \"\\uc774\\uc81c\", \"\\uc774\\ud2c0\", \"\\uc775\\uc77c\", \"\\uc77c\\ub4dc\", \"\\uc77c\\ubc18\", \"\\uc77c\\ubc18\", \"\\uc77c\\ubd80\", \"\\uc77c\\uc8fc\\uc77c\", \"\\uc77c\\uc8fc\\uc77c\", \"\\uc784\\uc758\", \"\\uc785\\uae08\", \"\\uc785\\uae08\", \"\\uc790\\uac00\", \"\\uc790\\ub3d9\", \"\\uc790\\uc5f0\", \"\\uc790\\uccb4\", \"\\uc791\\uc5c5\", \"\\uc791\\uc5c5\", \"\\uc798\\ubabb\", \"\\uc798\\ubabb\", \"\\uc7a5\\ub09c\", \"\\uc7ac\\uace0\", \"\\uc7ac\\uace0\", \"\\uc7ac\\ubc30\", \"\\uc800\\ubc88\", \"\\uc800\\ubc88\", \"\\uc804\\ub2ec\", \"\\uc804\\uc0b0\", \"\\uc804\\uc0b0\", \"\\uc804\\uc1a1\", \"\\uc804\\uc561\", \"\\uc804\\uc774\", \"\\uc804\\uccb4\", \"\\uc804\\ud654\", \"\\uc804\\ud654\", \"\\uc808\\ubc18\", \"\\uc808\\ucc28\", \"\\uc808\\ucc28\", \"\\uc811\\uc218\", \"\\uc811\\uc218\", \"\\uc815\\ub9d0\", \"\\uc815\\ub9d0\", \"\\uc815\\uc0c1\", \"\\uc815\\uc0c1\", \"\\uc81c\\ub300\\ub85c\", \"\\uc81c\\uc678\", \"\\uc81c\\uc870\", \"\\uc81c\\ud488\", \"\\uc81c\\ud488\", \"\\uc81c\\ud488\", \"\\uc81c\\ud488\", \"\\uc824\\ub9ac\", \"\\uc870\\uce58\", \"\\uc870\\uce58\", \"\\uc870\\uce58\", \"\\uc870\\ud68c\", \"\\uc870\\ud68c\", \"\\uc870\\ud68c\", \"\\uc8fc\\ubb38\", \"\\uc8fc\\ubb38\", \"\\uc8fc\\ubb38\", \"\\uc8fc\\ubb38\", \"\\uc8fc\\ubb38\", \"\\uc8fc\\ubb38\", \"\\uc8fc\\ubb38\", \"\\uc900\\ube44\", \"\\uc911\\uac04\", \"\\uc911\\uc774\", \"\\uc99d\\uc815\", \"\\uc9c0\\uae08\", \"\\uc9c0\\uae08\", \"\\uc9c0\\uae08\", \"\\uc9c0\\uae08\", \"\\uc9c0\\ub09c\", \"\\uc9c0\\ub3c4\", \"\\uc9c0\\ubd88\", \"\\uc9c0\\uc2dc\", \"\\uc9c0\\uc5ed\", \"\\uc9c0\\uc5f0\", \"\\uc9c0\\uc5f0\", \"\\uc9c0\\uc5f0\", \"\\uc9c0\\uc815\", \"\\uc9c1\\uc811\", \"\\uc9c1\\uc811\", \"\\uc9c4\\uacf5\", \"\\uc9c4\\uc2ec\", \"\\uc9c4\\ud589\", \"\\uc9c4\\ud589\", \"\\uc9dc\\uc7a5\", \"\\ucc28\\uac10\", \"\\ucc28\\uc561\", \"\\ucc28\\uc561\", \"\\ucc38\\uace0\", \"\\ucc38\\uace0\", \"\\ucc38\\uce58\", \"\\ucc3d\\uace0\", \"\\ucc98\\ub9ac\", \"\\ucc98\\ub9ac\", \"\\ucc98\\ub9ac\", \"\\ucc98\\ub9ac\", \"\\ucc98\\ub9ac\", \"\\ucc98\\ub9ac\", \"\\ucc98\\ub9ac\", \"\\ucc98\\ub9ac\", \"\\ucc98\\ub9ac\", \"\\ucc98\\ubd84\", \"\\ucc98\\uc74c\", \"\\ucc98\\uc74c\", \"\\ucca0\\ud68c\", \"\\ucca0\\ud68c\", \"\\ucca8\\ubd80\", \"\\uccad\\uc8fc\\uc2dc\", \"\\uccad\\ud558\\uba74\", \"\\uccad\\ud574\", \"\\ucd08\\ucf54\", \"\\ucd08\\ucf5c\\ub9bf\", \"\\ucd94\\uac00\", \"\\ucd9c\\uace0\", \"\\ucd9c\\uace0\", \"\\ucd9c\\uace0\", \"\\ucd9c\\uace0\", \"\\ucde8\\uc18c\", \"\\uce58\\uc988\", \"\\uce74\\ub4dc\", \"\\uce74\\uce74\\uc624\", \"\\ucea1\\uc290\", \"\\ucee4\\ud53c\", \"\\ucf54\\ub85c\\ub098\", \"\\ucf5c\\ub77c\", \"\\ud06c\\ub9bc\", \"\\ud0dd\\ubc30\", \"\\ud0dd\\ubc30\", \"\\ud0dd\\ubc30\", \"\\ud1a0\\ub9c8\\ud1a0\", \"\\ud1a0\\uc694\\uc77c\", \"\\ud1a0\\uc694\\uc77c\", \"\\ud1b5\\uc6b4\", \"\\ud1b5\\ud654\", \"\\ud1b5\\ud654\", \"\\ud2b9\\uc131\", \"\\ud2b9\\uc131\", \"\\ud30c\\uc190\", \"\\ud30c\\uc190\", \"\\ud30c\\uc190\", \"\\ud30c\\uc2a4\\ud0c0\", \"\\ud310\\ub9e4\", \"\\ud398\\ud2b8\\ubcd1\", \"\\ud3d0\\uae30\", \"\\ud3ec\\ub300\", \"\\ud3ec\\uc7a5\", \"\\ud3ec\\uc7a5\", \"\\ud3ec\\uc7a5\", \"\\ud3ec\\uc7a5\", \"\\ud3ec\\uc7a5\", \"\\ud3ec\\ud568\", \"\\ud3ed\\uc8fc\", \"\\ud3ed\\uc8fc\", \"\\ud488\\ubaa9\", \"\\ud488\\uc808\", \"\\ud544\\uc694\", \"\\ud558\\ub098\\uc694\", \"\\ud558\\ub77c\", \"\\ud558\\ub8e8\", \"\\ud558\\ub8e8\", \"\\ud558\\uc790\", \"\\ud55c\\ubc88\", \"\\ud55c\\ubc88\", \"\\ud55c\\ubc88\", \"\\ud55c\\ucc38\", \"\\ud574\\ub2f9\", \"\\ud574\\ub3c4\", \"\\ud574\\ub3d9\", \"\\ud574\\ubb3c\", \"\\ud589\\uc0ac\", \"\\ud604\\ubbf8\", \"\\ud604\\uc7ac\", \"\\ud604\\uc7ac\", \"\\ud604\\uc7ac\", \"\\ud604\\uc7ac\", \"\\ud604\\uc7ac\", \"\\ud604\\uc9c0\", \"\\ud638\\ub450\", \"\\ud638\\ubc15\\uace0\\uad6c\\ub9c8\", \"\\ud654\\uc694\\uc77c\", \"\\ud655\\uc778\", \"\\ud655\\uc778\", \"\\ud655\\uc778\", \"\\ud655\\uc778\", \"\\ud655\\uc778\", \"\\ud655\\uc778\", \"\\ud655\\uc778\", \"\\ud655\\uc778\", \"\\ud655\\uc815\", \"\\ud658\\ubd88\", \"\\ud658\\ubd88\", \"\\ud68c\\uc0ac\", \"\\ud68c\\uc218\", \"\\ud68c\\uc218\", \"\\ud6a8\\uacfc\", \"\\ud6c4\\uae30\", \"\\ud6fc\\uc190\", \"\\ud734\\ubb34\"]}, \"R\": 30, \"lambda.step\": 0.01, \"plot.opts\": {\"xlab\": \"PC1\", \"ylab\": \"PC2\"}, \"topic.order\": [5, 9, 10, 7, 3, 8, 2, 1, 4, 6]};\n",
              "\n",
              "function LDAvis_load_lib(url, callback){\n",
              "  var s = document.createElement('script');\n",
              "  s.src = url;\n",
              "  s.async = true;\n",
              "  s.onreadystatechange = s.onload = callback;\n",
              "  s.onerror = function(){console.warn(\"failed to load library \" + url);};\n",
              "  document.getElementsByTagName(\"head\")[0].appendChild(s);\n",
              "}\n",
              "\n",
              "if(typeof(LDAvis) !== \"undefined\"){\n",
              "   // already loaded: just create the visualization\n",
              "   !function(LDAvis){\n",
              "       new LDAvis(\"#\" + \"ldavis_el308139277446147408339468549\", ldavis_el308139277446147408339468549_data);\n",
              "   }(LDAvis);\n",
              "}else if(typeof define === \"function\" && define.amd){\n",
              "   // require.js is available: use it to load d3/LDAvis\n",
              "   require.config({paths: {d3: \"https://d3js.org/d3.v5\"}});\n",
              "   require([\"d3\"], function(d3){\n",
              "      window.d3 = d3;\n",
              "      LDAvis_load_lib(\"https://cdn.jsdelivr.net/gh/bmabey/pyLDAvis@3.4.0/pyLDAvis/js/ldavis.v3.0.0.js\", function(){\n",
              "        new LDAvis(\"#\" + \"ldavis_el308139277446147408339468549\", ldavis_el308139277446147408339468549_data);\n",
              "      });\n",
              "    });\n",
              "}else{\n",
              "    // require.js not available: dynamically load d3 & LDAvis\n",
              "    LDAvis_load_lib(\"https://d3js.org/d3.v5.js\", function(){\n",
              "         LDAvis_load_lib(\"https://cdn.jsdelivr.net/gh/bmabey/pyLDAvis@3.4.0/pyLDAvis/js/ldavis.v3.0.0.js\", function(){\n",
              "                 new LDAvis(\"#\" + \"ldavis_el308139277446147408339468549\", ldavis_el308139277446147408339468549_data);\n",
              "            })\n",
              "         });\n",
              "}\n",
              "</script>"
            ]
          },
          "metadata": {},
          "execution_count": 54
        }
      ]
    },
    {
      "cell_type": "markdown",
      "source": [
        "# 전체 발화문에 대한 토픽 모델링"
      ],
      "metadata": {
        "id": "hmbxxWvd1OEm"
      }
    },
    {
      "cell_type": "code",
      "source": [
        "t = data[['발화문']]\n",
        "t.head(5)"
      ],
      "metadata": {
        "colab": {
          "base_uri": "https://localhost:8080/",
          "height": 262
        },
        "id": "gJ3EsF2L1NhQ",
        "outputId": "1d507b99-a33f-4009-a53a-779dbae572f6"
      },
      "execution_count": null,
      "outputs": [
        {
          "output_type": "stream",
          "name": "stderr",
          "text": [
            "/usr/local/lib/python3.10/dist-packages/ipykernel/ipkernel.py:283: DeprecationWarning: `should_run_async` will not call `transform_cell` automatically in the future. Please pass the result to `transformed_cell` argument and any exception that happen during thetransform in `preprocessing_exc_tuple` in IPython 7.17 and above.\n",
            "  and should_run_async(code)\n"
          ]
        },
        {
          "output_type": "execute_result",
          "data": {
            "text/plain": [
              "                                                 발화문\n",
              "0  컵밥 2만원 이상을 사면 무료 배송으로 아는데 여기가 죽도 추가로 몇 개 더 주문해...\n",
              "1    박스에 합포가 되지 않을 수도 있어 정확한 답변 드리지 못하는 점 양해 부탁드립니다.\n",
              "2  해마로 기준 6개 이상이고 볶음밥 기준으로는 50개 이상인데 해마로 케이준 1봉과 ...\n",
              "3  일단 두 제품이 같이 담기면 최소 수량 부과인 6개 이상은 시스템 상 자동부과가 됩니다.\n",
              "4  마트 원데이는 무료 배송이라고 되있는데 왜 결제를 하려고 하니까 배송비 3000원이..."
            ],
            "text/html": [
              "\n",
              "  <div id=\"df-8371b56b-8914-4f23-b57d-76312bef570f\" class=\"colab-df-container\">\n",
              "    <div>\n",
              "<style scoped>\n",
              "    .dataframe tbody tr th:only-of-type {\n",
              "        vertical-align: middle;\n",
              "    }\n",
              "\n",
              "    .dataframe tbody tr th {\n",
              "        vertical-align: top;\n",
              "    }\n",
              "\n",
              "    .dataframe thead th {\n",
              "        text-align: right;\n",
              "    }\n",
              "</style>\n",
              "<table border=\"1\" class=\"dataframe\">\n",
              "  <thead>\n",
              "    <tr style=\"text-align: right;\">\n",
              "      <th></th>\n",
              "      <th>발화문</th>\n",
              "    </tr>\n",
              "  </thead>\n",
              "  <tbody>\n",
              "    <tr>\n",
              "      <th>0</th>\n",
              "      <td>컵밥 2만원 이상을 사면 무료 배송으로 아는데 여기가 죽도 추가로 몇 개 더 주문해...</td>\n",
              "    </tr>\n",
              "    <tr>\n",
              "      <th>1</th>\n",
              "      <td>박스에 합포가 되지 않을 수도 있어 정확한 답변 드리지 못하는 점 양해 부탁드립니다.</td>\n",
              "    </tr>\n",
              "    <tr>\n",
              "      <th>2</th>\n",
              "      <td>해마로 기준 6개 이상이고 볶음밥 기준으로는 50개 이상인데 해마로 케이준 1봉과 ...</td>\n",
              "    </tr>\n",
              "    <tr>\n",
              "      <th>3</th>\n",
              "      <td>일단 두 제품이 같이 담기면 최소 수량 부과인 6개 이상은 시스템 상 자동부과가 됩니다.</td>\n",
              "    </tr>\n",
              "    <tr>\n",
              "      <th>4</th>\n",
              "      <td>마트 원데이는 무료 배송이라고 되있는데 왜 결제를 하려고 하니까 배송비 3000원이...</td>\n",
              "    </tr>\n",
              "  </tbody>\n",
              "</table>\n",
              "</div>\n",
              "    <div class=\"colab-df-buttons\">\n",
              "\n",
              "  <div class=\"colab-df-container\">\n",
              "    <button class=\"colab-df-convert\" onclick=\"convertToInteractive('df-8371b56b-8914-4f23-b57d-76312bef570f')\"\n",
              "            title=\"Convert this dataframe to an interactive table.\"\n",
              "            style=\"display:none;\">\n",
              "\n",
              "  <svg xmlns=\"http://www.w3.org/2000/svg\" height=\"24px\" viewBox=\"0 -960 960 960\">\n",
              "    <path d=\"M120-120v-720h720v720H120Zm60-500h600v-160H180v160Zm220 220h160v-160H400v160Zm0 220h160v-160H400v160ZM180-400h160v-160H180v160Zm440 0h160v-160H620v160ZM180-180h160v-160H180v160Zm440 0h160v-160H620v160Z\"/>\n",
              "  </svg>\n",
              "    </button>\n",
              "\n",
              "  <style>\n",
              "    .colab-df-container {\n",
              "      display:flex;\n",
              "      gap: 12px;\n",
              "    }\n",
              "\n",
              "    .colab-df-convert {\n",
              "      background-color: #E8F0FE;\n",
              "      border: none;\n",
              "      border-radius: 50%;\n",
              "      cursor: pointer;\n",
              "      display: none;\n",
              "      fill: #1967D2;\n",
              "      height: 32px;\n",
              "      padding: 0 0 0 0;\n",
              "      width: 32px;\n",
              "    }\n",
              "\n",
              "    .colab-df-convert:hover {\n",
              "      background-color: #E2EBFA;\n",
              "      box-shadow: 0px 1px 2px rgba(60, 64, 67, 0.3), 0px 1px 3px 1px rgba(60, 64, 67, 0.15);\n",
              "      fill: #174EA6;\n",
              "    }\n",
              "\n",
              "    .colab-df-buttons div {\n",
              "      margin-bottom: 4px;\n",
              "    }\n",
              "\n",
              "    [theme=dark] .colab-df-convert {\n",
              "      background-color: #3B4455;\n",
              "      fill: #D2E3FC;\n",
              "    }\n",
              "\n",
              "    [theme=dark] .colab-df-convert:hover {\n",
              "      background-color: #434B5C;\n",
              "      box-shadow: 0px 1px 3px 1px rgba(0, 0, 0, 0.15);\n",
              "      filter: drop-shadow(0px 1px 2px rgba(0, 0, 0, 0.3));\n",
              "      fill: #FFFFFF;\n",
              "    }\n",
              "  </style>\n",
              "\n",
              "    <script>\n",
              "      const buttonEl =\n",
              "        document.querySelector('#df-8371b56b-8914-4f23-b57d-76312bef570f button.colab-df-convert');\n",
              "      buttonEl.style.display =\n",
              "        google.colab.kernel.accessAllowed ? 'block' : 'none';\n",
              "\n",
              "      async function convertToInteractive(key) {\n",
              "        const element = document.querySelector('#df-8371b56b-8914-4f23-b57d-76312bef570f');\n",
              "        const dataTable =\n",
              "          await google.colab.kernel.invokeFunction('convertToInteractive',\n",
              "                                                    [key], {});\n",
              "        if (!dataTable) return;\n",
              "\n",
              "        const docLinkHtml = 'Like what you see? Visit the ' +\n",
              "          '<a target=\"_blank\" href=https://colab.research.google.com/notebooks/data_table.ipynb>data table notebook</a>'\n",
              "          + ' to learn more about interactive tables.';\n",
              "        element.innerHTML = '';\n",
              "        dataTable['output_type'] = 'display_data';\n",
              "        await google.colab.output.renderOutput(dataTable, element);\n",
              "        const docLink = document.createElement('div');\n",
              "        docLink.innerHTML = docLinkHtml;\n",
              "        element.appendChild(docLink);\n",
              "      }\n",
              "    </script>\n",
              "  </div>\n",
              "\n",
              "\n",
              "<div id=\"df-94acadfc-f010-41b5-9659-674e836e2852\">\n",
              "  <button class=\"colab-df-quickchart\" onclick=\"quickchart('df-94acadfc-f010-41b5-9659-674e836e2852')\"\n",
              "            title=\"Suggest charts.\"\n",
              "            style=\"display:none;\">\n",
              "\n",
              "<svg xmlns=\"http://www.w3.org/2000/svg\" height=\"24px\"viewBox=\"0 0 24 24\"\n",
              "     width=\"24px\">\n",
              "    <g>\n",
              "        <path d=\"M19 3H5c-1.1 0-2 .9-2 2v14c0 1.1.9 2 2 2h14c1.1 0 2-.9 2-2V5c0-1.1-.9-2-2-2zM9 17H7v-7h2v7zm4 0h-2V7h2v10zm4 0h-2v-4h2v4z\"/>\n",
              "    </g>\n",
              "</svg>\n",
              "  </button>\n",
              "\n",
              "<style>\n",
              "  .colab-df-quickchart {\n",
              "      --bg-color: #E8F0FE;\n",
              "      --fill-color: #1967D2;\n",
              "      --hover-bg-color: #E2EBFA;\n",
              "      --hover-fill-color: #174EA6;\n",
              "      --disabled-fill-color: #AAA;\n",
              "      --disabled-bg-color: #DDD;\n",
              "  }\n",
              "\n",
              "  [theme=dark] .colab-df-quickchart {\n",
              "      --bg-color: #3B4455;\n",
              "      --fill-color: #D2E3FC;\n",
              "      --hover-bg-color: #434B5C;\n",
              "      --hover-fill-color: #FFFFFF;\n",
              "      --disabled-bg-color: #3B4455;\n",
              "      --disabled-fill-color: #666;\n",
              "  }\n",
              "\n",
              "  .colab-df-quickchart {\n",
              "    background-color: var(--bg-color);\n",
              "    border: none;\n",
              "    border-radius: 50%;\n",
              "    cursor: pointer;\n",
              "    display: none;\n",
              "    fill: var(--fill-color);\n",
              "    height: 32px;\n",
              "    padding: 0;\n",
              "    width: 32px;\n",
              "  }\n",
              "\n",
              "  .colab-df-quickchart:hover {\n",
              "    background-color: var(--hover-bg-color);\n",
              "    box-shadow: 0 1px 2px rgba(60, 64, 67, 0.3), 0 1px 3px 1px rgba(60, 64, 67, 0.15);\n",
              "    fill: var(--button-hover-fill-color);\n",
              "  }\n",
              "\n",
              "  .colab-df-quickchart-complete:disabled,\n",
              "  .colab-df-quickchart-complete:disabled:hover {\n",
              "    background-color: var(--disabled-bg-color);\n",
              "    fill: var(--disabled-fill-color);\n",
              "    box-shadow: none;\n",
              "  }\n",
              "\n",
              "  .colab-df-spinner {\n",
              "    border: 2px solid var(--fill-color);\n",
              "    border-color: transparent;\n",
              "    border-bottom-color: var(--fill-color);\n",
              "    animation:\n",
              "      spin 1s steps(1) infinite;\n",
              "  }\n",
              "\n",
              "  @keyframes spin {\n",
              "    0% {\n",
              "      border-color: transparent;\n",
              "      border-bottom-color: var(--fill-color);\n",
              "      border-left-color: var(--fill-color);\n",
              "    }\n",
              "    20% {\n",
              "      border-color: transparent;\n",
              "      border-left-color: var(--fill-color);\n",
              "      border-top-color: var(--fill-color);\n",
              "    }\n",
              "    30% {\n",
              "      border-color: transparent;\n",
              "      border-left-color: var(--fill-color);\n",
              "      border-top-color: var(--fill-color);\n",
              "      border-right-color: var(--fill-color);\n",
              "    }\n",
              "    40% {\n",
              "      border-color: transparent;\n",
              "      border-right-color: var(--fill-color);\n",
              "      border-top-color: var(--fill-color);\n",
              "    }\n",
              "    60% {\n",
              "      border-color: transparent;\n",
              "      border-right-color: var(--fill-color);\n",
              "    }\n",
              "    80% {\n",
              "      border-color: transparent;\n",
              "      border-right-color: var(--fill-color);\n",
              "      border-bottom-color: var(--fill-color);\n",
              "    }\n",
              "    90% {\n",
              "      border-color: transparent;\n",
              "      border-bottom-color: var(--fill-color);\n",
              "    }\n",
              "  }\n",
              "</style>\n",
              "\n",
              "  <script>\n",
              "    async function quickchart(key) {\n",
              "      const quickchartButtonEl =\n",
              "        document.querySelector('#' + key + ' button');\n",
              "      quickchartButtonEl.disabled = true;  // To prevent multiple clicks.\n",
              "      quickchartButtonEl.classList.add('colab-df-spinner');\n",
              "      try {\n",
              "        const charts = await google.colab.kernel.invokeFunction(\n",
              "            'suggestCharts', [key], {});\n",
              "      } catch (error) {\n",
              "        console.error('Error during call to suggestCharts:', error);\n",
              "      }\n",
              "      quickchartButtonEl.classList.remove('colab-df-spinner');\n",
              "      quickchartButtonEl.classList.add('colab-df-quickchart-complete');\n",
              "    }\n",
              "    (() => {\n",
              "      let quickchartButtonEl =\n",
              "        document.querySelector('#df-94acadfc-f010-41b5-9659-674e836e2852 button');\n",
              "      quickchartButtonEl.style.display =\n",
              "        google.colab.kernel.accessAllowed ? 'block' : 'none';\n",
              "    })();\n",
              "  </script>\n",
              "</div>\n",
              "    </div>\n",
              "  </div>\n"
            ]
          },
          "metadata": {},
          "execution_count": 55
        }
      ]
    },
    {
      "cell_type": "code",
      "source": [
        "t['발화문'] = t.apply(tokenize_korean_text, axis=1)\n",
        "t['발화문'] = t['발화문'].apply(remove_stopwords)\n",
        "t_doc = t['발화문'].apply(lambda x: [word for word in x if len(word) > 1])\n",
        "print(t_doc[:5])"
      ],
      "metadata": {
        "colab": {
          "base_uri": "https://localhost:8080/"
        },
        "id": "ChvH1e2T1eNv",
        "outputId": "eabf4265-0a8e-4f4e-d39d-ecd8fcbfafed"
      },
      "execution_count": null,
      "outputs": [
        {
          "output_type": "stream",
          "name": "stderr",
          "text": [
            "/usr/local/lib/python3.10/dist-packages/ipykernel/ipkernel.py:283: DeprecationWarning: `should_run_async` will not call `transform_cell` automatically in the future. Please pass the result to `transformed_cell` argument and any exception that happen during thetransform in `preprocessing_exc_tuple` in IPython 7.17 and above.\n",
            "  and should_run_async(code)\n",
            "<ipython-input-56-fb987e10d382>:1: SettingWithCopyWarning: \n",
            "A value is trying to be set on a copy of a slice from a DataFrame.\n",
            "Try using .loc[row_indexer,col_indexer] = value instead\n",
            "\n",
            "See the caveats in the documentation: https://pandas.pydata.org/pandas-docs/stable/user_guide/indexing.html#returning-a-view-versus-a-copy\n",
            "  t['발화문'] = t.apply(tokenize_korean_text, axis=1)\n",
            "<ipython-input-56-fb987e10d382>:2: SettingWithCopyWarning: \n",
            "A value is trying to be set on a copy of a slice from a DataFrame.\n",
            "Try using .loc[row_indexer,col_indexer] = value instead\n",
            "\n",
            "See the caveats in the documentation: https://pandas.pydata.org/pandas-docs/stable/user_guide/indexing.html#returning-a-view-versus-a-copy\n",
            "  t['발화문'] = t['발화문'].apply(remove_stopwords)\n"
          ]
        },
        {
          "output_type": "stream",
          "name": "stdout",
          "text": [
            "0                [컵밥, 사면, 무료, 배송, 죽도, 추가, 주문, 추가, 배송비]\n",
            "1                                 [박스, 합포, 수도, 답변, 양해]\n",
            "2    [해마, 기준, 볶음밥, 기준, 해마, 케이준, 볶음밥, 구매, 배송비, 내야, 하나요]\n",
            "3                   [제품, 최소, 수량, 부과, 이상은, 시스템, 자동, 부과]\n",
            "4                           [마트, 원데이, 무료, 배송, 결제, 배송비]\n",
            "Name: 발화문, dtype: object\n"
          ]
        }
      ]
    },
    {
      "cell_type": "code",
      "source": [
        "diction = corpora.Dictionary(t_doc)\n",
        "cor = [diction.doc2bow(t) for t in t_doc]\n",
        "print(cor[1]) # 수행된 결과에서 두번째 뉴스 출력. 첫번째 문서의 인덱스는 0"
      ],
      "metadata": {
        "colab": {
          "base_uri": "https://localhost:8080/"
        },
        "id": "o4psi25g-bDT",
        "outputId": "2c3ced15-a7e6-4482-9e5a-fb4f651833fa"
      },
      "execution_count": null,
      "outputs": [
        {
          "output_type": "stream",
          "name": "stderr",
          "text": [
            "/usr/local/lib/python3.10/dist-packages/ipykernel/ipkernel.py:283: DeprecationWarning: `should_run_async` will not call `transform_cell` automatically in the future. Please pass the result to `transformed_cell` argument and any exception that happen during thetransform in `preprocessing_exc_tuple` in IPython 7.17 and above.\n",
            "  and should_run_async(code)\n"
          ]
        },
        {
          "output_type": "stream",
          "name": "stdout",
          "text": [
            "[(8, 1), (9, 1), (10, 1), (11, 1), (12, 1)]\n"
          ]
        }
      ]
    },
    {
      "cell_type": "code",
      "source": [
        "NUM_TOPICS = 20 # 20개의 토픽, k=20\n",
        "lda = gensim.models.ldamodel.LdaModel(cor, num_topics = NUM_TOPICS, id2word=diction, passes=15)\n",
        "topics = lda.print_topics(num_words=4)\n",
        "for topic in topics:\n",
        "    print(topic)"
      ],
      "metadata": {
        "colab": {
          "base_uri": "https://localhost:8080/"
        },
        "id": "AzVOuWt3-zkm",
        "outputId": "fe9d9d19-bcae-47c7-a441-6ecbe03d26cf"
      },
      "execution_count": null,
      "outputs": [
        {
          "output_type": "stream",
          "name": "stderr",
          "text": [
            "/usr/local/lib/python3.10/dist-packages/ipykernel/ipkernel.py:283: DeprecationWarning: `should_run_async` will not call `transform_cell` automatically in the future. Please pass the result to `transformed_cell` argument and any exception that happen during thetransform in `preprocessing_exc_tuple` in IPython 7.17 and above.\n",
            "  and should_run_async(code)\n"
          ]
        },
        {
          "output_type": "stream",
          "name": "stdout",
          "text": [
            "(0, '0.297*\"상품\" + 0.189*\"출고\" + 0.067*\"월요일\" + 0.060*\"예정\"')\n",
            "(1, '0.155*\"경우\" + 0.154*\"판매\" + 0.077*\"옵션\" + 0.071*\"사은\"')\n",
            "(2, '0.166*\"처리\" + 0.105*\"반품\" + 0.089*\"유통\" + 0.084*\"기한\"')\n",
            "(3, '0.135*\"변경\" + 0.104*\"해당\" + 0.088*\"양해\" + 0.085*\"진행\"')\n",
            "(4, '0.160*\"내일\" + 0.121*\"금요일\" + 0.087*\"출고\" + 0.083*\"문건\"')\n",
            "(5, '0.112*\"차이\" + 0.079*\"문제\" + 0.064*\"기준\" + 0.050*\"기재\"')\n",
            "(6, '0.329*\"확인\" + 0.123*\"고객\" + 0.067*\"다시\" + 0.047*\"번호\"')\n",
            "(7, '0.662*\"배송\" + 0.065*\"묶음\" + 0.063*\"보관\" + 0.052*\"냉동\"')\n",
            "(8, '0.526*\"주문\" + 0.225*\"오늘\" + 0.113*\"수령\" + 0.036*\"제주도\"')\n",
            "(9, '0.235*\"현재\" + 0.148*\"도착\" + 0.102*\"하루\" + 0.087*\"지연\"')\n",
            "(10, '0.274*\"가격\" + 0.264*\"포장\" + 0.045*\"금액\" + 0.040*\"생산\"')\n",
            "(11, '0.435*\"제품\" + 0.107*\"지금\" + 0.054*\"냉장\" + 0.045*\"방금\"')\n",
            "(12, '0.276*\"구매\" + 0.113*\"참고\" + 0.073*\"행사\" + 0.068*\"추가\"')\n",
            "(13, '0.482*\"발송\" + 0.291*\"택배\" + 0.052*\"오전\" + 0.041*\"신청\"')\n",
            "(14, '0.281*\"문의\" + 0.078*\"상품\" + 0.072*\"답변\" + 0.049*\"추석\"')\n",
            "(15, '0.259*\"박스\" + 0.104*\"선물\" + 0.084*\"아이스팩\" + 0.077*\"아이스박스\"')\n",
            "(16, '0.115*\"하나요\" + 0.105*\"캡슐\" + 0.085*\"지역\" + 0.076*\"이용\"')\n",
            "(17, '0.235*\"토요일\" + 0.093*\"목요일\" + 0.077*\"머신\" + 0.061*\"증정\"')\n",
            "(18, '0.168*\"요청\" + 0.145*\"교환\" + 0.065*\"송장\" + 0.057*\"사항\"')\n",
            "(19, '0.093*\"배송비\" + 0.070*\"준비\" + 0.042*\"먼저\" + 0.037*\"사람\"')\n"
          ]
        }
      ]
    },
    {
      "cell_type": "code",
      "source": [
        "pyLDAvis.enable_notebook()\n",
        "avis = pyLDAvis.gensim_models.prepare(lda, cor, diction)\n",
        "pyLDAvis.display(avis)"
      ],
      "metadata": {
        "colab": {
          "base_uri": "https://localhost:8080/",
          "height": 918
        },
        "id": "fdKJb27X_JO_",
        "outputId": "5c1babc1-a88b-4173-8e9f-57bcec17bdb1"
      },
      "execution_count": null,
      "outputs": [
        {
          "output_type": "stream",
          "name": "stderr",
          "text": [
            "/usr/local/lib/python3.10/dist-packages/ipykernel/ipkernel.py:283: DeprecationWarning: `should_run_async` will not call `transform_cell` automatically in the future. Please pass the result to `transformed_cell` argument and any exception that happen during thetransform in `preprocessing_exc_tuple` in IPython 7.17 and above.\n",
            "  and should_run_async(code)\n"
          ]
        },
        {
          "output_type": "execute_result",
          "data": {
            "text/plain": [
              "<IPython.core.display.HTML object>"
            ],
            "text/html": [
              "\n",
              "<link rel=\"stylesheet\" type=\"text/css\" href=\"https://cdn.jsdelivr.net/gh/bmabey/pyLDAvis@3.4.0/pyLDAvis/js/ldavis.v1.0.0.css\">\n",
              "\n",
              "\n",
              "<div id=\"ldavis_el3081392768925478727429330602\" style=\"background-color:white;\"></div>\n",
              "<script type=\"text/javascript\">\n",
              "\n",
              "var ldavis_el3081392768925478727429330602_data = {\"mdsDat\": {\"x\": [0.3746240821447776, -0.054314386474882084, -0.054293518684505694, -0.05614947132458614, -0.056196246725615025, 0.2596092811264352, -0.05550477785619802, -0.07419577696756428, -0.056614009188322004, -0.05764998408954872, -0.05690493342192991, 0.10859090232328503, 0.20235854704227432, -0.05765141215593543, -0.056616071775153806, -0.05799616449613311, -0.05858273596183653, -0.05893371739253962, -0.058371650531405514, -0.07520795559061637], \"y\": [-0.01597880547361369, 0.06713946037659956, 0.06764047584071924, 0.05430343859517346, 0.05411459796393603, -0.01676249090233629, 0.05870996041936356, -0.3483576847436216, 0.05092148141335258, 0.04271123602982035, 0.04873009046089881, 0.014823244469473522, -0.008069328524556088, 0.042755339181052836, 0.05104255619056869, 0.039903594945390905, 0.03439687583610145, 0.028976863708316696, 0.03632267997301389, -0.30332358575965435], \"topics\": [1, 2, 3, 4, 5, 6, 7, 8, 9, 10, 11, 12, 13, 14, 15, 16, 17, 18, 19, 20], \"cluster\": [1, 1, 1, 1, 1, 1, 1, 1, 1, 1, 1, 1, 1, 1, 1, 1, 1, 1, 1, 1], \"Freq\": [8.919857057829818, 7.624400670033123, 7.515360197198776, 6.383811623893777, 5.918098975169979, 5.7783728156084875, 5.517087083879866, 5.495505066992317, 5.0758311594987715, 4.997701178378274, 4.47663630371919, 4.196457857546427, 4.081613112534803, 3.751807877758732, 3.6794731635609668, 3.5352414748032768, 3.370190007158265, 3.343804796092624, 3.2129259138141033, 3.125823664528419]}, \"tinfo\": {\"Term\": [\"\\ubc30\\uc1a1\", \"\\uc8fc\\ubb38\", \"\\ubc1c\\uc1a1\", \"\\uc81c\\ud488\", \"\\uc0c1\\ud488\", \"\\ud0dd\\ubc30\", \"\\ud655\\uc778\", \"\\uc624\\ub298\", \"\\uad6c\\ub9e4\", \"\\ucd9c\\uace0\", \"\\ubb38\\uc758\", \"\\ud604\\uc7ac\", \"\\uac00\\uaca9\", \"\\ud3ec\\uc7a5\", \"\\ubc15\\uc2a4\", \"\\ucc98\\ub9ac\", \"\\ub0b4\\uc77c\", \"\\ud1a0\\uc694\\uc77c\", \"\\uacbd\\uc6b0\", \"\\ud310\\ub9e4\", \"\\ub3c4\\ucc29\", \"\\uc218\\ub839\", \"\\uae08\\uc694\\uc77c\", \"\\uc694\\uccad\", \"\\uc9c0\\uae08\", \"\\ucc38\\uace0\", \"\\ubcc0\\uacbd\", \"\\ubc18\\ud488\", \"\\uad50\\ud658\", \"\\uace0\\uac1d\", \"\\uc6d4\\uc694\\uc77c\", \"\\uc0ac\\uc6a9\", \"\\ucde8\\uc18c\", \"\\uae08\\uc77c\", \"\\uc21c\\ucc28\", \"\\ub9c8\\uac10\", \"\\ud30c\\uc190\", \"\\ucfe0\\ud3f0\", \"\\uc5c5\\uccb4\", \"\\uc218\\uac70\", \"\\ubaa8\\ub4e0\", \"\\ub9c8\\ub9ac\", \"\\uc18c\\ub7c9\", \"\\ud56d\\uc0c1\", \"\\uc99d\\uac00\", \"\\ub2f9\\uc0ac\", \"\\ucd08\\ucf54\", \"\\uc218\\ucde8\", \"\\uc778\\ud558\", \"\\uc824\\ub9ac\", \"\\uc0c1\\ub2f4\", \"\\uae09\\uc99d\", \"\\uacfc\\uc790\", \"\\ub3c5\\uc77c\", \"\\uad00\\ud560\", \"\\ub2e8\\ud638\\ubc15\", \"\\uac00\\uc2dc\", \"\\uace4\\uc57d\", \"\\uac04\\uc774\", \"\\uc601\\uc218\\uc99d\", \"\\uc0c1\\ud488\", \"\\ucd9c\\uace0\", \"\\uc608\\uc815\", \"\\uc591\\ud574\", \"\\uc9c4\\ud589\", \"\\uc8fc\\ubb38\", \"\\uc624\\ub298\", \"\\uc218\\ub839\", \"\\uc81c\\uc8fc\\ub3c4\", \"\\uc9c1\\uc811\", \"\\ubb3c\\uac74\", \"\\uc608\\uc0c1\", \"\\uac00\\ub2a5\", \"\\ud6c4\\uae30\", \"\\uac8c\\uc2dc\\ud310\", \"\\uc774\\uad6c\", \"\\ubb3c\\ud488\", \"\\uc628\\ub77c\\uc778\", \"\\uc0c1\\uad00\", \"\\uc704\\ub85c\", \"\\ubc31\\uc124\\uae30\", \"\\uc5b4\\uc11c\", \"\\uc219\\uc9c0\", \"\\ud654\\uc694\\uc77c\", \"\\uc218\\uc694\\uc77c\", \"\\uc800\\ub141\", \"\\uc774\\ud6c4\", \"\\uc544\\uce68\", \"\\ub2e4\\uc74c\\uc8fc\", \"\\uba85\\uc808\", \"\\ub85c\\uc2a4\\ud305\", \"\\uc77c\\ub3c4\", \"\\uc77c\\ucc0d\", \"\\uc77c\\uc8fc\\uc77c\", \"\\uc774\\uc720\\uc2dd\", \"\\uace0\\uae09\", \"\\ud488\\uc808\", \"\\ud3c9\\uc77c\", \"\\ud734\\ubb34\", \"\\ubc30\\uc1a1\", \"\\ubb36\\uc74c\", \"\\ubcf4\\uad00\", \"\\ub0c9\\ub3d9\", \"\\ubb34\\ub8cc\", \"\\ub0a0\\uc528\", \"\\uc77c\\uc694\\uc77c\", \"\\uc720\\uae30\\ub18d\", \"\\uc81c\\uc678\", \"\\uc218\\uc785\", \"\\ubd80\\ud0c1\", \"\\uacf5\\ud734\\uc77c\", \"\\uc591\\ubc30\\ucd94\", \"\\uc2dc\\uc138\", \"\\uc0ac\\uba74\", \"\\uad00\\uacc4\", \"\\ub5a1\\ubcf6\\uc774\", \"\\ud615\\ud0dc\", \"\\uc0c1\\uc774\", \"\\ubc18\\ucc2c\", \"\\ub2e4\\ud06c\", \"\\uac00\\uc815\", \"\\uc544\\uc774\\uc2a4\\ud06c\\ub9bc\", \"\\uc720\\ud1b5\\uae30\\uac04\", \"\\uba78\\uce58\", \"\\ud130\\ubbf8\\ub110\", \"\\uc2dc\\uc7a5\", \"\\uc870\\uac74\", \"\\uc804\\uad6d\", \"\\uc0ac\\uc11c\", \"\\uc81c\\ud488\", \"\\uc9c0\\uae08\", \"\\ub0c9\\uc7a5\", \"\\ubc29\\uae08\", \"\\uc2dd\\ud488\", \"\\uc811\\uc218\", \"\\uba54\\uc138\\uc9c0\", \"\\uc6b0\\uc720\", \"\\uc5f0\\ud734\", \"\\ud3ed\\uc8fc\", \"\\uac74\\uac15\", \"\\uc548\\uc2ec\", \"\\uc2e4\\uc628\", \"\\uc804\\uccb4\", \"\\uae30\\ub2a5\", \"\\uc6a9\\ub7c9\", \"\\ubcc4\\ub85c\", \"\\ud3d0\\uae30\", \"\\uc774\\ub3d9\", \"\\uac10\\uc790\", \"\\uc7ac\\uc8fc\", \"\\ub300\\uac8c\", \"\\uaec0\\ub370\", \"\\uc608\\uc804\", \"\\ube14\\ub8e8\\ubca0\\ub9ac\", \"\\ub358\\ub370\", \"\\uad70\\ub370\", \"\\uce58\\ud0a8\", \"\\ubca0\\ub9ac\", \"\\uc21c\\ub300\", \"\\ucc98\\ub9ac\", \"\\ubc18\\ud488\", \"\\uc720\\ud1b5\", \"\\uae30\\ud55c\", \"\\ud658\\ubd88\", \"\\uc5b4\\uc81c\", \"\\uc81c\\uc870\", \"\\ubb3c\\ub7c9\", \"\\ud1b5\\uc6b4\", \"\\ucd5c\\uadfc\", \"\\uac1c\\uc6d4\", \"\\uc18c\\uc694\", \"\\uc791\\uc5c5\", \"\\uc798\\ubabb\", \"\\uc911\\uc778\", \"\\uc6d0\\ub450\", \"\\ubb3c\\ub958\", \"\\uc774\\ub0b4\", \"\\uc815\\ud488\", \"\\ubc18\\uc601\", \"\\ud64d\\uac8c\", \"\\ub354\\uc6b1\", \"\\uc62c\\ud574\", \"\\ub9c8\\ub298\", \"\\uc2e0\\uc120\", \"\\uc774\\uc138\", \"\\uc544\\uba54\\ub9ac\\uce74\\ub178\", \"\\uc804\\uc0b0\", \"\\uc2e4\\uc81c\", \"\\uc774\\uc678\", \"\\ub0b4\\uc77c\", \"\\uae08\\uc694\\uc77c\", \"\\ubb38\\uac74\", \"\\uacb0\\uc81c\", \"\\ub2f9\\uc77c\", \"\\uc644\\ub8cc\", \"\\uc624\\ud6c4\", \"\\uc774\\uc804\", \"\\ubcc0\\ub3d9\", \"\\uc9c0\\uc815\", \"\\ud64d\\uc0bc\", \"\\ubc30\\ub2ec\", \"\\uc785\\uae08\", \"\\uad6d\\ub0b4\", \"\\uc0c1\\ud669\", \"\\uad00\\uc2ec\", \"\\ud488\\uc9c8\", \"\\ubcf8\\uc0ac\", \"\\ud604\\uc9c0\", \"\\ube44\\uad50\", \"\\ubd84\\ub958\", \"\\uc601\\ud5a5\", \"\\uace0\\ub824\", \"\\uac1c\\uc2dc\", \"\\uc9c0\\uc815\\uc740\", \"\\ucf00\\uc77c\", \"\\ub354\\ub2c8\", \"\\ub9c8\\ucf13\", \"\\ud587\\ubc18\", \"\\uace0\\uc9c0\", \"\\ucd9c\\uace0\", \"\\uc608\\uc815\", \"\\ubc1c\\uc1a1\", \"\\ud0dd\\ubc30\", \"\\uc624\\uc804\", \"\\uc2e0\\uccad\", \"\\uae40\\uce58\", \"\\uc815\\ub9d0\", \"\\uc0ac\\uc815\", \"\\ubb34\\uac8c\", \"\\ubd84\\ub9ac\", \"\\ub300\\ubd80\\ubd84\", \"\\ubd80\\ub2f4\", \"\\ud558\\ub2c8\", \"\\uacc4\\uc57d\", \"\\ubd80\\ud53c\", \"\\uc694\\ub9ac\", \"\\uc790\\uc8fc\", \"\\uacc4\\uc0b0\", \"\\ucd1d\\uac01\", \"\\ubc1c\\uc8fc\", \"\\uc544\\uc774\\ub514\", \"\\uacac\\uacfc\\ub958\", \"\\uccad\\uc8fc\", \"\\uacbd\\uae30\", \"\\uc813\\uac00\\ub77d\", \"\\uc0ac\\uac00\", \"\\uc218\\uc694\\uc77c\", \"\\ud654\\uc694\\uc77c\", \"\\uc5b4\\ub518\\uac00\", \"\\uc774\\ud6c4\", \"\\ud734\\ubb34\", \"\\uad6c\\ub9e4\", \"\\ucc38\\uace0\", \"\\ud589\\uc0ac\", \"\\uace0\\uad6c\\ub9c8\", \"\\ud560\\uc778\", \"\\uc138\\ud2b8\", \"\\uc77c\\ubc18\", \"\\uc218\\ub7c9\", \"\\uac10\\uc0ac\", \"\\ubcf4\\uc2dc\", \"\\uae30\\uac04\", \"\\uad6c\\uc131\", \"\\ub3c4\\uc6c0\", \"\\uc758\\uc8fc\", \"\\ubd84\\ub9d0\", \"\\uc804\\ud600\", \"\\uaecd\\uc9c8\", \"\\uc9c4\\uc2ec\", \"\\ub9ac\\uc9c0\", \"\\uc0b0\\uc9c0\", \"\\uc624\\ub2c8\", \"\\uc544\\ubaac\\ub4dc\", \"\\uc2e0\\uc81c\\ud488\", \"\\uac2f\\uc218\", \"\\ud0ac\\ub85c\", \"\\ucd5c\\uc18c\", \"\\uc77c\\uc2dc\", \"\\ud0a4\\ub85c\", \"\\ub85c\\uc820\\ud0dd\\ubc30\", \"\\uaf43\\uac8c\", \"\\ucd94\\uac00\", \"\\uacbd\\uc6b0\", \"\\ud310\\ub9e4\", \"\\uc635\\uc158\", \"\\uc0ac\\uc740\", \"\\uc120\\ud0dd\", \"\\ubd80\\ubd84\", \"\\ud3ec\\ud568\", \"\\uc8fc\\ub9d0\", \"\\uc18c\\uc2a4\", \"\\uc0ac\\uacfc\", \"\\uacc4\\uc18d\", \"\\uc801\\uc6a9\", \"\\uc124\\uba85\", \"\\uc81c\\uc8fc\", \"\\ub300\\ud55c\", \"\\uc790\\ub3d9\", \"\\ub300\\uc2e0\", \"\\uc9c0\\ubc29\", \"\\uc0ac\\uc7a5\", \"\\ud488\\ubaa9\", \"\\ub3c4\\uc11c\", \"\\ud655\\ub2f5\", \"\\uc81c\\uacf5\", \"\\uac04\\ud639\", \"\\uc81c\\uc77c\", \"\\uc0b0\\uac04\", \"\\uc1a1\\ub8cc\", \"\\uc544\\uc608\", \"\\uac04\\uc7a5\", \"\\ub300\\ub7c9\", \"\\ud604\\uc7ac\", \"\\ub3c4\\ucc29\", \"\\ud558\\ub8e8\", \"\\uc9c0\\uc5f0\", \"\\uc0c1\\ud0dc\", \"\\ub0a0\\uc9dc\", \"\\ubc1c\\uc0dd\", \"\\uc2dc\\uae30\", \"\\ub4f1\\ub85d\", \"\\uadf8\\ub7a8\", \"\\uc694\\uc998\", \"\\uacf5\\uc9c0\", \"\\ub85c\\ub9cc\", \"\\ud63c\\ud569\", \"\\uc77c\\uc774\", \"\\ud574\\ub3c4\", \"\\uc870\\uc815\", \"\\uc7ac\\ud574\", \"\\ud734\\uac00\", \"\\ubd80\\ubaa8\\ub2d8\", \"\\ub3fc\\uc9c0\", \"\\ucc3d\\uace0\", \"\\uc911\\ub2e8\", \"\\ub3d9\\uc2dc\", \"\\ub2f9\\uba74\", \"\\ub300\\uc0c1\", \"\\ud0a4\\uc704\", \"\\ub3fc\\uc9c0\\uace0\\uae30\", \"\\ub9ac\\uc5bc\", \"\\uc804\\ubb38\\uc758\", \"\\ud655\\uc778\", \"\\uace0\\uac1d\", \"\\ub2e4\\uc2dc\", \"\\ubc88\\ud638\", \"\\uc6b0\\uccb4\\uad6d\", \"\\ubb38\\uc790\", \"\\uc548\\ub0b4\", \"\\uc124\\ud0d5\", \"\\uc0d0\\ub7ec\\ub4dc\", \"\\ub178\\ub825\", \"\\uc8fc\\uc18c\\uc9c0\", \"\\ud68c\\uc0ac\", \"\\ub3cc\\uccb4\", \"\\uc2a4\\ud1a0\", \"\\uc790\\uccb4\", \"\\uc778\\ubd84\", \"\\ud55c\\ubc88\", \"\\ubd80\\ub4dd\\uc774\", \"\\uc0ac\\uc774\", \"\\uacb0\\uacfc\", \"\\uacf5\\uae09\", \"\\uacc4\\uc88c\", \"\\ube14\\ub799\", \"\\ub9cc\\uc871\", \"\\uc0ac\\ub824\", \"\\ucc39\\uc300\", \"\\ubcf4\\uc2e0\", \"\\uac1c\\uc120\", \"\\ud30c\\uc6b0\\ub354\", \"\\uc57d\\uc18d\", \"\\ubcc0\\uacbd\", \"\\ud574\\ub2f9\", \"\\ud37c\\uc13c\\ud2b8\", \"\\uc774\\ubca4\\ud2b8\", \"\\ub9d0\\uc500\", \"\\uc8fc\\uc18c\", \"\\ube44\\ud0c0\\ubbfc\", \"\\uc815\\uc0c1\", \"\\ubcf4\\ud1b5\", \"\\uc720\\uc0b0\\uade0\", \"\\uc804\\ub2ec\", \"\\uc0c1\\uc790\", \"\\uc218\\uc815\", \"\\uacfc\\uc815\", \"\\ubd88\\uac00\", \"\\uc2e4\\uc218\", \"\\uc6b0\\ub824\", \"\\ud1b5\\ud574\", \"\\uc2dc\\uc2a4\\ud15c\", \"\\ubcc0\\uc9c8\", \"\\uc870\\uc0ac\", \"\\uc911\\ubcf5\", \"\\uc5ec\\ub984\", \"\\uc0ac\\uc758\", \"\\ubc84\\ud130\", \"\\uc624\\ub958\", \"\\ub124\\ub124\", \"\\ub9c8\\uc74c\", \"\\ubcf6\\uc74c\\ubc25\", \"\\uc5ed\\uc2dc\", \"\\uc9c4\\ud589\", \"\\uc591\\ud574\", \"\\ubb38\\uc758\", \"\\ub2f5\\ubcc0\", \"\\ucd94\\uc11d\", \"\\ub0b4\\uc6a9\", \"\\uc911\\uc774\", \"\\ud574\\uc678\", \"\\uad00\\ub828\", \"\\uc7ac\\uace0\", \"\\uc704\\ud574\", \"\\ubc29\\ubc95\", \"\\uba54\\ubaa8\", \"\\uc0c1\\uc138\", \"\\uae30\\uc874\", \"\\uc774\\uae30\", \"\\uc800\\ubc88\", \"\\ubcf4\\uace0\", \"\\ud398\\uc774\\uc9c0\", \"\\ub9e4\\uc7a5\", \"\\ubd84\\ud560\", \"\\uc0c1\\uc628\", \"\\ub0b1\\uac1c\", \"\\ud328\\ud0a4\\uc9c0\", \"\\ud398\\uc778\", \"\\ub514\\uce74\", \"\\ubc31\\ubbf8\", \"\\ud55c\\uad6d\", \"\\uacb0\\uc815\", \"\\ud2b9\\uc815\", \"\\uc6b4\\uc601\", \"\\uc0ac\\ub791\", \"\\uc0c1\\ud488\", \"\\ud558\\ub098\\uc694\", \"\\ucea1\\uc290\", \"\\uc9c0\\uc5ed\", \"\\uc774\\uc6a9\", \"\\ubc29\\ubb38\", \"\\ucee4\\ud53c\", \"\\uae30\\uc0ac\", \"\\uad6c\\uc785\", \"\\uc77c\\ub9ac\", \"\\ubbf8\\ub9ac\", \"\\ucd9c\\ubc1c\", \"\\uc0ac\\uc774\\uc988\", \"\\uc885\\ub958\", \"\\uc0dd\\uac01\", \"\\uc774\\uba74\", \"\\uc591\\ub150\", \"\\uc77c\\ubd80\", \"\\uc774\\uc81c\", \"\\ud55c\\uc9c4\\ud0dd\\ubc30\", \"\\ub0c9\\ub3d9\\uc2dd\\ud488\", \"\\uc9c8\\ubb38\", \"\\ub2e4\\uc774\\uc5b4\\ud2b8\", \"\\ub530\\ub85c\\ub530\\ub85c\", \"\\ub9e4\\uc77c\", \"\\uc81c\\uc791\", \"\\ub9c9\\ucc3d\", \"\\uc11c\\uc6b8\", \"\\uc74c\\ub8cc\", \"\\ubb38\\uad6c\", \"\\ub300\\ud589\", \"\\uac00\\uaca9\", \"\\ud3ec\\uc7a5\", \"\\uae08\\uc561\", \"\\uc0dd\\uc0b0\", \"\\ubc30\\uc1a1\\uc9c0\", \"\\uac00\\ub8e8\", \"\\uc218\\ub3c4\", \"\\ubcc4\\ub3c4\", \"\\uac1c\\ubcc4\", \"\\ubd09\\uc9c0\", \"\\uc2e0\\uacbd\", \"\\ud45c\\uc2dc\", \"\\uac80\\uc218\", \"\\uc0c8\\uc6b0\", \"\\uc785\\ub825\", \"\\ub2e8\\uc704\", \"\\uac1c\\uc778\", \"\\ucd5c\\ub300\", \"\\uc9c0\\ub09c\\ubc88\", \"\\ub9ac\\ubdf0\", \"\\ub313\\uae00\", \"\\uc804\\ub0a0\", \"\\ubaa8\\uce74\", \"\\ud3c9\\uade0\", \"\\uc0bc\\uacb9\\uc0b4\", \"\\uc0b4\\uc774\", \"\\uc7a5\\ub09c\", \"\\ubcf6\\uc74c\", \"\\uba85\\ub780\", \"\\ubbf8\\ub9cc\", \"\\uc694\\uccad\", \"\\uad50\\ud658\", \"\\uc1a1\\uc7a5\", \"\\uc0ac\\ud56d\", \"\\uc870\\ud68c\", \"\\ucf5c\\ub77c\\uac90\", \"\\uc7ac\\ub8cc\", \"\\ucd5c\\ub300\\ud55c\", \"\\ud45c\\uae30\", \"\\uc608\\uc57d\", \"\\uc5ec\\ub7ec\", \"\\ud604\\ubbf8\", \"\\ub204\\ub77d\", \"\\ub098\\uba38\\uc9c0\", \"\\uacb0\\uc7ac\", \"\\uc11c\\ube44\\uc2a4\", \"\\ucc98\\uc74c\", \"\\uc0dd\\uc218\", \"\\uc624\\uc9d5\\uc5b4\", \"\\uc1a1\\ud574\", \"\\uc2a4\\ud2f1\", \"\\ud55c\\uc815\", \"\\uc0ac\\uc774\\ud2b8\", \"\\uadc0\\ub9ac\", \"\\uc790\\ubabd\", \"\\uc2a4\\ud0c0\\ubc85\\uc2a4\", \"\\uc628\\ub3c4\", \"\\uc608\\uc815\\uc77c\", \"\\uac00\\ub9ac\\ube44\", \"\\ud3b8\\uc774\", \"\\ubc30\\uc1a1\\ube44\", \"\\uc900\\ube44\", \"\\uba3c\\uc800\", \"\\uc0ac\\ub78c\", \"\\ud504\\ub85c\", \"\\ub2ec\\ub77c\", \"\\uac00\\uc2b4\", \"\\uc6b4\\uc1a1\", \"\\uc2dc\\uc791\", \"\\ub86f\\ub370\", \"\\uc0dd\\ubb3c\", \"\\ubbf8\\ub2c8\", \"\\uc804\\ud654\", \"\\uacc4\\ub780\", \"\\uc7a5\\ubc14\\uad6c\\ub2c8\", \"\\ubd80\\uacfc\", \"\\ubd88\\ub85c\", \"\\ub808\\ubaac\", \"\\ucfe0\\ud0a4\", \"\\uc870\\uce58\", \"\\uc774\\uac74\", \"\\uacf5\\uc7a5\", \"\\uc124\\uc815\", \"\\uc870\\uc5c5\", \"\\uc2a4\\ud14c\\uc774\\ud06c\", \"\\uc9c4\\uc9dc\", \"\\uc548\\uc804\", \"\\uc544\\ub798\", \"\\ud76c\\ub9dd\", \"\\uc81c\\ud55c\", \"\\ucc28\\uc774\", \"\\ubb38\\uc81c\", \"\\uae30\\uc900\", \"\\uae30\\uc7ac\", \"\\ud06c\\uae30\", \"\\uac71\\uc815\", \"\\uace0\\uae30\", \"\\ucd94\\ucc9c\", \"\\uc6d0\\ub798\", \"\\uc774\\uc720\", \"\\uc775\\uc77c\", \"\\ud2b9\\uc131\", \"\\uace8\\ub4dc\", \"\\uc1fc\\ud551\", \"\\uc911\\ub7c9\", \"\\uc0ac\\uace0\", \"\\ub300\\ub7b5\", \"\\ud1b5\\uad00\", \"\\ub77c\\uc774\\uc2a4\", \"\\uac08\\ube44\", \"\\uc218\\uae09\", \"\\uc131\\ud568\", \"\\uc77c\\ucd9c\", \"\\uba40\\ud2f0\", \"\\uc791\\uc131\", \"\\uc694\\uac70\\ud2b8\", \"\\ud53c\\uc790\", \"\\uc6d0\\uc0b0\\uc9c0\", \"\\uc0ac\\ub9ac\", \"\\uc624\\uc9c0\", \"\\ud1a0\\uc694\\uc77c\", \"\\ubaa9\\uc694\\uc77c\", \"\\uba38\\uc2e0\", \"\\uc99d\\uc815\", \"\\uc885\\ub8cc\", \"\\uc815\\ubcf4\", \"\\ubb54\\uac00\", \"\\uc218\\uac00\", \"\\uc77c\\uc815\", \"\\uac00\\uc7a5\", \"\\uace0\\ucd94\", \"\\uc790\\uc5f0\", \"\\uc8fc\\uc2ec\", \"\\uc0c8\\ubcbd\", \"\\uac11\\uc790\\uae30\", \"\\uacf1\\ucc3d\", \"\\ub9c8\\uc9c0\\ub9c9\", \"\\uc544\\uc8fc\", \"\\uc720\\uc9c0\", \"\\ud638\\ub450\", \"\\uacfc\\uc77c\", \"\\ucc29\\uc624\", \"\\uc77c\\uad04\", \"\\uc778\\ud130\\ub137\", \"\\uc2a4\\ud2f0\\ucee4\", \"\\ubcf4\\ud2c0\", \"\\ub78d\\ub2c8\", \"\\ub545\\ucf69\", \"\\ucde8\\uae09\", \"\\ub9c8\\ud2b8\", \"\\ubc15\\uc2a4\", \"\\uc120\\ubb3c\", \"\\uc544\\uc774\\uc2a4\\ud329\", \"\\uc544\\uc774\\uc2a4\\ubc15\\uc2a4\", \"\\uae30\\ubcf8\", \"\\ub3d9\\ubd09\", \"\\uadf8\\ub300\\ub85c\", \"\\uce58\\uc988\", \"\\ub4dc\\ub77c\\uc774\\uc544\\uc774\\uc2a4\", \"\\ub77c\\uba74\", \"\\ud569\\ud3ec\", \"\\ud3ec\\uae30\", \"\\uc544\\uc774\\uc2a4\", \"\\uc885\\uc774\", \"\\uc774\\ud2c0\", \"\\ub450\\uc720\", \"\\uc778\\uc9c0\", \"\\uac74\\uc870\", \"\\uc2dc\\ub7fd\", \"\\uac80\\uc0c9\", \"\\ube44\\uc6a9\", \"\\ub3c4\\ub77c\\uc9c0\", \"\\uc6a9\\uc774\", \"\\ubc30\\uc999\", \"\\ub9cc\\ub450\", \"\\uc774\\ud558\", \"\\uc791\\ub450\", \"\\ubb34\\uad00\", \"\\ubaa8\\uc591\", \"\\uc2a4\\ud2f0\\ub85c\\ud3fc\", \"\\ucd94\\uac00\"], \"Freq\": [104752.0, 84535.0, 56054.0, 58567.0, 62429.0, 33838.0, 31070.0, 36121.0, 31975.0, 46157.0, 24198.0, 24708.0, 21217.0, 20485.0, 17043.0, 20640.0, 19456.0, 15884.0, 16623.0, 16435.0, 15602.0, 18087.0, 14733.0, 12532.0, 14427.0, 13054.0, 11941.0, 13105.0, 10770.0, 11556.0, 12573.503378772977, 11189.876747983117, 9974.666348954304, 9060.238777440825, 3492.7190182544377, 3372.7038563125006, 3275.024822283052, 3032.427175658566, 2636.339580065271, 2523.0038679752024, 1807.6724550422482, 1455.0278878668323, 1237.242851937553, 1078.08406952704, 1032.8792010009668, 829.7448649858886, 799.633081718092, 671.4339659395838, 568.4144087786773, 494.6463682323016, 489.3352061855003, 414.3928097672857, 392.7244168053994, 329.91950334494385, 311.7883772116455, 308.37527145267313, 306.1485985541612, 286.16122614255556, 216.39473825002102, 193.66011347022368, 55724.55011835178, 35537.67250581187, 11267.03645325794, 5113.41028459187, 3802.9145456841816, 84534.04614256613, 36120.707130612034, 18086.533923080457, 5840.179061640951, 3917.8455385927623, 2700.010075430227, 1635.9360401319805, 1142.8281516719398, 1082.804917927179, 1017.030045453451, 787.6741660345313, 786.2697874433461, 773.5693396981349, 251.8548861968757, 153.89663689292203, 82.59403408577688, 51.30611317720404, 25.40805334045143, 0.05982917608364365, 0.05982596183028315, 0.0598109224118606, 0.05982037341250865, 0.059794924196270846, 0.05978672419764094, 0.059790938339475797, 0.05978583845168648, 0.05978419023369907, 0.05978447330714843, 0.05978679268315288, 0.05978364234960353, 0.05978468789508585, 0.059789449921016244, 0.05978645938699476, 0.059786756157546514, 104750.93348351054, 10290.075123806942, 9973.635606844104, 8167.688827553715, 2472.7502293966027, 2176.36402347634, 1844.6726467864246, 1597.7663559598288, 1297.6640724051426, 1261.9527713205878, 1140.1158888888879, 1133.2703662971203, 989.6803685110398, 817.6030720626712, 816.0343679142453, 778.2573175736484, 687.5182344703171, 556.5304795266329, 551.9430429604103, 524.3368730677433, 472.27572995414977, 470.9079895263601, 443.60361545411655, 351.36823560418105, 315.6490080474309, 304.99101823261304, 297.26597059931964, 268.8517245168226, 260.12960041598103, 237.08972368579714, 58566.39415936603, 14426.725990210633, 7196.6350302764395, 5997.8184284693425, 5525.989607835347, 4777.875536978856, 3256.736331512246, 2631.632804358224, 2559.735375174591, 2351.3631067396154, 2269.9848272786244, 2173.5516300027934, 1692.6291549824543, 1653.0223098162955, 1624.4598798293523, 1554.9675496775785, 1511.3322888986304, 1135.467545963679, 1121.803451823356, 993.7576704524436, 845.3700750589243, 713.7899255013506, 711.9949324504639, 687.5372674440138, 658.9920614735746, 627.3071365091757, 594.0181858623313, 535.3975296624327, 511.48752574802876, 475.5666201137683, 20639.745245438695, 13104.65638351072, 11073.833475913158, 10484.200949558668, 9636.126910196914, 6752.8347815689485, 4191.80302131237, 4015.804841475649, 3698.917445664106, 3305.5723762658467, 2878.2575506829608, 2799.860088610907, 2580.787781346115, 2514.650330621706, 2087.85273551737, 1791.6671005837131, 1673.4074728721398, 1517.1308243512394, 1394.131233361048, 1375.3215326957823, 1366.827758187007, 1129.0935801624712, 998.0982841566569, 962.4420128754929, 907.9940406426183, 727.3676699420981, 665.6911869362002, 601.1928714171636, 529.2098104931055, 496.44626737105096, 19455.58184631666, 14732.161854850929, 10147.048497098916, 9914.921320658934, 9910.446678266724, 7152.1008614048105, 5201.986759708658, 4542.2804262536665, 3336.5906188604313, 3055.0825026576063, 2505.5593625375263, 2432.201033827901, 2203.9264673413577, 1804.4242626811158, 1728.6043364057377, 1227.6357830747922, 939.5470602979283, 749.8690623870937, 705.1911232613903, 626.1155612925319, 579.111463490633, 514.2155425526527, 491.5696953384095, 445.06369970631044, 391.87836714179474, 342.2408361633232, 302.17249643133295, 184.19279374964884, 184.17857805205298, 156.76314461013644, 10618.252015875236, 3179.7590744929694, 56053.72089532077, 33836.86754401552, 6092.941662955633, 4768.127612947481, 4087.436181152635, 1674.8105671546864, 1270.4257993637614, 1061.5913851535638, 887.6345721641306, 758.647639304747, 541.6235871557298, 523.1928691688531, 459.0234741898065, 377.96823532395655, 373.89828871659296, 353.2256209420852, 333.5883904115046, 302.9289144512092, 236.10283184340182, 234.9450355692119, 194.79883746198783, 103.94090407837068, 84.92052301206616, 76.34271789744741, 0.05635001802678921, 0.056296523164866226, 0.0562906820756938, 0.05627230643204165, 0.056289340739605565, 0.05626855333402136, 31973.85811887058, 13053.400030857594, 8474.49180191361, 4694.29285116598, 4522.64688677248, 4291.702518473345, 3857.9021816854474, 3549.254798118266, 3519.267641632188, 2760.4523109144748, 2469.4812218885036, 2234.1130352190744, 1732.0524606404988, 1642.6230485106335, 1487.8857021036893, 1361.7666561377641, 1263.7588709780803, 1126.1754669237325, 1124.806395208901, 966.6471243590809, 962.0581029431722, 886.3590372822914, 872.8995181299262, 841.7148552329148, 679.5400288918454, 622.3944945711792, 540.9302523909186, 533.2877783381815, 516.8902977120773, 513.2731921252312, 7868.861750086176, 16621.974692311356, 16434.127714703936, 8219.266210019632, 7565.767457433812, 7438.651709195645, 7342.21830327792, 4447.028912261112, 4269.5024747868, 3208.1515535627063, 3040.586499034471, 2857.8223027827053, 2761.0157956939847, 1891.1012327501223, 1487.6690082296525, 1308.9615153133566, 1211.7049163421661, 1122.7048490773464, 1091.044236681751, 1062.3315816964982, 985.1901755962031, 850.2706767310434, 805.2383813106454, 791.7395092320888, 770.7056070175556, 669.3891175145599, 629.4711268135675, 625.4369330522151, 575.7963501305763, 543.6432661012411, 449.4939843571561, 24707.409780065587, 15600.847700005837, 10748.482565864986, 9142.60750914737, 8162.490358895796, 7622.911977827887, 2839.0814078138706, 2719.4326678839216, 2090.115525365792, 1929.776520938203, 1875.1429241994692, 1372.2208302499453, 1358.679179577964, 1333.1850505551597, 1303.1809279576719, 1293.2974627282185, 1124.9083516977762, 961.7829755848389, 894.730102578052, 716.9531558714506, 592.3854838552954, 540.1315758265415, 506.91679557965165, 449.4347018445264, 412.46636620248114, 357.9452765878108, 342.3174511063263, 318.76141604113076, 313.68555257529243, 312.2058718244257, 31069.24396903099, 11555.53641766135, 6311.603873379163, 4415.943731485093, 4099.547167020196, 3253.836354638534, 2725.147192219736, 2258.52490873142, 2224.35637912812, 1995.45386455821, 1897.7509632856663, 1816.539742951748, 1761.7124714412244, 1624.240393969068, 1588.6356434703555, 1359.8091124524049, 1171.7702885993453, 1065.7463538858392, 1052.554555158655, 1050.016265311937, 855.4875676990019, 848.619884393489, 620.7946233373951, 557.0525047312921, 521.4136275158903, 464.04885673895825, 414.31630434785853, 404.4210498263648, 383.8040329910265, 354.22005664138067, 11939.784868248438, 9192.659416154243, 6255.312924904876, 4875.995307225134, 4444.8132136774975, 3705.920305611355, 3383.767914648632, 2924.4157714854937, 2228.2476308066703, 2120.0408790427377, 1882.194257905341, 1701.7545911957286, 1611.5883641031255, 1451.7244441857495, 1304.2592986346563, 1111.2958586247757, 1057.5969588717521, 999.3282693687669, 974.4038277789737, 905.7687905820521, 891.6011742520434, 643.6627831185851, 611.5607429910542, 579.3257576863697, 557.4458800529014, 507.902741960197, 417.0155065237373, 403.6793636692987, 395.9707666955904, 384.709457925226, 7511.306166123492, 7762.317200683953, 24197.568276732745, 6227.616243522262, 4204.617865872752, 3835.2838425619866, 3469.026273268848, 3134.243811163443, 2961.0919576054857, 2378.438861666675, 2348.2343174940315, 2344.4573879261034, 2133.2882770717015, 2069.6576098863375, 1939.9581464620692, 1791.476071083261, 1526.753017470282, 1489.3585474913693, 1321.1566357251809, 1292.4743003690273, 1263.6611764725535, 1246.5932319152691, 1001.934566006546, 920.7140815580022, 533.3574294274791, 520.4202963520268, 503.2466717708889, 450.5618761277782, 405.44663744900026, 324.1689079856408, 313.0907061520561, 309.5341869104978, 6703.6512902651675, 9107.966955371421, 8333.752972134442, 6722.126580577299, 6035.948440485945, 4335.197522123678, 4271.470509761941, 3750.4206796690796, 3748.4685877083484, 2745.418717632247, 2734.3454767211933, 2551.9646080104735, 2490.798961748366, 2179.782624213034, 2168.6264878596894, 1720.2226602116307, 1622.4272406951272, 1503.3483059413595, 1256.4379734293207, 1133.3160085692234, 1011.0851329040532, 881.1264290175093, 819.7285871737097, 768.9936317158047, 708.1849659152142, 684.6647461240602, 583.228957799282, 528.0631084360163, 365.8335990484673, 360.6228180490499, 341.1119842992816, 21216.066817866897, 20484.21277017435, 3468.9134446030994, 3097.842891409595, 2129.6028050010923, 2015.9856784416663, 2008.5700144993016, 1860.491674513543, 1707.2921871864166, 1357.9278476783618, 1163.4201303314824, 1063.0335128374877, 965.2677560299679, 923.1477811975969, 877.5565738560156, 819.8033455288689, 796.8805615247662, 755.4781104803344, 573.9430037313358, 550.9258543025162, 461.70811043395435, 456.92991318241405, 434.70977976235474, 405.7211472694408, 388.9917530875559, 351.59340679190836, 347.7828341938154, 347.336601976935, 319.6792295327144, 313.2951594605522, 12531.332642197085, 10769.357321479363, 4833.648969257303, 4222.938730966662, 3187.014065651667, 2908.065134857409, 2699.9036962903083, 2611.8561529516423, 2529.2791159818557, 2124.245626971978, 1651.5551683245294, 1647.1600333699332, 1607.1436191938467, 1515.8785634737283, 1414.2088626958432, 1393.615174074027, 1318.1688027226758, 961.7987490578823, 762.8789006438991, 757.2965007070133, 752.4598960271883, 729.7684631421853, 716.5844456753964, 710.1712724152327, 683.6012324785332, 665.7093607734695, 647.90968159902, 596.5141147127449, 520.6176370898434, 417.46505171400827, 6615.763692427281, 4987.593151638592, 2964.9225413369504, 2596.7524559116982, 2484.9984879649614, 2440.2181782683638, 2166.6733000312283, 2049.8075266503033, 2040.4895157148599, 1789.6710030795668, 1656.3500808077627, 1445.6397123030067, 1410.434266918478, 1307.4260109573092, 1273.6827252424987, 1137.7943273028002, 1029.9117428578713, 1007.2214848625268, 947.0924003715846, 914.1983708520942, 884.4978805732355, 847.6808191257924, 818.8230380586579, 805.5946262444211, 799.8915422210451, 789.1743945993857, 781.7917778246829, 764.4966972302715, 753.6555537071773, 708.6721552568164, 7925.674892216104, 5560.580854275322, 4540.956911023561, 3554.722055773694, 3495.5361382982596, 3436.522390402284, 3378.2314397956857, 3322.5225079737234, 3292.354775792384, 3176.316416041169, 2730.222936032893, 2670.734671978895, 2613.4722771373904, 2529.698916502667, 2163.657729602323, 1772.2192988758886, 1323.7731845531707, 1192.737699635084, 1097.9488321987074, 1045.151692143989, 817.9914508269521, 740.6294386248867, 740.4321391106205, 739.1228235778034, 686.5324313679314, 548.903553620003, 543.9506599938327, 469.05193911678776, 335.346972742792, 326.5363060567497, 15883.041706899316, 6286.70353872162, 5232.988402381304, 4160.921297631753, 3376.889034345626, 2226.7479507899657, 2089.6377678350245, 1855.9200673398295, 1791.628537099395, 1522.201753857631, 1435.5188198407361, 1304.5430659671695, 1244.8761571202842, 1167.428469844609, 1130.0713842184784, 1054.8705666683086, 959.0282293479946, 874.4791249202981, 832.59400322623, 818.3259170866729, 803.1765213735354, 724.8185867537472, 718.7792299119438, 676.0917943446814, 606.2445904335224, 502.8780860258809, 461.8396935848333, 441.735476972343, 436.55441818724785, 425.8278360169525, 17042.239822525746, 6861.965694049027, 5552.185327634636, 5061.59026270697, 2313.6668153998407, 1853.3456538597977, 1764.2496961589995, 1743.2518962633023, 1422.9224054247331, 1353.5689430316047, 1092.486565667504, 1058.019113238376, 966.0737257544542, 892.7958571192083, 886.7531473858313, 878.4992713083523, 869.6623956164296, 859.4570502350962, 779.5512641524905, 718.0656897701716, 708.9558684407663, 674.9392363342222, 622.6113867740894, 593.474961329639, 502.81695721316134, 466.10024872288034, 459.0396971060858, 427.5431199347366, 375.7134421650836, 364.00849051615097, 2042.1710406089364], \"Total\": [104752.0, 84535.0, 56054.0, 58567.0, 62429.0, 33838.0, 31070.0, 36121.0, 31975.0, 46157.0, 24198.0, 24708.0, 21217.0, 20485.0, 17043.0, 20640.0, 19456.0, 15884.0, 16623.0, 16435.0, 15602.0, 18087.0, 14733.0, 12532.0, 14427.0, 13054.0, 11941.0, 13105.0, 10770.0, 11556.0, 12574.747585629393, 11191.120954834967, 9975.910555806155, 9061.482984292676, 3493.9632251062926, 3373.9480631643555, 3276.2690291349068, 3033.6713825104207, 2637.583786917126, 2524.248074838379, 1808.9166618941024, 1456.2720947186865, 1238.4870587894072, 1079.328276378894, 1034.123407852821, 830.989071837743, 800.8772885699464, 672.6781727914382, 569.6586156454243, 495.8905750841557, 490.5794130373544, 415.6370166251254, 393.96862365725354, 331.163710196798, 313.0325840694852, 309.61947830452726, 307.39280542568235, 287.4054329944097, 217.6389451018753, 194.90432049480142, 62429.37494317787, 46157.10244260595, 14447.97344866975, 12876.916648626455, 11315.409875158304, 84535.29245969758, 36121.9534477435, 18087.78024021192, 5841.425378776913, 3919.091855724224, 2701.2563925616887, 1637.1823572634414, 1144.0744688034008, 1084.05123505864, 1018.2763625902737, 788.9204831659926, 787.5161045748074, 774.8156568295962, 253.10120332833682, 155.14295402438316, 83.84035121723801, 52.552430308665166, 26.654370471912546, 1.3065141896847108, 1.3065297653353287, 1.3063372617105795, 1.3066884215652776, 1.306208085327257, 1.3061518540259205, 1.3062450326361947, 1.3061499675755703, 1.3061174944765657, 1.306134902446515, 1.3061921017752238, 1.3061266808440766, 1.3061555579432982, 1.3062884064474902, 1.3062142338891007, 1.306233076987992, 104752.18219269655, 10291.323833001039, 9974.884316030128, 8168.937536739744, 2473.998938582631, 2177.6127326623687, 1845.9213559724524, 1599.0150651458566, 1298.9127815911704, 1263.2014805066156, 1141.3645980749156, 1134.519075483148, 990.9290776970678, 818.8517813322969, 817.2830771002733, 779.5060267596764, 688.7669436563451, 557.7791887126609, 553.1917521464383, 525.5855822537713, 473.52443914017755, 472.1566987123879, 444.85232464014433, 352.61694479020883, 316.8977172334587, 306.2397274186408, 298.51467981113007, 270.1004337028504, 261.37830960799437, 238.33843287182506, 58567.6263235318, 14427.958154376389, 7197.8671944422, 5999.050592639669, 5527.221772001108, 4779.10770116128, 3257.968495687073, 2632.8649685239843, 2560.9675393403513, 2352.5952709212684, 2271.216991444385, 2174.783794168554, 1693.8613191482139, 1654.254473982055, 1625.6920439951118, 1556.199713843338, 1512.56445306439, 1136.6997101401414, 1123.035615994457, 994.9898346182033, 846.6022392300255, 715.0220896671103, 713.2270966162237, 688.7694316097735, 660.2242256393343, 628.5393006749355, 595.250350028091, 536.6296938281924, 512.7196899137884, 476.79878427952787, 20640.982790742266, 13105.89392881429, 11075.071021216727, 10485.438494862237, 9637.364455500483, 6754.072326877086, 4193.040566615942, 4017.042386785207, 3700.1549910377685, 3306.809921569419, 2879.495095986533, 2801.097633919821, 2582.0253266496875, 2515.8878759252784, 2089.0902808209426, 1792.9046458872847, 1674.6450181757114, 1518.368369654811, 1395.3687786646196, 1376.5590780035877, 1368.0653034905786, 1130.3311254660427, 999.3358294602288, 963.6795581790648, 909.2315859461902, 728.6052152510115, 666.9287322397721, 602.4304167207355, 530.4473557966774, 497.6838126823186, 19456.821655413813, 14733.401663948074, 10148.288306196062, 9916.16112975608, 9911.68648736387, 7153.340670501961, 5203.226568805808, 4543.520235350817, 3337.830427961989, 3056.3223117547573, 2506.7991716346774, 2433.440842925052, 2205.1662764385087, 1805.6640717782652, 1729.8441455028872, 1228.8755921719417, 940.7868693950782, 751.1088714842435, 706.4309323585402, 627.3553703896818, 580.3512725877829, 515.4553516498025, 492.8095044355591, 446.3035088034601, 393.1181762434448, 343.48064526047284, 303.4123055284826, 185.43260284679866, 185.4183871492028, 158.00295370728625, 46157.10244260595, 14447.97344866975, 56054.97075062641, 33838.11739932116, 6094.191518261273, 4769.377468260209, 4088.686036458276, 1676.0604224603258, 1271.6756546694007, 1062.8412404592032, 888.8844274697703, 759.8974946103867, 542.8734424613695, 524.4427244744928, 460.27332949544603, 379.21809063766875, 375.1481440222325, 354.4754762477247, 334.8382457171441, 304.17876975684874, 237.35268714904146, 236.19489088021302, 196.04869276762747, 105.19075938401035, 86.17037832219918, 77.59257320308708, 1.3062653078013802, 1.3065297653353287, 1.3065141896847108, 1.3061417019546235, 1.3066884215652776, 1.306233076987992, 31975.10600576914, 13054.647917756147, 8475.739688819858, 4695.540738064538, 4523.894773671038, 4292.950405371903, 3859.150068584006, 3550.5026850168247, 3520.5155285307465, 2761.7001978130334, 2470.729108787062, 2235.360922117633, 1733.3003475390562, 1643.870935409191, 1489.1335890022467, 1363.0145430363216, 1265.0067578766377, 1127.42335382229, 1126.0542821074584, 967.8950112576384, 963.3059898417298, 887.606924180849, 874.1474050284837, 842.9627421314724, 680.787915790403, 623.6423814697367, 542.1781392894761, 534.5356652367391, 518.1381848125804, 514.5210790237887, 9912.22013811965, 16623.215585155525, 16435.368607548106, 8220.507102863798, 7567.008350277981, 7439.892602039814, 7343.459196122089, 4448.269805105281, 4270.743367635535, 3209.392446406876, 3041.827391878641, 2859.063195626875, 2762.2566885381543, 1892.342125594291, 1488.9099010783216, 1310.2024081575253, 1212.9458091863348, 1123.945741921515, 1092.2851295259197, 1063.572474540667, 986.431068440372, 851.5115695887717, 806.4792741548143, 792.9804020762577, 771.9464998617245, 670.6300103587288, 630.7120196712958, 626.6778259008844, 577.0372429747453, 544.88415894541, 450.73487720132476, 24708.631803521832, 15602.069723462073, 10749.704589321222, 9143.829532603606, 8163.712382352035, 7624.1340012841265, 2840.303431270111, 2720.654691340162, 2091.3375488220327, 1930.9985443944424, 1876.3649476557086, 1373.4428537061847, 1359.9012030342035, 1334.4070740113991, 1304.4029514139113, 1294.519486184458, 1126.1303751584223, 963.0049990410786, 895.9521260342916, 718.1751793276902, 593.6075073115351, 541.3535992827811, 508.1388190358911, 450.65672530076586, 413.6883896587206, 359.16730004405025, 343.5394745625658, 319.9834394973702, 314.9075760315319, 313.42789528066515, 31070.4884638316, 11556.780912461953, 6312.848368179769, 4417.188226285699, 4100.791661834018, 3255.0808494391417, 2726.391687020344, 2259.769403532028, 2225.6008739287277, 1996.6983593588166, 1898.995458091299, 1817.7842377523546, 1762.9569662585136, 1625.4848887912456, 1589.880138270962, 1361.0536072530115, 1173.014783399952, 1066.9908486908525, 1053.7990499592615, 1051.2607601125437, 856.7320624996086, 849.8643791940956, 622.0391181380018, 558.2969995318987, 522.6581223164969, 465.2933515395648, 415.5607991484651, 405.6655446269714, 385.04852779163303, 355.4645514419872, 11941.035919777374, 9193.91046768318, 6256.563976433813, 4877.246358761767, 4446.064265206434, 3707.1713571402934, 3385.0189661775703, 2925.666823014432, 2229.4986823356085, 2121.291930571676, 1883.4453094342782, 1703.005642724666, 1612.8394156320628, 1452.9754957146868, 1305.5103501725873, 1112.546910153713, 1058.8480104006894, 1000.5793208977042, 975.654879307911, 907.0198421109894, 892.8522257809807, 644.9138346475224, 612.8117945199915, 580.576809215307, 558.6969315818387, 509.15379348913416, 418.2665580526745, 404.9304151982359, 397.22181822452757, 385.96050946354495, 11315.409875158304, 12876.916648626455, 24198.803699471977, 6228.851666261493, 4205.853288611983, 3836.5192653012186, 3470.26169600808, 3135.479233907175, 2962.3273803447178, 2379.674284405907, 2349.4697402332636, 2345.6928106653354, 2134.5236998109335, 2070.8930326255695, 1941.1935692013005, 1792.7114938224925, 1527.9884402095133, 1490.5939702306007, 1322.3920584644122, 1293.7097231082587, 1264.8965992162853, 1247.8286546545005, 1003.1699887457772, 921.9495042972335, 534.5928521667104, 521.655719091258, 504.48209451012, 451.7972988670093, 406.6820601882314, 325.4043307248719, 314.3261288912872, 310.7696096497289, 62429.37494317787, 9109.210209711915, 8334.996226474936, 6723.369834917795, 6037.191694826441, 4336.440776464174, 4272.7137641024365, 3751.6639340095758, 3749.7118420488446, 2746.6619719727432, 2735.5887310616895, 2553.2078623509697, 2492.042216088862, 2181.02587855353, 2169.8697422001856, 1721.4659145521266, 1623.6704950356232, 1504.5915602818554, 1257.6812277698166, 1134.5592629439468, 1012.3283872445489, 882.369683358005, 820.9718415142054, 770.2368860563004, 709.4282202557099, 685.9080004645559, 584.4722121397778, 529.306362776512, 367.076853388963, 361.8660723895456, 342.35523863977727, 21217.326092749183, 20485.472045056635, 3470.1727194853875, 3099.102166291883, 2130.8620798884062, 2017.2449533239542, 2009.8292893815894, 1861.750949395831, 1708.5514620687045, 1359.1871225606496, 1164.6794052137702, 1064.2927877197756, 966.5270309122557, 924.4070560798847, 878.8158487383033, 821.0626204111567, 798.139836407054, 756.7373853626221, 575.2022786136235, 552.1851291848039, 462.96738531624203, 458.18918807518764, 435.9690546446424, 406.9804221517285, 390.25102796984356, 352.85268167419605, 349.0421090761031, 348.5958768592227, 320.93850441500206, 314.5544343428399, 12532.573951731905, 10770.598631014183, 4834.890278792122, 4224.180040501481, 3188.255375186487, 2909.306444392229, 2701.1450058251285, 2613.0974624864625, 2530.520425516676, 2125.486936506798, 1652.7964778593491, 1648.401342904753, 1608.3849287286664, 1517.119873008548, 1415.450172230663, 1394.8564836088467, 1319.4101122574955, 963.040058592702, 764.1202101787188, 758.537810241833, 753.701205562008, 731.009772677005, 717.8257552102161, 711.4125819500524, 684.842542013353, 666.9506703127826, 649.1509911338397, 597.7554242475646, 521.8589466246631, 418.7063612568374, 6616.996250856611, 4988.825710067922, 2966.1550997662807, 2597.9850143410285, 2486.2310463942918, 2441.450736697694, 2167.9058584605586, 2051.0400850796336, 2041.7220741441902, 1790.9035615155046, 1657.582639237093, 1446.872270732337, 1411.6668253478083, 1308.6585693866396, 1274.915283671829, 1139.0268857321305, 1031.1443012872016, 1008.4540432918571, 948.3249588009149, 915.4309292814245, 885.7304390025658, 848.9133775551227, 820.0555964879882, 806.8271846737514, 801.1241006503755, 790.406953028716, 783.0243362540132, 765.7292556596018, 754.8881121365076, 709.9047136861467, 7926.88906544237, 5561.795027501588, 4542.171084249827, 3555.9362289999603, 3496.750311524526, 3437.7365636285504, 3379.445613021952, 3323.7366811999896, 3293.56894901865, 3177.530589267435, 2731.437109259159, 2671.9488452051614, 2614.6864503636566, 2530.9130897289333, 2164.871902828589, 1773.4334721021548, 1324.987357779437, 1193.9518728613502, 1099.1630054249736, 1046.3658653702553, 819.2056240532183, 741.8436118511529, 741.6463123368867, 740.3369968040696, 687.7466045941976, 550.1177268462692, 545.1648332200989, 470.26611234305403, 336.56114596905826, 327.750479283016, 15884.281007193797, 6287.942839016099, 5234.227702722009, 4162.160597926232, 3378.1283346401055, 2227.9872510844452, 2090.877068129504, 1857.1593676343093, 1792.8678373938749, 1523.4410541521108, 1436.758120135216, 1305.7823662616493, 1246.115457414764, 1168.6677701390888, 1131.3106845129582, 1056.1098669627884, 960.2675296424743, 875.7184252147778, 833.8333035207097, 819.5652173811526, 804.415821668015, 726.0578870482269, 720.0185302064235, 677.331094639161, 607.483890728002, 504.11738632036054, 463.0789938793129, 442.9747772668226, 437.79371848172747, 427.06713631143214, 17043.485378081885, 6863.211249605165, 5553.430883190775, 5062.835818263108, 2314.912370955979, 1854.5912094159362, 1765.495251715138, 1744.4974518194408, 1424.1679609808716, 1354.8144985877432, 1093.7321212236425, 1059.2646687945144, 967.3192813105926, 894.0414126753467, 887.9987029419697, 879.7448268644906, 870.907951172568, 860.7026057912345, 780.7968197086288, 719.31124532631, 710.2014239969046, 676.1847918903605, 623.8569423302278, 594.7205168857773, 504.06251276929976, 467.34580427901875, 460.2852526622242, 428.788675490875, 376.95899772122203, 365.2540460722894, 9912.22013811965], \"Category\": [\"Default\", \"Default\", \"Default\", \"Default\", \"Default\", \"Default\", \"Default\", \"Default\", \"Default\", \"Default\", \"Default\", \"Default\", \"Default\", \"Default\", \"Default\", \"Default\", \"Default\", \"Default\", \"Default\", \"Default\", \"Default\", \"Default\", \"Default\", \"Default\", \"Default\", \"Default\", \"Default\", \"Default\", \"Default\", \"Default\", \"Topic1\", \"Topic1\", \"Topic1\", \"Topic1\", \"Topic1\", \"Topic1\", \"Topic1\", \"Topic1\", \"Topic1\", \"Topic1\", \"Topic1\", \"Topic1\", \"Topic1\", \"Topic1\", \"Topic1\", \"Topic1\", \"Topic1\", \"Topic1\", \"Topic1\", \"Topic1\", \"Topic1\", \"Topic1\", \"Topic1\", \"Topic1\", \"Topic1\", \"Topic1\", \"Topic1\", \"Topic1\", \"Topic1\", \"Topic1\", \"Topic1\", \"Topic1\", \"Topic1\", \"Topic1\", \"Topic1\", \"Topic2\", \"Topic2\", \"Topic2\", \"Topic2\", \"Topic2\", \"Topic2\", \"Topic2\", \"Topic2\", \"Topic2\", \"Topic2\", \"Topic2\", \"Topic2\", \"Topic2\", \"Topic2\", \"Topic2\", \"Topic2\", \"Topic2\", \"Topic2\", \"Topic2\", \"Topic2\", \"Topic2\", \"Topic2\", \"Topic2\", \"Topic2\", \"Topic2\", \"Topic2\", \"Topic2\", \"Topic2\", \"Topic2\", \"Topic2\", \"Topic2\", \"Topic2\", \"Topic2\", \"Topic2\", \"Topic3\", \"Topic3\", \"Topic3\", \"Topic3\", \"Topic3\", \"Topic3\", \"Topic3\", \"Topic3\", \"Topic3\", \"Topic3\", \"Topic3\", \"Topic3\", \"Topic3\", \"Topic3\", \"Topic3\", \"Topic3\", \"Topic3\", \"Topic3\", \"Topic3\", \"Topic3\", \"Topic3\", \"Topic3\", \"Topic3\", \"Topic3\", \"Topic3\", \"Topic3\", \"Topic3\", \"Topic3\", \"Topic3\", \"Topic3\", \"Topic4\", \"Topic4\", \"Topic4\", \"Topic4\", \"Topic4\", \"Topic4\", \"Topic4\", \"Topic4\", \"Topic4\", \"Topic4\", \"Topic4\", \"Topic4\", \"Topic4\", \"Topic4\", \"Topic4\", \"Topic4\", \"Topic4\", \"Topic4\", \"Topic4\", \"Topic4\", \"Topic4\", \"Topic4\", \"Topic4\", \"Topic4\", \"Topic4\", \"Topic4\", \"Topic4\", \"Topic4\", \"Topic4\", \"Topic4\", \"Topic5\", \"Topic5\", \"Topic5\", \"Topic5\", \"Topic5\", \"Topic5\", \"Topic5\", \"Topic5\", \"Topic5\", \"Topic5\", \"Topic5\", \"Topic5\", \"Topic5\", \"Topic5\", \"Topic5\", \"Topic5\", \"Topic5\", \"Topic5\", \"Topic5\", \"Topic5\", \"Topic5\", \"Topic5\", \"Topic5\", \"Topic5\", \"Topic5\", \"Topic5\", \"Topic5\", \"Topic5\", \"Topic5\", \"Topic5\", \"Topic6\", \"Topic6\", \"Topic6\", \"Topic6\", \"Topic6\", \"Topic6\", \"Topic6\", \"Topic6\", \"Topic6\", \"Topic6\", \"Topic6\", \"Topic6\", \"Topic6\", \"Topic6\", \"Topic6\", \"Topic6\", \"Topic6\", \"Topic6\", \"Topic6\", \"Topic6\", \"Topic6\", \"Topic6\", \"Topic6\", \"Topic6\", \"Topic6\", \"Topic6\", \"Topic6\", \"Topic6\", \"Topic6\", \"Topic6\", \"Topic6\", \"Topic6\", \"Topic7\", \"Topic7\", \"Topic7\", \"Topic7\", \"Topic7\", \"Topic7\", \"Topic7\", \"Topic7\", \"Topic7\", \"Topic7\", \"Topic7\", \"Topic7\", \"Topic7\", \"Topic7\", \"Topic7\", \"Topic7\", \"Topic7\", \"Topic7\", \"Topic7\", \"Topic7\", \"Topic7\", \"Topic7\", \"Topic7\", \"Topic7\", \"Topic7\", \"Topic7\", \"Topic7\", \"Topic7\", \"Topic7\", \"Topic7\", \"Topic8\", \"Topic8\", \"Topic8\", \"Topic8\", \"Topic8\", \"Topic8\", \"Topic8\", \"Topic8\", \"Topic8\", \"Topic8\", \"Topic8\", \"Topic8\", \"Topic8\", \"Topic8\", \"Topic8\", \"Topic8\", \"Topic8\", \"Topic8\", \"Topic8\", \"Topic8\", \"Topic8\", \"Topic8\", \"Topic8\", \"Topic8\", \"Topic8\", \"Topic8\", \"Topic8\", \"Topic8\", \"Topic8\", \"Topic8\", \"Topic8\", \"Topic9\", \"Topic9\", \"Topic9\", \"Topic9\", \"Topic9\", \"Topic9\", \"Topic9\", \"Topic9\", \"Topic9\", \"Topic9\", \"Topic9\", \"Topic9\", \"Topic9\", \"Topic9\", \"Topic9\", \"Topic9\", \"Topic9\", \"Topic9\", \"Topic9\", \"Topic9\", \"Topic9\", \"Topic9\", \"Topic9\", \"Topic9\", \"Topic9\", \"Topic9\", \"Topic9\", \"Topic9\", \"Topic9\", \"Topic9\", \"Topic10\", \"Topic10\", \"Topic10\", \"Topic10\", \"Topic10\", \"Topic10\", \"Topic10\", \"Topic10\", \"Topic10\", \"Topic10\", \"Topic10\", \"Topic10\", \"Topic10\", \"Topic10\", \"Topic10\", \"Topic10\", \"Topic10\", \"Topic10\", \"Topic10\", \"Topic10\", \"Topic10\", \"Topic10\", \"Topic10\", \"Topic10\", \"Topic10\", \"Topic10\", \"Topic10\", \"Topic10\", \"Topic10\", \"Topic10\", \"Topic11\", \"Topic11\", \"Topic11\", \"Topic11\", \"Topic11\", \"Topic11\", \"Topic11\", \"Topic11\", \"Topic11\", \"Topic11\", \"Topic11\", \"Topic11\", \"Topic11\", \"Topic11\", \"Topic11\", \"Topic11\", \"Topic11\", \"Topic11\", \"Topic11\", \"Topic11\", \"Topic11\", \"Topic11\", \"Topic11\", \"Topic11\", \"Topic11\", \"Topic11\", \"Topic11\", \"Topic11\", \"Topic11\", \"Topic11\", \"Topic12\", \"Topic12\", \"Topic12\", \"Topic12\", \"Topic12\", \"Topic12\", \"Topic12\", \"Topic12\", \"Topic12\", \"Topic12\", \"Topic12\", \"Topic12\", \"Topic12\", \"Topic12\", \"Topic12\", \"Topic12\", \"Topic12\", \"Topic12\", \"Topic12\", \"Topic12\", \"Topic12\", \"Topic12\", \"Topic12\", \"Topic12\", \"Topic12\", \"Topic12\", \"Topic12\", \"Topic12\", \"Topic12\", \"Topic12\", \"Topic12\", \"Topic12\", \"Topic13\", \"Topic13\", \"Topic13\", \"Topic13\", \"Topic13\", \"Topic13\", \"Topic13\", \"Topic13\", \"Topic13\", \"Topic13\", \"Topic13\", \"Topic13\", \"Topic13\", \"Topic13\", \"Topic13\", \"Topic13\", \"Topic13\", \"Topic13\", \"Topic13\", \"Topic13\", \"Topic13\", \"Topic13\", \"Topic13\", \"Topic13\", \"Topic13\", \"Topic13\", \"Topic13\", \"Topic13\", \"Topic13\", \"Topic13\", \"Topic13\", \"Topic14\", \"Topic14\", \"Topic14\", \"Topic14\", \"Topic14\", \"Topic14\", \"Topic14\", \"Topic14\", \"Topic14\", \"Topic14\", \"Topic14\", \"Topic14\", \"Topic14\", \"Topic14\", \"Topic14\", \"Topic14\", \"Topic14\", \"Topic14\", \"Topic14\", \"Topic14\", \"Topic14\", \"Topic14\", \"Topic14\", \"Topic14\", \"Topic14\", \"Topic14\", \"Topic14\", \"Topic14\", \"Topic14\", \"Topic14\", \"Topic15\", \"Topic15\", \"Topic15\", \"Topic15\", \"Topic15\", \"Topic15\", \"Topic15\", \"Topic15\", \"Topic15\", \"Topic15\", \"Topic15\", \"Topic15\", \"Topic15\", \"Topic15\", \"Topic15\", \"Topic15\", \"Topic15\", \"Topic15\", \"Topic15\", \"Topic15\", \"Topic15\", \"Topic15\", \"Topic15\", \"Topic15\", \"Topic15\", \"Topic15\", \"Topic15\", \"Topic15\", \"Topic15\", \"Topic15\", \"Topic16\", \"Topic16\", \"Topic16\", \"Topic16\", \"Topic16\", \"Topic16\", \"Topic16\", \"Topic16\", \"Topic16\", \"Topic16\", \"Topic16\", \"Topic16\", \"Topic16\", \"Topic16\", \"Topic16\", \"Topic16\", \"Topic16\", \"Topic16\", \"Topic16\", \"Topic16\", \"Topic16\", \"Topic16\", \"Topic16\", \"Topic16\", \"Topic16\", \"Topic16\", \"Topic16\", \"Topic16\", \"Topic16\", \"Topic16\", \"Topic17\", \"Topic17\", \"Topic17\", \"Topic17\", \"Topic17\", \"Topic17\", \"Topic17\", \"Topic17\", \"Topic17\", \"Topic17\", \"Topic17\", \"Topic17\", \"Topic17\", \"Topic17\", \"Topic17\", \"Topic17\", \"Topic17\", \"Topic17\", \"Topic17\", \"Topic17\", \"Topic17\", \"Topic17\", \"Topic17\", \"Topic17\", \"Topic17\", \"Topic17\", \"Topic17\", \"Topic17\", \"Topic17\", \"Topic17\", \"Topic18\", \"Topic18\", \"Topic18\", \"Topic18\", \"Topic18\", \"Topic18\", \"Topic18\", \"Topic18\", \"Topic18\", \"Topic18\", \"Topic18\", \"Topic18\", \"Topic18\", \"Topic18\", \"Topic18\", \"Topic18\", \"Topic18\", \"Topic18\", \"Topic18\", \"Topic18\", \"Topic18\", \"Topic18\", \"Topic18\", \"Topic18\", \"Topic18\", \"Topic18\", \"Topic18\", \"Topic18\", \"Topic18\", \"Topic18\", \"Topic19\", \"Topic19\", \"Topic19\", \"Topic19\", \"Topic19\", \"Topic19\", \"Topic19\", \"Topic19\", \"Topic19\", \"Topic19\", \"Topic19\", \"Topic19\", \"Topic19\", \"Topic19\", \"Topic19\", \"Topic19\", \"Topic19\", \"Topic19\", \"Topic19\", \"Topic19\", \"Topic19\", \"Topic19\", \"Topic19\", \"Topic19\", \"Topic19\", \"Topic19\", \"Topic19\", \"Topic19\", \"Topic19\", \"Topic19\", \"Topic20\", \"Topic20\", \"Topic20\", \"Topic20\", \"Topic20\", \"Topic20\", \"Topic20\", \"Topic20\", \"Topic20\", \"Topic20\", \"Topic20\", \"Topic20\", \"Topic20\", \"Topic20\", \"Topic20\", \"Topic20\", \"Topic20\", \"Topic20\", \"Topic20\", \"Topic20\", \"Topic20\", \"Topic20\", \"Topic20\", \"Topic20\", \"Topic20\", \"Topic20\", \"Topic20\", \"Topic20\", \"Topic20\", \"Topic20\", \"Topic20\"], \"logprob\": [30.0, 29.0, 28.0, 27.0, 26.0, 25.0, 24.0, 23.0, 22.0, 21.0, 20.0, 19.0, 18.0, 17.0, 16.0, 15.0, 14.0, 13.0, 12.0, 11.0, 10.0, 9.0, 8.0, 7.0, 6.0, 5.0, 4.0, 3.0, 2.0, 1.0, -2.7045, -2.8211, -2.9361, -3.0322, -3.9854, -4.0204, -4.0498, -4.1267, -4.2667, -4.3107, -4.6441, -4.8611, -5.0232, -5.1609, -5.2037, -5.4227, -5.4597, -5.6344, -5.801, -5.94, -5.9508, -6.117, -6.1707, -6.345, -6.4015, -6.4125, -6.4198, -6.4873, -6.7668, -6.8778, -1.2157, -1.6655, -2.8142, -3.6042, -3.9003, -0.642, -1.4923, -2.184, -3.3144, -3.7136, -4.0859, -4.587, -4.9457, -4.9996, -5.0623, -5.3178, -5.3196, -5.3359, -6.4581, -6.9506, -7.573, -8.0491, -8.7519, -14.8032, -14.8032, -14.8035, -14.8033, -14.8038, -14.8039, -14.8038, -14.8039, -14.8039, -14.8039, -14.8039, -14.804, -14.8039, -14.8039, -14.8039, -14.8039, -0.4132, -2.7336, -2.7648, -2.9646, -4.1594, -4.2871, -4.4525, -4.5962, -4.8042, -4.8321, -4.9336, -4.9397, -5.0751, -5.2661, -5.2681, -5.3155, -5.4394, -5.6508, -5.6591, -5.7104, -5.815, -5.8179, -5.8776, -6.1107, -6.2179, -6.2522, -6.2779, -6.3784, -6.4113, -6.5041, -0.8314, -2.2325, -2.928, -3.1102, -3.1921, -3.3376, -3.7209, -3.934, -3.9617, -4.0466, -4.0818, -4.1252, -4.3753, -4.399, -4.4164, -4.4601, -4.4886, -4.7745, -4.7866, -4.9078, -5.0696, -5.2388, -5.2413, -5.2762, -5.3186, -5.3679, -5.4224, -5.5263, -5.572, -5.6448, -1.7986, -2.2529, -2.4213, -2.476, -2.5603, -2.9159, -3.3927, -3.4356, -3.5178, -3.6302, -3.7687, -3.7963, -3.8777, -3.9037, -4.0897, -4.2427, -4.311, -4.409, -4.4936, -4.5071, -4.5133, -4.7044, -4.8277, -4.8641, -4.9224, -5.1442, -5.2328, -5.3347, -5.4622, -5.5261, -1.8338, -2.1119, -2.4848, -2.5079, -2.5084, -2.8345, -3.1529, -3.2885, -3.597, -3.6851, -3.8834, -3.9131, -4.0117, -4.2117, -4.2546, -4.5969, -4.8643, -5.0898, -5.1512, -5.2702, -5.3482, -5.4671, -5.5121, -5.6115, -5.7387, -5.8742, -5.9987, -6.4937, -6.4938, -6.655, -2.4394, -3.6451, -0.7294, -1.2341, -2.9485, -3.1937, -3.3478, -4.24, -4.5163, -4.6959, -4.8749, -5.0319, -5.3689, -5.4035, -5.5343, -5.7286, -5.7394, -5.7963, -5.8535, -5.9499, -6.1992, -6.2041, -6.3915, -7.0196, -7.2217, -7.3282, -14.5396, -14.5405, -14.5407, -14.541, -14.5407, -14.541, -1.2868, -2.1827, -2.6147, -3.2054, -3.2427, -3.2951, -3.4016, -3.485, -3.4935, -3.7364, -3.8477, -3.9479, -4.2024, -4.2555, -4.3544, -4.443, -4.5177, -4.6329, -4.6341, -4.7857, -4.7904, -4.8724, -4.8877, -4.9241, -5.1381, -5.2259, -5.3662, -5.3804, -5.4117, -5.4187, -2.6888, -1.8616, -1.873, -2.5658, -2.6487, -2.6656, -2.6787, -3.1801, -3.2208, -3.5066, -3.5603, -3.6223, -3.6567, -4.0352, -4.2751, -4.4031, -4.4803, -4.5566, -4.5852, -4.6118, -4.6872, -4.8345, -4.8889, -4.9058, -4.9328, -5.0737, -5.1352, -5.1416, -5.2243, -5.2818, -5.4719, -1.4497, -1.9095, -2.282, -2.4439, -2.5572, -2.6256, -3.6133, -3.6564, -3.9196, -3.9994, -4.0281, -4.3404, -4.3503, -4.3692, -4.392, -4.3996, -4.5391, -4.6958, -4.768, -4.9895, -5.1804, -5.2727, -5.3362, -5.4566, -5.5424, -5.6842, -5.7288, -5.8001, -5.8162, -5.8209, -1.1105, -2.0995, -2.7043, -3.0615, -3.1358, -3.3669, -3.5442, -3.732, -3.7472, -3.8558, -3.906, -3.9498, -3.9804, -4.0617, -4.0838, -4.2393, -4.3882, -4.483, -4.4955, -4.4979, -4.7028, -4.7108, -5.0234, -5.1318, -5.1979, -5.3145, -5.4278, -5.452, -5.5043, -5.5845, -2.0022, -2.2637, -2.6486, -2.8977, -2.9903, -3.1721, -3.2631, -3.409, -3.6808, -3.7306, -3.8496, -3.9504, -4.0048, -4.1093, -4.2164, -4.3765, -4.4261, -4.4827, -4.508, -4.581, -4.5968, -4.9226, -4.9738, -5.028, -5.0665, -5.1595, -5.3567, -5.3892, -5.4085, -5.4373, -2.4657, -2.4328, -1.2681, -2.6253, -3.0181, -3.1101, -3.2104, -3.3119, -3.3688, -3.5879, -3.6006, -3.6023, -3.6966, -3.7269, -3.7916, -3.8713, -4.0312, -4.056, -4.1758, -4.1978, -4.2203, -4.2339, -4.4524, -4.5369, -5.0829, -5.1074, -5.141, -5.2516, -5.3571, -5.5808, -5.6156, -5.627, -2.5517, -2.1609, -2.2497, -2.4647, -2.5723, -2.9033, -2.9181, -3.0482, -3.0487, -3.3601, -3.3642, -3.4332, -3.4575, -3.5908, -3.596, -3.8276, -3.8861, -3.9624, -4.1418, -4.2449, -4.359, -4.4966, -4.5688, -4.6327, -4.7151, -4.7489, -4.9092, -5.0086, -5.3756, -5.39, -5.4456, -1.2958, -1.3309, -3.1067, -3.2199, -3.5947, -3.6495, -3.6532, -3.7297, -3.8157, -4.0446, -4.1992, -4.2895, -4.3859, -4.4306, -4.4812, -4.5493, -4.5776, -4.631, -4.9058, -4.9467, -5.1234, -5.1338, -5.1837, -5.2527, -5.2948, -5.3959, -5.4068, -5.4081, -5.491, -5.5112, -1.7824, -1.9339, -2.735, -2.8701, -3.1515, -3.2431, -3.3174, -3.3505, -3.3827, -3.5572, -3.8089, -3.8115, -3.8361, -3.8946, -3.964, -3.9787, -4.0344, -4.3496, -4.5813, -4.5886, -4.595, -4.6256, -4.6439, -4.6529, -4.691, -4.7175, -4.7446, -4.8273, -4.9633, -5.1842, -2.3733, -2.6558, -3.1759, -3.3085, -3.3525, -3.3707, -3.4896, -3.545, -3.5496, -3.6808, -3.7582, -3.8942, -3.9189, -3.9947, -4.0209, -4.1337, -4.2333, -4.2556, -4.3171, -4.3525, -4.3855, -4.428, -4.4627, -4.479, -4.4861, -4.4996, -4.509, -4.5313, -4.5456, -4.6072, -2.1848, -2.5392, -2.7418, -2.9867, -3.0034, -3.0205, -3.0376, -3.0542, -3.0633, -3.0992, -3.2505, -3.2726, -3.2942, -3.3268, -3.4831, -3.6827, -3.9744, -4.0787, -4.1615, -4.2108, -4.4558, -4.5552, -4.5555, -4.5572, -4.631, -4.8548, -4.8638, -5.012, -5.3475, -5.3741, -1.4498, -2.3766, -2.56, -2.7893, -2.998, -3.4145, -3.478, -3.5966, -3.6319, -3.7948, -3.8535, -3.9491, -3.996, -4.0602, -4.0927, -4.1616, -4.2568, -4.3491, -4.3982, -4.4155, -4.4342, -4.5368, -4.5452, -4.6064, -4.7155, -4.9024, -4.9875, -5.032, -5.0438, -5.0687, -1.3518, -2.2615, -2.4733, -2.5658, -3.3487, -3.5705, -3.6198, -3.6318, -3.8348, -3.8848, -4.0991, -4.1311, -4.222, -4.3009, -4.3077, -4.3171, -4.3272, -4.339, -4.4366, -4.5187, -4.5315, -4.5807, -4.6614, -4.7093, -4.875, -4.9509, -4.9661, -5.0372, -5.1664, -5.1981, -3.4735], \"loglift\": [30.0, 29.0, 28.0, 27.0, 26.0, 25.0, 24.0, 23.0, 22.0, 21.0, 20.0, 19.0, 18.0, 17.0, 16.0, 15.0, 14.0, 13.0, 12.0, 11.0, 10.0, 9.0, 8.0, 7.0, 6.0, 5.0, 4.0, 3.0, 2.0, 1.0, 2.4168, 2.4168, 2.4168, 2.4168, 2.4165, 2.4165, 2.4165, 2.4165, 2.4164, 2.4164, 2.4162, 2.416, 2.4159, 2.4157, 2.4157, 2.4154, 2.4153, 2.415, 2.4147, 2.4144, 2.4144, 2.4139, 2.4137, 2.4131, 2.4129, 2.4129, 2.4128, 2.4126, 2.4112, 2.4105, 2.3033, 2.1554, 2.1682, 1.4933, 1.3265, 2.5738, 2.5738, 2.5737, 2.5736, 2.5735, 2.5734, 2.5731, 2.5727, 2.5727, 2.5726, 2.5722, 2.5722, 2.5722, 2.5689, 2.5658, 2.5588, 2.5498, 2.5259, -0.5098, -0.5099, -0.51, -0.5101, -0.5101, -0.5102, -0.5102, -0.5103, -0.5103, -0.5103, -0.5103, -0.5103, -0.5103, -0.5103, -0.5103, -0.5103, 2.5882, 2.5881, 2.5881, 2.5881, 2.5877, 2.5876, 2.5875, 2.5874, 2.5873, 2.5872, 2.5871, 2.5871, 2.587, 2.5867, 2.5867, 2.5866, 2.5864, 2.586, 2.586, 2.5858, 2.5856, 2.5856, 2.5854, 2.5847, 2.5843, 2.5841, 2.584, 2.5836, 2.5834, 2.583, 2.7514, 2.7513, 2.7512, 2.7512, 2.7512, 2.7511, 2.751, 2.7509, 2.7509, 2.7509, 2.7509, 2.7508, 2.7507, 2.7507, 2.7506, 2.7506, 2.7506, 2.7503, 2.7503, 2.7502, 2.7499, 2.7497, 2.7497, 2.7496, 2.7495, 2.7494, 2.7493, 2.7491, 2.749, 2.7488, 2.8271, 2.8271, 2.827, 2.827, 2.827, 2.827, 2.8269, 2.8268, 2.8268, 2.8268, 2.8267, 2.8267, 2.8267, 2.8267, 2.8266, 2.8265, 2.8264, 2.8263, 2.8263, 2.8263, 2.8262, 2.8261, 2.8259, 2.8259, 2.8258, 2.8255, 2.8253, 2.8251, 2.8248, 2.8247, 2.851, 2.851, 2.8509, 2.8509, 2.8509, 2.8509, 2.8508, 2.8508, 2.8507, 2.8506, 2.8506, 2.8505, 2.8505, 2.8504, 2.8503, 2.85, 2.8497, 2.8494, 2.8493, 2.8491, 2.8489, 2.8486, 2.8485, 2.8483, 2.8479, 2.8474, 2.847, 2.8443, 2.8443, 2.8432, 1.3816, 1.3373, 2.8973, 2.8973, 2.8971, 2.8971, 2.897, 2.8966, 2.8963, 2.8961, 2.8959, 2.8957, 2.895, 2.8949, 2.8946, 2.894, 2.894, 2.8938, 2.8936, 2.8932, 2.892, 2.892, 2.8909, 2.8854, 2.8827, 2.8811, -0.246, -0.2472, -0.2473, -0.2473, -0.2474, -0.2474, 2.9012, 2.9011, 2.9011, 2.901, 2.901, 2.9009, 2.9009, 2.9009, 2.9009, 2.9008, 2.9007, 2.9007, 2.9005, 2.9005, 2.9004, 2.9003, 2.9003, 2.9001, 2.9001, 2.8999, 2.8999, 2.8998, 2.8998, 2.8998, 2.8994, 2.8992, 2.8989, 2.8989, 2.8988, 2.8988, 2.6704, 2.9806, 2.9806, 2.9805, 2.9805, 2.9805, 2.9805, 2.9804, 2.9804, 2.9803, 2.9803, 2.9802, 2.9802, 2.98, 2.9798, 2.9797, 2.9797, 2.9796, 2.9795, 2.9795, 2.9794, 2.9792, 2.9791, 2.9791, 2.9791, 2.9788, 2.9787, 2.9787, 2.9785, 2.9784, 2.9779, 2.9961, 2.9961, 2.9961, 2.9961, 2.996, 2.996, 2.9958, 2.9957, 2.9956, 2.9956, 2.9955, 2.9953, 2.9953, 2.9953, 2.9953, 2.9952, 2.9951, 2.9949, 2.9948, 2.9945, 2.9941, 2.9939, 2.9938, 2.9935, 2.9932, 2.9928, 2.9926, 2.9924, 2.9923, 2.9923, 3.1063, 3.1062, 3.1061, 3.106, 3.106, 3.1059, 3.1058, 3.1057, 3.1057, 3.1057, 3.1056, 3.1056, 3.1056, 3.1055, 3.1055, 3.1054, 3.1052, 3.1051, 3.1051, 3.1051, 3.1048, 3.1048, 3.1043, 3.1041, 3.1039, 3.1036, 3.1033, 3.1032, 3.1031, 3.1028, 3.1708, 3.1708, 3.1707, 3.1707, 3.1706, 3.1706, 3.1706, 3.1705, 3.1704, 3.1703, 3.1703, 3.1702, 3.1702, 3.1701, 3.17, 3.1698, 3.1697, 3.1697, 3.1696, 3.1695, 3.1695, 3.169, 3.1689, 3.1688, 3.1687, 3.1685, 3.1679, 3.1678, 3.1678, 3.1677, 2.7612, 2.6648, 3.1986, 3.1985, 3.1984, 3.1984, 3.1983, 3.1983, 3.1983, 3.1982, 3.1982, 3.1982, 3.1981, 3.1981, 3.198, 3.198, 3.1979, 3.1978, 3.1977, 3.1977, 3.1977, 3.1977, 3.1974, 3.1973, 3.1964, 3.1963, 3.1962, 3.1959, 3.1956, 3.1949, 3.1947, 3.1947, 0.9673, 3.2828, 3.2828, 3.2827, 3.2827, 3.2826, 3.2826, 3.2826, 3.2826, 3.2825, 3.2825, 3.2824, 3.2824, 3.2824, 3.2824, 3.2822, 3.2822, 3.2821, 3.2819, 3.2818, 3.2817, 3.2815, 3.2814, 3.2813, 3.2812, 3.2811, 3.2808, 3.2806, 3.2795, 3.2795, 3.2793, 3.3023, 3.3023, 3.302, 3.302, 3.3018, 3.3018, 3.3018, 3.3017, 3.3017, 3.3015, 3.3013, 3.3012, 3.3011, 3.301, 3.301, 3.3009, 3.3008, 3.3007, 3.3002, 3.3001, 3.2997, 3.2996, 3.2995, 3.2993, 3.2992, 3.2988, 3.2988, 3.2988, 3.2985, 3.2984, 3.3423, 3.3423, 3.3421, 3.3421, 3.342, 3.342, 3.3419, 3.3419, 3.3419, 3.3418, 3.3416, 3.3416, 3.3416, 3.3416, 3.3415, 3.3415, 3.3414, 3.3411, 3.3408, 3.3408, 3.3407, 3.3407, 3.3407, 3.3406, 3.3406, 3.3405, 3.3405, 3.3403, 3.34, 3.3394, 3.39, 3.39, 3.3898, 3.3897, 3.3897, 3.3897, 3.3896, 3.3896, 3.3896, 3.3895, 3.3895, 3.3893, 3.3893, 3.3893, 3.3892, 3.3891, 3.389, 3.389, 3.3889, 3.3889, 3.3888, 3.3887, 3.3887, 3.3887, 3.3887, 3.3886, 3.3886, 3.3886, 3.3886, 3.3885, 3.3979, 3.3978, 3.3978, 3.3977, 3.3977, 3.3977, 3.3977, 3.3977, 3.3977, 3.3977, 3.3976, 3.3976, 3.3976, 3.3976, 3.3975, 3.3974, 3.3971, 3.397, 3.397, 3.3969, 3.3966, 3.3964, 3.3964, 3.3964, 3.3963, 3.3959, 3.3958, 3.3955, 3.3944, 3.3943, 3.4379, 3.4378, 3.4378, 3.4377, 3.4376, 3.4374, 3.4374, 3.4373, 3.4373, 3.4372, 3.4371, 3.437, 3.437, 3.4369, 3.4369, 3.4368, 3.4367, 3.4366, 3.4365, 3.4365, 3.4364, 3.4363, 3.4363, 3.4362, 3.4359, 3.4355, 3.4353, 3.4352, 3.4352, 3.4351, 3.4654, 3.4653, 3.4652, 3.4652, 3.4649, 3.4648, 3.4648, 3.4648, 3.4646, 3.4646, 3.4643, 3.4643, 3.4642, 3.4641, 3.4641, 3.4641, 3.464, 3.464, 3.4639, 3.4637, 3.4637, 3.4636, 3.4635, 3.4634, 3.463, 3.4628, 3.4628, 3.4626, 3.4622, 3.4621, 1.8857]}, \"token.table\": {\"Topic\": [15, 2, 15, 16, 17, 1, 19, 3, 1, 9, 9, 18, 8, 4, 19, 15, 11, 6, 5, 15, 8, 18, 4, 20, 20, 15, 2, 7, 11, 16, 13, 6, 7, 9, 17, 7, 9, 7, 11, 11, 8, 18, 6, 6, 19, 1, 18, 19, 11, 17, 10, 3, 19, 1, 12, 3, 13, 6, 1, 16, 8, 8, 14, 6, 4, 16, 20, 10, 15, 6, 1, 1, 8, 4, 20, 14, 18, 13, 18, 5, 7, 4, 8, 8, 16, 3, 10, 13, 13, 6, 3, 14, 4, 12, 11, 16, 11, 14, 3, 15, 1, 17, 13, 10, 1, 6, 4, 18, 9, 7, 10, 9, 9, 14, 15, 6, 5, 4, 20, 9, 8, 10, 1, 11, 20, 10, 10, 10, 20, 20, 10, 13, 14, 19, 3, 20, 18, 19, 17, 10, 8, 17, 15, 10, 8, 1, 5, 1, 12, 19, 6, 19, 14, 20, 11, 12, 14, 13, 19, 17, 18, 13, 4, 3, 15, 1, 20, 15, 19, 7, 20, 3, 3, 6, 14, 13, 11, 18, 2, 5, 5, 2, 19, 17, 14, 15, 20, 5, 3, 5, 10, 7, 7, 4, 14, 13, 6, 3, 17, 15, 20, 13, 2, 12, 11, 4, 12, 6, 12, 15, 4, 13, 3, 8, 11, 12, 19, 15, 12, 6, 15, 17, 7, 11, 10, 9, 3, 7, 6, 7, 8, 13, 12, 17, 11, 4, 6, 20, 12, 18, 9, 17, 13, 11, 18, 3, 3, 1, 9, 12, 11, 14, 16, 9, 7, 16, 9, 8, 15, 15, 2, 1, 13, 13, 3, 12, 10, 1, 13, 6, 19, 15, 11, 14, 17, 15, 16, 16, 14, 20, 9, 9, 17, 11, 18, 8, 1, 9, 5, 9, 16, 16, 18, 19, 1, 18, 15, 8, 2, 3, 12, 1, 2, 4, 1, 16, 17, 11, 20, 19, 16, 10, 20, 3, 12, 17, 3, 4, 15, 5, 8, 7, 12, 4, 5, 17, 5, 8, 9, 7, 20, 20, 3, 20, 19, 11, 4, 17, 11, 14, 3, 1, 12, 2, 5, 1, 16, 12, 12, 4, 1, 6, 2, 16, 4, 1, 6, 16, 2, 8, 12, 7, 18, 16, 6, 16, 2, 5, 9, 6, 18, 7, 10, 16, 4, 20, 12, 4, 11, 17, 13, 5, 18, 18, 1, 2, 13, 3, 12, 19, 5, 3, 14, 8, 17, 2, 13, 5, 4, 14, 12, 5, 5, 14, 18, 6, 14, 20, 20, 18, 11, 20, 19, 1, 19, 14, 8, 14, 8, 3, 10, 19, 18, 6, 15, 9, 16, 19, 7, 11, 20, 18, 5, 5, 15, 17, 13, 16, 4, 10, 13, 9, 3, 15, 12, 10, 5, 4, 8, 17, 4, 7, 7, 19, 12, 5, 9, 3, 9, 14, 5, 9, 2, 4, 17, 1, 3, 12, 17, 10, 17, 16, 19, 14, 20, 9, 2, 12, 11, 19, 17, 10, 18, 12, 13, 5, 1, 19, 4, 15, 9, 14, 10, 6, 6, 2, 8, 17, 1, 12, 14, 18, 19, 8, 11, 10, 5, 16, 7, 1, 7, 5, 15, 16, 8, 8, 20, 13, 18, 1, 6, 14, 19, 1, 20, 4, 14, 14, 6, 16, 17, 1, 18, 8, 10, 8, 7, 3, 19, 18, 5, 12, 18, 13, 1, 11, 9, 13, 12, 13, 13, 16, 15, 4, 20, 15, 9, 4, 16, 15, 9, 6, 17, 18, 14, 7, 10, 13, 11, 16, 14, 8, 20, 1, 12, 10, 13, 6, 8, 16, 10, 6, 3, 19, 10, 5, 6, 9, 11, 5, 11, 2, 10, 17], \"Freq\": [0.9999374995348902, 0.9990608401527179, 0.9993828447448077, 0.9983540636215616, 0.9995821504623813, 0.9954689719437201, 0.9990540794813273, 0.9975501804474186, 0.9924694309600328, 0.9983773451092407, 0.9987738789386388, 0.9986946579437853, 0.9995695151694505, 0.9990051811749583, 0.9988414460051507, 0.9990919430270915, 0.9958942911247172, 0.9970793220807186, 0.999480778422364, 0.9985718838290479, 0.998857906662591, 0.9997857416893594, 0.9994641676911677, 0.9980218419465927, 0.9981770821256727, 0.9984200846293824, 0.9987465459897086, 0.9946508555970304, 0.9988007160921628, 0.9989754692470894, 0.995863942984225, 0.9998829053157885, 0.9864178579114156, 0.9999268742470855, 0.9987326187093881, 0.9974965651986715, 0.9996281314703008, 0.9972335362189205, 0.9989829210221574, 0.9999324282022938, 0.9996718720695897, 0.9995722336775057, 0.9983573684592665, 0.993652310391967, 0.9994723397594965, 0.9951099289259537, 0.9993550085657796, 0.9989490989550356, 0.9979782914922606, 0.9989240627144395, 0.9989494621474121, 0.9986610401570365, 0.9982399380645208, 0.9975413685276211, 0.9993286220465769, 0.9980679729110796, 0.9995519130149068, 0.9992874850981505, 0.9967013527599542, 0.9998515745439088, 0.9999654104111824, 0.9993911846162437, 0.9995434737065264, 0.9990784156342954, 0.9978994551989225, 0.9980143984153607, 0.9991530695346332, 0.9994828870289203, 0.9996620573152447, 0.9999048648791335, 0.999836341987813, 0.996061427255884, 0.9993001625386965, 0.9989591854119224, 0.9996058723572322, 0.9995564810604458, 0.9997367137823437, 0.9993851364334616, 0.999742175222354, 0.9998628102331684, 0.9995876336692909, 0.9982795148669401, 0.9992041482226327, 0.9970436993044586, 0.9992618427663681, 0.9992594033648963, 0.9998512616273618, 0.998833708385515, 0.9996039990428409, 0.9999577703168399, 0.9998852314960756, 0.9986877901861819, 0.999879520638715, 0.9969718878349462, 0.9991494161595035, 0.9991389320405029, 0.9998656124572792, 0.9988162303929781, 0.9967806537230779, 0.9987057985776717, 0.9947694560000052, 0.9994057890761883, 0.999863270742807, 0.9959186921825061, 0.998809765529701, 0.9998298485968035, 0.9985705481244835, 0.9992548172073946, 0.9961510029751928, 0.9988189267411035, 0.9967499824067863, 0.9991585519778756, 0.9990822729755044, 0.9960414257273766, 0.9979104676767214, 0.9953452595601795, 0.9988223579479917, 0.9975509873872922, 0.998247828249659, 0.998224839634884, 0.9992497852199116, 0.9999314370797572, 0.9964859972244349, 0.9994571811582307, 0.9991420160907388, 0.9963237532965692, 0.9972919693707791, 0.9969265925170533, 0.9980166670934464, 0.9991798994129406, 0.9993604337937766, 0.9968260309804667, 0.9983941485032827, 0.9977994745596193, 0.9988864975832409, 0.999398811727663, 0.9989419172413614, 0.9976699571918087, 0.9985581462025669, 0.9993373025686038, 0.9978033180222142, 0.9994954717077339, 0.9978537466473363, 0.9971179606315949, 0.9990637377573972, 0.9997190048137652, 0.9982571403898632, 0.9991264718157411, 0.9977022837423057, 0.9986800244688621, 0.9922742666348578, 0.9975012446037198, 0.9974811255194016, 0.9978921011930398, 0.9976768645846456, 0.9997606275701494, 0.9979868008983416, 0.9986784337493028, 0.999765447207929, 0.9996105733761623, 0.9981940699845594, 0.9992861640228832, 0.9997027301865089, 0.9971671704002925, 0.9970757500203575, 0.999493253662033, 0.9974559627783941, 0.9977772398423271, 0.9998500560453175, 0.999208498478249, 0.9981606895518588, 0.9995962251369422, 0.9998713641682527, 0.9998730518726714, 0.9976066493776922, 0.9999667876362006, 0.9996679500482061, 0.9998570555912871, 0.9995348858534316, 0.9997405088906615, 0.999017691416475, 0.9980748272117864, 0.9995805262093727, 0.9993971335618343, 0.999419236143339, 0.9950582977916449, 0.9999128477509773, 0.9988674093044747, 0.9969832082398985, 0.9999317918473059, 0.9995410943578207, 0.9999826821669263, 0.9943009402367032, 0.9998248735156596, 0.999667751379889, 0.9992783323299459, 0.9994078989307502, 0.9999887143859746, 0.9998494406194529, 0.9995954314000222, 0.9971070160908745, 0.9970621464542577, 0.989976768882318, 0.9969626975093022, 0.9997309993994307, 0.9966459452452907, 0.9999132470763564, 0.9997512072647454, 0.9988756121270557, 0.9990595147023295, 0.9989656949419773, 0.9989306476059647, 0.9999113457357388, 0.9993843655388881, 0.9962441136130661, 0.9993277940249606, 0.9977834798983695, 0.9954219858433174, 0.996924090851835, 0.9985236874089207, 0.9991265937258049, 0.9990984534737558, 0.9983910753537523, 0.9990713615847143, 0.9983636592275573, 0.9998012930850273, 0.9988044152786785, 0.996787888901554, 0.9976716298359137, 0.9990050141025781, 0.9992387593627471, 0.9992911679762276, 0.9988430959797541, 0.9988902607658567, 0.9983294971205151, 0.9981457426253196, 0.9978395492353244, 0.9983083334441331, 0.999698977705073, 0.999191696714478, 0.9997279951252823, 0.9996208544946983, 0.9975235363245577, 0.9968275202360811, 0.9953614789236492, 0.998430070148001, 0.9943843178974628, 0.9998998353391505, 0.9998667438660955, 0.9972840644161483, 0.9992417435190396, 0.9995817823301173, 0.9988496439362582, 0.9985215163251135, 0.9986823254316083, 0.9997206462579324, 0.9972855762726893, 0.9990753013010414, 0.9975834626786729, 0.9967942993607175, 0.995649158068568, 0.9967805150493868, 0.9995687693128036, 0.9993359227235169, 0.9978456798355829, 0.9994094894934952, 0.999790244649513, 0.8926086485844191, 0.10738534553808786, 0.9995120106599883, 0.9985729304925639, 0.998477882583619, 0.9992807003504174, 0.9995991730824803, 0.9990452124680665, 0.9996443594845401, 0.9989200256173955, 0.9993859700844414, 0.9975319344931746, 0.9998235156166533, 0.9998800248756858, 0.9992907595428234, 0.9987127744844265, 0.9996595212189239, 0.9988628171252324, 0.999778612543319, 0.998799294042797, 0.999566133955218, 0.9996081414990576, 0.9973226659193304, 0.9998158637030446, 0.9979726650127794, 0.9996392251742509, 0.9993757306699068, 0.9995055656966445, 0.998528301054315, 0.9995873831742971, 0.9995767683761609, 0.9999568636835722, 0.999048860751704, 0.9994795417175901, 0.9975052367397708, 0.9379324875199786, 0.9983246931287065, 0.9997243173312841, 0.9985746017582728, 0.9985968457952233, 0.9990864948659414, 0.9965666470069953, 0.9975573167442782, 0.9977428647460641, 0.9993918039854786, 0.9989794787984329, 0.9989597857002752, 0.9983038271595742, 0.9991565580026792, 0.9949259453099981, 0.999778953685684, 0.9985580536530033, 0.9986454650660771, 0.998687400978504, 0.999711184893757, 0.9986095775921041, 0.999491505509644, 0.9972714430925882, 0.9977416878788153, 0.9986074490498361, 0.9981895993180405, 0.9982024678868247, 0.994941080750053, 0.9986361469929503, 0.9998349110472646, 0.9980840279055891, 0.999742342486857, 0.9980376966325034, 0.999489549859263, 0.9996395990393824, 0.9986918206668856, 0.9958798945322506, 0.9989711613035215, 0.9990624175655164, 0.3970671038354038, 0.6027840524096233, 0.9704594002685126, 0.9998412325445762, 0.9993995311447614, 0.999518102881983, 0.9986752955356752, 0.9975113789105523, 0.9996221977336736, 0.9953601824089603, 0.9971765708802044, 0.9992778096720895, 0.9993004254783886, 0.9988828894337323, 0.7798325516051784, 0.2201000722556552, 0.9987362318819347, 0.9999736047568722, 0.9986442627207743, 0.9977338998473773, 0.9998044829641959, 0.9977102114857079, 0.9985339869777076, 0.9997642676540051, 0.9982269284811083, 0.9989472891746487, 0.9986632827315415, 0.999816665462977, 0.9998125812031449, 0.9979682042738798, 0.9969394916634202, 0.9992725574748057, 0.9998744111354965, 0.9992290746279762, 0.9986263800687591, 0.9991991198053359, 0.9996714725083417, 0.9998069490236762, 0.9994928987067587, 0.9957810415062698, 0.9994954300055165, 0.9995236325569812, 0.9973076683396433, 0.9999405486571955, 0.9926328976293469, 0.999374437470679, 0.9993651935069392, 0.9993909699306084, 0.9990006353581811, 0.9999032944154782, 0.9954144438771346, 0.9970664089031461, 0.9994701923427011, 0.9980463141759987, 0.998833237080753, 0.9990453043736317, 0.9990987894096331, 0.9990778422521, 0.9991484498532706, 0.9997444544174957, 0.997796865548844, 0.996616701931205, 0.9998026077542872, 0.9995183085655871, 0.9996654058368688, 0.9986632321985136, 0.9988753328820629, 0.9971203244648896, 0.9994738633174868, 0.9992258884974135, 0.9989574659740498, 0.9980347947263957, 0.9970884041777458, 0.9985854111197229, 0.9993949120824833, 0.9997019891521275, 0.9989421977871806, 0.9978270254661686, 0.9995008693249735, 0.9989244493717294, 0.9995159501577449, 0.99778019210842, 0.9994711163276121, 0.99907164994865, 0.999220237887652, 0.9987697288622346, 0.9994008448253984, 0.9958375787703475, 0.9994464121855631, 0.9972077040166061, 0.9989144190764299, 0.9996028982988258, 0.9996470924106855, 0.9970143743433665, 0.9992820827520453, 0.9992964228689284, 0.9995761035328873, 0.9981074474460607, 0.9989563927060822, 0.9993531101522092, 0.9995450500515144, 0.9947267636321411, 0.9974045915832643, 0.9992326246867702, 0.9954442622939272, 0.9976255901411456, 0.9992416680735732, 0.9992556623540777, 0.9988192501815025, 0.9997682200882373, 0.9794751850938265, 0.9993673125108645, 0.9995568865647841, 0.9994302758600808, 0.9990190559760628, 0.9987636490464445, 0.9992972726082099, 0.9975694342132753, 0.9986762066283803, 0.9997518348321677, 0.9993888810345994, 0.9997559878480873, 0.9999722316980577, 0.9987255843372993, 0.9982040895130855, 0.9959258351133895, 0.9990455018687608, 0.9989747684640969, 0.998996230646684, 0.9984368790307886, 0.9996062501152645, 0.9996659882253331, 0.9995296348550387, 0.9988351628229051, 0.999825939521169, 0.9999847110045997, 0.9996840294047813, 0.9994757975396636, 0.9991048522766276, 0.9998344880908034, 0.9977588426759998, 0.9995972496906399, 0.9985830128019786, 0.9996364262644712, 0.9994781073700107, 0.9989136617116583, 0.9997211549389011, 0.9999335904383603, 0.9979098159754838, 0.9988234486663042, 0.9997962576875244, 0.9999092795200689, 0.999567351993711, 0.9971556231407821, 0.9997214008335555, 0.9987375161092198, 0.9982199637499078, 0.33609034422597933, 0.6637850579756326, 0.9984477216479238, 0.9998878418210435, 0.9985429714805142, 0.9998737677364775, 0.9972203524179201, 0.997499602321709, 0.9999523864366232, 0.9989312555327602, 0.988680000116138, 0.9989045905253314, 0.9961247467803522, 0.9997550746524206, 0.9977041105722699, 0.9995800147134893, 0.9973664691199047, 0.7938685673190417, 0.20600833834864443, 0.9997971187881676, 0.999778357532305, 0.7699356787872402, 0.23004043664142376, 0.999526923612926, 0.9981870034945223, 0.9999087245418791, 0.9991416142122311, 0.9969630942026958, 0.9998804766735501, 0.9995989050057987, 0.9956892905585698, 0.9995509430109203, 0.9986028430564664, 0.9994490561765996, 0.9997854260505668, 0.9971271042577506, 0.995518784079978, 0.9988426413393543, 0.9999669780884091, 0.9959517746796251, 0.9999193537816904, 0.9992027544133173, 0.9996878533357209, 0.9984215935061628, 0.9996448864629784, 0.9956843514597866, 0.9996126602780109, 0.997276894427706, 0.9999167279067002, 0.998970112470577, 0.9997500263020239, 0.9989473178884417, 0.9970204387128363, 0.995924682749707, 0.9975909844838606, 0.9985046973048565, 0.9988060880044705, 0.9999281419996866, 0.9997145395488772, 0.9993219101725714, 0.9993991648906112, 0.9987853082021299, 0.9985492463830903, 0.9991636050409759, 0.9995048543874967, 0.9978633375648633, 0.9998671443863899, 0.9972490332935051, 0.9998414291939784, 0.9982352730549546, 0.9991348929149805, 0.9986186604957316, 0.9986256663755926, 0.9998022116526128, 0.9984163204224956, 0.9987693490405436, 0.9999009705732529, 0.9988262160587968, 0.999528227171407, 0.992350342536086, 0.9997947448973507, 0.9991498776006312, 0.9999339581594477, 0.997974420013344, 0.9986030516583825, 0.9980901856887556, 0.9989455436509571, 0.9992213065503083, 0.9996811983808993, 0.9981657629622726, 0.999952093967453, 0.9998584202655422, 0.9995685748968072, 0.9990302717946876, 0.9989373025559904, 0.9988235181847094], \"Term\": [\"\\uac00\\uaca9\", \"\\uac00\\ub2a5\", \"\\uac00\\ub8e8\", \"\\uac00\\ub9ac\\ube44\", \"\\uac00\\uc2b4\", \"\\uac00\\uc2dc\", \"\\uac00\\uc7a5\", \"\\uac00\\uc815\", \"\\uac04\\uc774\", \"\\uac04\\uc7a5\", \"\\uac04\\ud639\", \"\\uac08\\ube44\", \"\\uac10\\uc0ac\", \"\\uac10\\uc790\", \"\\uac11\\uc790\\uae30\", \"\\uac1c\\ubcc4\", \"\\uac1c\\uc120\", \"\\uac1c\\uc2dc\", \"\\uac1c\\uc6d4\", \"\\uac1c\\uc778\", \"\\uac2f\\uc218\", \"\\uac71\\uc815\", \"\\uac74\\uac15\", \"\\uac74\\uc870\", \"\\uac80\\uc0c9\", \"\\uac80\\uc218\", \"\\uac8c\\uc2dc\\ud310\", \"\\uacac\\uacfc\\ub958\", \"\\uacb0\\uacfc\", \"\\uacb0\\uc7ac\", \"\\uacb0\\uc815\", \"\\uacb0\\uc81c\", \"\\uacbd\\uae30\", \"\\uacbd\\uc6b0\", \"\\uacc4\\ub780\", \"\\uacc4\\uc0b0\", \"\\uacc4\\uc18d\", \"\\uacc4\\uc57d\", \"\\uacc4\\uc88c\", \"\\uace0\\uac1d\", \"\\uace0\\uad6c\\ub9c8\", \"\\uace0\\uae30\", \"\\uace0\\ub824\", \"\\uace0\\uc9c0\", \"\\uace0\\ucd94\", \"\\uace4\\uc57d\", \"\\uace8\\ub4dc\", \"\\uacf1\\ucc3d\", \"\\uacf5\\uae09\", \"\\uacf5\\uc7a5\", \"\\uacf5\\uc9c0\", \"\\uacf5\\ud734\\uc77c\", \"\\uacfc\\uc77c\", \"\\uacfc\\uc790\", \"\\uacfc\\uc815\", \"\\uad00\\uacc4\", \"\\uad00\\ub828\", \"\\uad00\\uc2ec\", \"\\uad00\\ud560\", \"\\uad50\\ud658\", \"\\uad6c\\ub9e4\", \"\\uad6c\\uc131\", \"\\uad6c\\uc785\", \"\\uad6d\\ub0b4\", \"\\uad70\\ub370\", \"\\uadc0\\ub9ac\", \"\\uadf8\\ub300\\ub85c\", \"\\uadf8\\ub7a8\", \"\\uae08\\uc561\", \"\\uae08\\uc694\\uc77c\", \"\\uae08\\uc77c\", \"\\uae09\\uc99d\", \"\\uae30\\uac04\", \"\\uae30\\ub2a5\", \"\\uae30\\ubcf8\", \"\\uae30\\uc0ac\", \"\\uae30\\uc7ac\", \"\\uae30\\uc874\", \"\\uae30\\uc900\", \"\\uae30\\ud55c\", \"\\uae40\\uce58\", \"\\uaec0\\ub370\", \"\\uaecd\\uc9c8\", \"\\uaf43\\uac8c\", \"\\ub098\\uba38\\uc9c0\", \"\\ub0a0\\uc528\", \"\\ub0a0\\uc9dc\", \"\\ub0b1\\uac1c\", \"\\ub0b4\\uc6a9\", \"\\ub0b4\\uc77c\", \"\\ub0c9\\ub3d9\", \"\\ub0c9\\ub3d9\\uc2dd\\ud488\", \"\\ub0c9\\uc7a5\", \"\\ub124\\ub124\", \"\\ub178\\ub825\", \"\\ub204\\ub77d\", \"\\ub2e4\\uc2dc\", \"\\ub2e4\\uc774\\uc5b4\\ud2b8\", \"\\ub2e4\\ud06c\", \"\\ub2e8\\uc704\", \"\\ub2e8\\ud638\\ubc15\", \"\\ub2ec\\ub77c\", \"\\ub2f5\\ubcc0\", \"\\ub2f9\\uba74\", \"\\ub2f9\\uc0ac\", \"\\ub2f9\\uc77c\", \"\\ub300\\uac8c\", \"\\ub300\\ub7b5\", \"\\ub300\\ub7c9\", \"\\ub300\\ubd80\\ubd84\", \"\\ub300\\uc0c1\", \"\\ub300\\uc2e0\", \"\\ub300\\ud55c\", \"\\ub300\\ud589\", \"\\ub313\\uae00\", \"\\ub354\\ub2c8\", \"\\ub354\\uc6b1\", \"\\ub358\\ub370\", \"\\ub3c4\\ub77c\\uc9c0\", \"\\ub3c4\\uc11c\", \"\\ub3c4\\uc6c0\", \"\\ub3c4\\ucc29\", \"\\ub3c5\\uc77c\", \"\\ub3cc\\uccb4\", \"\\ub3d9\\ubd09\", \"\\ub3d9\\uc2dc\", \"\\ub3fc\\uc9c0\", \"\\ub3fc\\uc9c0\\uace0\\uae30\", \"\\ub450\\uc720\", \"\\ub4dc\\ub77c\\uc774\\uc544\\uc774\\uc2a4\", \"\\ub4f1\\ub85d\", \"\\ub514\\uce74\", \"\\ub530\\ub85c\\ub530\\ub85c\", \"\\ub545\\ucf69\", \"\\ub5a1\\ubcf6\\uc774\", \"\\ub77c\\uba74\", \"\\ub77c\\uc774\\uc2a4\", \"\\ub78d\\ub2c8\", \"\\ub808\\ubaac\", \"\\ub85c\\ub9cc\", \"\\ub85c\\uc820\\ud0dd\\ubc30\", \"\\ub86f\\ub370\", \"\\ub9ac\\ubdf0\", \"\\ub9ac\\uc5bc\", \"\\ub9ac\\uc9c0\", \"\\ub9c8\\uac10\", \"\\ub9c8\\ub298\", \"\\ub9c8\\ub9ac\", \"\\ub9c8\\uc74c\", \"\\ub9c8\\uc9c0\\ub9c9\", \"\\ub9c8\\ucf13\", \"\\ub9c8\\ud2b8\", \"\\ub9c9\\ucc3d\", \"\\ub9cc\\ub450\", \"\\ub9cc\\uc871\", \"\\ub9d0\\uc500\", \"\\ub9e4\\uc77c\", \"\\ub9e4\\uc7a5\", \"\\uba38\\uc2e0\", \"\\uba3c\\uc800\", \"\\uba40\\ud2f0\", \"\\uba54\\ubaa8\", \"\\uba54\\uc138\\uc9c0\", \"\\uba78\\uce58\", \"\\uba85\\ub780\", \"\\ubaa8\\ub4e0\", \"\\ubaa8\\uc591\", \"\\ubaa8\\uce74\", \"\\ubaa9\\uc694\\uc77c\", \"\\ubb34\\uac8c\", \"\\ubb34\\uad00\", \"\\ubb34\\ub8cc\", \"\\ubb36\\uc74c\", \"\\ubb38\\uac74\", \"\\ubb38\\uad6c\", \"\\ubb38\\uc758\", \"\\ubb38\\uc790\", \"\\ubb38\\uc81c\", \"\\ubb3c\\uac74\", \"\\ubb3c\\ub7c9\", \"\\ubb3c\\ub958\", \"\\ubb3c\\ud488\", \"\\ubb54\\uac00\", \"\\ubbf8\\ub2c8\", \"\\ubbf8\\ub9ac\", \"\\ubbf8\\ub9cc\", \"\\ubc15\\uc2a4\", \"\\ubc18\\uc601\", \"\\ubc18\\ucc2c\", \"\\ubc18\\ud488\", \"\\ubc1c\\uc0dd\", \"\\ubc1c\\uc1a1\", \"\\ubc1c\\uc8fc\", \"\\ubc29\\uae08\", \"\\ubc29\\ubb38\", \"\\ubc29\\ubc95\", \"\\ubc30\\ub2ec\", \"\\ubc30\\uc1a1\", \"\\ubc30\\uc1a1\\ube44\", \"\\ubc30\\uc1a1\\uc9c0\", \"\\ubc30\\uc999\", \"\\ubc31\\ubbf8\", \"\\ubc31\\uc124\\uae30\", \"\\ubc84\\ud130\", \"\\ubc88\\ud638\", \"\\ubca0\\ub9ac\", \"\\ubcc0\\uacbd\", \"\\ubcc0\\ub3d9\", \"\\ubcc0\\uc9c8\", \"\\ubcc4\\ub3c4\", \"\\ubcc4\\ub85c\", \"\\ubcf4\\uace0\", \"\\ubcf4\\uad00\", \"\\ubcf4\\uc2dc\", \"\\ubcf4\\uc2e0\", \"\\ubcf4\\ud1b5\", \"\\ubcf4\\ud2c0\", \"\\ubcf6\\uc74c\", \"\\ubcf6\\uc74c\\ubc25\", \"\\ubcf8\\uc0ac\", \"\\ubd09\\uc9c0\", \"\\ubd80\\uacfc\", \"\\ubd80\\ub2f4\", \"\\ubd80\\ub4dd\\uc774\", \"\\ubd80\\ubaa8\\ub2d8\", \"\\ubd80\\ubd84\", \"\\ubd80\\ud0c1\", \"\\ubd80\\ud53c\", \"\\ubd84\\ub958\", \"\\ubd84\\ub9ac\", \"\\ubd84\\ub9d0\", \"\\ubd84\\ud560\", \"\\ubd88\\uac00\", \"\\ubd88\\ub85c\", \"\\ube14\\ub799\", \"\\ube14\\ub8e8\\ubca0\\ub9ac\", \"\\ube44\\uad50\", \"\\ube44\\uc6a9\", \"\\ube44\\ud0c0\\ubbfc\", \"\\uc0ac\\uace0\", \"\\uc0ac\\uacfc\", \"\\uc0ac\\ub78c\", \"\\uc0ac\\ub791\", \"\\uc0ac\\ub824\", \"\\uc0ac\\ub9ac\", \"\\uc0ac\\uba74\", \"\\uc0ac\\uc11c\", \"\\uc0ac\\uc6a9\", \"\\uc0ac\\uc740\", \"\\uc0ac\\uc758\", \"\\uc0ac\\uc774\", \"\\uc0ac\\uc774\\uc988\", \"\\uc0ac\\uc774\\ud2b8\", \"\\uc0ac\\uc7a5\", \"\\uc0ac\\uc815\", \"\\uc0ac\\ud56d\", \"\\uc0b0\\uac04\", \"\\uc0b0\\uc9c0\", \"\\uc0b4\\uc774\", \"\\uc0bc\\uacb9\\uc0b4\", \"\\uc0c1\\uad00\", \"\\uc0c1\\ub2f4\", \"\\uc0c1\\uc138\", \"\\uc0c1\\uc628\", \"\\uc0c1\\uc774\", \"\\uc0c1\\uc790\", \"\\uc0c1\\ud0dc\", \"\\uc0c1\\ud488\", \"\\uc0c1\\ud488\", \"\\uc0c1\\ud669\", \"\\uc0c8\\ubcbd\", \"\\uc0c8\\uc6b0\", \"\\uc0d0\\ub7ec\\ub4dc\", \"\\uc0dd\\uac01\", \"\\uc0dd\\ubb3c\", \"\\uc0dd\\uc0b0\", \"\\uc0dd\\uc218\", \"\\uc11c\\ube44\\uc2a4\", \"\\uc11c\\uc6b8\", \"\\uc120\\ubb3c\", \"\\uc120\\ud0dd\", \"\\uc124\\uba85\", \"\\uc124\\uc815\", \"\\uc124\\ud0d5\", \"\\uc131\\ud568\", \"\\uc138\\ud2b8\", \"\\uc18c\\ub7c9\", \"\\uc18c\\uc2a4\", \"\\uc18c\\uc694\", \"\\uc1a1\\ub8cc\", \"\\uc1a1\\uc7a5\", \"\\uc1a1\\ud574\", \"\\uc1fc\\ud551\", \"\\uc218\\uac00\", \"\\uc218\\uac70\", \"\\uc218\\uae09\", \"\\uc218\\ub3c4\", \"\\uc218\\ub7c9\", \"\\uc218\\ub839\", \"\\uc218\\uc785\", \"\\uc218\\uc815\", \"\\uc218\\ucde8\", \"\\uc219\\uc9c0\", \"\\uc21c\\ub300\", \"\\uc21c\\ucc28\", \"\\uc2a4\\ud0c0\\ubc85\\uc2a4\", \"\\uc2a4\\ud14c\\uc774\\ud06c\", \"\\uc2a4\\ud1a0\", \"\\uc2a4\\ud2f0\\ub85c\\ud3fc\", \"\\uc2a4\\ud2f0\\ucee4\", \"\\uc2a4\\ud2f1\", \"\\uc2dc\\uae30\", \"\\uc2dc\\ub7fd\", \"\\uc2dc\\uc138\", \"\\uc2dc\\uc2a4\\ud15c\", \"\\uc2dc\\uc791\", \"\\uc2dc\\uc7a5\", \"\\uc2dd\\ud488\", \"\\uc2e0\\uacbd\", \"\\uc2e0\\uc120\", \"\\uc2e0\\uc81c\\ud488\", \"\\uc2e0\\uccad\", \"\\uc2e4\\uc218\", \"\\uc2e4\\uc628\", \"\\uc2e4\\uc81c\", \"\\uc544\\ub798\", \"\\uc544\\uba54\\ub9ac\\uce74\\ub178\", \"\\uc544\\ubaac\\ub4dc\", \"\\uc544\\uc608\", \"\\uc544\\uc774\\ub514\", \"\\uc544\\uc774\\uc2a4\", \"\\uc544\\uc774\\uc2a4\\ubc15\\uc2a4\", \"\\uc544\\uc774\\uc2a4\\ud06c\\ub9bc\", \"\\uc544\\uc774\\uc2a4\\ud329\", \"\\uc544\\uc8fc\", \"\\uc548\\ub0b4\", \"\\uc548\\uc2ec\", \"\\uc548\\uc804\", \"\\uc57d\\uc18d\", \"\\uc591\\ub150\", \"\\uc591\\ubc30\\ucd94\", \"\\uc591\\ud574\", \"\\uc591\\ud574\", \"\\uc5b4\\uc11c\", \"\\uc5b4\\uc81c\", \"\\uc5c5\\uccb4\", \"\\uc5ec\\ub7ec\", \"\\uc5ec\\ub984\", \"\\uc5ed\\uc2dc\", \"\\uc5f0\\ud734\", \"\\uc601\\uc218\\uc99d\", \"\\uc601\\ud5a5\", \"\\uc608\\uc0c1\", \"\\uc608\\uc57d\", \"\\uc608\\uc804\", \"\\uc608\\uc815\", \"\\uc608\\uc815\", \"\\uc608\\uc815\\uc77c\", \"\\uc624\\ub298\", \"\\uc624\\ub2c8\", \"\\uc624\\ub958\", \"\\uc624\\uc804\", \"\\uc624\\uc9c0\", \"\\uc624\\uc9d5\\uc5b4\", \"\\uc624\\ud6c4\", \"\\uc628\\ub3c4\", \"\\uc628\\ub77c\\uc778\", \"\\uc62c\\ud574\", \"\\uc635\\uc158\", \"\\uc644\\ub8cc\", \"\\uc694\\uac70\\ud2b8\", \"\\uc694\\ub9ac\", \"\\uc694\\uc998\", \"\\uc694\\uccad\", \"\\uc6a9\\ub7c9\", \"\\uc6a9\\uc774\", \"\\uc6b0\\ub824\", \"\\uc6b0\\uc720\", \"\\uc6b0\\uccb4\\uad6d\", \"\\uc6b4\\uc1a1\", \"\\uc6b4\\uc601\", \"\\uc6d0\\ub450\", \"\\uc6d0\\ub798\", \"\\uc6d0\\uc0b0\\uc9c0\", \"\\uc6d4\\uc694\\uc77c\", \"\\uc704\\ub85c\", \"\\uc704\\ud574\", \"\\uc720\\uae30\\ub18d\", \"\\uc720\\uc0b0\\uade0\", \"\\uc720\\uc9c0\", \"\\uc720\\ud1b5\", \"\\uc720\\ud1b5\\uae30\\uac04\", \"\\uc74c\\ub8cc\", \"\\uc758\\uc8fc\", \"\\uc774\\uac74\", \"\\uc774\\uad6c\", \"\\uc774\\uae30\", \"\\uc774\\ub0b4\", \"\\uc774\\ub3d9\", \"\\uc774\\uba74\", \"\\uc774\\ubca4\\ud2b8\", \"\\uc774\\uc138\", \"\\uc774\\uc678\", \"\\uc774\\uc6a9\", \"\\uc774\\uc720\", \"\\uc774\\uc804\", \"\\uc774\\uc81c\", \"\\uc774\\ud2c0\", \"\\uc774\\ud558\", \"\\uc775\\uc77c\", \"\\uc778\\ubd84\", \"\\uc778\\uc9c0\", \"\\uc778\\ud130\\ub137\", \"\\uc778\\ud558\", \"\\uc77c\\uad04\", \"\\uc77c\\ub9ac\", \"\\uc77c\\ubc18\", \"\\uc77c\\ubd80\", \"\\uc77c\\uc2dc\", \"\\uc77c\\uc694\\uc77c\", \"\\uc77c\\uc774\", \"\\uc77c\\uc815\", \"\\uc77c\\ucd9c\", \"\\uc785\\uae08\", \"\\uc785\\ub825\", \"\\uc790\\ub3d9\", \"\\uc790\\ubabd\", \"\\uc790\\uc5f0\", \"\\uc790\\uc8fc\", \"\\uc790\\uccb4\", \"\\uc791\\ub450\", \"\\uc791\\uc131\", \"\\uc791\\uc5c5\", \"\\uc798\\ubabb\", \"\\uc7a5\\ub09c\", \"\\uc7a5\\ubc14\\uad6c\\ub2c8\", \"\\uc7ac\\uace0\", \"\\uc7ac\\ub8cc\", \"\\uc7ac\\uc8fc\", \"\\uc7ac\\ud574\", \"\\uc800\\ubc88\", \"\\uc801\\uc6a9\", \"\\uc804\\uad6d\", \"\\uc804\\ub0a0\", \"\\uc804\\ub2ec\", \"\\uc804\\ubb38\\uc758\", \"\\uc804\\uc0b0\", \"\\uc804\\uccb4\", \"\\uc804\\ud600\", \"\\uc804\\ud654\", \"\\uc811\\uc218\", \"\\uc813\\uac00\\ub77d\", \"\\uc815\\ub9d0\", \"\\uc815\\ubcf4\", \"\\uc815\\uc0c1\", \"\\uc815\\ud488\", \"\\uc81c\\uacf5\", \"\\uc81c\\uc678\", \"\\uc81c\\uc77c\", \"\\uc81c\\uc791\", \"\\uc81c\\uc870\", \"\\uc81c\\uc8fc\", \"\\uc81c\\uc8fc\\ub3c4\", \"\\uc81c\\ud488\", \"\\uc81c\\ud55c\", \"\\uc824\\ub9ac\", \"\\uc870\\uac74\", \"\\uc870\\uc0ac\", \"\\uc870\\uc5c5\", \"\\uc870\\uc815\", \"\\uc870\\uce58\", \"\\uc870\\ud68c\", \"\\uc885\\ub8cc\", \"\\uc885\\ub958\", \"\\uc885\\uc774\", \"\\uc8fc\\ub9d0\", \"\\uc8fc\\ubb38\", \"\\uc8fc\\uc18c\", \"\\uc8fc\\uc18c\\uc9c0\", \"\\uc8fc\\uc2ec\", \"\\uc900\\ube44\", \"\\uc911\\ub2e8\", \"\\uc911\\ub7c9\", \"\\uc911\\ubcf5\", \"\\uc911\\uc774\", \"\\uc911\\uc778\", \"\\uc99d\\uac00\", \"\\uc99d\\uc815\", \"\\uc9c0\\uae08\", \"\\uc9c0\\ub09c\\ubc88\", \"\\uc9c0\\ubc29\", \"\\uc9c0\\uc5ed\", \"\\uc9c0\\uc5f0\", \"\\uc9c0\\uc815\", \"\\uc9c0\\uc815\\uc740\", \"\\uc9c1\\uc811\", \"\\uc9c4\\uc2ec\", \"\\uc9c4\\uc9dc\", \"\\uc9c4\\ud589\", \"\\uc9c4\\ud589\", \"\\uc9c8\\ubb38\", \"\\ucc28\\uc774\", \"\\ucc29\\uc624\", \"\\ucc38\\uace0\", \"\\ucc39\\uc300\", \"\\ucc3d\\uace0\", \"\\ucc98\\ub9ac\", \"\\ucc98\\uc74c\", \"\\uccad\\uc8fc\", \"\\ucd08\\ucf54\", \"\\ucd1d\\uac01\", \"\\ucd5c\\uadfc\", \"\\ucd5c\\ub300\", \"\\ucd5c\\ub300\\ud55c\", \"\\ucd5c\\uc18c\", \"\\ucd94\\uac00\", \"\\ucd94\\uac00\", \"\\ucd94\\uc11d\", \"\\ucd94\\ucc9c\", \"\\ucd9c\\uace0\", \"\\ucd9c\\uace0\", \"\\ucd9c\\ubc1c\", \"\\ucde8\\uae09\", \"\\ucde8\\uc18c\", \"\\uce58\\uc988\", \"\\uce58\\ud0a8\", \"\\ucea1\\uc290\", \"\\ucee4\\ud53c\", \"\\ucf00\\uc77c\", \"\\ucf5c\\ub77c\\uac90\", \"\\ucfe0\\ud0a4\", \"\\ucfe0\\ud3f0\", \"\\ud06c\\uae30\", \"\\ud0a4\\ub85c\", \"\\ud0a4\\uc704\", \"\\ud0ac\\ub85c\", \"\\ud0dd\\ubc30\", \"\\ud130\\ubbf8\\ub110\", \"\\ud1a0\\uc694\\uc77c\", \"\\ud1b5\\uad00\", \"\\ud1b5\\uc6b4\", \"\\ud1b5\\ud574\", \"\\ud2b9\\uc131\", \"\\ud2b9\\uc815\", \"\\ud30c\\uc190\", \"\\ud30c\\uc6b0\\ub354\", \"\\ud310\\ub9e4\", \"\\ud328\\ud0a4\\uc9c0\", \"\\ud37c\\uc13c\\ud2b8\", \"\\ud398\\uc774\\uc9c0\", \"\\ud398\\uc778\", \"\\ud3b8\\uc774\", \"\\ud3c9\\uade0\", \"\\ud3d0\\uae30\", \"\\ud3ec\\uae30\", \"\\ud3ec\\uc7a5\", \"\\ud3ec\\ud568\", \"\\ud3ed\\uc8fc\", \"\\ud45c\\uae30\", \"\\ud45c\\uc2dc\", \"\\ud488\\ubaa9\", \"\\ud488\\uc9c8\", \"\\ud504\\ub85c\", \"\\ud53c\\uc790\", \"\\ud558\\ub098\\uc694\", \"\\ud558\\ub2c8\", \"\\ud558\\ub8e8\", \"\\ud55c\\uad6d\", \"\\ud55c\\ubc88\", \"\\ud55c\\uc815\", \"\\ud55c\\uc9c4\\ud0dd\\ubc30\", \"\\ud560\\uc778\", \"\\ud569\\ud3ec\", \"\\ud56d\\uc0c1\", \"\\ud574\\ub2f9\", \"\\ud574\\ub3c4\", \"\\ud574\\uc678\", \"\\ud587\\ubc18\", \"\\ud589\\uc0ac\", \"\\ud604\\ubbf8\", \"\\ud604\\uc7ac\", \"\\ud604\\uc9c0\", \"\\ud615\\ud0dc\", \"\\ud638\\ub450\", \"\\ud63c\\ud569\", \"\\ud64d\\uac8c\", \"\\ud64d\\uc0bc\", \"\\ud655\\ub2f5\", \"\\ud655\\uc778\", \"\\ud658\\ubd88\", \"\\ud68c\\uc0ac\", \"\\ud6c4\\uae30\", \"\\ud734\\uac00\", \"\\ud76c\\ub9dd\"]}, \"R\": 30, \"lambda.step\": 0.01, \"plot.opts\": {\"xlab\": \"PC1\", \"ylab\": \"PC2\"}, \"topic.order\": [1, 9, 8, 12, 3, 5, 14, 13, 2, 10, 7, 4, 15, 17, 11, 19, 20, 6, 18, 16]};\n",
              "\n",
              "function LDAvis_load_lib(url, callback){\n",
              "  var s = document.createElement('script');\n",
              "  s.src = url;\n",
              "  s.async = true;\n",
              "  s.onreadystatechange = s.onload = callback;\n",
              "  s.onerror = function(){console.warn(\"failed to load library \" + url);};\n",
              "  document.getElementsByTagName(\"head\")[0].appendChild(s);\n",
              "}\n",
              "\n",
              "if(typeof(LDAvis) !== \"undefined\"){\n",
              "   // already loaded: just create the visualization\n",
              "   !function(LDAvis){\n",
              "       new LDAvis(\"#\" + \"ldavis_el3081392768925478727429330602\", ldavis_el3081392768925478727429330602_data);\n",
              "   }(LDAvis);\n",
              "}else if(typeof define === \"function\" && define.amd){\n",
              "   // require.js is available: use it to load d3/LDAvis\n",
              "   require.config({paths: {d3: \"https://d3js.org/d3.v5\"}});\n",
              "   require([\"d3\"], function(d3){\n",
              "      window.d3 = d3;\n",
              "      LDAvis_load_lib(\"https://cdn.jsdelivr.net/gh/bmabey/pyLDAvis@3.4.0/pyLDAvis/js/ldavis.v3.0.0.js\", function(){\n",
              "        new LDAvis(\"#\" + \"ldavis_el3081392768925478727429330602\", ldavis_el3081392768925478727429330602_data);\n",
              "      });\n",
              "    });\n",
              "}else{\n",
              "    // require.js not available: dynamically load d3 & LDAvis\n",
              "    LDAvis_load_lib(\"https://d3js.org/d3.v5.js\", function(){\n",
              "         LDAvis_load_lib(\"https://cdn.jsdelivr.net/gh/bmabey/pyLDAvis@3.4.0/pyLDAvis/js/ldavis.v3.0.0.js\", function(){\n",
              "                 new LDAvis(\"#\" + \"ldavis_el3081392768925478727429330602\", ldavis_el3081392768925478727429330602_data);\n",
              "            })\n",
              "         });\n",
              "}\n",
              "</script>"
            ]
          },
          "metadata": {},
          "execution_count": 60
        }
      ]
    }
  ]
}